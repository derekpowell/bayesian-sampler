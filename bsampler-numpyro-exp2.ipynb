{
 "cells": [
  {
   "cell_type": "code",
   "execution_count": 187,
   "id": "characteristic-surfing",
   "metadata": {},
   "outputs": [
    {
     "name": "stderr",
     "output_type": "stream",
     "text": [
      "/usr/local/lib/python3.6/dist-packages/pandas/core/strings.py:2001: UserWarning: This pattern has match groups. To actually get the groups, use str.extract.\n",
      "  return func(self, *args, **kwargs)\n",
      "/usr/local/lib/python3.6/dist-packages/pandas/core/strings.py:2001: UserWarning: This pattern has match groups. To actually get the groups, use str.extract.\n",
      "  return func(self, *args, **kwargs)\n"
     ]
    },
    {
     "data": {
      "text/html": [
       "<div>\n",
       "<style scoped>\n",
       "    .dataframe tbody tr th:only-of-type {\n",
       "        vertical-align: middle;\n",
       "    }\n",
       "\n",
       "    .dataframe tbody tr th {\n",
       "        vertical-align: top;\n",
       "    }\n",
       "\n",
       "    .dataframe thead th {\n",
       "        text-align: right;\n",
       "    }\n",
       "</style>\n",
       "<table border=\"1\" class=\"dataframe\">\n",
       "  <thead>\n",
       "    <tr style=\"text-align: right;\">\n",
       "      <th></th>\n",
       "      <th>querydetail</th>\n",
       "      <th>querytype</th>\n",
       "      <th>ID</th>\n",
       "      <th>estimate</th>\n",
       "      <th>coldrainy</th>\n",
       "      <th>conjdisj_trial</th>\n",
       "    </tr>\n",
       "  </thead>\n",
       "  <tbody>\n",
       "    <tr>\n",
       "      <th>0</th>\n",
       "      <td>cold</td>\n",
       "      <td>A</td>\n",
       "      <td>0</td>\n",
       "      <td>0.676667</td>\n",
       "      <td>1</td>\n",
       "      <td>0</td>\n",
       "    </tr>\n",
       "    <tr>\n",
       "      <th>1</th>\n",
       "      <td>windy</td>\n",
       "      <td>A</td>\n",
       "      <td>0</td>\n",
       "      <td>0.733333</td>\n",
       "      <td>0</td>\n",
       "      <td>0</td>\n",
       "    </tr>\n",
       "    <tr>\n",
       "      <th>2</th>\n",
       "      <td>cold and rainy</td>\n",
       "      <td>AandB</td>\n",
       "      <td>0</td>\n",
       "      <td>0.760000</td>\n",
       "      <td>1</td>\n",
       "      <td>1</td>\n",
       "    </tr>\n",
       "    <tr>\n",
       "      <th>3</th>\n",
       "      <td>windy and cloudy</td>\n",
       "      <td>AandB</td>\n",
       "      <td>0</td>\n",
       "      <td>0.773333</td>\n",
       "      <td>0</td>\n",
       "      <td>1</td>\n",
       "    </tr>\n",
       "    <tr>\n",
       "      <th>4</th>\n",
       "      <td>cold and not rainy</td>\n",
       "      <td>AandnotB</td>\n",
       "      <td>0</td>\n",
       "      <td>0.753333</td>\n",
       "      <td>1</td>\n",
       "      <td>1</td>\n",
       "    </tr>\n",
       "    <tr>\n",
       "      <th>...</th>\n",
       "      <td>...</td>\n",
       "      <td>...</td>\n",
       "      <td>...</td>\n",
       "      <td>...</td>\n",
       "      <td>...</td>\n",
       "      <td>...</td>\n",
       "    </tr>\n",
       "    <tr>\n",
       "      <th>3355</th>\n",
       "      <td>not rainy</td>\n",
       "      <td>notB</td>\n",
       "      <td>83</td>\n",
       "      <td>0.246667</td>\n",
       "      <td>1</td>\n",
       "      <td>0</td>\n",
       "    </tr>\n",
       "    <tr>\n",
       "      <th>3356</th>\n",
       "      <td>not cloudy given windy</td>\n",
       "      <td>notBgA</td>\n",
       "      <td>83</td>\n",
       "      <td>0.416667</td>\n",
       "      <td>0</td>\n",
       "      <td>0</td>\n",
       "    </tr>\n",
       "    <tr>\n",
       "      <th>3357</th>\n",
       "      <td>not rainy given cold</td>\n",
       "      <td>notBgA</td>\n",
       "      <td>83</td>\n",
       "      <td>0.500000</td>\n",
       "      <td>1</td>\n",
       "      <td>0</td>\n",
       "    </tr>\n",
       "    <tr>\n",
       "      <th>3358</th>\n",
       "      <td>not cloudy given not windy</td>\n",
       "      <td>notBgnotA</td>\n",
       "      <td>83</td>\n",
       "      <td>0.326667</td>\n",
       "      <td>0</td>\n",
       "      <td>0</td>\n",
       "    </tr>\n",
       "    <tr>\n",
       "      <th>3359</th>\n",
       "      <td>not rainy given not cold</td>\n",
       "      <td>notBgnotA</td>\n",
       "      <td>83</td>\n",
       "      <td>0.400000</td>\n",
       "      <td>1</td>\n",
       "      <td>0</td>\n",
       "    </tr>\n",
       "  </tbody>\n",
       "</table>\n",
       "<p>3360 rows × 6 columns</p>\n",
       "</div>"
      ],
      "text/plain": [
       "                      querydetail  querytype  ID  estimate  coldrainy  \\\n",
       "0                            cold          A   0  0.676667          1   \n",
       "1                           windy          A   0  0.733333          0   \n",
       "2                  cold and rainy      AandB   0  0.760000          1   \n",
       "3                windy and cloudy      AandB   0  0.773333          0   \n",
       "4              cold and not rainy   AandnotB   0  0.753333          1   \n",
       "...                           ...        ...  ..       ...        ...   \n",
       "3355                    not rainy       notB  83  0.246667          1   \n",
       "3356       not cloudy given windy     notBgA  83  0.416667          0   \n",
       "3357         not rainy given cold     notBgA  83  0.500000          1   \n",
       "3358   not cloudy given not windy  notBgnotA  83  0.326667          0   \n",
       "3359     not rainy given not cold  notBgnotA  83  0.400000          1   \n",
       "\n",
       "      conjdisj_trial  \n",
       "0                  0  \n",
       "1                  0  \n",
       "2                  1  \n",
       "3                  1  \n",
       "4                  1  \n",
       "...              ...  \n",
       "3355               0  \n",
       "3356               0  \n",
       "3357               0  \n",
       "3358               0  \n",
       "3359               0  \n",
       "\n",
       "[3360 rows x 6 columns]"
      ]
     },
     "execution_count": 187,
     "metadata": {},
     "output_type": "execute_result"
    }
   ],
   "source": [
    "%config IPCompleter.use_jedi = False\n",
    "import numpyro\n",
    "\n",
    "numpyro.util.set_host_device_count(4)\n",
    "import numpyro.distributions as dist\n",
    "\n",
    "from jax import numpy as jnp\n",
    "from jax import random\n",
    "from numpyro.infer import MCMC, NUTS\n",
    "\n",
    "# import pyro.infer\n",
    "# import pyro.optim\n",
    "# import pyro.distributions as dist\n",
    "# from pyro.infer import Importance, EmpiricalMarginal\n",
    "\n",
    "import numpy as np\n",
    "import pandas as pd\n",
    "import seaborn as sns\n",
    "import functools\n",
    "from dfply import *\n",
    "import glob\n",
    "\n",
    "%run -i 'model_helpers.py'\n",
    "\n",
    "# glob.glob('data*.csv') - returns List[str]\n",
    "# pd.read_csv(f) - returns pd.DataFrame()\n",
    "# for f in glob.glob() - returns a List[DataFrames]\n",
    "# pd.concat() - returns one pd.DataFrame()\n",
    "df = pd.concat([pd.read_csv(f) for f in glob.glob('osfstorage-archive/Experiment 2/*.csv')], ignore_index = True)\n",
    "\n",
    "fix_id_dict = dict()\n",
    "original_ids = list(np.unique(df.ID))\n",
    "\n",
    "for i in range(0, len(original_ids)):\n",
    "    fix_id_dict[original_ids[i]] = i\n",
    "\n",
    "       \n",
    "\n",
    "df = (df >> \n",
    "     filter_by(~X.querydetail.str.contains(\"(warm|snowy)\")) >>\n",
    "      mutate(estimate = X.estimate/100.) >>\n",
    "      group_by(X.ID, X.querytype, X.querydetail) >>\n",
    "      summarize(estimate = np.mean(X.estimate)) >>\n",
    "      mutate(coldrainy = X.querydetail.str.contains(\"(cold|rainy)\").astype(\"int\")) >>\n",
    "      mutate(estimate = X.estimate.replace({0:.01, 1:.99})) >>\n",
    "      mutate(conjdisj_trial = X.querytype.apply(is_conjdisj)) >>\n",
    "      mutate(ID = X.ID.apply(lambda x: fix_id_dict[x]))\n",
    "     )\n",
    "\n",
    "df"
   ]
  },
  {
   "cell_type": "code",
   "execution_count": 191,
   "id": "brown-reach",
   "metadata": {},
   "outputs": [
    {
     "data": {
      "text/html": [
       "<div>\n",
       "<style scoped>\n",
       "    .dataframe tbody tr th:only-of-type {\n",
       "        vertical-align: middle;\n",
       "    }\n",
       "\n",
       "    .dataframe tbody tr th {\n",
       "        vertical-align: top;\n",
       "    }\n",
       "\n",
       "    .dataframe thead th {\n",
       "        text-align: right;\n",
       "    }\n",
       "</style>\n",
       "<table border=\"1\" class=\"dataframe\">\n",
       "  <thead>\n",
       "    <tr style=\"text-align: right;\">\n",
       "      <th></th>\n",
       "      <th>querydetail</th>\n",
       "      <th>querytype</th>\n",
       "      <th>ID</th>\n",
       "      <th>estimate</th>\n",
       "      <th>coldrainy</th>\n",
       "      <th>conjdisj_trial</th>\n",
       "    </tr>\n",
       "  </thead>\n",
       "  <tbody>\n",
       "    <tr>\n",
       "      <th>0</th>\n",
       "      <td>cold</td>\n",
       "      <td>A</td>\n",
       "      <td>0</td>\n",
       "      <td>0.676667</td>\n",
       "      <td>1</td>\n",
       "      <td>0</td>\n",
       "    </tr>\n",
       "    <tr>\n",
       "      <th>1</th>\n",
       "      <td>windy</td>\n",
       "      <td>A</td>\n",
       "      <td>0</td>\n",
       "      <td>0.733333</td>\n",
       "      <td>0</td>\n",
       "      <td>0</td>\n",
       "    </tr>\n",
       "    <tr>\n",
       "      <th>2</th>\n",
       "      <td>cold and rainy</td>\n",
       "      <td>AandB</td>\n",
       "      <td>0</td>\n",
       "      <td>0.760000</td>\n",
       "      <td>1</td>\n",
       "      <td>1</td>\n",
       "    </tr>\n",
       "    <tr>\n",
       "      <th>3</th>\n",
       "      <td>windy and cloudy</td>\n",
       "      <td>AandB</td>\n",
       "      <td>0</td>\n",
       "      <td>0.773333</td>\n",
       "      <td>0</td>\n",
       "      <td>1</td>\n",
       "    </tr>\n",
       "    <tr>\n",
       "      <th>4</th>\n",
       "      <td>cold and not rainy</td>\n",
       "      <td>AandnotB</td>\n",
       "      <td>0</td>\n",
       "      <td>0.753333</td>\n",
       "      <td>1</td>\n",
       "      <td>1</td>\n",
       "    </tr>\n",
       "  </tbody>\n",
       "</table>\n",
       "</div>"
      ],
      "text/plain": [
       "           querydetail querytype  ID  estimate  coldrainy  conjdisj_trial\n",
       "0                 cold         A   0  0.676667          1               0\n",
       "1                windy         A   0  0.733333          0               0\n",
       "2       cold and rainy     AandB   0  0.760000          1               1\n",
       "3     windy and cloudy     AandB   0  0.773333          0               1\n",
       "4   cold and not rainy  AandnotB   0  0.753333          1               1"
      ]
     },
     "execution_count": 191,
     "metadata": {},
     "output_type": "execute_result"
    }
   ],
   "source": [
    "\n",
    "\n",
    "df_test = df\n",
    "# df_test = df >> filter_by(X.conjdisj_trial==0)\n",
    "# df_test = df >> filter_by(X.coldrainy==1)\n",
    "\n",
    "trial_list = list(df_test.querytype)\n",
    "X_num = jnp.stack([num_vecs[trial] for trial in trial_list])\n",
    "X_denom = jnp.stack([denom_vecs[trial] for trial in trial_list])\n",
    "\n",
    "X_data = {\n",
    "    \"trial\": trial_list,\n",
    "    \"X_num\": X_num,\n",
    "    \"X_denom\": X_denom,\n",
    "    \"subj\": jnp.array(list(df_test.ID)),\n",
    "    \"conjdisj_trial\": jnp.array(list(df_test.conjdisj_trial)),\n",
    "    \"cond\": jnp.array(list(df_test.coldrainy)).astype(\"int32\")\n",
    "#     \"block\": jnp.array(list(df_test.block))\n",
    "}\n",
    "\n",
    "y_data = jnp.array(df_test.estimate.to_numpy())\n",
    "# df_test.ID.unique()\n",
    "df_test.head()"
   ]
  },
  {
   "cell_type": "code",
   "execution_count": 234,
   "id": "incident-humanitarian",
   "metadata": {},
   "outputs": [],
   "source": [
    "def bayesian_sampler_complex(data, y=None):\n",
    "\n",
    "    n_Ps = len(np.unique(data[\"subj\"]))\n",
    "    n_conds = len(np.unique(data[\"cond\"]))\n",
    "    trial = data[\"trial\"]\n",
    "    subj = data[\"subj\"]\n",
    "    cond = data[\"cond\"]\n",
    "    \n",
    "    not_conjdisj = abs(1-data[\"conjdisj_trial\"])\n",
    "\n",
    "    # population level parameters/priors\n",
    "    sigma = numpyro.sample(\"sigma\", dist.HalfCauchy(.1)) # for Normal() response noise version\n",
    "#     k = numpyro.sample(\"k\", dist.HalfNormal(50)) # noise parameter\n",
    "\n",
    "    # need a beta, and N's per person\n",
    "    with numpyro.plate(\"subj\", n_Ps):\n",
    "        betas = numpyro.sample(\"beta\", dist.Uniform(0.0, 1.0)) # bounded to [0,1] as in paper\n",
    "        N_deltas = numpyro.sample(\"N_delta\", dist.HalfCauchy(10))\n",
    "        N_primes = numpyro.sample(\"N_prime\", dist.HalfCauchy(10))\n",
    "        \n",
    "        # need a theta per person-query\n",
    "    with numpyro.plate(\"cond\", n_Ps*n_conds):\n",
    "        thetas = numpyro.sample(\"theta\", dist.Dirichlet(jnp.ones(4)))\n",
    "    \n",
    "    N = 1 + N_primes[subj] + N_deltas[subj] * not_conjdisj # they required N be at least 1, no pooling for now\n",
    "    \n",
    "    beta = betas[subj]\n",
    "    theta_ind = ((subj*2)+cond)\n",
    "    theta = thetas[theta_ind,:]\n",
    "        \n",
    "    numerator = jnp.sum(theta*data[\"X_num\"], axis=-1)\n",
    "    denom = jnp.sum(theta*data[\"X_denom\"], axis=-1)\n",
    "    pi = jnp.divide(numerator, denom)\n",
    "    p_bs = pi * N / (N + 2.*beta) + beta/(N + 2.*beta)\n",
    "\n",
    "    with numpyro.plate(\"data\", len(trial)):\n",
    "        yhat = numpyro.sample(\"yhat\", dist.Normal(p_bs, sigma), obs = y) # wrong but replicates paper\n",
    "#         yhat = numpyro.sample(\"yhat\", dist.Beta(p_bs*k, (1-p_bs)*k), obs=y)\n",
    "    \n",
    "    return yhat"
   ]
  },
  {
   "cell_type": "code",
   "execution_count": 235,
   "id": "loved-camcorder",
   "metadata": {},
   "outputs": [
    {
     "data": {
      "application/vnd.jupyter.widget-view+json": {
       "model_id": "08dd4312718d4322aa1b7dadad59914e",
       "version_major": 2,
       "version_minor": 0
      },
      "text/plain": [
       "  0%|          | 0/4000 [00:00<?, ?it/s]"
      ]
     },
     "metadata": {},
     "output_type": "display_data"
    },
    {
     "data": {
      "application/vnd.jupyter.widget-view+json": {
       "model_id": "d93f3b3ed8e94366b2707dbec32d6bb0",
       "version_major": 2,
       "version_minor": 0
      },
      "text/plain": [
       "  0%|          | 0/4000 [00:00<?, ?it/s]"
      ]
     },
     "metadata": {},
     "output_type": "display_data"
    }
   ],
   "source": [
    "\n",
    "from jax import random\n",
    "from numpyro.infer import MCMC, NUTS\n",
    "\n",
    "# numpyro.enable_validation()\n",
    "nuts_kernel = NUTS(bayesian_sampler_complex, target_accept_prob=.80)\n",
    "mcmc = MCMC(nuts_kernel, num_warmup=2000, num_samples=2_000, num_chains=2)\n",
    "rng_key = random.PRNGKey(0)\n",
    "mcmc.run(rng_key, X_data, y_data)"
   ]
  },
  {
   "cell_type": "code",
   "execution_count": 244,
   "id": "attended-archives",
   "metadata": {},
   "outputs": [],
   "source": [
    "# mcmc.print_summary()"
   ]
  },
  {
   "cell_type": "code",
   "execution_count": 237,
   "id": "finnish-edinburgh",
   "metadata": {},
   "outputs": [
    {
     "name": "stderr",
     "output_type": "stream",
     "text": [
      "/usr/local/lib/python3.6/dist-packages/arviz/stats/stats.py:1407: UserWarning: For one or more samples the posterior variance of the log predictive densities exceeds 0.4. This could be indication of WAIC starting to fail. \n",
      "See http://arxiv.org/abs/1507.04544 for details\n",
      "  \"For one or more samples the posterior variance of the log predictive \"\n"
     ]
    },
    {
     "data": {
      "text/plain": [
       "Computed from 4000 by 3360 log-likelihood matrix\n",
       "\n",
       "              Estimate       SE\n",
       "deviance_waic -3571.71    84.71\n",
       "p_waic          468.79        -\n",
       "\n",
       "There has been a warning during the calculation. Please check the results."
      ]
     },
     "execution_count": 237,
     "metadata": {},
     "output_type": "execute_result"
    }
   ],
   "source": [
    "import arviz as az\n",
    "from numpyro.infer import Predictive\n",
    "from jax.random import PRNGKey\n",
    "\n",
    "posterior_samples = mcmc.get_samples()\n",
    "# posterior = Predictive(bayesian_sampler_complex, posterior_samples)\n",
    "\n",
    "posterior_predictive = Predictive(bayesian_sampler_complex, posterior_samples)(\n",
    "    PRNGKey(1), X_data\n",
    ")\n",
    "prior = Predictive(bayesian_sampler_complex, num_samples=500)(\n",
    "    PRNGKey(2), X_data\n",
    ")\n",
    "\n",
    "numpyro_data = az.from_numpyro(\n",
    "    mcmc,\n",
    "    prior = prior,\n",
    "    posterior_predictive = posterior_predictive\n",
    ")\n",
    "\n",
    "az.waic(numpyro_data, scale=\"deviance\")"
   ]
  },
  {
   "cell_type": "code",
   "execution_count": 238,
   "id": "earlier-asset",
   "metadata": {},
   "outputs": [
    {
     "data": {
      "text/plain": [
       "<AxesSubplot:xlabel='yhat'>"
      ]
     },
     "execution_count": 238,
     "metadata": {},
     "output_type": "execute_result"
    },
    {
     "data": {
      "image/png": "[encoded data removed]",
      "text/plain": [
       "<Figure size 432x288 with 1 Axes>"
      ]
     },
     "metadata": {
      "needs_background": "light"
     },
     "output_type": "display_data"
    }
   ],
   "source": [
    "az.plot_ppc(numpyro_data, data_pairs={\"yhat\":\"yhat\"},num_pp_samples=500)"
   ]
  },
  {
   "cell_type": "code",
   "execution_count": 239,
   "id": "identical-poultry",
   "metadata": {},
   "outputs": [
    {
     "data": {
      "text/plain": [
       "<AxesSubplot:xlabel='preds', ylabel='estimate'>"
      ]
     },
     "execution_count": 239,
     "metadata": {},
     "output_type": "execute_result"
    },
    {
     "data": {
      "image/png": "[encoded data removed]",
      "text/plain": [
       "<Figure size 432x288 with 1 Axes>"
      ]
     },
     "metadata": {
      "needs_background": "light"
     },
     "output_type": "display_data"
    }
   ],
   "source": [
    "df_test[\"preds\"] = numpyro_data.posterior_predictive.mean(dim=['chain', 'draw']).yhat\n",
    "\n",
    "df_test.plot.scatter(x = \"preds\", y = \"estimate\")"
   ]
  },
  {
   "cell_type": "code",
   "execution_count": 240,
   "id": "cheap-township",
   "metadata": {},
   "outputs": [
    {
     "data": {
      "text/html": [
       "<div>\n",
       "<style scoped>\n",
       "    .dataframe tbody tr th:only-of-type {\n",
       "        vertical-align: middle;\n",
       "    }\n",
       "\n",
       "    .dataframe tbody tr th {\n",
       "        vertical-align: top;\n",
       "    }\n",
       "\n",
       "    .dataframe thead th {\n",
       "        text-align: right;\n",
       "    }\n",
       "</style>\n",
       "<table border=\"1\" class=\"dataframe\">\n",
       "  <thead>\n",
       "    <tr style=\"text-align: right;\">\n",
       "      <th></th>\n",
       "      <th>estimate</th>\n",
       "      <th>preds</th>\n",
       "    </tr>\n",
       "  </thead>\n",
       "  <tbody>\n",
       "    <tr>\n",
       "      <th>estimate</th>\n",
       "      <td>1.000000</td>\n",
       "      <td>0.669402</td>\n",
       "    </tr>\n",
       "    <tr>\n",
       "      <th>preds</th>\n",
       "      <td>0.669402</td>\n",
       "      <td>1.000000</td>\n",
       "    </tr>\n",
       "  </tbody>\n",
       "</table>\n",
       "</div>"
      ],
      "text/plain": [
       "          estimate     preds\n",
       "estimate  1.000000  0.669402\n",
       "preds     0.669402  1.000000"
      ]
     },
     "execution_count": 240,
     "metadata": {},
     "output_type": "execute_result"
    }
   ],
   "source": [
    "df_test[[\"estimate\",\"preds\"]].corr()"
   ]
  },
  {
   "cell_type": "code",
   "execution_count": 241,
   "id": "coastal-lover",
   "metadata": {},
   "outputs": [
    {
     "data": {
      "text/plain": [
       "<AxesSubplot:xlabel='mean_pred', ylabel='mean_est'>"
      ]
     },
     "execution_count": 241,
     "metadata": {},
     "output_type": "execute_result"
    },
    {
     "data": {
      "image/png": "[encoded data removed]",
      "text/plain": [
       "<Figure size 432x288 with 1 Axes>"
      ]
     },
     "metadata": {
      "needs_background": "light"
     },
     "output_type": "display_data"
    }
   ],
   "source": [
    "plot_df = df_test >> group_by(X.querytype, X.querydetail) >> summarize(mean_pred = np.mean(X.preds), mean_est = np.mean(X.estimate))\n",
    "plot_df.plot.scatter(x=\"mean_pred\", y=\"mean_est\")"
   ]
  },
  {
   "cell_type": "code",
   "execution_count": 242,
   "id": "younger-shaft",
   "metadata": {},
   "outputs": [
    {
     "data": {
      "text/html": [
       "<div>\n",
       "<style scoped>\n",
       "    .dataframe tbody tr th:only-of-type {\n",
       "        vertical-align: middle;\n",
       "    }\n",
       "\n",
       "    .dataframe tbody tr th {\n",
       "        vertical-align: top;\n",
       "    }\n",
       "\n",
       "    .dataframe thead th {\n",
       "        text-align: right;\n",
       "    }\n",
       "</style>\n",
       "<table border=\"1\" class=\"dataframe\">\n",
       "  <thead>\n",
       "    <tr style=\"text-align: right;\">\n",
       "      <th></th>\n",
       "      <th>mean_pred</th>\n",
       "      <th>mean_est</th>\n",
       "    </tr>\n",
       "  </thead>\n",
       "  <tbody>\n",
       "    <tr>\n",
       "      <th>mean_pred</th>\n",
       "      <td>1.000000</td>\n",
       "      <td>0.825798</td>\n",
       "    </tr>\n",
       "    <tr>\n",
       "      <th>mean_est</th>\n",
       "      <td>0.825798</td>\n",
       "      <td>1.000000</td>\n",
       "    </tr>\n",
       "  </tbody>\n",
       "</table>\n",
       "</div>"
      ],
      "text/plain": [
       "           mean_pred  mean_est\n",
       "mean_pred   1.000000  0.825798\n",
       "mean_est    0.825798  1.000000"
      ]
     },
     "execution_count": 242,
     "metadata": {},
     "output_type": "execute_result"
    }
   ],
   "source": [
    "plot_df.corr()"
   ]
  },
  {
   "cell_type": "markdown",
   "id": "parallel-sullivan",
   "metadata": {},
   "source": [
    "Below is an alternate version meant to estimate trial-level responses with inherent variability from the internal mental sampling process. It should be given different data"
   ]
  },
  {
   "cell_type": "code",
   "execution_count": 232,
   "id": "flying-beast",
   "metadata": {},
   "outputs": [],
   "source": [
    "def bayesian_sampler2(data, y=None):\n",
    "\n",
    "    n_Ps = len(np.unique(data[\"subj\"]))\n",
    "    n_conds = len(np.unique(data[\"cond\"]))\n",
    "    trial = data[\"trial\"]\n",
    "    subj = data[\"subj\"]\n",
    "    cond = data[\"cond\"]\n",
    "    \n",
    "    not_conjdisj = abs(1-data[\"conjdisj_trial\"])\n",
    "\n",
    "    # population level parameters/priors\n",
    "    sigma = numpyro.sample(\"sigma\", dist.HalfCauchy(.02)) # response noise parameter\n",
    "#     sigma = .025\n",
    "\n",
    "    # need a beta, and N's per person\n",
    "    with numpyro.plate(\"subj\", n_Ps):\n",
    "        betas = numpyro.sample(\"beta\", dist.Uniform(0.0, 1.0)) # bounded to [0,1] as in paper\n",
    "        N_deltas = numpyro.sample(\"N_delta\", dist.HalfCauchy(10))\n",
    "        N_primes = numpyro.sample(\"N_prime\", dist.HalfCauchy(10))\n",
    "        \n",
    "        # need a theta per person-query\n",
    "    with numpyro.plate(\"cond\", n_Ps*n_conds):\n",
    "        thetas = numpyro.sample(\"theta\", dist.Dirichlet(jnp.ones(4)))\n",
    "    \n",
    "    N = 1 + N_primes[subj] + N_deltas[subj] * not_conjdisj # they required N be at least 1, no pooling for now\n",
    "    beta = betas[subj]\n",
    "    theta_ind = ((subj*2)+cond)\n",
    "    theta = thetas[theta_ind,:]\n",
    "    \n",
    "    numerator = jnp.sum(theta*data[\"X_num\"], axis=-1)\n",
    "    denom = jnp.sum(theta*data[\"X_denom\"], axis=-1)\n",
    "    pi_l = jnp.divide(numerator, denom)\n",
    "    \n",
    "    with numpyro.plate(\"data\", len(trial)):\n",
    "        pi = numpyro.sample(\"pi\", dist.Beta(N*pi_l, N*(1-pi_l))) # continuous approx to binomial()\n",
    "        p_bs = pi * N / (N + 2.*beta) + beta/(N + 2.*beta)\n",
    "        yhat = numpyro.sample(\"yhat\", dist.Normal(p_bs, sigma), obs=y)\n",
    "        \n",
    "    \n",
    "    return yhat"
   ]
  },
  {
   "cell_type": "code",
   "execution_count": 231,
   "id": "special-default",
   "metadata": {},
   "outputs": [
    {
     "name": "stderr",
     "output_type": "stream",
     "text": [
      "warmup:   4%|▍         | 79/2000 [00:44<17:52,  1.79it/s, 1023 steps of size 2.56e-02. acc. prob=0.76]\n"
     ]
    },
    {
     "ename": "KeyboardInterrupt",
     "evalue": "",
     "output_type": "error",
     "traceback": [
      "\u001b[0;31m---------------------------------------------------------------------------\u001b[0m",
      "\u001b[0;31mKeyboardInterrupt\u001b[0m                         Traceback (most recent call last)",
      "\u001b[0;32m~/bayesian-sampler/model_helpers.py\u001b[0m in \u001b[0;36m<module>\u001b[0;34m\u001b[0m\n\u001b[1;32m      5\u001b[0m \u001b[0mmcmc\u001b[0m \u001b[0;34m=\u001b[0m \u001b[0mMCMC\u001b[0m\u001b[0;34m(\u001b[0m\u001b[0mnuts_kernel\u001b[0m\u001b[0;34m,\u001b[0m \u001b[0mnum_warmup\u001b[0m\u001b[0;34m=\u001b[0m\u001b[0;36m1_000\u001b[0m\u001b[0;34m,\u001b[0m \u001b[0mnum_samples\u001b[0m\u001b[0;34m=\u001b[0m\u001b[0;36m1_000\u001b[0m\u001b[0;34m,\u001b[0m \u001b[0mnum_chains\u001b[0m\u001b[0;34m=\u001b[0m\u001b[0;36m1\u001b[0m\u001b[0;34m)\u001b[0m\u001b[0;34m\u001b[0m\u001b[0;34m\u001b[0m\u001b[0m\n\u001b[1;32m      6\u001b[0m \u001b[0mrng_key\u001b[0m \u001b[0;34m=\u001b[0m \u001b[0mrandom\u001b[0m\u001b[0;34m.\u001b[0m\u001b[0mPRNGKey\u001b[0m\u001b[0;34m(\u001b[0m\u001b[0;36m0\u001b[0m\u001b[0;34m)\u001b[0m\u001b[0;34m\u001b[0m\u001b[0;34m\u001b[0m\u001b[0m\n\u001b[0;32m----> 7\u001b[0;31m \u001b[0mmcmc\u001b[0m\u001b[0;34m.\u001b[0m\u001b[0mrun\u001b[0m\u001b[0;34m(\u001b[0m\u001b[0mrng_key\u001b[0m\u001b[0;34m,\u001b[0m \u001b[0mX_data\u001b[0m\u001b[0;34m,\u001b[0m \u001b[0my_data\u001b[0m\u001b[0;34m)\u001b[0m\u001b[0;34m\u001b[0m\u001b[0;34m\u001b[0m\u001b[0m\n\u001b[0m",
      "\u001b[0;32m/usr/local/lib/python3.6/dist-packages/numpyro/infer/mcmc.py\u001b[0m in \u001b[0;36mrun\u001b[0;34m(self, rng_key, extra_fields, init_params, *args, **kwargs)\u001b[0m\n\u001b[1;32m    496\u001b[0m         \u001b[0mmap_args\u001b[0m \u001b[0;34m=\u001b[0m \u001b[0;34m(\u001b[0m\u001b[0mrng_key\u001b[0m\u001b[0;34m,\u001b[0m \u001b[0minit_state\u001b[0m\u001b[0;34m,\u001b[0m \u001b[0minit_params\u001b[0m\u001b[0;34m)\u001b[0m\u001b[0;34m\u001b[0m\u001b[0;34m\u001b[0m\u001b[0m\n\u001b[1;32m    497\u001b[0m         \u001b[0;32mif\u001b[0m \u001b[0mself\u001b[0m\u001b[0;34m.\u001b[0m\u001b[0mnum_chains\u001b[0m \u001b[0;34m==\u001b[0m \u001b[0;36m1\u001b[0m\u001b[0;34m:\u001b[0m\u001b[0;34m\u001b[0m\u001b[0;34m\u001b[0m\u001b[0m\n\u001b[0;32m--> 498\u001b[0;31m             \u001b[0mstates_flat\u001b[0m\u001b[0;34m,\u001b[0m \u001b[0mlast_state\u001b[0m \u001b[0;34m=\u001b[0m \u001b[0mpartial_map_fn\u001b[0m\u001b[0;34m(\u001b[0m\u001b[0mmap_args\u001b[0m\u001b[0;34m)\u001b[0m\u001b[0;34m\u001b[0m\u001b[0;34m\u001b[0m\u001b[0m\n\u001b[0m\u001b[1;32m    499\u001b[0m             \u001b[0mstates\u001b[0m \u001b[0;34m=\u001b[0m \u001b[0mtree_map\u001b[0m\u001b[0;34m(\u001b[0m\u001b[0;32mlambda\u001b[0m \u001b[0mx\u001b[0m\u001b[0;34m:\u001b[0m \u001b[0mx\u001b[0m\u001b[0;34m[\u001b[0m\u001b[0mjnp\u001b[0m\u001b[0;34m.\u001b[0m\u001b[0mnewaxis\u001b[0m\u001b[0;34m,\u001b[0m \u001b[0;34m...\u001b[0m\u001b[0;34m]\u001b[0m\u001b[0;34m,\u001b[0m \u001b[0mstates_flat\u001b[0m\u001b[0;34m)\u001b[0m\u001b[0;34m\u001b[0m\u001b[0;34m\u001b[0m\u001b[0m\n\u001b[1;32m    500\u001b[0m         \u001b[0;32melse\u001b[0m\u001b[0;34m:\u001b[0m\u001b[0;34m\u001b[0m\u001b[0;34m\u001b[0m\u001b[0m\n",
      "\u001b[0;32m/usr/local/lib/python3.6/dist-packages/numpyro/infer/mcmc.py\u001b[0m in \u001b[0;36m_single_chain_mcmc\u001b[0;34m(self, init, args, kwargs, collect_fields)\u001b[0m\n\u001b[1;32m    352\u001b[0m                                     \u001b[0mprogbar_desc\u001b[0m\u001b[0;34m=\u001b[0m\u001b[0mpartial\u001b[0m\u001b[0;34m(\u001b[0m\u001b[0m_get_progbar_desc_str\u001b[0m\u001b[0;34m,\u001b[0m \u001b[0mlower_idx\u001b[0m\u001b[0;34m,\u001b[0m \u001b[0mphase\u001b[0m\u001b[0;34m)\u001b[0m\u001b[0;34m,\u001b[0m\u001b[0;34m\u001b[0m\u001b[0;34m\u001b[0m\u001b[0m\n\u001b[1;32m    353\u001b[0m                                     \u001b[0mdiagnostics_fn\u001b[0m\u001b[0;34m=\u001b[0m\u001b[0mdiagnostics\u001b[0m\u001b[0;34m,\u001b[0m\u001b[0;34m\u001b[0m\u001b[0;34m\u001b[0m\u001b[0m\n\u001b[0;32m--> 354\u001b[0;31m                                     num_chains=self.num_chains if self.chain_method == 'parallel' else 1)\n\u001b[0m\u001b[1;32m    355\u001b[0m         \u001b[0mstates\u001b[0m\u001b[0;34m,\u001b[0m \u001b[0mlast_val\u001b[0m \u001b[0;34m=\u001b[0m \u001b[0mcollect_vals\u001b[0m\u001b[0;34m\u001b[0m\u001b[0;34m\u001b[0m\u001b[0m\n\u001b[1;32m    356\u001b[0m         \u001b[0;31m# Get first argument of type `HMCState`\u001b[0m\u001b[0;34m\u001b[0m\u001b[0;34m\u001b[0m\u001b[0;34m\u001b[0m\u001b[0m\n",
      "\u001b[0;32m/usr/local/lib/python3.6/dist-packages/numpyro/util.py\u001b[0m in \u001b[0;36mfori_collect\u001b[0;34m(lower, upper, body_fun, init_val, transform, progbar, return_last_val, collection_size, thinning, **progbar_opts)\u001b[0m\n\u001b[1;32m    312\u001b[0m                     \u001b[0mt\u001b[0m\u001b[0;34m.\u001b[0m\u001b[0mset_description\u001b[0m\u001b[0;34m(\u001b[0m\u001b[0mprogbar_desc\u001b[0m\u001b[0;34m(\u001b[0m\u001b[0mi\u001b[0m\u001b[0;34m)\u001b[0m\u001b[0;34m,\u001b[0m \u001b[0mrefresh\u001b[0m\u001b[0;34m=\u001b[0m\u001b[0;32mFalse\u001b[0m\u001b[0;34m)\u001b[0m\u001b[0;34m\u001b[0m\u001b[0;34m\u001b[0m\u001b[0m\n\u001b[1;32m    313\u001b[0m                     \u001b[0;32mif\u001b[0m \u001b[0mdiagnostics_fn\u001b[0m\u001b[0;34m:\u001b[0m\u001b[0;34m\u001b[0m\u001b[0;34m\u001b[0m\u001b[0m\n\u001b[0;32m--> 314\u001b[0;31m                         \u001b[0mt\u001b[0m\u001b[0;34m.\u001b[0m\u001b[0mset_postfix_str\u001b[0m\u001b[0;34m(\u001b[0m\u001b[0mdiagnostics_fn\u001b[0m\u001b[0;34m(\u001b[0m\u001b[0mvals\u001b[0m\u001b[0;34m[\u001b[0m\u001b[0;36m0\u001b[0m\u001b[0;34m]\u001b[0m\u001b[0;34m)\u001b[0m\u001b[0;34m,\u001b[0m \u001b[0mrefresh\u001b[0m\u001b[0;34m=\u001b[0m\u001b[0;32mFalse\u001b[0m\u001b[0;34m)\u001b[0m\u001b[0;34m\u001b[0m\u001b[0;34m\u001b[0m\u001b[0m\n\u001b[0m\u001b[1;32m    315\u001b[0m \u001b[0;34m\u001b[0m\u001b[0m\n\u001b[1;32m    316\u001b[0m         \u001b[0mlast_val\u001b[0m\u001b[0;34m,\u001b[0m \u001b[0mcollection\u001b[0m\u001b[0;34m,\u001b[0m \u001b[0m_\u001b[0m\u001b[0;34m,\u001b[0m \u001b[0m_\u001b[0m \u001b[0;34m=\u001b[0m \u001b[0mvals\u001b[0m\u001b[0;34m\u001b[0m\u001b[0;34m\u001b[0m\u001b[0m\n",
      "\u001b[0;32m/usr/local/lib/python3.6/dist-packages/numpyro/infer/mcmc.py\u001b[0m in \u001b[0;36m<lambda>\u001b[0;34m(x)\u001b[0m\n\u001b[1;32m    334\u001b[0m                                            model_args=args, model_kwargs=kwargs)\n\u001b[1;32m    335\u001b[0m         \u001b[0msample_fn\u001b[0m\u001b[0;34m,\u001b[0m \u001b[0mpostprocess_fn\u001b[0m \u001b[0;34m=\u001b[0m \u001b[0mself\u001b[0m\u001b[0;34m.\u001b[0m\u001b[0m_get_cached_fns\u001b[0m\u001b[0;34m(\u001b[0m\u001b[0;34m)\u001b[0m\u001b[0;34m\u001b[0m\u001b[0;34m\u001b[0m\u001b[0m\n\u001b[0;32m--> 336\u001b[0;31m         \u001b[0mdiagnostics\u001b[0m \u001b[0;34m=\u001b[0m \u001b[0;32mlambda\u001b[0m \u001b[0mx\u001b[0m\u001b[0;34m:\u001b[0m \u001b[0mself\u001b[0m\u001b[0;34m.\u001b[0m\u001b[0msampler\u001b[0m\u001b[0;34m.\u001b[0m\u001b[0mget_diagnostics_str\u001b[0m\u001b[0;34m(\u001b[0m\u001b[0mx\u001b[0m\u001b[0;34m[\u001b[0m\u001b[0;36m0\u001b[0m\u001b[0;34m]\u001b[0m\u001b[0;34m)\u001b[0m \u001b[0;32mif\u001b[0m \u001b[0mrng_key\u001b[0m\u001b[0;34m.\u001b[0m\u001b[0mndim\u001b[0m \u001b[0;34m==\u001b[0m \u001b[0;36m1\u001b[0m \u001b[0;32melse\u001b[0m \u001b[0;34m''\u001b[0m   \u001b[0;31m# noqa: E731\u001b[0m\u001b[0;34m\u001b[0m\u001b[0;34m\u001b[0m\u001b[0m\n\u001b[0m\u001b[1;32m    337\u001b[0m         \u001b[0minit_val\u001b[0m \u001b[0;34m=\u001b[0m \u001b[0;34m(\u001b[0m\u001b[0minit_state\u001b[0m\u001b[0;34m,\u001b[0m \u001b[0margs\u001b[0m\u001b[0;34m,\u001b[0m \u001b[0mkwargs\u001b[0m\u001b[0;34m)\u001b[0m \u001b[0;32mif\u001b[0m \u001b[0mself\u001b[0m\u001b[0;34m.\u001b[0m\u001b[0m_jit_model_args\u001b[0m \u001b[0;32melse\u001b[0m \u001b[0;34m(\u001b[0m\u001b[0minit_state\u001b[0m\u001b[0;34m,\u001b[0m\u001b[0;34m)\u001b[0m\u001b[0;34m\u001b[0m\u001b[0;34m\u001b[0m\u001b[0m\n\u001b[1;32m    338\u001b[0m         \u001b[0mlower_idx\u001b[0m \u001b[0;34m=\u001b[0m \u001b[0mself\u001b[0m\u001b[0;34m.\u001b[0m\u001b[0m_collection_params\u001b[0m\u001b[0;34m[\u001b[0m\u001b[0;34m\"lower\"\u001b[0m\u001b[0;34m]\u001b[0m\u001b[0;34m\u001b[0m\u001b[0;34m\u001b[0m\u001b[0m\n",
      "\u001b[0;32m/usr/local/lib/python3.6/dist-packages/numpyro/infer/hmc.py\u001b[0m in \u001b[0;36mget_diagnostics_str\u001b[0;34m(self, state)\u001b[0m\n\u001b[1;32m    472\u001b[0m         return '{} steps of size {:.2e}. acc. prob={:.2f}'.format(state.num_steps,\n\u001b[1;32m    473\u001b[0m                                                                   \u001b[0mstate\u001b[0m\u001b[0;34m.\u001b[0m\u001b[0madapt_state\u001b[0m\u001b[0;34m.\u001b[0m\u001b[0mstep_size\u001b[0m\u001b[0;34m,\u001b[0m\u001b[0;34m\u001b[0m\u001b[0;34m\u001b[0m\u001b[0m\n\u001b[0;32m--> 474\u001b[0;31m                                                                   state.mean_accept_prob)\n\u001b[0m\u001b[1;32m    475\u001b[0m \u001b[0;34m\u001b[0m\u001b[0m\n\u001b[1;32m    476\u001b[0m     \u001b[0;32mdef\u001b[0m \u001b[0minit\u001b[0m\u001b[0;34m(\u001b[0m\u001b[0mself\u001b[0m\u001b[0;34m,\u001b[0m \u001b[0mrng_key\u001b[0m\u001b[0;34m,\u001b[0m \u001b[0mnum_warmup\u001b[0m\u001b[0;34m,\u001b[0m \u001b[0minit_params\u001b[0m\u001b[0;34m=\u001b[0m\u001b[0;32mNone\u001b[0m\u001b[0;34m,\u001b[0m \u001b[0mmodel_args\u001b[0m\u001b[0;34m=\u001b[0m\u001b[0;34m(\u001b[0m\u001b[0;34m)\u001b[0m\u001b[0;34m,\u001b[0m \u001b[0mmodel_kwargs\u001b[0m\u001b[0;34m=\u001b[0m\u001b[0;34m{\u001b[0m\u001b[0;34m}\u001b[0m\u001b[0;34m)\u001b[0m\u001b[0;34m:\u001b[0m\u001b[0;34m\u001b[0m\u001b[0;34m\u001b[0m\u001b[0m\n",
      "\u001b[0;32m/usr/local/lib/python3.6/dist-packages/jax/interpreters/xla.py\u001b[0m in \u001b[0;36m__format__\u001b[0;34m(self, format_spec)\u001b[0m\n\u001b[1;32m   1231\u001b[0m     \u001b[0;31m# Simulates behavior of https://github.com/numpy/numpy/pull/9883\u001b[0m\u001b[0;34m\u001b[0m\u001b[0;34m\u001b[0m\u001b[0;34m\u001b[0m\u001b[0m\n\u001b[1;32m   1232\u001b[0m     \u001b[0;32mif\u001b[0m \u001b[0mself\u001b[0m\u001b[0;34m.\u001b[0m\u001b[0mndim\u001b[0m \u001b[0;34m==\u001b[0m \u001b[0;36m0\u001b[0m\u001b[0;34m:\u001b[0m\u001b[0;34m\u001b[0m\u001b[0;34m\u001b[0m\u001b[0m\n\u001b[0;32m-> 1233\u001b[0;31m       \u001b[0;32mreturn\u001b[0m \u001b[0mformat\u001b[0m\u001b[0;34m(\u001b[0m\u001b[0mself\u001b[0m\u001b[0;34m.\u001b[0m\u001b[0m_value\u001b[0m\u001b[0;34m[\u001b[0m\u001b[0;34m(\u001b[0m\u001b[0;34m)\u001b[0m\u001b[0;34m]\u001b[0m\u001b[0;34m,\u001b[0m \u001b[0mformat_spec\u001b[0m\u001b[0;34m)\u001b[0m\u001b[0;34m\u001b[0m\u001b[0;34m\u001b[0m\u001b[0m\n\u001b[0m\u001b[1;32m   1234\u001b[0m     \u001b[0;32melse\u001b[0m\u001b[0;34m:\u001b[0m\u001b[0;34m\u001b[0m\u001b[0;34m\u001b[0m\u001b[0m\n\u001b[1;32m   1235\u001b[0m       \u001b[0;32mreturn\u001b[0m \u001b[0mformat\u001b[0m\u001b[0;34m(\u001b[0m\u001b[0mself\u001b[0m\u001b[0;34m.\u001b[0m\u001b[0m_value\u001b[0m\u001b[0;34m,\u001b[0m \u001b[0mformat_spec\u001b[0m\u001b[0;34m)\u001b[0m\u001b[0;34m\u001b[0m\u001b[0;34m\u001b[0m\u001b[0m\n",
      "\u001b[0;32m/usr/local/lib/python3.6/dist-packages/jax/interpreters/xla.py\u001b[0m in \u001b[0;36m_value\u001b[0;34m(self)\u001b[0m\n\u001b[1;32m   1120\u001b[0m     \u001b[0mself\u001b[0m\u001b[0;34m.\u001b[0m\u001b[0m_check_if_deleted\u001b[0m\u001b[0;34m(\u001b[0m\u001b[0;34m)\u001b[0m\u001b[0;34m\u001b[0m\u001b[0;34m\u001b[0m\u001b[0m\n\u001b[1;32m   1121\u001b[0m     \u001b[0;32mif\u001b[0m \u001b[0mself\u001b[0m\u001b[0;34m.\u001b[0m\u001b[0m_npy_value\u001b[0m \u001b[0;32mis\u001b[0m \u001b[0;32mNone\u001b[0m\u001b[0;34m:\u001b[0m\u001b[0;34m\u001b[0m\u001b[0;34m\u001b[0m\u001b[0m\n\u001b[0;32m-> 1122\u001b[0;31m       \u001b[0mself\u001b[0m\u001b[0;34m.\u001b[0m\u001b[0m_npy_value\u001b[0m \u001b[0;34m=\u001b[0m \u001b[0m_force\u001b[0m\u001b[0;34m(\u001b[0m\u001b[0mself\u001b[0m\u001b[0;34m)\u001b[0m\u001b[0;34m.\u001b[0m\u001b[0mdevice_buffer\u001b[0m\u001b[0;34m.\u001b[0m\u001b[0mto_py\u001b[0m\u001b[0;34m(\u001b[0m\u001b[0;34m)\u001b[0m\u001b[0;34m\u001b[0m\u001b[0;34m\u001b[0m\u001b[0m\n\u001b[0m\u001b[1;32m   1123\u001b[0m       \u001b[0mself\u001b[0m\u001b[0;34m.\u001b[0m\u001b[0m_npy_value\u001b[0m\u001b[0;34m.\u001b[0m\u001b[0mflags\u001b[0m\u001b[0;34m.\u001b[0m\u001b[0mwriteable\u001b[0m \u001b[0;34m=\u001b[0m \u001b[0;32mFalse\u001b[0m\u001b[0;34m\u001b[0m\u001b[0;34m\u001b[0m\u001b[0m\n\u001b[1;32m   1124\u001b[0m     \u001b[0;32mreturn\u001b[0m \u001b[0mself\u001b[0m\u001b[0;34m.\u001b[0m\u001b[0m_npy_value\u001b[0m\u001b[0;34m\u001b[0m\u001b[0;34m\u001b[0m\u001b[0m\n",
      "\u001b[0;31mKeyboardInterrupt\u001b[0m: "
     ]
    }
   ],
   "source": [
    "from jax import random\n",
    "from numpyro.infer import MCMC, NUTS\n",
    "\n",
    "nuts_kernel = NUTS(bayesian_sampler2)\n",
    "mcmc = MCMC(nuts_kernel, num_warmup=500, num_samples=1_000, num_chains=1)\n",
    "rng_key = random.PRNGKey(0)\n",
    "mcmc.run(rng_key, X_data, y_data)"
   ]
  },
  {
   "cell_type": "code",
   "execution_count": 214,
   "id": "attached-burden",
   "metadata": {},
   "outputs": [],
   "source": [
    "# mcmc.print_summary()"
   ]
  },
  {
   "cell_type": "markdown",
   "id": "convertible-exhaust",
   "metadata": {},
   "source": [
    "rhats are insane, so that's bad"
   ]
  },
  {
   "cell_type": "code",
   "execution_count": null,
   "id": "respiratory-crime",
   "metadata": {},
   "outputs": [],
   "source": []
  }
 ],
 "metadata": {
  "kernelspec": {
   "display_name": "Python 3",
   "language": "python",
   "name": "python3"
  },
  "language_info": {
   "codemirror_mode": {
    "name": "ipython",
    "version": 3
   },
   "file_extension": ".py",
   "mimetype": "text/x-python",
   "name": "python",
   "nbconvert_exporter": "python",
   "pygments_lexer": "ipython3",
   "version": "3.6.9"
  }
 },
 "nbformat": 4,
 "nbformat_minor": 5
}
