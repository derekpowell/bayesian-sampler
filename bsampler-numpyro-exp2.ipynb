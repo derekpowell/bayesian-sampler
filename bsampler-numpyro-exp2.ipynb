{
 "cells": [
  {
   "cell_type": "code",
   "execution_count": 1,
   "id": "distinct-sequence",
   "metadata": {},
   "outputs": [],
   "source": [
    "import numpyro\n",
    "numpyro.util.set_host_device_count(4)\n",
    "import numpyro.distributions as dist\n",
    "from numpyro.infer import MCMC, NUTS, Predictive, DiscreteHMCGibbs\n",
    "\n",
    "from jax import numpy as jnp\n",
    "from jax import random\n",
    "\n",
    "import numpy as np\n",
    "import pandas as pd\n",
    "import seaborn as sns\n",
    "import arviz as az\n",
    "\n",
    "from dfply import *\n",
    "\n",
    "import pickle\n",
    "\n",
    "%run -i 'model_helpers.py'\n",
    "%run -i 'models.py'\n",
    "%run -i 'reloo-compare.py'"
   ]
  },
  {
   "cell_type": "code",
   "execution_count": 2,
   "id": "atomic-trademark",
   "metadata": {},
   "outputs": [
    {
     "data": {
      "text/html": [
       "<div>\n",
       "<style scoped>\n",
       "    .dataframe tbody tr th:only-of-type {\n",
       "        vertical-align: middle;\n",
       "    }\n",
       "\n",
       "    .dataframe tbody tr th {\n",
       "        vertical-align: top;\n",
       "    }\n",
       "\n",
       "    .dataframe thead th {\n",
       "        text-align: right;\n",
       "    }\n",
       "</style>\n",
       "<table border=\"1\" class=\"dataframe\">\n",
       "  <thead>\n",
       "    <tr style=\"text-align: right;\">\n",
       "      <th></th>\n",
       "      <th>ID</th>\n",
       "      <th>condition</th>\n",
       "      <th>querytype</th>\n",
       "      <th>querydetail</th>\n",
       "      <th>estimate</th>\n",
       "    </tr>\n",
       "  </thead>\n",
       "  <tbody>\n",
       "    <tr>\n",
       "      <th>0</th>\n",
       "      <td>0</td>\n",
       "      <td>0</td>\n",
       "      <td>A</td>\n",
       "      <td>windy</td>\n",
       "      <td>0.733333</td>\n",
       "    </tr>\n",
       "    <tr>\n",
       "      <th>1</th>\n",
       "      <td>0</td>\n",
       "      <td>0</td>\n",
       "      <td>AandB</td>\n",
       "      <td>windy and cloudy</td>\n",
       "      <td>0.773333</td>\n",
       "    </tr>\n",
       "    <tr>\n",
       "      <th>2</th>\n",
       "      <td>0</td>\n",
       "      <td>0</td>\n",
       "      <td>AandnotB</td>\n",
       "      <td>windy and not cloudy</td>\n",
       "      <td>0.676667</td>\n",
       "    </tr>\n",
       "    <tr>\n",
       "      <th>3</th>\n",
       "      <td>0</td>\n",
       "      <td>0</td>\n",
       "      <td>AgB</td>\n",
       "      <td>windy given cloudy</td>\n",
       "      <td>0.816667</td>\n",
       "    </tr>\n",
       "    <tr>\n",
       "      <th>4</th>\n",
       "      <td>0</td>\n",
       "      <td>0</td>\n",
       "      <td>AgnotB</td>\n",
       "      <td>windy given not cloudy</td>\n",
       "      <td>0.600000</td>\n",
       "    </tr>\n",
       "  </tbody>\n",
       "</table>\n",
       "</div>"
      ],
      "text/plain": [
       "   ID  condition querytype              querydetail  estimate\n",
       "0   0          0         A                    windy  0.733333\n",
       "1   0          0     AandB         windy and cloudy  0.773333\n",
       "2   0          0  AandnotB     windy and not cloudy  0.676667\n",
       "3   0          0       AgB       windy given cloudy  0.816667\n",
       "4   0          0    AgnotB   windy given not cloudy  0.600000"
      ]
     },
     "execution_count": 2,
     "metadata": {},
     "output_type": "execute_result"
    }
   ],
   "source": [
    "df = load_query_avg_data_exp2() # see data_helpers.py\n",
    "df = df[df[\"condition\"]!=2] # filter out \"warm/snowy\" as per paper\n",
    "df.head()\n"
   ]
  },
  {
   "cell_type": "code",
   "execution_count": 3,
   "id": "narrative-relay",
   "metadata": {},
   "outputs": [
    {
     "name": "stdout",
     "output_type": "stream",
     "text": [
      "3360 observations\n"
     ]
    }
   ],
   "source": [
    "X_data, y_data = make_model_data(df) # see data_helpers.py\n",
    "\n",
    "print(len(y_data), \"observations\")"
   ]
  },
  {
   "cell_type": "code",
   "execution_count": 4,
   "id": "olympic-somerset",
   "metadata": {},
   "outputs": [],
   "source": [
    "## reloo setup\n",
    "\n"
   ]
  },
  {
   "cell_type": "markdown",
   "id": "comparable-uruguay",
   "metadata": {},
   "source": [
    "# Relative Frequency model\n",
    "\n",
    "First we implement the relative frequency model. This is essentially the \"null\" model we need to compare the competing theories against to make sure they are really substantively improving things."
   ]
  },
  {
   "cell_type": "code",
   "execution_count": 5,
   "id": "front-coverage",
   "metadata": {},
   "outputs": [
    {
     "data": {
      "application/vnd.jupyter.widget-view+json": {
       "model_id": "d5aaee7ed7894fcb84bf3f0cc8294778",
       "version_major": 2,
       "version_minor": 0
      },
      "text/plain": [
       "  0%|          | 0/4000 [00:00<?, ?it/s]"
      ]
     },
     "metadata": {},
     "output_type": "display_data"
    },
    {
     "data": {
      "application/vnd.jupyter.widget-view+json": {
       "model_id": "90eaebae9cdf452498471b97c7404414",
       "version_major": 2,
       "version_minor": 0
      },
      "text/plain": [
       "  0%|          | 0/4000 [00:00<?, ?it/s]"
      ]
     },
     "metadata": {},
     "output_type": "display_data"
    },
    {
     "data": {
      "application/vnd.jupyter.widget-view+json": {
       "model_id": "986c82065ace44d39e2da8d168279e7d",
       "version_major": 2,
       "version_minor": 0
      },
      "text/plain": [
       "  0%|          | 0/4000 [00:00<?, ?it/s]"
      ]
     },
     "metadata": {},
     "output_type": "display_data"
    },
    {
     "data": {
      "application/vnd.jupyter.widget-view+json": {
       "model_id": "a1c2a21babfd45f88a06dd1ca8b311cb",
       "version_major": 2,
       "version_minor": 0
      },
      "text/plain": [
       "  0%|          | 0/4000 [00:00<?, ?it/s]"
      ]
     },
     "metadata": {},
     "output_type": "display_data"
    }
   ],
   "source": [
    "mcmc_rf = MCMC(NUTS(relative_freq, target_accept_prob=.80), \n",
    "               num_warmup=2_000, \n",
    "               num_samples=2_000, \n",
    "               num_chains=4)\n",
    "\n",
    "mcmc_rf.run(random.PRNGKey(0), X_data, y_data)"
   ]
  },
  {
   "cell_type": "code",
   "execution_count": 6,
   "id": "built-situation",
   "metadata": {},
   "outputs": [
    {
     "name": "stdout",
     "output_type": "stream",
     "text": [
      "Participant mean response corr =  0.516\n",
      "Query-level corr 0.639\n"
     ]
    },
    {
     "data": {
      "image/png": "[encoded data removed]",
      "text/plain": [
       "<Figure size 1080x360 with 3 Axes>"
      ]
     },
     "metadata": {
      "needs_background": "light"
     },
     "output_type": "display_data"
    }
   ],
   "source": [
    "az_data_rf = make_arviz_data(mcmc_rf, relative_freq, X_data) # see model_helpers.py\n",
    "plot_model_preds(df, az_data_rf)"
   ]
  },
  {
   "cell_type": "code",
   "execution_count": 7,
   "id": "alone-punishment",
   "metadata": {},
   "outputs": [
    {
     "name": "stderr",
     "output_type": "stream",
     "text": [
      "/opt/conda/lib/python3.8/site-packages/arviz/stats/stats_refitting.py:99: UserWarning: reloo is an experimental and untested feature\n",
      "  warnings.warn(\"reloo is an experimental and untested feature\", UserWarning)\n"
     ]
    }
   ],
   "source": [
    "loo_rf = model_reloo(mcmc_rf, NUTS(relative_freq, target_accept_prob=.80))"
   ]
  },
  {
   "cell_type": "code",
   "execution_count": 8,
   "id": "controlling-prototype",
   "metadata": {},
   "outputs": [],
   "source": [
    "pickle.dump(az_data_rf, open(\"local/exp2/az_data_rf.p\", \"wb\"))\n",
    "pickle.dump(loo_rf, open(\"local/exp2/loo_rf.p\", \"wb\"))"
   ]
  },
  {
   "cell_type": "markdown",
   "id": "curious-saver",
   "metadata": {},
   "source": [
    "# Bayesian sampler model\n",
    "\n",
    "Here I implement the Bayesian Sampler model as expressed in the Zhu et al. (2020) paper. The only difference is I parameterize it directly in terms of implied $d$ so that it can be more fairly compared with the PT+N model. \n",
    "\n",
    "## Simple\n",
    "\n",
    "First, I implement the simple model with only one $d$ value for each participant. Here implied $d \\in [0,\\frac{1}{3}]$, reflecting the class of \"ignorance priors\" for the underlying Bayesian Sampler model."
   ]
  },
  {
   "cell_type": "code",
   "execution_count": 9,
   "id": "twenty-cameroon",
   "metadata": {},
   "outputs": [
    {
     "data": {
      "application/vnd.jupyter.widget-view+json": {
       "model_id": "23a9369f6b6346779c3702fa5d96a6f6",
       "version_major": 2,
       "version_minor": 0
      },
      "text/plain": [
       "  0%|          | 0/4000 [00:00<?, ?it/s]"
      ]
     },
     "metadata": {},
     "output_type": "display_data"
    },
    {
     "data": {
      "application/vnd.jupyter.widget-view+json": {
       "model_id": "48e91136843f440982b47fa3c7e54d8e",
       "version_major": 2,
       "version_minor": 0
      },
      "text/plain": [
       "  0%|          | 0/4000 [00:00<?, ?it/s]"
      ]
     },
     "metadata": {},
     "output_type": "display_data"
    },
    {
     "data": {
      "application/vnd.jupyter.widget-view+json": {
       "model_id": "6e6d4d13e7974bdabe538df492574807",
       "version_major": 2,
       "version_minor": 0
      },
      "text/plain": [
       "  0%|          | 0/4000 [00:00<?, ?it/s]"
      ]
     },
     "metadata": {},
     "output_type": "display_data"
    },
    {
     "data": {
      "application/vnd.jupyter.widget-view+json": {
       "model_id": "56efa7655ddc435db379edf73eb0d23c",
       "version_major": 2,
       "version_minor": 0
      },
      "text/plain": [
       "  0%|          | 0/4000 [00:00<?, ?it/s]"
      ]
     },
     "metadata": {},
     "output_type": "display_data"
    }
   ],
   "source": [
    "kernel_bs_simple = NUTS(bayesian_sampler_simple, target_accept_prob=.80)\n",
    "\n",
    "mcmc_bs_simple = MCMC(kernel_bs_simple, \n",
    "               num_warmup=2_000, \n",
    "               num_samples=2_000, \n",
    "               num_chains=4)\n",
    "\n",
    "mcmc_bs_simple.run(random.PRNGKey(0), X_data, y_data)"
   ]
  },
  {
   "cell_type": "code",
   "execution_count": 10,
   "id": "empty-specific",
   "metadata": {},
   "outputs": [
    {
     "name": "stdout",
     "output_type": "stream",
     "text": [
      "Participant mean response corr =  0.667\n",
      "Query-level corr 0.831\n"
     ]
    },
    {
     "data": {
      "image/png": "[encoded data removed]",
      "text/plain": [
       "<Figure size 1080x360 with 3 Axes>"
      ]
     },
     "metadata": {
      "needs_background": "light"
     },
     "output_type": "display_data"
    }
   ],
   "source": [
    "az_data_bs_simple = make_arviz_data(mcmc_bs_simple, bayesian_sampler_simple, X_data) # see model_helpers.py\n",
    "plot_model_preds(df, az_data_bs_simple)"
   ]
  },
  {
   "cell_type": "code",
   "execution_count": 11,
   "id": "linear-greene",
   "metadata": {},
   "outputs": [
    {
     "name": "stderr",
     "output_type": "stream",
     "text": [
      "/opt/conda/lib/python3.8/site-packages/arviz/stats/stats.py:694: UserWarning: Estimated shape parameter of Pareto distribution is greater than 0.7 for one or more samples. You should consider using a more robust model, this is because importance sampling is less likely to work well if the marginal posterior and LOO posterior are very different. This is more likely to happen with a non-robust model and highly influential observations.\n",
      "  warnings.warn(\n",
      "/opt/conda/lib/python3.8/site-packages/arviz/stats/stats_refitting.py:99: UserWarning: reloo is an experimental and untested feature\n",
      "  warnings.warn(\"reloo is an experimental and untested feature\", UserWarning)\n"
     ]
    },
    {
     "data": {
      "application/vnd.jupyter.widget-view+json": {
       "model_id": "fe0bceb8bf3d487193ec13fae51697ad",
       "version_major": 2,
       "version_minor": 0
      },
      "text/plain": [
       "  0%|          | 0/4000 [00:00<?, ?it/s]"
      ]
     },
     "metadata": {},
     "output_type": "display_data"
    },
    {
     "data": {
      "application/vnd.jupyter.widget-view+json": {
       "model_id": "3bdca7aebdda4a9c97b64bdd6753f148",
       "version_major": 2,
       "version_minor": 0
      },
      "text/plain": [
       "  0%|          | 0/4000 [00:00<?, ?it/s]"
      ]
     },
     "metadata": {},
     "output_type": "display_data"
    },
    {
     "data": {
      "application/vnd.jupyter.widget-view+json": {
       "model_id": "0c617281c35944359b4c7a3e05506ba2",
       "version_major": 2,
       "version_minor": 0
      },
      "text/plain": [
       "  0%|          | 0/4000 [00:00<?, ?it/s]"
      ]
     },
     "metadata": {},
     "output_type": "display_data"
    },
    {
     "data": {
      "application/vnd.jupyter.widget-view+json": {
       "model_id": "0c7869ccf67649d3afef6189f6173638",
       "version_major": 2,
       "version_minor": 0
      },
      "text/plain": [
       "  0%|          | 0/4000 [00:00<?, ?it/s]"
      ]
     },
     "metadata": {},
     "output_type": "display_data"
    },
    {
     "data": {
      "application/vnd.jupyter.widget-view+json": {
       "model_id": "8311a7c67dd64bc0bd2c253bcd820857",
       "version_major": 2,
       "version_minor": 0
      },
      "text/plain": [
       "  0%|          | 0/4000 [00:00<?, ?it/s]"
      ]
     },
     "metadata": {},
     "output_type": "display_data"
    },
    {
     "data": {
      "application/vnd.jupyter.widget-view+json": {
       "model_id": "5437fb85dfc04ca7a76f38c40ec16b19",
       "version_major": 2,
       "version_minor": 0
      },
      "text/plain": [
       "  0%|          | 0/4000 [00:00<?, ?it/s]"
      ]
     },
     "metadata": {},
     "output_type": "display_data"
    },
    {
     "data": {
      "application/vnd.jupyter.widget-view+json": {
       "model_id": "666e7f329b134dbd96a8d6822a448539",
       "version_major": 2,
       "version_minor": 0
      },
      "text/plain": [
       "  0%|          | 0/4000 [00:00<?, ?it/s]"
      ]
     },
     "metadata": {},
     "output_type": "display_data"
    },
    {
     "data": {
      "application/vnd.jupyter.widget-view+json": {
       "model_id": "b8af98e4e7464bcf817b98a52868d4f1",
       "version_major": 2,
       "version_minor": 0
      },
      "text/plain": [
       "  0%|          | 0/4000 [00:00<?, ?it/s]"
      ]
     },
     "metadata": {},
     "output_type": "display_data"
    },
    {
     "data": {
      "application/vnd.jupyter.widget-view+json": {
       "model_id": "0da9a4ed9b9149faa491c2a5ce58886a",
       "version_major": 2,
       "version_minor": 0
      },
      "text/plain": [
       "  0%|          | 0/4000 [00:00<?, ?it/s]"
      ]
     },
     "metadata": {},
     "output_type": "display_data"
    },
    {
     "data": {
      "application/vnd.jupyter.widget-view+json": {
       "model_id": "d841be79459e49489201af074ccee89c",
       "version_major": 2,
       "version_minor": 0
      },
      "text/plain": [
       "  0%|          | 0/4000 [00:00<?, ?it/s]"
      ]
     },
     "metadata": {},
     "output_type": "display_data"
    },
    {
     "data": {
      "application/vnd.jupyter.widget-view+json": {
       "model_id": "bc0041d3ee7e4028b0fc7655e9c4ce20",
       "version_major": 2,
       "version_minor": 0
      },
      "text/plain": [
       "  0%|          | 0/4000 [00:00<?, ?it/s]"
      ]
     },
     "metadata": {},
     "output_type": "display_data"
    },
    {
     "data": {
      "application/vnd.jupyter.widget-view+json": {
       "model_id": "1fe2865f206d4bc1ad41c05ceb7f1ead",
       "version_major": 2,
       "version_minor": 0
      },
      "text/plain": [
       "  0%|          | 0/4000 [00:00<?, ?it/s]"
      ]
     },
     "metadata": {},
     "output_type": "display_data"
    },
    {
     "data": {
      "application/vnd.jupyter.widget-view+json": {
       "model_id": "45d552f1f2234cfb918d1f1fa1df36a4",
       "version_major": 2,
       "version_minor": 0
      },
      "text/plain": [
       "  0%|          | 0/4000 [00:00<?, ?it/s]"
      ]
     },
     "metadata": {},
     "output_type": "display_data"
    },
    {
     "data": {
      "application/vnd.jupyter.widget-view+json": {
       "model_id": "a32dfad083fe4468b7b69df25e1eda09",
       "version_major": 2,
       "version_minor": 0
      },
      "text/plain": [
       "  0%|          | 0/4000 [00:00<?, ?it/s]"
      ]
     },
     "metadata": {},
     "output_type": "display_data"
    },
    {
     "data": {
      "application/vnd.jupyter.widget-view+json": {
       "model_id": "fab4797fa8814e81a3c121b77f3ab0b2",
       "version_major": 2,
       "version_minor": 0
      },
      "text/plain": [
       "  0%|          | 0/4000 [00:00<?, ?it/s]"
      ]
     },
     "metadata": {},
     "output_type": "display_data"
    },
    {
     "data": {
      "application/vnd.jupyter.widget-view+json": {
       "model_id": "33b7a2d911594c88960be83d53def5ef",
       "version_major": 2,
       "version_minor": 0
      },
      "text/plain": [
       "  0%|          | 0/4000 [00:00<?, ?it/s]"
      ]
     },
     "metadata": {},
     "output_type": "display_data"
    },
    {
     "data": {
      "application/vnd.jupyter.widget-view+json": {
       "model_id": "2f730562f86949fe907faabf7f9b1254",
       "version_major": 2,
       "version_minor": 0
      },
      "text/plain": [
       "  0%|          | 0/4000 [00:00<?, ?it/s]"
      ]
     },
     "metadata": {},
     "output_type": "display_data"
    },
    {
     "data": {
      "application/vnd.jupyter.widget-view+json": {
       "model_id": "5748bf31ab4a4a5a995c8d20da87df91",
       "version_major": 2,
       "version_minor": 0
      },
      "text/plain": [
       "  0%|          | 0/4000 [00:00<?, ?it/s]"
      ]
     },
     "metadata": {},
     "output_type": "display_data"
    },
    {
     "data": {
      "application/vnd.jupyter.widget-view+json": {
       "model_id": "976145c0798644f3b8f881339d363e34",
       "version_major": 2,
       "version_minor": 0
      },
      "text/plain": [
       "  0%|          | 0/4000 [00:00<?, ?it/s]"
      ]
     },
     "metadata": {},
     "output_type": "display_data"
    },
    {
     "data": {
      "application/vnd.jupyter.widget-view+json": {
       "model_id": "5afafb013a9d490788446558280540e8",
       "version_major": 2,
       "version_minor": 0
      },
      "text/plain": [
       "  0%|          | 0/4000 [00:00<?, ?it/s]"
      ]
     },
     "metadata": {},
     "output_type": "display_data"
    },
    {
     "data": {
      "application/vnd.jupyter.widget-view+json": {
       "model_id": "598be630113949329429740a6565eabf",
       "version_major": 2,
       "version_minor": 0
      },
      "text/plain": [
       "  0%|          | 0/4000 [00:00<?, ?it/s]"
      ]
     },
     "metadata": {},
     "output_type": "display_data"
    },
    {
     "data": {
      "application/vnd.jupyter.widget-view+json": {
       "model_id": "277d88db05004ff7a7442d938f2e066f",
       "version_major": 2,
       "version_minor": 0
      },
      "text/plain": [
       "  0%|          | 0/4000 [00:00<?, ?it/s]"
      ]
     },
     "metadata": {},
     "output_type": "display_data"
    },
    {
     "data": {
      "application/vnd.jupyter.widget-view+json": {
       "model_id": "6427df073240467981e9953e5943c5b5",
       "version_major": 2,
       "version_minor": 0
      },
      "text/plain": [
       "  0%|          | 0/4000 [00:00<?, ?it/s]"
      ]
     },
     "metadata": {},
     "output_type": "display_data"
    },
    {
     "data": {
      "application/vnd.jupyter.widget-view+json": {
       "model_id": "01c01215cc3646e0ad97fae05fe4952a",
       "version_major": 2,
       "version_minor": 0
      },
      "text/plain": [
       "  0%|          | 0/4000 [00:00<?, ?it/s]"
      ]
     },
     "metadata": {},
     "output_type": "display_data"
    }
   ],
   "source": [
    "loo_bs_simple = model_reloo(mcmc_bs_simple, kernel_bs_simple, k_thresh=.70)"
   ]
  },
  {
   "cell_type": "code",
   "execution_count": 12,
   "id": "aggregate-kenya",
   "metadata": {},
   "outputs": [],
   "source": [
    "pickle.dump(az_data_bs_simple, open(\"local/exp2/az_data_bs_simple.p\", \"wb\"))\n",
    "pickle.dump(loo_bs_simple, open(\"local/exp2/loo_bs_simple.p\", \"wb\"))"
   ]
  },
  {
   "cell_type": "markdown",
   "id": "genuine-nelson",
   "metadata": {},
   "source": [
    "## Complex\n",
    "\n",
    "Then I implement the complex version with both $d$ and $d'$ values for conjunctive/disjunctive trials."
   ]
  },
  {
   "cell_type": "code",
   "execution_count": null,
   "id": "ecological-aspect",
   "metadata": {},
   "outputs": [
    {
     "data": {
      "application/vnd.jupyter.widget-view+json": {
       "model_id": "fb8ce9f6dc9540c0a0ff4059e3f5143c",
       "version_major": 2,
       "version_minor": 0
      },
      "text/plain": [
       "  0%|          | 0/4000 [00:00<?, ?it/s]"
      ]
     },
     "metadata": {},
     "output_type": "display_data"
    },
    {
     "data": {
      "application/vnd.jupyter.widget-view+json": {
       "model_id": "4a800b3199114d398581ab82cf8ef3a3",
       "version_major": 2,
       "version_minor": 0
      },
      "text/plain": [
       "  0%|          | 0/4000 [00:00<?, ?it/s]"
      ]
     },
     "metadata": {},
     "output_type": "display_data"
    },
    {
     "data": {
      "application/vnd.jupyter.widget-view+json": {
       "model_id": "076a9991fc104448a6d85d6ef42ea47e",
       "version_major": 2,
       "version_minor": 0
      },
      "text/plain": [
       "  0%|          | 0/4000 [00:00<?, ?it/s]"
      ]
     },
     "metadata": {},
     "output_type": "display_data"
    },
    {
     "data": {
      "application/vnd.jupyter.widget-view+json": {
       "model_id": "b89929fd3a254eab8897a114faa9c304",
       "version_major": 2,
       "version_minor": 0
      },
      "text/plain": [
       "  0%|          | 0/4000 [00:00<?, ?it/s]"
      ]
     },
     "metadata": {},
     "output_type": "display_data"
    }
   ],
   "source": [
    "kernel_bs = NUTS(bayesian_sampler_complex, target_accept_prob=.80)\n",
    "\n",
    "mcmc_bs = MCMC(kernel_bs, \n",
    "               num_warmup=2_000, \n",
    "               num_samples=2_000, \n",
    "               num_chains=4)\n",
    "\n",
    "mcmc_bs.run(random.PRNGKey(0), X_data, y_data)"
   ]
  },
  {
   "cell_type": "code",
   "execution_count": 14,
   "id": "functional-shore",
   "metadata": {},
   "outputs": [
    {
     "name": "stderr",
     "output_type": "stream",
     "text": [
      "/opt/conda/lib/python3.8/site-packages/arviz/stats/stats.py:694: UserWarning: Estimated shape parameter of Pareto distribution is greater than 0.7 for one or more samples. You should consider using a more robust model, this is because importance sampling is less likely to work well if the marginal posterior and LOO posterior are very different. This is more likely to happen with a non-robust model and highly influential observations.\n",
      "  warnings.warn(\n",
      "/opt/conda/lib/python3.8/site-packages/arviz/stats/stats_refitting.py:99: UserWarning: reloo is an experimental and untested feature\n",
      "  warnings.warn(\"reloo is an experimental and untested feature\", UserWarning)\n"
     ]
    },
    {
     "data": {
      "application/vnd.jupyter.widget-view+json": {
       "model_id": "9fa6a62033be490da039cb15c8c58179",
       "version_major": 2,
       "version_minor": 0
      },
      "text/plain": [
       "  0%|          | 0/4000 [00:00<?, ?it/s]"
      ]
     },
     "metadata": {},
     "output_type": "display_data"
    },
    {
     "data": {
      "application/vnd.jupyter.widget-view+json": {
       "model_id": "43c4b264e09540d7982ef08cab6efcec",
       "version_major": 2,
       "version_minor": 0
      },
      "text/plain": [
       "  0%|          | 0/4000 [00:00<?, ?it/s]"
      ]
     },
     "metadata": {},
     "output_type": "display_data"
    },
    {
     "data": {
      "application/vnd.jupyter.widget-view+json": {
       "model_id": "1f49e0f34875495b9c59c28a8b03044b",
       "version_major": 2,
       "version_minor": 0
      },
      "text/plain": [
       "  0%|          | 0/4000 [00:00<?, ?it/s]"
      ]
     },
     "metadata": {},
     "output_type": "display_data"
    },
    {
     "data": {
      "application/vnd.jupyter.widget-view+json": {
       "model_id": "0651c98302fa4d60820e17f5d0473eb4",
       "version_major": 2,
       "version_minor": 0
      },
      "text/plain": [
       "  0%|          | 0/4000 [00:00<?, ?it/s]"
      ]
     },
     "metadata": {},
     "output_type": "display_data"
    },
    {
     "data": {
      "application/vnd.jupyter.widget-view+json": {
       "model_id": "49a114ab1b17415baa2fdec77d7eb7da",
       "version_major": 2,
       "version_minor": 0
      },
      "text/plain": [
       "  0%|          | 0/4000 [00:00<?, ?it/s]"
      ]
     },
     "metadata": {},
     "output_type": "display_data"
    },
    {
     "data": {
      "application/vnd.jupyter.widget-view+json": {
       "model_id": "3f89e9028c3e456a94c2ea167bd55aa5",
       "version_major": 2,
       "version_minor": 0
      },
      "text/plain": [
       "  0%|          | 0/4000 [00:00<?, ?it/s]"
      ]
     },
     "metadata": {},
     "output_type": "display_data"
    },
    {
     "data": {
      "application/vnd.jupyter.widget-view+json": {
       "model_id": "e2942b042a5e4c758a694400cfee35ee",
       "version_major": 2,
       "version_minor": 0
      },
      "text/plain": [
       "  0%|          | 0/4000 [00:00<?, ?it/s]"
      ]
     },
     "metadata": {},
     "output_type": "display_data"
    },
    {
     "data": {
      "application/vnd.jupyter.widget-view+json": {
       "model_id": "5a775e6a85a541d3a528073536c937a6",
       "version_major": 2,
       "version_minor": 0
      },
      "text/plain": [
       "  0%|          | 0/4000 [00:00<?, ?it/s]"
      ]
     },
     "metadata": {},
     "output_type": "display_data"
    },
    {
     "data": {
      "application/vnd.jupyter.widget-view+json": {
       "model_id": "19815100809c4dd68b21db1fc558beb1",
       "version_major": 2,
       "version_minor": 0
      },
      "text/plain": [
       "  0%|          | 0/4000 [00:00<?, ?it/s]"
      ]
     },
     "metadata": {},
     "output_type": "display_data"
    },
    {
     "data": {
      "application/vnd.jupyter.widget-view+json": {
       "model_id": "17258f4bce2d4b2d9e60ac532fc0d2a7",
       "version_major": 2,
       "version_minor": 0
      },
      "text/plain": [
       "  0%|          | 0/4000 [00:00<?, ?it/s]"
      ]
     },
     "metadata": {},
     "output_type": "display_data"
    },
    {
     "data": {
      "application/vnd.jupyter.widget-view+json": {
       "model_id": "721a6e0a408841c692982b4d2137c252",
       "version_major": 2,
       "version_minor": 0
      },
      "text/plain": [
       "  0%|          | 0/4000 [00:00<?, ?it/s]"
      ]
     },
     "metadata": {},
     "output_type": "display_data"
    },
    {
     "data": {
      "application/vnd.jupyter.widget-view+json": {
       "model_id": "0ec7b681f16f495aa06dbd690106fbc8",
       "version_major": 2,
       "version_minor": 0
      },
      "text/plain": [
       "  0%|          | 0/4000 [00:00<?, ?it/s]"
      ]
     },
     "metadata": {},
     "output_type": "display_data"
    },
    {
     "data": {
      "application/vnd.jupyter.widget-view+json": {
       "model_id": "823a159d475646ed9f3629d4f249796c",
       "version_major": 2,
       "version_minor": 0
      },
      "text/plain": [
       "  0%|          | 0/4000 [00:00<?, ?it/s]"
      ]
     },
     "metadata": {},
     "output_type": "display_data"
    },
    {
     "data": {
      "application/vnd.jupyter.widget-view+json": {
       "model_id": "a5917ef58bf44010a84ed0ce0e8cc819",
       "version_major": 2,
       "version_minor": 0
      },
      "text/plain": [
       "  0%|          | 0/4000 [00:00<?, ?it/s]"
      ]
     },
     "metadata": {},
     "output_type": "display_data"
    },
    {
     "data": {
      "application/vnd.jupyter.widget-view+json": {
       "model_id": "afe860bef1654b87bb05b532d652806f",
       "version_major": 2,
       "version_minor": 0
      },
      "text/plain": [
       "  0%|          | 0/4000 [00:00<?, ?it/s]"
      ]
     },
     "metadata": {},
     "output_type": "display_data"
    },
    {
     "data": {
      "application/vnd.jupyter.widget-view+json": {
       "model_id": "9e6331d1aff5457a85b3ac4a3909445e",
       "version_major": 2,
       "version_minor": 0
      },
      "text/plain": [
       "  0%|          | 0/4000 [00:00<?, ?it/s]"
      ]
     },
     "metadata": {},
     "output_type": "display_data"
    },
    {
     "data": {
      "application/vnd.jupyter.widget-view+json": {
       "model_id": "1a42b64fe30c41249d2677210ba88ec8",
       "version_major": 2,
       "version_minor": 0
      },
      "text/plain": [
       "  0%|          | 0/4000 [00:00<?, ?it/s]"
      ]
     },
     "metadata": {},
     "output_type": "display_data"
    },
    {
     "data": {
      "application/vnd.jupyter.widget-view+json": {
       "model_id": "baa7ead5d9b344c293a4052cf5b55528",
       "version_major": 2,
       "version_minor": 0
      },
      "text/plain": [
       "  0%|          | 0/4000 [00:00<?, ?it/s]"
      ]
     },
     "metadata": {},
     "output_type": "display_data"
    },
    {
     "data": {
      "application/vnd.jupyter.widget-view+json": {
       "model_id": "3a632b37c62c457fbe382a54c75f869a",
       "version_major": 2,
       "version_minor": 0
      },
      "text/plain": [
       "  0%|          | 0/4000 [00:00<?, ?it/s]"
      ]
     },
     "metadata": {},
     "output_type": "display_data"
    },
    {
     "data": {
      "application/vnd.jupyter.widget-view+json": {
       "model_id": "b36b4a9702c04ff780893bcb80c92a5e",
       "version_major": 2,
       "version_minor": 0
      },
      "text/plain": [
       "  0%|          | 0/4000 [00:00<?, ?it/s]"
      ]
     },
     "metadata": {},
     "output_type": "display_data"
    },
    {
     "data": {
      "application/vnd.jupyter.widget-view+json": {
       "model_id": "c329c9a0a94746cf86bd24719d339319",
       "version_major": 2,
       "version_minor": 0
      },
      "text/plain": [
       "  0%|          | 0/4000 [00:00<?, ?it/s]"
      ]
     },
     "metadata": {},
     "output_type": "display_data"
    },
    {
     "data": {
      "application/vnd.jupyter.widget-view+json": {
       "model_id": "6b822bdc7a6a4c1b8d26104380390538",
       "version_major": 2,
       "version_minor": 0
      },
      "text/plain": [
       "  0%|          | 0/4000 [00:00<?, ?it/s]"
      ]
     },
     "metadata": {},
     "output_type": "display_data"
    },
    {
     "data": {
      "application/vnd.jupyter.widget-view+json": {
       "model_id": "7e22dfaac26249c994686f5f7a1a9b4d",
       "version_major": 2,
       "version_minor": 0
      },
      "text/plain": [
       "  0%|          | 0/4000 [00:00<?, ?it/s]"
      ]
     },
     "metadata": {},
     "output_type": "display_data"
    },
    {
     "data": {
      "application/vnd.jupyter.widget-view+json": {
       "model_id": "cae8d0374557457ca7c9e597cd1621ae",
       "version_major": 2,
       "version_minor": 0
      },
      "text/plain": [
       "  0%|          | 0/4000 [00:00<?, ?it/s]"
      ]
     },
     "metadata": {},
     "output_type": "display_data"
    },
    {
     "data": {
      "application/vnd.jupyter.widget-view+json": {
       "model_id": "6456ac123d7b4618b048b0c18a565272",
       "version_major": 2,
       "version_minor": 0
      },
      "text/plain": [
       "  0%|          | 0/4000 [00:00<?, ?it/s]"
      ]
     },
     "metadata": {},
     "output_type": "display_data"
    },
    {
     "data": {
      "application/vnd.jupyter.widget-view+json": {
       "model_id": "6e9c441c3a6d4cb5ad9a46651d0969c1",
       "version_major": 2,
       "version_minor": 0
      },
      "text/plain": [
       "  0%|          | 0/4000 [00:00<?, ?it/s]"
      ]
     },
     "metadata": {},
     "output_type": "display_data"
    },
    {
     "data": {
      "application/vnd.jupyter.widget-view+json": {
       "model_id": "75c5acd744f14517b9ccd15b766fd0e2",
       "version_major": 2,
       "version_minor": 0
      },
      "text/plain": [
       "  0%|          | 0/4000 [00:00<?, ?it/s]"
      ]
     },
     "metadata": {},
     "output_type": "display_data"
    },
    {
     "data": {
      "application/vnd.jupyter.widget-view+json": {
       "model_id": "24a3b7d04f614ea3939576c149057456",
       "version_major": 2,
       "version_minor": 0
      },
      "text/plain": [
       "  0%|          | 0/4000 [00:00<?, ?it/s]"
      ]
     },
     "metadata": {},
     "output_type": "display_data"
    },
    {
     "data": {
      "application/vnd.jupyter.widget-view+json": {
       "model_id": "a1a31d4ebf4f42ceaba3aaba762f2a3f",
       "version_major": 2,
       "version_minor": 0
      },
      "text/plain": [
       "  0%|          | 0/4000 [00:00<?, ?it/s]"
      ]
     },
     "metadata": {},
     "output_type": "display_data"
    },
    {
     "data": {
      "application/vnd.jupyter.widget-view+json": {
       "model_id": "40a436a022da4ac288ab850bca42a827",
       "version_major": 2,
       "version_minor": 0
      },
      "text/plain": [
       "  0%|          | 0/4000 [00:00<?, ?it/s]"
      ]
     },
     "metadata": {},
     "output_type": "display_data"
    },
    {
     "data": {
      "application/vnd.jupyter.widget-view+json": {
       "model_id": "07131df9d7784b31a1e9895e301f0eb4",
       "version_major": 2,
       "version_minor": 0
      },
      "text/plain": [
       "  0%|          | 0/4000 [00:00<?, ?it/s]"
      ]
     },
     "metadata": {},
     "output_type": "display_data"
    },
    {
     "data": {
      "application/vnd.jupyter.widget-view+json": {
       "model_id": "5b5b49fcbcd84721b0bd2b2508e7eaf2",
       "version_major": 2,
       "version_minor": 0
      },
      "text/plain": [
       "  0%|          | 0/4000 [00:00<?, ?it/s]"
      ]
     },
     "metadata": {},
     "output_type": "display_data"
    },
    {
     "data": {
      "application/vnd.jupyter.widget-view+json": {
       "model_id": "195f37c61a3c4730ba55b1574a998f86",
       "version_major": 2,
       "version_minor": 0
      },
      "text/plain": [
       "  0%|          | 0/4000 [00:00<?, ?it/s]"
      ]
     },
     "metadata": {},
     "output_type": "display_data"
    },
    {
     "data": {
      "application/vnd.jupyter.widget-view+json": {
       "model_id": "3db5f7c98acf4d699f7f88d320000cca",
       "version_major": 2,
       "version_minor": 0
      },
      "text/plain": [
       "  0%|          | 0/4000 [00:00<?, ?it/s]"
      ]
     },
     "metadata": {},
     "output_type": "display_data"
    },
    {
     "data": {
      "application/vnd.jupyter.widget-view+json": {
       "model_id": "974893ae0f5243efb7eb8d743d21b16f",
       "version_major": 2,
       "version_minor": 0
      },
      "text/plain": [
       "  0%|          | 0/4000 [00:00<?, ?it/s]"
      ]
     },
     "metadata": {},
     "output_type": "display_data"
    },
    {
     "data": {
      "application/vnd.jupyter.widget-view+json": {
       "model_id": "3e8d098ffd16454e8a0429f5b85633c7",
       "version_major": 2,
       "version_minor": 0
      },
      "text/plain": [
       "  0%|          | 0/4000 [00:00<?, ?it/s]"
      ]
     },
     "metadata": {},
     "output_type": "display_data"
    },
    {
     "data": {
      "application/vnd.jupyter.widget-view+json": {
       "model_id": "989061119fb24647b4a5053b7599fb7f",
       "version_major": 2,
       "version_minor": 0
      },
      "text/plain": [
       "  0%|          | 0/4000 [00:00<?, ?it/s]"
      ]
     },
     "metadata": {},
     "output_type": "display_data"
    },
    {
     "data": {
      "application/vnd.jupyter.widget-view+json": {
       "model_id": "fb7f5d775db64b1f8a0bb2e31bffe3d1",
       "version_major": 2,
       "version_minor": 0
      },
      "text/plain": [
       "  0%|          | 0/4000 [00:00<?, ?it/s]"
      ]
     },
     "metadata": {},
     "output_type": "display_data"
    },
    {
     "data": {
      "application/vnd.jupyter.widget-view+json": {
       "model_id": "0b73057673544627b3262b42e67a3329",
       "version_major": 2,
       "version_minor": 0
      },
      "text/plain": [
       "  0%|          | 0/4000 [00:00<?, ?it/s]"
      ]
     },
     "metadata": {},
     "output_type": "display_data"
    },
    {
     "data": {
      "application/vnd.jupyter.widget-view+json": {
       "model_id": "7339f5abdd2840c98d3bbb1cb6501e41",
       "version_major": 2,
       "version_minor": 0
      },
      "text/plain": [
       "  0%|          | 0/4000 [00:00<?, ?it/s]"
      ]
     },
     "metadata": {},
     "output_type": "display_data"
    },
    {
     "data": {
      "application/vnd.jupyter.widget-view+json": {
       "model_id": "fa1c33fa13974c058cd32fbc8802d967",
       "version_major": 2,
       "version_minor": 0
      },
      "text/plain": [
       "  0%|          | 0/4000 [00:00<?, ?it/s]"
      ]
     },
     "metadata": {},
     "output_type": "display_data"
    },
    {
     "data": {
      "application/vnd.jupyter.widget-view+json": {
       "model_id": "682b9f8d1c9148729e07e3d3e384a6d3",
       "version_major": 2,
       "version_minor": 0
      },
      "text/plain": [
       "  0%|          | 0/4000 [00:00<?, ?it/s]"
      ]
     },
     "metadata": {},
     "output_type": "display_data"
    },
    {
     "data": {
      "application/vnd.jupyter.widget-view+json": {
       "model_id": "6691ef84f17f44c2a2c5c84679a57660",
       "version_major": 2,
       "version_minor": 0
      },
      "text/plain": [
       "  0%|          | 0/4000 [00:00<?, ?it/s]"
      ]
     },
     "metadata": {},
     "output_type": "display_data"
    },
    {
     "data": {
      "application/vnd.jupyter.widget-view+json": {
       "model_id": "5ec457e1129c4b67accf72519af45544",
       "version_major": 2,
       "version_minor": 0
      },
      "text/plain": [
       "  0%|          | 0/4000 [00:00<?, ?it/s]"
      ]
     },
     "metadata": {},
     "output_type": "display_data"
    },
    {
     "data": {
      "application/vnd.jupyter.widget-view+json": {
       "model_id": "59a5746e46614c98b41e8d9bff4566a2",
       "version_major": 2,
       "version_minor": 0
      },
      "text/plain": [
       "  0%|          | 0/4000 [00:00<?, ?it/s]"
      ]
     },
     "metadata": {},
     "output_type": "display_data"
    },
    {
     "data": {
      "application/vnd.jupyter.widget-view+json": {
       "model_id": "b7def85daf1a4c4d8dcea490b50c44db",
       "version_major": 2,
       "version_minor": 0
      },
      "text/plain": [
       "  0%|          | 0/4000 [00:00<?, ?it/s]"
      ]
     },
     "metadata": {},
     "output_type": "display_data"
    },
    {
     "data": {
      "application/vnd.jupyter.widget-view+json": {
       "model_id": "04d62667aadc4803848de00e7a33ce8a",
       "version_major": 2,
       "version_minor": 0
      },
      "text/plain": [
       "  0%|          | 0/4000 [00:00<?, ?it/s]"
      ]
     },
     "metadata": {},
     "output_type": "display_data"
    },
    {
     "data": {
      "application/vnd.jupyter.widget-view+json": {
       "model_id": "56af32f33f5f45c8a147c7d9b63a0a89",
       "version_major": 2,
       "version_minor": 0
      },
      "text/plain": [
       "  0%|          | 0/4000 [00:00<?, ?it/s]"
      ]
     },
     "metadata": {},
     "output_type": "display_data"
    }
   ],
   "source": [
    "loo_bs = model_reloo(mcmc_bs, kernel_bs, k_thresh=.70)"
   ]
  },
  {
   "cell_type": "code",
   "execution_count": 15,
   "id": "otherwise-parks",
   "metadata": {},
   "outputs": [
    {
     "name": "stdout",
     "output_type": "stream",
     "text": [
      "Participant mean response corr =  0.679\n",
      "Query-level corr 0.848\n"
     ]
    },
    {
     "data": {
      "image/png": "[encoded data removed]",
      "text/plain": [
       "<Figure size 1080x360 with 3 Axes>"
      ]
     },
     "metadata": {
      "needs_background": "light"
     },
     "output_type": "display_data"
    }
   ],
   "source": [
    "az_data_bs = make_arviz_data(mcmc_bs, bayesian_sampler_complex, X_data) # see model_helpers.py\n",
    "pickle.dump(az_data_bs, open(\"local/exp2/az_data_bs.p\", \"wb\"))\n",
    "pickle.dump(loo_bs, open(\"local/exp2/loo_bs.p\", \"wb\"))\n",
    "plot_model_preds(df, az_data_bs)"
   ]
  },
  {
   "cell_type": "markdown",
   "id": "coated-terminology",
   "metadata": {},
   "source": [
    "# Probability theory plus noise (PT+N) model\n",
    "\n",
    "Then I implement the probability theory plus noise model following Costello and Watts (2017).\n",
    "\n",
    "## Simple\n",
    "\n",
    "First with just $d$ for each participant, constrained to fall in $d \\in [0, .50]$."
   ]
  },
  {
   "cell_type": "code",
   "execution_count": 16,
   "id": "cultural-recipe",
   "metadata": {},
   "outputs": [
    {
     "data": {
      "application/vnd.jupyter.widget-view+json": {
       "model_id": "e37e4c54a49a42e6b5cdc97c4c3df5f8",
       "version_major": 2,
       "version_minor": 0
      },
      "text/plain": [
       "  0%|          | 0/4000 [00:00<?, ?it/s]"
      ]
     },
     "metadata": {},
     "output_type": "display_data"
    },
    {
     "data": {
      "application/vnd.jupyter.widget-view+json": {
       "model_id": "0bae5560e08e48c4b90b0f1e1cf6c2bb",
       "version_major": 2,
       "version_minor": 0
      },
      "text/plain": [
       "  0%|          | 0/4000 [00:00<?, ?it/s]"
      ]
     },
     "metadata": {},
     "output_type": "display_data"
    },
    {
     "data": {
      "application/vnd.jupyter.widget-view+json": {
       "model_id": "c699a1bf5b8f4aaa8d69a9759a1cccd4",
       "version_major": 2,
       "version_minor": 0
      },
      "text/plain": [
       "  0%|          | 0/4000 [00:00<?, ?it/s]"
      ]
     },
     "metadata": {},
     "output_type": "display_data"
    },
    {
     "data": {
      "application/vnd.jupyter.widget-view+json": {
       "model_id": "6cd0c3cdeef146549a4b8aab5728ef4d",
       "version_major": 2,
       "version_minor": 0
      },
      "text/plain": [
       "  0%|          | 0/4000 [00:00<?, ?it/s]"
      ]
     },
     "metadata": {},
     "output_type": "display_data"
    }
   ],
   "source": [
    "kernel_ptn_simple = NUTS(PTN_simple, target_accept_prob=.80)\n",
    "\n",
    "mcmc_ptn_simple = MCMC(kernel_ptn_simple, \n",
    "               num_warmup=2_000, \n",
    "               num_samples=2_000, \n",
    "               num_chains=4)\n",
    "\n",
    "mcmc_ptn_simple.run(random.PRNGKey(0), X_data, y_data)"
   ]
  },
  {
   "cell_type": "code",
   "execution_count": 17,
   "id": "answering-embassy",
   "metadata": {},
   "outputs": [
    {
     "name": "stderr",
     "output_type": "stream",
     "text": [
      "/opt/conda/lib/python3.8/site-packages/arviz/stats/stats_refitting.py:99: UserWarning: reloo is an experimental and untested feature\n",
      "  warnings.warn(\"reloo is an experimental and untested feature\", UserWarning)\n"
     ]
    }
   ],
   "source": [
    "loo_ptn_simple = model_reloo(mcmc_ptn_simple, kernel_ptn_simple, k_thresh=.70)"
   ]
  },
  {
   "cell_type": "code",
   "execution_count": 18,
   "id": "ongoing-turner",
   "metadata": {},
   "outputs": [
    {
     "name": "stdout",
     "output_type": "stream",
     "text": [
      "Participant mean response corr =  0.619\n",
      "Query-level corr 0.777\n"
     ]
    },
    {
     "data": {
      "image/png": "[encoded data removed]",
      "text/plain": [
       "<Figure size 1080x360 with 3 Axes>"
      ]
     },
     "metadata": {
      "needs_background": "light"
     },
     "output_type": "display_data"
    }
   ],
   "source": [
    "az_data_ptn_simple = make_arviz_data(mcmc_ptn_simple, PTN_simple, X_data) # see model_helpers.py\n",
    "pickle.dump(az_data_ptn_simple, open(\"local/exp2/az_data_ptn_simple.p\", \"wb\"))\n",
    "pickle.dump(loo_ptn_simple, open(\"local/exp2/loo_ptn_simple.p\", \"wb\"))\n",
    "plot_model_preds(df, az_data_ptn_simple)"
   ]
  },
  {
   "cell_type": "markdown",
   "id": "double-depression",
   "metadata": {},
   "source": [
    "## Complex\n",
    "\n",
    "Then with $d$ and $d'$ for each participant."
   ]
  },
  {
   "cell_type": "code",
   "execution_count": 19,
   "id": "spoken-expression",
   "metadata": {},
   "outputs": [
    {
     "data": {
      "application/vnd.jupyter.widget-view+json": {
       "model_id": "8f878626e6af4b33863a885e2ef0fa77",
       "version_major": 2,
       "version_minor": 0
      },
      "text/plain": [
       "  0%|          | 0/4000 [00:00<?, ?it/s]"
      ]
     },
     "metadata": {},
     "output_type": "display_data"
    },
    {
     "data": {
      "application/vnd.jupyter.widget-view+json": {
       "model_id": "d7782a476b3a4c58982c1884b49aed0d",
       "version_major": 2,
       "version_minor": 0
      },
      "text/plain": [
       "  0%|          | 0/4000 [00:00<?, ?it/s]"
      ]
     },
     "metadata": {},
     "output_type": "display_data"
    },
    {
     "data": {
      "application/vnd.jupyter.widget-view+json": {
       "model_id": "cf0e22a3821c46ac9df6c9fe320f332a",
       "version_major": 2,
       "version_minor": 0
      },
      "text/plain": [
       "  0%|          | 0/4000 [00:00<?, ?it/s]"
      ]
     },
     "metadata": {},
     "output_type": "display_data"
    },
    {
     "data": {
      "application/vnd.jupyter.widget-view+json": {
       "model_id": "93a6ac15eb754251bf450c99108e80b4",
       "version_major": 2,
       "version_minor": 0
      },
      "text/plain": [
       "  0%|          | 0/4000 [00:00<?, ?it/s]"
      ]
     },
     "metadata": {},
     "output_type": "display_data"
    }
   ],
   "source": [
    "kernel_ptn = NUTS(PTN_complex, target_accept_prob=.80)\n",
    "\n",
    "mcmc_ptn = MCMC(kernel_ptn, \n",
    "               num_warmup=2_000, \n",
    "               num_samples=2_000, \n",
    "               num_chains=4)\n",
    "\n",
    "mcmc_ptn.run(random.PRNGKey(0), X_data, y_data)"
   ]
  },
  {
   "cell_type": "code",
   "execution_count": 20,
   "id": "subject-devil",
   "metadata": {},
   "outputs": [
    {
     "name": "stderr",
     "output_type": "stream",
     "text": [
      "/opt/conda/lib/python3.8/site-packages/arviz/stats/stats.py:694: UserWarning: Estimated shape parameter of Pareto distribution is greater than 0.7 for one or more samples. You should consider using a more robust model, this is because importance sampling is less likely to work well if the marginal posterior and LOO posterior are very different. This is more likely to happen with a non-robust model and highly influential observations.\n",
      "  warnings.warn(\n",
      "/opt/conda/lib/python3.8/site-packages/arviz/stats/stats_refitting.py:99: UserWarning: reloo is an experimental and untested feature\n",
      "  warnings.warn(\"reloo is an experimental and untested feature\", UserWarning)\n"
     ]
    },
    {
     "data": {
      "application/vnd.jupyter.widget-view+json": {
       "model_id": "10e8929c560f4c108959981e0fa90358",
       "version_major": 2,
       "version_minor": 0
      },
      "text/plain": [
       "  0%|          | 0/4000 [00:00<?, ?it/s]"
      ]
     },
     "metadata": {},
     "output_type": "display_data"
    },
    {
     "data": {
      "application/vnd.jupyter.widget-view+json": {
       "model_id": "67750fe02f9043c9966bf265bbc1f18a",
       "version_major": 2,
       "version_minor": 0
      },
      "text/plain": [
       "  0%|          | 0/4000 [00:00<?, ?it/s]"
      ]
     },
     "metadata": {},
     "output_type": "display_data"
    },
    {
     "data": {
      "application/vnd.jupyter.widget-view+json": {
       "model_id": "894e191ecd70478f9ee7f4a2ebe0cac5",
       "version_major": 2,
       "version_minor": 0
      },
      "text/plain": [
       "  0%|          | 0/4000 [00:00<?, ?it/s]"
      ]
     },
     "metadata": {},
     "output_type": "display_data"
    },
    {
     "data": {
      "application/vnd.jupyter.widget-view+json": {
       "model_id": "ef1fc974ec3d4fb48ecdd37f9ce302a4",
       "version_major": 2,
       "version_minor": 0
      },
      "text/plain": [
       "  0%|          | 0/4000 [00:00<?, ?it/s]"
      ]
     },
     "metadata": {},
     "output_type": "display_data"
    },
    {
     "data": {
      "application/vnd.jupyter.widget-view+json": {
       "model_id": "a2f41c66952f40e38871397006b139d9",
       "version_major": 2,
       "version_minor": 0
      },
      "text/plain": [
       "  0%|          | 0/4000 [00:00<?, ?it/s]"
      ]
     },
     "metadata": {},
     "output_type": "display_data"
    },
    {
     "data": {
      "application/vnd.jupyter.widget-view+json": {
       "model_id": "633c2b15331d420dab13101008af1145",
       "version_major": 2,
       "version_minor": 0
      },
      "text/plain": [
       "  0%|          | 0/4000 [00:00<?, ?it/s]"
      ]
     },
     "metadata": {},
     "output_type": "display_data"
    },
    {
     "data": {
      "application/vnd.jupyter.widget-view+json": {
       "model_id": "25567c4c4c1b4ad8bd4e80d1b96d9203",
       "version_major": 2,
       "version_minor": 0
      },
      "text/plain": [
       "  0%|          | 0/4000 [00:00<?, ?it/s]"
      ]
     },
     "metadata": {},
     "output_type": "display_data"
    },
    {
     "data": {
      "application/vnd.jupyter.widget-view+json": {
       "model_id": "492c727f6eb541808632af94eea3b5af",
       "version_major": 2,
       "version_minor": 0
      },
      "text/plain": [
       "  0%|          | 0/4000 [00:00<?, ?it/s]"
      ]
     },
     "metadata": {},
     "output_type": "display_data"
    },
    {
     "data": {
      "application/vnd.jupyter.widget-view+json": {
       "model_id": "771e67b4cccd44b3aaf0a1014a24e94b",
       "version_major": 2,
       "version_minor": 0
      },
      "text/plain": [
       "  0%|          | 0/4000 [00:00<?, ?it/s]"
      ]
     },
     "metadata": {},
     "output_type": "display_data"
    },
    {
     "data": {
      "application/vnd.jupyter.widget-view+json": {
       "model_id": "8906c550cf454ff8a5bbc424650eb788",
       "version_major": 2,
       "version_minor": 0
      },
      "text/plain": [
       "  0%|          | 0/4000 [00:00<?, ?it/s]"
      ]
     },
     "metadata": {},
     "output_type": "display_data"
    },
    {
     "data": {
      "application/vnd.jupyter.widget-view+json": {
       "model_id": "3776d5d61b464d02ad0ac1ddd1d0ac5e",
       "version_major": 2,
       "version_minor": 0
      },
      "text/plain": [
       "  0%|          | 0/4000 [00:00<?, ?it/s]"
      ]
     },
     "metadata": {},
     "output_type": "display_data"
    },
    {
     "data": {
      "application/vnd.jupyter.widget-view+json": {
       "model_id": "2cfabd4dcbae4b789446b360964fd6ae",
       "version_major": 2,
       "version_minor": 0
      },
      "text/plain": [
       "  0%|          | 0/4000 [00:00<?, ?it/s]"
      ]
     },
     "metadata": {},
     "output_type": "display_data"
    },
    {
     "data": {
      "application/vnd.jupyter.widget-view+json": {
       "model_id": "28df190550284cafb030d170e846e1bd",
       "version_major": 2,
       "version_minor": 0
      },
      "text/plain": [
       "  0%|          | 0/4000 [00:00<?, ?it/s]"
      ]
     },
     "metadata": {},
     "output_type": "display_data"
    },
    {
     "data": {
      "application/vnd.jupyter.widget-view+json": {
       "model_id": "06f1f978c7be45d1889e74c785ccaded",
       "version_major": 2,
       "version_minor": 0
      },
      "text/plain": [
       "  0%|          | 0/4000 [00:00<?, ?it/s]"
      ]
     },
     "metadata": {},
     "output_type": "display_data"
    },
    {
     "data": {
      "application/vnd.jupyter.widget-view+json": {
       "model_id": "0a6b5dc021344c86a4e8d7af81bfc67c",
       "version_major": 2,
       "version_minor": 0
      },
      "text/plain": [
       "  0%|          | 0/4000 [00:00<?, ?it/s]"
      ]
     },
     "metadata": {},
     "output_type": "display_data"
    },
    {
     "data": {
      "application/vnd.jupyter.widget-view+json": {
       "model_id": "e0fcac892c1f40b594dea9f43e5b13be",
       "version_major": 2,
       "version_minor": 0
      },
      "text/plain": [
       "  0%|          | 0/4000 [00:00<?, ?it/s]"
      ]
     },
     "metadata": {},
     "output_type": "display_data"
    },
    {
     "data": {
      "application/vnd.jupyter.widget-view+json": {
       "model_id": "5dbb6303d9b64a7993f9ef14604eb617",
       "version_major": 2,
       "version_minor": 0
      },
      "text/plain": [
       "  0%|          | 0/4000 [00:00<?, ?it/s]"
      ]
     },
     "metadata": {},
     "output_type": "display_data"
    },
    {
     "data": {
      "application/vnd.jupyter.widget-view+json": {
       "model_id": "07744fbce76348fd8642a8d793775566",
       "version_major": 2,
       "version_minor": 0
      },
      "text/plain": [
       "  0%|          | 0/4000 [00:00<?, ?it/s]"
      ]
     },
     "metadata": {},
     "output_type": "display_data"
    },
    {
     "data": {
      "application/vnd.jupyter.widget-view+json": {
       "model_id": "17c9d2b2b4cc492eabd85c64b34caae7",
       "version_major": 2,
       "version_minor": 0
      },
      "text/plain": [
       "  0%|          | 0/4000 [00:00<?, ?it/s]"
      ]
     },
     "metadata": {},
     "output_type": "display_data"
    },
    {
     "data": {
      "application/vnd.jupyter.widget-view+json": {
       "model_id": "c3efef219d0e411f86187005092f29a0",
       "version_major": 2,
       "version_minor": 0
      },
      "text/plain": [
       "  0%|          | 0/4000 [00:00<?, ?it/s]"
      ]
     },
     "metadata": {},
     "output_type": "display_data"
    },
    {
     "data": {
      "application/vnd.jupyter.widget-view+json": {
       "model_id": "9469e97289344619b57dd5e911b0795d",
       "version_major": 2,
       "version_minor": 0
      },
      "text/plain": [
       "  0%|          | 0/4000 [00:00<?, ?it/s]"
      ]
     },
     "metadata": {},
     "output_type": "display_data"
    },
    {
     "data": {
      "application/vnd.jupyter.widget-view+json": {
       "model_id": "566484267565476993d799852971577d",
       "version_major": 2,
       "version_minor": 0
      },
      "text/plain": [
       "  0%|          | 0/4000 [00:00<?, ?it/s]"
      ]
     },
     "metadata": {},
     "output_type": "display_data"
    },
    {
     "data": {
      "application/vnd.jupyter.widget-view+json": {
       "model_id": "a07e3747156a4ead9467bdad373740f8",
       "version_major": 2,
       "version_minor": 0
      },
      "text/plain": [
       "  0%|          | 0/4000 [00:00<?, ?it/s]"
      ]
     },
     "metadata": {},
     "output_type": "display_data"
    },
    {
     "data": {
      "application/vnd.jupyter.widget-view+json": {
       "model_id": "87e6dd52430b4ee2b768d041d554fda3",
       "version_major": 2,
       "version_minor": 0
      },
      "text/plain": [
       "  0%|          | 0/4000 [00:00<?, ?it/s]"
      ]
     },
     "metadata": {},
     "output_type": "display_data"
    },
    {
     "data": {
      "application/vnd.jupyter.widget-view+json": {
       "model_id": "cf8b0d8a6c3546ecbbf02137e48e2067",
       "version_major": 2,
       "version_minor": 0
      },
      "text/plain": [
       "  0%|          | 0/4000 [00:00<?, ?it/s]"
      ]
     },
     "metadata": {},
     "output_type": "display_data"
    },
    {
     "data": {
      "application/vnd.jupyter.widget-view+json": {
       "model_id": "76ce35b9a4fa48b1a731dea4595893d5",
       "version_major": 2,
       "version_minor": 0
      },
      "text/plain": [
       "  0%|          | 0/4000 [00:00<?, ?it/s]"
      ]
     },
     "metadata": {},
     "output_type": "display_data"
    },
    {
     "data": {
      "application/vnd.jupyter.widget-view+json": {
       "model_id": "e70e47cd931f40b6b5963be96f58ed45",
       "version_major": 2,
       "version_minor": 0
      },
      "text/plain": [
       "  0%|          | 0/4000 [00:00<?, ?it/s]"
      ]
     },
     "metadata": {},
     "output_type": "display_data"
    },
    {
     "data": {
      "application/vnd.jupyter.widget-view+json": {
       "model_id": "3a27aeefca544d9cbf048a8e35e1a20b",
       "version_major": 2,
       "version_minor": 0
      },
      "text/plain": [
       "  0%|          | 0/4000 [00:00<?, ?it/s]"
      ]
     },
     "metadata": {},
     "output_type": "display_data"
    },
    {
     "data": {
      "application/vnd.jupyter.widget-view+json": {
       "model_id": "79cb3b009c5b417d9ddd9b8b7f39a892",
       "version_major": 2,
       "version_minor": 0
      },
      "text/plain": [
       "  0%|          | 0/4000 [00:00<?, ?it/s]"
      ]
     },
     "metadata": {},
     "output_type": "display_data"
    },
    {
     "data": {
      "application/vnd.jupyter.widget-view+json": {
       "model_id": "89775607887e41bc8b737b57ca78b998",
       "version_major": 2,
       "version_minor": 0
      },
      "text/plain": [
       "  0%|          | 0/4000 [00:00<?, ?it/s]"
      ]
     },
     "metadata": {},
     "output_type": "display_data"
    },
    {
     "data": {
      "application/vnd.jupyter.widget-view+json": {
       "model_id": "c44a03119d304ca2861a0746cd4bfd80",
       "version_major": 2,
       "version_minor": 0
      },
      "text/plain": [
       "  0%|          | 0/4000 [00:00<?, ?it/s]"
      ]
     },
     "metadata": {},
     "output_type": "display_data"
    },
    {
     "data": {
      "application/vnd.jupyter.widget-view+json": {
       "model_id": "28edc9e4748c4b228ba12e390727b94c",
       "version_major": 2,
       "version_minor": 0
      },
      "text/plain": [
       "  0%|          | 0/4000 [00:00<?, ?it/s]"
      ]
     },
     "metadata": {},
     "output_type": "display_data"
    },
    {
     "data": {
      "application/vnd.jupyter.widget-view+json": {
       "model_id": "08566bf904af47f6a829fd3e162d52cf",
       "version_major": 2,
       "version_minor": 0
      },
      "text/plain": [
       "  0%|          | 0/4000 [00:00<?, ?it/s]"
      ]
     },
     "metadata": {},
     "output_type": "display_data"
    },
    {
     "data": {
      "application/vnd.jupyter.widget-view+json": {
       "model_id": "880d501028784cf8a92d91924a1f24f6",
       "version_major": 2,
       "version_minor": 0
      },
      "text/plain": [
       "  0%|          | 0/4000 [00:00<?, ?it/s]"
      ]
     },
     "metadata": {},
     "output_type": "display_data"
    },
    {
     "data": {
      "application/vnd.jupyter.widget-view+json": {
       "model_id": "9a7c56334d374f79a8f6e7b2a74a48a2",
       "version_major": 2,
       "version_minor": 0
      },
      "text/plain": [
       "  0%|          | 0/4000 [00:00<?, ?it/s]"
      ]
     },
     "metadata": {},
     "output_type": "display_data"
    },
    {
     "data": {
      "application/vnd.jupyter.widget-view+json": {
       "model_id": "ed5b8a4777754a63a633f11894e960af",
       "version_major": 2,
       "version_minor": 0
      },
      "text/plain": [
       "  0%|          | 0/4000 [00:00<?, ?it/s]"
      ]
     },
     "metadata": {},
     "output_type": "display_data"
    },
    {
     "data": {
      "application/vnd.jupyter.widget-view+json": {
       "model_id": "94c164d9ac604db59b806b27f4dac1c5",
       "version_major": 2,
       "version_minor": 0
      },
      "text/plain": [
       "  0%|          | 0/4000 [00:00<?, ?it/s]"
      ]
     },
     "metadata": {},
     "output_type": "display_data"
    },
    {
     "data": {
      "application/vnd.jupyter.widget-view+json": {
       "model_id": "34ee652407d24df9b865701d03dc1df7",
       "version_major": 2,
       "version_minor": 0
      },
      "text/plain": [
       "  0%|          | 0/4000 [00:00<?, ?it/s]"
      ]
     },
     "metadata": {},
     "output_type": "display_data"
    },
    {
     "data": {
      "application/vnd.jupyter.widget-view+json": {
       "model_id": "a409570408374d9e8b881b4e7e2cce41",
       "version_major": 2,
       "version_minor": 0
      },
      "text/plain": [
       "  0%|          | 0/4000 [00:00<?, ?it/s]"
      ]
     },
     "metadata": {},
     "output_type": "display_data"
    },
    {
     "data": {
      "application/vnd.jupyter.widget-view+json": {
       "model_id": "082f0bf92aa1432a8109b901c1a25269",
       "version_major": 2,
       "version_minor": 0
      },
      "text/plain": [
       "  0%|          | 0/4000 [00:00<?, ?it/s]"
      ]
     },
     "metadata": {},
     "output_type": "display_data"
    },
    {
     "data": {
      "application/vnd.jupyter.widget-view+json": {
       "model_id": "9dd85cff171640bda3baae0b3ed410d7",
       "version_major": 2,
       "version_minor": 0
      },
      "text/plain": [
       "  0%|          | 0/4000 [00:00<?, ?it/s]"
      ]
     },
     "metadata": {},
     "output_type": "display_data"
    },
    {
     "data": {
      "application/vnd.jupyter.widget-view+json": {
       "model_id": "de8a7770a59441d992e06ebd8027fbe8",
       "version_major": 2,
       "version_minor": 0
      },
      "text/plain": [
       "  0%|          | 0/4000 [00:00<?, ?it/s]"
      ]
     },
     "metadata": {},
     "output_type": "display_data"
    },
    {
     "data": {
      "application/vnd.jupyter.widget-view+json": {
       "model_id": "fb2d0a6875764dfdad64204268e64472",
       "version_major": 2,
       "version_minor": 0
      },
      "text/plain": [
       "  0%|          | 0/4000 [00:00<?, ?it/s]"
      ]
     },
     "metadata": {},
     "output_type": "display_data"
    },
    {
     "data": {
      "application/vnd.jupyter.widget-view+json": {
       "model_id": "36995e919c834f02b4dca273d1bb5f25",
       "version_major": 2,
       "version_minor": 0
      },
      "text/plain": [
       "  0%|          | 0/4000 [00:00<?, ?it/s]"
      ]
     },
     "metadata": {},
     "output_type": "display_data"
    },
    {
     "data": {
      "application/vnd.jupyter.widget-view+json": {
       "model_id": "333262b269fc4ee1b159b60dfec55f9f",
       "version_major": 2,
       "version_minor": 0
      },
      "text/plain": [
       "  0%|          | 0/4000 [00:00<?, ?it/s]"
      ]
     },
     "metadata": {},
     "output_type": "display_data"
    },
    {
     "data": {
      "application/vnd.jupyter.widget-view+json": {
       "model_id": "cba49bf910894bd1a45de364947c0db0",
       "version_major": 2,
       "version_minor": 0
      },
      "text/plain": [
       "  0%|          | 0/4000 [00:00<?, ?it/s]"
      ]
     },
     "metadata": {},
     "output_type": "display_data"
    },
    {
     "data": {
      "application/vnd.jupyter.widget-view+json": {
       "model_id": "98d4ceeb84b64699a08e370a3406d11b",
       "version_major": 2,
       "version_minor": 0
      },
      "text/plain": [
       "  0%|          | 0/4000 [00:00<?, ?it/s]"
      ]
     },
     "metadata": {},
     "output_type": "display_data"
    },
    {
     "data": {
      "application/vnd.jupyter.widget-view+json": {
       "model_id": "eb4df1e945504c478a11c1bf1c857e43",
       "version_major": 2,
       "version_minor": 0
      },
      "text/plain": [
       "  0%|          | 0/4000 [00:00<?, ?it/s]"
      ]
     },
     "metadata": {},
     "output_type": "display_data"
    },
    {
     "data": {
      "application/vnd.jupyter.widget-view+json": {
       "model_id": "1a63ab39416049b2adccb162905efe4d",
       "version_major": 2,
       "version_minor": 0
      },
      "text/plain": [
       "  0%|          | 0/4000 [00:00<?, ?it/s]"
      ]
     },
     "metadata": {},
     "output_type": "display_data"
    },
    {
     "data": {
      "application/vnd.jupyter.widget-view+json": {
       "model_id": "a932acdce54c4cc8b2fc1495734dd675",
       "version_major": 2,
       "version_minor": 0
      },
      "text/plain": [
       "  0%|          | 0/4000 [00:00<?, ?it/s]"
      ]
     },
     "metadata": {},
     "output_type": "display_data"
    },
    {
     "data": {
      "application/vnd.jupyter.widget-view+json": {
       "model_id": "433c77115b22456fa30cab46deae903f",
       "version_major": 2,
       "version_minor": 0
      },
      "text/plain": [
       "  0%|          | 0/4000 [00:00<?, ?it/s]"
      ]
     },
     "metadata": {},
     "output_type": "display_data"
    },
    {
     "data": {
      "application/vnd.jupyter.widget-view+json": {
       "model_id": "eed0a75296a44a19bbdc4ab7d2de33e8",
       "version_major": 2,
       "version_minor": 0
      },
      "text/plain": [
       "  0%|          | 0/4000 [00:00<?, ?it/s]"
      ]
     },
     "metadata": {},
     "output_type": "display_data"
    },
    {
     "data": {
      "application/vnd.jupyter.widget-view+json": {
       "model_id": "22354d60aa394437a794fe64f311dc7d",
       "version_major": 2,
       "version_minor": 0
      },
      "text/plain": [
       "  0%|          | 0/4000 [00:00<?, ?it/s]"
      ]
     },
     "metadata": {},
     "output_type": "display_data"
    },
    {
     "data": {
      "application/vnd.jupyter.widget-view+json": {
       "model_id": "87c36974d6914d28a6590119b5cb7469",
       "version_major": 2,
       "version_minor": 0
      },
      "text/plain": [
       "  0%|          | 0/4000 [00:00<?, ?it/s]"
      ]
     },
     "metadata": {},
     "output_type": "display_data"
    },
    {
     "data": {
      "application/vnd.jupyter.widget-view+json": {
       "model_id": "c1bf8caace944ee98189f35c16ec9c84",
       "version_major": 2,
       "version_minor": 0
      },
      "text/plain": [
       "  0%|          | 0/4000 [00:00<?, ?it/s]"
      ]
     },
     "metadata": {},
     "output_type": "display_data"
    },
    {
     "data": {
      "application/vnd.jupyter.widget-view+json": {
       "model_id": "bf8d6e83fe2148788dd8ae917c970e16",
       "version_major": 2,
       "version_minor": 0
      },
      "text/plain": [
       "  0%|          | 0/4000 [00:00<?, ?it/s]"
      ]
     },
     "metadata": {},
     "output_type": "display_data"
    },
    {
     "data": {
      "application/vnd.jupyter.widget-view+json": {
       "model_id": "fd5a0f4e76e14464afb52d6ad9ae8291",
       "version_major": 2,
       "version_minor": 0
      },
      "text/plain": [
       "  0%|          | 0/4000 [00:00<?, ?it/s]"
      ]
     },
     "metadata": {},
     "output_type": "display_data"
    },
    {
     "data": {
      "application/vnd.jupyter.widget-view+json": {
       "model_id": "d29c712939a84272befed2d55303b2b8",
       "version_major": 2,
       "version_minor": 0
      },
      "text/plain": [
       "  0%|          | 0/4000 [00:00<?, ?it/s]"
      ]
     },
     "metadata": {},
     "output_type": "display_data"
    },
    {
     "data": {
      "application/vnd.jupyter.widget-view+json": {
       "model_id": "423de2599ad7412c98d07b1c7350169b",
       "version_major": 2,
       "version_minor": 0
      },
      "text/plain": [
       "  0%|          | 0/4000 [00:00<?, ?it/s]"
      ]
     },
     "metadata": {},
     "output_type": "display_data"
    },
    {
     "data": {
      "application/vnd.jupyter.widget-view+json": {
       "model_id": "5215060a6ac04a2ea9272fa9a3c1cf38",
       "version_major": 2,
       "version_minor": 0
      },
      "text/plain": [
       "  0%|          | 0/4000 [00:00<?, ?it/s]"
      ]
     },
     "metadata": {},
     "output_type": "display_data"
    },
    {
     "data": {
      "application/vnd.jupyter.widget-view+json": {
       "model_id": "81e84b886e86484e98bedd19041a3072",
       "version_major": 2,
       "version_minor": 0
      },
      "text/plain": [
       "  0%|          | 0/4000 [00:00<?, ?it/s]"
      ]
     },
     "metadata": {},
     "output_type": "display_data"
    },
    {
     "data": {
      "application/vnd.jupyter.widget-view+json": {
       "model_id": "4554efeb1f8448f981d6fd733911aa6a",
       "version_major": 2,
       "version_minor": 0
      },
      "text/plain": [
       "  0%|          | 0/4000 [00:00<?, ?it/s]"
      ]
     },
     "metadata": {},
     "output_type": "display_data"
    },
    {
     "data": {
      "application/vnd.jupyter.widget-view+json": {
       "model_id": "bf2c1c4e5ab54b7ba0befc629ce3e9e6",
       "version_major": 2,
       "version_minor": 0
      },
      "text/plain": [
       "  0%|          | 0/4000 [00:00<?, ?it/s]"
      ]
     },
     "metadata": {},
     "output_type": "display_data"
    },
    {
     "data": {
      "application/vnd.jupyter.widget-view+json": {
       "model_id": "3eab441ecdd849308f481684c5d46dcc",
       "version_major": 2,
       "version_minor": 0
      },
      "text/plain": [
       "  0%|          | 0/4000 [00:00<?, ?it/s]"
      ]
     },
     "metadata": {},
     "output_type": "display_data"
    },
    {
     "data": {
      "application/vnd.jupyter.widget-view+json": {
       "model_id": "dc818654644541ee942288ef5bfdca0c",
       "version_major": 2,
       "version_minor": 0
      },
      "text/plain": [
       "  0%|          | 0/4000 [00:00<?, ?it/s]"
      ]
     },
     "metadata": {},
     "output_type": "display_data"
    },
    {
     "data": {
      "application/vnd.jupyter.widget-view+json": {
       "model_id": "541bf665769849efafd8d01c8d7a6d33",
       "version_major": 2,
       "version_minor": 0
      },
      "text/plain": [
       "  0%|          | 0/4000 [00:00<?, ?it/s]"
      ]
     },
     "metadata": {},
     "output_type": "display_data"
    },
    {
     "data": {
      "application/vnd.jupyter.widget-view+json": {
       "model_id": "85d3fd8fe68f43eaae0e945759b0fc4f",
       "version_major": 2,
       "version_minor": 0
      },
      "text/plain": [
       "  0%|          | 0/4000 [00:00<?, ?it/s]"
      ]
     },
     "metadata": {},
     "output_type": "display_data"
    },
    {
     "data": {
      "application/vnd.jupyter.widget-view+json": {
       "model_id": "258390eb12934469924daf28a02bad71",
       "version_major": 2,
       "version_minor": 0
      },
      "text/plain": [
       "  0%|          | 0/4000 [00:00<?, ?it/s]"
      ]
     },
     "metadata": {},
     "output_type": "display_data"
    },
    {
     "data": {
      "application/vnd.jupyter.widget-view+json": {
       "model_id": "ee7eeb6087b642a3be162f02ce8daa34",
       "version_major": 2,
       "version_minor": 0
      },
      "text/plain": [
       "  0%|          | 0/4000 [00:00<?, ?it/s]"
      ]
     },
     "metadata": {},
     "output_type": "display_data"
    },
    {
     "data": {
      "application/vnd.jupyter.widget-view+json": {
       "model_id": "696eb7b9fcae4220a682f7f24fa78ff7",
       "version_major": 2,
       "version_minor": 0
      },
      "text/plain": [
       "  0%|          | 0/4000 [00:00<?, ?it/s]"
      ]
     },
     "metadata": {},
     "output_type": "display_data"
    },
    {
     "data": {
      "application/vnd.jupyter.widget-view+json": {
       "model_id": "a4b1d172741f4840aef87159470bcccd",
       "version_major": 2,
       "version_minor": 0
      },
      "text/plain": [
       "  0%|          | 0/4000 [00:00<?, ?it/s]"
      ]
     },
     "metadata": {},
     "output_type": "display_data"
    },
    {
     "data": {
      "application/vnd.jupyter.widget-view+json": {
       "model_id": "10abb1122b90448ab5f8954d1e7d4122",
       "version_major": 2,
       "version_minor": 0
      },
      "text/plain": [
       "  0%|          | 0/4000 [00:00<?, ?it/s]"
      ]
     },
     "metadata": {},
     "output_type": "display_data"
    },
    {
     "data": {
      "application/vnd.jupyter.widget-view+json": {
       "model_id": "3bc08b6ff0104e9ab1952fec198a7a4a",
       "version_major": 2,
       "version_minor": 0
      },
      "text/plain": [
       "  0%|          | 0/4000 [00:00<?, ?it/s]"
      ]
     },
     "metadata": {},
     "output_type": "display_data"
    },
    {
     "data": {
      "application/vnd.jupyter.widget-view+json": {
       "model_id": "f780385f15c04b49a6ff561c7b206401",
       "version_major": 2,
       "version_minor": 0
      },
      "text/plain": [
       "  0%|          | 0/4000 [00:00<?, ?it/s]"
      ]
     },
     "metadata": {},
     "output_type": "display_data"
    },
    {
     "data": {
      "application/vnd.jupyter.widget-view+json": {
       "model_id": "7e11032094394499a2a0f9b6a634d31c",
       "version_major": 2,
       "version_minor": 0
      },
      "text/plain": [
       "  0%|          | 0/4000 [00:00<?, ?it/s]"
      ]
     },
     "metadata": {},
     "output_type": "display_data"
    },
    {
     "data": {
      "application/vnd.jupyter.widget-view+json": {
       "model_id": "d038e0c64f0247e69070e5e22ba54710",
       "version_major": 2,
       "version_minor": 0
      },
      "text/plain": [
       "  0%|          | 0/4000 [00:00<?, ?it/s]"
      ]
     },
     "metadata": {},
     "output_type": "display_data"
    },
    {
     "data": {
      "application/vnd.jupyter.widget-view+json": {
       "model_id": "78f55d5c4b4d4dbd84dfdf6ac68a7ca9",
       "version_major": 2,
       "version_minor": 0
      },
      "text/plain": [
       "  0%|          | 0/4000 [00:00<?, ?it/s]"
      ]
     },
     "metadata": {},
     "output_type": "display_data"
    },
    {
     "data": {
      "application/vnd.jupyter.widget-view+json": {
       "model_id": "6581b8d405db487bb05330c4a4232627",
       "version_major": 2,
       "version_minor": 0
      },
      "text/plain": [
       "  0%|          | 0/4000 [00:00<?, ?it/s]"
      ]
     },
     "metadata": {},
     "output_type": "display_data"
    },
    {
     "data": {
      "application/vnd.jupyter.widget-view+json": {
       "model_id": "2ab764d1f1ac42e2b9225e6592a6189f",
       "version_major": 2,
       "version_minor": 0
      },
      "text/plain": [
       "  0%|          | 0/4000 [00:00<?, ?it/s]"
      ]
     },
     "metadata": {},
     "output_type": "display_data"
    },
    {
     "data": {
      "application/vnd.jupyter.widget-view+json": {
       "model_id": "6621fce78bf54ccd8a9326f455d009c2",
       "version_major": 2,
       "version_minor": 0
      },
      "text/plain": [
       "  0%|          | 0/4000 [00:00<?, ?it/s]"
      ]
     },
     "metadata": {},
     "output_type": "display_data"
    },
    {
     "data": {
      "application/vnd.jupyter.widget-view+json": {
       "model_id": "a784f2b4bd4d41aca9ffa97196c84831",
       "version_major": 2,
       "version_minor": 0
      },
      "text/plain": [
       "  0%|          | 0/4000 [00:00<?, ?it/s]"
      ]
     },
     "metadata": {},
     "output_type": "display_data"
    },
    {
     "data": {
      "application/vnd.jupyter.widget-view+json": {
       "model_id": "7f974accaa42410f8861d84022e7e254",
       "version_major": 2,
       "version_minor": 0
      },
      "text/plain": [
       "  0%|          | 0/4000 [00:00<?, ?it/s]"
      ]
     },
     "metadata": {},
     "output_type": "display_data"
    },
    {
     "data": {
      "application/vnd.jupyter.widget-view+json": {
       "model_id": "689ac88aaf19414dab81762c3809ab7f",
       "version_major": 2,
       "version_minor": 0
      },
      "text/plain": [
       "  0%|          | 0/4000 [00:00<?, ?it/s]"
      ]
     },
     "metadata": {},
     "output_type": "display_data"
    },
    {
     "data": {
      "application/vnd.jupyter.widget-view+json": {
       "model_id": "16d689fd155843db8b11f7058b94a366",
       "version_major": 2,
       "version_minor": 0
      },
      "text/plain": [
       "  0%|          | 0/4000 [00:00<?, ?it/s]"
      ]
     },
     "metadata": {},
     "output_type": "display_data"
    },
    {
     "data": {
      "application/vnd.jupyter.widget-view+json": {
       "model_id": "40baabfd227646109a04485517766619",
       "version_major": 2,
       "version_minor": 0
      },
      "text/plain": [
       "  0%|          | 0/4000 [00:00<?, ?it/s]"
      ]
     },
     "metadata": {},
     "output_type": "display_data"
    },
    {
     "data": {
      "application/vnd.jupyter.widget-view+json": {
       "model_id": "0f1e080ae49c4e358c39c2e556d1a61b",
       "version_major": 2,
       "version_minor": 0
      },
      "text/plain": [
       "  0%|          | 0/4000 [00:00<?, ?it/s]"
      ]
     },
     "metadata": {},
     "output_type": "display_data"
    },
    {
     "data": {
      "application/vnd.jupyter.widget-view+json": {
       "model_id": "7312dad7efff458ab58d853d57cec9f3",
       "version_major": 2,
       "version_minor": 0
      },
      "text/plain": [
       "  0%|          | 0/4000 [00:00<?, ?it/s]"
      ]
     },
     "metadata": {},
     "output_type": "display_data"
    },
    {
     "data": {
      "application/vnd.jupyter.widget-view+json": {
       "model_id": "7c419ae775ec4916af289eeb9431d717",
       "version_major": 2,
       "version_minor": 0
      },
      "text/plain": [
       "  0%|          | 0/4000 [00:00<?, ?it/s]"
      ]
     },
     "metadata": {},
     "output_type": "display_data"
    },
    {
     "data": {
      "application/vnd.jupyter.widget-view+json": {
       "model_id": "573f8f5bb258428d90cb4bc3e93516c7",
       "version_major": 2,
       "version_minor": 0
      },
      "text/plain": [
       "  0%|          | 0/4000 [00:00<?, ?it/s]"
      ]
     },
     "metadata": {},
     "output_type": "display_data"
    },
    {
     "data": {
      "application/vnd.jupyter.widget-view+json": {
       "model_id": "e835e7b2419a4cc980818f542abae5f8",
       "version_major": 2,
       "version_minor": 0
      },
      "text/plain": [
       "  0%|          | 0/4000 [00:00<?, ?it/s]"
      ]
     },
     "metadata": {},
     "output_type": "display_data"
    },
    {
     "data": {
      "application/vnd.jupyter.widget-view+json": {
       "model_id": "fd47418ddfe4482080e76dae3bbba7b9",
       "version_major": 2,
       "version_minor": 0
      },
      "text/plain": [
       "  0%|          | 0/4000 [00:00<?, ?it/s]"
      ]
     },
     "metadata": {},
     "output_type": "display_data"
    },
    {
     "data": {
      "application/vnd.jupyter.widget-view+json": {
       "model_id": "96a9f042aa0c4cc8ae1e921bc3a4ce7f",
       "version_major": 2,
       "version_minor": 0
      },
      "text/plain": [
       "  0%|          | 0/4000 [00:00<?, ?it/s]"
      ]
     },
     "metadata": {},
     "output_type": "display_data"
    },
    {
     "data": {
      "application/vnd.jupyter.widget-view+json": {
       "model_id": "43e581bc5ee445bc9751a611f4c50b38",
       "version_major": 2,
       "version_minor": 0
      },
      "text/plain": [
       "  0%|          | 0/4000 [00:00<?, ?it/s]"
      ]
     },
     "metadata": {},
     "output_type": "display_data"
    },
    {
     "data": {
      "application/vnd.jupyter.widget-view+json": {
       "model_id": "7304cd08695e4e68819ab100891f3e7b",
       "version_major": 2,
       "version_minor": 0
      },
      "text/plain": [
       "  0%|          | 0/4000 [00:00<?, ?it/s]"
      ]
     },
     "metadata": {},
     "output_type": "display_data"
    },
    {
     "data": {
      "application/vnd.jupyter.widget-view+json": {
       "model_id": "6a35fa549b654b19867e6ac4529965f5",
       "version_major": 2,
       "version_minor": 0
      },
      "text/plain": [
       "  0%|          | 0/4000 [00:00<?, ?it/s]"
      ]
     },
     "metadata": {},
     "output_type": "display_data"
    },
    {
     "data": {
      "application/vnd.jupyter.widget-view+json": {
       "model_id": "0fd87c86e02640a99234afc67411bf40",
       "version_major": 2,
       "version_minor": 0
      },
      "text/plain": [
       "  0%|          | 0/4000 [00:00<?, ?it/s]"
      ]
     },
     "metadata": {},
     "output_type": "display_data"
    },
    {
     "data": {
      "application/vnd.jupyter.widget-view+json": {
       "model_id": "6b88f80bc97f42f0a2b2084a7763bc53",
       "version_major": 2,
       "version_minor": 0
      },
      "text/plain": [
       "  0%|          | 0/4000 [00:00<?, ?it/s]"
      ]
     },
     "metadata": {},
     "output_type": "display_data"
    },
    {
     "data": {
      "application/vnd.jupyter.widget-view+json": {
       "model_id": "25741de4fd6645f9b09aa484b597039d",
       "version_major": 2,
       "version_minor": 0
      },
      "text/plain": [
       "  0%|          | 0/4000 [00:00<?, ?it/s]"
      ]
     },
     "metadata": {},
     "output_type": "display_data"
    },
    {
     "data": {
      "application/vnd.jupyter.widget-view+json": {
       "model_id": "f7b4a3b6750a47e4979a693b939af7be",
       "version_major": 2,
       "version_minor": 0
      },
      "text/plain": [
       "  0%|          | 0/4000 [00:00<?, ?it/s]"
      ]
     },
     "metadata": {},
     "output_type": "display_data"
    },
    {
     "data": {
      "application/vnd.jupyter.widget-view+json": {
       "model_id": "029fef6d447544f5a7e22cd38f77ee5f",
       "version_major": 2,
       "version_minor": 0
      },
      "text/plain": [
       "  0%|          | 0/4000 [00:00<?, ?it/s]"
      ]
     },
     "metadata": {},
     "output_type": "display_data"
    },
    {
     "data": {
      "application/vnd.jupyter.widget-view+json": {
       "model_id": "7a5d351d6fcb4fae9ed13989e7011778",
       "version_major": 2,
       "version_minor": 0
      },
      "text/plain": [
       "  0%|          | 0/4000 [00:00<?, ?it/s]"
      ]
     },
     "metadata": {},
     "output_type": "display_data"
    },
    {
     "data": {
      "application/vnd.jupyter.widget-view+json": {
       "model_id": "ef659eab07a64a52ae377c5eafe57ff5",
       "version_major": 2,
       "version_minor": 0
      },
      "text/plain": [
       "  0%|          | 0/4000 [00:00<?, ?it/s]"
      ]
     },
     "metadata": {},
     "output_type": "display_data"
    },
    {
     "data": {
      "application/vnd.jupyter.widget-view+json": {
       "model_id": "80521e4b07f948fe8a832f1333d7e19e",
       "version_major": 2,
       "version_minor": 0
      },
      "text/plain": [
       "  0%|          | 0/4000 [00:00<?, ?it/s]"
      ]
     },
     "metadata": {},
     "output_type": "display_data"
    },
    {
     "data": {
      "application/vnd.jupyter.widget-view+json": {
       "model_id": "b41401a8c2b04b239c48a542adeb00ae",
       "version_major": 2,
       "version_minor": 0
      },
      "text/plain": [
       "  0%|          | 0/4000 [00:00<?, ?it/s]"
      ]
     },
     "metadata": {},
     "output_type": "display_data"
    },
    {
     "data": {
      "application/vnd.jupyter.widget-view+json": {
       "model_id": "1f77c41583f142878c49b7fcf16001f3",
       "version_major": 2,
       "version_minor": 0
      },
      "text/plain": [
       "  0%|          | 0/4000 [00:00<?, ?it/s]"
      ]
     },
     "metadata": {},
     "output_type": "display_data"
    },
    {
     "data": {
      "application/vnd.jupyter.widget-view+json": {
       "model_id": "97fc0032adbe4ac48ca15b030ba32d1b",
       "version_major": 2,
       "version_minor": 0
      },
      "text/plain": [
       "  0%|          | 0/4000 [00:00<?, ?it/s]"
      ]
     },
     "metadata": {},
     "output_type": "display_data"
    },
    {
     "data": {
      "application/vnd.jupyter.widget-view+json": {
       "model_id": "7481e5a9f06549a38016ad59e23f01f7",
       "version_major": 2,
       "version_minor": 0
      },
      "text/plain": [
       "  0%|          | 0/4000 [00:00<?, ?it/s]"
      ]
     },
     "metadata": {},
     "output_type": "display_data"
    },
    {
     "data": {
      "application/vnd.jupyter.widget-view+json": {
       "model_id": "f5f4b107cc834faaae3cf03be18a8cd8",
       "version_major": 2,
       "version_minor": 0
      },
      "text/plain": [
       "  0%|          | 0/4000 [00:00<?, ?it/s]"
      ]
     },
     "metadata": {},
     "output_type": "display_data"
    }
   ],
   "source": [
    "loo_ptn = model_reloo(mcmc_ptn, kernel_ptn, k_thresh=.70)"
   ]
  },
  {
   "cell_type": "code",
   "execution_count": 21,
   "id": "noticed-accommodation",
   "metadata": {},
   "outputs": [
    {
     "name": "stdout",
     "output_type": "stream",
     "text": [
      "Participant mean response corr =  0.667\n",
      "Query-level corr 0.84\n"
     ]
    },
    {
     "data": {
      "image/png": "[encoded data removed]",
      "text/plain": [
       "<Figure size 1080x360 with 3 Axes>"
      ]
     },
     "metadata": {
      "needs_background": "light"
     },
     "output_type": "display_data"
    }
   ],
   "source": [
    "az_data_ptn = make_arviz_data(mcmc_ptn, PTN_complex, X_data) # see model_helpers.py\n",
    "pickle.dump(az_data_ptn, open(\"local/exp2/az_data_ptn.p\", \"wb\"))\n",
    "pickle.dump(loo_ptn, open(\"local/exp2/loo_ptn.p\", \"wb\"))\n",
    "plot_model_preds(df, az_data_ptn)"
   ]
  },
  {
   "cell_type": "code",
   "execution_count": 22,
   "id": "touched-lloyd",
   "metadata": {},
   "outputs": [],
   "source": [
    "# az.compare(\n",
    "#     {\n",
    "#         \"P+TN complex\":az_data_ptn, \n",
    "#         \"Bayesian Sampler complex\": az_data_bs, \n",
    "#         \"P+TN simple\":az_data_ptn_simple, \n",
    "#         \"Bayesian Sampler simple\": az_data_bs_simple, \n",
    "#         \"Relative Freq.\":az_data_rf\n",
    "#     }, \n",
    "#     scale=\"deviance\", ic=\"loo\")"
   ]
  },
  {
   "cell_type": "markdown",
   "id": "willing-juice",
   "metadata": {},
   "source": [
    "NOTE: There there are some \"very bad\" samples, so should run `reloo()` to fix those, following this [arviz tutorial](https://arviz-devs.github.io/arviz/user_guide/numpyro_refitting_xr_lik.html) (per this [stackoverflow post](https://stats.stackexchange.com/questions/304958/warnings-during-waic-computation-how-to-proceed)). Unfortunately this is a bit tricky/not fully documented for Arviz, making it infeasible to implement at this time.\n"
   ]
  },
  {
   "cell_type": "markdown",
   "id": "female-length",
   "metadata": {},
   "source": [
    "# Summary and comparison of models\n",
    "\n",
    "All three models have now been implemented as probabilistic programs, and we have obtained samples for each. [This paper](https://arxiv.org/abs/1507.04544) describes how to compare them using information criteria.\n",
    "\n",
    "* Both the PT+N and Bayesian sampler models are far better than the naive relative frequency model.\n",
    "* The two models cannot really be distinguished reliably from one another however.\n",
    "\n",
    "# Hierarchical Bayesian Sampler\n",
    "\n",
    "Unpooled models may be overpenalized for complexity if the heterogenity among participants is actually low. Here I implement hierarchical versions of the PT+N and Bayesian Sampler models that impelement partial pooling. This allows for sharing of information and potentially reduced model complexity.\n",
    "\n",
    "## Simple\n",
    "\n",
    "First, a hierarchical version with a population level $d$ and subject-level $d_{subj}$ parameters.\n"
   ]
  },
  {
   "cell_type": "code",
   "execution_count": 23,
   "id": "chief-archives",
   "metadata": {},
   "outputs": [
    {
     "data": {
      "application/vnd.jupyter.widget-view+json": {
       "model_id": "ac323a407d3e47259ee8f2f0ab334883",
       "version_major": 2,
       "version_minor": 0
      },
      "text/plain": [
       "  0%|          | 0/4000 [00:00<?, ?it/s]"
      ]
     },
     "metadata": {},
     "output_type": "display_data"
    },
    {
     "data": {
      "application/vnd.jupyter.widget-view+json": {
       "model_id": "05d5bffaccc24dc0ae800c673c674153",
       "version_major": 2,
       "version_minor": 0
      },
      "text/plain": [
       "  0%|          | 0/4000 [00:00<?, ?it/s]"
      ]
     },
     "metadata": {},
     "output_type": "display_data"
    },
    {
     "data": {
      "application/vnd.jupyter.widget-view+json": {
       "model_id": "dbcce38225164ea88bf31d104967531d",
       "version_major": 2,
       "version_minor": 0
      },
      "text/plain": [
       "  0%|          | 0/4000 [00:00<?, ?it/s]"
      ]
     },
     "metadata": {},
     "output_type": "display_data"
    },
    {
     "data": {
      "application/vnd.jupyter.widget-view+json": {
       "model_id": "a7976397314b414d9b5c272321791191",
       "version_major": 2,
       "version_minor": 0
      },
      "text/plain": [
       "  0%|          | 0/4000 [00:00<?, ?it/s]"
      ]
     },
     "metadata": {},
     "output_type": "display_data"
    }
   ],
   "source": [
    "kernel_bs_mlm_simple = NUTS(bayesian_sampler_simple_mlm_d, target_accept_prob=.95) # need the higher prob and more samples to get good rhats\n",
    "\n",
    "mcmc_bs_mlm_simple = MCMC(kernel_bs_mlm_simple,\n",
    "               num_warmup=2_000, \n",
    "               num_samples=2_000, \n",
    "               num_chains=4)\n",
    "# \n",
    "mcmc_bs_mlm_simple.run(random.PRNGKey(0), X_data, y_data)"
   ]
  },
  {
   "cell_type": "code",
   "execution_count": null,
   "id": "intense-friendship",
   "metadata": {},
   "outputs": [
    {
     "name": "stderr",
     "output_type": "stream",
     "text": [
      "/opt/conda/lib/python3.8/site-packages/arviz/stats/stats.py:694: UserWarning: Estimated shape parameter of Pareto distribution is greater than 0.7 for one or more samples. You should consider using a more robust model, this is because importance sampling is less likely to work well if the marginal posterior and LOO posterior are very different. This is more likely to happen with a non-robust model and highly influential observations.\n",
      "  warnings.warn(\n",
      "/opt/conda/lib/python3.8/site-packages/arviz/stats/stats_refitting.py:99: UserWarning: reloo is an experimental and untested feature\n",
      "  warnings.warn(\"reloo is an experimental and untested feature\", UserWarning)\n"
     ]
    },
    {
     "data": {
      "application/vnd.jupyter.widget-view+json": {
       "model_id": "c7b62f36e67441419c6a3802d7ec30bf",
       "version_major": 2,
       "version_minor": 0
      },
      "text/plain": [
       "  0%|          | 0/4000 [00:00<?, ?it/s]"
      ]
     },
     "metadata": {},
     "output_type": "display_data"
    },
    {
     "data": {
      "application/vnd.jupyter.widget-view+json": {
       "model_id": "e05f55cb448344a99d558bf4f7ec38b9",
       "version_major": 2,
       "version_minor": 0
      },
      "text/plain": [
       "  0%|          | 0/4000 [00:00<?, ?it/s]"
      ]
     },
     "metadata": {},
     "output_type": "display_data"
    },
    {
     "data": {
      "application/vnd.jupyter.widget-view+json": {
       "model_id": "da8ea926cdfd43888c5a92b2c6fa9a0f",
       "version_major": 2,
       "version_minor": 0
      },
      "text/plain": [
       "  0%|          | 0/4000 [00:00<?, ?it/s]"
      ]
     },
     "metadata": {},
     "output_type": "display_data"
    },
    {
     "data": {
      "application/vnd.jupyter.widget-view+json": {
       "model_id": "b27e499fa8ce46448eb0f8b1297579a9",
       "version_major": 2,
       "version_minor": 0
      },
      "text/plain": [
       "  0%|          | 0/4000 [00:00<?, ?it/s]"
      ]
     },
     "metadata": {},
     "output_type": "display_data"
    },
    {
     "data": {
      "application/vnd.jupyter.widget-view+json": {
       "model_id": "3d10cf8a080c4e7eb45bd63e35c7b0c2",
       "version_major": 2,
       "version_minor": 0
      },
      "text/plain": [
       "  0%|          | 0/4000 [00:00<?, ?it/s]"
      ]
     },
     "metadata": {},
     "output_type": "display_data"
    },
    {
     "data": {
      "application/vnd.jupyter.widget-view+json": {
       "model_id": "fe36bd8dfc5c4616ad04428f596e09ea",
       "version_major": 2,
       "version_minor": 0
      },
      "text/plain": [
       "  0%|          | 0/4000 [00:00<?, ?it/s]"
      ]
     },
     "metadata": {},
     "output_type": "display_data"
    },
    {
     "data": {
      "application/vnd.jupyter.widget-view+json": {
       "model_id": "318fd5d132e34d67b0912d1409f559eb",
       "version_major": 2,
       "version_minor": 0
      },
      "text/plain": [
       "  0%|          | 0/4000 [00:00<?, ?it/s]"
      ]
     },
     "metadata": {},
     "output_type": "display_data"
    },
    {
     "data": {
      "application/vnd.jupyter.widget-view+json": {
       "model_id": "bff5e55594914452999bbd1a7d2dce5c",
       "version_major": 2,
       "version_minor": 0
      },
      "text/plain": [
       "  0%|          | 0/4000 [00:00<?, ?it/s]"
      ]
     },
     "metadata": {},
     "output_type": "display_data"
    },
    {
     "data": {
      "application/vnd.jupyter.widget-view+json": {
       "model_id": "b21d08089e0244aa8492b7346232ce97",
       "version_major": 2,
       "version_minor": 0
      },
      "text/plain": [
       "  0%|          | 0/4000 [00:00<?, ?it/s]"
      ]
     },
     "metadata": {},
     "output_type": "display_data"
    },
    {
     "data": {
      "application/vnd.jupyter.widget-view+json": {
       "model_id": "94d31565ca03411db35e4ad744f83ed0",
       "version_major": 2,
       "version_minor": 0
      },
      "text/plain": [
       "  0%|          | 0/4000 [00:00<?, ?it/s]"
      ]
     },
     "metadata": {},
     "output_type": "display_data"
    },
    {
     "data": {
      "application/vnd.jupyter.widget-view+json": {
       "model_id": "6c6037bd8c9b44ceb614e3408c5d41eb",
       "version_major": 2,
       "version_minor": 0
      },
      "text/plain": [
       "  0%|          | 0/4000 [00:00<?, ?it/s]"
      ]
     },
     "metadata": {},
     "output_type": "display_data"
    },
    {
     "data": {
      "application/vnd.jupyter.widget-view+json": {
       "model_id": "394170ce5a7e406e856d53c09e96d80c",
       "version_major": 2,
       "version_minor": 0
      },
      "text/plain": [
       "  0%|          | 0/4000 [00:00<?, ?it/s]"
      ]
     },
     "metadata": {},
     "output_type": "display_data"
    },
    {
     "data": {
      "application/vnd.jupyter.widget-view+json": {
       "model_id": "36ac65e6db634e3cae9da0e5912f26a2",
       "version_major": 2,
       "version_minor": 0
      },
      "text/plain": [
       "  0%|          | 0/4000 [00:00<?, ?it/s]"
      ]
     },
     "metadata": {},
     "output_type": "display_data"
    },
    {
     "data": {
      "application/vnd.jupyter.widget-view+json": {
       "model_id": "b42db61478774f16a27ffa06cc67b6bd",
       "version_major": 2,
       "version_minor": 0
      },
      "text/plain": [
       "  0%|          | 0/4000 [00:00<?, ?it/s]"
      ]
     },
     "metadata": {},
     "output_type": "display_data"
    },
    {
     "data": {
      "application/vnd.jupyter.widget-view+json": {
       "model_id": "6dd4b20272d54300b651eec94c76c9e3",
       "version_major": 2,
       "version_minor": 0
      },
      "text/plain": [
       "  0%|          | 0/4000 [00:00<?, ?it/s]"
      ]
     },
     "metadata": {},
     "output_type": "display_data"
    },
    {
     "data": {
      "application/vnd.jupyter.widget-view+json": {
       "model_id": "5ada578713024ac489b76bef3202d05f",
       "version_major": 2,
       "version_minor": 0
      },
      "text/plain": [
       "  0%|          | 0/4000 [00:00<?, ?it/s]"
      ]
     },
     "metadata": {},
     "output_type": "display_data"
    },
    {
     "data": {
      "application/vnd.jupyter.widget-view+json": {
       "model_id": "d90ada39e0c44c909ef56f698e68ca52",
       "version_major": 2,
       "version_minor": 0
      },
      "text/plain": [
       "  0%|          | 0/4000 [00:00<?, ?it/s]"
      ]
     },
     "metadata": {},
     "output_type": "display_data"
    },
    {
     "data": {
      "application/vnd.jupyter.widget-view+json": {
       "model_id": "639fcda20ff94896aca94ea0e813acce",
       "version_major": 2,
       "version_minor": 0
      },
      "text/plain": [
       "  0%|          | 0/4000 [00:00<?, ?it/s]"
      ]
     },
     "metadata": {},
     "output_type": "display_data"
    },
    {
     "data": {
      "application/vnd.jupyter.widget-view+json": {
       "model_id": "c66be17a45244e23989b49adeffdd784",
       "version_major": 2,
       "version_minor": 0
      },
      "text/plain": [
       "  0%|          | 0/4000 [00:00<?, ?it/s]"
      ]
     },
     "metadata": {},
     "output_type": "display_data"
    },
    {
     "data": {
      "application/vnd.jupyter.widget-view+json": {
       "model_id": "4d13058cb1854d55ba33b2711bb112f3",
       "version_major": 2,
       "version_minor": 0
      },
      "text/plain": [
       "  0%|          | 0/4000 [00:00<?, ?it/s]"
      ]
     },
     "metadata": {},
     "output_type": "display_data"
    }
   ],
   "source": [
    "loo_bs_mlm_simple = model_reloo(mcmc_bs_mlm_simple, kernel_bs_mlm_simple, k_thresh=.70)"
   ]
  },
  {
   "cell_type": "code",
   "execution_count": null,
   "id": "polar-cancer",
   "metadata": {},
   "outputs": [],
   "source": [
    "az_data_bs_mlm_simple = make_arviz_data(mcmc_bs_mlm_simple, bayesian_sampler_simple_mlm_d, X_data) # see model_helpers.py\n",
    "pickle.dump(az_data_bs_mlm_simple, open(\"local/exp2/az_data_bs_mlm_simple.p\", \"wb\"))\n",
    "pickle.dump(loo_bs_mlm_simple, open(\"local/exp2/loo_bs_mlm_simple.p\", \"wb\"))\n",
    "plot_model_preds(df, az_data_bs_mlm_simple)"
   ]
  },
  {
   "cell_type": "code",
   "execution_count": null,
   "id": "concerned-translation",
   "metadata": {},
   "outputs": [],
   "source": [
    "az.summary(az_data_bs_mlm_simple, var_names=['d_base_sd','d_base_pop'])"
   ]
  },
  {
   "cell_type": "markdown",
   "id": "prospective-tablet",
   "metadata": {},
   "source": [
    "## Complex\n",
    "\n",
    "Then, a complex version with $d$ and $d'$ and subject-level $d_{subj}$ and $d'_{subj}$ parameters."
   ]
  },
  {
   "cell_type": "code",
   "execution_count": null,
   "id": "floral-attachment",
   "metadata": {},
   "outputs": [],
   "source": [
    "kernel_bs_complex_mlm = NUTS(bayesian_sampler_complex_mlm_d, target_accept_prob=.95) # need the higher prob and more samples to get good rhats\n",
    "mcmc_bs_mlm = MCMC(kernel_bs_complex_mlm,\n",
    "               num_warmup=2_000, \n",
    "               num_samples=2_000, \n",
    "               num_chains=4)\n",
    "# \n",
    "mcmc_bs_mlm.run(random.PRNGKey(0), X_data, y_data)"
   ]
  },
  {
   "cell_type": "code",
   "execution_count": null,
   "id": "verbal-train",
   "metadata": {},
   "outputs": [],
   "source": [
    "loo_bs_mlm = model_reloo(mcmc_bs_mlm, kernel_bs_complex_mlm, k_thresh=.70)"
   ]
  },
  {
   "cell_type": "code",
   "execution_count": null,
   "id": "turkish-infection",
   "metadata": {},
   "outputs": [],
   "source": [
    "az_data_bs_mlm = make_arviz_data(mcmc_bs_mlm, bayesian_sampler_complex_mlm_d, X_data) # see model_helpers.py\n",
    "pickle.dump(az_data_bs_mlm, open(\"local/exp2/az_data_bs_mlm.p\", \"wb\"))\n",
    "pickle.dump(loo_bs_mlm, open(\"local/exp2/loo_bs_mlm.p\", \"wb\"))\n",
    "plot_model_preds(df, az_data_bs_mlm)"
   ]
  },
  {
   "cell_type": "code",
   "execution_count": null,
   "id": "precious-flooring",
   "metadata": {},
   "outputs": [],
   "source": [
    "az.summary(az_data_bs_mlm, var_names=['d_base_sd', 'd_delta_sd', 'd_delta_pop', 'd_base_pop'])"
   ]
  },
  {
   "cell_type": "markdown",
   "id": "compliant-senate",
   "metadata": {},
   "source": [
    "# Hierarchical PT+N\n",
    "\n",
    "## Simple"
   ]
  },
  {
   "cell_type": "markdown",
   "id": "obvious-friend",
   "metadata": {},
   "source": [
    "<!-- # Hierarchical PT+N -->\n"
   ]
  },
  {
   "cell_type": "code",
   "execution_count": null,
   "id": "forty-grain",
   "metadata": {},
   "outputs": [],
   "source": [
    "kernel_ptn_mlm_simple = NUTS(PTN_simple_mlm, target_accept_prob=.95)\n",
    "mcmc_ptn_mlm_simple = MCMC(kernel_ptn_mlm_simple,\n",
    "               num_warmup=2_000, \n",
    "               num_samples=2_000, \n",
    "               num_chains=4)\n",
    "\n",
    "mcmc_ptn_mlm_simple.run(random.PRNGKey(0), X_data, y_data)"
   ]
  },
  {
   "cell_type": "code",
   "execution_count": null,
   "id": "happy-specialist",
   "metadata": {},
   "outputs": [],
   "source": [
    "loo_ptn_mlm_simple= model_reloo(mcmc_ptn_mlm_simple, kernel_ptn_mlm_simple, k_thresh=.70)"
   ]
  },
  {
   "cell_type": "code",
   "execution_count": null,
   "id": "generic-kinase",
   "metadata": {},
   "outputs": [],
   "source": [
    "az_data_ptn_mlm_simple = make_arviz_data(mcmc_ptn_mlm_simple, PTN_simple_mlm, X_data) # see model_helpers.py\n",
    "pickle.dump(az_data_ptn_mlm_simple, open(\"local/exp2/az_data_ptn_mlm_simple.p\", \"wb\"))\n",
    "pickle.dump(loo_ptn_mlm_simple, open(\"local/exp2/loo_ptn_mlm_simple.p\", \"wb\"))\n",
    "plot_model_preds(df, az_data_ptn_mlm_simple)"
   ]
  },
  {
   "cell_type": "markdown",
   "id": "stuffed-chrome",
   "metadata": {},
   "source": [
    "## Complex"
   ]
  },
  {
   "cell_type": "code",
   "execution_count": null,
   "id": "attended-prince",
   "metadata": {},
   "outputs": [],
   "source": [
    "kernel_ptn_mlm = NUTS(PTN_complex_mlm, target_accept_prob=.95)\n",
    "mcmc_ptn_mlm = MCMC(kernel_ptn_mlm, \n",
    "               num_warmup=2_000, \n",
    "               num_samples=2_000, \n",
    "               num_chains=4)\n",
    "\n",
    "mcmc_ptn_mlm.run(random.PRNGKey(0), X_data, y_data)"
   ]
  },
  {
   "cell_type": "code",
   "execution_count": null,
   "id": "broad-radiation",
   "metadata": {},
   "outputs": [],
   "source": [
    "loo_ptn_mlm = model_reloo(mcmc_ptn_mlm, kernel_ptn_mlm, k_thresh=.70)"
   ]
  },
  {
   "cell_type": "code",
   "execution_count": null,
   "id": "demographic-problem",
   "metadata": {},
   "outputs": [],
   "source": [
    "az_data_ptn_mlm = make_arviz_data(mcmc_ptn_mlm, PTN_complex_mlm, X_data) # see model_helpers.py\n",
    "pickle.dump(az_data_ptn_mlm, open(\"local/exp2/az_data_ptn_mlm.p\", \"wb\"))\n",
    "pickle.dump(loo_ptn_mlm, open(\"local/exp2/loo_ptn_mlm.p\", \"wb\"))\n",
    "plot_model_preds(df, az_data_ptn_mlm)"
   ]
  },
  {
   "cell_type": "markdown",
   "id": "brilliant-spain",
   "metadata": {},
   "source": [
    "# \"Hybrid\" —unconstrainted $\\beta$ or PT+N without conditional probability account"
   ]
  },
  {
   "cell_type": "code",
   "execution_count": null,
   "id": "blond-italian",
   "metadata": {},
   "outputs": [],
   "source": [
    "kernel_ptn_mlm_simplecond = NUTS(PTN_complex_mlm_simplecond, target_accept_prob=.95)\n",
    "\n",
    "mcmc_ptn_mlm_simplecond = MCMC(kernel_ptn_mlm_simplecond,\n",
    "               num_warmup=2_000, \n",
    "               num_samples=2_000, \n",
    "               num_chains=4)\n",
    "\n",
    "mcmc_ptn_mlm_simplecond.run(random.PRNGKey(0), X_data, y_data)"
   ]
  },
  {
   "cell_type": "code",
   "execution_count": null,
   "id": "cleared-medicare",
   "metadata": {},
   "outputs": [],
   "source": [
    "loo_ptn_mlm_simplecond = model_reloo(mcmc_ptn_mlm_simplecond, kernel_ptn_mlm_simplecond, k_thresh=.70)"
   ]
  },
  {
   "cell_type": "code",
   "execution_count": null,
   "id": "dominican-rocket",
   "metadata": {},
   "outputs": [],
   "source": [
    "az_data_ptn_mlm_simplecond = make_arviz_data(mcmc_ptn_mlm_simplecond, PTN_complex_mlm_simplecond, X_data) # see model_helpers.py\n",
    "pickle.dump(az_data_ptn_mlm_simplecond, open(\"local/exp2/az_data_ptn_mlm_simplecond.p\", \"wb\"))\n",
    "pickle.dump(loo_ptn_mlm_simplecond, open(\"local/exp2/loo_ptn_mlm_simplecond.p\", \"wb\"))\n",
    "plot_model_preds(df, az_data_ptn_mlm_simplecond)"
   ]
  },
  {
   "cell_type": "code",
   "execution_count": null,
   "id": "according-winter",
   "metadata": {},
   "outputs": [],
   "source": [
    "exp2_model_comparison = az.compare(\n",
    "    {\n",
    "        \"P+TN complex\":az_data_ptn, \n",
    "        \"Bayesian Sampler complex\": az_data_bs, \n",
    "        \"P+TN simple\":az_data_ptn_simple, \n",
    "        \"Bayesian Sampler simple\": az_data_bs_simple, \n",
    "        \"Relative Freq.\":az_data_rf,\n",
    "        \"PT+N complex mlm\":az_data_ptn_mlm, \n",
    "        \"PT+N simple mlm\":az_data_ptn_mlm_simple, \n",
    "        \"Bayesian Sampler complex mlm\": az_data_bs_mlm,\n",
    "        \"Bayesian Sampler simple mlm\": az_data_bs_mlm_simple,\n",
    "        \"Hybrid mlm\": az_data_ptn_mlm_simplecond\n",
    "    }, \n",
    "    scale=\"deviance\", ic=\"loo\")"
   ]
  },
  {
   "cell_type": "code",
   "execution_count": null,
   "id": "adjacent-receiver",
   "metadata": {},
   "outputs": [],
   "source": [
    "# model_comp_output = exp2_model_comparison.drop([\"weight\",\"se\",\"warning\",\"loo_scale\"])\n",
    "\n",
    "# with open('local/exp2_model_comparison.tex', 'w') as tf:\n",
    "#      tf.write(model_comp_output.to_latex())\n",
    "        \n",
    "exp2_model_comparison"
   ]
  },
  {
   "cell_type": "code",
   "execution_count": null,
   "id": "posted-comparison",
   "metadata": {},
   "outputs": [],
   "source": [
    "from plotnine import *\n",
    "import siuba as s\n",
    "from siuba import _\n",
    "\n",
    "exp2_model_comparison[\"model\"] = exp2_model_comparison.index\n",
    "\n",
    "(\n",
    "    exp2_model_comparison >>\n",
    "    s.filter(_.model!=\"Relative Freq.\") >>\n",
    "    s.mutate(ul = _.d_loo + _.dse, ll = _.d_loo - _.dse) >>\n",
    "    ggplot(aes(y=\"reorder(model, -d_loo)\",  x= \"d_loo\", xmin=\"ll\", xmax=\"ul\")) +\n",
    "    geom_point(size=2) +\n",
    "    geom_errorbarh(height=.01, size=.5) +\n",
    "    labs(x = \"LOO difference\", y = \"Model\")\n",
    ")"
   ]
  },
  {
   "cell_type": "markdown",
   "id": "sufficient-circular",
   "metadata": {},
   "source": [
    "Interesting that the restricted complex Bayesian Sampler has a higher penalty term than the unrestricted version. Otherwise the relative complexities seem roughly intuitive. ~~Maybe it has something to do with the $\\theta$? Or maybe all the random effects are closer to zero when they aren't restricted?~~ I bet it is because the constraint on d and d' are encouraging pretty extreme values for the parameters on the linear scale, which is making that greater in terms of effective parameters.\n",
    "\n",
    "Even though the models all seem relatively similar, there are pretty big differences in their predictive power! Comparing best to worse, there is about 17% more variance accounted for in condition means, and about 9% more in participant-level responses. \n",
    "\n",
    "# Comparing conditional probability judgments"
   ]
  },
  {
   "cell_type": "code",
   "execution_count": null,
   "id": "elegant-fairy",
   "metadata": {},
   "outputs": [],
   "source": [
    "# zoom in on conditional trials\n",
    "\n",
    "d = df\n",
    "d[\"preds\"] = az_data_bs_mlm.posterior_predictive.mean(dim=['chain', 'draw']).yhat\n",
    "d = d[d.querytype.transform(is_cond).astype(\"bool\")]\n",
    "trial_df = (d\n",
    "                .groupby([\"querytype\", \"querydetail\"])\n",
    "                .agg({\"preds\":\"mean\", \"estimate\":\"mean\"}).reset_index()\n",
    "               )\n",
    "\n",
    "print(\"Bayesian Sampler conditional response corr = \", np.round(np.corrcoef(d.estimate, d.preds)[0,1],4))\n",
    "sns.scatterplot(x = d.preds, y = d.estimate, alpha=.2)\n",
    "print(\"Bayesian Sampler conditional query-level corr\", np.round(np.corrcoef(trial_df.estimate, trial_df.preds)[0,1],4))\n",
    "sns.scatterplot(x = trial_df.preds, y = trial_df.estimate)"
   ]
  },
  {
   "cell_type": "code",
   "execution_count": null,
   "id": "amended-manor",
   "metadata": {},
   "outputs": [],
   "source": [
    "d = df\n",
    "d[\"preds\"] = az_data_ptn_mlm.posterior_predictive.mean(dim=['chain', 'draw']).yhat\n",
    "d = d[d.querytype.transform(is_cond).astype(\"bool\")]\n",
    "\n",
    "trial_df = (d\n",
    "                .groupby([\"querytype\", \"querydetail\"])\n",
    "                .agg({\"preds\":\"mean\", \"estimate\":\"mean\"}).reset_index()\n",
    "               )\n",
    "\n",
    "print(\"PT+N conditional response corr = \", np.round(np.corrcoef(d.estimate, d.preds)[0,1],4))\n",
    "sns.scatterplot(x = d.preds, y = d.estimate, alpha=.2)\n",
    "print(\"PT+N conditional query-level corr\", np.round(np.corrcoef(trial_df.estimate, trial_df.preds)[0,1],4))\n",
    "sns.scatterplot(x = trial_df.preds, y = trial_df.estimate)"
   ]
  },
  {
   "cell_type": "markdown",
   "id": "viral-sugar",
   "metadata": {},
   "source": [
    "Descriptively, the Bayesian Sampler does a better job predicting for conditional trials than does the PT+N model. That's consistent with the the diagnosis that the problem with the PT+N model is its account of conditional probability judgments, although the Bayesian sampler model is also showing a better correlation for non-conditional judgments. My guess there is the estimation of the PT+N model parameters are being biased by its incorrect specification for conditional probability trials."
   ]
  },
  {
   "cell_type": "markdown",
   "id": "innovative-container",
   "metadata": {},
   "source": [
    "# Summary of hierarchical models\n",
    "\n",
    "If you allow values of $\\beta$ greater than 1 in Bayesian Sampler model, then a hierarchical implementation of that model pulls ahead of a hierarchical implementation of PT+N. This is equivalent to stripping out the constructive account of conditional probability judgments from PT+N.\n",
    "\n",
    "These results are pretty decisive in favor of the Bayesian Sampler model's account of conditional probability (these judgments are just like simple probability judgments) and therefore the Bayesian Sampler theory. As for whether we should appeal to \"noise\" or \"priors\", as Zhu and colleage's point out they are essentially indistinguishable at this point. Certain degrees of noise act like certain priors, and vice versa.\n",
    "\n",
    "### A few concerns\n",
    "\n",
    "* Should do more formal prior predictive checks to make sure I am giving more-or-less uninformative priors — however this should be irrelevant to model comparison b/c they are equated.\n",
    "\n",
    "# Inspecting the models"
   ]
  },
  {
   "cell_type": "code",
   "execution_count": null,
   "id": "disabled-footage",
   "metadata": {},
   "outputs": [],
   "source": [
    "# az.plot_posterior(data=az_data_bs_mlm, var_names=[\"beta_pop\"], transform=np.exp)\n",
    "# # az.plot_posterior(data=az_data_bs_mlm, var_names=[\"beta_sd\", \"N_prime_sd\", \"N_delta_sd\"], transform=np.exp)\n",
    "\n",
    "# az_data_bs_mlm.posterior[\"N_base_pop\"] = 1 + np.exp(az_data_bs_mlm.posterior.N_prime_pop) + np.exp(az_data_bs_mlm.posterior.N_delta_pop)\n",
    "# az.plot_posterior(az_data_bs_mlm, var_names=[\"N_base_pop\"])\n",
    "# az.plot_posterior(az_data_bs_mlm, var_names=[\"N_prime_pop\"], transform = lambda x: 1 + np.exp(x))\n",
    "\n",
    "## Implied d\n",
    "az_data_bs_mlm.posterior[\"d_prime_pop\"] = az_data_bs_mlm.posterior.d_base_pop + np.exp(az_data_bs_mlm.posterior.d_delta_pop)\n",
    "az.plot_posterior(az_data_bs_mlm, var_names = [\"d_base_pop\", \"d_prime_pop\"], transform=lambda x: np.exp(-np.logaddexp(0, -x))/3.)\n"
   ]
  },
  {
   "cell_type": "code",
   "execution_count": null,
   "id": "lesbian-backup",
   "metadata": {},
   "outputs": [],
   "source": [
    "# az.plot_forest(data=az_data_bs_mlm, var_names=[\"beta_subj\"],  combined=True)\n",
    "# az.plot_forest(data=az_data_bs_mlm, var_names=[\"N_subj\"], combined=True)\n",
    "# az.plot_forest(data=az_data_bs_mlm, var_names=[\"N_prime_subj\"], combined=True)\n",
    "\n",
    "## implied d\n",
    "az.plot_forest(data=az_data_bs_mlm, var_names=[\"d_subj\"], combined=True)\n",
    "az.plot_forest(data=az_data_bs_mlm, var_names=[\"d_prime_subj\"], combined=True)"
   ]
  },
  {
   "cell_type": "code",
   "execution_count": null,
   "id": "floppy-payroll",
   "metadata": {},
   "outputs": [],
   "source": [
    "print(\"num divergences =\", count_divergences(az_data_bs_mlm))\n",
    "az.summary(az_data_bs_mlm, var_names=['d_base_sd','d_delta_sd'])"
   ]
  },
  {
   "cell_type": "code",
   "execution_count": null,
   "id": "retained-advisory",
   "metadata": {},
   "outputs": [],
   "source": [
    "print(\"num divergences =\", count_divergences(az_data_ptn_mlm_simplecond))\n",
    "az.summary(az_data_ptn_mlm_simplecond, var_names=['d_base_sd','d_delta_sd'])"
   ]
  },
  {
   "cell_type": "code",
   "execution_count": null,
   "id": "tracked-craps",
   "metadata": {},
   "outputs": [],
   "source": [
    "print(\"num divergences =\", count_divergences(az_data_ptn_mlm))\n",
    "az.summary(az_data_ptn_mlm, var_names=['d_base_sd','d_delta_sd'])"
   ]
  },
  {
   "cell_type": "markdown",
   "id": "basic-eclipse",
   "metadata": {},
   "source": [
    "Random effect stuff isn't sampling well. But it looks like it sort of explains why BS is more complex, has larger random effect SD."
   ]
  },
  {
   "cell_type": "markdown",
   "id": "asian-joyce",
   "metadata": {},
   "source": [
    "## PT+N"
   ]
  },
  {
   "cell_type": "code",
   "execution_count": null,
   "id": "tested-arrangement",
   "metadata": {},
   "outputs": [],
   "source": [
    "az_data_ptn_mlm.posterior[\"d_prime_pop\"] = az_data_ptn_mlm.posterior.d_base_pop + np.exp(az_data_ptn_mlm.posterior.d_delta_pop)\n",
    "az.plot_posterior(az_data_ptn_mlm, var_names = [\"d_base_pop\", \"d_prime_pop\"], transform=lambda x: np.exp(-np.logaddexp(0, -x))/2)"
   ]
  },
  {
   "cell_type": "code",
   "execution_count": null,
   "id": "frank-plaintiff",
   "metadata": {},
   "outputs": [],
   "source": [
    "az.plot_forest(data=az_data_ptn_mlm, var_names=[\"d_subj\"], combined=True)\n",
    "az.plot_forest(data=az_data_ptn_mlm, var_names=[\"d_prime_subj\"], combined=True)"
   ]
  },
  {
   "cell_type": "markdown",
   "id": "bizarre-chile",
   "metadata": {},
   "source": [
    "# Hybrid"
   ]
  },
  {
   "cell_type": "code",
   "execution_count": null,
   "id": "dried-vaccine",
   "metadata": {},
   "outputs": [],
   "source": [
    "az.summary(\n",
    "    az_data_ptn_mlm_simplecond,\n",
    "    var_names = [\"d_base_sd\", \"d_delta_sd\"]\n",
    ")"
   ]
  },
  {
   "cell_type": "code",
   "execution_count": null,
   "id": "italian-worse",
   "metadata": {},
   "outputs": [],
   "source": [
    "az_data_ptn_mlm_simplecond.posterior[\"d_prime_pop\"] = az_data_ptn_mlm_simplecond.posterior.d_base_pop + np.exp(az_data_ptn_mlm_simplecond.posterior.d_delta_pop)\n",
    "az.plot_posterior(az_data_ptn_mlm_simplecond, var_names = [\"d_base_pop\", \"d_prime_pop\"], transform=lambda x: np.exp(-np.logaddexp(0, -x))/2)"
   ]
  },
  {
   "cell_type": "code",
   "execution_count": null,
   "id": "rocky-intermediate",
   "metadata": {},
   "outputs": [],
   "source": [
    "az.plot_forest(data=az_data_ptn_mlm_simplecond, var_names=[\"d_subj\"], combined=True)\n",
    "az.plot_forest(data=az_data_ptn_mlm_simplecond, var_names=[\"d_prime_subj\"], combined=True)"
   ]
  },
  {
   "cell_type": "markdown",
   "id": "unusual-preference",
   "metadata": {},
   "source": [
    "# Prior checks\n",
    "\n",
    "It's not possible to have uniform priors for both d and d'. These priors are as close to uniform as I could get though at the subject-level, being nearly uniform for d'."
   ]
  },
  {
   "cell_type": "code",
   "execution_count": null,
   "id": "searching-cooperative",
   "metadata": {},
   "outputs": [],
   "source": [
    "x = az_data_ptn_mlm_simplecond.prior.stack(draws=(\"chain\",\"draw\",\"d_subj_dim_0\"))\n",
    "sns.kdeplot(x[\"d_subj\"])"
   ]
  },
  {
   "cell_type": "code",
   "execution_count": null,
   "id": "beneficial-judgment",
   "metadata": {},
   "outputs": [],
   "source": [
    "x = az_data_ptn_mlm_simplecond.prior.stack(draws=(\"chain\",\"draw\",\"d_prime_subj_dim_0\"))\n",
    "sns.kdeplot(x[\"d_prime_subj\"])"
   ]
  },
  {
   "cell_type": "markdown",
   "id": "linear-state",
   "metadata": {},
   "source": [
    "## BELOW MIGHT NOT BE WORKING 5/14/21, 4:39 PM"
   ]
  },
  {
   "cell_type": "code",
   "execution_count": null,
   "id": "buried-measure",
   "metadata": {},
   "outputs": [],
   "source": [
    "# looking at the inferred thetas\n",
    "import matplotlib.pyplot as plt\n",
    "\n",
    "stacked = az_data_ptn_mlm_simplecond.posterior.stack(draws=(\"chain\", \"draw\"))\n",
    "\n",
    "def calc_implied_prob(query, posterior):\n",
    "    x = jnp.transpose(jnp.array(posterior))\n",
    "    return(calc_prob_trial(query, x))\n",
    "\n",
    "\n",
    "sns.histplot(calc_implied_prob(\"A\", stacked.theta[3,:]))\n",
    "plt.xlim(0,1)\n",
    "plt.show()"
   ]
  },
  {
   "cell_type": "markdown",
   "id": "understanding-liquid",
   "metadata": {},
   "source": [
    "Some of the subj with low d and d' have very noisy probability estimates. So that's not necessarily a sign of \"clean\" responding."
   ]
  },
  {
   "cell_type": "code",
   "execution_count": null,
   "id": "confused-reunion",
   "metadata": {},
   "outputs": [],
   "source": [
    "# could calculate standard dev of all posteriors for simple A and B probs\n",
    "\n",
    "c1_sd = jnp.array([np.std(calc_implied_prob(\"AgB\", stacked.theta[i,:])) for i in range(0,168)])\n",
    "sns.histplot(c1_sd)"
   ]
  },
  {
   "cell_type": "code",
   "execution_count": null,
   "id": "authorized-president",
   "metadata": {},
   "outputs": [],
   "source": [
    "c2_sd = jnp.array([np.std(calc_implied_prob(\"B\", stacked.theta[i,:])) for i in range(0,168)])\n",
    "sns.histplot(c2_sd)"
   ]
  },
  {
   "cell_type": "markdown",
   "id": "unique-nickname",
   "metadata": {},
   "source": [
    "A bit hard to interpret this really, but just from eyeballing some plots I'll hazard we're getting reasonably strong measurements for maybe 1/4 of responses, mediocre measures for another 1/4 and basically worthless measures for another 1/2."
   ]
  },
  {
   "cell_type": "code",
   "execution_count": null,
   "id": "clear-kingston",
   "metadata": {},
   "outputs": [],
   "source": [
    "# mcmc_ptn_mlm_simplecond.print_summary()\n"
   ]
  },
  {
   "cell_type": "code",
   "execution_count": null,
   "id": "pretty-ensemble",
   "metadata": {},
   "outputs": [],
   "source": []
  }
 ],
 "metadata": {
  "kernelspec": {
   "display_name": "Python 3",
   "language": "python",
   "name": "python3"
  },
  "language_info": {
   "codemirror_mode": {
    "name": "ipython",
    "version": 3
   },
   "file_extension": ".py",
   "mimetype": "text/x-python",
   "name": "python",
   "nbconvert_exporter": "python",
   "pygments_lexer": "ipython3",
   "version": "3.8.8"
  }
 },
 "nbformat": 4,
 "nbformat_minor": 5
}
