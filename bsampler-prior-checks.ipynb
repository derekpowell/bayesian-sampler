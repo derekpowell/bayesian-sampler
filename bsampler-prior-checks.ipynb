{
 "cells": [
  {
   "cell_type": "markdown",
   "metadata": {},
   "source": [
    "## Prior simulation checks\n",
    "\n",
    "Need to do these"
   ]
  },
  {
   "cell_type": "code",
   "execution_count": 2,
   "metadata": {},
   "outputs": [],
   "source": [
    "import numpyro\n",
    "numpyro.util.set_host_device_count(4)\n",
    "\n",
    "import numpyro.distributions as dist\n",
    "\n",
    "from jax import numpy as jnp\n",
    "from jax import random\n",
    "from jax.random import PRNGKey\n",
    "from numpyro.infer import MCMC, NUTS, Predictive\n",
    "\n",
    "import numpy as np\n",
    "import pandas as pd\n",
    "import seaborn as sns\n",
    "\n",
    "import siuba as s\n",
    "from siuba import _\n",
    "\n",
    "from plotnine import *\n",
    "\n",
    "from lib.models import *\n",
    "from lib.helpers import *\n",
    "from lib.simdata import make_sim_data_ptn_avg"
   ]
  },
  {
   "cell_type": "markdown",
   "metadata": {},
   "source": [
    "# Averaged models\n",
    "\n",
    "Averaged models use the same priors for both Bayesian sampler and PTN as I've parameterized them both by implicit $d$ parameters. These priors look nice."
   ]
  },
  {
   "cell_type": "code",
   "execution_count": 3,
   "metadata": {},
   "outputs": [
    {
     "name": "stderr",
     "output_type": "stream",
     "text": [
      "/Users/derekpowell/Projects/Repositories/bayesian-sampler/lib/helpers.py:134: UserWarning: Explicitly requested dtype int requested in array is not available, and will be truncated to dtype int32. To enable more dtypes, set the jax_enable_x64 configuration option or the JAX_ENABLE_X64 shell environment variable. See https://github.com/google/jax#current-gotchas for more.\n"
     ]
    }
   ],
   "source": [
    "def sample_prior(model, data, num_samples=1000):\n",
    "\n",
    "    prior = Predictive(model, num_samples=num_samples)(\n",
    "        jax.random.PRNGKey(2), data\n",
    "    )\n",
    "\n",
    "    return az.from_numpyro(\n",
    "        prior = prior\n",
    "    )\n",
    "\n",
    "def make_dummy_data():\n",
    "    params_ptn = {\n",
    "    \"d_base\": {k: [.25,.35,.1][k] for k in range(0, 1)},\n",
    "    \"d_delta\": {k: [.1, .05, .2][k] for k in range(0, 1)},\n",
    "    \"k\": {k: [21, 17, 11][k] for k in range(0, 1)} # or e.g. k: [15 for k in ...]\n",
    "    }\n",
    "\n",
    "    sim_data = make_sim_data_ptn_avg(1, 1, params_ptn)\n",
    "    sim_data[\"estimate\"] = .5\n",
    "\n",
    "    return(sim_data)\n",
    "\n",
    "X_data, y_data = make_model_data(make_dummy_data())\n"
   ]
  },
  {
   "cell_type": "code",
   "execution_count": 4,
   "metadata": {},
   "outputs": [],
   "source": [
    "from scipy.special import expit\n",
    "\n",
    "def model_ptn(data, y=None):\n",
    "\n",
    "    # Data processing\n",
    "    trial, subj, cond = data[\"trial\"], data[\"subj\"], data[\"cond\"]\n",
    "    n_Ps, n_conds = np.unique(subj).shape[0], np.unique(cond).shape[0]\n",
    "\n",
    "    # setup \"design matrix\" (of sorts)\n",
    "    X_num, X_denom = jnp.stack([num_vecs[i] for i in trial]), jnp.stack([denom_vecs[i] for i in trial])\n",
    "    X_A = jnp.stack([pA_vecs[i] for i in trial])\n",
    "    conjdisj, not_conjdisj = jnp.array([is_conjdisj(i) for i in trial]), abs(1-jnp.array([is_conjdisj(i) for i in trial]))\n",
    "    conditional = jnp.array([is_cond(i) for i in trial])\n",
    "    not_conditional = abs(1-conditional)\n",
    "\n",
    "    # population level parameters/priors\n",
    "    k = numpyro.sample(\"k\", dist.HalfCauchy(20)) # noise parameter\n",
    "    d_base_pop = numpyro.sample(\"d_base_pop\", dist.Normal(-1.0, 1.0))\n",
    "    d_delta_pop = numpyro.sample(\"d_delta_pop\", dist.Normal(0, .5)) # bias toward lower values for non conj/disj trials\n",
    "    d_base_sd = numpyro.sample(\"d_base_sd\", dist.LogNormal(-1., 1.)) # was halfcauchy(1)\n",
    "    d_delta_sd = numpyro.sample(\"d_delta_sd\", dist.LogNormal(-1., 1.)) # approx uniform altogether we hope\n",
    "\n",
    "    # subject-level parameters/priors\n",
    "    with numpyro.plate(\"subj\", n_Ps):\n",
    "        d_bases = numpyro.sample(\"d_base_r\", dist.Normal(0, 1))\n",
    "        d_deltas = numpyro.sample(\"d_delta_r\", dist.Normal(0, 1))\n",
    "\n",
    "    # Subject/query-level parameters/priors\n",
    "    with numpyro.plate(\"cond\", n_Ps*n_conds):\n",
    "        thetas = numpyro.sample(\"theta\", dist.Dirichlet(jnp.ones(4)))\n",
    "\n",
    "    d_lin = (d_base_pop +\n",
    "             d_bases[subj]*d_base_sd +\n",
    "             jnp.exp(d_delta_pop + d_delta_sd*d_deltas[subj])*conjdisj\n",
    "            )  # exp() constrains d_delta to be positive\n",
    "\n",
    "    d = sigmoid(d_lin)/2.0 # require this be in [0, .50]\n",
    "\n",
    "    # deterministic sites\n",
    "    numpyro.deterministic(\"d_subj\", sigmoid(d_base_pop + d_bases*d_base_sd)/2.)\n",
    "    numpyro.deterministic(\"d_prime_subj\",\n",
    "                          sigmoid(d_base_pop +\n",
    "                                  d_bases*d_base_sd +\n",
    "                                  jnp.exp(d_delta_pop + d_deltas*d_delta_sd)\n",
    "                                 )/2.\n",
    "                         )\n",
    "\n",
    "    theta_ind = (subj*n_conds) + cond\n",
    "    theta = thetas[theta_ind,:]\n",
    "\n",
    "    p_ptn = prob_judge_PTN(trial, theta, X_num, X_denom, X_A, d) #\n",
    "\n",
    "    # Likelihood\n",
    "    with numpyro.plate(\"data\", len(trial)):\n",
    "        yhat = numpyro.sample(\"yhat\", dist.Beta(p_ptn*k, (1-p_ptn)*k), obs=y)\n",
    "\n",
    "    return yhat"
   ]
  },
  {
   "cell_type": "code",
   "execution_count": 5,
   "metadata": {},
   "outputs": [],
   "source": [
    "prior_ptn = sample_prior(model_ptn, X_data)"
   ]
  },
  {
   "cell_type": "code",
   "execution_count": 6,
   "metadata": {},
   "outputs": [
    {
     "name": "stderr",
     "output_type": "stream",
     "text": [
      "/Users/derekpowell/anaconda3/envs/bsampler/lib/python3.9/site-packages/seaborn/distributions.py:2619: FutureWarning: `distplot` is a deprecated function and will be removed in a future version. Please adapt your code to use either `displot` (a figure-level function with similar flexibility) or `histplot` (an axes-level function for histograms).\n",
      "/Users/derekpowell/anaconda3/envs/bsampler/lib/python3.9/site-packages/seaborn/distributions.py:2619: FutureWarning: `distplot` is a deprecated function and will be removed in a future version. Please adapt your code to use either `displot` (a figure-level function with similar flexibility) or `histplot` (an axes-level function for histograms).\n"
     ]
    },
    {
     "data": {
      "text/plain": [
       "<AxesSubplot:xlabel='d_prime_subj', ylabel='Density'>"
      ]
     },
     "execution_count": 6,
     "metadata": {},
     "output_type": "execute_result"
    },
    {
     "data": {
      "image/png": "[encoded data removed]",
      "text/plain": [
       "<Figure size 432x288 with 1 Axes>"
      ]
     },
     "metadata": {
      "needs_background": "light"
     },
     "output_type": "display_data"
    }
   ],
   "source": [
    "from scipy.special import expit\n",
    "\n",
    "df_prior = prior_to_df_mlm(\n",
    "    prior_ptn, \n",
    "    [\"d_base_pop\",\"d_delta_pop\",\"d_base_sd\",\"d_delta_sd\"],\n",
    "    [\"d_base_r\", \"d_delta_r\", \"d_subj\", \"d_prime_subj\"]\n",
    ")\n",
    "\n",
    "sns.distplot(df_prior.d_subj)\n",
    "sns.distplot(df_prior.d_prime_subj)\n"
   ]
  },
  {
   "cell_type": "markdown",
   "metadata": {},
   "source": [
    "This looks good. The Bayesian sampler version is just the same thing rescaled to fall $\\in [0, 1/3]$.\n",
    "\n",
    "# Bayesian sampler Trial-level model\n",
    "\n",
    "The trial-level version is uniquely parameterized by $N, N', \\beta$ for each participant.\n",
    "\n",
    "Switching to a softplus transform rather than exp and sigmoid seems to be making things considerably nicer."
   ]
  },
  {
   "cell_type": "code",
   "execution_count": 99,
   "metadata": {},
   "outputs": [],
   "source": [
    "from jax.nn import softplus\n",
    "from jax.scipy.special import expit\n",
    "# import tensorflow_probability.substrates.jax as tfp\n",
    "\n",
    "## # ------ helper functions \n",
    "def prob_judge_BS(theta, X_num, X_denom, N, beta):\n",
    "\n",
    "    pi = calc_prob(theta, X_num, X_denom)\n",
    "    p_bs = pi * N / (N + 2.*beta) + beta/(N + 2.*beta)\n",
    "    \n",
    "    return p_bs\n",
    "\n",
    "def prob_judge_BS_d(theta, X_num, X_denom, d):\n",
    "\n",
    "    pi = calc_prob(theta, X_num, X_denom)\n",
    "    return calc_ptn_prob(pi, d)\n",
    "\n",
    "\n",
    "## rounding stuff\n",
    "from jax import vmap\n",
    "\n",
    "def spread_vec(x, step_size): # this works without static arguments\n",
    "    base_steps = x.shape[0]\n",
    "    x_split = jnp.split(x, base_steps)\n",
    "    pad = jnp.zeros(step_size-1)\n",
    "    probs = jnp.stack([jnp.concatenate((i,pad)) for i in x_split]).flatten()\n",
    "    probs = probs[0:21]\n",
    "    return probs/jnp.sum(probs)\n",
    "\n",
    "\n",
    "def bs_dist(p, beta, N):\n",
    "    return (p * N) / (N + 2 * beta) + beta / (N + 2 * beta)\n",
    "\n",
    "\n",
    "def bs_dist_inv(x, beta, N):\n",
    "    return (x - beta / (N + 2. * beta)) * (N + 2. * beta) / N\n",
    "\n",
    "\n",
    "def bs_dist_cdf(N, beta, a, b, x):\n",
    "    # where x is untransformed probability\n",
    "    trans_x = bs_dist_inv(x, beta, N)\n",
    "\n",
    "    res = jnp.where(\n",
    "        jnp.logical_or( trans_x <= 0., trans_x >= 1.), \n",
    "        jnp.clip(trans_x, 0., 1.), \n",
    "        tfp.math.betainc(a, b, jnp.clip(trans_x, 1e-8, 1-1e-8))\n",
    "    )\n",
    "\n",
    "    return res\n",
    "\n",
    "\n",
    "def f_bs(mu, N, beta, responses):\n",
    "    \n",
    "    a = mu*N\n",
    "    b = (1.-mu)*N\n",
    "    \n",
    "    n_resps = (responses.shape[0]-1)\n",
    "    step = int(20/n_resps)\n",
    "    rnd_unit_scaled = 1/n_resps\n",
    "    \n",
    "    lower = jnp.clip((responses/n_resps) - rnd_unit_scaled/2., 1e-8, 1-1e-8)\n",
    "    upper = jnp.clip((responses/n_resps) + rnd_unit_scaled/2., 1e-8, 1-1e-8)\n",
    "    \n",
    "    prob_resps = bs_dist_cdf(N, beta, a, b, upper) - bs_dist_cdf(N, beta, a, b, lower)\n",
    "    prob_resps = (spread_vec(prob_resps, step) + 1e-30)\n",
    "    prob_resps = (prob_resps)/jnp.sum(prob_resps)\n",
    "    \n",
    "    return(prob_resps)\n",
    "\n",
    "\n",
    "bs_cat_probs = vmap(f_bs, (0, 0, 0, None))\n",
    "\n",
    "responses_10 = jnp.linspace(0, 10, num=11)\n",
    "responses_5 = jnp.linspace(0, 20, num=21)\n",
    "\n",
    "\n",
    "def bs_complex_mlm_trial_level(data, y=None):\n",
    "\n",
    "    # Data processing\n",
    "    trial, subj, cond = data[\"trial\"], data[\"subj\"], data[\"cond\"]\n",
    "    n_Ps, n_conds = np.unique(subj).shape[0], np.unique(cond).shape[0] \n",
    "\n",
    "    # setup \"design matrix\" (of sorts)\n",
    "    X_num, X_denom = jnp.stack([num_vecs[i] for i in trial]), jnp.stack([denom_vecs[i] for i in trial])\n",
    "    conjdisj, not_conjdisj = jnp.array([is_conjdisj(i) for i in trial]), abs(1-jnp.array([is_conjdisj(i) for i in trial]))\n",
    "\n",
    "    # population level parameters/priors\n",
    "    # k = numpyro.sample(\"k\", dist.HalfCauchy(20)) # noise parameter\n",
    "    beta_pop = numpyro.sample(\"beta_pop\", dist.Normal(-1, 1)) # skewed after sigmoid\n",
    "    beta_sd = numpyro.sample(\"beta_sd\", dist.LogNormal(-1, 1))\n",
    "\n",
    "    N_prime_pop = numpyro.sample(\"N_prime_pop\", dist.Normal(10, 5)) # mildly informative\n",
    "    N_delta_pop = numpyro.sample(\"N_delta_pop\", dist.Normal(0, 10)) \n",
    "    N_prime_sd = numpyro.sample(\"N_prime_sd\", dist.LogNormal(-.5, 1.6))\n",
    "    N_delta_sd = numpyro.sample(\"N_delta_sd\", dist.LogNormal(-.5, 1.6))\n",
    "    \n",
    "    rnd_policy = numpyro.sample(\"rnd_policy\", dist.Dirichlet(jnp.ones(3)))\n",
    "\n",
    "    # subject-level parameters/priors <--- non-centered parameterization for all these\n",
    "    with numpyro.plate(\"subj\", n_Ps):\n",
    "        betas = numpyro.sample(\"beta_r\", dist.Normal(0, 1))*beta_sd \n",
    "        N_deltas = numpyro.sample(\"N_delta_r\", dist.Normal(0, 1))*N_delta_sd\n",
    "        N_primes = numpyro.sample(\"N_prime_r\", dist.Normal(0, 1))*N_prime_sd\n",
    "\n",
    "    # subject/query-level parameters/priors\n",
    "    with numpyro.plate(\"cond\", n_Ps*n_conds):\n",
    "        thetas = numpyro.sample(\"theta\", dist.Dirichlet(jnp.ones(4)))\n",
    "\n",
    "    # beta = expit(beta_pop + betas[subj])*10 # constrains beta to [0,10]\n",
    "    \n",
    "    beta = softplus(beta_pop + betas[subj])\n",
    "    \n",
    "    numpyro.deterministic(\"beta_subj\", softplus(beta_pop + betas))\n",
    "\n",
    "    # exp() needed to constrain N and N_delta positive\n",
    "    N = 1 + softplus(N_prime_pop + N_primes[subj]) + softplus(N_delta_pop + N_deltas[subj]) * not_conjdisj # they also required N be at least 1\n",
    "\n",
    "    numpyro.deterministic(\"N_prime_subj\", 1 + softplus(N_prime_pop + N_primes))\n",
    "    numpyro.deterministic(\"N_subj\", 1 + softplus(N_prime_pop + N_primes) + softplus(N_delta_pop + N_deltas))\n",
    "    # numpyro.deterministic(\"beta_subj\", expit(beta_pop + betas)*10)\n",
    "\n",
    "    ## commented out bc not necessary for priors and  tfp not behaving on apple silicon\n",
    "\n",
    "    # theta_ind = ((subj*n_conds)+cond)\n",
    "    # theta = thetas[theta_ind,:]\n",
    "    \n",
    "    # pi = calc_prob(theta, X_num, X_denom)\n",
    "\n",
    "    # # Likelihood\n",
    "    # with numpyro.plate(\"data\", len(trial)):\n",
    "        \n",
    "    #     resp_probs = (\n",
    "    #     1./21.*rnd_policy[0] +\n",
    "    #     bs_cat_probs(pi, N, beta, responses_5)*rnd_policy[1] + \n",
    "    #     bs_cat_probs(pi, N, beta, responses_10)*rnd_policy[2]\n",
    "    #     )\n",
    "        \n",
    "    #     yhat = numpyro.sample(\"yhat\", dist.Categorical(probs=resp_probs), obs=y) # rounded\n",
    "\n",
    "\n",
    "    # return yhat"
   ]
  },
  {
   "cell_type": "code",
   "execution_count": 100,
   "metadata": {},
   "outputs": [],
   "source": [
    "prior_bs = sample_prior(bs_complex_mlm_trial_level, X_data)"
   ]
  },
  {
   "cell_type": "code",
   "execution_count": 101,
   "metadata": {},
   "outputs": [
    {
     "name": "stderr",
     "output_type": "stream",
     "text": [
      "/Users/derekpowell/anaconda3/envs/bsampler/lib/python3.9/site-packages/seaborn/distributions.py:2619: FutureWarning: `distplot` is a deprecated function and will be removed in a future version. Please adapt your code to use either `displot` (a figure-level function with similar flexibility) or `histplot` (an axes-level function for histograms).\n",
      "/Users/derekpowell/anaconda3/envs/bsampler/lib/python3.9/site-packages/seaborn/distributions.py:2619: FutureWarning: `distplot` is a deprecated function and will be removed in a future version. Please adapt your code to use either `displot` (a figure-level function with similar flexibility) or `histplot` (an axes-level function for histograms).\n"
     ]
    },
    {
     "data": {
      "text/plain": [
       "<AxesSubplot:xlabel='N_subj', ylabel='Density'>"
      ]
     },
     "execution_count": 101,
     "metadata": {},
     "output_type": "execute_result"
    },
    {
     "data": {
      "image/png": "[encoded data removed]",
      "text/plain": [
       "<Figure size 432x288 with 1 Axes>"
      ]
     },
     "metadata": {
      "needs_background": "light"
     },
     "output_type": "display_data"
    }
   ],
   "source": [
    "df_prior = prior_to_df_mlm(\n",
    "    prior_bs, \n",
    "    [\"N_prime_pop\",\"N_delta_pop\",\"N_prime_sd\",\"N_delta_sd\", \"beta_pop\", \"beta_sd\"],\n",
    "    [\"N_subj\", \"N_prime_subj\", \"beta_subj\", \"beta_r\"]\n",
    ")\n",
    "\n",
    "sns.distplot(df_prior.N_prime_subj)\n",
    "sns.distplot(df_prior.N_subj)"
   ]
  },
  {
   "cell_type": "code",
   "execution_count": 102,
   "metadata": {},
   "outputs": [
    {
     "name": "stderr",
     "output_type": "stream",
     "text": [
      "/Users/derekpowell/anaconda3/envs/bsampler/lib/python3.9/site-packages/seaborn/distributions.py:2619: FutureWarning: `distplot` is a deprecated function and will be removed in a future version. Please adapt your code to use either `displot` (a figure-level function with similar flexibility) or `histplot` (an axes-level function for histograms).\n"
     ]
    },
    {
     "data": {
      "text/plain": [
       "<AxesSubplot:xlabel='beta_subj', ylabel='Density'>"
      ]
     },
     "execution_count": 102,
     "metadata": {},
     "output_type": "execute_result"
    },
    {
     "data": {
      "image/png": "[encoded data removed]",
      "text/plain": [
       "<Figure size 432x288 with 1 Axes>"
      ]
     },
     "metadata": {
      "needs_background": "light"
     },
     "output_type": "display_data"
    }
   ],
   "source": [
    "# sns.distplot( sigmoid(np.asarray(df_prior.beta_pop + df_prior.beta_sd * df_prior.beta_r))*10)\n",
    "sns.distplot(df_prior.beta_subj)"
   ]
  },
  {
   "cell_type": "code",
   "execution_count": null,
   "metadata": {},
   "outputs": [],
   "source": []
  }
 ],
 "metadata": {
  "kernelspec": {
   "display_name": "Python 3.9.12 ('bsampler')",
   "language": "python",
   "name": "python3"
  },
  "language_info": {
   "codemirror_mode": {
    "name": "ipython",
    "version": 3
   },
   "file_extension": ".py",
   "mimetype": "text/x-python",
   "name": "python",
   "nbconvert_exporter": "python",
   "pygments_lexer": "ipython3",
   "version": "3.9.12"
  },
  "orig_nbformat": 4,
  "vscode": {
   "interpreter": {
    "hash": "f0ef5f7d10080c600b0562a944fa966eaa386c980e0d8cd0525dadb77bc4588e"
   }
  }
 },
 "nbformat": 4,
 "nbformat_minor": 2
}
