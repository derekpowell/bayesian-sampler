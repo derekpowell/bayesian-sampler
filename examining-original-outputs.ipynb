{
 "cells": [
  {
   "cell_type": "code",
   "execution_count": 195,
   "id": "heated-pledge",
   "metadata": {},
   "outputs": [],
   "source": [
    "%config IPCompleter.use_jedi = False\n",
    "import numpy as np\n",
    "import pandas as pd\n",
    "import seaborn as sns\n",
    "import functools\n",
    "from dfply import *\n",
    "import glob\n",
    "import pickle"
   ]
  },
  {
   "cell_type": "markdown",
   "id": "norman-argument",
   "metadata": {},
   "source": [
    "# Experiment 1"
   ]
  },
  {
   "cell_type": "code",
   "execution_count": 196,
   "id": "warming-compatibility",
   "metadata": {},
   "outputs": [],
   "source": [
    "fit_list = [pickle.load(open(f,\"rb\")) for f in glob.glob('osfstorage-archive/Data analysis and modelling for Experiment 1/fit results/*_model_2.pkl')]\n",
    "betas = [f[\"fitResults\"][\"x\"][-3] for f in fit_list]\n",
    "Ns = [f[\"fitResults\"][\"x\"][-2] for f in fit_list]\n",
    "N_primes = [f[\"fitResults\"][\"x\"][-1] for f in fit_list]"
   ]
  },
  {
   "cell_type": "code",
   "execution_count": 197,
   "id": "resident-martin",
   "metadata": {},
   "outputs": [
    {
     "data": {
      "text/plain": [
       "39"
      ]
     },
     "execution_count": 197,
     "metadata": {},
     "output_type": "execute_result"
    }
   ],
   "source": [
    "len(fit_list)"
   ]
  },
  {
   "cell_type": "markdown",
   "id": "banner-editor",
   "metadata": {},
   "source": [
    "Looks like these saved outputs are missing some results?"
   ]
  },
  {
   "cell_type": "code",
   "execution_count": 85,
   "id": "relevant-worth",
   "metadata": {},
   "outputs": [
    {
     "data": {
      "text/plain": [
       "<AxesSubplot:ylabel='Count'>"
      ]
     },
     "execution_count": 85,
     "metadata": {},
     "output_type": "execute_result"
    },
    {
     "data": {
      "image/png": "[encoded data removed]",
      "text/plain": [
       "<Figure size 432x288 with 1 Axes>"
      ]
     },
     "metadata": {
      "needs_background": "light"
     },
     "output_type": "display_data"
    }
   ],
   "source": [
    "sns.reset_orig()\n",
    "sns.histplot(Ns, bins=50)"
   ]
  },
  {
   "cell_type": "code",
   "execution_count": 53,
   "id": "green-might",
   "metadata": {},
   "outputs": [
    {
     "data": {
      "text/plain": [
       "<AxesSubplot:ylabel='Count'>"
      ]
     },
     "execution_count": 53,
     "metadata": {},
     "output_type": "execute_result"
    },
    {
     "data": {
      "image/png": "[encoded data removed]",
      "text/plain": [
       "<Figure size 432x288 with 1 Axes>"
      ]
     },
     "metadata": {
      "needs_background": "light"
     },
     "output_type": "display_data"
    }
   ],
   "source": [
    "sns.reset_orig()\n",
    "sns.histplot(betas, bins=20)"
   ]
  },
  {
   "cell_type": "code",
   "execution_count": 56,
   "id": "signal-drove",
   "metadata": {},
   "outputs": [
    {
     "data": {
      "text/plain": [
       "<AxesSubplot:ylabel='Count'>"
      ]
     },
     "execution_count": 56,
     "metadata": {},
     "output_type": "execute_result"
    },
    {
     "data": {
      "image/png": "[encoded data removed]",
      "text/plain": [
       "<Figure size 432x288 with 1 Axes>"
      ]
     },
     "metadata": {
      "needs_background": "light"
     },
     "output_type": "display_data"
    }
   ],
   "source": [
    "sns.reset_orig()\n",
    "sns.histplot(N_primes, bins=20)"
   ]
  },
  {
   "cell_type": "markdown",
   "id": "spoken-activity",
   "metadata": {},
   "source": [
    "Loading in their data, I can't reproduce the paper's figure 5b. In particular N is wrong, their plot shows values of N around 100 and 150 that aren't in these model outputs.\n",
    "\n",
    "# Experiment 2"
   ]
  },
  {
   "cell_type": "code",
   "execution_count": 82,
   "id": "hidden-michigan",
   "metadata": {},
   "outputs": [],
   "source": [
    "fit_list = [pickle.load(open(f,\"rb\")) for f in glob.glob('osfstorage-archive/Data analysis and modelling for Experiment 2/fit results/*_model_2.pkl')]\n",
    "betas = [f[\"fitResults\"][\"x\"][-3] for f in fit_list]\n",
    "Ns = [f[\"fitResults\"][\"x\"][-2] for f in fit_list]\n",
    "N_primes = [f[\"fitResults\"][\"x\"][-1] for f in fit_list]"
   ]
  },
  {
   "cell_type": "code",
   "execution_count": 83,
   "id": "artificial-collector",
   "metadata": {},
   "outputs": [
    {
     "data": {
      "text/plain": [
       "84"
      ]
     },
     "execution_count": 83,
     "metadata": {},
     "output_type": "execute_result"
    }
   ],
   "source": [
    "len(fit_list)"
   ]
  },
  {
   "cell_type": "code",
   "execution_count": 84,
   "id": "fleet-craft",
   "metadata": {},
   "outputs": [
    {
     "data": {
      "text/plain": [
       "<AxesSubplot:ylabel='Count'>"
      ]
     },
     "execution_count": 84,
     "metadata": {},
     "output_type": "execute_result"
    },
    {
     "data": {
      "image/png": "[encoded data removed]",
      "text/plain": [
       "<Figure size 432x288 with 1 Axes>"
      ]
     },
     "metadata": {
      "needs_background": "light"
     },
     "output_type": "display_data"
    }
   ],
   "source": [
    "sns.reset_orig()\n",
    "sns.histplot(Ns, bins=20)"
   ]
  },
  {
   "cell_type": "code",
   "execution_count": 59,
   "id": "known-dynamics",
   "metadata": {},
   "outputs": [
    {
     "data": {
      "text/plain": [
       "<AxesSubplot:ylabel='Count'>"
      ]
     },
     "execution_count": 59,
     "metadata": {},
     "output_type": "execute_result"
    },
    {
     "data": {
      "image/png": "[encoded data removed]",
      "text/plain": [
       "<Figure size 432x288 with 1 Axes>"
      ]
     },
     "metadata": {
      "needs_background": "light"
     },
     "output_type": "display_data"
    }
   ],
   "source": [
    "sns.reset_orig()\n",
    "sns.histplot(betas, bins=20)"
   ]
  },
  {
   "cell_type": "code",
   "execution_count": 60,
   "id": "necessary-french",
   "metadata": {},
   "outputs": [
    {
     "data": {
      "text/plain": [
       "<AxesSubplot:ylabel='Count'>"
      ]
     },
     "execution_count": 60,
     "metadata": {},
     "output_type": "execute_result"
    },
    {
     "data": {
      "image/png": "[encoded data removed]",
      "text/plain": [
       "<Figure size 432x288 with 1 Axes>"
      ]
     },
     "metadata": {
      "needs_background": "light"
     },
     "output_type": "display_data"
    }
   ],
   "source": [
    "sns.reset_orig()\n",
    "sns.histplot(N_primes, bins=20)"
   ]
  },
  {
   "cell_type": "markdown",
   "id": "internal-population",
   "metadata": {},
   "source": [
    "For experiment 2, things look quite different for N and N'. This just isn't what is shown in figure 8. And in this case there are the right number of model outputs for paricipants, so it's not just that things are missing. It's that there are many more ~1's than shown in the original paper and no values between ~10 and 150 as are shown in the paper. The results here are just completely different."
   ]
  },
  {
   "cell_type": "markdown",
   "id": "functioning-annual",
   "metadata": {},
   "source": [
    "# Comparing responses and model predictions\n",
    "\n",
    "Ok let's ignore experiment 1 and focus on experiment 2. Do the model predictions actually fit the observed responses at all?"
   ]
  },
  {
   "cell_type": "code",
   "execution_count": 186,
   "id": "recovered-storm",
   "metadata": {},
   "outputs": [
    {
     "name": "stderr",
     "output_type": "stream",
     "text": [
      "/usr/local/lib/python3.6/dist-packages/pandas/core/strings.py:2001: UserWarning: This pattern has match groups. To actually get the groups, use str.extract.\n",
      "  return func(self, *args, **kwargs)\n"
     ]
    },
    {
     "data": {
      "text/html": [
       "<div>\n",
       "<style scoped>\n",
       "    .dataframe tbody tr th:only-of-type {\n",
       "        vertical-align: middle;\n",
       "    }\n",
       "\n",
       "    .dataframe tbody tr th {\n",
       "        vertical-align: top;\n",
       "    }\n",
       "\n",
       "    .dataframe thead th {\n",
       "        text-align: right;\n",
       "    }\n",
       "</style>\n",
       "<table border=\"1\" class=\"dataframe\">\n",
       "  <thead>\n",
       "    <tr style=\"text-align: right;\">\n",
       "      <th></th>\n",
       "      <th>querytype</th>\n",
       "      <th>querydetail</th>\n",
       "      <th>ID</th>\n",
       "      <th>estimate</th>\n",
       "    </tr>\n",
       "  </thead>\n",
       "  <tbody>\n",
       "    <tr>\n",
       "      <th>5</th>\n",
       "      <td>A</td>\n",
       "      <td>cold</td>\n",
       "      <td>1</td>\n",
       "      <td>67.666667</td>\n",
       "    </tr>\n",
       "    <tr>\n",
       "      <th>28</th>\n",
       "      <td>B</td>\n",
       "      <td>rainy</td>\n",
       "      <td>1</td>\n",
       "      <td>79.000000</td>\n",
       "    </tr>\n",
       "    <tr>\n",
       "      <th>15</th>\n",
       "      <td>notA</td>\n",
       "      <td>not cold</td>\n",
       "      <td>1</td>\n",
       "      <td>45.000000</td>\n",
       "    </tr>\n",
       "    <tr>\n",
       "      <th>20</th>\n",
       "      <td>notB</td>\n",
       "      <td>not rainy</td>\n",
       "      <td>1</td>\n",
       "      <td>56.000000</td>\n",
       "    </tr>\n",
       "    <tr>\n",
       "      <th>7</th>\n",
       "      <td>AandB</td>\n",
       "      <td>cold and rainy</td>\n",
       "      <td>1</td>\n",
       "      <td>76.000000</td>\n",
       "    </tr>\n",
       "  </tbody>\n",
       "</table>\n",
       "</div>"
      ],
      "text/plain": [
       "   querytype      querydetail  ID   estimate\n",
       "5          A             cold   1  67.666667\n",
       "28         B            rainy   1  79.000000\n",
       "15      notA         not cold   1  45.000000\n",
       "20      notB        not rainy   1  56.000000\n",
       "7      AandB   cold and rainy   1  76.000000"
      ]
     },
     "execution_count": 186,
     "metadata": {},
     "output_type": "execute_result"
    }
   ],
   "source": [
    "fit_list = [pickle.load(open(f,\"rb\")) for f in glob.glob('osfstorage-archive/Data analysis and modelling for Experiment 2/fit results/*_model_2.pkl')]\n",
    "df = pd.concat([pd.read_csv(f) for f in glob.glob('osfstorage-archive/Experiment 2/*.csv')], ignore_index = True)\n",
    "df = (df >> \n",
    "     filter_by(~X.querydetail.str.contains(\"(warm|snowy)\")) >>\n",
    "#       mutate(estimate = X.estimate/100.) >>\n",
    "      group_by(X.ID, X.querydetail, X.querytype) >>\n",
    "      summarize(estimate = np.mean(X.estimate)) >>\n",
    "      ungroup()\n",
    "#       mutate(estimate = X.estimate.replace({0:.01, 1:.99})) >>\n",
    "#       mutate(conjdisj_trial = X.querytype.apply(is_conjdisj))\n",
    "     )\n",
    "\n",
    "query_order = [' cold',\n",
    "  ' rainy',\n",
    "  ' not cold',\n",
    "  ' not rainy',\n",
    "  ' cold and rainy',\n",
    "  ' rainy and not cold',\n",
    "  ' cold and not rainy',\n",
    "  ' not cold and not rainy',\n",
    "  ' cold or rainy',\n",
    "  ' rainy or not cold',\n",
    "  ' cold or not rainy',\n",
    "  ' not cold or not rainy',\n",
    "  ' cold given rainy',\n",
    "  ' not cold given rainy',\n",
    "  ' cold given not rainy',\n",
    "  ' not cold given not rainy',\n",
    "  ' rainy given cold',\n",
    "  ' not rainy given cold',\n",
    "  ' rainy given not cold',\n",
    "  ' not rainy given not cold',\n",
    "  ' windy',\n",
    "  ' cloudy',\n",
    "  ' not windy',\n",
    "  ' not cloudy',\n",
    "  ' windy and cloudy',\n",
    "  ' cloudy and not windy',\n",
    "  ' windy and not cloudy',\n",
    "  ' not windy and not cloudy',\n",
    "  ' windy or cloudy',\n",
    "  ' cloudy or not windy',\n",
    "  ' windy or not cloudy',\n",
    "  ' not windy or not cloudy',\n",
    "  ' windy given cloudy',\n",
    "  ' not windy given cloudy',\n",
    "  ' windy given not cloudy',\n",
    "  ' not windy given not cloudy',\n",
    "  ' cloudy given windy',\n",
    "  ' not cloudy given windy',\n",
    "  ' cloudy given not windy',\n",
    "  ' not cloudy given not windy',\n",
    "  ' warm',\n",
    "  ' snowy',\n",
    "  ' not warm',\n",
    "  ' not snowy',\n",
    "  ' warm and snowy',\n",
    "  ' snowy and not warm',\n",
    "  ' warm and not snowy',\n",
    "  ' not warm and not snowy',\n",
    "  ' warm or snowy',\n",
    "  ' snowy or not warm',\n",
    "  ' warm or not snowy',\n",
    "  ' not warm or not snowy',\n",
    "  ' warm given snowy',\n",
    "  ' not warm given snowy',\n",
    "  ' warm given not snowy',\n",
    "  ' not warm given not snowy',\n",
    "  ' snowy given warm',\n",
    "  ' not snowy given warm',\n",
    "  ' snowy given not warm',\n",
    "  ' not snowy given not warm']\n",
    "\n",
    "test_df = (df >> filter_by(X.ID==1))\n",
    "# test_df = df\n",
    "\n",
    "df.querydetail = df.querydetail.astype(\"category\")\n",
    "df.querydetail.cat.set_categories(query_order, inplace=True)\n",
    "df = df.sort_values([\"ID\", \"querydetail\"])\n",
    "\n",
    "df[df.ID==1].head()"
   ]
  },
  {
   "cell_type": "code",
   "execution_count": 187,
   "id": "planned-visitor",
   "metadata": {},
   "outputs": [],
   "source": [
    "pred_list = [f['predmean'] for f in fit_list]\n",
    "\n",
    "df['model_pred'] = np.concatenate(pred_list)*100 # maybe this is wrong?"
   ]
  },
  {
   "cell_type": "code",
   "execution_count": 188,
   "id": "flying-consultancy",
   "metadata": {},
   "outputs": [
    {
     "name": "stderr",
     "output_type": "stream",
     "text": [
      "/usr/local/lib/python3.6/dist-packages/seaborn/_decorators.py:43: FutureWarning: Pass the following variables as keyword args: x, y. From version 0.12, the only valid positional argument will be `data`, and passing other arguments without an explicit keyword will result in an error or misinterpretation.\n",
      "  FutureWarning\n"
     ]
    },
    {
     "data": {
      "text/plain": [
       "<AxesSubplot:xlabel='model_pred', ylabel='estimate'>"
      ]
     },
     "execution_count": 188,
     "metadata": {},
     "output_type": "execute_result"
    },
    {
     "data": {
      "image/png": "[encoded data removed]",
      "text/plain": [
       "<Figure size 432x288 with 1 Axes>"
      ]
     },
     "metadata": {
      "needs_background": "light"
     },
     "output_type": "display_data"
    }
   ],
   "source": [
    "# df.plot.scatter(x='model_pred',y='estimate')\n",
    "plot_df = df #>> filter_by(X.querytype.apply(lambda x: x in [\"A\",\"B\"]))\n",
    "sns.scatterplot(plot_df.model_pred, plot_df.estimate)#, hue=plot_df.querytype)"
   ]
  },
  {
   "cell_type": "markdown",
   "id": "neutral-bones",
   "metadata": {},
   "source": [
    "Ok now I am really connecting the right model predictions with the right rows, and the fit of the predictions to observed values is pretty weak. Basically, even if the BS model is better than PT+N (which it could be), it isn't a particularly good model when it comes to accounting for participants' responses. I'm not sure how we weigh that against the fact that these models make unique predictions about bias that afaik competing non-probabilistic models do not, and that these predictions are borne out in the aggregate. \n",
    "\n",
    "I guess all the authors care about are the average responses. But we're in the classic (Bayesian) cognitive model bind: what do we make of a theory that says probability judgments reflect probabilities on average across people, but where they do not seem to reflect probabilities for any individuals?"
   ]
  },
  {
   "cell_type": "code",
   "execution_count": 189,
   "id": "realistic-discretion",
   "metadata": {},
   "outputs": [
    {
     "data": {
      "text/html": [
       "<div>\n",
       "<style scoped>\n",
       "    .dataframe tbody tr th:only-of-type {\n",
       "        vertical-align: middle;\n",
       "    }\n",
       "\n",
       "    .dataframe tbody tr th {\n",
       "        vertical-align: top;\n",
       "    }\n",
       "\n",
       "    .dataframe thead th {\n",
       "        text-align: right;\n",
       "    }\n",
       "</style>\n",
       "<table border=\"1\" class=\"dataframe\">\n",
       "  <thead>\n",
       "    <tr style=\"text-align: right;\">\n",
       "      <th></th>\n",
       "      <th>model_pred</th>\n",
       "      <th>estimate</th>\n",
       "    </tr>\n",
       "  </thead>\n",
       "  <tbody>\n",
       "    <tr>\n",
       "      <th>model_pred</th>\n",
       "      <td>1.000000</td>\n",
       "      <td>0.360753</td>\n",
       "    </tr>\n",
       "    <tr>\n",
       "      <th>estimate</th>\n",
       "      <td>0.360753</td>\n",
       "      <td>1.000000</td>\n",
       "    </tr>\n",
       "  </tbody>\n",
       "</table>\n",
       "</div>"
      ],
      "text/plain": [
       "            model_pred  estimate\n",
       "model_pred    1.000000  0.360753\n",
       "estimate      0.360753  1.000000"
      ]
     },
     "execution_count": 189,
     "metadata": {},
     "output_type": "execute_result"
    }
   ],
   "source": [
    "df[[\"model_pred\", \"estimate\"]].corr()"
   ]
  },
  {
   "cell_type": "markdown",
   "id": "occasional-freight",
   "metadata": {},
   "source": [
    "### Conjunction fallacies\n",
    "\n",
    "Ok so here we plot a conjunction trial, and you can see the actual responses are reliably higher than the model predictions. Eyeballing it, it looks like abougt 2/3 of the residuals are positive. This seems to be a key part of the \"conjunction fallacy\" and it's something the model is not getting."
   ]
  },
  {
   "cell_type": "code",
   "execution_count": 185,
   "id": "postal-johns",
   "metadata": {},
   "outputs": [
    {
     "data": {
      "text/plain": [
       "<AxesSubplot:xlabel='model_pred', ylabel='estimate'>"
      ]
     },
     "execution_count": 185,
     "metadata": {},
     "output_type": "execute_result"
    },
    {
     "data": {
      "image/png": "[encoded data removed]",
      "text/plain": [
       "<Figure size 432x288 with 1 Axes>"
      ]
     },
     "metadata": {
      "needs_background": "light"
     },
     "output_type": "display_data"
    }
   ],
   "source": [
    "(df[df.querytype==\"AandB\"]).plot.scatter(x=\"model_pred\", y=\"estimate\", xlim=(0,100), ylim=(0,100))"
   ]
  },
  {
   "cell_type": "markdown",
   "id": "positive-edmonton",
   "metadata": {},
   "source": [
    "## Fit of average predictions by query\n",
    "\n",
    "The plots in the paper indicate the fit of the models' average predictions to the average responses for each trial type. No actual fit statistics are given but these are much more closely predictive."
   ]
  },
  {
   "cell_type": "code",
   "execution_count": 194,
   "id": "optional-norman",
   "metadata": {},
   "outputs": [
    {
     "data": {
      "text/plain": [
       "<AxesSubplot:xlabel='mean_pred', ylabel='mean_est'>"
      ]
     },
     "execution_count": 194,
     "metadata": {},
     "output_type": "execute_result"
    },
    {
     "data": {
      "image/png": "[encoded data removed]",
      "text/plain": [
       "<Figure size 432x288 with 1 Axes>"
      ]
     },
     "metadata": {
      "needs_background": "light"
     },
     "output_type": "display_data"
    }
   ],
   "source": [
    "plot_df = df >> group_by(X.querydetail) >> summarize(mean_est = np.mean(X.estimate), mean_pred = np.mean(X.model_pred))\n",
    "plot_df.plot.scatter(x=\"mean_pred\", y=\"mean_est\", xlim=(25,75), ylim=(25,75))\n"
   ]
  },
  {
   "cell_type": "code",
   "execution_count": 192,
   "id": "effective-rugby",
   "metadata": {},
   "outputs": [
    {
     "data": {
      "text/html": [
       "<div>\n",
       "<style scoped>\n",
       "    .dataframe tbody tr th:only-of-type {\n",
       "        vertical-align: middle;\n",
       "    }\n",
       "\n",
       "    .dataframe tbody tr th {\n",
       "        vertical-align: top;\n",
       "    }\n",
       "\n",
       "    .dataframe thead th {\n",
       "        text-align: right;\n",
       "    }\n",
       "</style>\n",
       "<table border=\"1\" class=\"dataframe\">\n",
       "  <thead>\n",
       "    <tr style=\"text-align: right;\">\n",
       "      <th></th>\n",
       "      <th>mean_est</th>\n",
       "      <th>mean_pred</th>\n",
       "    </tr>\n",
       "  </thead>\n",
       "  <tbody>\n",
       "    <tr>\n",
       "      <th>mean_est</th>\n",
       "      <td>1.000000</td>\n",
       "      <td>0.837947</td>\n",
       "    </tr>\n",
       "    <tr>\n",
       "      <th>mean_pred</th>\n",
       "      <td>0.837947</td>\n",
       "      <td>1.000000</td>\n",
       "    </tr>\n",
       "  </tbody>\n",
       "</table>\n",
       "</div>"
      ],
      "text/plain": [
       "           mean_est  mean_pred\n",
       "mean_est   1.000000   0.837947\n",
       "mean_pred  0.837947   1.000000"
      ]
     },
     "execution_count": 192,
     "metadata": {},
     "output_type": "execute_result"
    }
   ],
   "source": [
    "plot_df.corr()"
   ]
  },
  {
   "cell_type": "markdown",
   "id": "published-landing",
   "metadata": {},
   "source": [
    "$R^2 = .68$ is a pretty decent model fit and much better than the individual-level means. It's sort of shocking that the difference between means and individuals is so great."
   ]
  },
  {
   "cell_type": "code",
   "execution_count": null,
   "id": "protective-brooks",
   "metadata": {},
   "outputs": [],
   "source": []
  }
 ],
 "metadata": {
  "kernelspec": {
   "display_name": "Python 3",
   "language": "python",
   "name": "python3"
  },
  "language_info": {
   "codemirror_mode": {
    "name": "ipython",
    "version": 3
   },
   "file_extension": ".py",
   "mimetype": "text/x-python",
   "name": "python",
   "nbconvert_exporter": "python",
   "pygments_lexer": "ipython3",
   "version": "3.6.9"
  }
 },
 "nbformat": 4,
 "nbformat_minor": 5
}
