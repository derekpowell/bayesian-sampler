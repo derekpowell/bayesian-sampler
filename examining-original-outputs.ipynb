{
 "cells": [
  {
   "cell_type": "code",
   "execution_count": 1,
   "id": "forbidden-vermont",
   "metadata": {},
   "outputs": [],
   "source": [
    "# %config IPCompleter.use_jedi = False\n",
    "import numpy as np\n",
    "import pandas as pd\n",
    "import seaborn as sns\n",
    "import functools\n",
    "from dfply import *\n",
    "import glob\n",
    "import pickle"
   ]
  },
  {
   "cell_type": "markdown",
   "id": "cross-journalism",
   "metadata": {},
   "source": [
    "# Experiment 1"
   ]
  },
  {
   "cell_type": "code",
   "execution_count": 2,
   "id": "academic-notebook",
   "metadata": {},
   "outputs": [],
   "source": [
    "fit_list = [pickle.load(open(f,\"rb\")) for f in glob.glob('osfstorage-archive/Data analysis and modelling for Experiment 1/fit_results/*_model_2.pkl')]\n",
    "betas = [f[\"fitResults\"][\"x\"][-3] for f in fit_list]\n",
    "Ns = [f[\"fitResults\"][\"x\"][-2] for f in fit_list]\n",
    "N_primes = [f[\"fitResults\"][\"x\"][-1] for f in fit_list]"
   ]
  },
  {
   "cell_type": "code",
   "execution_count": 3,
   "id": "apparent-daisy",
   "metadata": {},
   "outputs": [
    {
     "data": {
      "text/plain": [
       "59"
      ]
     },
     "execution_count": 3,
     "metadata": {},
     "output_type": "execute_result"
    }
   ],
   "source": [
    "len(fit_list)"
   ]
  },
  {
   "cell_type": "code",
   "execution_count": 4,
   "id": "exempt-depth",
   "metadata": {},
   "outputs": [
    {
     "data": {
      "text/plain": [
       "<AxesSubplot:ylabel='Count'>"
      ]
     },
     "execution_count": 4,
     "metadata": {},
     "output_type": "execute_result"
    },
    {
     "data": {
      "image/png": "[encoded data removed]",
      "text/plain": [
       "<Figure size 432x288 with 1 Axes>"
      ]
     },
     "metadata": {
      "needs_background": "light"
     },
     "output_type": "display_data"
    }
   ],
   "source": [
    "sns.reset_orig()\n",
    "sns.histplot(Ns, bins=50)"
   ]
  },
  {
   "cell_type": "code",
   "execution_count": 5,
   "id": "raised-lawrence",
   "metadata": {},
   "outputs": [
    {
     "data": {
      "text/plain": [
       "<AxesSubplot:ylabel='Count'>"
      ]
     },
     "execution_count": 5,
     "metadata": {},
     "output_type": "execute_result"
    },
    {
     "data": {
      "image/png": "[encoded data removed]",
      "text/plain": [
       "<Figure size 432x288 with 1 Axes>"
      ]
     },
     "metadata": {
      "needs_background": "light"
     },
     "output_type": "display_data"
    }
   ],
   "source": [
    "sns.reset_orig()\n",
    "sns.histplot(betas, bins=20)"
   ]
  },
  {
   "cell_type": "code",
   "execution_count": 6,
   "id": "offensive-investigation",
   "metadata": {},
   "outputs": [
    {
     "data": {
      "text/plain": [
       "<AxesSubplot:ylabel='Count'>"
      ]
     },
     "execution_count": 6,
     "metadata": {},
     "output_type": "execute_result"
    },
    {
     "data": {
      "image/png": "[encoded data removed]",
      "text/plain": [
       "<Figure size 432x288 with 1 Axes>"
      ]
     },
     "metadata": {
      "needs_background": "light"
     },
     "output_type": "display_data"
    }
   ],
   "source": [
    "sns.reset_orig()\n",
    "sns.histplot(N_primes, bins=20)"
   ]
  },
  {
   "cell_type": "markdown",
   "id": "finished-brazil",
   "metadata": {},
   "source": [
    "Loading in their data, I can't reproduce the paper's figure 5b. In particular N is wrong, their plot shows values of N around 100 and 150 that aren't in these model outputs.\n",
    "\n",
    "# Experiment 2"
   ]
  },
  {
   "cell_type": "code",
   "execution_count": 7,
   "id": "rocky-offering",
   "metadata": {},
   "outputs": [],
   "source": [
    "fit_list = [pickle.load(open(f,\"rb\")) for f in glob.glob('osfstorage-archive/Data analysis and modelling for Experiment 2/fit results/*_model_2.pkl')]\n",
    "betas = [f[\"fitResults\"][\"x\"][-3] for f in fit_list]\n",
    "Ns = [f[\"fitResults\"][\"x\"][-2] for f in fit_list]\n",
    "N_primes = [f[\"fitResults\"][\"x\"][-1] for f in fit_list]"
   ]
  },
  {
   "cell_type": "code",
   "execution_count": 8,
   "id": "together-geometry",
   "metadata": {},
   "outputs": [
    {
     "data": {
      "text/plain": [
       "84"
      ]
     },
     "execution_count": 8,
     "metadata": {},
     "output_type": "execute_result"
    }
   ],
   "source": [
    "len(fit_list)"
   ]
  },
  {
   "cell_type": "code",
   "execution_count": 9,
   "id": "primary-premiere",
   "metadata": {},
   "outputs": [
    {
     "data": {
      "text/plain": [
       "<AxesSubplot:ylabel='Count'>"
      ]
     },
     "execution_count": 9,
     "metadata": {},
     "output_type": "execute_result"
    },
    {
     "data": {
      "image/png": "[encoded data removed]",
      "text/plain": [
       "<Figure size 432x288 with 1 Axes>"
      ]
     },
     "metadata": {
      "needs_background": "light"
     },
     "output_type": "display_data"
    }
   ],
   "source": [
    "sns.reset_orig()\n",
    "sns.histplot(Ns, bins=20)"
   ]
  },
  {
   "cell_type": "code",
   "execution_count": 10,
   "id": "noted-european",
   "metadata": {},
   "outputs": [
    {
     "data": {
      "text/plain": [
       "<AxesSubplot:ylabel='Count'>"
      ]
     },
     "execution_count": 10,
     "metadata": {},
     "output_type": "execute_result"
    },
    {
     "data": {
      "image/png": "[encoded data removed]",
      "text/plain": [
       "<Figure size 432x288 with 1 Axes>"
      ]
     },
     "metadata": {
      "needs_background": "light"
     },
     "output_type": "display_data"
    }
   ],
   "source": [
    "sns.reset_orig()\n",
    "sns.histplot(betas, bins=20)"
   ]
  },
  {
   "cell_type": "code",
   "execution_count": 11,
   "id": "dress-credit",
   "metadata": {},
   "outputs": [
    {
     "data": {
      "text/plain": [
       "<AxesSubplot:ylabel='Count'>"
      ]
     },
     "execution_count": 11,
     "metadata": {},
     "output_type": "execute_result"
    },
    {
     "data": {
      "image/png": "[encoded data removed]",
      "text/plain": [
       "<Figure size 432x288 with 1 Axes>"
      ]
     },
     "metadata": {
      "needs_background": "light"
     },
     "output_type": "display_data"
    }
   ],
   "source": [
    "sns.reset_orig()\n",
    "sns.histplot(N_primes, bins=20)"
   ]
  },
  {
   "cell_type": "markdown",
   "id": "conceptual-reflection",
   "metadata": {},
   "source": [
    "For experiment 2, things look quite different for N and N'. This just isn't what is shown in figure 8. And in this case there are the right number of model outputs for paricipants, so it's not just that things are missing. It's that there are many more ~1's than shown in the original paper and no values between ~10 and 150 as are shown in the paper. The results here are just completely different."
   ]
  },
  {
   "cell_type": "markdown",
   "id": "electoral-bidder",
   "metadata": {},
   "source": [
    "# write out model comparison fits to latex"
   ]
  },
  {
   "cell_type": "code",
   "execution_count": 35,
   "id": "initial-monday",
   "metadata": {},
   "outputs": [],
   "source": [
    "def df_bic_exp1():\n",
    "    fit_list_1 = [pickle.load(open(f,\"rb\")) for f in glob.glob('osfstorage-archive/Data analysis and modelling for Experiment 1/fit_results/*_model_1.pkl')]\n",
    "    fit_list_2 = [pickle.load(open(f,\"rb\")) for f in glob.glob('osfstorage-archive/Data analysis and modelling for Experiment 1/fit_results/*_model_2.pkl')]\n",
    "    fit_list_4 = [pickle.load(open(f,\"rb\")) for f in glob.glob('osfstorage-archive/Data analysis and modelling for Experiment 1/fit_results/*_model_4.pkl')]\n",
    "    fit_list_5 = [pickle.load(open(f,\"rb\")) for f in glob.glob('osfstorage-archive/Data analysis and modelling for Experiment 1/fit_results/*_model_5.pkl')]\n",
    "    bic1 = sum([fit['bic'] for fit in fit_list_1]) \n",
    "    bic2 = sum([fit['bic'] for fit in fit_list_2]) \n",
    "    bic4 = sum([fit['bic'] for fit in fit_list_4]) \n",
    "    bic5 = sum([fit['bic'] for fit in fit_list_5]) \n",
    "    output = pd.DataFrame({\n",
    "    \"model\":[\"BS simple\",\"BS complex\",\"PT+N simple\",\"PT+N complex\",\"BS avg.\",\"PT+N avg.\"],\n",
    "    \"BIC\":[bic1, bic2, bic4, bic5, (bic1+bic2)/2, (bic4+bic5)/2]\n",
    "    })\n",
    "    return(output)\n",
    "df_bic_exp1()\n",
    "\n",
    "def df_bic_exp2():\n",
    "    fit_list_1 = [pickle.load(open(f,\"rb\")) for f in glob.glob('osfstorage-archive/Data analysis and modelling for Experiment 2/fit results/*_model_1.pkl')]\n",
    "    fit_list_2 = [pickle.load(open(f,\"rb\")) for f in glob.glob('osfstorage-archive/Data analysis and modelling for Experiment 2/fit results/*_model_2.pkl')]\n",
    "    fit_list_4 = [pickle.load(open(f,\"rb\")) for f in glob.glob('osfstorage-archive/Data analysis and modelling for Experiment 2/fit results/*_model_4.pkl')]\n",
    "    fit_list_5 = [pickle.load(open(f,\"rb\")) for f in glob.glob('osfstorage-archive/Data analysis and modelling for Experiment 2/fit results/*_model_5.pkl')]\n",
    "    bic1 = sum([fit['bic'] for fit in fit_list_1]) \n",
    "    bic2 = sum([fit['bic'] for fit in fit_list_2]) \n",
    "    bic4 = sum([fit['bic'] for fit in fit_list_4]) \n",
    "    bic5 = sum([fit['bic'] for fit in fit_list_5]) \n",
    "    output = pd.DataFrame({\n",
    "    \"model\":[\"BS simple\",\"BS complex\",\"PT+N simple\",\"PT+N complex\",\"BS avg.\",\"PT+N avg.\"],\n",
    "    \"BIC\":[bic1, bic2, bic4, bic5, (bic1+bic2)/2, (bic4+bic5)/2]\n",
    "    }\n",
    "    )\n",
    "    return(output)\n",
    "\n",
    "outputs = pd.DataFrame(\n",
    "    {\n",
    "        \"model\":df_bic_exp1().model, \n",
    "        \"Exp. 1\": df_bic_exp1().BIC,\n",
    "        \"Exp. 2\": df_bic_exp2().BIC\n",
    "    }\n",
    ")\n",
    "\n",
    "with open('paper/original-fits.tex', 'w') as tf:\n",
    "     tf.write(outputs.to_latex())"
   ]
  },
  {
   "cell_type": "code",
   "execution_count": 39,
   "id": "pleased-beast",
   "metadata": {},
   "outputs": [],
   "source": [
    "with open('paper-rmd/original-fits.csv', 'w') as tf:\n",
    "     tf.write(outputs.to_csv())"
   ]
  },
  {
   "cell_type": "markdown",
   "id": "similar-aging",
   "metadata": {},
   "source": [
    "# Comparing responses and model predictions\n",
    "\n",
    "Do the model predictions actually fit the observed responses?"
   ]
  },
  {
   "cell_type": "code",
   "execution_count": 12,
   "id": "enclosed-proposal",
   "metadata": {},
   "outputs": [
    {
     "name": "stderr",
     "output_type": "stream",
     "text": [
      "/opt/conda/lib/python3.8/site-packages/pandas/core/strings/accessor.py:101: UserWarning: This pattern has match groups. To actually get the groups, use str.extract.\n",
      "  return func(self, *args, **kwargs)\n"
     ]
    },
    {
     "data": {
      "text/html": [
       "<div>\n",
       "<style scoped>\n",
       "    .dataframe tbody tr th:only-of-type {\n",
       "        vertical-align: middle;\n",
       "    }\n",
       "\n",
       "    .dataframe tbody tr th {\n",
       "        vertical-align: top;\n",
       "    }\n",
       "\n",
       "    .dataframe thead th {\n",
       "        text-align: right;\n",
       "    }\n",
       "</style>\n",
       "<table border=\"1\" class=\"dataframe\">\n",
       "  <thead>\n",
       "    <tr style=\"text-align: right;\">\n",
       "      <th></th>\n",
       "      <th>querytype</th>\n",
       "      <th>querydetail</th>\n",
       "      <th>ID</th>\n",
       "      <th>estimate</th>\n",
       "    </tr>\n",
       "  </thead>\n",
       "  <tbody>\n",
       "    <tr>\n",
       "      <th>5</th>\n",
       "      <td>A</td>\n",
       "      <td>cold</td>\n",
       "      <td>1</td>\n",
       "      <td>67.666667</td>\n",
       "    </tr>\n",
       "    <tr>\n",
       "      <th>28</th>\n",
       "      <td>B</td>\n",
       "      <td>rainy</td>\n",
       "      <td>1</td>\n",
       "      <td>79.000000</td>\n",
       "    </tr>\n",
       "    <tr>\n",
       "      <th>15</th>\n",
       "      <td>notA</td>\n",
       "      <td>not cold</td>\n",
       "      <td>1</td>\n",
       "      <td>45.000000</td>\n",
       "    </tr>\n",
       "    <tr>\n",
       "      <th>20</th>\n",
       "      <td>notB</td>\n",
       "      <td>not rainy</td>\n",
       "      <td>1</td>\n",
       "      <td>56.000000</td>\n",
       "    </tr>\n",
       "    <tr>\n",
       "      <th>7</th>\n",
       "      <td>AandB</td>\n",
       "      <td>cold and rainy</td>\n",
       "      <td>1</td>\n",
       "      <td>76.000000</td>\n",
       "    </tr>\n",
       "  </tbody>\n",
       "</table>\n",
       "</div>"
      ],
      "text/plain": [
       "   querytype      querydetail  ID   estimate\n",
       "5          A             cold   1  67.666667\n",
       "28         B            rainy   1  79.000000\n",
       "15      notA         not cold   1  45.000000\n",
       "20      notB        not rainy   1  56.000000\n",
       "7      AandB   cold and rainy   1  76.000000"
      ]
     },
     "execution_count": 12,
     "metadata": {},
     "output_type": "execute_result"
    }
   ],
   "source": [
    "fit_list = [pickle.load(open(f,\"rb\")) for f in glob.glob('osfstorage-archive/Data analysis and modelling for Experiment 2/fit results/*_model_2.pkl')]\n",
    "df = pd.concat([pd.read_csv(f) for f in glob.glob('osfstorage-archive/Experiment 2/*.csv')], ignore_index = True)\n",
    "df = (df >> \n",
    "     filter_by(~X.querydetail.str.contains(\"(warm|snowy)\")) >>\n",
    "#       mutate(estimate = X.estimate/100.) >>\n",
    "      group_by(X.ID, X.querydetail, X.querytype) >>\n",
    "      summarize(estimate = np.mean(X.estimate)) >>\n",
    "      ungroup()\n",
    "#       mutate(estimate = X.estimate.replace({0:.01, 1:.99})) >>\n",
    "#       mutate(conjdisj_trial = X.querytype.apply(is_conjdisj))\n",
    "     )\n",
    "\n",
    "query_order = [' cold',\n",
    "  ' rainy',\n",
    "  ' not cold',\n",
    "  ' not rainy',\n",
    "  ' cold and rainy',\n",
    "  ' rainy and not cold',\n",
    "  ' cold and not rainy',\n",
    "  ' not cold and not rainy',\n",
    "  ' cold or rainy',\n",
    "  ' rainy or not cold',\n",
    "  ' cold or not rainy',\n",
    "  ' not cold or not rainy',\n",
    "  ' cold given rainy',\n",
    "  ' not cold given rainy',\n",
    "  ' cold given not rainy',\n",
    "  ' not cold given not rainy',\n",
    "  ' rainy given cold',\n",
    "  ' not rainy given cold',\n",
    "  ' rainy given not cold',\n",
    "  ' not rainy given not cold',\n",
    "  ' windy',\n",
    "  ' cloudy',\n",
    "  ' not windy',\n",
    "  ' not cloudy',\n",
    "  ' windy and cloudy',\n",
    "  ' cloudy and not windy',\n",
    "  ' windy and not cloudy',\n",
    "  ' not windy and not cloudy',\n",
    "  ' windy or cloudy',\n",
    "  ' cloudy or not windy',\n",
    "  ' windy or not cloudy',\n",
    "  ' not windy or not cloudy',\n",
    "  ' windy given cloudy',\n",
    "  ' not windy given cloudy',\n",
    "  ' windy given not cloudy',\n",
    "  ' not windy given not cloudy',\n",
    "  ' cloudy given windy',\n",
    "  ' not cloudy given windy',\n",
    "  ' cloudy given not windy',\n",
    "  ' not cloudy given not windy',\n",
    "  ' warm',\n",
    "  ' snowy',\n",
    "  ' not warm',\n",
    "  ' not snowy',\n",
    "  ' warm and snowy',\n",
    "  ' snowy and not warm',\n",
    "  ' warm and not snowy',\n",
    "  ' not warm and not snowy',\n",
    "  ' warm or snowy',\n",
    "  ' snowy or not warm',\n",
    "  ' warm or not snowy',\n",
    "  ' not warm or not snowy',\n",
    "  ' warm given snowy',\n",
    "  ' not warm given snowy',\n",
    "  ' warm given not snowy',\n",
    "  ' not warm given not snowy',\n",
    "  ' snowy given warm',\n",
    "  ' not snowy given warm',\n",
    "  ' snowy given not warm',\n",
    "  ' not snowy given not warm']\n",
    "\n",
    "\n",
    "df.querydetail = df.querydetail.astype(\"category\")\n",
    "df.querydetail.cat.set_categories(query_order, inplace=True)\n",
    "df = df.sort_values([\"ID\", \"querydetail\"])\n",
    "\n",
    "df[df.ID==1].head()"
   ]
  },
  {
   "cell_type": "code",
   "execution_count": 13,
   "id": "desperate-programmer",
   "metadata": {},
   "outputs": [],
   "source": [
    "pred_list = [f['predmean'] for f in fit_list]\n",
    "\n",
    "df['model_pred'] = np.concatenate(pred_list)*100 # maybe this is wrong?"
   ]
  },
  {
   "cell_type": "code",
   "execution_count": 14,
   "id": "gothic-aviation",
   "metadata": {},
   "outputs": [
    {
     "name": "stderr",
     "output_type": "stream",
     "text": [
      "/opt/conda/lib/python3.8/site-packages/seaborn/_decorators.py:36: FutureWarning: Pass the following variables as keyword args: x, y. From version 0.12, the only valid positional argument will be `data`, and passing other arguments without an explicit keyword will result in an error or misinterpretation.\n",
      "  warnings.warn(\n"
     ]
    },
    {
     "data": {
      "text/plain": [
       "<AxesSubplot:xlabel='model_pred', ylabel='estimate'>"
      ]
     },
     "execution_count": 14,
     "metadata": {},
     "output_type": "execute_result"
    },
    {
     "data": {
      "image/png": "[encoded data removed]",
      "text/plain": [
       "<Figure size 432x288 with 1 Axes>"
      ]
     },
     "metadata": {
      "needs_background": "light"
     },
     "output_type": "display_data"
    }
   ],
   "source": [
    "# df.plot.scatter(x='model_pred',y='estimate')\n",
    "plot_df = df #>> filter_by(X.querytype.apply(lambda x: x in [\"A\",\"B\"]))\n",
    "sns.scatterplot(plot_df.model_pred, plot_df.estimate, alpha=.25)#, hue=plot_df.querytype)"
   ]
  },
  {
   "cell_type": "code",
   "execution_count": 15,
   "id": "comparative-disease",
   "metadata": {},
   "outputs": [
    {
     "data": {
      "text/html": [
       "<div>\n",
       "<style scoped>\n",
       "    .dataframe tbody tr th:only-of-type {\n",
       "        vertical-align: middle;\n",
       "    }\n",
       "\n",
       "    .dataframe tbody tr th {\n",
       "        vertical-align: top;\n",
       "    }\n",
       "\n",
       "    .dataframe thead th {\n",
       "        text-align: right;\n",
       "    }\n",
       "</style>\n",
       "<table border=\"1\" class=\"dataframe\">\n",
       "  <thead>\n",
       "    <tr style=\"text-align: right;\">\n",
       "      <th></th>\n",
       "      <th>model_pred</th>\n",
       "      <th>estimate</th>\n",
       "    </tr>\n",
       "  </thead>\n",
       "  <tbody>\n",
       "    <tr>\n",
       "      <th>model_pred</th>\n",
       "      <td>1.000000</td>\n",
       "      <td>0.360753</td>\n",
       "    </tr>\n",
       "    <tr>\n",
       "      <th>estimate</th>\n",
       "      <td>0.360753</td>\n",
       "      <td>1.000000</td>\n",
       "    </tr>\n",
       "  </tbody>\n",
       "</table>\n",
       "</div>"
      ],
      "text/plain": [
       "            model_pred  estimate\n",
       "model_pred    1.000000  0.360753\n",
       "estimate      0.360753  1.000000"
      ]
     },
     "execution_count": 15,
     "metadata": {},
     "output_type": "execute_result"
    }
   ],
   "source": [
    "df[[\"model_pred\", \"estimate\"]].corr()"
   ]
  },
  {
   "cell_type": "markdown",
   "id": "shaped-veteran",
   "metadata": {},
   "source": [
    "For the individual responses, the correlations are quite modest. But the study was designed to test on average."
   ]
  },
  {
   "cell_type": "markdown",
   "id": "reflected-carolina",
   "metadata": {},
   "source": [
    "## Fit of average predictions by query\n",
    "\n",
    "The plots in the paper indicate the fit of the models' average predictions to the average responses for each trial type. No actual fit statistics are given but these are much more closely predictive."
   ]
  },
  {
   "cell_type": "code",
   "execution_count": 16,
   "id": "ethical-membership",
   "metadata": {},
   "outputs": [
    {
     "data": {
      "text/plain": [
       "<AxesSubplot:xlabel='mean_pred', ylabel='mean_est'>"
      ]
     },
     "execution_count": 16,
     "metadata": {},
     "output_type": "execute_result"
    },
    {
     "data": {
      "image/png": "[encoded data removed]",
      "text/plain": [
       "<Figure size 432x288 with 1 Axes>"
      ]
     },
     "metadata": {
      "needs_background": "light"
     },
     "output_type": "display_data"
    }
   ],
   "source": [
    "plot_df = df >> group_by(X.querydetail) >> summarize(mean_est = np.mean(X.estimate), mean_pred = np.mean(X.model_pred))\n",
    "plot_df.plot.scatter(x=\"mean_pred\", y=\"mean_est\", xlim=(25,75), ylim=(25,75))\n"
   ]
  },
  {
   "cell_type": "code",
   "execution_count": 17,
   "id": "inappropriate-genetics",
   "metadata": {},
   "outputs": [
    {
     "data": {
      "text/html": [
       "<div>\n",
       "<style scoped>\n",
       "    .dataframe tbody tr th:only-of-type {\n",
       "        vertical-align: middle;\n",
       "    }\n",
       "\n",
       "    .dataframe tbody tr th {\n",
       "        vertical-align: top;\n",
       "    }\n",
       "\n",
       "    .dataframe thead th {\n",
       "        text-align: right;\n",
       "    }\n",
       "</style>\n",
       "<table border=\"1\" class=\"dataframe\">\n",
       "  <thead>\n",
       "    <tr style=\"text-align: right;\">\n",
       "      <th></th>\n",
       "      <th>mean_est</th>\n",
       "      <th>mean_pred</th>\n",
       "    </tr>\n",
       "  </thead>\n",
       "  <tbody>\n",
       "    <tr>\n",
       "      <th>mean_est</th>\n",
       "      <td>1.000000</td>\n",
       "      <td>0.837947</td>\n",
       "    </tr>\n",
       "    <tr>\n",
       "      <th>mean_pred</th>\n",
       "      <td>0.837947</td>\n",
       "      <td>1.000000</td>\n",
       "    </tr>\n",
       "  </tbody>\n",
       "</table>\n",
       "</div>"
      ],
      "text/plain": [
       "           mean_est  mean_pred\n",
       "mean_est   1.000000   0.837947\n",
       "mean_pred  0.837947   1.000000"
      ]
     },
     "execution_count": 17,
     "metadata": {},
     "output_type": "execute_result"
    }
   ],
   "source": [
    "plot_df.corr()"
   ]
  },
  {
   "cell_type": "markdown",
   "id": "standard-fruit",
   "metadata": {},
   "source": [
    "$R^2 = .68$ is a pretty decent model fit and much better than the individual-level means."
   ]
  },
  {
   "cell_type": "code",
   "execution_count": 18,
   "id": "optical-horizon",
   "metadata": {},
   "outputs": [
    {
     "name": "stdout",
     "output_type": "stream",
     "text": [
      "BS simple -5371.944608646983\n",
      "BS complex -5099.280464552781\n",
      "PTN simple -4901.106207956662\n",
      "PTN complex -5159.638213495084\n",
      "BS avg -5235.612536599882\n",
      "PTN avg -5030.372210725873\n"
     ]
    }
   ],
   "source": [
    "def print_bic_exp2():\n",
    "    fit_list_1 = [pickle.load(open(f,\"rb\")) for f in glob.glob('osfstorage-archive/Data analysis and modelling for Experiment 2/fit results/*_model_1.pkl')]\n",
    "    fit_list_2 = [pickle.load(open(f,\"rb\")) for f in glob.glob('osfstorage-archive/Data analysis and modelling for Experiment 2/fit results/*_model_2.pkl')]\n",
    "    fit_list_4 = [pickle.load(open(f,\"rb\")) for f in glob.glob('osfstorage-archive/Data analysis and modelling for Experiment 2/fit results/*_model_4.pkl')]\n",
    "    fit_list_5 = [pickle.load(open(f,\"rb\")) for f in glob.glob('osfstorage-archive/Data analysis and modelling for Experiment 2/fit results/*_model_5.pkl')]\n",
    "    bic1 = sum([fit['bic'] for fit in fit_list_1]) \n",
    "    bic2 = sum([fit['bic'] for fit in fit_list_2]) \n",
    "    bic4 = sum([fit['bic'] for fit in fit_list_4]) \n",
    "    bic5 = sum([fit['bic'] for fit in fit_list_5]) \n",
    "    print(\"BS simple\", bic1)\n",
    "    print(\"BS complex\", bic2)\n",
    "    print(\"PTN simple\", bic4)\n",
    "    print(\"PTN complex\", bic5)\n",
    "    print(\"BS avg\", (bic1+bic2)/2)\n",
    "    print(\"PTN avg\", (bic4+bic5)/2)\n",
    "print_bic_exp2()"
   ]
  },
  {
   "cell_type": "markdown",
   "id": "lined-acrylic",
   "metadata": {},
   "source": [
    "From BIC, the simple version of the BS is a very clear winner out of all 4 possible models. That's a bit funny tho since it can't explain conjunction fallacy which is pretty important. If you consider the 4 individual models, then the story is kind of ambiguous. And in fact, if you stipulate you need to care about complex versions, then PTN wins. I wonder if the ambiguity is why they lumped the simple and complex together? Still no explantion for why they didn't just compute BIC overall---from chatting with Zhu sounds like a reviewer pushed them this direction.\n",
    "\n",
    "# Experiment 1\n",
    "\n",
    "Below, with experiment 1's data now complete, we can see it's the same story."
   ]
  },
  {
   "cell_type": "code",
   "execution_count": 44,
   "id": "beneficial-extreme",
   "metadata": {},
   "outputs": [
    {
     "name": "stdout",
     "output_type": "stream",
     "text": [
      "BS simple 956.9175376053546\n",
      "BS complex 1174.3709176309171\n",
      "PTN simple 1257.519966228404\n",
      "PTN complex 1039.7315737683211\n",
      "BS avg 1065.6442276181358\n",
      "PTN avg 1148.6257699983626\n"
     ]
    }
   ],
   "source": [
    "## experiment 1\n",
    "def print_bic_exp1():\n",
    "    fit_list_1 = [pickle.load(open(f,\"rb\")) for f in glob.glob('osfstorage-archive/Data analysis and modelling for Experiment 1/fit_results/*_model_1.pkl')]\n",
    "    fit_list_2 = [pickle.load(open(f,\"rb\")) for f in glob.glob('osfstorage-archive/Data analysis and modelling for Experiment 1/fit_results/*_model_2.pkl')]\n",
    "    fit_list_4 = [pickle.load(open(f,\"rb\")) for f in glob.glob('osfstorage-archive/Data analysis and modelling for Experiment 1/fit_results/*_model_4.pkl')]\n",
    "    fit_list_5 = [pickle.load(open(f,\"rb\")) for f in glob.glob('osfstorage-archive/Data analysis and modelling for Experiment 1/fit_results/*_model_5.pkl')]\n",
    "    bic1 = sum([fit['bic'] for fit in fit_list_1]) \n",
    "    bic2 = sum([fit['bic'] for fit in fit_list_2]) \n",
    "    bic4 = sum([fit['bic'] for fit in fit_list_4]) \n",
    "    bic5 = sum([fit['bic'] for fit in fit_list_5]) \n",
    "    print(\"BS simple\", bic1)\n",
    "    print(\"BS complex\", bic2)\n",
    "    print(\"PTN simple\", bic4)\n",
    "    print(\"PTN complex\", bic5)\n",
    "    print(\"BS avg\", (bic1+bic2)/2)\n",
    "    print(\"PTN avg\", (bic4+bic5)/2)\n",
    "print_bic_exp1()"
   ]
  },
  {
   "cell_type": "code",
   "execution_count": 91,
   "id": "least-alaska",
   "metadata": {},
   "outputs": [
    {
     "data": {
      "text/html": [
       "<div>\n",
       "<style scoped>\n",
       "    .dataframe tbody tr th:only-of-type {\n",
       "        vertical-align: middle;\n",
       "    }\n",
       "\n",
       "    .dataframe tbody tr th {\n",
       "        vertical-align: top;\n",
       "    }\n",
       "\n",
       "    .dataframe thead th {\n",
       "        text-align: right;\n",
       "    }\n",
       "</style>\n",
       "<table border=\"1\" class=\"dataframe\">\n",
       "  <thead>\n",
       "    <tr style=\"text-align: right;\">\n",
       "      <th></th>\n",
       "      <th>querytype</th>\n",
       "      <th>querydetail</th>\n",
       "      <th>ID</th>\n",
       "      <th>estimate</th>\n",
       "    </tr>\n",
       "  </thead>\n",
       "  <tbody>\n",
       "    <tr>\n",
       "      <th>5</th>\n",
       "      <td>A</td>\n",
       "      <td>icy</td>\n",
       "      <td>1</td>\n",
       "      <td>50.333333</td>\n",
       "    </tr>\n",
       "    <tr>\n",
       "      <th>0</th>\n",
       "      <td>B</td>\n",
       "      <td>frosty</td>\n",
       "      <td>1</td>\n",
       "      <td>38.333333</td>\n",
       "    </tr>\n",
       "    <tr>\n",
       "      <th>22</th>\n",
       "      <td>notA</td>\n",
       "      <td>not icy</td>\n",
       "      <td>1</td>\n",
       "      <td>52.000000</td>\n",
       "    </tr>\n",
       "    <tr>\n",
       "      <th>19</th>\n",
       "      <td>notB</td>\n",
       "      <td>not frosty</td>\n",
       "      <td>1</td>\n",
       "      <td>48.333333</td>\n",
       "    </tr>\n",
       "    <tr>\n",
       "      <th>6</th>\n",
       "      <td>AandB</td>\n",
       "      <td>icy and frosty</td>\n",
       "      <td>1</td>\n",
       "      <td>61.666667</td>\n",
       "    </tr>\n",
       "  </tbody>\n",
       "</table>\n",
       "</div>"
      ],
      "text/plain": [
       "   querytype      querydetail  ID   estimate\n",
       "5          A              icy   1  50.333333\n",
       "0          B           frosty   1  38.333333\n",
       "22      notA          not icy   1  52.000000\n",
       "19      notB       not frosty   1  48.333333\n",
       "6      AandB   icy and frosty   1  61.666667"
      ]
     },
     "execution_count": 91,
     "metadata": {},
     "output_type": "execute_result"
    }
   ],
   "source": [
    "fit_list = [pickle.load(open(f,\"rb\")) for f in glob.glob('osfstorage-archive/Data analysis and modelling for Experiment 1/fit_results/*_model_2.pkl')]\n",
    "df_exp1 = pd.concat([pd.read_csv(f) for f in glob.glob('osfstorage-archive/Experiment 1/*.csv')], ignore_index = True)\n",
    "df_exp1 = (df_exp1 >> \n",
    "     # filter_by(~X.querydetail.str.contains(\"(warm|snowy)\")) >>\n",
    "#       mutate(estimate = X.estimate/100.) >>\n",
    "      group_by(X.ID, X.querydetail, X.querytype) >>\n",
    "      summarize(estimate = np.mean(X.estimate)) >>\n",
    "      ungroup()\n",
    "#       mutate(estimate = X.estimate.replace({0:.01, 1:.99})) >>\n",
    "#       mutate(conjdisj_trial = X.querytype.apply(is_conjdisj))\n",
    "     )\n",
    "\n",
    "# from clean_data() function\n",
    "query_order = [' icy',\n",
    " ' frosty',\n",
    " ' not icy',\n",
    " ' not frosty',\n",
    " ' icy and frosty',\n",
    " ' frosty and not icy',\n",
    " ' icy and not frosty',\n",
    " ' not icy and not frosty',\n",
    " ' icy or frosty',\n",
    " ' frosty or not icy',\n",
    " ' icy or not frosty',\n",
    " ' not icy or not frosty',\n",
    " ' icy given frosty',\n",
    " ' not icy given frosty',\n",
    " ' icy given not frosty',\n",
    " ' not icy given not frosty',\n",
    " ' frosty given icy',\n",
    " ' not frosty given icy',\n",
    " ' frosty given not icy',\n",
    " ' not frosty given not icy',\n",
    " ' normal',\n",
    " ' typical',\n",
    " ' not normal',\n",
    " ' not typical',\n",
    " ' normal and typical',\n",
    " ' typical and not normal',\n",
    " ' normal and not typical',\n",
    " ' not normal and not typical',\n",
    " ' normal or typical',\n",
    " ' typical or not normal',\n",
    " ' normal or not typical',\n",
    " ' not normal or not typical',\n",
    " ' normal given typical',\n",
    " ' not normal given typical',\n",
    " ' normal given not typical',\n",
    " ' not normal given not typical',\n",
    " ' typical given normal',\n",
    " ' not typical given normal',\n",
    " ' typical given not normal',\n",
    " ' not typical given not normal']\n",
    "\n",
    "test_df = (df_exp1 >> filter_by(X.ID==1))\n",
    "# test_df = df_exp1\n",
    "\n",
    "df_exp1.querydetail = df_exp1.querydetail.astype(\"category\")\n",
    "df_exp1.querydetail.cat.set_categories(query_order, inplace=True)\n",
    "df_exp1 = df_exp1.sort_values([\"ID\", \"querydetail\"])\n",
    "\n",
    "df_exp1[df_exp1.ID==1].head()"
   ]
  },
  {
   "cell_type": "code",
   "execution_count": 92,
   "id": "legislative-button",
   "metadata": {},
   "outputs": [],
   "source": [
    "pred_list = [f['predmean'] for f in fit_list]\n",
    "\n",
    "df_exp1['model_pred'] = np.concatenate(pred_list)*100 # maybe this is wrong?"
   ]
  },
  {
   "cell_type": "code",
   "execution_count": 97,
   "id": "recognized-flexibility",
   "metadata": {},
   "outputs": [
    {
     "name": "stderr",
     "output_type": "stream",
     "text": [
      "/opt/conda/lib/python3.8/site-packages/seaborn/_decorators.py:36: FutureWarning: Pass the following variables as keyword args: x, y. From version 0.12, the only valid positional argument will be `data`, and passing other arguments without an explicit keyword will result in an error or misinterpretation.\n",
      "  warnings.warn(\n"
     ]
    },
    {
     "data": {
      "text/plain": [
       "<AxesSubplot:xlabel='model_pred', ylabel='estimate'>"
      ]
     },
     "execution_count": 97,
     "metadata": {},
     "output_type": "execute_result"
    },
    {
     "data": {
      "image/png": "[encoded data removed]",
      "text/plain": [
       "<Figure size 432x288 with 1 Axes>"
      ]
     },
     "metadata": {
      "needs_background": "light"
     },
     "output_type": "display_data"
    }
   ],
   "source": [
    "plot_df = df_exp1 #>> filter_by(X.querytype.apply(lambda x: x in [\"A\",\"B\"]))\n",
    "sns.scatterplot(plot_df.model_pred, plot_df.estimate, alpha=.25)#, hue=plot_df.querytype)"
   ]
  },
  {
   "cell_type": "code",
   "execution_count": 94,
   "id": "qualified-belarus",
   "metadata": {},
   "outputs": [
    {
     "data": {
      "text/html": [
       "<div>\n",
       "<style scoped>\n",
       "    .dataframe tbody tr th:only-of-type {\n",
       "        vertical-align: middle;\n",
       "    }\n",
       "\n",
       "    .dataframe tbody tr th {\n",
       "        vertical-align: top;\n",
       "    }\n",
       "\n",
       "    .dataframe thead th {\n",
       "        text-align: right;\n",
       "    }\n",
       "</style>\n",
       "<table border=\"1\" class=\"dataframe\">\n",
       "  <thead>\n",
       "    <tr style=\"text-align: right;\">\n",
       "      <th></th>\n",
       "      <th>model_pred</th>\n",
       "      <th>estimate</th>\n",
       "    </tr>\n",
       "  </thead>\n",
       "  <tbody>\n",
       "    <tr>\n",
       "      <th>model_pred</th>\n",
       "      <td>1.000000</td>\n",
       "      <td>0.498532</td>\n",
       "    </tr>\n",
       "    <tr>\n",
       "      <th>estimate</th>\n",
       "      <td>0.498532</td>\n",
       "      <td>1.000000</td>\n",
       "    </tr>\n",
       "  </tbody>\n",
       "</table>\n",
       "</div>"
      ],
      "text/plain": [
       "            model_pred  estimate\n",
       "model_pred    1.000000  0.498532\n",
       "estimate      0.498532  1.000000"
      ]
     },
     "execution_count": 94,
     "metadata": {},
     "output_type": "execute_result"
    }
   ],
   "source": [
    "df_exp1[[\"model_pred\", \"estimate\"]].corr()"
   ]
  },
  {
   "cell_type": "code",
   "execution_count": 101,
   "id": "working-implement",
   "metadata": {},
   "outputs": [
    {
     "data": {
      "text/plain": [
       "<AxesSubplot:xlabel='mean_pred', ylabel='mean_est'>"
      ]
     },
     "execution_count": 101,
     "metadata": {},
     "output_type": "execute_result"
    },
    {
     "data": {
      "image/png": "[encoded data removed]",
      "text/plain": [
       "<Figure size 432x288 with 1 Axes>"
      ]
     },
     "metadata": {
      "needs_background": "light"
     },
     "output_type": "display_data"
    }
   ],
   "source": [
    "plot_df = df_exp1 >> group_by(X.querydetail) >> summarize(mean_est = np.mean(X.estimate), mean_pred = np.mean(X.model_pred))\n",
    "plot_df.plot.scatter(x=\"mean_pred\", y=\"mean_est\", xlim=(25,75), ylim=(25,75))"
   ]
  },
  {
   "cell_type": "code",
   "execution_count": 102,
   "id": "unable-suspect",
   "metadata": {},
   "outputs": [
    {
     "data": {
      "text/html": [
       "<div>\n",
       "<style scoped>\n",
       "    .dataframe tbody tr th:only-of-type {\n",
       "        vertical-align: middle;\n",
       "    }\n",
       "\n",
       "    .dataframe tbody tr th {\n",
       "        vertical-align: top;\n",
       "    }\n",
       "\n",
       "    .dataframe thead th {\n",
       "        text-align: right;\n",
       "    }\n",
       "</style>\n",
       "<table border=\"1\" class=\"dataframe\">\n",
       "  <thead>\n",
       "    <tr style=\"text-align: right;\">\n",
       "      <th></th>\n",
       "      <th>mean_est</th>\n",
       "      <th>mean_pred</th>\n",
       "    </tr>\n",
       "  </thead>\n",
       "  <tbody>\n",
       "    <tr>\n",
       "      <th>mean_est</th>\n",
       "      <td>1.000000</td>\n",
       "      <td>0.847245</td>\n",
       "    </tr>\n",
       "    <tr>\n",
       "      <th>mean_pred</th>\n",
       "      <td>0.847245</td>\n",
       "      <td>1.000000</td>\n",
       "    </tr>\n",
       "  </tbody>\n",
       "</table>\n",
       "</div>"
      ],
      "text/plain": [
       "           mean_est  mean_pred\n",
       "mean_est   1.000000   0.847245\n",
       "mean_pred  0.847245   1.000000"
      ]
     },
     "execution_count": 102,
     "metadata": {},
     "output_type": "execute_result"
    }
   ],
   "source": [
    "plot_df.corr()"
   ]
  },
  {
   "cell_type": "markdown",
   "id": "revolutionary-butterfly",
   "metadata": {},
   "source": [
    "These fits look pretty funky, but the response-level correlations are actually stronger than before. There are however 4 clear outliers. Looking below, those are some of the disjunctions that can be read as elaborations rather than true disjunctions."
   ]
  },
  {
   "cell_type": "code",
   "execution_count": 103,
   "id": "pressing-singer",
   "metadata": {},
   "outputs": [
    {
     "data": {
      "text/html": [
       "<div>\n",
       "<style scoped>\n",
       "    .dataframe tbody tr th:only-of-type {\n",
       "        vertical-align: middle;\n",
       "    }\n",
       "\n",
       "    .dataframe tbody tr th {\n",
       "        vertical-align: top;\n",
       "    }\n",
       "\n",
       "    .dataframe thead th {\n",
       "        text-align: right;\n",
       "    }\n",
       "</style>\n",
       "<table border=\"1\" class=\"dataframe\">\n",
       "  <thead>\n",
       "    <tr style=\"text-align: right;\">\n",
       "      <th></th>\n",
       "      <th>querydetail</th>\n",
       "      <th>mean_est</th>\n",
       "      <th>mean_pred</th>\n",
       "    </tr>\n",
       "  </thead>\n",
       "  <tbody>\n",
       "    <tr>\n",
       "      <th>0</th>\n",
       "      <td>icy</td>\n",
       "      <td>27.056497</td>\n",
       "      <td>35.119061</td>\n",
       "    </tr>\n",
       "    <tr>\n",
       "      <th>1</th>\n",
       "      <td>frosty</td>\n",
       "      <td>28.412429</td>\n",
       "      <td>36.881022</td>\n",
       "    </tr>\n",
       "    <tr>\n",
       "      <th>2</th>\n",
       "      <td>not icy</td>\n",
       "      <td>65.429379</td>\n",
       "      <td>64.880939</td>\n",
       "    </tr>\n",
       "    <tr>\n",
       "      <th>3</th>\n",
       "      <td>not frosty</td>\n",
       "      <td>63.881356</td>\n",
       "      <td>63.118978</td>\n",
       "    </tr>\n",
       "    <tr>\n",
       "      <th>4</th>\n",
       "      <td>icy and frosty</td>\n",
       "      <td>38.237288</td>\n",
       "      <td>33.606649</td>\n",
       "    </tr>\n",
       "    <tr>\n",
       "      <th>5</th>\n",
       "      <td>frosty and not icy</td>\n",
       "      <td>30.045198</td>\n",
       "      <td>29.530362</td>\n",
       "    </tr>\n",
       "    <tr>\n",
       "      <th>6</th>\n",
       "      <td>icy and not frosty</td>\n",
       "      <td>25.090395</td>\n",
       "      <td>27.768830</td>\n",
       "    </tr>\n",
       "    <tr>\n",
       "      <th>7</th>\n",
       "      <td>not icy and not frosty</td>\n",
       "      <td>66.096045</td>\n",
       "      <td>61.766835</td>\n",
       "    </tr>\n",
       "    <tr>\n",
       "      <th>8</th>\n",
       "      <td>icy or frosty</td>\n",
       "      <td>32.395480</td>\n",
       "      <td>38.233165</td>\n",
       "    </tr>\n",
       "    <tr>\n",
       "      <th>9</th>\n",
       "      <td>frosty or not icy</td>\n",
       "      <td>36.847458</td>\n",
       "      <td>72.231170</td>\n",
       "    </tr>\n",
       "    <tr>\n",
       "      <th>10</th>\n",
       "      <td>icy or not frosty</td>\n",
       "      <td>36.864407</td>\n",
       "      <td>70.469638</td>\n",
       "    </tr>\n",
       "    <tr>\n",
       "      <th>11</th>\n",
       "      <td>not icy or not frosty</td>\n",
       "      <td>63.762712</td>\n",
       "      <td>66.393351</td>\n",
       "    </tr>\n",
       "    <tr>\n",
       "      <th>12</th>\n",
       "      <td>icy given frosty</td>\n",
       "      <td>66.548023</td>\n",
       "      <td>62.857101</td>\n",
       "    </tr>\n",
       "    <tr>\n",
       "      <th>13</th>\n",
       "      <td>not icy given frosty</td>\n",
       "      <td>31.338983</td>\n",
       "      <td>37.142899</td>\n",
       "    </tr>\n",
       "    <tr>\n",
       "      <th>14</th>\n",
       "      <td>icy given not frosty</td>\n",
       "      <td>21.881356</td>\n",
       "      <td>29.141513</td>\n",
       "    </tr>\n",
       "    <tr>\n",
       "      <th>15</th>\n",
       "      <td>not icy given not frosty</td>\n",
       "      <td>71.016949</td>\n",
       "      <td>70.858487</td>\n",
       "    </tr>\n",
       "    <tr>\n",
       "      <th>16</th>\n",
       "      <td>frosty given icy</td>\n",
       "      <td>70.892655</td>\n",
       "      <td>67.916635</td>\n",
       "    </tr>\n",
       "    <tr>\n",
       "      <th>17</th>\n",
       "      <td>not frosty given icy</td>\n",
       "      <td>25.740113</td>\n",
       "      <td>32.083365</td>\n",
       "    </tr>\n",
       "    <tr>\n",
       "      <th>18</th>\n",
       "      <td>frosty given not icy</td>\n",
       "      <td>29.497175</td>\n",
       "      <td>31.615266</td>\n",
       "    </tr>\n",
       "    <tr>\n",
       "      <th>19</th>\n",
       "      <td>not frosty given not icy</td>\n",
       "      <td>68.231638</td>\n",
       "      <td>68.384734</td>\n",
       "    </tr>\n",
       "    <tr>\n",
       "      <th>20</th>\n",
       "      <td>normal</td>\n",
       "      <td>71.039548</td>\n",
       "      <td>63.526661</td>\n",
       "    </tr>\n",
       "    <tr>\n",
       "      <th>21</th>\n",
       "      <td>typical</td>\n",
       "      <td>67.960452</td>\n",
       "      <td>63.295175</td>\n",
       "    </tr>\n",
       "    <tr>\n",
       "      <th>22</th>\n",
       "      <td>not normal</td>\n",
       "      <td>34.932203</td>\n",
       "      <td>36.473339</td>\n",
       "    </tr>\n",
       "    <tr>\n",
       "      <th>23</th>\n",
       "      <td>not typical</td>\n",
       "      <td>35.926554</td>\n",
       "      <td>36.704825</td>\n",
       "    </tr>\n",
       "    <tr>\n",
       "      <th>24</th>\n",
       "      <td>normal and typical</td>\n",
       "      <td>68.892655</td>\n",
       "      <td>61.053418</td>\n",
       "    </tr>\n",
       "    <tr>\n",
       "      <th>25</th>\n",
       "      <td>typical and not normal</td>\n",
       "      <td>30.502825</td>\n",
       "      <td>28.623347</td>\n",
       "    </tr>\n",
       "    <tr>\n",
       "      <th>26</th>\n",
       "      <td>normal and not typical</td>\n",
       "      <td>35.813559</td>\n",
       "      <td>28.854833</td>\n",
       "    </tr>\n",
       "    <tr>\n",
       "      <th>27</th>\n",
       "      <td>not normal and not typical</td>\n",
       "      <td>37.158192</td>\n",
       "      <td>34.141077</td>\n",
       "    </tr>\n",
       "    <tr>\n",
       "      <th>28</th>\n",
       "      <td>normal or typical</td>\n",
       "      <td>70.841808</td>\n",
       "      <td>65.858923</td>\n",
       "    </tr>\n",
       "    <tr>\n",
       "      <th>29</th>\n",
       "      <td>typical or not normal</td>\n",
       "      <td>47.333333</td>\n",
       "      <td>71.145167</td>\n",
       "    </tr>\n",
       "    <tr>\n",
       "      <th>30</th>\n",
       "      <td>normal or not typical</td>\n",
       "      <td>52.644068</td>\n",
       "      <td>71.376653</td>\n",
       "    </tr>\n",
       "    <tr>\n",
       "      <th>31</th>\n",
       "      <td>not normal or not typical</td>\n",
       "      <td>38.610169</td>\n",
       "      <td>38.946582</td>\n",
       "    </tr>\n",
       "    <tr>\n",
       "      <th>32</th>\n",
       "      <td>normal given typical</td>\n",
       "      <td>71.073446</td>\n",
       "      <td>68.186580</td>\n",
       "    </tr>\n",
       "    <tr>\n",
       "      <th>33</th>\n",
       "      <td>not normal given typical</td>\n",
       "      <td>32.666667</td>\n",
       "      <td>31.813420</td>\n",
       "    </tr>\n",
       "    <tr>\n",
       "      <th>34</th>\n",
       "      <td>normal given not typical</td>\n",
       "      <td>28.536723</td>\n",
       "      <td>35.957859</td>\n",
       "    </tr>\n",
       "    <tr>\n",
       "      <th>35</th>\n",
       "      <td>not normal given not typical</td>\n",
       "      <td>69.259887</td>\n",
       "      <td>64.042141</td>\n",
       "    </tr>\n",
       "    <tr>\n",
       "      <th>36</th>\n",
       "      <td>typical given normal</td>\n",
       "      <td>74.169492</td>\n",
       "      <td>68.503236</td>\n",
       "    </tr>\n",
       "    <tr>\n",
       "      <th>37</th>\n",
       "      <td>not typical given normal</td>\n",
       "      <td>29.395480</td>\n",
       "      <td>31.496764</td>\n",
       "    </tr>\n",
       "    <tr>\n",
       "      <th>38</th>\n",
       "      <td>typical given not normal</td>\n",
       "      <td>32.734463</td>\n",
       "      <td>35.271856</td>\n",
       "    </tr>\n",
       "    <tr>\n",
       "      <th>39</th>\n",
       "      <td>not typical given not normal</td>\n",
       "      <td>70.451977</td>\n",
       "      <td>64.728144</td>\n",
       "    </tr>\n",
       "  </tbody>\n",
       "</table>\n",
       "</div>"
      ],
      "text/plain": [
       "                      querydetail   mean_est  mean_pred\n",
       "0                             icy  27.056497  35.119061\n",
       "1                          frosty  28.412429  36.881022\n",
       "2                         not icy  65.429379  64.880939\n",
       "3                      not frosty  63.881356  63.118978\n",
       "4                  icy and frosty  38.237288  33.606649\n",
       "5              frosty and not icy  30.045198  29.530362\n",
       "6              icy and not frosty  25.090395  27.768830\n",
       "7          not icy and not frosty  66.096045  61.766835\n",
       "8                   icy or frosty  32.395480  38.233165\n",
       "9               frosty or not icy  36.847458  72.231170\n",
       "10              icy or not frosty  36.864407  70.469638\n",
       "11          not icy or not frosty  63.762712  66.393351\n",
       "12               icy given frosty  66.548023  62.857101\n",
       "13           not icy given frosty  31.338983  37.142899\n",
       "14           icy given not frosty  21.881356  29.141513\n",
       "15       not icy given not frosty  71.016949  70.858487\n",
       "16               frosty given icy  70.892655  67.916635\n",
       "17           not frosty given icy  25.740113  32.083365\n",
       "18           frosty given not icy  29.497175  31.615266\n",
       "19       not frosty given not icy  68.231638  68.384734\n",
       "20                         normal  71.039548  63.526661\n",
       "21                        typical  67.960452  63.295175\n",
       "22                     not normal  34.932203  36.473339\n",
       "23                    not typical  35.926554  36.704825\n",
       "24             normal and typical  68.892655  61.053418\n",
       "25         typical and not normal  30.502825  28.623347\n",
       "26         normal and not typical  35.813559  28.854833\n",
       "27     not normal and not typical  37.158192  34.141077\n",
       "28              normal or typical  70.841808  65.858923\n",
       "29          typical or not normal  47.333333  71.145167\n",
       "30          normal or not typical  52.644068  71.376653\n",
       "31      not normal or not typical  38.610169  38.946582\n",
       "32           normal given typical  71.073446  68.186580\n",
       "33       not normal given typical  32.666667  31.813420\n",
       "34       normal given not typical  28.536723  35.957859\n",
       "35   not normal given not typical  69.259887  64.042141\n",
       "36           typical given normal  74.169492  68.503236\n",
       "37       not typical given normal  29.395480  31.496764\n",
       "38       typical given not normal  32.734463  35.271856\n",
       "39   not typical given not normal  70.451977  64.728144"
      ]
     },
     "execution_count": 103,
     "metadata": {},
     "output_type": "execute_result"
    }
   ],
   "source": [
    "plot_df"
   ]
  },
  {
   "cell_type": "markdown",
   "id": "modular-grounds",
   "metadata": {},
   "source": [
    "### Conjunction fallacies\n",
    "\n",
    "Could be good to examine presence of conjunction fallacies."
   ]
  },
  {
   "cell_type": "code",
   "execution_count": null,
   "id": "postal-economy",
   "metadata": {},
   "outputs": [],
   "source": []
  }
 ],
 "metadata": {
  "kernelspec": {
   "display_name": "Python 3",
   "language": "python",
   "name": "python3"
  },
  "language_info": {
   "codemirror_mode": {
    "name": "ipython",
    "version": 3
   },
   "file_extension": ".py",
   "mimetype": "text/x-python",
   "name": "python",
   "nbconvert_exporter": "python",
   "pygments_lexer": "ipython3",
   "version": "3.8.8"
  }
 },
 "nbformat": 4,
 "nbformat_minor": 5
}
