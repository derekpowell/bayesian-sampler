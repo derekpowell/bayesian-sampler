{
 "cells": [
  {
   "cell_type": "code",
   "execution_count": 1,
   "metadata": {},
   "outputs": [
    {
     "name": "stdout",
     "output_type": "stream",
     "text": [
      "[CpuDevice(id=0)]\n"
     ]
    }
   ],
   "source": [
    "import numpyro\n",
    "numpyro.enable_x64()\n",
    "# numpyro.set_platform('gpu')\n",
    "\n",
    "import jax\n",
    "print(jax.devices())\n",
    "\n",
    "import os\n",
    "os.environ['XLA_PYTHON_CLIENT_PREALLOCATE']='false'\n",
    "\n",
    "import numpyro.distributions as dist\n",
    "from numpyro.infer import MCMC, NUTS, Predictive, init_to_median, init_to_value, init_to_sample, Trace_ELBO, TraceGraph_ELBO\n",
    "\n",
    "from numpyro.infer.svi import SVI\n",
    "from numpyro.infer.autoguide import AutoDelta, AutoNormal, AutoLaplaceApproximation, AutoDAIS, AutoBNAFNormal, AutoIAFNormal, AutoMultivariateNormal\n",
    "from numpyro.optim import Adam, ClippedAdam\n",
    "\n",
    "import tensorflow_probability.substrates.jax as tfp\n",
    "\n",
    "from jax import numpy as jnp\n",
    "from jax import random, vmap\n",
    "\n",
    "import numpy as np\n",
    "import pandas as pd\n",
    "import arviz as az\n",
    "\n",
    "import siuba as s\n",
    "from siuba import _\n",
    "\n",
    "from plotnine import *\n",
    "\n",
    "from matplotlib import pyplot as plt\n",
    "\n",
    "import pickle\n",
    "\n",
    "from lib.helpers import *\n",
    "from lib.models import *"
   ]
  },
  {
   "cell_type": "code",
   "execution_count": 2,
   "metadata": {},
   "outputs": [],
   "source": [
    "## Define functions\n",
    "\n",
    "def fit_svi(model, x_data, y_data, optimizer=Adam(1e-3), loss=TraceGraph_ELBO(), n_steps=10_000, full_rank = False, filename=None):\n",
    "    if full_rank:\n",
    "        guide = AutoMultivariateNormal(model)\n",
    "    else:\n",
    "        guide = AutoNormal(model)\n",
    "\n",
    "    if filename is not None and os.path.exists(filename):\n",
    "        result = pickle.load(open(filename, \"rb\"))\n",
    "        return result\n",
    "    else:\n",
    "        svi = SVI(model, guide, optimizer, loss)\n",
    "        result = svi.run(random.PRNGKey(1), 10_000, x_data, y_data)\n",
    "        output = {\"params\": result.params, \"guide\": guide, \"losses\": result.losses}\n",
    "\n",
    "        if filename is not None:\n",
    "            pickle.dump(output, open(filename, \"wb\"))\n",
    "\n",
    "        return(output)\n",
    "\n",
    "\n",
    "def arviz_from_svi(model, guide, params, *args, obs_data=None, num_samples = 1_000):\n",
    "    \n",
    "    posterior_samples = guide.sample_posterior(random.PRNGKey(1), params=params, sample_shape=(num_samples,))\n",
    "    samples_posterior_predictive = Predictive(model=model, posterior_samples=posterior_samples)(random.PRNGKey(1), *args)\n",
    "    samples_prior_predictive = Predictive(model=model, params=None, num_samples=num_samples)(random.PRNGKey(2), *args)\n",
    "\n",
    "    return az.from_dict(\n",
    "        {k: np.expand_dims(v, 0) for k, v in posterior_samples.items()},\n",
    "        prior = {k: np.expand_dims(v, 0) for k, v in samples_prior_predictive.items()},\n",
    "        posterior_predictive = {k: np.expand_dims(v, 0) for k, v in samples_posterior_predictive.items()},\n",
    "        observed_data = {\"yhat\": obs_data}\n",
    "    )"
   ]
  },
  {
   "cell_type": "code",
   "execution_count": 3,
   "metadata": {},
   "outputs": [
    {
     "name": "stdout",
     "output_type": "stream",
     "text": [
      "7080 observations\n"
     ]
    }
   ],
   "source": [
    "## Load Experiment 1 data\n",
    "\n",
    "df1 = (load_data_exp1() >>\n",
    "    s.arrange(_.ID) >>\n",
    "    s.mutate(block = _.block-1) >> \n",
    "      s.mutate(estimate =  np.round(_.estimate*20).astype(\"int64\"))\n",
    ")\n",
    "\n",
    "df1\n",
    "\n",
    "X_exp1, y_exp1 = make_model_data(df1)\n",
    "print(len(y_exp1), \"observations\")\n"
   ]
  },
  {
   "cell_type": "code",
   "execution_count": 4,
   "metadata": {},
   "outputs": [
    {
     "name": "stdout",
     "output_type": "stream",
     "text": [
      "10080 observations\n"
     ]
    }
   ],
   "source": [
    "## Load Experiment 2 data\n",
    "df2 = (load_data_exp2_trials()  >> \n",
    "        s.filter(_.condition!=2) >>\n",
    "      s.mutate(block = _.block-1) >> \n",
    "      s.mutate(estimate =  np.round(_.estimate*20).astype(\"int64\"))\n",
    "     )\n",
    "\n",
    "X_exp2, y_exp2 = make_model_data(df2)\n",
    "print(len(y_exp2), \"observations\")"
   ]
  },
  {
   "cell_type": "code",
   "execution_count": 5,
   "metadata": {},
   "outputs": [
    {
     "name": "stderr",
     "output_type": "stream",
     "text": [
      "  0%|          | 10/10000 [00:58<16:12:59,  5.84s/it]\n"
     ]
    },
    {
     "ename": "KeyboardInterrupt",
     "evalue": "",
     "output_type": "error",
     "traceback": [
      "\u001b[0;31m---------------------------------------------------------------------------\u001b[0m",
      "\u001b[0;31mKeyboardInterrupt\u001b[0m                         Traceback (most recent call last)",
      "\u001b[1;32m/Users/derekpowell/Projects/Repositories/bayesian-sampler/fit-trial-models.ipynb Cell 5\u001b[0m in \u001b[0;36m<cell line: 1>\u001b[0;34m()\u001b[0m\n\u001b[0;32m----> <a href='vscode-notebook-cell:/Users/derekpowell/Projects/Repositories/bayesian-sampler/fit-trial-models.ipynb#W3sZmlsZQ%3D%3D?line=0'>1</a>\u001b[0m res_bs_exp2 \u001b[39m=\u001b[39m fit_svi(bs_complex_mlm_trial_level, X_exp2, y_exp2, filename\u001b[39m=\u001b[39;49m\u001b[39m\"\u001b[39;49m\u001b[39mlocal/svi-bs_complex_mlm_trial_level-exp2.p\u001b[39;49m\u001b[39m\"\u001b[39;49m)\n",
      "\u001b[1;32m/Users/derekpowell/Projects/Repositories/bayesian-sampler/fit-trial-models.ipynb Cell 5\u001b[0m in \u001b[0;36mfit_svi\u001b[0;34m(model, x_data, y_data, optimizer, loss, n_steps, full_rank, filename)\u001b[0m\n\u001b[1;32m     <a href='vscode-notebook-cell:/Users/derekpowell/Projects/Repositories/bayesian-sampler/fit-trial-models.ipynb#W3sZmlsZQ%3D%3D?line=11'>12</a>\u001b[0m \u001b[39melse\u001b[39;00m:\n\u001b[1;32m     <a href='vscode-notebook-cell:/Users/derekpowell/Projects/Repositories/bayesian-sampler/fit-trial-models.ipynb#W3sZmlsZQ%3D%3D?line=12'>13</a>\u001b[0m     svi \u001b[39m=\u001b[39m SVI(model, guide, optimizer, loss)\n\u001b[0;32m---> <a href='vscode-notebook-cell:/Users/derekpowell/Projects/Repositories/bayesian-sampler/fit-trial-models.ipynb#W3sZmlsZQ%3D%3D?line=13'>14</a>\u001b[0m     result \u001b[39m=\u001b[39m svi\u001b[39m.\u001b[39;49mrun(random\u001b[39m.\u001b[39;49mPRNGKey(\u001b[39m1\u001b[39;49m), \u001b[39m10_000\u001b[39;49m, x_data, y_data)\n\u001b[1;32m     <a href='vscode-notebook-cell:/Users/derekpowell/Projects/Repositories/bayesian-sampler/fit-trial-models.ipynb#W3sZmlsZQ%3D%3D?line=14'>15</a>\u001b[0m     output \u001b[39m=\u001b[39m {\u001b[39m\"\u001b[39m\u001b[39mparams\u001b[39m\u001b[39m\"\u001b[39m: result\u001b[39m.\u001b[39mparams, \u001b[39m\"\u001b[39m\u001b[39mguide\u001b[39m\u001b[39m\"\u001b[39m: guide, \u001b[39m\"\u001b[39m\u001b[39mlosses\u001b[39m\u001b[39m\"\u001b[39m: result\u001b[39m.\u001b[39mlosses}\n\u001b[1;32m     <a href='vscode-notebook-cell:/Users/derekpowell/Projects/Repositories/bayesian-sampler/fit-trial-models.ipynb#W3sZmlsZQ%3D%3D?line=16'>17</a>\u001b[0m     \u001b[39mif\u001b[39;00m filename \u001b[39mis\u001b[39;00m \u001b[39mnot\u001b[39;00m \u001b[39mNone\u001b[39;00m:\n",
      "File \u001b[0;32m~/anaconda3/envs/bsampler/lib/python3.9/site-packages/numpyro/infer/svi.py:350\u001b[0m, in \u001b[0;36mSVI.run\u001b[0;34m(self, rng_key, num_steps, progress_bar, stable_update, init_state, *args, **kwargs)\u001b[0m\n\u001b[1;32m    348\u001b[0m batch \u001b[39m=\u001b[39m \u001b[39mmax\u001b[39m(num_steps \u001b[39m/\u001b[39m\u001b[39m/\u001b[39m \u001b[39m20\u001b[39m, \u001b[39m1\u001b[39m)\n\u001b[1;32m    349\u001b[0m \u001b[39mfor\u001b[39;00m i \u001b[39min\u001b[39;00m t:\n\u001b[0;32m--> 350\u001b[0m     svi_state, loss \u001b[39m=\u001b[39m jit(body_fn)(svi_state, \u001b[39mNone\u001b[39;49;00m)\n\u001b[1;32m    351\u001b[0m     losses\u001b[39m.\u001b[39mappend(loss)\n\u001b[1;32m    352\u001b[0m     \u001b[39mif\u001b[39;00m i \u001b[39m%\u001b[39m batch \u001b[39m==\u001b[39m \u001b[39m0\u001b[39m:\n",
      "    \u001b[0;31m[... skipping hidden 1 frame]\u001b[0m\n",
      "File \u001b[0;32m~/anaconda3/envs/bsampler/lib/python3.9/site-packages/jax/_src/api.py:527\u001b[0m, in \u001b[0;36m_cpp_jit.<locals>.cache_miss\u001b[0;34m(*args, **kwargs)\u001b[0m\n\u001b[1;32m    525\u001b[0m   in_type \u001b[39m=\u001b[39m pe\u001b[39m.\u001b[39minfer_lambda_input_type(\u001b[39mNone\u001b[39;00m, args_flat)\n\u001b[1;32m    526\u001b[0m   flat_fun \u001b[39m=\u001b[39m lu\u001b[39m.\u001b[39mannotate(flat_fun, in_type)\n\u001b[0;32m--> 527\u001b[0m out_flat \u001b[39m=\u001b[39m xla\u001b[39m.\u001b[39;49mxla_call(\n\u001b[1;32m    528\u001b[0m     flat_fun, \u001b[39m*\u001b[39;49margs_flat,\n\u001b[1;32m    529\u001b[0m     device\u001b[39m=\u001b[39;49mdevice, backend\u001b[39m=\u001b[39;49mbackend, name\u001b[39m=\u001b[39;49mflat_fun\u001b[39m.\u001b[39;49m\u001b[39m__name__\u001b[39;49m,\n\u001b[1;32m    530\u001b[0m     donated_invars\u001b[39m=\u001b[39;49mdonated_invars, inline\u001b[39m=\u001b[39;49minline, keep_unused\u001b[39m=\u001b[39;49mkeep_unused)\n\u001b[1;32m    531\u001b[0m out_pytree_def \u001b[39m=\u001b[39m out_tree()\n\u001b[1;32m    532\u001b[0m out \u001b[39m=\u001b[39m tree_unflatten(out_pytree_def, out_flat)\n",
      "File \u001b[0;32m~/anaconda3/envs/bsampler/lib/python3.9/site-packages/jax/core.py:1937\u001b[0m, in \u001b[0;36mCallPrimitive.bind\u001b[0;34m(self, fun, *args, **params)\u001b[0m\n\u001b[1;32m   1936\u001b[0m \u001b[39mdef\u001b[39;00m \u001b[39mbind\u001b[39m(\u001b[39mself\u001b[39m, fun, \u001b[39m*\u001b[39margs, \u001b[39m*\u001b[39m\u001b[39m*\u001b[39mparams):\n\u001b[0;32m-> 1937\u001b[0m   \u001b[39mreturn\u001b[39;00m call_bind(\u001b[39mself\u001b[39;49m, fun, \u001b[39m*\u001b[39;49margs, \u001b[39m*\u001b[39;49m\u001b[39m*\u001b[39;49mparams)\n",
      "File \u001b[0;32m~/anaconda3/envs/bsampler/lib/python3.9/site-packages/jax/core.py:1953\u001b[0m, in \u001b[0;36mcall_bind\u001b[0;34m(primitive, fun, *args, **params)\u001b[0m\n\u001b[1;32m   1951\u001b[0m tracers \u001b[39m=\u001b[39m \u001b[39mmap\u001b[39m(top_trace\u001b[39m.\u001b[39mfull_raise, args)\n\u001b[1;32m   1952\u001b[0m fun_ \u001b[39m=\u001b[39m lu\u001b[39m.\u001b[39mannotate(fun_, fun\u001b[39m.\u001b[39min_type)\n\u001b[0;32m-> 1953\u001b[0m outs \u001b[39m=\u001b[39m top_trace\u001b[39m.\u001b[39;49mprocess_call(primitive, fun_, tracers, params)\n\u001b[1;32m   1954\u001b[0m \u001b[39mreturn\u001b[39;00m \u001b[39mmap\u001b[39m(full_lower, apply_todos(env_trace_todo(), outs))\n",
      "File \u001b[0;32m~/anaconda3/envs/bsampler/lib/python3.9/site-packages/jax/core.py:687\u001b[0m, in \u001b[0;36mEvalTrace.process_call\u001b[0;34m(self, primitive, f, tracers, params)\u001b[0m\n\u001b[1;32m    686\u001b[0m \u001b[39mdef\u001b[39;00m \u001b[39mprocess_call\u001b[39m(\u001b[39mself\u001b[39m, primitive, f, tracers, params):\n\u001b[0;32m--> 687\u001b[0m   \u001b[39mreturn\u001b[39;00m primitive\u001b[39m.\u001b[39;49mimpl(f, \u001b[39m*\u001b[39;49mtracers, \u001b[39m*\u001b[39;49m\u001b[39m*\u001b[39;49mparams)\n",
      "File \u001b[0;32m~/anaconda3/envs/bsampler/lib/python3.9/site-packages/jax/_src/dispatch.py:211\u001b[0m, in \u001b[0;36m_xla_call_impl\u001b[0;34m(***failed resolving arguments***)\u001b[0m\n\u001b[1;32m    208\u001b[0m compiled_fun \u001b[39m=\u001b[39m xla_callable(fun, device, backend, name, donated_invars,\n\u001b[1;32m    209\u001b[0m                             keep_unused, \u001b[39m*\u001b[39marg_specs)\n\u001b[1;32m    210\u001b[0m \u001b[39mtry\u001b[39;00m:\n\u001b[0;32m--> 211\u001b[0m   \u001b[39mreturn\u001b[39;00m compiled_fun(\u001b[39m*\u001b[39;49margs)\n\u001b[1;32m    212\u001b[0m \u001b[39mexcept\u001b[39;00m \u001b[39mFloatingPointError\u001b[39;00m:\n\u001b[1;32m    213\u001b[0m   \u001b[39massert\u001b[39;00m config\u001b[39m.\u001b[39mjax_debug_nans \u001b[39mor\u001b[39;00m config\u001b[39m.\u001b[39mjax_debug_infs  \u001b[39m# compiled_fun can only raise in this case\u001b[39;00m\n",
      "File \u001b[0;32m~/anaconda3/envs/bsampler/lib/python3.9/site-packages/jax/_src/dispatch.py:755\u001b[0m, in \u001b[0;36m_execute_compiled\u001b[0;34m(name, compiled, input_handler, output_buffer_counts, result_handler, has_unordered_effects, ordered_effects, kept_var_idx, *args)\u001b[0m\n\u001b[1;32m    753\u001b[0m     runtime_token \u001b[39m=\u001b[39m \u001b[39mNone\u001b[39;00m\n\u001b[1;32m    754\u001b[0m \u001b[39melse\u001b[39;00m:\n\u001b[0;32m--> 755\u001b[0m   out_flat \u001b[39m=\u001b[39m compiled\u001b[39m.\u001b[39;49mexecute(in_flat)\n\u001b[1;32m    756\u001b[0m check_special(name, out_flat)\n\u001b[1;32m    757\u001b[0m out_bufs \u001b[39m=\u001b[39m unflatten(out_flat, output_buffer_counts)\n",
      "\u001b[0;31mKeyboardInterrupt\u001b[0m: "
     ]
    }
   ],
   "source": [
    "res_bs_exp2 = fit_svi(bs_complex_mlm_trial_level, X_exp2, y_exp2, filename=\"local/svi-bs_complex_mlm_trial_level-exp2.p\")"
   ]
  },
  {
   "cell_type": "code",
   "execution_count": null,
   "metadata": {},
   "outputs": [],
   "source": [
    "az_bs_exp2 = arviz_from_svi(model, res_ptn_exp2[\"guide\"], res_ptn_exp2[\"params\"], X_exp2, y_exp2)"
   ]
  }
 ],
 "metadata": {
  "kernelspec": {
   "display_name": "Python 3.9.12 ('bsampler')",
   "language": "python",
   "name": "python3"
  },
  "language_info": {
   "codemirror_mode": {
    "name": "ipython",
    "version": 3
   },
   "file_extension": ".py",
   "mimetype": "text/x-python",
   "name": "python",
   "nbconvert_exporter": "python",
   "pygments_lexer": "ipython3",
   "version": "3.9.12"
  },
  "orig_nbformat": 4,
  "vscode": {
   "interpreter": {
    "hash": "f0ef5f7d10080c600b0562a944fa966eaa386c980e0d8cd0525dadb77bc4588e"
   }
  }
 },
 "nbformat": 4,
 "nbformat_minor": 2
}
