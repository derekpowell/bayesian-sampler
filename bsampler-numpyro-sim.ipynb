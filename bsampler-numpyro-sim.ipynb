{
 "cells": [
  {
   "cell_type": "markdown",
   "id": "pressed-cabin",
   "metadata": {},
   "source": [
    "# Numpyro version\n",
    "\n",
    "This is about 100x faster! and the code is nicer! joy oh joy!"
   ]
  },
  {
   "cell_type": "markdown",
   "id": "occupational-revision",
   "metadata": {},
   "source": [
    "# The Bayesian Sampler model is roughly:\n",
    "\n",
    "$$P_{BS}(A) \\sim Beta(\\beta + S(A), \\beta+F(A))$$\n",
    "\n",
    "Where $S(A)$ and $F(A)$ are the number of success and failures sampled.\n",
    "\n",
    "We can rewrite that:\n",
    "\n",
    "$$P_{BS}(A) \\sim Beta(\\beta + \\pi(A)N, \\beta+(1-\\pi(A))N)$$\n",
    "\n",
    "\n",
    "Where $\\pi(A)$ is the proportion of successes in the mental simulation with $N$ samples and is a function of the true underlying model probability, $p(A)$. It is distributed:\n",
    "\n",
    "$$\\pi(A) \\sim Beta(p(A)*N, (1-p(A))*N)$$\n",
    "\n",
    "To which we assign a uniform prior (or the multidimensional dirichlet equivalent):\n",
    "\n",
    "$$p(A) \\sim Beta(1,1)$$\n",
    "\n",
    "This notebook will be dedicated to estimating parameters within some __simulated data__."
   ]
  },
  {
   "cell_type": "code",
   "execution_count": 413,
   "id": "educated-chemistry",
   "metadata": {},
   "outputs": [],
   "source": [
    "%config IPCompleter.use_jedi = False\n",
    "import numpyro\n",
    "\n",
    "numpyro.util.set_host_device_count(4)\n",
    "import numpyro.distributions as dist\n",
    "\n",
    "from jax import numpy as jnp\n",
    "from jax import random\n",
    "from numpyro.infer import MCMC, NUTS, Predictive\n",
    "\n",
    "# import pyro.infer\n",
    "# import pyro.optim\n",
    "# import pyro.distributions as dist\n",
    "# from pyro.infer import Importance, EmpiricalMarginal\n",
    "\n",
    "import numpy as np\n",
    "import pandas as pd\n",
    "import seaborn as sns\n",
    "import functools\n",
    "\n",
    "from dfply import *\n",
    "%run -i 'model_helpers.py'"
   ]
  },
  {
   "cell_type": "markdown",
   "id": "radio-facing",
   "metadata": {},
   "source": [
    "## Simulate data"
   ]
  },
  {
   "cell_type": "markdown",
   "id": "involved-mobile",
   "metadata": {},
   "source": [
    "## create and fit model"
   ]
  },
  {
   "cell_type": "markdown",
   "id": "tutorial-cleanup",
   "metadata": {},
   "source": [
    "Easiest to focus on fitting for a single participant"
   ]
  },
  {
   "cell_type": "code",
   "execution_count": 81,
   "id": "grand-shade",
   "metadata": {},
   "outputs": [],
   "source": [
    "# removed torch dependency 3/22/21, 12:22 PM\n",
    "\n",
    "\n",
    "trial_types = [\n",
    "    'A',\n",
    "    'AandB',\n",
    "    'AandnotB',\n",
    "    'AgB',\n",
    "    'AgnotB',\n",
    "    'AorB',\n",
    "    'AornotB',\n",
    "    'B',\n",
    "    'BgA',\n",
    "    'BgnotA',\n",
    "    'notA',\n",
    "    'notAandB',\n",
    "    'notAandnotB',\n",
    "    'notAgB',\n",
    "    'notAgnotB',\n",
    "    'notAorB',\n",
    "    'notAornotB',\n",
    "    'notB',\n",
    "    'notBgA',\n",
    "    'notBgnotA'\n",
    "    ]\n",
    "\n",
    "## ------\n",
    "## simulate data into pandas DataFrame\n",
    "## -------\n",
    "params = {\n",
    "    \"N_base\": {k: 1 + np.random.normal(1,.1) for k in range(0,n_participants)},\n",
    "    \"N_delta\": {k: np.random.normal(15,2) for k in range(0,n_participants)},\n",
    "    \"beta\": {k:np.random.uniform() for k in range(0, n_participants)},\n",
    "    \"k\":40\n",
    "}\n",
    "\n",
    "sim_data = sim_bayesian_sampler(trial_types, n_participants=1, n_blocks=2, params=params)"
   ]
  },
  {
   "cell_type": "code",
   "execution_count": 82,
   "id": "impossible-overhead",
   "metadata": {},
   "outputs": [],
   "source": [
    "X_data, y_data = make_model_data(sim_data) # see data_helpers.py"
   ]
  },
  {
   "cell_type": "code",
   "execution_count": 92,
   "id": "downtown-making",
   "metadata": {},
   "outputs": [],
   "source": [
    "# def bayesian_sampler_complex(data, y=None):\n",
    "\n",
    "#     # Data processing\n",
    "#     trial, subj, cond = data[\"trial\"], data[\"subj\"], data[\"cond\"]\n",
    "#     n_Ps, n_conds = np.unique(subj).shape[0], np.unique(cond).shape[0] \n",
    "    \n",
    "#     # setup \"design matrix\" (of sorts)\n",
    "#     X_num, X_denom = jnp.stack([num_vecs[i] for i in trial]), jnp.stack([denom_vecs[i] for i in trial])\n",
    "#     not_conjdisj = abs(1-jnp.array([is_conjdisj(i) for i in trial]))\n",
    "\n",
    "#     # population level parameters/priors\n",
    "# #     sigma = numpyro.sample(\"sigma\", dist.HalfCauchy(.1)) # for Normal() response noise version\n",
    "#     k = numpyro.sample(\"k\", dist.HalfCauchy(10)) # noise parameter\n",
    "\n",
    "#     # subject-level parameters/priors \n",
    "#     with numpyro.plate(\"subj\", n_Ps):\n",
    "#         betas = numpyro.sample(\"beta\", dist.Uniform(0.0, 1.0)) # bounded to [0,1] as in paper\n",
    "#         N_deltas = numpyro.sample(\"N_delta\", dist.HalfCauchy(10))\n",
    "#         N_primes = numpyro.sample(\"N_prime\", dist.HalfCauchy(10))\n",
    "        \n",
    "#     # subject/query-level parameters/priors\n",
    "#     with numpyro.plate(\"cond\", n_Ps*n_conds):\n",
    "#         thetas = numpyro.sample(\"theta\", dist.Dirichlet(jnp.ones(4)))\n",
    "    \n",
    "#     # Model \"guts\"\n",
    "#     N = 1 + N_primes[subj] + N_deltas[subj] * not_conjdisj # they required N be at least 1, no pooling for now\n",
    "    \n",
    "#     beta = betas[subj]\n",
    "#     theta_ind = ((subj*2)+cond)\n",
    "#     theta = thetas[theta_ind,:]\n",
    "        \n",
    "#     numerator = jnp.sum(theta*X_num, axis=-1)\n",
    "#     denom = jnp.sum(theta*X_denom, axis=-1)\n",
    "#     pi = jnp.divide(numerator, denom)\n",
    "#     p_bs = pi * N / (N + 2.*beta) + beta/(N + 2.*beta)\n",
    "    \n",
    "#     # Likelihood\n",
    "#     with numpyro.plate(\"data\", len(trial)):\n",
    "# #         yhat = numpyro.sample(\"yhat\", dist.Normal(p_bs, sigma), obs = y) # wrong but replicates paper\n",
    "#         yhat = numpyro.sample(\"yhat\", dist.Beta(p_bs*k, (1-p_bs)*k), obs=y)\n",
    "    \n",
    "#     return yhat\n",
    "\n",
    "def sigmoid(x):  \n",
    "    return jnp.exp(-jnp.logaddexp(0, -x)) # numerically stable\n",
    "\n",
    "def bayesian_sampler_complex(data, y=None):\n",
    "    ## reparameterized\n",
    "    # Data processing\n",
    "    trial, subj, cond = data[\"trial\"], data[\"subj\"], data[\"cond\"]\n",
    "    n_Ps, n_conds = np.unique(subj).shape[0], np.unique(cond).shape[0] \n",
    "    \n",
    "    # setup \"design matrix\" (of sorts)\n",
    "    X_num, X_denom = jnp.stack([num_vecs[i] for i in trial]), jnp.stack([denom_vecs[i] for i in trial])\n",
    "    not_conjdisj = abs(1-jnp.array([is_conjdisj(i) for i in trial]))\n",
    "\n",
    "    # population level parameters/priors\n",
    "#     sigma = numpyro.sample(\"sigma\", dist.HalfCauchy(.1)) # for Normal() response noise version\n",
    "    k = numpyro.sample(\"k\", dist.HalfNormal(50)) # noise parameter\n",
    "#     betas = numpyro.sample(\"betas\", dist.Normal(0, 1.72)) # roughly uniform after sigmoid()\n",
    "# #     beta_sd = numpyro.sample(\"beta_sd\", dist.HalfCauchy(3))\n",
    "    \n",
    "#     N_primes = numpyro.sample(\"N_primes\", dist.Normal(0, 1.5))\n",
    "#     N_deltas = numpyro.sample(\"N_deltas\", dist.Normal(0, 1.5))\n",
    "#     N_prime_sd = numpyro.sample(\"N_prime_sd\", dist.HalfCauchy(1))\n",
    "#     N_delta_sd = numpyro.sample(\"N_delta_sd\", dist.HalfCauchy(1))\n",
    "\n",
    "    # subject-level parameters/priors \n",
    "    with numpyro.plate(\"subj\", n_Ps):\n",
    "        betas = numpyro.sample(\"beta\", dist.Normal(0, 1.72))\n",
    "        N_deltas = numpyro.sample(\"N_delta\", dist.Normal(0, 3))\n",
    "        N_primes = numpyro.sample(\"N_prime\", dist.Normal(0, 3))\n",
    "        \n",
    "    # subject/query-level parameters/priors\n",
    "    with numpyro.plate(\"cond\", n_Ps*n_conds):\n",
    "        thetas = numpyro.sample(\"theta\", dist.Dirichlet(jnp.ones(4)))\n",
    "    \n",
    "\n",
    "    # sigmoid() constrains beta to [0,1]\n",
    "    beta = sigmoid(betas[subj])\n",
    "    \n",
    "    # exp() needed to constrain N positive\n",
    "    N_lin = N_primes[subj] + 1*N_deltas[subj] * not_conjdisj\n",
    "    N = 1 + jnp.exp(N_lin) # they required N be at least 1\n",
    "    \n",
    "    theta_ind = ((subj*2)+cond)\n",
    "    theta = thetas[theta_ind,:]\n",
    "        \n",
    "    numerator = jnp.sum(theta*X_num, axis=-1)\n",
    "    denom = jnp.sum(theta*X_denom, axis=-1)\n",
    "    pi = jnp.divide(numerator, denom)\n",
    "    p_bs = pi * N / (N + 2.*beta) + beta/(N + 2.*beta)\n",
    "    \n",
    "    # Likelihood\n",
    "    with numpyro.plate(\"data\", len(trial)):\n",
    "#         yhat = numpyro.sample(\"yhat\", dist.Normal(p_bs, sigma), obs = y) # wrong but replicates paper\n",
    "        yhat = numpyro.sample(\"yhat\", dist.Beta(p_bs*k, (1-p_bs)*k), obs=y)\n",
    "    \n",
    "    return yhat"
   ]
  },
  {
   "cell_type": "code",
   "execution_count": 93,
   "id": "suspended-input",
   "metadata": {},
   "outputs": [
    {
     "name": "stderr",
     "output_type": "stream",
     "text": [
      "sample: 100%|██████████| 4000/4000 [00:06<00:00, 574.07it/s, 63 steps of size 1.10e-01. acc. prob=0.95] \n"
     ]
    }
   ],
   "source": [
    "mcmc_bs = MCMC(NUTS(bayesian_sampler_complex, target_accept_prob=.80), \n",
    "               num_warmup=2000, \n",
    "               num_samples=2_000, \n",
    "               num_chains=1)\n",
    "\n",
    "mcmc_bs.run(random.PRNGKey(0), X_data, y_data)"
   ]
  },
  {
   "cell_type": "code",
   "execution_count": 94,
   "id": "mathematical-pencil",
   "metadata": {},
   "outputs": [
    {
     "name": "stdout",
     "output_type": "stream",
     "text": [
      "\n",
      "                mean       std    median      5.0%     95.0%     n_eff     r_hat\n",
      "N_delta[0]      1.38      1.98      1.49     -1.84      4.66    620.38      1.00\n",
      "N_prime[0]     -2.31      1.65     -2.05     -4.85      0.12    756.13      1.00\n",
      "   beta[0]      0.88      1.05      0.66     -0.65      2.48    718.37      1.00\n",
      "         k     37.99      9.05     37.42     23.82     52.39   1507.40      1.00\n",
      "theta[0,0]      0.54      0.06      0.54      0.44      0.64    988.10      1.00\n",
      "theta[0,1]      0.05      0.03      0.05      0.00      0.09    777.40      1.00\n",
      "theta[0,2]      0.04      0.03      0.04      0.00      0.09    752.70      1.00\n",
      "theta[0,3]      0.36      0.05      0.36      0.29      0.45   1642.32      1.00\n",
      "theta[1,0]      0.45      0.05      0.45      0.36      0.54   1141.19      1.00\n",
      "theta[1,1]      0.05      0.03      0.04      0.00      0.09    736.36      1.00\n",
      "theta[1,2]      0.04      0.03      0.03      0.00      0.07    881.07      1.00\n",
      "theta[1,3]      0.47      0.05      0.46      0.38      0.55   1444.39      1.00\n",
      "\n",
      "Number of divergences: 0\n"
     ]
    }
   ],
   "source": [
    "mcmc_bs.print_summary()"
   ]
  },
  {
   "cell_type": "code",
   "execution_count": 11,
   "id": "worth-glory",
   "metadata": {},
   "outputs": [
    {
     "name": "stderr",
     "output_type": "stream",
     "text": [
      "/usr/local/lib/python3.6/dist-packages/arviz/stats/stats.py:1407: UserWarning: For one or more samples the posterior variance of the log predictive densities exceeds 0.4. This could be indication of WAIC starting to fail. \n",
      "See http://arxiv.org/abs/1507.04544 for details\n",
      "  \"For one or more samples the posterior variance of the log predictive \"\n"
     ]
    },
    {
     "data": {
      "text/plain": [
       "Computed from 2000 by 800 log-likelihood matrix\n",
       "\n",
       "          Estimate       SE\n",
       "elpd_waic   770.81    22.40\n",
       "p_waic      128.00        -\n",
       "\n",
       "There has been a warning during the calculation. Please check the results."
      ]
     },
     "execution_count": 11,
     "metadata": {},
     "output_type": "execute_result"
    }
   ],
   "source": [
    "import arviz as az\n",
    "\n",
    "numpyro_data = az.from_numpyro(mcmc_bs)\n",
    "\n",
    "az.waic(numpyro_data)"
   ]
  },
  {
   "cell_type": "markdown",
   "id": "isolated-render",
   "metadata": {},
   "source": [
    "Posterior samples for $N$ and $\\beta$ are highly correlated but they are still fairly well-identified, with the means getting the right answers."
   ]
  },
  {
   "cell_type": "markdown",
   "id": "labeled-pioneer",
   "metadata": {},
   "source": [
    "Combining $N$ and $\\beta$ to calculate $D$ shows that this is also correct."
   ]
  },
  {
   "cell_type": "code",
   "execution_count": 17,
   "id": "little-lecture",
   "metadata": {},
   "outputs": [
    {
     "name": "stdout",
     "output_type": "stream",
     "text": [
      "true d =  0.029411764705882353\n"
     ]
    },
    {
     "data": {
      "image/png": "[encoded data removed]",
      "text/plain": [
       "<Figure size 432x288 with 1 Axes>"
      ]
     },
     "metadata": {
      "needs_background": "light"
     },
     "output_type": "display_data"
    }
   ],
   "source": [
    "# can combine to form D\n",
    "beta_post = numpyro_data.posterior.beta\n",
    "N_post = numpyro_data.posterior.N_delta + numpyro_data.posterior.N_prime\n",
    "\n",
    "d_post = beta_post/(N_post+2*beta_post)\n",
    "\n",
    "az.plot_dist(d_post)\n",
    "print(\"true d = \", .5/(16+1))"
   ]
  },
  {
   "cell_type": "markdown",
   "id": "experimental-referral",
   "metadata": {},
   "source": [
    "# PT+N simulations\n",
    "\n",
    "This isn't quite working, I can't seem to get the parameters back out."
   ]
  },
  {
   "cell_type": "code",
   "execution_count": 284,
   "id": "parallel-terrace",
   "metadata": {},
   "outputs": [],
   "source": [
    "\n",
    "params_ptn = {\n",
    "    \"d_base\": {k: .03 for k in range(0,n_participants)},\n",
    "    \"d_delta\": {k: .2 for k in range(0,n_participants)},\n",
    "    \"k\":40\n",
    "}\n",
    "\n",
    "def calc_ptnprob(trial, theta, d):\n",
    "    \n",
    "    if is_cond(trial):\n",
    "        X_num = num_vecs[trial]\n",
    "        X_denom = denom_vecs[trial]\n",
    "        X_A = pA_vecs[trial]\n",
    "        \n",
    "        p_numerator = np.sum(theta*X_num, axis=-1) #  = P(A & B)\n",
    "        pA = np.sum(theta*X_A, axis=-1)\n",
    "        num_or_denom = np.logical_or(X_A, X_denom).astype(\"float32\")\n",
    "        p_num_or_denom = np.sum(theta * num_or_denom , axis=-1) # = P(A or B)\n",
    "\n",
    "\n",
    "        p_denom = np.sum(theta*X_denom, axis=-1)\n",
    "        numerator = (p_numerator)*(1-2*d)**2 + d*(1-2*d)*(pA + p_denom) + d**2\n",
    "        denom = ((1 - 2*d)*p_denom  + d)\n",
    "        p_ptn = numerator/denom\n",
    "\n",
    "        return p_ptn\n",
    "\n",
    "    else:\n",
    "        X_num = num_vecs[trial]\n",
    "        X_denom = denom_vecs[trial]\n",
    "\n",
    "        numerator = np.sum(theta*X_num, axis=-1)\n",
    "        denom = np.sum(theta*X_denom, axis=-1)\n",
    "        pi = np.divide(numerator, denom)\n",
    "        p_ptn = (1 - 2*d)*pi  + d\n",
    "\n",
    "        return p_ptn\n",
    "\n",
    "def sim_PTN(trial_types, n_participants, n_blocks, params):\n",
    "\n",
    "    n_trial_types = len(trial_types)\n",
    "    trials = trial_types*n_blocks\n",
    "    conds = np.tile(np.arange(0,n_blocks).repeat(len(trial_types)), n_participants)\n",
    "    blocks = list(np.repeat(np.array(list(range(0, n_blocks))), n_trial_types))\n",
    "\n",
    "    all_participants = list(np.repeat(np.array(list(range(0, n_participants))), n_trial_types*n_blocks))\n",
    "    all_thetas = make_thetas(n_participants)\n",
    "    all_trials = trials*n_participants\n",
    "    all_blocks = blocks*n_participants\n",
    "\n",
    "    sim_data = pd.DataFrame(\n",
    "        data = {\n",
    "            \"ID\": all_participants,\n",
    "            \"querytype\": all_trials, \n",
    "            \"block\": all_blocks,\n",
    "            \"coldrainy\": conds\n",
    "        }) >> mutate(\n",
    "            conjdisj_trial = X.querytype.apply(is_conjdisj),\n",
    "            cond_trial = X.querytype.apply(is_cond),\n",
    "            d_base = X.ID.apply(lambda x: params[\"d_base\"][x]),\n",
    "            d_delta = X.ID.apply(lambda x: params[\"d_delta\"][x]),\n",
    "        theta = X.ID.apply(lambda x: all_thetas[x])\n",
    "        ) >> mutate(d = X.d_base + X.d_delta * X.conjdisj_trial)\n",
    "\n",
    "    sim_data[\"prob\"] = sim_data.apply(lambda x: calc_ptnprob(x.querytype, x.theta, x.d), axis=1)\n",
    "    sim_data[\"estimate\"] = sim_data.prob.apply(lambda x: np.random.beta(x*params[\"k\"], (1-x)*params[\"k\"]))\n",
    "#     sim_data[\"estimate\"] = sim_data.apply(lambda x: sim_sampling(x.prob, x.beta, x.N, params[\"k\"]), axis=1)\n",
    "    \n",
    "    return sim_data\n",
    "\n",
    "sim_data2 = sim_PTN(trial_types, 1, 10, params_ptn)\n",
    "X_data, y_data = make_model_data(sim_data2) # see data_helpers.py"
   ]
  },
  {
   "cell_type": "code",
   "execution_count": 285,
   "id": "desirable-colorado",
   "metadata": {},
   "outputs": [
    {
     "data": {
      "text/plain": [
       "0.34000000953674314"
      ]
     },
     "execution_count": 285,
     "metadata": {},
     "output_type": "execute_result"
    }
   ],
   "source": [
    "# sim_data2\n",
    "calc_ptnprob(\"AandB\",np.array([.3,.2,.1,.4]), .1)\n"
   ]
  },
  {
   "cell_type": "code",
   "execution_count": 292,
   "id": "ahead-blood",
   "metadata": {},
   "outputs": [],
   "source": [
    "def prob_judge_PTN(trial, theta, X_num, X_denom, X_A, d):\n",
    "    conditional = jnp.array([is_cond(i) for i in trial])\n",
    "    not_conditional = abs(1-conditional)\n",
    "    p_numerator = jnp.sum(theta*X_num, axis=-1) #  = P(A & B)\n",
    "    pA = jnp.sum(theta*X_A, axis=-1)\n",
    "    num_or_denom = jnp.logical_or(X_A, X_denom).astype(\"float32\")\n",
    "    p_num_or_denom = jnp.sum(theta * num_or_denom , axis=-1) # = P(A or B)\n",
    "\n",
    "\n",
    "    p_denom = jnp.sum(theta*X_denom, axis=-1)\n",
    "    numerator = ((p_numerator)*(1-2*d)**2 + d*(1-2*d)*(pA + p_denom) + d**2)*conditional + ((1 - 2*d)*p_numerator + d)*not_conditional\n",
    "    denom = ((1 - 2*d)*p_denom  + d)*conditional + p_denom*not_conditional\n",
    "    \n",
    "    return jnp.divide(numerator, denom) # move division to after noise is added\n",
    "\n",
    "def PTN_complex(data, y=None):\n",
    "\n",
    "    # Data processing\n",
    "    trial, subj, cond = data[\"trial\"], data[\"subj\"], data[\"cond\"]\n",
    "    n_Ps, n_conds = np.unique(subj).shape[0], np.unique(cond).shape[0] \n",
    "    \n",
    "    # setup \"design matrix\" (of sorts)\n",
    "    X_num, X_denom = jnp.stack([num_vecs[i] for i in trial]), jnp.stack([denom_vecs[i] for i in trial])\n",
    "    X_A = jnp.stack([pA_vecs[i] for i in trial])\n",
    "    \n",
    "    conjdisj, not_conjdisj = jnp.array([is_conjdisj(i) for i in trial]), abs(1-jnp.array([is_conjdisj(i) for i in trial]))\n",
    "\n",
    "    # population level parameters/priors\n",
    "    k = numpyro.sample(\"k\", dist.HalfCauchy(20)) # noise parameter\n",
    "\n",
    "    # Subject-level parameters/priors\n",
    "    with numpyro.plate(\"subj\", n_Ps):\n",
    "        d_bases = numpyro.sample(\"d_base\", dist.Normal(0, 2))\n",
    "        d_deltas = numpyro.sample(\"d_delta\", dist.Normal(0, .2))\n",
    "        \n",
    "    # Subject/query-level parameters/priors\n",
    "    with numpyro.plate(\"cond\", n_Ps*n_conds):\n",
    "        thetas = numpyro.sample(\"theta\", dist.Dirichlet(jnp.ones(4)))\n",
    "    \n",
    "    d_lin = d_bases[subj] + jnp.exp(d_deltas[subj]) * conjdisj # constrain d' > d\n",
    "#     d_lin = d_bases[subj]*not_conjdisj + d_deltas[subj]*conjdisj\n",
    "    d = sigmoid(d_lin)/2. # require this be below .50\n",
    "    \n",
    "    theta_ind = (subj*2) + cond\n",
    "    theta = thetas[theta_ind,:]\n",
    "    \n",
    "    p_ptn = prob_judge_PTN(trial, theta, X_num, X_denom, X_A, d)\n",
    "\n",
    "    # Likelihood\n",
    "    with numpyro.plate(\"data\", len(trial)):\n",
    "#         yhat = numpyro.sample(\"yhat\", dist.Normal(p_ptn, sigma), obs = y) # wrong but replicates paper\n",
    "        yhat = numpyro.sample(\"yhat\", dist.Beta(p_ptn*k, (1-p_ptn)*k), obs=y)\n",
    "    \n",
    "    return yhat"
   ]
  },
  {
   "cell_type": "code",
   "execution_count": 293,
   "id": "figured-mechanics",
   "metadata": {},
   "outputs": [
    {
     "name": "stderr",
     "output_type": "stream",
     "text": [
      "sample: 100%|██████████| 4000/4000 [00:09<00:00, 417.88it/s, 15 steps of size 2.99e-01. acc. prob=0.90]\n"
     ]
    }
   ],
   "source": [
    "mcmc_ptn = MCMC(NUTS(PTN_complex, target_accept_prob=.80), \n",
    "               num_warmup=2_000, \n",
    "               num_samples=2_000, \n",
    "               num_chains=1)\n",
    "\n",
    "mcmc_ptn.run(random.PRNGKey(0), X_data, y_data)"
   ]
  },
  {
   "cell_type": "code",
   "execution_count": 294,
   "id": "advised-communist",
   "metadata": {},
   "outputs": [
    {
     "name": "stdout",
     "output_type": "stream",
     "text": [
      "\n",
      "                mean       std    median      5.0%     95.0%     n_eff     r_hat\n",
      " d_base[0]     -2.94      0.18     -2.92     -3.25     -2.66   1135.18      1.00\n",
      "d_delta[0]      1.04      0.08      1.04      0.92      1.17   1464.87      1.00\n",
      "         k     34.08      3.89     33.86     27.65     40.23   2310.76      1.00\n",
      "theta[0,0]      0.01      0.01      0.01      0.00      0.02   2378.29      1.00\n",
      "theta[0,1]      0.29      0.03      0.29      0.24      0.35   3514.05      1.00\n",
      "theta[0,2]      0.39      0.03      0.39      0.34      0.45   4081.72      1.00\n",
      "theta[0,3]      0.31      0.03      0.31      0.25      0.36   4007.73      1.00\n",
      "theta[1,0]      0.00      0.00      0.00      0.00      0.01   2499.31      1.00\n",
      "theta[1,1]      0.38      0.03      0.38      0.33      0.43   3881.06      1.00\n",
      "theta[1,2]      0.40      0.03      0.39      0.34      0.45   5484.71      1.00\n",
      "theta[1,3]      0.22      0.03      0.22      0.17      0.27   4144.86      1.00\n",
      "theta[2,0]      0.01      0.01      0.01      0.00      0.02   2416.97      1.00\n",
      "theta[2,1]      0.31      0.03      0.31      0.26      0.37   4148.29      1.00\n",
      "theta[2,2]      0.44      0.04      0.44      0.38      0.51   4124.66      1.00\n",
      "theta[2,3]      0.23      0.03      0.23      0.18      0.28   3891.12      1.00\n",
      "theta[3,0]      0.02      0.01      0.02      0.00      0.04   2151.15      1.00\n",
      "theta[3,1]      0.37      0.04      0.37      0.31      0.42   4259.43      1.00\n",
      "theta[3,2]      0.36      0.03      0.36      0.30      0.42   4291.17      1.00\n",
      "theta[3,3]      0.26      0.03      0.26      0.20      0.31   3349.31      1.00\n",
      "theta[4,0]      0.01      0.01      0.01      0.00      0.02   2672.20      1.00\n",
      "theta[4,1]      0.36      0.03      0.36      0.31      0.42   3447.22      1.00\n",
      "theta[4,2]      0.38      0.03      0.38      0.33      0.44   3269.61      1.00\n",
      "theta[4,3]      0.24      0.03      0.24      0.19      0.29   4652.52      1.00\n",
      "theta[5,0]      0.01      0.01      0.01      0.00      0.02   2494.46      1.00\n",
      "theta[5,1]      0.34      0.03      0.34      0.29      0.40   3733.04      1.00\n",
      "theta[5,2]      0.41      0.04      0.41      0.35      0.46   3920.32      1.00\n",
      "theta[5,3]      0.23      0.03      0.23      0.18      0.28   3561.09      1.00\n",
      "theta[6,0]      0.02      0.01      0.02      0.00      0.03   2265.80      1.00\n",
      "theta[6,1]      0.31      0.03      0.31      0.25      0.36   4687.75      1.00\n",
      "theta[6,2]      0.43      0.04      0.43      0.37      0.48   5291.15      1.00\n",
      "theta[6,3]      0.25      0.03      0.25      0.20      0.29   5486.10      1.00\n",
      "theta[7,0]      0.01      0.01      0.01      0.00      0.02   2424.50      1.00\n",
      "theta[7,1]      0.39      0.04      0.39      0.33      0.45   3586.97      1.00\n",
      "theta[7,2]      0.37      0.03      0.37      0.32      0.43   4638.85      1.00\n",
      "theta[7,3]      0.23      0.03      0.23      0.18      0.28   4070.44      1.00\n",
      "theta[8,0]      0.01      0.01      0.01      0.00      0.02   2292.36      1.00\n",
      "theta[8,1]      0.36      0.03      0.36      0.31      0.42   3666.24      1.00\n",
      "theta[8,2]      0.38      0.03      0.38      0.33      0.43   3870.01      1.00\n",
      "theta[8,3]      0.24      0.03      0.24      0.19      0.29   3615.97      1.00\n",
      "theta[9,0]      0.01      0.01      0.01      0.00      0.03   2221.99      1.00\n",
      "theta[9,1]      0.37      0.04      0.36      0.31      0.43   4665.73      1.00\n",
      "theta[9,2]      0.39      0.04      0.39      0.33      0.45   5164.21      1.00\n",
      "theta[9,3]      0.23      0.03      0.23      0.18      0.27   5436.71      1.00\n",
      "\n",
      "Number of divergences: 0\n"
     ]
    }
   ],
   "source": [
    "mcmc_ptn.print_summary()"
   ]
  },
  {
   "cell_type": "markdown",
   "id": "marked-bottle",
   "metadata": {},
   "source": [
    "3/24/21, 4:58 PM: Working! (earlier problem was simulation bug)"
   ]
  },
  {
   "cell_type": "markdown",
   "id": "delayed-artwork",
   "metadata": {},
   "source": [
    "# Mixture models\n",
    "\n",
    "Here is a simple mixture model with some outliers based on this blog post: https://dfm.io/posts/mixture-models/"
   ]
  },
  {
   "cell_type": "code",
   "execution_count": 335,
   "id": "satellite-orchestra",
   "metadata": {},
   "outputs": [],
   "source": [
    "import numpy as np\n",
    "import matplotlib.pyplot as pl\n",
    "\n",
    "# We'll choose the parameters of our synthetic data.\n",
    "# The outlier probability will be 80%:\n",
    "true_frac = 0.8\n",
    "\n",
    "# The linear model has unit slope and zero intercept:\n",
    "true_params = [1.0, 0.0]\n",
    "\n",
    "# The outliers are drawn from a Gaussian with zero mean and unit variance:\n",
    "true_outliers = [0.0, 1.0]\n",
    "\n",
    "# For reproducibility, let's set the random number seed and generate the data:\n",
    "np.random.seed(12)\n",
    "x = np.sort(np.random.uniform(-2, 2, 15))\n",
    "yerr = 0.2 * np.ones_like(x)\n",
    "y = true_params[0] * x + true_params[1] + yerr * np.random.randn(len(x))\n",
    "\n",
    "# Those points are all drawn from the correct model so let's replace some of\n",
    "# them with outliers.\n",
    "m_bkg = np.random.rand(len(x)) > true_frac\n",
    "y[m_bkg] = true_outliers[0]\n",
    "y[m_bkg] += np.sqrt(true_outliers[1]+yerr[m_bkg]**2) * np.random.randn(sum(m_bkg))"
   ]
  },
  {
   "cell_type": "code",
   "execution_count": 336,
   "id": "failing-endorsement",
   "metadata": {},
   "outputs": [
    {
     "data": {
      "image/png": "[encoded data removed]",
      "text/plain": [
       "<Figure size 432x288 with 1 Axes>"
      ]
     },
     "metadata": {
      "needs_background": "light"
     },
     "output_type": "display_data"
    }
   ],
   "source": [
    "# First, fit the data and find the maximum likelihood model ignoring outliers.\n",
    "A = np.vander(x, 2)\n",
    "p = np.linalg.solve(np.dot(A.T, A / yerr[:, None]**2), np.dot(A.T, y / yerr**2))\n",
    "\n",
    "# Then save the *true* line.\n",
    "x0 = np.linspace(-2.1, 2.1, 200)\n",
    "y0 = np.dot(np.vander(x0, 2), true_params)\n",
    "\n",
    "# Plot the data and the truth.\n",
    "pl.errorbar(x, y, yerr=yerr, fmt=\",k\", ms=0, capsize=0, lw=1, zorder=999)\n",
    "pl.scatter(x[m_bkg], y[m_bkg], marker=\"s\", s=22, c=\"w\", zorder=1000)\n",
    "pl.scatter(x[~m_bkg], y[~m_bkg], marker=\"o\", s=22, c=\"k\", zorder=1000)\n",
    "pl.plot(x0, y0, color=\"k\", lw=1.5)\n",
    "\n",
    "# Plot the best fit line.\n",
    "pl.plot(x0, x0 * p[0] + p[1], color=\"#8d44ad\", lw=3, alpha=0.5)\n",
    "\n",
    "pl.xlabel(\"$x$\")\n",
    "pl.ylabel(\"$y$\")\n",
    "pl.ylim(-2.5, 2.5)\n",
    "pl.xlim(-2.1, 2.1);"
   ]
  },
  {
   "cell_type": "code",
   "execution_count": 656,
   "id": "figured-medicare",
   "metadata": {},
   "outputs": [
    {
     "data": {
      "text/plain": [
       "DeviceArray(95., dtype=float32)"
      ]
     },
     "execution_count": 656,
     "metadata": {},
     "output_type": "execute_result"
    }
   ],
   "source": []
  },
  {
   "cell_type": "code",
   "execution_count": 755,
   "id": "usual-infrared",
   "metadata": {},
   "outputs": [
    {
     "name": "stderr",
     "output_type": "stream",
     "text": [
      "/usr/local/lib/python3.6/dist-packages/seaborn/_decorators.py:43: FutureWarning: Pass the following variables as keyword args: x, y. From version 0.12, the only valid positional argument will be `data`, and passing other arguments without an explicit keyword will result in an error or misinterpretation.\n",
      "  FutureWarning\n"
     ]
    },
    {
     "data": {
      "text/plain": [
       "<AxesSubplot:>"
      ]
     },
     "execution_count": 755,
     "metadata": {},
     "output_type": "execute_result"
    },
    {
     "data": {
      "image/png": "[encoded data removed]",
      "text/plain": [
       "<Figure size 432x288 with 1 Axes>"
      ]
     },
     "metadata": {
      "needs_background": "light"
     },
     "output_type": "display_data"
    }
   ],
   "source": [
    "from numpy.random import default_rng\n",
    "\n",
    "def round_to_one(x):\n",
    "    return jnp.round(x,0)\n",
    "\n",
    "def round_to_five(x):\n",
    "    return jnp.round(x/5,0)*5\n",
    "\n",
    "def round_to_twenty(x):\n",
    "    return jnp.round(x/20,0)*20\n",
    "\n",
    "n_obs = 500\n",
    "rg = default_rng(12345)\n",
    "\n",
    "x = rg.normal(0,1,n_obs)\n",
    "bad = rg.binomial(1, .3, n_obs)\n",
    "y_true = rg.normal(0 + .75*x, .5, n_obs)\n",
    "# y_obs = np.select([bad==0, bad==1], [round_to_one(y_true), round_to_twenty(y_true)])\n",
    "y_obs = np.select([bad==0,bad==1], [y_true, round_to_one(y_true)])\n",
    "\n",
    "sns.scatterplot(x, y_obs, hue=bad,alpha=.25)\n",
    "# sns.histplot(y_obs,bins=50)\n",
    "\n",
    "# from numpy.random import default_rng\n",
    "\n",
    "# def round_to_one(x):\n",
    "#     return jnp.round(x,0)\n",
    "\n",
    "# def round_to_five(x):\n",
    "#     return jnp.round(x/5,0)*5\n",
    "\n",
    "# def round_to_ten(x):\n",
    "#     return jnp.round(x/10,0)*10\n",
    "\n",
    "# n_obs = 1000\n",
    "# rg = default_rng(12345)\n",
    "\n",
    "# x = rg.normal(0,1,n_obs)\n",
    "# bad = rg.binomial(2, .8, n_obs)\n",
    "# y_true = rg.normal(.5 + 1*x, .3, n_obs)*100\n",
    "# y_obs = np.select([bad==0, bad==1, bad==2], [round_to_one(y_true), round_to_five(y_true), round_to_ten(y_true)])\n",
    "                   \n",
    "\n",
    "# sns.scatterplot(x, y_obs, hue=bad, alpha=.5)"
   ]
  },
  {
   "cell_type": "code",
   "execution_count": 810,
   "id": "reasonable-colleague",
   "metadata": {},
   "outputs": [],
   "source": [
    "# def round_to_one(x):\n",
    "#     return jnp.round(x,0)\n",
    "\n",
    "# this works and is the most clear, but seems sensitive to how sigma_rnd is set and idk what the right setting is in principle\n",
    "# needs DiscreteHMCGibbs()\n",
    "# @config_enumerate\n",
    "def roundmodel(x, y=None):\n",
    "    \n",
    "    alpha = numpyro.sample(\"alpha\", dist.Normal(0,10))\n",
    "    beta = numpyro.sample(\"beta\", dist.Normal(0,10))\n",
    "    sd_true = numpyro.sample(\"sd_true\", dist.HalfCauchy(10))\n",
    "#     sigma_rnd = numpyro.sample(\"sigma_rnd\", dist.HalfCauchy(.1))\n",
    "\n",
    "    p_round = numpyro.sample(\"p_outlier\", dist.Dirichlet(jnp.ones(2)/2))\n",
    "    mu_true = alpha + beta*x\n",
    "\n",
    "    with numpyro.plate(\"data\", x.shape[0]):\n",
    "        y_true = numpyro.sample(\"y_true\", dist.Normal(mu_true, sd_true))\n",
    "        z = numpyro.sample(\"z\", dist.Categorical(p_round))\n",
    "        yhat = jnp.select([z==0, z==1], [y_true, round_to_one(y_true)])\n",
    "        numpyro.sample(\"yhat\", dist.Normal(yhat, .001), obs=y)\n",
    "\n",
    "# ## not clear how to make this work if there are multiple forms of rounding going on.        \n",
    "# def roundmodel(x, y=None):\n",
    "    \n",
    "#     alpha = numpyro.sample(\"alpha\", dist.Normal(0,10))\n",
    "#     beta = numpyro.sample(\"beta\", dist.Normal(0,10))\n",
    "#     sigma = numpyro.sample(\"sigma\", dist.HalfCauchy(10))\n",
    "    \n",
    "#     with numpyro.plate(\"data\", x.shape[0]):\n",
    "#         y_err = numpyro.sample(\"y_err\", dist.Beta(1,1))\n",
    "#         y_fore = alpha + beta*x\n",
    "#         y_latent = numpyro.sample(\"y_latent\", dist.Normal(y_fore, sigma))\n",
    "#         numpyro.sample(\"yhat\", dist.Normal(y_latent + (y_err-.5), .01), obs=y)"
   ]
  },
  {
   "cell_type": "code",
   "execution_count": null,
   "id": "burning-nashville",
   "metadata": {},
   "outputs": [],
   "source": []
  },
  {
   "cell_type": "code",
   "execution_count": 811,
   "id": "elder-adapter",
   "metadata": {},
   "outputs": [
    {
     "name": "stderr",
     "output_type": "stream",
     "text": [
      "sample: 100%|██████████| 6000/6000 [00:55<00:00, 108.96it/s, 1023 steps of size 1.18e-38. acc. prob=0.00]\n"
     ]
    }
   ],
   "source": [
    "kernel = DiscreteHMCGibbs(NUTS(roundmodel), modified=True)\n",
    "# kernel = NUTS(roundmodel)\n",
    "mcmc_test = MCMC(kernel, 4000, 2000)\n",
    "\n",
    "mcmc_test.run(random.PRNGKey(0), x, y_obs)\n",
    "# mcmc_test.print_summary()"
   ]
  },
  {
   "cell_type": "code",
   "execution_count": 808,
   "id": "portuguese-lying",
   "metadata": {},
   "outputs": [],
   "source": [
    "mcmc_test.print_summary()"
   ]
  },
  {
   "cell_type": "code",
   "execution_count": null,
   "id": "young-state",
   "metadata": {},
   "outputs": [],
   "source": [
    "az_data = make_arviz_data(mcmc_test, roundmodel, x)"
   ]
  },
  {
   "cell_type": "code",
   "execution_count": 803,
   "id": "literary-phrase",
   "metadata": {},
   "outputs": [
    {
     "data": {
      "text/plain": [
       "<AxesSubplot:xlabel='yhat'>"
      ]
     },
     "execution_count": 803,
     "metadata": {},
     "output_type": "execute_result"
    },
    {
     "data": {
      "image/png": "[encoded data removed]",
      "text/plain": [
       "<Figure size 720x720 with 1 Axes>"
      ]
     },
     "metadata": {
      "needs_background": "light"
     },
     "output_type": "display_data"
    }
   ],
   "source": [
    "az.plot_ppc(data=az_data, data_pairs={\"yhat\":\"yhat\"}, num_pp_samples=500, figsize=(10,10))"
   ]
  },
  {
   "cell_type": "code",
   "execution_count": 742,
   "id": "voluntary-given",
   "metadata": {},
   "outputs": [],
   "source": [
    "\n",
    "## this is gelman's approach and it works the best\n",
    "## but not clear how to make this work if there are multiple forms of rounding going on.        \n",
    "# def roundmodel(x, y=None):\n",
    "    \n",
    "#     alpha = numpyro.sample(\"alpha\", dist.Normal(0,10))\n",
    "#     beta = numpyro.sample(\"beta\", dist.Normal(0,10))\n",
    "#     sigma = numpyro.sample(\"sigma\", dist.HalfCauchy(10))\n",
    "    \n",
    "#     with numpyro.plate(\"data\", x.shape[0]):\n",
    "#         y_err = numpyro.sample(\"y_err\", dist.Beta(1,1))\n",
    "#         y_fore = alpha + beta*x\n",
    "#         y_latent = numpyro.sample(\"y_latent\", dist.Normal(y_fore, sigma))\n",
    "#         numpyro.sample(\"yhat\", dist.Normal(y_latent + (y_err-.5), .01), obs=y)\n",
    "\n",
    "# def roundmodel(x, y=None):\n",
    "    \n",
    "#     alpha = numpyro.sample(\"alpha\", dist.Normal(0,10))\n",
    "#     beta = numpyro.sample(\"beta\", dist.Normal(0,10))\n",
    "#     sigma = numpyro.sample(\"sigma\", dist.HalfCauchy(10))\n",
    "\n",
    "# #     err_mult = jnp.array([1., 20])\n",
    "\n",
    "#     with numpyro.plate(\"data\", x.shape[0]):\n",
    "#         err_type_p = numpyro.sample(\"err_type_p\", dist.Dirichlet(jnp.ones(2)))\n",
    "#         err_type = numpyro.sample(\"z\", dist.Categorical(err_type_p))\n",
    "# #         err_mult = jnp.matmul(jnp.array([1,20]), err_type_p)\n",
    "#         y_err = numpyro.sample(\"y_err\", dist.Beta(1,1))\n",
    "#         y_fore = alpha + beta*x\n",
    "#         y_latent = numpyro.sample(\"y_latent\", dist.Normal(y_fore, sigma))\n",
    "#         numpyro.sample(\"yhat\", dist.Normal(y_latent + (y_err-.5)*err_mult, .01), obs=y)\n",
    "\n",
    "\n",
    "def roundmodel(x, y=None):\n",
    "    y_true = numpyro.sample(\"y_true\", dist.Normal(mu_true, sd_true))\n",
    "    mu_true = ...\n",
    "    y_obs = heaping_func(y_true, params)\n",
    "    "
   ]
  },
  {
   "cell_type": "code",
   "execution_count": 736,
   "id": "capable-nirvana",
   "metadata": {},
   "outputs": [
    {
     "data": {
      "text/plain": [
       "DeviceArray(4, dtype=int32)"
      ]
     },
     "execution_count": 736,
     "metadata": {},
     "output_type": "execute_result"
    }
   ],
   "source": [
    "jnp.mod(24,5)"
   ]
  },
  {
   "cell_type": "code",
   "execution_count": null,
   "id": "initial-greece",
   "metadata": {},
   "outputs": [],
   "source": [
    "kernel = DiscreteHMCGibbs(NUTS(roundmodel), modified=True)\n",
    "kernel = NUTS(roundmodel)\n",
    "mcmc_test = MCMC(kernel, 2000, 2000)\n",
    "\n",
    "mcmc_test.run(random.PRNGKey(0), x, y_obs)\n",
    "mcmc_test.print_summary()"
   ]
  },
  {
   "cell_type": "code",
   "execution_count": null,
   "id": "meaning-benjamin",
   "metadata": {},
   "outputs": [],
   "source": []
  }
 ],
 "metadata": {
  "kernelspec": {
   "display_name": "Python 3",
   "language": "python",
   "name": "python3"
  },
  "language_info": {
   "codemirror_mode": {
    "name": "ipython",
    "version": 3
   },
   "file_extension": ".py",
   "mimetype": "text/x-python",
   "name": "python",
   "nbconvert_exporter": "python",
   "pygments_lexer": "ipython3",
   "version": "3.6.9"
  }
 },
 "nbformat": 4,
 "nbformat_minor": 5
}
