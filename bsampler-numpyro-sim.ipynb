{
 "cells": [
  {
   "cell_type": "markdown",
   "metadata": {},
   "source": [
    "# Numpyro version\n",
    "\n",
    "This is about 100x faster! and the code is nicer! joy oh joy!"
   ]
  },
  {
   "cell_type": "markdown",
   "metadata": {},
   "source": [
    "# The Bayesian Sampler model is roughly:\n",
    "\n",
    "$$P_{BS}(A) \\sim Beta(\\beta + S(A), \\beta+F(A))$$\n",
    "\n",
    "Where $S(A)$ and $F(A)$ are the number of success and failures sampled.\n",
    "\n",
    "We can rewrite that:\n",
    "\n",
    "$$P_{BS}(A) \\sim Beta(\\beta + \\pi(A)N, \\beta+(1-\\pi(A))N)$$\n",
    "\n",
    "\n",
    "Where $\\pi(A)$ is the proportion of successes in the mental simulation with $N$ samples and is a function of the true underlying model probability, $p(A)$. It is distributed:\n",
    "\n",
    "$$\\pi(A) \\sim Beta(p(A)*N, (1-p(A))*N)$$\n",
    "\n",
    "To which we assign a uniform prior (or the multidimensional dirichlet equivalent):\n",
    "\n",
    "$$p(A) \\sim Beta(1,1)$$\n",
    "\n",
    "This notebook will be dedicated to estimating parameters within some __simulated data__."
   ]
  },
  {
   "cell_type": "code",
   "execution_count": 1,
   "metadata": {},
   "outputs": [],
   "source": [
    "# %config IPCompleter.use_jedi = False\n",
    "import numpyro\n",
    "numpyro.set_platform('gpu') # uncomment to use cpu\n",
    "# numpyro.util.set_host_device_count(4)\n",
    "import numpyro.distributions as dist\n",
    "\n",
    "from jax import numpy as jnp\n",
    "from jax import random\n",
    "from jax.random import PRNGKey\n",
    "from numpyro.infer import MCMC, NUTS, Predictive\n",
    "\n",
    "# import pyro.infer\n",
    "# import pyro.optim\n",
    "# import pyro.distributions as dist\n",
    "# from pyro.infer import Importance, EmpiricalMarginal\n",
    "\n",
    "import numpy as np\n",
    "import pandas as pd\n",
    "import seaborn as sns\n",
    "import functools\n",
    "\n",
    "import siuba as s\n",
    "from siuba import _\n",
    "\n",
    "\n",
    "from dfply import mutate, X\n",
    "# %run -i 'model_helpers.py'\n",
    "# %run -i 'models.py'\n",
    "\n",
    "from lib.helpers import *\n",
    "from lib.models import *\n",
    "from lib.simdata import make_sim_data_bs_avg, make_sim_data_ptn_avg"
   ]
  },
  {
   "cell_type": "markdown",
   "metadata": {},
   "source": [
    "## Simulate data"
   ]
  },
  {
   "cell_type": "markdown",
   "metadata": {},
   "source": [
    "## create and fit model"
   ]
  },
  {
   "cell_type": "markdown",
   "metadata": {},
   "source": [
    "Easiest to focus on fitting for a single participant"
   ]
  },
  {
   "cell_type": "code",
   "execution_count": 14,
   "metadata": {},
   "outputs": [
    {
     "data": {
      "text/html": [
       "<div>\n",
       "<style scoped>\n",
       "    .dataframe tbody tr th:only-of-type {\n",
       "        vertical-align: middle;\n",
       "    }\n",
       "\n",
       "    .dataframe tbody tr th {\n",
       "        vertical-align: top;\n",
       "    }\n",
       "\n",
       "    .dataframe thead th {\n",
       "        text-align: right;\n",
       "    }\n",
       "</style>\n",
       "<table border=\"1\" class=\"dataframe\">\n",
       "  <thead>\n",
       "    <tr style=\"text-align: right;\">\n",
       "      <th></th>\n",
       "      <th>ID</th>\n",
       "      <th>querytype</th>\n",
       "      <th>condition</th>\n",
       "      <th>conjdisj_trial</th>\n",
       "      <th>N_base</th>\n",
       "      <th>N_delta</th>\n",
       "      <th>beta</th>\n",
       "      <th>theta</th>\n",
       "      <th>N</th>\n",
       "      <th>implied_d</th>\n",
       "      <th>prob</th>\n",
       "      <th>estimate</th>\n",
       "    </tr>\n",
       "  </thead>\n",
       "  <tbody>\n",
       "    <tr>\n",
       "      <th>0</th>\n",
       "      <td>0</td>\n",
       "      <td>A</td>\n",
       "      <td>0</td>\n",
       "      <td>0</td>\n",
       "      <td>7.071275</td>\n",
       "      <td>2.970123</td>\n",
       "      <td>0.885183</td>\n",
       "      <td>[0.2675149860498561, 0.02862289777044593, 0.36...</td>\n",
       "      <td>10.041398</td>\n",
       "      <td>0.074941</td>\n",
       "      <td>0.296138</td>\n",
       "      <td>0.367251</td>\n",
       "    </tr>\n",
       "    <tr>\n",
       "      <th>1</th>\n",
       "      <td>0</td>\n",
       "      <td>AandB</td>\n",
       "      <td>0</td>\n",
       "      <td>1</td>\n",
       "      <td>7.071275</td>\n",
       "      <td>2.970123</td>\n",
       "      <td>0.885183</td>\n",
       "      <td>[0.2675149860498561, 0.02862289777044593, 0.36...</td>\n",
       "      <td>7.071275</td>\n",
       "      <td>0.100115</td>\n",
       "      <td>0.267515</td>\n",
       "      <td>0.363236</td>\n",
       "    </tr>\n",
       "    <tr>\n",
       "      <th>2</th>\n",
       "      <td>0</td>\n",
       "      <td>AandnotB</td>\n",
       "      <td>0</td>\n",
       "      <td>1</td>\n",
       "      <td>7.071275</td>\n",
       "      <td>2.970123</td>\n",
       "      <td>0.885183</td>\n",
       "      <td>[0.2675149860498561, 0.02862289777044593, 0.36...</td>\n",
       "      <td>7.071275</td>\n",
       "      <td>0.100115</td>\n",
       "      <td>0.028623</td>\n",
       "      <td>0.210210</td>\n",
       "    </tr>\n",
       "    <tr>\n",
       "      <th>3</th>\n",
       "      <td>0</td>\n",
       "      <td>AgB</td>\n",
       "      <td>0</td>\n",
       "      <td>0</td>\n",
       "      <td>7.071275</td>\n",
       "      <td>2.970123</td>\n",
       "      <td>0.885183</td>\n",
       "      <td>[0.2675149860498561, 0.02862289777044593, 0.36...</td>\n",
       "      <td>10.041398</td>\n",
       "      <td>0.074941</td>\n",
       "      <td>0.426267</td>\n",
       "      <td>0.433851</td>\n",
       "    </tr>\n",
       "    <tr>\n",
       "      <th>4</th>\n",
       "      <td>0</td>\n",
       "      <td>AgnotB</td>\n",
       "      <td>0</td>\n",
       "      <td>0</td>\n",
       "      <td>7.071275</td>\n",
       "      <td>2.970123</td>\n",
       "      <td>0.885183</td>\n",
       "      <td>[0.2675149860498561, 0.02862289777044593, 0.36...</td>\n",
       "      <td>10.041398</td>\n",
       "      <td>0.074941</td>\n",
       "      <td>0.076856</td>\n",
       "      <td>0.132111</td>\n",
       "    </tr>\n",
       "    <tr>\n",
       "      <th>...</th>\n",
       "      <td>...</td>\n",
       "      <td>...</td>\n",
       "      <td>...</td>\n",
       "      <td>...</td>\n",
       "      <td>...</td>\n",
       "      <td>...</td>\n",
       "      <td>...</td>\n",
       "      <td>...</td>\n",
       "      <td>...</td>\n",
       "      <td>...</td>\n",
       "      <td>...</td>\n",
       "      <td>...</td>\n",
       "    </tr>\n",
       "    <tr>\n",
       "      <th>9995</th>\n",
       "      <td>49</td>\n",
       "      <td>notAorB</td>\n",
       "      <td>9</td>\n",
       "      <td>1</td>\n",
       "      <td>2.641778</td>\n",
       "      <td>3.139324</td>\n",
       "      <td>0.579638</td>\n",
       "      <td>[0.15407154773580042, 0.46009964445390733, 0.2...</td>\n",
       "      <td>2.641778</td>\n",
       "      <td>0.152494</td>\n",
       "      <td>0.845928</td>\n",
       "      <td>0.931904</td>\n",
       "    </tr>\n",
       "    <tr>\n",
       "      <th>9996</th>\n",
       "      <td>49</td>\n",
       "      <td>notAornotB</td>\n",
       "      <td>9</td>\n",
       "      <td>1</td>\n",
       "      <td>2.641778</td>\n",
       "      <td>3.139324</td>\n",
       "      <td>0.579638</td>\n",
       "      <td>[0.15407154773580042, 0.46009964445390733, 0.2...</td>\n",
       "      <td>2.641778</td>\n",
       "      <td>0.152494</td>\n",
       "      <td>0.573551</td>\n",
       "      <td>0.417956</td>\n",
       "    </tr>\n",
       "    <tr>\n",
       "      <th>9997</th>\n",
       "      <td>49</td>\n",
       "      <td>notB</td>\n",
       "      <td>9</td>\n",
       "      <td>0</td>\n",
       "      <td>2.641778</td>\n",
       "      <td>3.139324</td>\n",
       "      <td>0.579638</td>\n",
       "      <td>[0.15407154773580042, 0.46009964445390733, 0.2...</td>\n",
       "      <td>5.781102</td>\n",
       "      <td>0.083517</td>\n",
       "      <td>0.573551</td>\n",
       "      <td>0.558564</td>\n",
       "    </tr>\n",
       "    <tr>\n",
       "      <th>9998</th>\n",
       "      <td>49</td>\n",
       "      <td>notBgA</td>\n",
       "      <td>9</td>\n",
       "      <td>0</td>\n",
       "      <td>2.641778</td>\n",
       "      <td>3.139324</td>\n",
       "      <td>0.579638</td>\n",
       "      <td>[0.15407154773580042, 0.46009964445390733, 0.2...</td>\n",
       "      <td>5.781102</td>\n",
       "      <td>0.083517</td>\n",
       "      <td>0.749139</td>\n",
       "      <td>0.740369</td>\n",
       "    </tr>\n",
       "    <tr>\n",
       "      <th>9999</th>\n",
       "      <td>49</td>\n",
       "      <td>notBgnotA</td>\n",
       "      <td>9</td>\n",
       "      <td>0</td>\n",
       "      <td>2.641778</td>\n",
       "      <td>3.139324</td>\n",
       "      <td>0.579638</td>\n",
       "      <td>[0.15407154773580042, 0.46009964445390733, 0.2...</td>\n",
       "      <td>5.781102</td>\n",
       "      <td>0.083517</td>\n",
       "      <td>0.294046</td>\n",
       "      <td>0.336635</td>\n",
       "    </tr>\n",
       "  </tbody>\n",
       "</table>\n",
       "<p>10000 rows × 12 columns</p>\n",
       "</div>"
      ],
      "text/plain": [
       "      ID   querytype  condition  conjdisj_trial    N_base   N_delta      beta  \\\n",
       "0      0           A          0               0  7.071275  2.970123  0.885183   \n",
       "1      0       AandB          0               1  7.071275  2.970123  0.885183   \n",
       "2      0    AandnotB          0               1  7.071275  2.970123  0.885183   \n",
       "3      0         AgB          0               0  7.071275  2.970123  0.885183   \n",
       "4      0      AgnotB          0               0  7.071275  2.970123  0.885183   \n",
       "...   ..         ...        ...             ...       ...       ...       ...   \n",
       "9995  49     notAorB          9               1  2.641778  3.139324  0.579638   \n",
       "9996  49  notAornotB          9               1  2.641778  3.139324  0.579638   \n",
       "9997  49        notB          9               0  2.641778  3.139324  0.579638   \n",
       "9998  49      notBgA          9               0  2.641778  3.139324  0.579638   \n",
       "9999  49   notBgnotA          9               0  2.641778  3.139324  0.579638   \n",
       "\n",
       "                                                  theta          N  implied_d  \\\n",
       "0     [0.2675149860498561, 0.02862289777044593, 0.36...  10.041398   0.074941   \n",
       "1     [0.2675149860498561, 0.02862289777044593, 0.36...   7.071275   0.100115   \n",
       "2     [0.2675149860498561, 0.02862289777044593, 0.36...   7.071275   0.100115   \n",
       "3     [0.2675149860498561, 0.02862289777044593, 0.36...  10.041398   0.074941   \n",
       "4     [0.2675149860498561, 0.02862289777044593, 0.36...  10.041398   0.074941   \n",
       "...                                                 ...        ...        ...   \n",
       "9995  [0.15407154773580042, 0.46009964445390733, 0.2...   2.641778   0.152494   \n",
       "9996  [0.15407154773580042, 0.46009964445390733, 0.2...   2.641778   0.152494   \n",
       "9997  [0.15407154773580042, 0.46009964445390733, 0.2...   5.781102   0.083517   \n",
       "9998  [0.15407154773580042, 0.46009964445390733, 0.2...   5.781102   0.083517   \n",
       "9999  [0.15407154773580042, 0.46009964445390733, 0.2...   5.781102   0.083517   \n",
       "\n",
       "          prob  estimate  \n",
       "0     0.296138  0.367251  \n",
       "1     0.267515  0.363236  \n",
       "2     0.028623  0.210210  \n",
       "3     0.426267  0.433851  \n",
       "4     0.076856  0.132111  \n",
       "...        ...       ...  \n",
       "9995  0.845928  0.931904  \n",
       "9996  0.573551  0.417956  \n",
       "9997  0.573551  0.558564  \n",
       "9998  0.749139  0.740369  \n",
       "9999  0.294046  0.336635  \n",
       "\n",
       "[10000 rows x 12 columns]"
      ]
     },
     "execution_count": 14,
     "metadata": {},
     "output_type": "execute_result"
    }
   ],
   "source": [
    "## 6/21/22, 3:26 PM\n",
    "## something wong with the sim code, maybe should just start over???\n",
    "np.random.seed(123235)\n",
    "n_participants, n_blocks, n_conditions = 50, 3, 10\n",
    "\n",
    "params = {\n",
    "    \"N_base\": {k: np.exp(1 + np.random.normal(1, .5)) for k in range(0,n_participants)},\n",
    "    \"N_delta\": {k: np.exp(np.random.normal(1, .5)) for k in range(0,n_participants)},\n",
    "    \"beta\": {k: np.random.beta(5,1) for k in range(0, n_participants)},\n",
    "}\n",
    "\n",
    "\n",
    "sim_data = make_sim_data_bs_avg(n_participants, n_conditions, params, 15.)\n",
    "sim_data"
   ]
  },
  {
   "cell_type": "code",
   "execution_count": 15,
   "metadata": {},
   "outputs": [],
   "source": [
    "def bayesian_sampler_complex_mlm_d(data, y=None):\n",
    "\n",
    "    # parameterized in terms of d and d' for comparison of model fit\n",
    "\n",
    "    # Data processing\n",
    "    trial, subj, cond = data[\"trial\"], data[\"subj\"], data[\"cond\"]\n",
    "    n_Ps, n_conds = np.unique(subj).shape[0], np.unique(cond).shape[0]\n",
    "\n",
    "    # setup \"design matrix\" (of sorts)\n",
    "    X_num, X_denom = jnp.stack([num_vecs[i] for i in trial]), jnp.stack([denom_vecs[i] for i in trial])\n",
    "    conjdisj, not_conjdisj = jnp.array([is_conjdisj(i) for i in trial]), abs(1-jnp.array([is_conjdisj(i) for i in trial]))\n",
    "\n",
    "    # population level parameters/priors\n",
    "    k = numpyro.sample(\"k\", dist.HalfCauchy(20)) # noise parameter\n",
    "\n",
    "    d_base_pop = numpyro.sample(\"d_base_pop\", dist.Normal(-1.0, 1.0))\n",
    "    d_delta_pop = numpyro.sample(\"d_delta_pop\", dist.Normal(0, .5)) # bias toward lower values for non conj/disj trials\n",
    "    d_base_sd = numpyro.sample(\"d_base_sd\", dist.LogNormal(-1., 1.)) # was halfcauchy(1)\n",
    "    d_delta_sd = numpyro.sample(\"d_delta_sd\", dist.LogNormal(-1., 1.)) # approx uniform altogether we hope\n",
    "\n",
    "    # subject-level parameters/priors\n",
    "    with numpyro.plate(\"subj\", n_Ps):\n",
    "        d_bases = numpyro.sample(\"d_base_r\", dist.Normal(0, 1))\n",
    "        d_deltas = numpyro.sample(\"d_delta_r\", dist.Normal(0, 1))\n",
    "\n",
    "    # subject/query-level parameters/priors\n",
    "    with numpyro.plate(\"cond\", n_Ps*n_conds):\n",
    "        thetas = numpyro.sample(\"theta\", dist.Dirichlet(jnp.ones(4)))\n",
    "\n",
    "    d_lin = (d_base_pop +\n",
    "             d_bases[subj]*d_base_sd +\n",
    "             jnp.exp(d_delta_pop + d_delta_sd*d_deltas[subj])*conjdisj\n",
    "            )  # exp() constrains d_delta to be positive\n",
    "    d = sigmoid(d_lin)/3.0 # require this be in [0, 1/3]\n",
    "\n",
    "    numpyro.deterministic(\"d_subj\", sigmoid(d_base_pop + d_bases*d_base_sd)/3.)\n",
    "    numpyro.deterministic(\"d_prime_subj\",\n",
    "                          sigmoid(d_base_pop +\n",
    "                                  d_bases*d_base_sd +\n",
    "                                  jnp.exp(d_delta_pop + d_deltas*d_delta_sd)\n",
    "                                 )/3.\n",
    "                         )\n",
    "\n",
    "    theta_ind = ((subj*n_conds)+cond)\n",
    "    theta = thetas[theta_ind,:]\n",
    "\n",
    "    p_bs = prob_judge_BS_d(theta, X_num, X_denom, d)\n",
    "\n",
    "    # Likelihood\n",
    "    with numpyro.plate(\"data\", len(trial)):\n",
    "        yhat = numpyro.sample(\"yhat\", dist.Beta(p_bs*k, (1-p_bs)*k), obs=y)\n",
    "\n",
    "    return yhat"
   ]
  },
  {
   "cell_type": "code",
   "execution_count": 16,
   "metadata": {},
   "outputs": [],
   "source": [
    "X_data, y_data = make_model_data(sim_data) # see data_helpers.py\n",
    "# X_data, y_data"
   ]
  },
  {
   "cell_type": "code",
   "execution_count": 17,
   "metadata": {},
   "outputs": [
    {
     "name": "stderr",
     "output_type": "stream",
     "text": [
      "sample: 100%|██████████| 4000/4000 [02:19<00:00, 28.64it/s, 63 steps of size 9.71e-02. acc. prob=0.93]\n"
     ]
    }
   ],
   "source": [
    "kernel_bs_complex_mlm = NUTS(bayesian_sampler_complex_mlm_d, target_accept_prob=.80) # need the higher prob and more samples to get good rhats\n",
    "mcmc_bs_mlm = MCMC(kernel_bs_complex_mlm,\n",
    "               num_warmup=2_000, \n",
    "               num_samples=2_000, \n",
    "               num_chains=1)\n",
    "\n",
    "mcmc_bs_mlm.run(random.PRNGKey(0), X_data, y_data)"
   ]
  },
  {
   "cell_type": "code",
   "execution_count": 28,
   "metadata": {},
   "outputs": [],
   "source": [
    "from numpyro.infer.svi import SVI\n",
    "from numpyro.infer.autoguide import AutoDelta, AutoNormal, AutoLaplaceApproximation, AutoDAIS, AutoBNAFNormal, AutoIAFNormal, AutoMultivariateNormal\n",
    "from numpyro.optim import Adam, ClippedAdam\n",
    "from numpyro.infer import Trace_ELBO, TraceGraph_ELBO\n",
    "\n",
    "guide = AutoMultivariateNormal(bayesian_sampler_complex_mlm_d)\n",
    "optimizer = ClippedAdam(1e-3)\n",
    "loss = TraceGraph_ELBO(num_particles=1)\n",
    "svi = SVI(bayesian_sampler_complex_mlm_d, guide, optimizer, loss)"
   ]
  },
  {
   "cell_type": "code",
   "execution_count": 29,
   "metadata": {},
   "outputs": [
    {
     "name": "stderr",
     "output_type": "stream",
     "text": [
      "100%|██████████| 10000/10000 [00:20<00:00, 496.58it/s, init loss: 7146.5537, avg. loss [9501-10000]: -5869.0366]\n"
     ]
    }
   ],
   "source": [
    "svi_result = svi.run(random.PRNGKey(1), 10_000, X_data, y_data)"
   ]
  },
  {
   "cell_type": "code",
   "execution_count": 36,
   "metadata": {},
   "outputs": [
    {
     "data": {
      "text/plain": [
       "[<matplotlib.lines.Line2D at 0x2b7187208d68>]"
      ]
     },
     "execution_count": 36,
     "metadata": {},
     "output_type": "execute_result"
    },
    {
     "data": {
      "image/png": "[encoded data removed]",
      "text/plain": [
       "<Figure size 432x288 with 1 Axes>"
      ]
     },
     "metadata": {
      "needs_background": "light"
     },
     "output_type": "display_data"
    }
   ],
   "source": [
    "import matplotlib.pyplot as plt\n",
    "plt.plot(svi_result.losses)"
   ]
  },
  {
   "cell_type": "code",
   "execution_count": 30,
   "metadata": {},
   "outputs": [],
   "source": [
    "def arviz_from_svi(model, guide, params, *args, obs_data=None, num_samples = 1_000):\n",
    "    \n",
    "    posterior_samples = guide.sample_posterior(random.PRNGKey(1), params=params, sample_shape=(num_samples,))\n",
    "    samples_posterior_predictive = Predictive(model=model, posterior_samples=posterior_samples)(random.PRNGKey(1), *args)\n",
    "    samples_prior_predictive = Predictive(model=model, params=None, num_samples=num_samples)(random.PRNGKey(1), *args)\n",
    "\n",
    "    return az.from_dict(\n",
    "        {k: np.expand_dims(v, 0) for k, v in posterior_samples.items()},\n",
    "        prior = {k: np.expand_dims(v, 0) for k, v in samples_prior_predictive.items()},\n",
    "        posterior_predictive = {k: np.expand_dims(v, 0) for k, v in samples_posterior_predictive.items()},\n",
    "        observed_data = {\"yhat\": obs_data}\n",
    "    )\n",
    "\n",
    "az_data_bs = arviz_from_svi(bayesian_sampler_complex_mlm_d, guide, svi_result.params, X_data, obs_data = y_data, num_samples=1_000)"
   ]
  },
  {
   "cell_type": "code",
   "execution_count": 31,
   "metadata": {},
   "outputs": [
    {
     "data": {
      "text/plain": [
       "<AxesSubplot:xlabel='yhat / yhat'>"
      ]
     },
     "execution_count": 31,
     "metadata": {},
     "output_type": "execute_result"
    },
    {
     "data": {
      "image/png": "[encoded data removed]",
      "text/plain": [
       "<Figure size 432x288 with 1 Axes>"
      ]
     },
     "metadata": {
      "needs_background": "light"
     },
     "output_type": "display_data"
    }
   ],
   "source": [
    "az.plot_ppc(az_data_bs, num_pp_samples=100)"
   ]
  },
  {
   "cell_type": "code",
   "execution_count": 18,
   "metadata": {},
   "outputs": [],
   "source": [
    "# mcmc_bs_mlm.print_summary()\n",
    "# az_data_bs = make_arviz_data(mcmc_bs_mlm, bayesian_sampler_complex_mlm_d, X_data)"
   ]
  },
  {
   "cell_type": "code",
   "execution_count": 32,
   "metadata": {},
   "outputs": [],
   "source": [
    "import scipy\n",
    "## pull out samples for each individual and match back up with data\n",
    "## see if we're recovering the original parameters ...\n",
    "\n",
    "def extract_samples(z, var_name, prior=False):\n",
    "    if prior:\n",
    "        x1 = pd.DataFrame(np.array(z.prior[var_name]))\n",
    "    else:\n",
    "        x1 = pd.DataFrame(np.array(z.posterior[var_name]))\n",
    "    \n",
    "    x1 = x1.reset_index() >> s.gather(\"draw\", \"value\", -_.index) >> s.mutate(var = var_name)\n",
    "    \n",
    "    return(x1)\n",
    "\n",
    "def dist_to_df(az_data, var_list, prior=False):\n",
    "    # note variables must have same raw dimensions\n",
    "    z = az_data.stack(sample=['chain','draw'])\n",
    "    \n",
    "    df_list = [extract_samples(z, v, prior) for v in var_list]\n",
    "    df = pd.concat(df_list)\n",
    "    \n",
    "    df = df >> s.spread(\"var\", \"value\")\n",
    "    \n",
    "    return(df)\n"
   ]
  },
  {
   "cell_type": "code",
   "execution_count": 33,
   "metadata": {},
   "outputs": [],
   "source": [
    "def posterior_to_df_mlm(az_data, fixed_list, random_list):\n",
    "    fixeds = dist_to_df(az_data, fixed_list) >> s.mutate(draw = _.index) >> s.select(-_.index)\n",
    "    randoms = dist_to_df(az_data, random_list)\n",
    "\n",
    "    df_posterior = pd.merge(fixeds, randoms, on=\"draw\") >> s.rename(ID = _.index)\n",
    "    \n",
    "    return(df_posterior)\n",
    "\n",
    "\n",
    "def prior_to_df_mlm(az_data, fixed_list, random_list):\n",
    "    fixeds = dist_to_df(az_data, fixed_list, prior=True) >> s.mutate(draw = _.index) >> s.select(-_.index)\n",
    "    randoms = dist_to_df(az_data, random_list, prior=True)\n",
    "\n",
    "    df_prior = pd.merge(fixeds, randoms, on=\"draw\") >> s.rename(ID = _.index)\n",
    "    \n",
    "    return(df_prior)\n",
    "    \n",
    "    \n",
    "df_posterior = posterior_to_df_mlm(\n",
    "    az_data_bs, \n",
    "    [\"d_base_pop\", \"d_delta_pop\", \"d_base_sd\", \"d_delta_sd\"],\n",
    "    [\"d_base_r\", \"d_delta_r\", \"d_subj\", \"d_prime_subj\"]\n",
    ")"
   ]
  },
  {
   "cell_type": "code",
   "execution_count": 34,
   "metadata": {},
   "outputs": [
    {
     "data": {
      "text/html": [
       "<div>\n",
       "<style scoped>\n",
       "    .dataframe tbody tr th:only-of-type {\n",
       "        vertical-align: middle;\n",
       "    }\n",
       "\n",
       "    .dataframe tbody tr th {\n",
       "        vertical-align: top;\n",
       "    }\n",
       "\n",
       "    .dataframe thead th {\n",
       "        text-align: right;\n",
       "    }\n",
       "</style>\n",
       "<table border=\"1\" class=\"dataframe\">\n",
       "  <thead>\n",
       "    <tr style=\"text-align: right;\">\n",
       "      <th></th>\n",
       "      <th>draw</th>\n",
       "      <th>d_base_pop</th>\n",
       "      <th>d_base_sd</th>\n",
       "      <th>d_delta_pop</th>\n",
       "      <th>d_delta_sd</th>\n",
       "      <th>ID</th>\n",
       "      <th>d_base_r</th>\n",
       "      <th>d_delta_r</th>\n",
       "      <th>d_prime_subj</th>\n",
       "      <th>d_subj</th>\n",
       "    </tr>\n",
       "  </thead>\n",
       "  <tbody>\n",
       "    <tr>\n",
       "      <th>0</th>\n",
       "      <td>0</td>\n",
       "      <td>-1.540089</td>\n",
       "      <td>0.638645</td>\n",
       "      <td>-1.280382</td>\n",
       "      <td>0.627823</td>\n",
       "      <td>0</td>\n",
       "      <td>0.777604</td>\n",
       "      <td>-0.781951</td>\n",
       "      <td>0.098185</td>\n",
       "      <td>0.086827</td>\n",
       "    </tr>\n",
       "    <tr>\n",
       "      <th>1</th>\n",
       "      <td>0</td>\n",
       "      <td>-1.540089</td>\n",
       "      <td>0.638645</td>\n",
       "      <td>-1.280382</td>\n",
       "      <td>0.627823</td>\n",
       "      <td>1</td>\n",
       "      <td>-0.026589</td>\n",
       "      <td>-1.763337</td>\n",
       "      <td>0.062557</td>\n",
       "      <td>0.058023</td>\n",
       "    </tr>\n",
       "    <tr>\n",
       "      <th>2</th>\n",
       "      <td>0</td>\n",
       "      <td>-1.540089</td>\n",
       "      <td>0.638645</td>\n",
       "      <td>-1.280382</td>\n",
       "      <td>0.627823</td>\n",
       "      <td>2</td>\n",
       "      <td>0.717959</td>\n",
       "      <td>-0.191418</td>\n",
       "      <td>0.100855</td>\n",
       "      <td>0.084403</td>\n",
       "    </tr>\n",
       "    <tr>\n",
       "      <th>3</th>\n",
       "      <td>0</td>\n",
       "      <td>-1.540089</td>\n",
       "      <td>0.638645</td>\n",
       "      <td>-1.280382</td>\n",
       "      <td>0.627823</td>\n",
       "      <td>3</td>\n",
       "      <td>-1.153411</td>\n",
       "      <td>-0.417647</td>\n",
       "      <td>0.037586</td>\n",
       "      <td>0.031023</td>\n",
       "    </tr>\n",
       "    <tr>\n",
       "      <th>4</th>\n",
       "      <td>0</td>\n",
       "      <td>-1.540089</td>\n",
       "      <td>0.638645</td>\n",
       "      <td>-1.280382</td>\n",
       "      <td>0.627823</td>\n",
       "      <td>4</td>\n",
       "      <td>0.176604</td>\n",
       "      <td>2.201849</td>\n",
       "      <td>0.140231</td>\n",
       "      <td>0.064506</td>\n",
       "    </tr>\n",
       "    <tr>\n",
       "      <th>...</th>\n",
       "      <td>...</td>\n",
       "      <td>...</td>\n",
       "      <td>...</td>\n",
       "      <td>...</td>\n",
       "      <td>...</td>\n",
       "      <td>...</td>\n",
       "      <td>...</td>\n",
       "      <td>...</td>\n",
       "      <td>...</td>\n",
       "      <td>...</td>\n",
       "    </tr>\n",
       "    <tr>\n",
       "      <th>49995</th>\n",
       "      <td>999</td>\n",
       "      <td>-1.300042</td>\n",
       "      <td>0.620740</td>\n",
       "      <td>-1.549670</td>\n",
       "      <td>0.780048</td>\n",
       "      <td>45</td>\n",
       "      <td>-1.267810</td>\n",
       "      <td>-0.757923</td>\n",
       "      <td>0.040815</td>\n",
       "      <td>0.036788</td>\n",
       "    </tr>\n",
       "    <tr>\n",
       "      <th>49996</th>\n",
       "      <td>999</td>\n",
       "      <td>-1.300042</td>\n",
       "      <td>0.620740</td>\n",
       "      <td>-1.549670</td>\n",
       "      <td>0.780048</td>\n",
       "      <td>46</td>\n",
       "      <td>0.167807</td>\n",
       "      <td>-1.641297</td>\n",
       "      <td>0.080966</td>\n",
       "      <td>0.077403</td>\n",
       "    </tr>\n",
       "    <tr>\n",
       "      <th>49997</th>\n",
       "      <td>999</td>\n",
       "      <td>-1.300042</td>\n",
       "      <td>0.620740</td>\n",
       "      <td>-1.549670</td>\n",
       "      <td>0.780048</td>\n",
       "      <td>47</td>\n",
       "      <td>0.952802</td>\n",
       "      <td>-0.150156</td>\n",
       "      <td>0.124304</td>\n",
       "      <td>0.109969</td>\n",
       "    </tr>\n",
       "    <tr>\n",
       "      <th>49998</th>\n",
       "      <td>999</td>\n",
       "      <td>-1.300042</td>\n",
       "      <td>0.620740</td>\n",
       "      <td>-1.549670</td>\n",
       "      <td>0.780048</td>\n",
       "      <td>48</td>\n",
       "      <td>2.006855</td>\n",
       "      <td>-0.914379</td>\n",
       "      <td>0.170811</td>\n",
       "      <td>0.162142</td>\n",
       "    </tr>\n",
       "    <tr>\n",
       "      <th>49999</th>\n",
       "      <td>999</td>\n",
       "      <td>-1.300042</td>\n",
       "      <td>0.620740</td>\n",
       "      <td>-1.549670</td>\n",
       "      <td>0.780048</td>\n",
       "      <td>49</td>\n",
       "      <td>1.437108</td>\n",
       "      <td>0.580336</td>\n",
       "      <td>0.160495</td>\n",
       "      <td>0.133133</td>\n",
       "    </tr>\n",
       "  </tbody>\n",
       "</table>\n",
       "<p>50000 rows × 10 columns</p>\n",
       "</div>"
      ],
      "text/plain": [
       "       draw  d_base_pop  d_base_sd  d_delta_pop  d_delta_sd  ID  d_base_r  \\\n",
       "0         0   -1.540089   0.638645    -1.280382    0.627823   0  0.777604   \n",
       "1         0   -1.540089   0.638645    -1.280382    0.627823   1 -0.026589   \n",
       "2         0   -1.540089   0.638645    -1.280382    0.627823   2  0.717959   \n",
       "3         0   -1.540089   0.638645    -1.280382    0.627823   3 -1.153411   \n",
       "4         0   -1.540089   0.638645    -1.280382    0.627823   4  0.176604   \n",
       "...     ...         ...        ...          ...         ...  ..       ...   \n",
       "49995   999   -1.300042   0.620740    -1.549670    0.780048  45 -1.267810   \n",
       "49996   999   -1.300042   0.620740    -1.549670    0.780048  46  0.167807   \n",
       "49997   999   -1.300042   0.620740    -1.549670    0.780048  47  0.952802   \n",
       "49998   999   -1.300042   0.620740    -1.549670    0.780048  48  2.006855   \n",
       "49999   999   -1.300042   0.620740    -1.549670    0.780048  49  1.437108   \n",
       "\n",
       "       d_delta_r  d_prime_subj    d_subj  \n",
       "0      -0.781951      0.098185  0.086827  \n",
       "1      -1.763337      0.062557  0.058023  \n",
       "2      -0.191418      0.100855  0.084403  \n",
       "3      -0.417647      0.037586  0.031023  \n",
       "4       2.201849      0.140231  0.064506  \n",
       "...          ...           ...       ...  \n",
       "49995  -0.757923      0.040815  0.036788  \n",
       "49996  -1.641297      0.080966  0.077403  \n",
       "49997  -0.150156      0.124304  0.109969  \n",
       "49998  -0.914379      0.170811  0.162142  \n",
       "49999   0.580336      0.160495  0.133133  \n",
       "\n",
       "[50000 rows x 10 columns]"
      ]
     },
     "execution_count": 34,
     "metadata": {},
     "output_type": "execute_result"
    }
   ],
   "source": [
    "# df_posterior >> s.filter(_.ID==0)\n",
    "df_posterior"
   ]
  },
  {
   "cell_type": "code",
   "execution_count": 35,
   "metadata": {},
   "outputs": [
    {
     "data": {
      "image/png": "[encoded data removed]",
      "text/plain": [
       "<Figure size 640x644.156 with 1 Axes>"
      ]
     },
     "metadata": {},
     "output_type": "display_data"
    },
    {
     "data": {
      "text/plain": [
       "<ggplot: (2985412512446)>"
      ]
     },
     "execution_count": 35,
     "metadata": {},
     "output_type": "execute_result"
    }
   ],
   "source": [
    "from plotnine import * \n",
    "\n",
    "from scipy.special import expit\n",
    "\n",
    "x = (\n",
    "    df_posterior >>\n",
    "    s.mutate(d_base = _.d_base_pop + _.d_base_r * _.d_base_sd, \n",
    "             d_prime = _.d_base + np.exp(_.d_delta_pop + _.d_delta_r *  _.d_delta_sd)\n",
    "         ) >> \n",
    "    s.group_by(\"ID\") >>\n",
    "    # s.summarize(\n",
    "    #     m_base = _.d_subj.mean(),\n",
    "    #     ll_base = _.d_subj.quantile(.025),\n",
    "    #     ul_base = _.d_subj.quantile(.975)\n",
    "    # )\n",
    "    s.summarize(\n",
    "        m_base = expit(_.d_base.mean())/3.,\n",
    "        ll_base = expit(_.d_base.quantile(.025))/3.,\n",
    "        ul_base = expit(_.d_base.quantile(.975))/3.,\n",
    "        m_prime = expit(_.d_prime.mean())/3.,\n",
    "        ll_prime = expit(_.d_prime.quantile(.025))/3.,\n",
    "        ul_prime = expit(_.d_prime.quantile(.975))/3.\n",
    "    )\n",
    ")\n",
    "\n",
    "\n",
    "subj_params = (\n",
    "    pd.DataFrame(params).reset_index() >> \n",
    "    s.rename(ID = _.index) >>\n",
    "    s.mutate(\n",
    "        true_d_base = _.beta / (_.N_base + 2*_.beta),\n",
    "        true_d_prime = _.beta / (_.N_base + _.N_delta + 2*_.beta),\n",
    "    )\n",
    ")\n",
    "\n",
    "\n",
    "(\n",
    "    pd.merge(x, subj_params, on = \"ID\") >> \n",
    "    s.mutate(ok = s.if_else(_.ll_base < _.true_d_base, s.if_else(_.ul_base > _.true_d_base, 1, 0), 0)) >>\n",
    "    ggplot(aes(x=\"true_d_base\", y = \"m_base\", ymin=\"ll_base\", ymax=\"ul_base\", color=\"ok\")) + \n",
    "    geom_pointrange() +\n",
    "    geom_abline(intercept=0, slope=1, linetype=\"dashed\") +\n",
    "    # coord_flip() +\n",
    "    theme(aspect_ratio=1)\n",
    ")"
   ]
  },
  {
   "cell_type": "markdown",
   "metadata": {},
   "source": [
    "Lots of uncertainy in the results for individual subject-level values with only 2 conditions. Plus, pretty clealry some bias to the estimates, biased to estiamte lower than actual values for d. Wonder if the population-level and sd estimates are right? Presumably they're also biased.\n",
    "\n",
    "If we hypothetically icnrease to 10, then it looks unbiased and more confident. SVI approximation is overconfident but unbiased."
   ]
  },
  {
   "cell_type": "markdown",
   "metadata": {},
   "source": [
    "# PT+N simulations\n",
    "\n",
    "should be working"
   ]
  },
  {
   "cell_type": "code",
   "execution_count": 180,
   "metadata": {},
   "outputs": [],
   "source": [
    "d_bases = np.random.beta(1,3, n_participants)/2.\n",
    "d_deltas = np.random.beta(1,3, n_participants)/2. * ((1-d_bases) - .5)\n",
    "\n",
    "\n",
    "params_ptn = {\n",
    "    \"d_base\": {k: d_bases[k] for k in range(0,n_participants)},\n",
    "    \"d_delta\": {k: d_deltas[k] for k in range(0,n_participants)},\n",
    "    \"k\":15\n",
    "}\n",
    "\n",
    "sim_data2 = make_sim_data_ptn_avg(n_participants, params_ptn)\n",
    "\n",
    "X_data, y_data = make_model_data(sim_data2) # see data_helpers.py"
   ]
  },
  {
   "cell_type": "code",
   "execution_count": 181,
   "metadata": {},
   "outputs": [
    {
     "name": "stderr",
     "output_type": "stream",
     "text": [
      "sample: 100%|██████████| 4000/4000 [01:16<00:00, 52.45it/s, 31 steps of size 1.40e-01. acc. prob=0.88] \n"
     ]
    }
   ],
   "source": [
    "mcmc_ptn = MCMC(NUTS(PTN_complex_mlm, target_accept_prob=.80), \n",
    "               num_warmup=2_000, \n",
    "               num_samples=2_000, \n",
    "               num_chains=1)\n",
    "\n",
    "mcmc_ptn.run(random.PRNGKey(0), X_data, y_data)"
   ]
  },
  {
   "cell_type": "code",
   "execution_count": null,
   "metadata": {},
   "outputs": [],
   "source": [
    "# mcmc_ptn.print_summary()"
   ]
  },
  {
   "cell_type": "markdown",
   "metadata": {},
   "source": [
    "3/24/21, 4:58 PM: Working! (earlier problem was simulation bug)"
   ]
  },
  {
   "cell_type": "code",
   "execution_count": 182,
   "metadata": {},
   "outputs": [],
   "source": [
    "az_data_ptn = make_arviz_data(mcmc_ptn, PTN_complex_mlm, X_data)"
   ]
  },
  {
   "cell_type": "code",
   "execution_count": 183,
   "metadata": {},
   "outputs": [],
   "source": [
    "df_posterior2 = posterior_to_df_mlm(\n",
    "    az_data_ptn, \n",
    "    [\"d_base_pop\", \"d_delta_pop\", \"d_base_sd\", \"d_delta_sd\"],\n",
    "    [\"d_base_r\", \"d_delta_r\", \"d_subj\", \"d_prime_subj\"]\n",
    ")"
   ]
  },
  {
   "cell_type": "code",
   "execution_count": 184,
   "metadata": {},
   "outputs": [
    {
     "data": {
      "image/png": "[encoded data removed]",
      "text/plain": [
       "<Figure size 640x644.156 with 1 Axes>"
      ]
     },
     "metadata": {},
     "output_type": "display_data"
    },
    {
     "data": {
      "text/plain": [
       "<ggplot: (8730819263591)>"
      ]
     },
     "execution_count": 184,
     "metadata": {},
     "output_type": "execute_result"
    }
   ],
   "source": [
    "x = (\n",
    "    df_posterior2 >>\n",
    "    s.mutate(d_base = _.d_base_pop + _.d_base_r * _.d_base_sd, \n",
    "             d_prime = _.d_base + np.exp(_.d_delta_pop + _.d_delta_r *  _.d_delta_sd)\n",
    "         ) >> \n",
    "    s.group_by(\"ID\") >>\n",
    "    s.summarize(\n",
    "        m_base = expit(_.d_base.mean())/3.,\n",
    "        ll_base = expit(_.d_base.quantile(.025))/3.,\n",
    "        ul_base = expit(_.d_base.quantile(.975))/3.,\n",
    "        m_prime = expit(_.d_prime.mean())/3.,\n",
    "        ll_prime = expit(_.d_prime.quantile(.025))/3.,\n",
    "        ul_prime = expit(_.d_prime.quantile(.975))/3.\n",
    "    )\n",
    ")\n",
    "\n",
    "\n",
    "subj_params = (\n",
    "    pd.DataFrame(params_ptn).reset_index() >> \n",
    "    s.rename(ID = _.index) >>\n",
    "    s.mutate(\n",
    "        true_d_prime = _.d_base + _.d_delta,\n",
    "    )\n",
    ")\n",
    "\n",
    "\n",
    "(\n",
    "    pd.merge(x, subj_params, on = \"ID\") >> \n",
    "    ggplot(aes(x=\"d_base\", y = \"m_base\", ymin=\"ll_base\", ymax=\"ul_base\")) + \n",
    "    geom_pointrange() +\n",
    "    geom_abline(intercept=0, slope=1, linetype=\"dashed\") +\n",
    "    coord_flip() +\n",
    "    theme(aspect_ratio=1)\n",
    ")"
   ]
  },
  {
   "cell_type": "markdown",
   "metadata": {},
   "source": [
    "## PROBLEM\n",
    "\n",
    "8/9/22, 4:29 PM\n",
    "\n",
    "Things aren't perfect but my concern was mostly overblown. It was indexing crap as always. Though things genuinely don't look that great in the PTN case. So will need to rework the simulation code probably to match the BS model."
   ]
  },
  {
   "cell_type": "code",
   "execution_count": null,
   "metadata": {},
   "outputs": [],
   "source": []
  }
 ],
 "metadata": {
  "kernelspec": {
   "display_name": "Py3-basic",
   "language": "python",
   "name": "python3"
  },
  "language_info": {
   "codemirror_mode": {
    "name": "ipython",
    "version": 3
   },
   "file_extension": ".py",
   "mimetype": "text/x-python",
   "name": "python",
   "nbconvert_exporter": "python",
   "pygments_lexer": "ipython3",
   "version": "3.7.2"
  }
 },
 "nbformat": 4,
 "nbformat_minor": 5
}
