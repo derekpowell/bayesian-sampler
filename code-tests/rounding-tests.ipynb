{
 "cells": [
  {
   "cell_type": "markdown",
   "id": "considerable-vegetable",
   "metadata": {},
   "source": [
    "# Rounding tests\n",
    "\n",
    "Testing analyses of rounded data"
   ]
  },
  {
   "cell_type": "code",
   "execution_count": 1,
   "id": "express-trademark",
   "metadata": {},
   "outputs": [],
   "source": [
    "# %config IPCompleter.use_jedi = False\n",
    "import numpyro\n",
    "\n",
    "numpyro.util.set_host_device_count(4)\n",
    "import numpyro.distributions as dist\n",
    "\n",
    "from jax import numpy as jnp\n",
    "from jax import random\n",
    "from numpyro.infer import DiscreteHMCGibbs, MCMC, NUTS, Predictive\n",
    "from numpyro.contrib.funsor import config_enumerate\n",
    "\n",
    "from jax.scipy.special import digamma, polygamma, logit, expit, erf\n",
    "\n",
    "import numpy as np\n",
    "from numpy.random import default_rng\n",
    "import pandas as pd\n",
    "import seaborn as sns"
   ]
  },
  {
   "cell_type": "code",
   "execution_count": 2,
   "id": "statutory-transcription",
   "metadata": {},
   "outputs": [
    {
     "name": "stderr",
     "output_type": "stream",
     "text": [
      "/opt/conda/lib/python3.8/site-packages/seaborn/_decorators.py:36: FutureWarning: Pass the following variables as keyword args: x, y. From version 0.12, the only valid positional argument will be `data`, and passing other arguments without an explicit keyword will result in an error or misinterpretation.\n",
      "  warnings.warn(\n"
     ]
    },
    {
     "data": {
      "text/plain": [
       "<AxesSubplot:>"
      ]
     },
     "execution_count": 2,
     "metadata": {},
     "output_type": "execute_result"
    },
    {
     "data": {
      "image/png": "[encoded data removed]",
      "text/plain": [
       "<Figure size 432x288 with 1 Axes>"
      ]
     },
     "metadata": {
      "needs_background": "light"
     },
     "output_type": "display_data"
    }
   ],
   "source": [
    "# first data that is all rounded to five\n",
    "\n",
    "n_obs = 100\n",
    "rg = default_rng(12345)\n",
    "\n",
    "def round_to_one(x):\n",
    "    return jnp.round(x,0)\n",
    "\n",
    "def round_to_five(x):\n",
    "    return jnp.round(x/5,0)*5\n",
    "\n",
    "def round_to_twenty(x):\n",
    "    return jnp.round(x/20,0)*20\n",
    "\n",
    "x_true = rg.beta(3,3,n_obs)*100\n",
    "x_obs = round_to_five(x_true)\n",
    "\n",
    "\n",
    "sns.scatterplot(x_true, x_obs,alpha=.5)"
   ]
  },
  {
   "cell_type": "code",
   "execution_count": 3,
   "id": "essential-pollution",
   "metadata": {},
   "outputs": [],
   "source": [
    "def spread_vec(x, step_size):\n",
    "    base_steps = x.shape[0]\n",
    "    x_split = jnp.split(x, base_steps)\n",
    "    pad = jnp.zeros(step_size-1)\n",
    "    probs = jnp.stack([jnp.concatenate((i,pad)) for i in x_split]).flatten()\n",
    "    return probs/jnp.sum(probs)\n",
    "\n",
    "\n",
    "def logit_normal_cdf(mu, sigma, x):\n",
    "    inner = (logit(x) - mu)/ jnp.sqrt(2*jnp.power(sigma, 2))\n",
    "    return .5 * (1 + erf(inner))\n",
    "\n",
    "\n",
    "def beta_approx_cdf(a, b, x):\n",
    "    # normal approximation, not great\n",
    "    # mode K(a, b) = ((a – 1)/(ab – 1))1/a = mode beta(α, β) = (α – 1)/(α + β – 2).\n",
    "    mu_est = digamma(a) - digamma(b)\n",
    "    sigma_est = jnp.sqrt(polygamma(1, a) + polygamma(1, b))\n",
    "    \n",
    "    return logit_normal_cdf(mu_est, sigma_est, x)\n",
    "\n",
    "def beta_approx_params(a, b):\n",
    "    # normal approximation, not great\n",
    "    # mode K(a, b) = ((a – 1)/(ab – 1))1/a = mode beta(α, β) = (α – 1)/(α + β – 2).\n",
    "    mu_est = digamma(a) - digamma(b)\n",
    "    sigma_est = jnp.sqrt(polygamma(1, a) + polygamma(1, b))\n",
    "    \n",
    "    return mu_est, sigma_est\n",
    "\n",
    "# def beta_approx_cdf(mu, k, x):\n",
    "#     # mode K(a, b) = ((a – 1)/(ab – 1))1/a = mode beta(α, β) = (α – 1)/(α + β – 2).\n",
    "#     a = mu*k\n",
    "#     b = (1-mu)*k\n",
    "#     K_a = a\n",
    "#     K_b = ((a-1)/(a*b-1)^(1/a))\n",
    "    \n",
    "#     return k_a, k_b\n",
    "\n",
    "def beta_approx_cdf_norm(a, b, x):\n",
    "    # normal approximation, not great\n",
    "    # mode K(a, b) = ((a – 1)/(ab – 1))1/a = mode beta(α, β) = (α – 1)/(α + β – 2).\n",
    "    mu = a/(a+b)\n",
    "    sigma = jnp.sqrt((a*b)/(jnp.power(a+b,2)*(a+b+1.)))\n",
    "    \n",
    "    return dist.Normal(mu, sigma).cdf(x)\n",
    "\n",
    "def make_cuts(start, stop, step_size):\n",
    "    cut_points = np.arange(start, stop, step_size)+step_size/2\n",
    "    upper_pts = jnp.clip(cut_points + step_size/2, a_max=100, a_min=0)\n",
    "    lower_pts = jnp.clip(cut_points - step_size/2, a_max=100, a_min=0)\n",
    "    return upper_pts, lower_pts\n",
    "\n",
    "def categorical_probs(a, b, step_size, max_size=100):\n",
    "\n",
    "    upper_pts, lower_pts = make_cuts(0,100,step_size)\n",
    "    \n",
    "#     prob_dist = beta_approx_cdf(a,b) # replace with Kumaraswamy approx.\n",
    "    probs = beta_approx_cdf(a,b,upper_pts/100.) - beta_approx_cdf(a,b,lower_pts/100.)\n",
    "    return probs\n",
    "\n",
    "def categorical_probs_spread(a, b, step_size, max_size=100):\n",
    "    x = categorical_probs(a, b, step_size, max_size)\n",
    "    \n",
    "    return spread_vec(x, step_size)\n",
    "\n",
    "\n",
    "# def rounding_model(x_obs, step_size):\n",
    "#     mu1 = numpyro.sample(\"mu\", dist.Beta(1,1))\n",
    "#     k1 = numpyro.sample(\"k\", dist.HalfCauchy(10))\n",
    "#     mu, sigma = beta_approx_params(mu1*k, (1-mu1)*k)\n",
    "# #     x_true_cp = categorical_probs_spread(mu*k, (1-mu)*k, step_size)\n",
    "\n",
    "\n",
    "# #     with numpyro.plate(\"data\", x_obs.shape[0]):\n",
    "# # #         numpyro.sample(\"x\", dist.Categorical(x_true_cp), obs=x_obs)\n",
    "# #         numpyro.sample(\"x\", dist.TransformedDistribution(dist.Normal(mu, sigma), transforms=dist.transforms.SigmoidTransform())\n",
    "# #                    , obs=x_obs/100.)\n",
    "        \n",
    "# def rounding_model(x_obs, step_size):\n",
    "#     mu = numpyro.sample(\"mu\", dist.Normal(0,3))\n",
    "#     sigma = numpyro.sample(\"sigma\", dist.HalfCauchy(10))\n",
    "\n",
    "#     with numpyro.plate(\"data\", x_obs.shape[0]):\n",
    "#         numpyro.sample(\"x\", dist.TransformedDistribution(dist.Normal(mu, sigma), transforms=dist.transforms.SigmoidTransform())\n",
    "#                        , obs=x_obs/100.)\n",
    "    \n"
   ]
  },
  {
   "cell_type": "code",
   "execution_count": 18,
   "id": "working-mechanics",
   "metadata": {},
   "outputs": [
    {
     "data": {
      "text/plain": [
       "DeviceArray([0.00671282, 0.        , 0.        , 0.        , 0.        ,\n",
       "             0.        , 0.        , 0.        , 0.        , 0.        ,\n",
       "             0.05268684, 0.        , 0.        , 0.        , 0.        ,\n",
       "             0.        , 0.        , 0.        , 0.        , 0.        ,\n",
       "             0.11080319, 0.        , 0.        , 0.        , 0.        ,\n",
       "             0.        , 0.        , 0.        , 0.        , 0.        ,\n",
       "             0.1539123 , 0.        , 0.        , 0.        , 0.        ,\n",
       "             0.        , 0.        , 0.        , 0.        , 0.        ,\n",
       "             0.17588484, 0.        , 0.        , 0.        , 0.        ,\n",
       "             0.        , 0.        , 0.        , 0.        , 0.        ,\n",
       "             0.17588484, 0.        , 0.        , 0.        , 0.        ,\n",
       "             0.        , 0.        , 0.        , 0.        , 0.        ,\n",
       "             0.1539123 , 0.        , 0.        , 0.        , 0.        ,\n",
       "             0.        , 0.        , 0.        , 0.        , 0.        ,\n",
       "             0.11080325, 0.        , 0.        , 0.        , 0.        ,\n",
       "             0.        , 0.        , 0.        , 0.        , 0.        ,\n",
       "             0.05268681, 0.        , 0.        , 0.        , 0.        ,\n",
       "             0.        , 0.        , 0.        , 0.        , 0.        ,\n",
       "             0.00671279, 0.        , 0.        , 0.        , 0.        ,\n",
       "             0.        , 0.        , 0.        , 0.        , 0.        ],            dtype=float32)"
      ]
     },
     "execution_count": 18,
     "metadata": {},
     "output_type": "execute_result"
    }
   ],
   "source": [
    "categorical_probs_spread(3, 3, 10)"
   ]
  },
  {
   "cell_type": "code",
   "execution_count": 4,
   "id": "illegal-notification",
   "metadata": {},
   "outputs": [
    {
     "data": {
      "text/plain": [
       "(DeviceArray(0., dtype=float32, weak_type=True),\n",
       " DeviceArray(0.88874525, dtype=float32))"
      ]
     },
     "execution_count": 4,
     "metadata": {},
     "output_type": "execute_result"
    }
   ],
   "source": [
    "# x = jnp.linspace(.01,.99,1000)\n",
    "# mu = .9\n",
    "# k = 30\n",
    "# z = .1\n",
    "# sns.scatterplot(y = dist.Beta(mu*k, (1-mu)*k).cdf(x), x = beta_approx_cdf(mu*k, (1-mu)*k,x))\n",
    "# sns.scatterplot(y = dist.Beta(mu*k, (1-mu)*k).cdf(x), x = beta_approx_cdf_norm(mu*k, (1-mu)*k,x))\n",
    "\n",
    "# print(dist.Beta(mu*k, (1-mu)*k).cdf(z))\n",
    "# print(beta_approx_cdf(mu*k, (1-mu)*k, z))\n",
    "# print(beta_approx_cdf_norm(mu*k, (1-mu)*k,z))\n",
    "# # mcmc_test.print_summary()\n",
    "\n",
    "# upper_pts, lower_pts = make_cuts(0,100, 5)\n",
    "# probs = logit_normal_cdf(-1, sigma, upper_pts/100.) - logit_normal_cdf(-1, sigma, lower_pts/100.)\n",
    "\n",
    "# probs.shape\n",
    "# expit(-.07)\n",
    "# dist.TransformedDistribution(dist.Normal(0, 1), transforms=dist.transforms.SigmoidTransform()).log_prob(.5)\n",
    "beta_approx_params(3, 3)"
   ]
  },
  {
   "cell_type": "code",
   "execution_count": 5,
   "id": "chicken-polish",
   "metadata": {},
   "outputs": [
    {
     "ename": "NameError",
     "evalue": "name 'rounding_model' is not defined",
     "output_type": "error",
     "traceback": [
      "\u001b[0;31m---------------------------------------------------------------------------\u001b[0m",
      "\u001b[0;31mNameError\u001b[0m                                 Traceback (most recent call last)",
      "\u001b[0;32m<ipython-input-5-6a05288043d4>\u001b[0m in \u001b[0;36m<module>\u001b[0;34m\u001b[0m\n\u001b[0;32m----> 1\u001b[0;31m \u001b[0mmcmc_test\u001b[0m \u001b[0;34m=\u001b[0m \u001b[0mMCMC\u001b[0m\u001b[0;34m(\u001b[0m\u001b[0mNUTS\u001b[0m\u001b[0;34m(\u001b[0m\u001b[0mrounding_model\u001b[0m\u001b[0;34m)\u001b[0m\u001b[0;34m,\u001b[0m \u001b[0;36m1000\u001b[0m\u001b[0;34m,\u001b[0m \u001b[0;36m1000\u001b[0m\u001b[0;34m,\u001b[0m \u001b[0mnum_chains\u001b[0m\u001b[0;34m=\u001b[0m\u001b[0;36m1\u001b[0m\u001b[0;34m)\u001b[0m\u001b[0;34m\u001b[0m\u001b[0;34m\u001b[0m\u001b[0m\n\u001b[0m\u001b[1;32m      2\u001b[0m \u001b[0mmcmc_test\u001b[0m\u001b[0;34m.\u001b[0m\u001b[0mrun\u001b[0m\u001b[0;34m(\u001b[0m\u001b[0mrandom\u001b[0m\u001b[0;34m.\u001b[0m\u001b[0mPRNGKey\u001b[0m\u001b[0;34m(\u001b[0m\u001b[0;36m0\u001b[0m\u001b[0;34m)\u001b[0m\u001b[0;34m,\u001b[0m \u001b[0mx_obs\u001b[0m\u001b[0;34m,\u001b[0m \u001b[0;36m5\u001b[0m\u001b[0;34m)\u001b[0m\u001b[0;34m\u001b[0m\u001b[0;34m\u001b[0m\u001b[0m\n\u001b[1;32m      3\u001b[0m \u001b[0mmcmc_test\u001b[0m\u001b[0;34m.\u001b[0m\u001b[0mprint_summary\u001b[0m\u001b[0;34m(\u001b[0m\u001b[0;34m)\u001b[0m\u001b[0;34m\u001b[0m\u001b[0;34m\u001b[0m\u001b[0m\n",
      "\u001b[0;31mNameError\u001b[0m: name 'rounding_model' is not defined"
     ]
    }
   ],
   "source": [
    "mcmc_test = MCMC(NUTS(rounding_model), 1000, 1000, num_chains=1)\n",
    "mcmc_test.run(random.PRNGKey(0), x_obs, 5)    \n",
    "mcmc_test.print_summary()"
   ]
  },
  {
   "cell_type": "markdown",
   "id": "horizontal-hierarchy",
   "metadata": {},
   "source": [
    "Now to allow for different rounding policies and infer the rounding policy being used.\n",
    "\n",
    "This code works (3/27/21, 4:29 PM)!\n",
    "\n",
    "But it doesn't work when the distribution is skewed, because the normal distribution approximation I'm using is no good."
   ]
  },
  {
   "cell_type": "code",
   "execution_count": 19,
   "id": "christian-thanksgiving",
   "metadata": {},
   "outputs": [],
   "source": [
    "def rounding_mixture_model(x_obs):\n",
    "    \n",
    "    theta = numpyro.sample(\"theta\", dist.Dirichlet(jnp.ones(3)))\n",
    "    steps = jnp.array([1, 5, 20])\n",
    "    \n",
    "    mu = numpyro.sample(\"mu\", dist.Beta(1,1))\n",
    "    k = numpyro.sample(\"k\", dist.HalfCauchy(10))\n",
    "    theta_vec = jnp.reshape(theta, (-1,3))\n",
    "\n",
    "    with numpyro.plate(\"data\", x_obs.shape[0]):\n",
    "        \n",
    "        x_true_cp_stack = jnp.stack([ categorical_probs_spread(mu*k, (1.-mu)*k, step_size)  for step_size in steps])\n",
    "\n",
    "        x_true_cp = jnp.matmul(theta_vec, x_true_cp_stack)\n",
    "        numpyro.sample(\"x\", dist.Categorical(x_true_cp), obs=x_obs) # need to spread the values instead of padding"
   ]
  },
  {
   "cell_type": "code",
   "execution_count": 21,
   "id": "monetary-relationship",
   "metadata": {},
   "outputs": [
    {
     "ename": "TypeError",
     "evalue": "take_along_axis indices must be of integer type, got float32",
     "output_type": "error",
     "traceback": [
      "\u001b[0;31m---------------------------------------------------------------------------\u001b[0m",
      "\u001b[0;31mTypeError\u001b[0m                                 Traceback (most recent call last)",
      "\u001b[0;32m<ipython-input-21-0a77c1ed0292>\u001b[0m in \u001b[0;36m<module>\u001b[0;34m\u001b[0m\n\u001b[1;32m      1\u001b[0m \u001b[0mmcmc_test\u001b[0m \u001b[0;34m=\u001b[0m \u001b[0mMCMC\u001b[0m\u001b[0;34m(\u001b[0m\u001b[0mNUTS\u001b[0m\u001b[0;34m(\u001b[0m\u001b[0mrounding_mixture_model\u001b[0m\u001b[0;34m)\u001b[0m\u001b[0;34m,\u001b[0m \u001b[0mnum_warmup\u001b[0m \u001b[0;34m=\u001b[0m \u001b[0;36m1000\u001b[0m\u001b[0;34m,\u001b[0m \u001b[0mnum_samples\u001b[0m\u001b[0;34m=\u001b[0m\u001b[0;36m1000\u001b[0m\u001b[0;34m,\u001b[0m \u001b[0mnum_chains\u001b[0m\u001b[0;34m=\u001b[0m\u001b[0;36m1\u001b[0m\u001b[0;34m)\u001b[0m\u001b[0;34m\u001b[0m\u001b[0;34m\u001b[0m\u001b[0m\n\u001b[0;32m----> 2\u001b[0;31m \u001b[0mmcmc_test\u001b[0m\u001b[0;34m.\u001b[0m\u001b[0mrun\u001b[0m\u001b[0;34m(\u001b[0m\u001b[0mrandom\u001b[0m\u001b[0;34m.\u001b[0m\u001b[0mPRNGKey\u001b[0m\u001b[0;34m(\u001b[0m\u001b[0;36m0\u001b[0m\u001b[0;34m)\u001b[0m\u001b[0;34m,\u001b[0m \u001b[0mx_obs\u001b[0m\u001b[0;34m)\u001b[0m\u001b[0;34m\u001b[0m\u001b[0;34m\u001b[0m\u001b[0m\n\u001b[0m",
      "\u001b[0;32m/opt/conda/lib/python3.8/site-packages/numpyro/infer/mcmc.py\u001b[0m in \u001b[0;36mrun\u001b[0;34m(self, rng_key, extra_fields, init_params, *args, **kwargs)\u001b[0m\n\u001b[1;32m    591\u001b[0m         \u001b[0mmap_args\u001b[0m \u001b[0;34m=\u001b[0m \u001b[0;34m(\u001b[0m\u001b[0mrng_key\u001b[0m\u001b[0;34m,\u001b[0m \u001b[0minit_state\u001b[0m\u001b[0;34m,\u001b[0m \u001b[0minit_params\u001b[0m\u001b[0;34m)\u001b[0m\u001b[0;34m\u001b[0m\u001b[0;34m\u001b[0m\u001b[0m\n\u001b[1;32m    592\u001b[0m         \u001b[0;32mif\u001b[0m \u001b[0mself\u001b[0m\u001b[0;34m.\u001b[0m\u001b[0mnum_chains\u001b[0m \u001b[0;34m==\u001b[0m \u001b[0;36m1\u001b[0m\u001b[0;34m:\u001b[0m\u001b[0;34m\u001b[0m\u001b[0;34m\u001b[0m\u001b[0m\n\u001b[0;32m--> 593\u001b[0;31m             \u001b[0mstates_flat\u001b[0m\u001b[0;34m,\u001b[0m \u001b[0mlast_state\u001b[0m \u001b[0;34m=\u001b[0m \u001b[0mpartial_map_fn\u001b[0m\u001b[0;34m(\u001b[0m\u001b[0mmap_args\u001b[0m\u001b[0;34m)\u001b[0m\u001b[0;34m\u001b[0m\u001b[0;34m\u001b[0m\u001b[0m\n\u001b[0m\u001b[1;32m    594\u001b[0m             \u001b[0mstates\u001b[0m \u001b[0;34m=\u001b[0m \u001b[0mtree_map\u001b[0m\u001b[0;34m(\u001b[0m\u001b[0;32mlambda\u001b[0m \u001b[0mx\u001b[0m\u001b[0;34m:\u001b[0m \u001b[0mx\u001b[0m\u001b[0;34m[\u001b[0m\u001b[0mjnp\u001b[0m\u001b[0;34m.\u001b[0m\u001b[0mnewaxis\u001b[0m\u001b[0;34m,\u001b[0m \u001b[0;34m...\u001b[0m\u001b[0;34m]\u001b[0m\u001b[0;34m,\u001b[0m \u001b[0mstates_flat\u001b[0m\u001b[0;34m)\u001b[0m\u001b[0;34m\u001b[0m\u001b[0;34m\u001b[0m\u001b[0m\n\u001b[1;32m    595\u001b[0m         \u001b[0;32melse\u001b[0m\u001b[0;34m:\u001b[0m\u001b[0;34m\u001b[0m\u001b[0;34m\u001b[0m\u001b[0m\n",
      "\u001b[0;32m/opt/conda/lib/python3.8/site-packages/numpyro/infer/mcmc.py\u001b[0m in \u001b[0;36m_single_chain_mcmc\u001b[0;34m(self, init, args, kwargs, collect_fields)\u001b[0m\n\u001b[1;32m    379\u001b[0m         \u001b[0mrng_key\u001b[0m\u001b[0;34m,\u001b[0m \u001b[0minit_state\u001b[0m\u001b[0;34m,\u001b[0m \u001b[0minit_params\u001b[0m \u001b[0;34m=\u001b[0m \u001b[0minit\u001b[0m\u001b[0;34m\u001b[0m\u001b[0;34m\u001b[0m\u001b[0m\n\u001b[1;32m    380\u001b[0m         \u001b[0;32mif\u001b[0m \u001b[0minit_state\u001b[0m \u001b[0;32mis\u001b[0m \u001b[0;32mNone\u001b[0m\u001b[0;34m:\u001b[0m\u001b[0;34m\u001b[0m\u001b[0;34m\u001b[0m\u001b[0m\n\u001b[0;32m--> 381\u001b[0;31m             init_state = self.sampler.init(\n\u001b[0m\u001b[1;32m    382\u001b[0m                 \u001b[0mrng_key\u001b[0m\u001b[0;34m,\u001b[0m\u001b[0;34m\u001b[0m\u001b[0;34m\u001b[0m\u001b[0m\n\u001b[1;32m    383\u001b[0m                 \u001b[0mself\u001b[0m\u001b[0;34m.\u001b[0m\u001b[0mnum_warmup\u001b[0m\u001b[0;34m,\u001b[0m\u001b[0;34m\u001b[0m\u001b[0;34m\u001b[0m\u001b[0m\n",
      "\u001b[0;32m/opt/conda/lib/python3.8/site-packages/numpyro/infer/hmc.py\u001b[0m in \u001b[0;36minit\u001b[0;34m(self, rng_key, num_warmup, init_params, model_args, model_kwargs)\u001b[0m\n\u001b[1;32m    704\u001b[0m                 \u001b[0mvmap\u001b[0m\u001b[0;34m(\u001b[0m\u001b[0mrandom\u001b[0m\u001b[0;34m.\u001b[0m\u001b[0msplit\u001b[0m\u001b[0;34m)\u001b[0m\u001b[0;34m(\u001b[0m\u001b[0mrng_key\u001b[0m\u001b[0;34m)\u001b[0m\u001b[0;34m,\u001b[0m \u001b[0;36m0\u001b[0m\u001b[0;34m,\u001b[0m \u001b[0;36m1\u001b[0m\u001b[0;34m\u001b[0m\u001b[0;34m\u001b[0m\u001b[0m\n\u001b[1;32m    705\u001b[0m             )\n\u001b[0;32m--> 706\u001b[0;31m         init_params = self._init_state(\n\u001b[0m\u001b[1;32m    707\u001b[0m             \u001b[0mrng_key_init_model\u001b[0m\u001b[0;34m,\u001b[0m \u001b[0mmodel_args\u001b[0m\u001b[0;34m,\u001b[0m \u001b[0mmodel_kwargs\u001b[0m\u001b[0;34m,\u001b[0m \u001b[0minit_params\u001b[0m\u001b[0;34m\u001b[0m\u001b[0;34m\u001b[0m\u001b[0m\n\u001b[1;32m    708\u001b[0m         )\n",
      "\u001b[0;32m/opt/conda/lib/python3.8/site-packages/numpyro/infer/hmc.py\u001b[0m in \u001b[0;36m_init_state\u001b[0;34m(self, rng_key, model_args, model_kwargs, init_params)\u001b[0m\n\u001b[1;32m    650\u001b[0m     \u001b[0;32mdef\u001b[0m \u001b[0m_init_state\u001b[0m\u001b[0;34m(\u001b[0m\u001b[0mself\u001b[0m\u001b[0;34m,\u001b[0m \u001b[0mrng_key\u001b[0m\u001b[0;34m,\u001b[0m \u001b[0mmodel_args\u001b[0m\u001b[0;34m,\u001b[0m \u001b[0mmodel_kwargs\u001b[0m\u001b[0;34m,\u001b[0m \u001b[0minit_params\u001b[0m\u001b[0;34m)\u001b[0m\u001b[0;34m:\u001b[0m\u001b[0;34m\u001b[0m\u001b[0;34m\u001b[0m\u001b[0m\n\u001b[1;32m    651\u001b[0m         \u001b[0;32mif\u001b[0m \u001b[0mself\u001b[0m\u001b[0;34m.\u001b[0m\u001b[0m_model\u001b[0m \u001b[0;32mis\u001b[0m \u001b[0;32mnot\u001b[0m \u001b[0;32mNone\u001b[0m\u001b[0;34m:\u001b[0m\u001b[0;34m\u001b[0m\u001b[0;34m\u001b[0m\u001b[0m\n\u001b[0;32m--> 652\u001b[0;31m             init_params, potential_fn, postprocess_fn, model_trace = initialize_model(\n\u001b[0m\u001b[1;32m    653\u001b[0m                 \u001b[0mrng_key\u001b[0m\u001b[0;34m,\u001b[0m\u001b[0;34m\u001b[0m\u001b[0;34m\u001b[0m\u001b[0m\n\u001b[1;32m    654\u001b[0m                 \u001b[0mself\u001b[0m\u001b[0;34m.\u001b[0m\u001b[0m_model\u001b[0m\u001b[0;34m,\u001b[0m\u001b[0;34m\u001b[0m\u001b[0;34m\u001b[0m\u001b[0m\n",
      "\u001b[0;32m/opt/conda/lib/python3.8/site-packages/numpyro/infer/util.py\u001b[0m in \u001b[0;36minitialize_model\u001b[0;34m(rng_key, model, init_strategy, dynamic_args, model_args, model_kwargs, forward_mode_differentiation, validate_grad)\u001b[0m\n\u001b[1;32m    651\u001b[0m         \u001b[0minit_strategy\u001b[0m \u001b[0;34m=\u001b[0m \u001b[0m_init_to_unconstrained_value\u001b[0m\u001b[0;34m(\u001b[0m\u001b[0mvalues\u001b[0m\u001b[0;34m=\u001b[0m\u001b[0munconstrained_values\u001b[0m\u001b[0;34m)\u001b[0m\u001b[0;34m\u001b[0m\u001b[0;34m\u001b[0m\u001b[0m\n\u001b[1;32m    652\u001b[0m     \u001b[0mprototype_params\u001b[0m \u001b[0;34m=\u001b[0m \u001b[0mtransform_fn\u001b[0m\u001b[0;34m(\u001b[0m\u001b[0minv_transforms\u001b[0m\u001b[0;34m,\u001b[0m \u001b[0mconstrained_values\u001b[0m\u001b[0;34m,\u001b[0m \u001b[0minvert\u001b[0m\u001b[0;34m=\u001b[0m\u001b[0;32mTrue\u001b[0m\u001b[0;34m)\u001b[0m\u001b[0;34m\u001b[0m\u001b[0;34m\u001b[0m\u001b[0m\n\u001b[0;32m--> 653\u001b[0;31m     (init_params, pe, grad), is_valid = find_valid_initial_params(\n\u001b[0m\u001b[1;32m    654\u001b[0m         \u001b[0mrng_key\u001b[0m\u001b[0;34m,\u001b[0m\u001b[0;34m\u001b[0m\u001b[0;34m\u001b[0m\u001b[0m\n\u001b[1;32m    655\u001b[0m         substitute(\n",
      "\u001b[0;32m/opt/conda/lib/python3.8/site-packages/numpyro/infer/util.py\u001b[0m in \u001b[0;36mfind_valid_initial_params\u001b[0;34m(rng_key, model, init_strategy, enum, model_args, model_kwargs, prototype_params, forward_mode_differentiation, validate_grad)\u001b[0m\n\u001b[1;32m    392\u001b[0m     \u001b[0;31m# Handle possible vectorization\u001b[0m\u001b[0;34m\u001b[0m\u001b[0;34m\u001b[0m\u001b[0;34m\u001b[0m\u001b[0m\n\u001b[1;32m    393\u001b[0m     \u001b[0;32mif\u001b[0m \u001b[0mrng_key\u001b[0m\u001b[0;34m.\u001b[0m\u001b[0mndim\u001b[0m \u001b[0;34m==\u001b[0m \u001b[0;36m1\u001b[0m\u001b[0;34m:\u001b[0m\u001b[0;34m\u001b[0m\u001b[0;34m\u001b[0m\u001b[0m\n\u001b[0;32m--> 394\u001b[0;31m         (init_params, pe, z_grad), is_valid = _find_valid_params(\n\u001b[0m\u001b[1;32m    395\u001b[0m             \u001b[0mrng_key\u001b[0m\u001b[0;34m,\u001b[0m \u001b[0mexit_early\u001b[0m\u001b[0;34m=\u001b[0m\u001b[0;32mTrue\u001b[0m\u001b[0;34m\u001b[0m\u001b[0;34m\u001b[0m\u001b[0m\n\u001b[1;32m    396\u001b[0m         )\n",
      "\u001b[0;32m/opt/conda/lib/python3.8/site-packages/numpyro/infer/util.py\u001b[0m in \u001b[0;36m_find_valid_params\u001b[0;34m(rng_key, exit_early)\u001b[0m\n\u001b[1;32m    378\u001b[0m             \u001b[0;31m# Early return if valid params found. This is only helpful for single chain,\u001b[0m\u001b[0;34m\u001b[0m\u001b[0;34m\u001b[0m\u001b[0;34m\u001b[0m\u001b[0m\n\u001b[1;32m    379\u001b[0m             \u001b[0;31m# where we can avoid compiling body_fn in while_loop.\u001b[0m\u001b[0;34m\u001b[0m\u001b[0;34m\u001b[0m\u001b[0;34m\u001b[0m\u001b[0m\n\u001b[0;32m--> 380\u001b[0;31m             \u001b[0m_\u001b[0m\u001b[0;34m,\u001b[0m \u001b[0m_\u001b[0m\u001b[0;34m,\u001b[0m \u001b[0;34m(\u001b[0m\u001b[0minit_params\u001b[0m\u001b[0;34m,\u001b[0m \u001b[0mpe\u001b[0m\u001b[0;34m,\u001b[0m \u001b[0mz_grad\u001b[0m\u001b[0;34m)\u001b[0m\u001b[0;34m,\u001b[0m \u001b[0mis_valid\u001b[0m \u001b[0;34m=\u001b[0m \u001b[0minit_state\u001b[0m \u001b[0;34m=\u001b[0m \u001b[0mbody_fn\u001b[0m\u001b[0;34m(\u001b[0m\u001b[0minit_state\u001b[0m\u001b[0;34m)\u001b[0m\u001b[0;34m\u001b[0m\u001b[0;34m\u001b[0m\u001b[0m\n\u001b[0m\u001b[1;32m    381\u001b[0m             \u001b[0;32mif\u001b[0m \u001b[0mnot_jax_tracer\u001b[0m\u001b[0;34m(\u001b[0m\u001b[0mis_valid\u001b[0m\u001b[0;34m)\u001b[0m\u001b[0;34m:\u001b[0m\u001b[0;34m\u001b[0m\u001b[0;34m\u001b[0m\u001b[0m\n\u001b[1;32m    382\u001b[0m                 \u001b[0;32mif\u001b[0m \u001b[0mdevice_get\u001b[0m\u001b[0;34m(\u001b[0m\u001b[0mis_valid\u001b[0m\u001b[0;34m)\u001b[0m\u001b[0;34m:\u001b[0m\u001b[0;34m\u001b[0m\u001b[0;34m\u001b[0m\u001b[0m\n",
      "\u001b[0;32m/opt/conda/lib/python3.8/site-packages/numpyro/infer/util.py\u001b[0m in \u001b[0;36mbody_fn\u001b[0;34m(state)\u001b[0m\n\u001b[1;32m    362\u001b[0m                 \u001b[0mz_grad\u001b[0m \u001b[0;34m=\u001b[0m \u001b[0mjacfwd\u001b[0m\u001b[0;34m(\u001b[0m\u001b[0mpotential_fn\u001b[0m\u001b[0;34m)\u001b[0m\u001b[0;34m(\u001b[0m\u001b[0mparams\u001b[0m\u001b[0;34m)\u001b[0m\u001b[0;34m\u001b[0m\u001b[0;34m\u001b[0m\u001b[0m\n\u001b[1;32m    363\u001b[0m             \u001b[0;32melse\u001b[0m\u001b[0;34m:\u001b[0m\u001b[0;34m\u001b[0m\u001b[0;34m\u001b[0m\u001b[0m\n\u001b[0;32m--> 364\u001b[0;31m                 \u001b[0mpe\u001b[0m\u001b[0;34m,\u001b[0m \u001b[0mz_grad\u001b[0m \u001b[0;34m=\u001b[0m \u001b[0mvalue_and_grad\u001b[0m\u001b[0;34m(\u001b[0m\u001b[0mpotential_fn\u001b[0m\u001b[0;34m)\u001b[0m\u001b[0;34m(\u001b[0m\u001b[0mparams\u001b[0m\u001b[0;34m)\u001b[0m\u001b[0;34m\u001b[0m\u001b[0;34m\u001b[0m\u001b[0m\n\u001b[0m\u001b[1;32m    365\u001b[0m             \u001b[0mz_grad_flat\u001b[0m \u001b[0;34m=\u001b[0m \u001b[0mravel_pytree\u001b[0m\u001b[0;34m(\u001b[0m\u001b[0mz_grad\u001b[0m\u001b[0;34m)\u001b[0m\u001b[0;34m[\u001b[0m\u001b[0;36m0\u001b[0m\u001b[0;34m]\u001b[0m\u001b[0;34m\u001b[0m\u001b[0;34m\u001b[0m\u001b[0m\n\u001b[1;32m    366\u001b[0m             \u001b[0mis_valid\u001b[0m \u001b[0;34m=\u001b[0m \u001b[0mjnp\u001b[0m\u001b[0;34m.\u001b[0m\u001b[0misfinite\u001b[0m\u001b[0;34m(\u001b[0m\u001b[0mpe\u001b[0m\u001b[0;34m)\u001b[0m \u001b[0;34m&\u001b[0m \u001b[0mjnp\u001b[0m\u001b[0;34m.\u001b[0m\u001b[0mall\u001b[0m\u001b[0;34m(\u001b[0m\u001b[0mjnp\u001b[0m\u001b[0;34m.\u001b[0m\u001b[0misfinite\u001b[0m\u001b[0;34m(\u001b[0m\u001b[0mz_grad_flat\u001b[0m\u001b[0;34m)\u001b[0m\u001b[0;34m)\u001b[0m\u001b[0;34m\u001b[0m\u001b[0;34m\u001b[0m\u001b[0m\n",
      "    \u001b[0;31m[... skipping hidden 8 frame]\u001b[0m\n",
      "\u001b[0;32m/opt/conda/lib/python3.8/site-packages/numpyro/infer/util.py\u001b[0m in \u001b[0;36mpotential_energy\u001b[0;34m(model, model_args, model_kwargs, params, enum)\u001b[0m\n\u001b[1;32m    244\u001b[0m     )\n\u001b[1;32m    245\u001b[0m     \u001b[0;31m# no param is needed for log_density computation because we already substitute\u001b[0m\u001b[0;34m\u001b[0m\u001b[0;34m\u001b[0m\u001b[0;34m\u001b[0m\u001b[0m\n\u001b[0;32m--> 246\u001b[0;31m     log_joint, model_trace = log_density_(\n\u001b[0m\u001b[1;32m    247\u001b[0m         \u001b[0msubstituted_model\u001b[0m\u001b[0;34m,\u001b[0m \u001b[0mmodel_args\u001b[0m\u001b[0;34m,\u001b[0m \u001b[0mmodel_kwargs\u001b[0m\u001b[0;34m,\u001b[0m \u001b[0;34m{\u001b[0m\u001b[0;34m}\u001b[0m\u001b[0;34m\u001b[0m\u001b[0;34m\u001b[0m\u001b[0m\n\u001b[1;32m    248\u001b[0m     )\n",
      "\u001b[0;32m/opt/conda/lib/python3.8/site-packages/numpyro/infer/util.py\u001b[0m in \u001b[0;36mlog_density\u001b[0;34m(model, model_args, model_kwargs, params)\u001b[0m\n\u001b[1;32m     82\u001b[0m                         )\n\u001b[1;32m     83\u001b[0m                     )\n\u001b[0;32m---> 84\u001b[0;31m                 \u001b[0mlog_prob\u001b[0m \u001b[0;34m=\u001b[0m \u001b[0msite\u001b[0m\u001b[0;34m[\u001b[0m\u001b[0;34m\"fn\"\u001b[0m\u001b[0;34m]\u001b[0m\u001b[0;34m.\u001b[0m\u001b[0mlog_prob\u001b[0m\u001b[0;34m(\u001b[0m\u001b[0mvalue\u001b[0m\u001b[0;34m)\u001b[0m\u001b[0;34m\u001b[0m\u001b[0;34m\u001b[0m\u001b[0m\n\u001b[0m\u001b[1;32m     85\u001b[0m \u001b[0;34m\u001b[0m\u001b[0m\n\u001b[1;32m     86\u001b[0m             \u001b[0;32mif\u001b[0m \u001b[0;34m(\u001b[0m\u001b[0mscale\u001b[0m \u001b[0;32mis\u001b[0m \u001b[0;32mnot\u001b[0m \u001b[0;32mNone\u001b[0m\u001b[0;34m)\u001b[0m \u001b[0;32mand\u001b[0m \u001b[0;34m(\u001b[0m\u001b[0;32mnot\u001b[0m \u001b[0mis_identically_one\u001b[0m\u001b[0;34m(\u001b[0m\u001b[0mscale\u001b[0m\u001b[0;34m)\u001b[0m\u001b[0;34m)\u001b[0m\u001b[0;34m:\u001b[0m\u001b[0;34m\u001b[0m\u001b[0;34m\u001b[0m\u001b[0m\n",
      "\u001b[0;32m/opt/conda/lib/python3.8/site-packages/numpyro/distributions/distribution.py\u001b[0m in \u001b[0;36mlog_prob\u001b[0;34m(self, value, intermediates)\u001b[0m\n\u001b[1;32m    586\u001b[0m             \u001b[0mjnp\u001b[0m\u001b[0;34m.\u001b[0m\u001b[0mshape\u001b[0m\u001b[0;34m(\u001b[0m\u001b[0mvalue\u001b[0m\u001b[0;34m)\u001b[0m\u001b[0;34m[\u001b[0m\u001b[0;34m:\u001b[0m \u001b[0mmax\u001b[0m\u001b[0;34m(\u001b[0m\u001b[0mjnp\u001b[0m\u001b[0;34m.\u001b[0m\u001b[0mndim\u001b[0m\u001b[0;34m(\u001b[0m\u001b[0mvalue\u001b[0m\u001b[0;34m)\u001b[0m \u001b[0;34m-\u001b[0m \u001b[0mself\u001b[0m\u001b[0;34m.\u001b[0m\u001b[0mevent_dim\u001b[0m\u001b[0;34m,\u001b[0m \u001b[0;36m0\u001b[0m\u001b[0;34m)\u001b[0m\u001b[0;34m]\u001b[0m\u001b[0;34m,\u001b[0m\u001b[0;34m\u001b[0m\u001b[0;34m\u001b[0m\u001b[0m\n\u001b[1;32m    587\u001b[0m         )\n\u001b[0;32m--> 588\u001b[0;31m         \u001b[0mlog_prob\u001b[0m \u001b[0;34m=\u001b[0m \u001b[0mself\u001b[0m\u001b[0;34m.\u001b[0m\u001b[0mbase_dist\u001b[0m\u001b[0;34m.\u001b[0m\u001b[0mlog_prob\u001b[0m\u001b[0;34m(\u001b[0m\u001b[0mvalue\u001b[0m\u001b[0;34m)\u001b[0m\u001b[0;34m\u001b[0m\u001b[0;34m\u001b[0m\u001b[0m\n\u001b[0m\u001b[1;32m    589\u001b[0m         \u001b[0;32mreturn\u001b[0m \u001b[0mjnp\u001b[0m\u001b[0;34m.\u001b[0m\u001b[0mbroadcast_to\u001b[0m\u001b[0;34m(\u001b[0m\u001b[0mlog_prob\u001b[0m\u001b[0;34m,\u001b[0m \u001b[0mshape\u001b[0m\u001b[0;34m)\u001b[0m\u001b[0;34m\u001b[0m\u001b[0;34m\u001b[0m\u001b[0m\n\u001b[1;32m    590\u001b[0m \u001b[0;34m\u001b[0m\u001b[0m\n",
      "\u001b[0;32m/opt/conda/lib/python3.8/site-packages/numpyro/distributions/util.py\u001b[0m in \u001b[0;36mwrapper\u001b[0;34m(self, *args, **kwargs)\u001b[0m\n\u001b[1;32m    612\u001b[0m \u001b[0;32mdef\u001b[0m \u001b[0mvalidate_sample\u001b[0m\u001b[0;34m(\u001b[0m\u001b[0mlog_prob_fn\u001b[0m\u001b[0;34m)\u001b[0m\u001b[0;34m:\u001b[0m\u001b[0;34m\u001b[0m\u001b[0;34m\u001b[0m\u001b[0m\n\u001b[1;32m    613\u001b[0m     \u001b[0;32mdef\u001b[0m \u001b[0mwrapper\u001b[0m\u001b[0;34m(\u001b[0m\u001b[0mself\u001b[0m\u001b[0;34m,\u001b[0m \u001b[0;34m*\u001b[0m\u001b[0margs\u001b[0m\u001b[0;34m,\u001b[0m \u001b[0;34m**\u001b[0m\u001b[0mkwargs\u001b[0m\u001b[0;34m)\u001b[0m\u001b[0;34m:\u001b[0m\u001b[0;34m\u001b[0m\u001b[0;34m\u001b[0m\u001b[0m\n\u001b[0;32m--> 614\u001b[0;31m         \u001b[0mlog_prob\u001b[0m \u001b[0;34m=\u001b[0m \u001b[0mlog_prob_fn\u001b[0m\u001b[0;34m(\u001b[0m\u001b[0mself\u001b[0m\u001b[0;34m,\u001b[0m \u001b[0;34m*\u001b[0m\u001b[0margs\u001b[0m\u001b[0;34m,\u001b[0m \u001b[0;34m*\u001b[0m\u001b[0mkwargs\u001b[0m\u001b[0;34m)\u001b[0m\u001b[0;34m\u001b[0m\u001b[0;34m\u001b[0m\u001b[0m\n\u001b[0m\u001b[1;32m    615\u001b[0m         \u001b[0;32mif\u001b[0m \u001b[0mself\u001b[0m\u001b[0;34m.\u001b[0m\u001b[0m_validate_args\u001b[0m\u001b[0;34m:\u001b[0m\u001b[0;34m\u001b[0m\u001b[0;34m\u001b[0m\u001b[0m\n\u001b[1;32m    616\u001b[0m             \u001b[0mvalue\u001b[0m \u001b[0;34m=\u001b[0m \u001b[0mkwargs\u001b[0m\u001b[0;34m[\u001b[0m\u001b[0;34m\"value\"\u001b[0m\u001b[0;34m]\u001b[0m \u001b[0;32mif\u001b[0m \u001b[0;34m\"value\"\u001b[0m \u001b[0;32min\u001b[0m \u001b[0mkwargs\u001b[0m \u001b[0;32melse\u001b[0m \u001b[0margs\u001b[0m\u001b[0;34m[\u001b[0m\u001b[0;36m0\u001b[0m\u001b[0;34m]\u001b[0m\u001b[0;34m\u001b[0m\u001b[0;34m\u001b[0m\u001b[0m\n",
      "\u001b[0;32m/opt/conda/lib/python3.8/site-packages/numpyro/distributions/discrete.py\u001b[0m in \u001b[0;36mlog_prob\u001b[0;34m(self, value)\u001b[0m\n\u001b[1;32m    317\u001b[0m         \u001b[0mlogits\u001b[0m \u001b[0;34m=\u001b[0m \u001b[0mself\u001b[0m\u001b[0;34m.\u001b[0m\u001b[0mlogits\u001b[0m\u001b[0;34m\u001b[0m\u001b[0;34m\u001b[0m\u001b[0m\n\u001b[1;32m    318\u001b[0m         \u001b[0mlog_pmf\u001b[0m \u001b[0;34m=\u001b[0m \u001b[0mjnp\u001b[0m\u001b[0;34m.\u001b[0m\u001b[0mbroadcast_to\u001b[0m\u001b[0;34m(\u001b[0m\u001b[0mlogits\u001b[0m\u001b[0;34m,\u001b[0m \u001b[0mbatch_shape\u001b[0m \u001b[0;34m+\u001b[0m \u001b[0mjnp\u001b[0m\u001b[0;34m.\u001b[0m\u001b[0mshape\u001b[0m\u001b[0;34m(\u001b[0m\u001b[0mlogits\u001b[0m\u001b[0;34m)\u001b[0m\u001b[0;34m[\u001b[0m\u001b[0;34m-\u001b[0m\u001b[0;36m1\u001b[0m\u001b[0;34m:\u001b[0m\u001b[0;34m]\u001b[0m\u001b[0;34m)\u001b[0m\u001b[0;34m\u001b[0m\u001b[0;34m\u001b[0m\u001b[0m\n\u001b[0;32m--> 319\u001b[0;31m         \u001b[0;32mreturn\u001b[0m \u001b[0mjnp\u001b[0m\u001b[0;34m.\u001b[0m\u001b[0mtake_along_axis\u001b[0m\u001b[0;34m(\u001b[0m\u001b[0mlog_pmf\u001b[0m\u001b[0;34m,\u001b[0m \u001b[0mvalue\u001b[0m\u001b[0;34m,\u001b[0m \u001b[0maxis\u001b[0m\u001b[0;34m=\u001b[0m\u001b[0;34m-\u001b[0m\u001b[0;36m1\u001b[0m\u001b[0;34m)\u001b[0m\u001b[0;34m[\u001b[0m\u001b[0;34m...\u001b[0m\u001b[0;34m,\u001b[0m \u001b[0;36m0\u001b[0m\u001b[0;34m]\u001b[0m\u001b[0;34m\u001b[0m\u001b[0;34m\u001b[0m\u001b[0m\n\u001b[0m\u001b[1;32m    320\u001b[0m \u001b[0;34m\u001b[0m\u001b[0m\n\u001b[1;32m    321\u001b[0m     \u001b[0;34m@\u001b[0m\u001b[0mlazy_property\u001b[0m\u001b[0;34m\u001b[0m\u001b[0;34m\u001b[0m\u001b[0m\n",
      "    \u001b[0;31m[... skipping hidden 20 frame]\u001b[0m\n",
      "\u001b[0;32m/opt/conda/lib/python3.8/site-packages/jax/_src/numpy/lax_numpy.py\u001b[0m in \u001b[0;36mtake_along_axis\u001b[0;34m(arr, indices, axis, mode)\u001b[0m\n\u001b[1;32m   3472\u001b[0m   \u001b[0mindex_dtype\u001b[0m \u001b[0;34m=\u001b[0m \u001b[0mdtypes\u001b[0m\u001b[0;34m.\u001b[0m\u001b[0mdtype\u001b[0m\u001b[0;34m(\u001b[0m\u001b[0mindices\u001b[0m\u001b[0;34m)\u001b[0m\u001b[0;34m\u001b[0m\u001b[0;34m\u001b[0m\u001b[0m\n\u001b[1;32m   3473\u001b[0m   \u001b[0;32mif\u001b[0m \u001b[0;32mnot\u001b[0m \u001b[0mdtypes\u001b[0m\u001b[0;34m.\u001b[0m\u001b[0missubdtype\u001b[0m\u001b[0;34m(\u001b[0m\u001b[0mindex_dtype\u001b[0m\u001b[0;34m,\u001b[0m \u001b[0minteger\u001b[0m\u001b[0;34m)\u001b[0m\u001b[0;34m:\u001b[0m\u001b[0;34m\u001b[0m\u001b[0;34m\u001b[0m\u001b[0m\n\u001b[0;32m-> 3474\u001b[0;31m     raise TypeError(\"take_along_axis indices must be of integer type, got \"\n\u001b[0m\u001b[1;32m   3475\u001b[0m                     f\"{str(index_dtype)}\")\n\u001b[1;32m   3476\u001b[0m   \u001b[0;32mif\u001b[0m \u001b[0maxis\u001b[0m \u001b[0;32mis\u001b[0m \u001b[0;32mNone\u001b[0m\u001b[0;34m:\u001b[0m\u001b[0;34m\u001b[0m\u001b[0;34m\u001b[0m\u001b[0m\n",
      "\u001b[0;31mTypeError\u001b[0m: take_along_axis indices must be of integer type, got float32"
     ]
    }
   ],
   "source": [
    "mcmc_test = MCMC(NUTS(rounding_mixture_model), num_warmup = 1000, num_samples=1000, num_chains=1)\n",
    "mcmc_test.run(random.PRNGKey(0), x_obs)   "
   ]
  },
  {
   "cell_type": "code",
   "execution_count": 19,
   "id": "tribal-priority",
   "metadata": {},
   "outputs": [
    {
     "name": "stdout",
     "output_type": "stream",
     "text": [
      "\n",
      "                mean       std    median      5.0%     95.0%     n_eff     r_hat\n",
      "         k      5.82      0.94      5.75      4.09      7.21    984.29      1.00\n",
      "        mu      0.51      0.02      0.51      0.48      0.54    799.73      1.00\n",
      "  theta[0]      0.01      0.01      0.01      0.00      0.03   1188.36      1.00\n",
      "  theta[1]      0.95      0.03      0.96      0.91      1.00    757.92      1.00\n",
      "  theta[2]      0.03      0.03      0.03      0.00      0.08    785.96      1.00\n",
      "\n",
      "Number of divergences: 0\n"
     ]
    }
   ],
   "source": [
    "mcmc_test.print_summary()"
   ]
  },
  {
   "cell_type": "code",
   "execution_count": 9,
   "id": "comfortable-basics",
   "metadata": {},
   "outputs": [
    {
     "name": "stderr",
     "output_type": "stream",
     "text": [
      "/opt/conda/lib/python3.8/site-packages/seaborn/_decorators.py:36: FutureWarning: Pass the following variables as keyword args: x, y. From version 0.12, the only valid positional argument will be `data`, and passing other arguments without an explicit keyword will result in an error or misinterpretation.\n",
      "  warnings.warn(\n"
     ]
    },
    {
     "data": {
      "text/plain": [
       "<AxesSubplot:>"
      ]
     },
     "execution_count": 9,
     "metadata": {},
     "output_type": "execute_result"
    },
    {
     "data": {
      "image/png": "[encoded data removed]",
      "text/plain": [
       "<Figure size 432x288 with 1 Axes>"
      ]
     },
     "metadata": {
      "needs_background": "light"
     },
     "output_type": "display_data"
    }
   ],
   "source": [
    "# smaller, narrower new data rounded to 5\n",
    "\n",
    "n_obs = 100\n",
    "rg = default_rng(12345)\n",
    "\n",
    "def round_to_one(x):\n",
    "    return jnp.round(x,0)\n",
    "\n",
    "def round_to_five(x):\n",
    "    return jnp.round(x/5,0)*5\n",
    "\n",
    "def round_to_ten(x):\n",
    "    return jnp.round(x/10,0)*10\n",
    "\n",
    "def round_to_twenty(x):\n",
    "    return jnp.round(x/20,0)*20\n",
    "\n",
    "x_true = rg.beta(3,3,n_obs)*100\n",
    "x_obs = round_to_five(x_true)\n",
    "\n",
    "\n",
    "sns.scatterplot(x_true, x_obs,alpha=.5)"
   ]
  },
  {
   "cell_type": "code",
   "execution_count": 14,
   "id": "alien-desperate",
   "metadata": {},
   "outputs": [],
   "source": [
    "import jax\n",
    "\n",
    "def cat_probs_norm(mu, sigma, step_size, max_size=100):\n",
    "\n",
    "    upper_pts, lower_pts = make_cuts(0,100,step_size)\n",
    "    \n",
    "    prob_dist = dist.StudentT(3, mu, sigma) # on (0,1) scale\n",
    "    probs = prob_dist.cdf(upper_pts/100.) - prob_dist.cdf(lower_pts/100.)\n",
    "    return probs\n",
    "\n",
    "\n",
    "vec_cat_probs = jax.vmap(cat_probs_norm, in_axes = (0, None, None))\n",
    "vec_spread_vec = jax.vmap(spread_vec, in_axes = (0, None))\n",
    "\n",
    "def vec_cat_probs_spread(mu, sigma, step_size, max_size=100):\n",
    "    return vec_spread_vec(vec_cat_probs(mu, sigma, step_size), step_size)\n",
    "\n",
    "\n",
    "def rounding_model_latent(x_obs, step_size):\n",
    "#     mu = numpyro.sample(\"mu\", dist.Beta(1,1))\n",
    "#     k = numpyro.sample(\"k\", dist.HalfCauchy(10))\n",
    "    mu = .50\n",
    "    k = 6.\n",
    "    \n",
    "    with numpyro.plate(\"data\", x_obs.shape[0]):\n",
    "        x_true = numpyro.sample(\"x_true\", dist.Beta(mu*k, (1-mu)*k))\n",
    "        x_true_cp = vec_cat_probs_spread(x_true, .01, step_size)\n",
    "        numpyro.sample(\"x\", dist.Categorical(x_true_cp), obs=x_obs)"
   ]
  },
  {
   "cell_type": "code",
   "execution_count": 16,
   "id": "mysterious-announcement",
   "metadata": {},
   "outputs": [
    {
     "ename": "TypeError",
     "evalue": "take_along_axis indices must be of integer type, got float32",
     "output_type": "error",
     "traceback": [
      "\u001b[0;31m---------------------------------------------------------------------------\u001b[0m",
      "\u001b[0;31mTypeError\u001b[0m                                 Traceback (most recent call last)",
      "\u001b[0;32m<ipython-input-16-6d01cfb98a1b>\u001b[0m in \u001b[0;36m<module>\u001b[0;34m\u001b[0m\n\u001b[1;32m      1\u001b[0m \u001b[0mmcmc_test\u001b[0m \u001b[0;34m=\u001b[0m \u001b[0mMCMC\u001b[0m\u001b[0;34m(\u001b[0m\u001b[0mNUTS\u001b[0m\u001b[0;34m(\u001b[0m\u001b[0mrounding_model_latent\u001b[0m\u001b[0;34m,\u001b[0m \u001b[0mtarget_accept_prob\u001b[0m\u001b[0;34m=\u001b[0m\u001b[0;36m.80\u001b[0m\u001b[0;34m)\u001b[0m\u001b[0;34m,\u001b[0m \u001b[0mnum_warmup\u001b[0m\u001b[0;34m=\u001b[0m\u001b[0;36m1000\u001b[0m\u001b[0;34m,\u001b[0m \u001b[0mnum_samples\u001b[0m\u001b[0;34m=\u001b[0m\u001b[0;36m1000\u001b[0m\u001b[0;34m,\u001b[0m \u001b[0mnum_chains\u001b[0m\u001b[0;34m=\u001b[0m\u001b[0;36m1\u001b[0m\u001b[0;34m)\u001b[0m\u001b[0;34m\u001b[0m\u001b[0;34m\u001b[0m\u001b[0m\n\u001b[0;32m----> 2\u001b[0;31m \u001b[0mmcmc_test\u001b[0m\u001b[0;34m.\u001b[0m\u001b[0mrun\u001b[0m\u001b[0;34m(\u001b[0m\u001b[0mrandom\u001b[0m\u001b[0;34m.\u001b[0m\u001b[0mPRNGKey\u001b[0m\u001b[0;34m(\u001b[0m\u001b[0;36m0\u001b[0m\u001b[0;34m)\u001b[0m\u001b[0;34m,\u001b[0m \u001b[0mx_obs\u001b[0m\u001b[0;34m,\u001b[0m \u001b[0;36m5\u001b[0m\u001b[0;34m)\u001b[0m\u001b[0;34m\u001b[0m\u001b[0;34m\u001b[0m\u001b[0m\n\u001b[0m",
      "\u001b[0;32m/opt/conda/lib/python3.8/site-packages/numpyro/infer/mcmc.py\u001b[0m in \u001b[0;36mrun\u001b[0;34m(self, rng_key, extra_fields, init_params, *args, **kwargs)\u001b[0m\n\u001b[1;32m    591\u001b[0m         \u001b[0mmap_args\u001b[0m \u001b[0;34m=\u001b[0m \u001b[0;34m(\u001b[0m\u001b[0mrng_key\u001b[0m\u001b[0;34m,\u001b[0m \u001b[0minit_state\u001b[0m\u001b[0;34m,\u001b[0m \u001b[0minit_params\u001b[0m\u001b[0;34m)\u001b[0m\u001b[0;34m\u001b[0m\u001b[0;34m\u001b[0m\u001b[0m\n\u001b[1;32m    592\u001b[0m         \u001b[0;32mif\u001b[0m \u001b[0mself\u001b[0m\u001b[0;34m.\u001b[0m\u001b[0mnum_chains\u001b[0m \u001b[0;34m==\u001b[0m \u001b[0;36m1\u001b[0m\u001b[0;34m:\u001b[0m\u001b[0;34m\u001b[0m\u001b[0;34m\u001b[0m\u001b[0m\n\u001b[0;32m--> 593\u001b[0;31m             \u001b[0mstates_flat\u001b[0m\u001b[0;34m,\u001b[0m \u001b[0mlast_state\u001b[0m \u001b[0;34m=\u001b[0m \u001b[0mpartial_map_fn\u001b[0m\u001b[0;34m(\u001b[0m\u001b[0mmap_args\u001b[0m\u001b[0;34m)\u001b[0m\u001b[0;34m\u001b[0m\u001b[0;34m\u001b[0m\u001b[0m\n\u001b[0m\u001b[1;32m    594\u001b[0m             \u001b[0mstates\u001b[0m \u001b[0;34m=\u001b[0m \u001b[0mtree_map\u001b[0m\u001b[0;34m(\u001b[0m\u001b[0;32mlambda\u001b[0m \u001b[0mx\u001b[0m\u001b[0;34m:\u001b[0m \u001b[0mx\u001b[0m\u001b[0;34m[\u001b[0m\u001b[0mjnp\u001b[0m\u001b[0;34m.\u001b[0m\u001b[0mnewaxis\u001b[0m\u001b[0;34m,\u001b[0m \u001b[0;34m...\u001b[0m\u001b[0;34m]\u001b[0m\u001b[0;34m,\u001b[0m \u001b[0mstates_flat\u001b[0m\u001b[0;34m)\u001b[0m\u001b[0;34m\u001b[0m\u001b[0;34m\u001b[0m\u001b[0m\n\u001b[1;32m    595\u001b[0m         \u001b[0;32melse\u001b[0m\u001b[0;34m:\u001b[0m\u001b[0;34m\u001b[0m\u001b[0;34m\u001b[0m\u001b[0m\n",
      "\u001b[0;32m/opt/conda/lib/python3.8/site-packages/numpyro/infer/mcmc.py\u001b[0m in \u001b[0;36m_single_chain_mcmc\u001b[0;34m(self, init, args, kwargs, collect_fields)\u001b[0m\n\u001b[1;32m    379\u001b[0m         \u001b[0mrng_key\u001b[0m\u001b[0;34m,\u001b[0m \u001b[0minit_state\u001b[0m\u001b[0;34m,\u001b[0m \u001b[0minit_params\u001b[0m \u001b[0;34m=\u001b[0m \u001b[0minit\u001b[0m\u001b[0;34m\u001b[0m\u001b[0;34m\u001b[0m\u001b[0m\n\u001b[1;32m    380\u001b[0m         \u001b[0;32mif\u001b[0m \u001b[0minit_state\u001b[0m \u001b[0;32mis\u001b[0m \u001b[0;32mNone\u001b[0m\u001b[0;34m:\u001b[0m\u001b[0;34m\u001b[0m\u001b[0;34m\u001b[0m\u001b[0m\n\u001b[0;32m--> 381\u001b[0;31m             init_state = self.sampler.init(\n\u001b[0m\u001b[1;32m    382\u001b[0m                 \u001b[0mrng_key\u001b[0m\u001b[0;34m,\u001b[0m\u001b[0;34m\u001b[0m\u001b[0;34m\u001b[0m\u001b[0m\n\u001b[1;32m    383\u001b[0m                 \u001b[0mself\u001b[0m\u001b[0;34m.\u001b[0m\u001b[0mnum_warmup\u001b[0m\u001b[0;34m,\u001b[0m\u001b[0;34m\u001b[0m\u001b[0;34m\u001b[0m\u001b[0m\n",
      "\u001b[0;32m/opt/conda/lib/python3.8/site-packages/numpyro/infer/hmc.py\u001b[0m in \u001b[0;36minit\u001b[0;34m(self, rng_key, num_warmup, init_params, model_args, model_kwargs)\u001b[0m\n\u001b[1;32m    704\u001b[0m                 \u001b[0mvmap\u001b[0m\u001b[0;34m(\u001b[0m\u001b[0mrandom\u001b[0m\u001b[0;34m.\u001b[0m\u001b[0msplit\u001b[0m\u001b[0;34m)\u001b[0m\u001b[0;34m(\u001b[0m\u001b[0mrng_key\u001b[0m\u001b[0;34m)\u001b[0m\u001b[0;34m,\u001b[0m \u001b[0;36m0\u001b[0m\u001b[0;34m,\u001b[0m \u001b[0;36m1\u001b[0m\u001b[0;34m\u001b[0m\u001b[0;34m\u001b[0m\u001b[0m\n\u001b[1;32m    705\u001b[0m             )\n\u001b[0;32m--> 706\u001b[0;31m         init_params = self._init_state(\n\u001b[0m\u001b[1;32m    707\u001b[0m             \u001b[0mrng_key_init_model\u001b[0m\u001b[0;34m,\u001b[0m \u001b[0mmodel_args\u001b[0m\u001b[0;34m,\u001b[0m \u001b[0mmodel_kwargs\u001b[0m\u001b[0;34m,\u001b[0m \u001b[0minit_params\u001b[0m\u001b[0;34m\u001b[0m\u001b[0;34m\u001b[0m\u001b[0m\n\u001b[1;32m    708\u001b[0m         )\n",
      "\u001b[0;32m/opt/conda/lib/python3.8/site-packages/numpyro/infer/hmc.py\u001b[0m in \u001b[0;36m_init_state\u001b[0;34m(self, rng_key, model_args, model_kwargs, init_params)\u001b[0m\n\u001b[1;32m    650\u001b[0m     \u001b[0;32mdef\u001b[0m \u001b[0m_init_state\u001b[0m\u001b[0;34m(\u001b[0m\u001b[0mself\u001b[0m\u001b[0;34m,\u001b[0m \u001b[0mrng_key\u001b[0m\u001b[0;34m,\u001b[0m \u001b[0mmodel_args\u001b[0m\u001b[0;34m,\u001b[0m \u001b[0mmodel_kwargs\u001b[0m\u001b[0;34m,\u001b[0m \u001b[0minit_params\u001b[0m\u001b[0;34m)\u001b[0m\u001b[0;34m:\u001b[0m\u001b[0;34m\u001b[0m\u001b[0;34m\u001b[0m\u001b[0m\n\u001b[1;32m    651\u001b[0m         \u001b[0;32mif\u001b[0m \u001b[0mself\u001b[0m\u001b[0;34m.\u001b[0m\u001b[0m_model\u001b[0m \u001b[0;32mis\u001b[0m \u001b[0;32mnot\u001b[0m \u001b[0;32mNone\u001b[0m\u001b[0;34m:\u001b[0m\u001b[0;34m\u001b[0m\u001b[0;34m\u001b[0m\u001b[0m\n\u001b[0;32m--> 652\u001b[0;31m             init_params, potential_fn, postprocess_fn, model_trace = initialize_model(\n\u001b[0m\u001b[1;32m    653\u001b[0m                 \u001b[0mrng_key\u001b[0m\u001b[0;34m,\u001b[0m\u001b[0;34m\u001b[0m\u001b[0;34m\u001b[0m\u001b[0m\n\u001b[1;32m    654\u001b[0m                 \u001b[0mself\u001b[0m\u001b[0;34m.\u001b[0m\u001b[0m_model\u001b[0m\u001b[0;34m,\u001b[0m\u001b[0;34m\u001b[0m\u001b[0;34m\u001b[0m\u001b[0m\n",
      "\u001b[0;32m/opt/conda/lib/python3.8/site-packages/numpyro/infer/util.py\u001b[0m in \u001b[0;36minitialize_model\u001b[0;34m(rng_key, model, init_strategy, dynamic_args, model_args, model_kwargs, forward_mode_differentiation, validate_grad)\u001b[0m\n\u001b[1;32m    651\u001b[0m         \u001b[0minit_strategy\u001b[0m \u001b[0;34m=\u001b[0m \u001b[0m_init_to_unconstrained_value\u001b[0m\u001b[0;34m(\u001b[0m\u001b[0mvalues\u001b[0m\u001b[0;34m=\u001b[0m\u001b[0munconstrained_values\u001b[0m\u001b[0;34m)\u001b[0m\u001b[0;34m\u001b[0m\u001b[0;34m\u001b[0m\u001b[0m\n\u001b[1;32m    652\u001b[0m     \u001b[0mprototype_params\u001b[0m \u001b[0;34m=\u001b[0m \u001b[0mtransform_fn\u001b[0m\u001b[0;34m(\u001b[0m\u001b[0minv_transforms\u001b[0m\u001b[0;34m,\u001b[0m \u001b[0mconstrained_values\u001b[0m\u001b[0;34m,\u001b[0m \u001b[0minvert\u001b[0m\u001b[0;34m=\u001b[0m\u001b[0;32mTrue\u001b[0m\u001b[0;34m)\u001b[0m\u001b[0;34m\u001b[0m\u001b[0;34m\u001b[0m\u001b[0m\n\u001b[0;32m--> 653\u001b[0;31m     (init_params, pe, grad), is_valid = find_valid_initial_params(\n\u001b[0m\u001b[1;32m    654\u001b[0m         \u001b[0mrng_key\u001b[0m\u001b[0;34m,\u001b[0m\u001b[0;34m\u001b[0m\u001b[0;34m\u001b[0m\u001b[0m\n\u001b[1;32m    655\u001b[0m         substitute(\n",
      "\u001b[0;32m/opt/conda/lib/python3.8/site-packages/numpyro/infer/util.py\u001b[0m in \u001b[0;36mfind_valid_initial_params\u001b[0;34m(rng_key, model, init_strategy, enum, model_args, model_kwargs, prototype_params, forward_mode_differentiation, validate_grad)\u001b[0m\n\u001b[1;32m    392\u001b[0m     \u001b[0;31m# Handle possible vectorization\u001b[0m\u001b[0;34m\u001b[0m\u001b[0;34m\u001b[0m\u001b[0;34m\u001b[0m\u001b[0m\n\u001b[1;32m    393\u001b[0m     \u001b[0;32mif\u001b[0m \u001b[0mrng_key\u001b[0m\u001b[0;34m.\u001b[0m\u001b[0mndim\u001b[0m \u001b[0;34m==\u001b[0m \u001b[0;36m1\u001b[0m\u001b[0;34m:\u001b[0m\u001b[0;34m\u001b[0m\u001b[0;34m\u001b[0m\u001b[0m\n\u001b[0;32m--> 394\u001b[0;31m         (init_params, pe, z_grad), is_valid = _find_valid_params(\n\u001b[0m\u001b[1;32m    395\u001b[0m             \u001b[0mrng_key\u001b[0m\u001b[0;34m,\u001b[0m \u001b[0mexit_early\u001b[0m\u001b[0;34m=\u001b[0m\u001b[0;32mTrue\u001b[0m\u001b[0;34m\u001b[0m\u001b[0;34m\u001b[0m\u001b[0m\n\u001b[1;32m    396\u001b[0m         )\n",
      "\u001b[0;32m/opt/conda/lib/python3.8/site-packages/numpyro/infer/util.py\u001b[0m in \u001b[0;36m_find_valid_params\u001b[0;34m(rng_key, exit_early)\u001b[0m\n\u001b[1;32m    378\u001b[0m             \u001b[0;31m# Early return if valid params found. This is only helpful for single chain,\u001b[0m\u001b[0;34m\u001b[0m\u001b[0;34m\u001b[0m\u001b[0;34m\u001b[0m\u001b[0m\n\u001b[1;32m    379\u001b[0m             \u001b[0;31m# where we can avoid compiling body_fn in while_loop.\u001b[0m\u001b[0;34m\u001b[0m\u001b[0;34m\u001b[0m\u001b[0;34m\u001b[0m\u001b[0m\n\u001b[0;32m--> 380\u001b[0;31m             \u001b[0m_\u001b[0m\u001b[0;34m,\u001b[0m \u001b[0m_\u001b[0m\u001b[0;34m,\u001b[0m \u001b[0;34m(\u001b[0m\u001b[0minit_params\u001b[0m\u001b[0;34m,\u001b[0m \u001b[0mpe\u001b[0m\u001b[0;34m,\u001b[0m \u001b[0mz_grad\u001b[0m\u001b[0;34m)\u001b[0m\u001b[0;34m,\u001b[0m \u001b[0mis_valid\u001b[0m \u001b[0;34m=\u001b[0m \u001b[0minit_state\u001b[0m \u001b[0;34m=\u001b[0m \u001b[0mbody_fn\u001b[0m\u001b[0;34m(\u001b[0m\u001b[0minit_state\u001b[0m\u001b[0;34m)\u001b[0m\u001b[0;34m\u001b[0m\u001b[0;34m\u001b[0m\u001b[0m\n\u001b[0m\u001b[1;32m    381\u001b[0m             \u001b[0;32mif\u001b[0m \u001b[0mnot_jax_tracer\u001b[0m\u001b[0;34m(\u001b[0m\u001b[0mis_valid\u001b[0m\u001b[0;34m)\u001b[0m\u001b[0;34m:\u001b[0m\u001b[0;34m\u001b[0m\u001b[0;34m\u001b[0m\u001b[0m\n\u001b[1;32m    382\u001b[0m                 \u001b[0;32mif\u001b[0m \u001b[0mdevice_get\u001b[0m\u001b[0;34m(\u001b[0m\u001b[0mis_valid\u001b[0m\u001b[0;34m)\u001b[0m\u001b[0;34m:\u001b[0m\u001b[0;34m\u001b[0m\u001b[0;34m\u001b[0m\u001b[0m\n",
      "\u001b[0;32m/opt/conda/lib/python3.8/site-packages/numpyro/infer/util.py\u001b[0m in \u001b[0;36mbody_fn\u001b[0;34m(state)\u001b[0m\n\u001b[1;32m    362\u001b[0m                 \u001b[0mz_grad\u001b[0m \u001b[0;34m=\u001b[0m \u001b[0mjacfwd\u001b[0m\u001b[0;34m(\u001b[0m\u001b[0mpotential_fn\u001b[0m\u001b[0;34m)\u001b[0m\u001b[0;34m(\u001b[0m\u001b[0mparams\u001b[0m\u001b[0;34m)\u001b[0m\u001b[0;34m\u001b[0m\u001b[0;34m\u001b[0m\u001b[0m\n\u001b[1;32m    363\u001b[0m             \u001b[0;32melse\u001b[0m\u001b[0;34m:\u001b[0m\u001b[0;34m\u001b[0m\u001b[0;34m\u001b[0m\u001b[0m\n\u001b[0;32m--> 364\u001b[0;31m                 \u001b[0mpe\u001b[0m\u001b[0;34m,\u001b[0m \u001b[0mz_grad\u001b[0m \u001b[0;34m=\u001b[0m \u001b[0mvalue_and_grad\u001b[0m\u001b[0;34m(\u001b[0m\u001b[0mpotential_fn\u001b[0m\u001b[0;34m)\u001b[0m\u001b[0;34m(\u001b[0m\u001b[0mparams\u001b[0m\u001b[0;34m)\u001b[0m\u001b[0;34m\u001b[0m\u001b[0;34m\u001b[0m\u001b[0m\n\u001b[0m\u001b[1;32m    365\u001b[0m             \u001b[0mz_grad_flat\u001b[0m \u001b[0;34m=\u001b[0m \u001b[0mravel_pytree\u001b[0m\u001b[0;34m(\u001b[0m\u001b[0mz_grad\u001b[0m\u001b[0;34m)\u001b[0m\u001b[0;34m[\u001b[0m\u001b[0;36m0\u001b[0m\u001b[0;34m]\u001b[0m\u001b[0;34m\u001b[0m\u001b[0;34m\u001b[0m\u001b[0m\n\u001b[1;32m    366\u001b[0m             \u001b[0mis_valid\u001b[0m \u001b[0;34m=\u001b[0m \u001b[0mjnp\u001b[0m\u001b[0;34m.\u001b[0m\u001b[0misfinite\u001b[0m\u001b[0;34m(\u001b[0m\u001b[0mpe\u001b[0m\u001b[0;34m)\u001b[0m \u001b[0;34m&\u001b[0m \u001b[0mjnp\u001b[0m\u001b[0;34m.\u001b[0m\u001b[0mall\u001b[0m\u001b[0;34m(\u001b[0m\u001b[0mjnp\u001b[0m\u001b[0;34m.\u001b[0m\u001b[0misfinite\u001b[0m\u001b[0;34m(\u001b[0m\u001b[0mz_grad_flat\u001b[0m\u001b[0;34m)\u001b[0m\u001b[0;34m)\u001b[0m\u001b[0;34m\u001b[0m\u001b[0;34m\u001b[0m\u001b[0m\n",
      "    \u001b[0;31m[... skipping hidden 8 frame]\u001b[0m\n",
      "\u001b[0;32m/opt/conda/lib/python3.8/site-packages/numpyro/infer/util.py\u001b[0m in \u001b[0;36mpotential_energy\u001b[0;34m(model, model_args, model_kwargs, params, enum)\u001b[0m\n\u001b[1;32m    244\u001b[0m     )\n\u001b[1;32m    245\u001b[0m     \u001b[0;31m# no param is needed for log_density computation because we already substitute\u001b[0m\u001b[0;34m\u001b[0m\u001b[0;34m\u001b[0m\u001b[0;34m\u001b[0m\u001b[0m\n\u001b[0;32m--> 246\u001b[0;31m     log_joint, model_trace = log_density_(\n\u001b[0m\u001b[1;32m    247\u001b[0m         \u001b[0msubstituted_model\u001b[0m\u001b[0;34m,\u001b[0m \u001b[0mmodel_args\u001b[0m\u001b[0;34m,\u001b[0m \u001b[0mmodel_kwargs\u001b[0m\u001b[0;34m,\u001b[0m \u001b[0;34m{\u001b[0m\u001b[0;34m}\u001b[0m\u001b[0;34m\u001b[0m\u001b[0;34m\u001b[0m\u001b[0m\n\u001b[1;32m    248\u001b[0m     )\n",
      "\u001b[0;32m/opt/conda/lib/python3.8/site-packages/numpyro/infer/util.py\u001b[0m in \u001b[0;36mlog_density\u001b[0;34m(model, model_args, model_kwargs, params)\u001b[0m\n\u001b[1;32m     82\u001b[0m                         )\n\u001b[1;32m     83\u001b[0m                     )\n\u001b[0;32m---> 84\u001b[0;31m                 \u001b[0mlog_prob\u001b[0m \u001b[0;34m=\u001b[0m \u001b[0msite\u001b[0m\u001b[0;34m[\u001b[0m\u001b[0;34m\"fn\"\u001b[0m\u001b[0;34m]\u001b[0m\u001b[0;34m.\u001b[0m\u001b[0mlog_prob\u001b[0m\u001b[0;34m(\u001b[0m\u001b[0mvalue\u001b[0m\u001b[0;34m)\u001b[0m\u001b[0;34m\u001b[0m\u001b[0;34m\u001b[0m\u001b[0m\n\u001b[0m\u001b[1;32m     85\u001b[0m \u001b[0;34m\u001b[0m\u001b[0m\n\u001b[1;32m     86\u001b[0m             \u001b[0;32mif\u001b[0m \u001b[0;34m(\u001b[0m\u001b[0mscale\u001b[0m \u001b[0;32mis\u001b[0m \u001b[0;32mnot\u001b[0m \u001b[0;32mNone\u001b[0m\u001b[0;34m)\u001b[0m \u001b[0;32mand\u001b[0m \u001b[0;34m(\u001b[0m\u001b[0;32mnot\u001b[0m \u001b[0mis_identically_one\u001b[0m\u001b[0;34m(\u001b[0m\u001b[0mscale\u001b[0m\u001b[0;34m)\u001b[0m\u001b[0;34m)\u001b[0m\u001b[0;34m:\u001b[0m\u001b[0;34m\u001b[0m\u001b[0;34m\u001b[0m\u001b[0m\n",
      "\u001b[0;32m/opt/conda/lib/python3.8/site-packages/numpyro/distributions/util.py\u001b[0m in \u001b[0;36mwrapper\u001b[0;34m(self, *args, **kwargs)\u001b[0m\n\u001b[1;32m    612\u001b[0m \u001b[0;32mdef\u001b[0m \u001b[0mvalidate_sample\u001b[0m\u001b[0;34m(\u001b[0m\u001b[0mlog_prob_fn\u001b[0m\u001b[0;34m)\u001b[0m\u001b[0;34m:\u001b[0m\u001b[0;34m\u001b[0m\u001b[0;34m\u001b[0m\u001b[0m\n\u001b[1;32m    613\u001b[0m     \u001b[0;32mdef\u001b[0m \u001b[0mwrapper\u001b[0m\u001b[0;34m(\u001b[0m\u001b[0mself\u001b[0m\u001b[0;34m,\u001b[0m \u001b[0;34m*\u001b[0m\u001b[0margs\u001b[0m\u001b[0;34m,\u001b[0m \u001b[0;34m**\u001b[0m\u001b[0mkwargs\u001b[0m\u001b[0;34m)\u001b[0m\u001b[0;34m:\u001b[0m\u001b[0;34m\u001b[0m\u001b[0;34m\u001b[0m\u001b[0m\n\u001b[0;32m--> 614\u001b[0;31m         \u001b[0mlog_prob\u001b[0m \u001b[0;34m=\u001b[0m \u001b[0mlog_prob_fn\u001b[0m\u001b[0;34m(\u001b[0m\u001b[0mself\u001b[0m\u001b[0;34m,\u001b[0m \u001b[0;34m*\u001b[0m\u001b[0margs\u001b[0m\u001b[0;34m,\u001b[0m \u001b[0;34m*\u001b[0m\u001b[0mkwargs\u001b[0m\u001b[0;34m)\u001b[0m\u001b[0;34m\u001b[0m\u001b[0;34m\u001b[0m\u001b[0m\n\u001b[0m\u001b[1;32m    615\u001b[0m         \u001b[0;32mif\u001b[0m \u001b[0mself\u001b[0m\u001b[0;34m.\u001b[0m\u001b[0m_validate_args\u001b[0m\u001b[0;34m:\u001b[0m\u001b[0;34m\u001b[0m\u001b[0;34m\u001b[0m\u001b[0m\n\u001b[1;32m    616\u001b[0m             \u001b[0mvalue\u001b[0m \u001b[0;34m=\u001b[0m \u001b[0mkwargs\u001b[0m\u001b[0;34m[\u001b[0m\u001b[0;34m\"value\"\u001b[0m\u001b[0;34m]\u001b[0m \u001b[0;32mif\u001b[0m \u001b[0;34m\"value\"\u001b[0m \u001b[0;32min\u001b[0m \u001b[0mkwargs\u001b[0m \u001b[0;32melse\u001b[0m \u001b[0margs\u001b[0m\u001b[0;34m[\u001b[0m\u001b[0;36m0\u001b[0m\u001b[0;34m]\u001b[0m\u001b[0;34m\u001b[0m\u001b[0;34m\u001b[0m\u001b[0m\n",
      "\u001b[0;32m/opt/conda/lib/python3.8/site-packages/numpyro/distributions/discrete.py\u001b[0m in \u001b[0;36mlog_prob\u001b[0;34m(self, value)\u001b[0m\n\u001b[1;32m    317\u001b[0m         \u001b[0mlogits\u001b[0m \u001b[0;34m=\u001b[0m \u001b[0mself\u001b[0m\u001b[0;34m.\u001b[0m\u001b[0mlogits\u001b[0m\u001b[0;34m\u001b[0m\u001b[0;34m\u001b[0m\u001b[0m\n\u001b[1;32m    318\u001b[0m         \u001b[0mlog_pmf\u001b[0m \u001b[0;34m=\u001b[0m \u001b[0mjnp\u001b[0m\u001b[0;34m.\u001b[0m\u001b[0mbroadcast_to\u001b[0m\u001b[0;34m(\u001b[0m\u001b[0mlogits\u001b[0m\u001b[0;34m,\u001b[0m \u001b[0mbatch_shape\u001b[0m \u001b[0;34m+\u001b[0m \u001b[0mjnp\u001b[0m\u001b[0;34m.\u001b[0m\u001b[0mshape\u001b[0m\u001b[0;34m(\u001b[0m\u001b[0mlogits\u001b[0m\u001b[0;34m)\u001b[0m\u001b[0;34m[\u001b[0m\u001b[0;34m-\u001b[0m\u001b[0;36m1\u001b[0m\u001b[0;34m:\u001b[0m\u001b[0;34m]\u001b[0m\u001b[0;34m)\u001b[0m\u001b[0;34m\u001b[0m\u001b[0;34m\u001b[0m\u001b[0m\n\u001b[0;32m--> 319\u001b[0;31m         \u001b[0;32mreturn\u001b[0m \u001b[0mjnp\u001b[0m\u001b[0;34m.\u001b[0m\u001b[0mtake_along_axis\u001b[0m\u001b[0;34m(\u001b[0m\u001b[0mlog_pmf\u001b[0m\u001b[0;34m,\u001b[0m \u001b[0mvalue\u001b[0m\u001b[0;34m,\u001b[0m \u001b[0maxis\u001b[0m\u001b[0;34m=\u001b[0m\u001b[0;34m-\u001b[0m\u001b[0;36m1\u001b[0m\u001b[0;34m)\u001b[0m\u001b[0;34m[\u001b[0m\u001b[0;34m...\u001b[0m\u001b[0;34m,\u001b[0m \u001b[0;36m0\u001b[0m\u001b[0;34m]\u001b[0m\u001b[0;34m\u001b[0m\u001b[0;34m\u001b[0m\u001b[0m\n\u001b[0m\u001b[1;32m    320\u001b[0m \u001b[0;34m\u001b[0m\u001b[0m\n\u001b[1;32m    321\u001b[0m     \u001b[0;34m@\u001b[0m\u001b[0mlazy_property\u001b[0m\u001b[0;34m\u001b[0m\u001b[0;34m\u001b[0m\u001b[0m\n",
      "    \u001b[0;31m[... skipping hidden 20 frame]\u001b[0m\n",
      "\u001b[0;32m/opt/conda/lib/python3.8/site-packages/jax/_src/numpy/lax_numpy.py\u001b[0m in \u001b[0;36mtake_along_axis\u001b[0;34m(arr, indices, axis, mode)\u001b[0m\n\u001b[1;32m   3472\u001b[0m   \u001b[0mindex_dtype\u001b[0m \u001b[0;34m=\u001b[0m \u001b[0mdtypes\u001b[0m\u001b[0;34m.\u001b[0m\u001b[0mdtype\u001b[0m\u001b[0;34m(\u001b[0m\u001b[0mindices\u001b[0m\u001b[0;34m)\u001b[0m\u001b[0;34m\u001b[0m\u001b[0;34m\u001b[0m\u001b[0m\n\u001b[1;32m   3473\u001b[0m   \u001b[0;32mif\u001b[0m \u001b[0;32mnot\u001b[0m \u001b[0mdtypes\u001b[0m\u001b[0;34m.\u001b[0m\u001b[0missubdtype\u001b[0m\u001b[0;34m(\u001b[0m\u001b[0mindex_dtype\u001b[0m\u001b[0;34m,\u001b[0m \u001b[0minteger\u001b[0m\u001b[0;34m)\u001b[0m\u001b[0;34m:\u001b[0m\u001b[0;34m\u001b[0m\u001b[0;34m\u001b[0m\u001b[0m\n\u001b[0;32m-> 3474\u001b[0;31m     raise TypeError(\"take_along_axis indices must be of integer type, got \"\n\u001b[0m\u001b[1;32m   3475\u001b[0m                     f\"{str(index_dtype)}\")\n\u001b[1;32m   3476\u001b[0m   \u001b[0;32mif\u001b[0m \u001b[0maxis\u001b[0m \u001b[0;32mis\u001b[0m \u001b[0;32mNone\u001b[0m\u001b[0;34m:\u001b[0m\u001b[0;34m\u001b[0m\u001b[0;34m\u001b[0m\u001b[0m\n",
      "\u001b[0;31mTypeError\u001b[0m: take_along_axis indices must be of integer type, got float32"
     ]
    }
   ],
   "source": [
    "mcmc_test = MCMC(NUTS(rounding_model_latent, target_accept_prob=.80), num_warmup=1000, num_samples=1000, num_chains=1)\n",
    "mcmc_test.run(random.PRNGKey(0), x_obs, 5)   "
   ]
  },
  {
   "cell_type": "code",
   "execution_count": null,
   "id": "successful-angel",
   "metadata": {},
   "outputs": [],
   "source": [
    "mcmc_test.print_summary()"
   ]
  },
  {
   "cell_type": "markdown",
   "id": "german-chocolate",
   "metadata": {},
   "source": [
    "Having vectorized things with `vmap()` it seems to initialize well, produces a reasonable answer and samples reasonably quickly, but still produces lots of divergences."
   ]
  },
  {
   "cell_type": "code",
   "execution_count": 56,
   "id": "coral-nowhere",
   "metadata": {},
   "outputs": [
    {
     "data": {
      "text/plain": [
       "DeviceArray(-9.527151, dtype=float32)"
      ]
     },
     "execution_count": 56,
     "metadata": {},
     "output_type": "execute_result"
    }
   ],
   "source": [
    "# def rounding_model_latent(x_obs, step_size):\n",
    "#     mu = numpyro.sample(\"mu\", dist.Beta(1,1))\n",
    "#     k = numpyro.sample(\"k\", dist.HalfCauchy(10))\n",
    "    \n",
    "#     with numpyro.plate(\"data\", x_obs.shape[0]):\n",
    "#         x_true = numpyro.sample(\"x_true\", dist.Beta(mu*k, (1-mu)*k))\n",
    "#         x_true_cp = vec_cat_probs_spread(x_true, .01, step_size)\n",
    "#         numpyro.sample(\"x\", dist.Categorical(x_true_cp), obs=x_obs)"
   ]
  },
  {
   "cell_type": "code",
   "execution_count": 12,
   "id": "excited-modeling",
   "metadata": {},
   "outputs": [],
   "source": [
    "def reshape_theta(theta, n_obs, n_steps, n_categories):\n",
    "    theta_vec = jnp.reshape(theta, (-1, n_steps))\n",
    "    theta_obj = theta_vec.repeat(n_obs, axis=-1)\n",
    "    theta_obj = jnp.reshape(theta_obj.repeat(n_categories, axis=-1), (n_steps, n_obs, n_categories))\n",
    "    \n",
    "    return theta_obj\n",
    "\n",
    "def rounding_mixture_model_reg(x_obs):\n",
    "    n_obs = x_obs.shape[0]\n",
    "    steps = jnp.array([5])\n",
    "#         steps = jnp.array([1, 5, 10])\n",
    "    #     theta = numpyro.sample(\"theta\", dist.Dirichlet(jnp.ones(len(steps))))\n",
    "    theta = jnp.array(1.)\n",
    "\n",
    "\n",
    "    \n",
    "    mu = numpyro.sample(\"mu\", dist.Beta(1,1))\n",
    "    k = numpyro.sample(\"k\", dist.HalfCauchy(10))\n",
    "    \n",
    "    theta_obj = reshape_theta(theta, n_obs, len(steps), 100)\n",
    "    \n",
    "    with numpyro.plate(\"data\", n_obs):\n",
    "\n",
    "        x_true = numpyro.sample(\"x_true\", dist.Beta(mu*k, (1-mu*k)))\n",
    "        x_true_cp_stack = jnp.stack([ vec_cat_probs_spread(x_true, .02, step_size) for step_size in steps])\n",
    "        \n",
    "#         x_true_cp = jnp.sum(x_true_cp_stack*theta_obj, axis=0)\n",
    "        x_true_cp = jnp.exp(jax.scipy.special.logsumexp(jnp.log(x_true_cp_stack) + jnp.log(theta_obj), axis=-3))\n",
    "        numpyro.sample(\"x\", dist.Categorical(x_true_cp), obs=x_obs)\n",
    "    return None\n"
   ]
  },
  {
   "cell_type": "code",
   "execution_count": 13,
   "id": "nutritional-metropolitan",
   "metadata": {},
   "outputs": [
    {
     "ename": "TypeError",
     "evalue": "take_along_axis indices must be of integer type, got float32",
     "output_type": "error",
     "traceback": [
      "\u001b[0;31m---------------------------------------------------------------------------\u001b[0m",
      "\u001b[0;31mTypeError\u001b[0m                                 Traceback (most recent call last)",
      "\u001b[0;32m<ipython-input-13-223e31e2b96b>\u001b[0m in \u001b[0;36m<module>\u001b[0;34m\u001b[0m\n\u001b[1;32m      1\u001b[0m \u001b[0mmcmc_test\u001b[0m \u001b[0;34m=\u001b[0m \u001b[0mMCMC\u001b[0m\u001b[0;34m(\u001b[0m\u001b[0mNUTS\u001b[0m\u001b[0;34m(\u001b[0m\u001b[0mrounding_mixture_model_reg\u001b[0m\u001b[0;34m,\u001b[0m \u001b[0mtarget_accept_prob\u001b[0m\u001b[0;34m=\u001b[0m\u001b[0;36m.90\u001b[0m\u001b[0;34m)\u001b[0m\u001b[0;34m,\u001b[0m \u001b[0mnum_warmup\u001b[0m \u001b[0;34m=\u001b[0m\u001b[0;36m1000\u001b[0m\u001b[0;34m,\u001b[0m \u001b[0mnum_samples\u001b[0m \u001b[0;34m=\u001b[0m \u001b[0;36m1000\u001b[0m\u001b[0;34m,\u001b[0m \u001b[0mnum_chains\u001b[0m\u001b[0;34m=\u001b[0m\u001b[0;36m1\u001b[0m\u001b[0;34m)\u001b[0m\u001b[0;34m\u001b[0m\u001b[0;34m\u001b[0m\u001b[0m\n\u001b[0;32m----> 2\u001b[0;31m \u001b[0mmcmc_test\u001b[0m\u001b[0;34m.\u001b[0m\u001b[0mrun\u001b[0m\u001b[0;34m(\u001b[0m\u001b[0mrandom\u001b[0m\u001b[0;34m.\u001b[0m\u001b[0mPRNGKey\u001b[0m\u001b[0;34m(\u001b[0m\u001b[0;36m0\u001b[0m\u001b[0;34m)\u001b[0m\u001b[0;34m,\u001b[0m \u001b[0mx_obs\u001b[0m\u001b[0;34m)\u001b[0m\u001b[0;34m\u001b[0m\u001b[0;34m\u001b[0m\u001b[0m\n\u001b[0m",
      "\u001b[0;32m/opt/conda/lib/python3.8/site-packages/numpyro/infer/mcmc.py\u001b[0m in \u001b[0;36mrun\u001b[0;34m(self, rng_key, extra_fields, init_params, *args, **kwargs)\u001b[0m\n\u001b[1;32m    591\u001b[0m         \u001b[0mmap_args\u001b[0m \u001b[0;34m=\u001b[0m \u001b[0;34m(\u001b[0m\u001b[0mrng_key\u001b[0m\u001b[0;34m,\u001b[0m \u001b[0minit_state\u001b[0m\u001b[0;34m,\u001b[0m \u001b[0minit_params\u001b[0m\u001b[0;34m)\u001b[0m\u001b[0;34m\u001b[0m\u001b[0;34m\u001b[0m\u001b[0m\n\u001b[1;32m    592\u001b[0m         \u001b[0;32mif\u001b[0m \u001b[0mself\u001b[0m\u001b[0;34m.\u001b[0m\u001b[0mnum_chains\u001b[0m \u001b[0;34m==\u001b[0m \u001b[0;36m1\u001b[0m\u001b[0;34m:\u001b[0m\u001b[0;34m\u001b[0m\u001b[0;34m\u001b[0m\u001b[0m\n\u001b[0;32m--> 593\u001b[0;31m             \u001b[0mstates_flat\u001b[0m\u001b[0;34m,\u001b[0m \u001b[0mlast_state\u001b[0m \u001b[0;34m=\u001b[0m \u001b[0mpartial_map_fn\u001b[0m\u001b[0;34m(\u001b[0m\u001b[0mmap_args\u001b[0m\u001b[0;34m)\u001b[0m\u001b[0;34m\u001b[0m\u001b[0;34m\u001b[0m\u001b[0m\n\u001b[0m\u001b[1;32m    594\u001b[0m             \u001b[0mstates\u001b[0m \u001b[0;34m=\u001b[0m \u001b[0mtree_map\u001b[0m\u001b[0;34m(\u001b[0m\u001b[0;32mlambda\u001b[0m \u001b[0mx\u001b[0m\u001b[0;34m:\u001b[0m \u001b[0mx\u001b[0m\u001b[0;34m[\u001b[0m\u001b[0mjnp\u001b[0m\u001b[0;34m.\u001b[0m\u001b[0mnewaxis\u001b[0m\u001b[0;34m,\u001b[0m \u001b[0;34m...\u001b[0m\u001b[0;34m]\u001b[0m\u001b[0;34m,\u001b[0m \u001b[0mstates_flat\u001b[0m\u001b[0;34m)\u001b[0m\u001b[0;34m\u001b[0m\u001b[0;34m\u001b[0m\u001b[0m\n\u001b[1;32m    595\u001b[0m         \u001b[0;32melse\u001b[0m\u001b[0;34m:\u001b[0m\u001b[0;34m\u001b[0m\u001b[0;34m\u001b[0m\u001b[0m\n",
      "\u001b[0;32m/opt/conda/lib/python3.8/site-packages/numpyro/infer/mcmc.py\u001b[0m in \u001b[0;36m_single_chain_mcmc\u001b[0;34m(self, init, args, kwargs, collect_fields)\u001b[0m\n\u001b[1;32m    379\u001b[0m         \u001b[0mrng_key\u001b[0m\u001b[0;34m,\u001b[0m \u001b[0minit_state\u001b[0m\u001b[0;34m,\u001b[0m \u001b[0minit_params\u001b[0m \u001b[0;34m=\u001b[0m \u001b[0minit\u001b[0m\u001b[0;34m\u001b[0m\u001b[0;34m\u001b[0m\u001b[0m\n\u001b[1;32m    380\u001b[0m         \u001b[0;32mif\u001b[0m \u001b[0minit_state\u001b[0m \u001b[0;32mis\u001b[0m \u001b[0;32mNone\u001b[0m\u001b[0;34m:\u001b[0m\u001b[0;34m\u001b[0m\u001b[0;34m\u001b[0m\u001b[0m\n\u001b[0;32m--> 381\u001b[0;31m             init_state = self.sampler.init(\n\u001b[0m\u001b[1;32m    382\u001b[0m                 \u001b[0mrng_key\u001b[0m\u001b[0;34m,\u001b[0m\u001b[0;34m\u001b[0m\u001b[0;34m\u001b[0m\u001b[0m\n\u001b[1;32m    383\u001b[0m                 \u001b[0mself\u001b[0m\u001b[0;34m.\u001b[0m\u001b[0mnum_warmup\u001b[0m\u001b[0;34m,\u001b[0m\u001b[0;34m\u001b[0m\u001b[0;34m\u001b[0m\u001b[0m\n",
      "\u001b[0;32m/opt/conda/lib/python3.8/site-packages/numpyro/infer/hmc.py\u001b[0m in \u001b[0;36minit\u001b[0;34m(self, rng_key, num_warmup, init_params, model_args, model_kwargs)\u001b[0m\n\u001b[1;32m    704\u001b[0m                 \u001b[0mvmap\u001b[0m\u001b[0;34m(\u001b[0m\u001b[0mrandom\u001b[0m\u001b[0;34m.\u001b[0m\u001b[0msplit\u001b[0m\u001b[0;34m)\u001b[0m\u001b[0;34m(\u001b[0m\u001b[0mrng_key\u001b[0m\u001b[0;34m)\u001b[0m\u001b[0;34m,\u001b[0m \u001b[0;36m0\u001b[0m\u001b[0;34m,\u001b[0m \u001b[0;36m1\u001b[0m\u001b[0;34m\u001b[0m\u001b[0;34m\u001b[0m\u001b[0m\n\u001b[1;32m    705\u001b[0m             )\n\u001b[0;32m--> 706\u001b[0;31m         init_params = self._init_state(\n\u001b[0m\u001b[1;32m    707\u001b[0m             \u001b[0mrng_key_init_model\u001b[0m\u001b[0;34m,\u001b[0m \u001b[0mmodel_args\u001b[0m\u001b[0;34m,\u001b[0m \u001b[0mmodel_kwargs\u001b[0m\u001b[0;34m,\u001b[0m \u001b[0minit_params\u001b[0m\u001b[0;34m\u001b[0m\u001b[0;34m\u001b[0m\u001b[0m\n\u001b[1;32m    708\u001b[0m         )\n",
      "\u001b[0;32m/opt/conda/lib/python3.8/site-packages/numpyro/infer/hmc.py\u001b[0m in \u001b[0;36m_init_state\u001b[0;34m(self, rng_key, model_args, model_kwargs, init_params)\u001b[0m\n\u001b[1;32m    650\u001b[0m     \u001b[0;32mdef\u001b[0m \u001b[0m_init_state\u001b[0m\u001b[0;34m(\u001b[0m\u001b[0mself\u001b[0m\u001b[0;34m,\u001b[0m \u001b[0mrng_key\u001b[0m\u001b[0;34m,\u001b[0m \u001b[0mmodel_args\u001b[0m\u001b[0;34m,\u001b[0m \u001b[0mmodel_kwargs\u001b[0m\u001b[0;34m,\u001b[0m \u001b[0minit_params\u001b[0m\u001b[0;34m)\u001b[0m\u001b[0;34m:\u001b[0m\u001b[0;34m\u001b[0m\u001b[0;34m\u001b[0m\u001b[0m\n\u001b[1;32m    651\u001b[0m         \u001b[0;32mif\u001b[0m \u001b[0mself\u001b[0m\u001b[0;34m.\u001b[0m\u001b[0m_model\u001b[0m \u001b[0;32mis\u001b[0m \u001b[0;32mnot\u001b[0m \u001b[0;32mNone\u001b[0m\u001b[0;34m:\u001b[0m\u001b[0;34m\u001b[0m\u001b[0;34m\u001b[0m\u001b[0m\n\u001b[0;32m--> 652\u001b[0;31m             init_params, potential_fn, postprocess_fn, model_trace = initialize_model(\n\u001b[0m\u001b[1;32m    653\u001b[0m                 \u001b[0mrng_key\u001b[0m\u001b[0;34m,\u001b[0m\u001b[0;34m\u001b[0m\u001b[0;34m\u001b[0m\u001b[0m\n\u001b[1;32m    654\u001b[0m                 \u001b[0mself\u001b[0m\u001b[0;34m.\u001b[0m\u001b[0m_model\u001b[0m\u001b[0;34m,\u001b[0m\u001b[0;34m\u001b[0m\u001b[0;34m\u001b[0m\u001b[0m\n",
      "\u001b[0;32m/opt/conda/lib/python3.8/site-packages/numpyro/infer/util.py\u001b[0m in \u001b[0;36minitialize_model\u001b[0;34m(rng_key, model, init_strategy, dynamic_args, model_args, model_kwargs, forward_mode_differentiation, validate_grad)\u001b[0m\n\u001b[1;32m    651\u001b[0m         \u001b[0minit_strategy\u001b[0m \u001b[0;34m=\u001b[0m \u001b[0m_init_to_unconstrained_value\u001b[0m\u001b[0;34m(\u001b[0m\u001b[0mvalues\u001b[0m\u001b[0;34m=\u001b[0m\u001b[0munconstrained_values\u001b[0m\u001b[0;34m)\u001b[0m\u001b[0;34m\u001b[0m\u001b[0;34m\u001b[0m\u001b[0m\n\u001b[1;32m    652\u001b[0m     \u001b[0mprototype_params\u001b[0m \u001b[0;34m=\u001b[0m \u001b[0mtransform_fn\u001b[0m\u001b[0;34m(\u001b[0m\u001b[0minv_transforms\u001b[0m\u001b[0;34m,\u001b[0m \u001b[0mconstrained_values\u001b[0m\u001b[0;34m,\u001b[0m \u001b[0minvert\u001b[0m\u001b[0;34m=\u001b[0m\u001b[0;32mTrue\u001b[0m\u001b[0;34m)\u001b[0m\u001b[0;34m\u001b[0m\u001b[0;34m\u001b[0m\u001b[0m\n\u001b[0;32m--> 653\u001b[0;31m     (init_params, pe, grad), is_valid = find_valid_initial_params(\n\u001b[0m\u001b[1;32m    654\u001b[0m         \u001b[0mrng_key\u001b[0m\u001b[0;34m,\u001b[0m\u001b[0;34m\u001b[0m\u001b[0;34m\u001b[0m\u001b[0m\n\u001b[1;32m    655\u001b[0m         substitute(\n",
      "\u001b[0;32m/opt/conda/lib/python3.8/site-packages/numpyro/infer/util.py\u001b[0m in \u001b[0;36mfind_valid_initial_params\u001b[0;34m(rng_key, model, init_strategy, enum, model_args, model_kwargs, prototype_params, forward_mode_differentiation, validate_grad)\u001b[0m\n\u001b[1;32m    392\u001b[0m     \u001b[0;31m# Handle possible vectorization\u001b[0m\u001b[0;34m\u001b[0m\u001b[0;34m\u001b[0m\u001b[0;34m\u001b[0m\u001b[0m\n\u001b[1;32m    393\u001b[0m     \u001b[0;32mif\u001b[0m \u001b[0mrng_key\u001b[0m\u001b[0;34m.\u001b[0m\u001b[0mndim\u001b[0m \u001b[0;34m==\u001b[0m \u001b[0;36m1\u001b[0m\u001b[0;34m:\u001b[0m\u001b[0;34m\u001b[0m\u001b[0;34m\u001b[0m\u001b[0m\n\u001b[0;32m--> 394\u001b[0;31m         (init_params, pe, z_grad), is_valid = _find_valid_params(\n\u001b[0m\u001b[1;32m    395\u001b[0m             \u001b[0mrng_key\u001b[0m\u001b[0;34m,\u001b[0m \u001b[0mexit_early\u001b[0m\u001b[0;34m=\u001b[0m\u001b[0;32mTrue\u001b[0m\u001b[0;34m\u001b[0m\u001b[0;34m\u001b[0m\u001b[0m\n\u001b[1;32m    396\u001b[0m         )\n",
      "\u001b[0;32m/opt/conda/lib/python3.8/site-packages/numpyro/infer/util.py\u001b[0m in \u001b[0;36m_find_valid_params\u001b[0;34m(rng_key, exit_early)\u001b[0m\n\u001b[1;32m    378\u001b[0m             \u001b[0;31m# Early return if valid params found. This is only helpful for single chain,\u001b[0m\u001b[0;34m\u001b[0m\u001b[0;34m\u001b[0m\u001b[0;34m\u001b[0m\u001b[0m\n\u001b[1;32m    379\u001b[0m             \u001b[0;31m# where we can avoid compiling body_fn in while_loop.\u001b[0m\u001b[0;34m\u001b[0m\u001b[0;34m\u001b[0m\u001b[0;34m\u001b[0m\u001b[0m\n\u001b[0;32m--> 380\u001b[0;31m             \u001b[0m_\u001b[0m\u001b[0;34m,\u001b[0m \u001b[0m_\u001b[0m\u001b[0;34m,\u001b[0m \u001b[0;34m(\u001b[0m\u001b[0minit_params\u001b[0m\u001b[0;34m,\u001b[0m \u001b[0mpe\u001b[0m\u001b[0;34m,\u001b[0m \u001b[0mz_grad\u001b[0m\u001b[0;34m)\u001b[0m\u001b[0;34m,\u001b[0m \u001b[0mis_valid\u001b[0m \u001b[0;34m=\u001b[0m \u001b[0minit_state\u001b[0m \u001b[0;34m=\u001b[0m \u001b[0mbody_fn\u001b[0m\u001b[0;34m(\u001b[0m\u001b[0minit_state\u001b[0m\u001b[0;34m)\u001b[0m\u001b[0;34m\u001b[0m\u001b[0;34m\u001b[0m\u001b[0m\n\u001b[0m\u001b[1;32m    381\u001b[0m             \u001b[0;32mif\u001b[0m \u001b[0mnot_jax_tracer\u001b[0m\u001b[0;34m(\u001b[0m\u001b[0mis_valid\u001b[0m\u001b[0;34m)\u001b[0m\u001b[0;34m:\u001b[0m\u001b[0;34m\u001b[0m\u001b[0;34m\u001b[0m\u001b[0m\n\u001b[1;32m    382\u001b[0m                 \u001b[0;32mif\u001b[0m \u001b[0mdevice_get\u001b[0m\u001b[0;34m(\u001b[0m\u001b[0mis_valid\u001b[0m\u001b[0;34m)\u001b[0m\u001b[0;34m:\u001b[0m\u001b[0;34m\u001b[0m\u001b[0;34m\u001b[0m\u001b[0m\n",
      "\u001b[0;32m/opt/conda/lib/python3.8/site-packages/numpyro/infer/util.py\u001b[0m in \u001b[0;36mbody_fn\u001b[0;34m(state)\u001b[0m\n\u001b[1;32m    362\u001b[0m                 \u001b[0mz_grad\u001b[0m \u001b[0;34m=\u001b[0m \u001b[0mjacfwd\u001b[0m\u001b[0;34m(\u001b[0m\u001b[0mpotential_fn\u001b[0m\u001b[0;34m)\u001b[0m\u001b[0;34m(\u001b[0m\u001b[0mparams\u001b[0m\u001b[0;34m)\u001b[0m\u001b[0;34m\u001b[0m\u001b[0;34m\u001b[0m\u001b[0m\n\u001b[1;32m    363\u001b[0m             \u001b[0;32melse\u001b[0m\u001b[0;34m:\u001b[0m\u001b[0;34m\u001b[0m\u001b[0;34m\u001b[0m\u001b[0m\n\u001b[0;32m--> 364\u001b[0;31m                 \u001b[0mpe\u001b[0m\u001b[0;34m,\u001b[0m \u001b[0mz_grad\u001b[0m \u001b[0;34m=\u001b[0m \u001b[0mvalue_and_grad\u001b[0m\u001b[0;34m(\u001b[0m\u001b[0mpotential_fn\u001b[0m\u001b[0;34m)\u001b[0m\u001b[0;34m(\u001b[0m\u001b[0mparams\u001b[0m\u001b[0;34m)\u001b[0m\u001b[0;34m\u001b[0m\u001b[0;34m\u001b[0m\u001b[0m\n\u001b[0m\u001b[1;32m    365\u001b[0m             \u001b[0mz_grad_flat\u001b[0m \u001b[0;34m=\u001b[0m \u001b[0mravel_pytree\u001b[0m\u001b[0;34m(\u001b[0m\u001b[0mz_grad\u001b[0m\u001b[0;34m)\u001b[0m\u001b[0;34m[\u001b[0m\u001b[0;36m0\u001b[0m\u001b[0;34m]\u001b[0m\u001b[0;34m\u001b[0m\u001b[0;34m\u001b[0m\u001b[0m\n\u001b[1;32m    366\u001b[0m             \u001b[0mis_valid\u001b[0m \u001b[0;34m=\u001b[0m \u001b[0mjnp\u001b[0m\u001b[0;34m.\u001b[0m\u001b[0misfinite\u001b[0m\u001b[0;34m(\u001b[0m\u001b[0mpe\u001b[0m\u001b[0;34m)\u001b[0m \u001b[0;34m&\u001b[0m \u001b[0mjnp\u001b[0m\u001b[0;34m.\u001b[0m\u001b[0mall\u001b[0m\u001b[0;34m(\u001b[0m\u001b[0mjnp\u001b[0m\u001b[0;34m.\u001b[0m\u001b[0misfinite\u001b[0m\u001b[0;34m(\u001b[0m\u001b[0mz_grad_flat\u001b[0m\u001b[0;34m)\u001b[0m\u001b[0;34m)\u001b[0m\u001b[0;34m\u001b[0m\u001b[0;34m\u001b[0m\u001b[0m\n",
      "    \u001b[0;31m[... skipping hidden 8 frame]\u001b[0m\n",
      "\u001b[0;32m/opt/conda/lib/python3.8/site-packages/numpyro/infer/util.py\u001b[0m in \u001b[0;36mpotential_energy\u001b[0;34m(model, model_args, model_kwargs, params, enum)\u001b[0m\n\u001b[1;32m    244\u001b[0m     )\n\u001b[1;32m    245\u001b[0m     \u001b[0;31m# no param is needed for log_density computation because we already substitute\u001b[0m\u001b[0;34m\u001b[0m\u001b[0;34m\u001b[0m\u001b[0;34m\u001b[0m\u001b[0m\n\u001b[0;32m--> 246\u001b[0;31m     log_joint, model_trace = log_density_(\n\u001b[0m\u001b[1;32m    247\u001b[0m         \u001b[0msubstituted_model\u001b[0m\u001b[0;34m,\u001b[0m \u001b[0mmodel_args\u001b[0m\u001b[0;34m,\u001b[0m \u001b[0mmodel_kwargs\u001b[0m\u001b[0;34m,\u001b[0m \u001b[0;34m{\u001b[0m\u001b[0;34m}\u001b[0m\u001b[0;34m\u001b[0m\u001b[0;34m\u001b[0m\u001b[0m\n\u001b[1;32m    248\u001b[0m     )\n",
      "\u001b[0;32m/opt/conda/lib/python3.8/site-packages/numpyro/infer/util.py\u001b[0m in \u001b[0;36mlog_density\u001b[0;34m(model, model_args, model_kwargs, params)\u001b[0m\n\u001b[1;32m     82\u001b[0m                         )\n\u001b[1;32m     83\u001b[0m                     )\n\u001b[0;32m---> 84\u001b[0;31m                 \u001b[0mlog_prob\u001b[0m \u001b[0;34m=\u001b[0m \u001b[0msite\u001b[0m\u001b[0;34m[\u001b[0m\u001b[0;34m\"fn\"\u001b[0m\u001b[0;34m]\u001b[0m\u001b[0;34m.\u001b[0m\u001b[0mlog_prob\u001b[0m\u001b[0;34m(\u001b[0m\u001b[0mvalue\u001b[0m\u001b[0;34m)\u001b[0m\u001b[0;34m\u001b[0m\u001b[0;34m\u001b[0m\u001b[0m\n\u001b[0m\u001b[1;32m     85\u001b[0m \u001b[0;34m\u001b[0m\u001b[0m\n\u001b[1;32m     86\u001b[0m             \u001b[0;32mif\u001b[0m \u001b[0;34m(\u001b[0m\u001b[0mscale\u001b[0m \u001b[0;32mis\u001b[0m \u001b[0;32mnot\u001b[0m \u001b[0;32mNone\u001b[0m\u001b[0;34m)\u001b[0m \u001b[0;32mand\u001b[0m \u001b[0;34m(\u001b[0m\u001b[0;32mnot\u001b[0m \u001b[0mis_identically_one\u001b[0m\u001b[0;34m(\u001b[0m\u001b[0mscale\u001b[0m\u001b[0;34m)\u001b[0m\u001b[0;34m)\u001b[0m\u001b[0;34m:\u001b[0m\u001b[0;34m\u001b[0m\u001b[0;34m\u001b[0m\u001b[0m\n",
      "\u001b[0;32m/opt/conda/lib/python3.8/site-packages/numpyro/distributions/util.py\u001b[0m in \u001b[0;36mwrapper\u001b[0;34m(self, *args, **kwargs)\u001b[0m\n\u001b[1;32m    612\u001b[0m \u001b[0;32mdef\u001b[0m \u001b[0mvalidate_sample\u001b[0m\u001b[0;34m(\u001b[0m\u001b[0mlog_prob_fn\u001b[0m\u001b[0;34m)\u001b[0m\u001b[0;34m:\u001b[0m\u001b[0;34m\u001b[0m\u001b[0;34m\u001b[0m\u001b[0m\n\u001b[1;32m    613\u001b[0m     \u001b[0;32mdef\u001b[0m \u001b[0mwrapper\u001b[0m\u001b[0;34m(\u001b[0m\u001b[0mself\u001b[0m\u001b[0;34m,\u001b[0m \u001b[0;34m*\u001b[0m\u001b[0margs\u001b[0m\u001b[0;34m,\u001b[0m \u001b[0;34m**\u001b[0m\u001b[0mkwargs\u001b[0m\u001b[0;34m)\u001b[0m\u001b[0;34m:\u001b[0m\u001b[0;34m\u001b[0m\u001b[0;34m\u001b[0m\u001b[0m\n\u001b[0;32m--> 614\u001b[0;31m         \u001b[0mlog_prob\u001b[0m \u001b[0;34m=\u001b[0m \u001b[0mlog_prob_fn\u001b[0m\u001b[0;34m(\u001b[0m\u001b[0mself\u001b[0m\u001b[0;34m,\u001b[0m \u001b[0;34m*\u001b[0m\u001b[0margs\u001b[0m\u001b[0;34m,\u001b[0m \u001b[0;34m*\u001b[0m\u001b[0mkwargs\u001b[0m\u001b[0;34m)\u001b[0m\u001b[0;34m\u001b[0m\u001b[0;34m\u001b[0m\u001b[0m\n\u001b[0m\u001b[1;32m    615\u001b[0m         \u001b[0;32mif\u001b[0m \u001b[0mself\u001b[0m\u001b[0;34m.\u001b[0m\u001b[0m_validate_args\u001b[0m\u001b[0;34m:\u001b[0m\u001b[0;34m\u001b[0m\u001b[0;34m\u001b[0m\u001b[0m\n\u001b[1;32m    616\u001b[0m             \u001b[0mvalue\u001b[0m \u001b[0;34m=\u001b[0m \u001b[0mkwargs\u001b[0m\u001b[0;34m[\u001b[0m\u001b[0;34m\"value\"\u001b[0m\u001b[0;34m]\u001b[0m \u001b[0;32mif\u001b[0m \u001b[0;34m\"value\"\u001b[0m \u001b[0;32min\u001b[0m \u001b[0mkwargs\u001b[0m \u001b[0;32melse\u001b[0m \u001b[0margs\u001b[0m\u001b[0;34m[\u001b[0m\u001b[0;36m0\u001b[0m\u001b[0;34m]\u001b[0m\u001b[0;34m\u001b[0m\u001b[0;34m\u001b[0m\u001b[0m\n",
      "\u001b[0;32m/opt/conda/lib/python3.8/site-packages/numpyro/distributions/discrete.py\u001b[0m in \u001b[0;36mlog_prob\u001b[0;34m(self, value)\u001b[0m\n\u001b[1;32m    317\u001b[0m         \u001b[0mlogits\u001b[0m \u001b[0;34m=\u001b[0m \u001b[0mself\u001b[0m\u001b[0;34m.\u001b[0m\u001b[0mlogits\u001b[0m\u001b[0;34m\u001b[0m\u001b[0;34m\u001b[0m\u001b[0m\n\u001b[1;32m    318\u001b[0m         \u001b[0mlog_pmf\u001b[0m \u001b[0;34m=\u001b[0m \u001b[0mjnp\u001b[0m\u001b[0;34m.\u001b[0m\u001b[0mbroadcast_to\u001b[0m\u001b[0;34m(\u001b[0m\u001b[0mlogits\u001b[0m\u001b[0;34m,\u001b[0m \u001b[0mbatch_shape\u001b[0m \u001b[0;34m+\u001b[0m \u001b[0mjnp\u001b[0m\u001b[0;34m.\u001b[0m\u001b[0mshape\u001b[0m\u001b[0;34m(\u001b[0m\u001b[0mlogits\u001b[0m\u001b[0;34m)\u001b[0m\u001b[0;34m[\u001b[0m\u001b[0;34m-\u001b[0m\u001b[0;36m1\u001b[0m\u001b[0;34m:\u001b[0m\u001b[0;34m]\u001b[0m\u001b[0;34m)\u001b[0m\u001b[0;34m\u001b[0m\u001b[0;34m\u001b[0m\u001b[0m\n\u001b[0;32m--> 319\u001b[0;31m         \u001b[0;32mreturn\u001b[0m \u001b[0mjnp\u001b[0m\u001b[0;34m.\u001b[0m\u001b[0mtake_along_axis\u001b[0m\u001b[0;34m(\u001b[0m\u001b[0mlog_pmf\u001b[0m\u001b[0;34m,\u001b[0m \u001b[0mvalue\u001b[0m\u001b[0;34m,\u001b[0m \u001b[0maxis\u001b[0m\u001b[0;34m=\u001b[0m\u001b[0;34m-\u001b[0m\u001b[0;36m1\u001b[0m\u001b[0;34m)\u001b[0m\u001b[0;34m[\u001b[0m\u001b[0;34m...\u001b[0m\u001b[0;34m,\u001b[0m \u001b[0;36m0\u001b[0m\u001b[0;34m]\u001b[0m\u001b[0;34m\u001b[0m\u001b[0;34m\u001b[0m\u001b[0m\n\u001b[0m\u001b[1;32m    320\u001b[0m \u001b[0;34m\u001b[0m\u001b[0m\n\u001b[1;32m    321\u001b[0m     \u001b[0;34m@\u001b[0m\u001b[0mlazy_property\u001b[0m\u001b[0;34m\u001b[0m\u001b[0;34m\u001b[0m\u001b[0m\n",
      "    \u001b[0;31m[... skipping hidden 20 frame]\u001b[0m\n",
      "\u001b[0;32m/opt/conda/lib/python3.8/site-packages/jax/_src/numpy/lax_numpy.py\u001b[0m in \u001b[0;36mtake_along_axis\u001b[0;34m(arr, indices, axis, mode)\u001b[0m\n\u001b[1;32m   3472\u001b[0m   \u001b[0mindex_dtype\u001b[0m \u001b[0;34m=\u001b[0m \u001b[0mdtypes\u001b[0m\u001b[0;34m.\u001b[0m\u001b[0mdtype\u001b[0m\u001b[0;34m(\u001b[0m\u001b[0mindices\u001b[0m\u001b[0;34m)\u001b[0m\u001b[0;34m\u001b[0m\u001b[0;34m\u001b[0m\u001b[0m\n\u001b[1;32m   3473\u001b[0m   \u001b[0;32mif\u001b[0m \u001b[0;32mnot\u001b[0m \u001b[0mdtypes\u001b[0m\u001b[0;34m.\u001b[0m\u001b[0missubdtype\u001b[0m\u001b[0;34m(\u001b[0m\u001b[0mindex_dtype\u001b[0m\u001b[0;34m,\u001b[0m \u001b[0minteger\u001b[0m\u001b[0;34m)\u001b[0m\u001b[0;34m:\u001b[0m\u001b[0;34m\u001b[0m\u001b[0;34m\u001b[0m\u001b[0m\n\u001b[0;32m-> 3474\u001b[0;31m     raise TypeError(\"take_along_axis indices must be of integer type, got \"\n\u001b[0m\u001b[1;32m   3475\u001b[0m                     f\"{str(index_dtype)}\")\n\u001b[1;32m   3476\u001b[0m   \u001b[0;32mif\u001b[0m \u001b[0maxis\u001b[0m \u001b[0;32mis\u001b[0m \u001b[0;32mNone\u001b[0m\u001b[0;34m:\u001b[0m\u001b[0;34m\u001b[0m\u001b[0;34m\u001b[0m\u001b[0m\n",
      "\u001b[0;31mTypeError\u001b[0m: take_along_axis indices must be of integer type, got float32"
     ]
    }
   ],
   "source": [
    "mcmc_test = MCMC(NUTS(rounding_mixture_model_reg, target_accept_prob=.90), num_warmup =1000, num_samples = 1000, num_chains=1)\n",
    "mcmc_test.run(random.PRNGKey(0), x_obs)   "
   ]
  },
  {
   "cell_type": "code",
   "execution_count": null,
   "id": "frequent-foster",
   "metadata": {},
   "outputs": [],
   "source": [
    "mcmc_test.print_summary()"
   ]
  },
  {
   "cell_type": "code",
   "execution_count": 261,
   "id": "psychological-palestine",
   "metadata": {},
   "outputs": [
    {
     "data": {
      "text/plain": [
       "DeviceArray([0.9999999], dtype=float32)"
      ]
     },
     "execution_count": 261,
     "metadata": {},
     "output_type": "execute_result"
    }
   ],
   "source": [
    "dist.Dirichlet(jnp.ones(1)).sample(random.PRNGKey(0))"
   ]
  },
  {
   "cell_type": "code",
   "execution_count": 296,
   "id": "aware-freeze",
   "metadata": {},
   "outputs": [
    {
     "name": "stdout",
     "output_type": "stream",
     "text": [
      "(2, 3)\n",
      "(2, 3, 100)\n"
     ]
    },
    {
     "data": {
      "text/plain": [
       "<AxesSubplot:>"
      ]
     },
     "execution_count": 296,
     "metadata": {},
     "output_type": "execute_result"
    },
    {
     "data": {
      "image/png": "[encoded data removed]",
      "text/plain": [
       "<Figure size 432x288 with 1 Axes>"
      ]
     },
     "metadata": {
      "needs_background": "light"
     },
     "output_type": "display_data"
    }
   ],
   "source": [
    "steps = [1,5]\n",
    "x_true = jnp.array([.11,.5,.7])\n",
    "z = jnp.stack([ vec_cat_probs_spread(x_true, .02, step_size, max_size=100)  for step_size in steps])\n",
    "theta = jnp.array([.6,.4])\n",
    "theta_vec = jnp.reshape(theta, (2,-1))\n",
    "\n",
    "test_obj = theta_vec.repeat(3,axis=-1)\n",
    "print(test_obj.shape)\n",
    "print(z.shape)\n",
    "test_obj = jnp.reshape(test_obj.repeat(100, axis=-1), (2,-1,100))\n",
    "\n",
    "cat_preds = jnp.sum(z*test_obj, axis=-3)\n",
    "jnp.sum(cat_preds, axis=-1) # sum to 1 which seems right ...\n",
    "\n",
    "sns.lineplot(x=jnp.arange(0,100), y=z[0,0,:])\n",
    "sns.lineplot(x=jnp.arange(0,100), y=z[1,0,:])\n",
    "sns.lineplot(x=jnp.arange(0,100), y=cat_preds[0,:])\n"
   ]
  },
  {
   "cell_type": "code",
   "execution_count": 274,
   "id": "million-nepal",
   "metadata": {},
   "outputs": [
    {
     "data": {
      "text/plain": [
       "<AxesSubplot:>"
      ]
     },
     "execution_count": 274,
     "metadata": {},
     "output_type": "execute_result"
    },
    {
     "data": {
      "image/png": "[encoded data removed]",
      "text/plain": [
       "<Figure size 432x288 with 1 Axes>"
      ]
     },
     "metadata": {
      "needs_background": "light"
     },
     "output_type": "display_data"
    }
   ],
   "source": [
    "\n",
    "test_obj = reshape_theta(theta, 3, 2, 100)\n",
    "\n",
    "# cat_preds = jnp.sum(z*test_obj, axis=-3)\n",
    "cat_preds = jnp.exp(jax.scipy.special.logsumexp(jnp.log(z) + jnp.log(test_obj), axis=-3))\n",
    "jnp.sum(cat_preds, axis=-1) # sum to 1 which seems right ...\n",
    "\n",
    "sns.lineplot(x=jnp.arange(0,100), y=z[1,1,:])\n",
    "sns.lineplot(x=jnp.arange(0,100), y=cat_preds[1,:])"
   ]
  },
  {
   "cell_type": "code",
   "execution_count": 437,
   "id": "composite-insurance",
   "metadata": {},
   "outputs": [
    {
     "data": {
      "text/plain": [
       "DeviceArray(0.53077734, dtype=float32)"
      ]
     },
     "execution_count": 437,
     "metadata": {},
     "output_type": "execute_result"
    }
   ],
   "source": [
    "## lots of people saying us kumaraswamy -- but its approximation sucks\n",
    "## based on https://www.johndcook.com/blog/2009/11/24/kumaraswamy-distribution/ <-- warns it might be poor\n",
    "def beta_to_kumaraswamy(a, b):\n",
    "    if (a>1.) + (b>1.)==2.:\n",
    "        beta_mode = (a-1.) / (a + b - 2.)\n",
    "    else:\n",
    "        beta_mode = np.select(\n",
    "            [(a <= 1.) + (b > 1.)==2, (b <= 1.) + (a > 1)==2, (a<1.) + (b<1.)==2 ],\n",
    "            [0, 1., 1/2],\n",
    "            default = 1.\n",
    "        )\n",
    "    a_k = jnp.array(a)\n",
    "    b_k = 1/a+(1/a)*((a-1)/jnp.power(beta_mode, a))\n",
    "    return a_k, b_k\n",
    "\n",
    "def kumaraswamy_cdf(a, b, x):\n",
    "#     1 – (1 – x^a)^b\n",
    "    inner = 1 - jnp.power(x,a)\n",
    "    return 1 - jnp.power(inner, b)\n",
    "\n",
    "def beta_approx_cdf_kumaraswamy(a,b,x):\n",
    "    a_k, b_k = beta_to_kumaraswamy(a, b)\n",
    "    \n",
    "    return kumaraswamy_cdf(a_k, b_k, x)\n",
    "\n",
    "beta_approx_cdf_kumaraswamy(3, 3, .5)"
   ]
  },
  {
   "cell_type": "code",
   "execution_count": 453,
   "id": "offshore-northern",
   "metadata": {},
   "outputs": [
    {
     "name": "stdout",
     "output_type": "stream",
     "text": [
      "0.999913\n",
      "0.9935672\n",
      "0.9804687\n"
     ]
    }
   ],
   "source": [
    "a = .2*10\n",
    "b = .8*10\n",
    "x = .5\n",
    "print(beta_approx_cdf_kumaraswamy(a, b, x))\n",
    "print(beta_approx_cdf(a,b).cdf(x))\n",
    "print(dist.Beta(a,b).cdf(x))"
   ]
  },
  {
   "cell_type": "code",
   "execution_count": 462,
   "id": "geographic-stack",
   "metadata": {},
   "outputs": [
    {
     "data": {
      "text/plain": [
       "DeviceArray(1., dtype=float32)"
      ]
     },
     "execution_count": 462,
     "metadata": {},
     "output_type": "execute_result"
    }
   ],
   "source": [
    "jnp.sum(categorical_probs(100.,3., step_size=5))"
   ]
  },
  {
   "cell_type": "code",
   "execution_count": 623,
   "id": "massive-amount",
   "metadata": {},
   "outputs": [
    {
     "data": {
      "text/plain": [
       "[DeviceArray([[1],\n",
       "              [1]], dtype=int32),\n",
       " DeviceArray([[2],\n",
       "              [2]], dtype=int32),\n",
       " DeviceArray([[3],\n",
       "              [3]], dtype=int32),\n",
       " DeviceArray([[4],\n",
       "              [4]], dtype=int32)]"
      ]
     },
     "execution_count": 623,
     "metadata": {},
     "output_type": "execute_result"
    }
   ],
   "source": [
    "def spread_vec(x, step_size):\n",
    "    n_vecs = x.shape[-2]\n",
    "    print(n_vecs)\n",
    "    base_steps = x.shape[-1]\n",
    "    print(base_steps)\n",
    "    x_split = jnp.array(jnp.split(x, base_steps, axis=-1))\n",
    "    x_split = jnp.squeeze(x_split)\n",
    "    print(x_split.shape)\n",
    "#     pad = jnp.zeros([step_size-1, n_vecs])\n",
    "#     pad = jnp.zeros([n_vecs, step_size])\n",
    "#     print(pad.shape)\n",
    "    padded = jnp.pad(x_split, pad_width=(0,step_size-1), constant_values=0.)\n",
    "#     return jnp.concatenate((x_split,pad), axis=-1)\n",
    "    return padded\n",
    "#     return(padded)\n",
    "#     return jnp.stack([jnp.concatenate((i,pad)) for i in x_split]).flatten()\n",
    "\n",
    "## getting all confused \n",
    "a = jnp.array([[1,2,3,4],[1,2,3,4]] )\n",
    "b = jnp.split(a, 4, axis=-1)\n",
    "b\n",
    "# c = [jnp.split(jnp.squeeze(i),4) for i in b]\n",
    "# pad = jnp.zeros(4)\n",
    "\n",
    "# jnp.stack([jnp.concatenate((i[j],pad)) for i in c for j in range(0,4)])\n",
    "\n",
    "# pad = jnp.zeros([4,1])\n",
    "# jnp.concatenate((b[,0],))\n",
    "# z\n",
    "# w = jnp.pad(z, pad_width=[0,5], constant_values=0.)\n",
    "\n"
   ]
  },
  {
   "cell_type": "code",
   "execution_count": 713,
   "id": "radical-chinese",
   "metadata": {},
   "outputs": [
    {
     "data": {
      "text/plain": [
       "Buffer([2, 3], dtype=int32)"
      ]
     },
     "execution_count": 713,
     "metadata": {},
     "output_type": "execute_result"
    }
   ],
   "source": [
    "dist.Categorical(jnp.array([[.1,.2,.3,.6], [.1,.2,.3,.6]])).sample(random.PRNGKey(1))"
   ]
  },
  {
   "cell_type": "code",
   "execution_count": 45,
   "id": "smaller-wings",
   "metadata": {},
   "outputs": [
    {
     "name": "stderr",
     "output_type": "stream",
     "text": [
      "/opt/conda/lib/python3.8/site-packages/seaborn/_decorators.py:36: FutureWarning: Pass the following variables as keyword args: x, y. From version 0.12, the only valid positional argument will be `data`, and passing other arguments without an explicit keyword will result in an error or misinterpretation.\n",
      "  warnings.warn(\n"
     ]
    },
    {
     "data": {
      "text/plain": [
       "<AxesSubplot:>"
      ]
     },
     "execution_count": 45,
     "metadata": {},
     "output_type": "execute_result"
    },
    {
     "data": {
      "image/png": "[encoded data removed]",
      "text/plain": [
       "<Figure size 432x288 with 1 Axes>"
      ]
     },
     "metadata": {
      "needs_background": "light"
     },
     "output_type": "display_data"
    }
   ],
   "source": [
    "# smaller, narrower new data rounded to 5\n",
    "\n",
    "n_obs = 100\n",
    "rg = default_rng(12345)\n",
    "\n",
    "def round_to_one(x):\n",
    "    return jnp.round(x,0)\n",
    "\n",
    "def round_to_five(x):\n",
    "    return jnp.round(x/5,0)*5\n",
    "\n",
    "def round_to_ten(x):\n",
    "    return jnp.round(x/10,0)*10\n",
    "\n",
    "def round_to_twenty(x):\n",
    "    return jnp.round(x/20,0)*20\n",
    "\n",
    "x_true = rg.beta(.72*100,(1-.72)*100,n_obs)*100\n",
    "x_obs = round_to_ten(x_true)\n",
    "\n",
    "\n",
    "sns.scatterplot(x_true, x_obs,alpha=.5)"
   ]
  },
  {
   "cell_type": "markdown",
   "id": "latest-dressing",
   "metadata": {},
   "source": [
    "# Gelman's approach\n",
    "\n",
    "https://mc-stan.org/docs/2_28/stan-users-guide/bayesian-measurement-error-model.html"
   ]
  },
  {
   "cell_type": "code",
   "execution_count": 5,
   "id": "native-series",
   "metadata": {},
   "outputs": [
    {
     "name": "stderr",
     "output_type": "stream",
     "text": [
      "sample: 100%|██████████| 2000/2000 [00:03<00:00, 562.06it/s, 15 steps of size 3.93e-01. acc. prob=0.82] \n"
     ]
    }
   ],
   "source": [
    "# this is gelman's approach and it works the best\n",
    "# but not clear how to make this work if there are multiple forms of rounding going on.        \n",
    "\n",
    "# def roundmodel_gelman(y_obs): ## this is what I had before ...\n",
    "#     mu = numpyro.sample(\"mu\", dist.Beta(1,1))\n",
    "#     k = numpyro.sample(\"k\", dist.HalfCauchy(10))\n",
    "    \n",
    "#     scale = 10.\n",
    "#     scale_transformed = scale/100.\n",
    "#     y_obs_transformed = y_obs/100.    \n",
    "    \n",
    "#     with numpyro.plate(\"data\", y_obs.shape[0]):\n",
    "\n",
    "#         y_err = numpyro.sample(\"y_err\", dist.Beta(1,1))\n",
    "#         y_err = (y_err - .50)*scale_transformed\n",
    "\n",
    "#         y_true = numpyro.sample(\"y_true\", dist.Beta(mu*k, (1-mu)*k))\n",
    "#         numpyro.sample(\"y_hat\", dist.Normal(y_true + y_err, .01), obs=y_obs_transformed)\n",
    " \n",
    "    \n",
    "def roundmodel_gelman(y_obs): # this is right?\n",
    "    mu = numpyro.sample(\"mu\", dist.Beta(1,1))\n",
    "    k = numpyro.sample(\"k\", dist.HalfCauchy(10))\n",
    "    \n",
    "    scale = 10.\n",
    "    scale_transformed = scale/100.\n",
    "    y_obs_transformed = y_obs/100.    \n",
    "    \n",
    "    with numpyro.plate(\"data\", y_obs.shape[0]):\n",
    "\n",
    "        y_err = numpyro.sample(\"y_err\", dist.Beta(1,1))\n",
    "        y_err = (y_err - .50)*scale_transformed\n",
    "        z = y_obs_transformed + y_err\n",
    "\n",
    "        y_true = numpyro.sample(\"y_true\", dist.Beta(mu*k, (1-mu)*k), obs=z)\n",
    "        \n",
    "\n",
    "mcmc_test = MCMC(NUTS(roundmodel_gelman, target_accept_prob=.80), \n",
    "               num_warmup=1_000, \n",
    "               num_samples=1_000, \n",
    "               num_chains=1)\n",
    "\n",
    "mcmc_test.run(random.PRNGKey(0), x_obs)   \n",
    "# mcmc_test.print_summary()"
   ]
  },
  {
   "cell_type": "code",
   "execution_count": 6,
   "id": "incorporate-hardwood",
   "metadata": {},
   "outputs": [],
   "source": [
    "# mcmc_test.print_summary()"
   ]
  },
  {
   "cell_type": "code",
   "execution_count": 7,
   "id": "split-documentary",
   "metadata": {},
   "outputs": [],
   "source": [
    "%run -i 'model_helpers.py'\n",
    "az_test = make_arviz_data(mcmc_test, roundmodel_gelman, x_obs) # see model_helpers.py\n"
   ]
  },
  {
   "cell_type": "code",
   "execution_count": 8,
   "id": "juvenile-iraqi",
   "metadata": {},
   "outputs": [
    {
     "data": {
      "text/plain": [
       "<AxesSubplot:xlabel='y_true / y_true'>"
      ]
     },
     "execution_count": 8,
     "metadata": {},
     "output_type": "execute_result"
    },
    {
     "data": {
      "image/png": "[encoded data removed]",
      "text/plain": [
       "<Figure size 432x288 with 1 Axes>"
      ]
     },
     "metadata": {
      "needs_background": "light"
     },
     "output_type": "display_data"
    }
   ],
   "source": [
    "# az_test.posterior[\"yhat_rounded\"] = az_test.posterior_predictive.y_true + az_test.posterior.y_err\n",
    "az.plot_ppc(az_test)"
   ]
  },
  {
   "cell_type": "code",
   "execution_count": 49,
   "id": "accessible-engineer",
   "metadata": {},
   "outputs": [],
   "source": [
    "def roundmodel_gelman_discrete(y_obs): # updated this to match above\n",
    "    mu = numpyro.sample(\"mu\", dist.Beta(1,1))\n",
    "    k = numpyro.sample(\"k\", dist.HalfCauchy(10))\n",
    "    scales = jnp.array([1., 5., 10.])\n",
    "    theta = numpyro.sample(\"theta\", dist.Dirichlet(jnp.ones(len(scales))))\n",
    "\n",
    "    y_obs_transformed = y_obs/100.   \n",
    "\n",
    "    with numpyro.plate(\"data\", y_obs.shape[0]):\n",
    "        ## need some way to get this to update theta\n",
    "        z = numpyro.sample(\"z\", dist.Categorical(theta))\n",
    "    \n",
    "        rem_5 = jnp.remainder(y_obs, 5.)\n",
    "        rem_10 = jnp.remainder(y_obs, 10.)\n",
    "        z = jnp.where(rem_5!=0, 0, jnp.where(rem_10!=0, 1, z)) # not converging\n",
    "\n",
    "        scale_transformed = scales[z]/100.\n",
    "\n",
    "        y_err = numpyro.sample(\"y_err\", dist.Beta(1,2)) # non-uniform\n",
    "        y_err = (y_err - .50)*scale_transformed\n",
    "\n",
    "        y_true = numpyro.sample(\"y_true\", dist.Beta(mu*k, (1-mu)*k), obs=y_obs_transformed + y_err)\n"
   ]
  },
  {
   "cell_type": "code",
   "execution_count": 50,
   "id": "infinite-spice",
   "metadata": {},
   "outputs": [
    {
     "name": "stderr",
     "output_type": "stream",
     "text": [
      "sample: 100%|██████████| 4000/4000 [00:09<00:00, 433.23it/s, 31 steps of size 1.38e-01. acc. prob=0.94]\n"
     ]
    }
   ],
   "source": [
    "kernel = DiscreteHMCGibbs(NUTS(roundmodel_gelman_discrete), modified=True)\n",
    "mcmc_test = MCMC(kernel, \n",
    "               num_warmup=2_000, \n",
    "               num_samples=2_000, \n",
    "               num_chains=1)\n",
    "\n",
    "mcmc_test.run(random.PRNGKey(0), x_obs)"
   ]
  },
  {
   "cell_type": "code",
   "execution_count": 51,
   "id": "driven-texas",
   "metadata": {},
   "outputs": [
    {
     "name": "stdout",
     "output_type": "stream",
     "text": [
      "\n",
      "                mean       std    median      5.0%     95.0%     n_eff     r_hat\n",
      "         k     81.98     14.03     80.74     59.51    105.28    386.43      1.00\n",
      "        mu      0.71      0.01      0.71      0.70      0.72    244.03      1.00\n",
      "  theta[0]      0.47      0.28      0.46      0.00      0.89     28.70      1.00\n",
      "  theta[1]      0.53      0.28      0.54      0.11      1.00     28.70      1.00\n",
      "  y_err[0]      0.36      0.23      0.34      0.00      0.69   4171.34      1.00\n",
      "  y_err[1]      0.21      0.18      0.17      0.00      0.47   3493.17      1.00\n",
      "  y_err[2]      0.51      0.25      0.52      0.11      0.90   2454.09      1.00\n",
      "  y_err[3]      0.36      0.23      0.34      0.00      0.69   4152.13      1.00\n",
      "  y_err[4]      0.36      0.23      0.34      0.00      0.70   4135.51      1.00\n",
      "  y_err[5]      0.37      0.23      0.34      0.00      0.70   4131.06      1.00\n",
      "  y_err[6]      0.22      0.18      0.16      0.00      0.49   2606.95      1.00\n",
      "  y_err[7]      0.36      0.23      0.33      0.00      0.69   3765.30      1.00\n",
      "  y_err[8]      0.21      0.17      0.17      0.00      0.46   2318.67      1.00\n",
      "  y_err[9]      0.22      0.17      0.18      0.00      0.47   3758.73      1.00\n",
      " y_err[10]      0.36      0.23      0.33      0.00      0.69   3615.50      1.00\n",
      " y_err[11]      0.37      0.23      0.35      0.00      0.70   4331.97      1.00\n",
      " y_err[12]      0.36      0.23      0.33      0.00      0.69   4486.49      1.00\n",
      " y_err[13]      0.37      0.24      0.33      0.00      0.71   3937.72      1.00\n",
      " y_err[14]      0.36      0.23      0.33      0.00      0.70   3899.23      1.00\n",
      " y_err[15]      0.36      0.23      0.34      0.00      0.71   5046.76      1.00\n",
      " y_err[16]      0.36      0.23      0.34      0.01      0.70   4975.18      1.00\n",
      " y_err[17]      0.21      0.17      0.17      0.00      0.47   2865.42      1.00\n",
      " y_err[18]      0.21      0.18      0.17      0.00      0.47   3461.80      1.00\n",
      " y_err[19]      0.21      0.17      0.16      0.00      0.46   1986.95      1.00\n",
      " y_err[20]      0.21      0.18      0.16      0.00      0.48   3048.33      1.00\n",
      " y_err[21]      0.36      0.23      0.34      0.00      0.71   4878.55      1.00\n",
      " y_err[22]      0.36      0.23      0.34      0.00      0.70   3686.69      1.00\n",
      " y_err[23]      0.37      0.24      0.34      0.00      0.72   4367.86      1.00\n",
      " y_err[24]      0.36      0.24      0.34      0.00      0.71   3378.04      1.00\n",
      " y_err[25]      0.35      0.23      0.32      0.00      0.69   3854.77      1.00\n",
      " y_err[26]      0.36      0.23      0.33      0.00      0.69   3788.62      1.00\n",
      " y_err[27]      0.36      0.24      0.33      0.00      0.71   5343.01      1.00\n",
      " y_err[28]      0.36      0.23      0.34      0.01      0.72   4317.68      1.00\n",
      " y_err[29]      0.21      0.18      0.17      0.00      0.47   2023.80      1.00\n",
      " y_err[30]      0.36      0.24      0.33      0.00      0.71   4124.90      1.00\n",
      " y_err[31]      0.36      0.23      0.33      0.00      0.70   4395.32      1.00\n",
      " y_err[32]      0.36      0.24      0.33      0.00      0.71   3436.76      1.00\n",
      " y_err[33]      0.22      0.18      0.17      0.00      0.48   2700.91      1.00\n",
      " y_err[34]      0.37      0.23      0.35      0.01      0.73   4674.89      1.00\n",
      " y_err[35]      0.22      0.19      0.17      0.00      0.49   3044.46      1.00\n",
      " y_err[36]      0.36      0.23      0.34      0.00      0.69   3210.67      1.00\n",
      " y_err[37]      0.36      0.23      0.33      0.00      0.69   4280.12      1.00\n",
      " y_err[38]      0.51      0.24      0.52      0.12      0.91   3047.90      1.00\n",
      " y_err[39]      0.36      0.23      0.33      0.00      0.70   4625.58      1.00\n",
      " y_err[40]      0.36      0.23      0.33      0.00      0.69   3763.14      1.00\n",
      " y_err[41]      0.37      0.24      0.33      0.00      0.71   3919.57      1.00\n",
      " y_err[42]      0.36      0.24      0.34      0.00      0.71   3979.81      1.00\n",
      " y_err[43]      0.36      0.23      0.34      0.00      0.70   4531.46      1.00\n",
      " y_err[44]      0.36      0.24      0.34      0.00      0.70   4266.31      1.00\n",
      " y_err[45]      0.36      0.24      0.33      0.00      0.70   4277.61      1.00\n",
      " y_err[46]      0.36      0.23      0.33      0.00      0.69   4820.15      1.00\n",
      " y_err[47]      0.36      0.24      0.33      0.00      0.71   4138.24      1.00\n",
      " y_err[48]      0.37      0.24      0.34      0.00      0.71   5003.33      1.00\n",
      " y_err[49]      0.37      0.23      0.34      0.00      0.70   5026.87      1.00\n",
      " y_err[50]      0.21      0.18      0.16      0.00      0.48   2458.67      1.00\n",
      " y_err[51]      0.36      0.24      0.34      0.00      0.71   3334.13      1.00\n",
      " y_err[52]      0.36      0.22      0.33      0.01      0.68   3571.20      1.00\n",
      " y_err[53]      0.21      0.18      0.16      0.00      0.47   2511.23      1.00\n",
      " y_err[54]      0.36      0.24      0.33      0.00      0.72   4491.33      1.00\n",
      " y_err[55]      0.36      0.23      0.34      0.00      0.70   4162.94      1.00\n",
      " y_err[56]      0.36      0.23      0.34      0.00      0.71   3497.63      1.00\n",
      " y_err[57]      0.36      0.24      0.34      0.00      0.72   4592.71      1.00\n",
      " y_err[58]      0.50      0.25      0.52      0.06      0.87   2720.39      1.00\n",
      " y_err[59]      0.21      0.17      0.17      0.00      0.46   2602.48      1.00\n",
      " y_err[60]      0.37      0.23      0.34      0.00      0.70   4208.40      1.00\n",
      " y_err[61]      0.37      0.24      0.34      0.00      0.70   4287.00      1.00\n",
      " y_err[62]      0.36      0.24      0.34      0.00      0.71   4582.09      1.00\n",
      " y_err[63]      0.36      0.24      0.33      0.00      0.70   5468.65      1.00\n",
      " y_err[64]      0.22      0.18      0.17      0.00      0.47   2569.77      1.00\n",
      " y_err[65]      0.50      0.25      0.51      0.10      0.90   2103.68      1.00\n",
      " y_err[66]      0.21      0.18      0.17      0.00      0.48   3342.86      1.00\n",
      " y_err[67]      0.36      0.24      0.33      0.00      0.71   3863.13      1.00\n",
      " y_err[68]      0.36      0.24      0.33      0.00      0.70   3783.60      1.00\n",
      " y_err[69]      0.21      0.18      0.16      0.00      0.47   4416.72      1.00\n",
      " y_err[70]      0.36      0.23      0.34      0.00      0.69   5909.18      1.00\n",
      " y_err[71]      0.22      0.18      0.17      0.00      0.49   2737.13      1.00\n",
      " y_err[72]      0.51      0.25      0.54      0.11      0.91   2297.99      1.00\n",
      " y_err[73]      0.21      0.17      0.18      0.00      0.46   2887.28      1.00\n",
      " y_err[74]      0.36      0.24      0.33      0.00      0.71   3230.88      1.00\n",
      " y_err[75]      0.36      0.24      0.33      0.00      0.72   3496.92      1.00\n",
      " y_err[76]      0.36      0.23      0.33      0.00      0.70   3971.63      1.00\n",
      " y_err[77]      0.37      0.24      0.34      0.00      0.72   5945.16      1.00\n",
      " y_err[78]      0.36      0.24      0.34      0.00      0.71   3804.97      1.00\n",
      " y_err[79]      0.36      0.24      0.33      0.00      0.72   3897.79      1.00\n",
      " y_err[80]      0.36      0.23      0.33      0.00      0.70   4741.95      1.00\n",
      " y_err[81]      0.36      0.24      0.32      0.00      0.70   3171.80      1.00\n",
      " y_err[82]      0.22      0.18      0.17      0.00      0.47   2517.54      1.00\n",
      " y_err[83]      0.37      0.24      0.33      0.00      0.72   4065.52      1.00\n",
      " y_err[84]      0.22      0.18      0.17      0.00      0.47   3160.88      1.00\n",
      " y_err[85]      0.21      0.18      0.17      0.00      0.47   3436.65      1.00\n",
      " y_err[86]      0.21      0.17      0.18      0.00      0.46   2602.61      1.00\n",
      " y_err[87]      0.36      0.24      0.34      0.00      0.71   3459.97      1.00\n",
      " y_err[88]      0.22      0.18      0.17      0.00      0.48   3226.57      1.00\n",
      " y_err[89]      0.36      0.23      0.33      0.01      0.70   3878.63      1.00\n",
      " y_err[90]      0.36      0.23      0.34      0.00      0.71   3696.35      1.00\n",
      " y_err[91]      0.36      0.24      0.33      0.00      0.70   3831.38      1.00\n",
      " y_err[92]      0.36      0.23      0.34      0.00      0.69   3960.80      1.00\n",
      " y_err[93]      0.21      0.17      0.17      0.00      0.46   2926.98      1.00\n",
      " y_err[94]      0.36      0.23      0.33      0.00      0.69   3607.24      1.00\n",
      " y_err[95]      0.36      0.24      0.33      0.00      0.71   4126.90      1.00\n",
      " y_err[96]      0.36      0.24      0.33      0.00      0.71   4466.97      1.00\n",
      " y_err[97]      0.36      0.24      0.34      0.00      0.71   4586.13      1.00\n",
      " y_err[98]      0.51      0.25      0.52      0.09      0.89   2715.34      1.00\n",
      " y_err[99]      0.36      0.23      0.33      0.00      0.69   4376.41      1.00\n",
      "      z[0]      0.49      0.50      0.00      0.00      1.00     88.16      1.00\n",
      "      z[1]      0.59      0.49      1.00      0.00      1.00     88.47      1.00\n",
      "      z[2]      0.51      0.50      1.00      0.00      1.00     91.51      1.00\n",
      "      z[3]      0.50      0.50      0.00      0.00      1.00     95.90      1.00\n",
      "      z[4]      0.51      0.50      1.00      0.00      1.00     98.16      1.00\n",
      "      z[5]      0.50      0.50      0.50      0.00      1.00     89.38      1.00\n",
      "      z[6]      0.58      0.49      1.00      0.00      1.00    100.53      1.00\n",
      "      z[7]      0.49      0.50      0.00      0.00      1.00     83.47      1.00\n",
      "      z[8]      0.58      0.49      1.00      0.00      1.00    100.26      1.00\n",
      "      z[9]      0.59      0.49      1.00      0.00      1.00    101.09      1.00\n",
      "     z[10]      0.51      0.50      1.00      0.00      1.00     93.63      1.00\n",
      "     z[11]      0.52      0.50      1.00      0.00      1.00    104.26      1.00\n",
      "     z[12]      0.50      0.50      1.00      0.00      1.00     97.70      1.00\n",
      "     z[13]      0.50      0.50      1.00      0.00      1.00     99.21      1.00\n",
      "     z[14]      0.50      0.50      0.00      0.00      1.00     79.80      1.00\n",
      "     z[15]      0.50      0.50      1.00      0.00      1.00     91.38      1.00\n",
      "     z[16]      0.51      0.50      1.00      0.00      1.00    104.60      1.00\n",
      "     z[17]      0.59      0.49      1.00      0.00      1.00     92.72      1.00\n",
      "     z[18]      0.59      0.49      1.00      0.00      1.00     99.52      1.00\n",
      "     z[19]      0.58      0.49      1.00      0.00      1.00     95.05      1.00\n",
      "     z[20]      0.59      0.49      1.00      0.00      1.00    100.83      1.00\n",
      "     z[21]      0.51      0.50      1.00      0.00      1.00     95.09      1.00\n",
      "     z[22]      0.50      0.50      1.00      0.00      1.00     86.46      1.00\n",
      "     z[23]      0.51      0.50      1.00      0.00      1.00    105.57      1.00\n",
      "     z[24]      0.50      0.50      0.00      0.00      1.00     92.62      1.00\n",
      "     z[25]      0.51      0.50      1.00      0.00      1.00     89.48      1.00\n",
      "     z[26]      0.50      0.50      1.00      0.00      1.00     90.36      1.00\n",
      "     z[27]      0.50      0.50      1.00      0.00      1.00     85.53      1.00\n",
      "     z[28]      0.51      0.50      1.00      0.00      1.00     93.01      1.00\n",
      "     z[29]      0.59      0.49      1.00      0.00      1.00     91.05      1.00\n",
      "     z[30]      0.50      0.50      1.00      0.00      1.00    102.66      1.00\n",
      "     z[31]      0.51      0.50      1.00      0.00      1.00     88.55      1.00\n",
      "     z[32]      0.50      0.50      1.00      0.00      1.00    104.77      1.00\n",
      "     z[33]      0.59      0.49      1.00      0.00      1.00     91.88      1.00\n",
      "     z[34]      0.50      0.50      1.00      0.00      1.00    109.03      1.00\n",
      "     z[35]      0.58      0.49      1.00      0.00      1.00    103.50      1.00\n",
      "     z[36]      0.52      0.50      1.00      0.00      1.00     94.37      1.00\n",
      "     z[37]      0.51      0.50      1.00      0.00      1.00     88.04      1.00\n",
      "     z[38]      0.53      0.50      1.00      0.00      1.00     96.69      1.00\n",
      "     z[39]      0.51      0.50      1.00      0.00      1.00    105.47      1.00\n",
      "     z[40]      0.51      0.50      1.00      0.00      1.00     93.28      1.00\n",
      "     z[41]      0.51      0.50      1.00      0.00      1.00     99.63      1.00\n",
      "     z[42]      0.50      0.50      0.00      0.00      1.00     94.28      1.00\n",
      "     z[43]      0.50      0.50      1.00      0.00      1.00     96.78      1.00\n",
      "     z[44]      0.51      0.50      1.00      0.00      1.00    100.97      1.00\n",
      "     z[45]      0.50      0.50      0.00      0.00      1.00     96.47      1.00\n",
      "     z[46]      0.50      0.50      0.00      0.00      1.00     90.19      1.00\n",
      "     z[47]      0.51      0.50      1.00      0.00      1.00    113.18      1.00\n",
      "     z[48]      0.51      0.50      1.00      0.00      1.00    105.83      1.00\n",
      "     z[49]      0.51      0.50      1.00      0.00      1.00    105.09      1.00\n",
      "     z[50]      0.59      0.49      1.00      0.00      1.00     90.62      1.00\n",
      "     z[51]      0.51      0.50      1.00      0.00      1.00    109.60      1.00\n",
      "     z[52]      0.50      0.50      1.00      0.00      1.00     87.80      1.00\n",
      "     z[53]      0.59      0.49      1.00      0.00      1.00     92.56      1.00\n",
      "     z[54]      0.51      0.50      1.00      0.00      1.00    106.32      1.00\n",
      "     z[55]      0.50      0.50      1.00      0.00      1.00     86.95      1.00\n",
      "     z[56]      0.50      0.50      0.00      0.00      1.00     83.45      1.00\n",
      "     z[57]      0.50      0.50      0.50      0.00      1.00     96.81      1.00\n",
      "     z[58]      0.51      0.50      1.00      0.00      1.00    119.72      1.00\n",
      "     z[59]      0.59      0.49      1.00      0.00      1.00     80.46      1.00\n",
      "     z[60]      0.51      0.50      1.00      0.00      1.00     76.82      1.00\n",
      "     z[61]      0.51      0.50      1.00      0.00      1.00     93.48      1.00\n",
      "     z[62]      0.50      0.50      1.00      0.00      1.00     84.08      1.00\n",
      "     z[63]      0.51      0.50      1.00      0.00      1.00     93.62      1.00\n",
      "     z[64]      0.59      0.49      1.00      0.00      1.00     88.50      1.00\n",
      "     z[65]      0.51      0.50      1.00      0.00      1.00     94.13      1.00\n",
      "     z[66]      0.58      0.49      1.00      0.00      1.00     98.57      1.00\n",
      "     z[67]      0.51      0.50      1.00      0.00      1.00     93.41      1.00\n",
      "     z[68]      0.50      0.50      1.00      0.00      1.00     86.81      1.00\n",
      "     z[69]      0.58      0.49      1.00      0.00      1.00    100.48      1.00\n",
      "     z[70]      0.51      0.50      1.00      0.00      1.00     93.71      1.00\n",
      "     z[71]      0.59      0.49      1.00      0.00      1.00     94.00      1.00\n",
      "     z[72]      0.52      0.50      1.00      0.00      1.00    103.75      1.00\n",
      "     z[73]      0.59      0.49      1.00      0.00      1.00     91.57      1.00\n",
      "     z[74]      0.50      0.50      1.00      0.00      1.00    102.66      1.00\n",
      "     z[75]      0.50      0.50      0.00      0.00      1.00     86.83      1.00\n",
      "     z[76]      0.50      0.50      0.00      0.00      1.00    101.34      1.00\n",
      "     z[77]      0.51      0.50      1.00      0.00      1.00     96.44      1.00\n",
      "     z[78]      0.50      0.50      0.00      0.00      1.00     88.43      1.00\n",
      "     z[79]      0.50      0.50      1.00      0.00      1.00     84.04      1.00\n",
      "     z[80]      0.51      0.50      1.00      0.00      1.00    105.59      1.00\n",
      "     z[81]      0.50      0.50      0.00      0.00      1.00     84.99      1.00\n",
      "     z[82]      0.59      0.49      1.00      0.00      1.00     92.17      1.00\n",
      "     z[83]      0.49      0.50      0.00      0.00      1.00     91.75      1.00\n",
      "     z[84]      0.60      0.49      1.00      0.00      1.00    101.07      1.00\n",
      "     z[85]      0.60      0.49      1.00      0.00      1.00     86.59      1.00\n",
      "     z[86]      0.58      0.49      1.00      0.00      1.00     97.28      1.00\n",
      "     z[87]      0.51      0.50      1.00      0.00      1.00     94.31      1.00\n",
      "     z[88]      0.59      0.49      1.00      0.00      1.00    101.59      1.00\n",
      "     z[89]      0.51      0.50      1.00      0.00      1.00     79.52      1.00\n",
      "     z[90]      0.50      0.50      0.00      0.00      1.00    100.85      1.00\n",
      "     z[91]      0.50      0.50      1.00      0.00      1.00     90.46      1.00\n",
      "     z[92]      0.50      0.50      0.00      0.00      1.00     87.90      1.00\n",
      "     z[93]      0.59      0.49      1.00      0.00      1.00     88.82      1.00\n",
      "     z[94]      0.51      0.50      1.00      0.00      1.00     96.01      1.00\n",
      "     z[95]      0.50      0.50      1.00      0.00      1.00     96.66      1.00\n",
      "     z[96]      0.51      0.50      1.00      0.00      1.00     91.65      1.00\n",
      "     z[97]      0.50      0.50      1.00      0.00      1.00     93.13      1.00\n",
      "     z[98]      0.52      0.50      1.00      0.00      1.00     88.67      1.00\n",
      "     z[99]      0.51      0.50      1.00      0.00      1.00     83.91      1.00\n",
      "\n"
     ]
    }
   ],
   "source": [
    "mcmc_test.print_summary()"
   ]
  },
  {
   "cell_type": "markdown",
   "id": "reflected-instrumentation",
   "metadata": {},
   "source": [
    "This samples but seemingly can't learn about $z$ properly\n",
    "\n",
    "My new idea is to use a logistic normal approximation to the Dirichlet for a 2d Dirichlet (which is itself just a beta distribtion)."
   ]
  },
  {
   "cell_type": "code",
   "execution_count": 96,
   "id": "quiet-equilibrium",
   "metadata": {},
   "outputs": [
    {
     "data": {
      "text/plain": [
       "<AxesSubplot:ylabel='Density'>"
      ]
     },
     "execution_count": 96,
     "metadata": {},
     "output_type": "execute_result"
    },
    {
     "data": {
      "image/png": "[encoded data removed]",
      "text/plain": [
       "<Figure size 432x288 with 1 Axes>"
      ]
     },
     "metadata": {
      "needs_background": "light"
     },
     "output_type": "display_data"
    }
   ],
   "source": [
    "from jax.scipy.special import digamma, polygamma, logit, expit, erf\n",
    "# trigamma(x) = polygamma(1,x)\n",
    "mu_true = .\n",
    "k_true = 3\n",
    "\n",
    "a = mu_true*k_true\n",
    "b = (1-mu_true)*k_true\n",
    "\n",
    "mu_est = digamma(a) - digamma(b)\n",
    "sigma = polygamma(1, a) + polygamma(1, b)\n",
    "\n",
    "vals = np.random.normal(mu_est, jnp.sqrt(sigma), 100000)\n",
    "beta_vals = np.random.beta(a, b, 100000)\n",
    "\n",
    "sns.kdeplot(x=expit(vals))\n",
    "sns.kdeplot(x=beta_vals)"
   ]
  },
  {
   "cell_type": "code",
   "execution_count": 230,
   "id": "realistic-greek",
   "metadata": {},
   "outputs": [
    {
     "data": {
      "text/plain": [
       "<AxesSubplot:ylabel='Density'>"
      ]
     },
     "execution_count": 230,
     "metadata": {},
     "output_type": "execute_result"
    },
    {
     "data": {
      "image/png": "[encoded data removed]",
      "text/plain": [
       "<Figure size 432x288 with 1 Axes>"
      ]
     },
     "metadata": {
      "needs_background": "light"
     },
     "output_type": "display_data"
    }
   ],
   "source": [
    "vals = np.random.normal(-.11, .96, 100000)\n",
    "beta_vals = np.random.beta(3, 3, 100000)\n",
    "\n",
    "sns.kdeplot(x=expit(vals))\n",
    "sns.kdeplot(x=beta_vals)"
   ]
  },
  {
   "cell_type": "code",
   "execution_count": 259,
   "id": "southeast-vampire",
   "metadata": {},
   "outputs": [
    {
     "data": {
      "text/plain": [
       "DeviceArray(0.8582989, dtype=float32)"
      ]
     },
     "execution_count": 259,
     "metadata": {},
     "output_type": "execute_result"
    }
   ],
   "source": [
    "\n",
    "\n",
    "def logit_normal_cdf(mu, sigma, x):\n",
    "    inner = (logit(x) - mu)/ (jnp.sqrt(2*jnp.power(sigma, 2)))\n",
    "    return .5 * (1 + erf(inner))\n",
    "\n",
    "\n",
    "def beta_approx_cdf(a, b, x):\n",
    "    # normal approximation, not great\n",
    "    # mode K(a, b) = ((a – 1)/(ab – 1))1/a = mode beta(α, β) = (α – 1)/(α + β – 2).\n",
    "    mu_est = digamma(a) - digamma(b)\n",
    "    sigma_est = polygamma(1, a) + polygamma(1, b)\n",
    "    \n",
    "    return logit_normal_cdf(mu_est, sigma_est, x)\n",
    "\n",
    "\n",
    "beta_approx_cdf(3, 3, .7)\n",
    "# grad_test = jax.grad(jax.scipy.special.betainc)"
   ]
  },
  {
   "cell_type": "code",
   "execution_count": 108,
   "id": "fluid-dollar",
   "metadata": {},
   "outputs": [
    {
     "data": {
      "text/plain": [
       "DeviceArray([False, False,  True, False, False, False, False, False,\n",
       "             False,  True, False, False, False, False, False, False,\n",
       "              True, False, False,  True,  True, False, False, False,\n",
       "             False, False, False,  True, False, False,  True, False,\n",
       "             False, False, False,  True, False, False,  True, False,\n",
       "             False, False,  True, False, False, False, False, False,\n",
       "             False, False,  True, False, False, False, False, False,\n",
       "             False, False,  True,  True, False, False, False, False,\n",
       "             False,  True, False, False, False, False, False,  True,\n",
       "              True, False, False, False, False, False, False, False,\n",
       "             False, False,  True, False, False, False, False, False,\n",
       "              True, False, False, False, False, False, False, False,\n",
       "             False, False,  True, False], dtype=bool)"
      ]
     },
     "execution_count": 108,
     "metadata": {},
     "output_type": "execute_result"
    }
   ],
   "source": [
    "jnp.remainder(x_obs, 10.)==0"
   ]
  },
  {
   "cell_type": "code",
   "execution_count": 96,
   "id": "standard-summer",
   "metadata": {},
   "outputs": [
    {
     "data": {
      "text/plain": [
       "DeviceArray([0, 1, 0, 0, 0, 0, 0, 0, 2, 1], dtype=int32)"
      ]
     },
     "execution_count": 96,
     "metadata": {},
     "output_type": "execute_result"
    }
   ],
   "source": [
    "rem_5 = jnp.remainder(x_obs, 5.)\n",
    "rem_10 = jnp.remainder(x_obs, 10.)\n",
    "z = jnp.ones(100)*2\n",
    "z = jnp.where(rem_5!=0, 0, jnp.where(rem_10!=0, 1, z))\n",
    "dist.Categorical(jnp.array([.5,.25,.25])).sample(random.PRNGKey(0), (10,))"
   ]
  },
  {
   "cell_type": "code",
   "execution_count": null,
   "id": "binding-hello",
   "metadata": {},
   "outputs": [],
   "source": []
  }
 ],
 "metadata": {
  "kernelspec": {
   "display_name": "Python 3",
   "language": "python",
   "name": "python3"
  },
  "language_info": {
   "codemirror_mode": {
    "name": "ipython",
    "version": 3
   },
   "file_extension": ".py",
   "mimetype": "text/x-python",
   "name": "python",
   "nbconvert_exporter": "python",
   "pygments_lexer": "ipython3",
   "version": "3.8.8"
  }
 },
 "nbformat": 4,
 "nbformat_minor": 5
}
