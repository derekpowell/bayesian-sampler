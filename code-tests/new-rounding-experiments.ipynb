{
 "cells": [
  {
   "cell_type": "markdown",
   "id": "disabled-guarantee",
   "metadata": {},
   "source": [
    "# Rounding tests 2022-06-29"
   ]
  },
  {
   "cell_type": "code",
   "execution_count": null,
   "id": "blocked-times",
   "metadata": {},
   "outputs": [],
   "source": []
  },
  {
   "cell_type": "code",
   "execution_count": 18,
   "id": "unexpected-cable",
   "metadata": {},
   "outputs": [],
   "source": [
    "import numpyro\n",
    "# numpyro.enable_x64()\n",
    "numpyro.util.set_host_device_count(4)\n",
    "import numpyro.distributions as dist\n",
    "\n",
    "import jax\n",
    "from jax import numpy as jnp\n",
    "from jax import random\n",
    "from numpyro.infer import DiscreteHMCGibbs, MCMC, NUTS, Predictive, SA\n",
    "from numpyro.contrib.funsor import config_enumerate\n",
    "\n",
    "from jax.scipy.special import digamma, polygamma, logit, expit, erf, gammaln\n",
    "\n",
    "import numpy as np\n",
    "from numpy.random import default_rng\n",
    "import pandas as pd\n",
    "import siuba as s\n",
    "from siuba import _\n",
    "\n",
    "from numpy import exp, log\n",
    "\n",
    "import scipy\n",
    "# import seaborn as sns\n",
    "\n",
    "from plotnine import *"
   ]
  },
  {
   "cell_type": "code",
   "execution_count": 19,
   "id": "israeli-shuttle",
   "metadata": {},
   "outputs": [
    {
     "data": {
      "text/plain": [
       "DeviceArray([ 7,  9,  9,  8,  6,  7,  8,  9,  9,  8,  7,  6,  8,  9,  7,\n",
       "              8,  8,  8,  8,  9,  6, 10,  6,  9,  5,  8,  9, 10,  7,  8,\n",
       "              9,  7,  7,  8,  6,  6,  8,  8,  5,  8,  7,  4,  9,  9,  9,\n",
       "              7,  9,  9,  8,  8,  6,  6,  8,  5,  6,  8,  9,  8,  4,  8,\n",
       "              7,  6,  4,  7,  8,  7,  7,  7,  8,  8,  6,  9,  9,  8,  7,\n",
       "              5,  9,  9,  6,  9,  9,  7,  8,  5,  5,  7,  9,  6,  7,  8,\n",
       "              8,  9,  8,  5,  8,  7,  8,  7,  7,  7], dtype=int32)"
      ]
     },
     "execution_count": 19,
     "metadata": {},
     "output_type": "execute_result"
    }
   ],
   "source": [
    "from jax.random import PRNGKey\n",
    "\n",
    "## generate some basic rounded data\n",
    "X_raw = dist.Beta(.75*10, (1-.75)*10).sample(PRNGKey(10), (100,))\n",
    "x_round = round(X_raw*10)\n",
    "x_round"
   ]
  },
  {
   "cell_type": "code",
   "execution_count": 20,
   "id": "defensive-world",
   "metadata": {},
   "outputs": [
    {
     "data": {
      "text/plain": [
       "DeviceArray(0.49999952, dtype=float32)"
      ]
     },
     "execution_count": 20,
     "metadata": {},
     "output_type": "execute_result"
    }
   ],
   "source": [
    "def betacdf(alpha, beta, x):\n",
    "    vals = jnp.linspace(1e-5, 1.-1e-5, num=10000)\n",
    "    probs = jnp.exp(dist.Beta(alpha, beta).log_prob(vals))\n",
    "    # then sum up probs below x \n",
    "    validprobs = jnp.where(vals <= x, probs, 0.)\n",
    "    \n",
    "    return jnp.sum(validprobs/10000.)\n",
    "\n",
    "betacdf = jnp.vectorize(betacdf)\n",
    "\n",
    "betacdf(1., 1., .500)\n",
    "\n",
    "# this very naive approximation seems to work? but how/why when it didn't seem to work before?"
   ]
  },
  {
   "cell_type": "code",
   "execution_count": 21,
   "id": "found-relaxation",
   "metadata": {},
   "outputs": [],
   "source": [
    "def f(mu, k):\n",
    "    a = mu*k\n",
    "    b = (1.-mu)*k\n",
    "    \n",
    "    responses = jnp.linspace(0,10, num=11)\n",
    "    lower = jnp.clip((responses/10.) - .05, 0., 1.)\n",
    "    upper = jnp.clip((responses/10.) + .05, 0., 1.)\n",
    "\n",
    "    prob_resps = betacdf(a, b, upper) - betacdf(a, b, lower)\n",
    "    \n",
    "    return(prob_resps)\n",
    "\n",
    "\n",
    "def mymodel_round(x=None):\n",
    "    mu = numpyro.sample(\"mu\", dist.Beta(1,1)) # noise parameter\n",
    "    k = numpyro.sample(\"k\", dist.HalfCauchy(10)) # noise parameter\n",
    "\n",
    "    resp_probs = f(mu,k)\n",
    "    resp_probs = resp_probs/jnp.sum(resp_probs)\n",
    "\n",
    "    with numpyro.plate(\"data\", x.shape[0]):\n",
    "\n",
    "        xhat = numpyro.sample(\"xhat\", dist.Categorical(probs=resp_probs), obs=x)\n"
   ]
  },
  {
   "cell_type": "code",
   "execution_count": 22,
   "id": "vietnamese-creek",
   "metadata": {},
   "outputs": [
    {
     "name": "stderr",
     "output_type": "stream",
     "text": [
      "sample: 100%|██████████| 2000/2000 [00:05<00:00, 352.70it/s, 3 steps of size 8.57e-01. acc. prob=0.91] \n"
     ]
    }
   ],
   "source": [
    "from numpyro.infer import init_to_median, init_to_value\n",
    "\n",
    "kernel = NUTS(mymodel_round, target_accept_prob=.80)\n",
    "\n",
    "mcmc = MCMC(kernel, \n",
    "               num_warmup=1_000, \n",
    "               num_samples=1_000, \n",
    "               num_chains=1)\n",
    "\n",
    "mcmc.run(random.PRNGKey(0), x_round)"
   ]
  },
  {
   "cell_type": "code",
   "execution_count": 23,
   "id": "unlikely-korea",
   "metadata": {},
   "outputs": [
    {
     "name": "stdout",
     "output_type": "stream",
     "text": [
      "\n",
      "                mean       std    median      5.0%     95.0%     n_eff     r_hat\n",
      "         k      9.68      1.45      9.65      7.52     12.12    746.37      1.00\n",
      "        mu      0.75      0.01      0.75      0.73      0.77    762.61      1.00\n",
      "\n",
      "Number of divergences: 0\n"
     ]
    }
   ],
   "source": [
    "mcmc.print_summary()"
   ]
  },
  {
   "cell_type": "code",
   "execution_count": 24,
   "id": "through-tribune",
   "metadata": {},
   "outputs": [
    {
     "data": {
      "image/png": "[encoded data removed]",
      "text/plain": [
       "<Figure size 640x480 with 1 Axes>"
      ]
     },
     "metadata": {},
     "output_type": "display_data"
    },
    {
     "data": {
      "text/plain": [
       "<ggplot: (8729341192789)>"
      ]
     },
     "execution_count": 24,
     "metadata": {},
     "output_type": "execute_result"
    }
   ],
   "source": [
    "\n",
    "## generate some 2d rounded data\n",
    "# x = dist.Normal(0,1).sample(PRNGKey(10), (100,))\n",
    "Nobs = 50\n",
    "x = np.random.normal(0, 1, Nobs)\n",
    "y_p = scipy.special.expit(-.3 + 1.5*x)\n",
    "y_raw = np.random.beta(y_p*20, (1-y_p)*20, Nobs)\n",
    "y_round = jnp.round(y_raw*10).astype(\"int32\")\n",
    "\n",
    "pd.DataFrame({\"x\":x,\"y\":y_raw}) >> ggplot(aes(x=\"x\",y=\"y\")) + geom_point()\n",
    "# X_raw = dist.Beta(.75*10, (1-.75)*10).sample(PRNGKey(10), (100,))\n",
    "\n",
    "# x_round\n"
   ]
  },
  {
   "cell_type": "code",
   "execution_count": 27,
   "id": "dated-columbus",
   "metadata": {},
   "outputs": [],
   "source": [
    "def betacdf(alpha, beta, x):\n",
    "    vals = jnp.linspace(1e-5, 1.-1e-5, num=5_000)\n",
    "    probs = jnp.exp(dist.Beta(alpha, beta).log_prob(vals))\n",
    "    # then sum up probs below x \n",
    "    validprobs = jnp.where(vals <= x, probs, 0.)\n",
    "    \n",
    "    return jnp.sum(validprobs/5_000.)\n",
    "\n",
    "\n",
    "betacdf = jax.vmap(jax.vmap(betacdf, (0, 0, 0)), (None,None,1))\n",
    "\n",
    "def f2(mu, k):\n",
    "    a = mu*k\n",
    "    b = (1.-mu)*k\n",
    "    \n",
    "    responses = jnp.linspace(0,10, num=11)\n",
    "    responses = jnp.broadcast_to(responses, (mu.shape[0], responses.shape[0]))\n",
    "    lower = jnp.clip((responses/10.) - .05, 0., 1.)\n",
    "    upper = jnp.clip((responses/10.) + .05, 0., 1.)\n",
    "\n",
    "    prob_resps = betacdf(a, b, upper) - betacdf(a, b, lower) # needs to be (n, 11)\n",
    "    \n",
    "    return(prob_resps)\n",
    "\n",
    "\n",
    "def linmodel_round(x, y=None):\n",
    "    alpha = numpyro.sample(\"alpha\", dist.Normal(0,5))\n",
    "    beta = numpyro.sample(\"beta\", dist.Normal(0,1))\n",
    "\n",
    "    mu = expit(alpha + beta*x)\n",
    "    k = numpyro.sample(\"k\", dist.HalfCauchy(10)) # noise parameter\n",
    "\n",
    "    resp_probs = jnp.transpose(f2(mu,k)) # possibly renormalize\n",
    "    \n",
    "    with numpyro.plate(\"data\", y.shape[0]):\n",
    "\n",
    "        yhat = numpyro.sample(\"yhat\", dist.Categorical(probs=resp_probs), obs=y)\n",
    "        # yhat = numpyro.sample(\"yhat\", dist.Beta(mu*k, (1-mu)*k), obs=y)"
   ]
  },
  {
   "cell_type": "code",
   "execution_count": null,
   "id": "quick-supplier",
   "metadata": {},
   "outputs": [
    {
     "name": "stderr",
     "output_type": "stream",
     "text": [
      "warmup:  33%|███▎      | 655/2000 [13:47<21:17,  1.05it/s, 15 steps of size 3.15e-06. acc. prob=0.78]    "
     ]
    }
   ],
   "source": [
    "kernel = NUTS(linmodel_round, target_accept_prob=.80)\n",
    "\n",
    "mcmc = MCMC(kernel, \n",
    "               num_warmup=1_000, \n",
    "               num_samples=1_000, \n",
    "               num_chains=1)\n",
    "\n",
    "mcmc.run(random.PRNGKey(0), x, y_round)"
   ]
  },
  {
   "cell_type": "code",
   "execution_count": null,
   "id": "split-fleece",
   "metadata": {},
   "outputs": [],
   "source": [
    "mcmc.print_summary()"
   ]
  },
  {
   "cell_type": "markdown",
   "id": "alpha-tunnel",
   "metadata": {},
   "source": [
    "not sampling very well ... "
   ]
  },
  {
   "cell_type": "code",
   "execution_count": 304,
   "id": "general-arnold",
   "metadata": {},
   "outputs": [
    {
     "ename": "ValueError",
     "evalue": "Incompatible shapes for broadcasting: ((1, 3), (1, 3), (3, 11))",
     "output_type": "error",
     "traceback": [
      "\u001b[0;31m---------------------------------------------------------------------------\u001b[0m",
      "\u001b[0;31mValueError\u001b[0m                                Traceback (most recent call last)",
      "\u001b[0;32m/opt/conda/lib/python3.8/site-packages/jax/_src/lax/lax.py\u001b[0m in \u001b[0;36mbroadcast_shapes\u001b[0;34m(*shapes)\u001b[0m\n\u001b[1;32m    119\u001b[0m   \u001b[0;32mtry\u001b[0m\u001b[0;34m:\u001b[0m\u001b[0;34m\u001b[0m\u001b[0;34m\u001b[0m\u001b[0m\n\u001b[0;32m--> 120\u001b[0;31m     \u001b[0;32mreturn\u001b[0m \u001b[0m_broadcast_shapes_cached\u001b[0m\u001b[0;34m(\u001b[0m\u001b[0;34m*\u001b[0m\u001b[0mshapes\u001b[0m\u001b[0;34m)\u001b[0m\u001b[0;34m\u001b[0m\u001b[0;34m\u001b[0m\u001b[0m\n\u001b[0m\u001b[1;32m    121\u001b[0m   \u001b[0;32mexcept\u001b[0m\u001b[0;34m:\u001b[0m\u001b[0;34m\u001b[0m\u001b[0;34m\u001b[0m\u001b[0m\n",
      "\u001b[0;32m/opt/conda/lib/python3.8/site-packages/jax/_src/util.py\u001b[0m in \u001b[0;36mwrapper\u001b[0;34m(*args, **kwargs)\u001b[0m\n\u001b[1;32m    218\u001b[0m       \u001b[0;32melse\u001b[0m\u001b[0;34m:\u001b[0m\u001b[0;34m\u001b[0m\u001b[0;34m\u001b[0m\u001b[0m\n\u001b[0;32m--> 219\u001b[0;31m         \u001b[0;32mreturn\u001b[0m \u001b[0mcached\u001b[0m\u001b[0;34m(\u001b[0m\u001b[0mconfig\u001b[0m\u001b[0;34m.\u001b[0m\u001b[0m_trace_context\u001b[0m\u001b[0;34m(\u001b[0m\u001b[0;34m)\u001b[0m\u001b[0;34m,\u001b[0m \u001b[0;34m*\u001b[0m\u001b[0margs\u001b[0m\u001b[0;34m,\u001b[0m \u001b[0;34m**\u001b[0m\u001b[0mkwargs\u001b[0m\u001b[0;34m)\u001b[0m\u001b[0;34m\u001b[0m\u001b[0;34m\u001b[0m\u001b[0m\n\u001b[0m\u001b[1;32m    220\u001b[0m \u001b[0;34m\u001b[0m\u001b[0m\n",
      "\u001b[0;32m/opt/conda/lib/python3.8/site-packages/jax/_src/util.py\u001b[0m in \u001b[0;36mcached\u001b[0;34m(_, *args, **kwargs)\u001b[0m\n\u001b[1;32m    211\u001b[0m     \u001b[0;32mdef\u001b[0m \u001b[0mcached\u001b[0m\u001b[0;34m(\u001b[0m\u001b[0m_\u001b[0m\u001b[0;34m,\u001b[0m \u001b[0;34m*\u001b[0m\u001b[0margs\u001b[0m\u001b[0;34m,\u001b[0m \u001b[0;34m**\u001b[0m\u001b[0mkwargs\u001b[0m\u001b[0;34m)\u001b[0m\u001b[0;34m:\u001b[0m\u001b[0;34m\u001b[0m\u001b[0;34m\u001b[0m\u001b[0m\n\u001b[0;32m--> 212\u001b[0;31m       \u001b[0;32mreturn\u001b[0m \u001b[0mf\u001b[0m\u001b[0;34m(\u001b[0m\u001b[0;34m*\u001b[0m\u001b[0margs\u001b[0m\u001b[0;34m,\u001b[0m \u001b[0;34m**\u001b[0m\u001b[0mkwargs\u001b[0m\u001b[0;34m)\u001b[0m\u001b[0;34m\u001b[0m\u001b[0;34m\u001b[0m\u001b[0m\n\u001b[0m\u001b[1;32m    213\u001b[0m \u001b[0;34m\u001b[0m\u001b[0m\n",
      "\u001b[0;32m/opt/conda/lib/python3.8/site-packages/jax/_src/lax/lax.py\u001b[0m in \u001b[0;36m_broadcast_shapes_cached\u001b[0;34m(*shapes)\u001b[0m\n\u001b[1;32m    125\u001b[0m \u001b[0;32mdef\u001b[0m \u001b[0m_broadcast_shapes_cached\u001b[0m\u001b[0;34m(\u001b[0m\u001b[0;34m*\u001b[0m\u001b[0mshapes\u001b[0m\u001b[0;34m:\u001b[0m \u001b[0mTuple\u001b[0m\u001b[0;34m[\u001b[0m\u001b[0mint\u001b[0m\u001b[0;34m,\u001b[0m \u001b[0;34m...\u001b[0m\u001b[0;34m]\u001b[0m\u001b[0;34m)\u001b[0m \u001b[0;34m->\u001b[0m \u001b[0mTuple\u001b[0m\u001b[0;34m[\u001b[0m\u001b[0mint\u001b[0m\u001b[0;34m,\u001b[0m \u001b[0;34m...\u001b[0m\u001b[0;34m]\u001b[0m\u001b[0;34m:\u001b[0m\u001b[0;34m\u001b[0m\u001b[0;34m\u001b[0m\u001b[0m\n\u001b[0;32m--> 126\u001b[0;31m   \u001b[0;32mreturn\u001b[0m \u001b[0m_broadcast_shapes_uncached\u001b[0m\u001b[0;34m(\u001b[0m\u001b[0;34m*\u001b[0m\u001b[0mshapes\u001b[0m\u001b[0;34m)\u001b[0m\u001b[0;34m\u001b[0m\u001b[0;34m\u001b[0m\u001b[0m\n\u001b[0m\u001b[1;32m    127\u001b[0m \u001b[0;34m\u001b[0m\u001b[0m\n",
      "\u001b[0;32m/opt/conda/lib/python3.8/site-packages/jax/_src/lax/lax.py\u001b[0m in \u001b[0;36m_broadcast_shapes_uncached\u001b[0;34m(*shapes)\u001b[0m\n\u001b[1;32m    141\u001b[0m   \u001b[0;32mif\u001b[0m \u001b[0mresult_shape\u001b[0m \u001b[0;32mis\u001b[0m \u001b[0;32mNone\u001b[0m\u001b[0;34m:\u001b[0m\u001b[0;34m\u001b[0m\u001b[0;34m\u001b[0m\u001b[0m\n\u001b[0;32m--> 142\u001b[0;31m     raise ValueError(\"Incompatible shapes for broadcasting: {}\"\n\u001b[0m\u001b[1;32m    143\u001b[0m                      .format(tuple(shape_list)))\n",
      "\u001b[0;31mValueError\u001b[0m: Incompatible shapes for broadcasting: ((1, 3), (1, 3), (3, 11))",
      "\nDuring handling of the above exception, another exception occurred:\n",
      "\u001b[0;31mValueError\u001b[0m                                Traceback (most recent call last)",
      "\u001b[0;32m<ipython-input-304-1e4a4d09fdf3>\u001b[0m in \u001b[0;36m<module>\u001b[0;34m\u001b[0m\n\u001b[1;32m     49\u001b[0m \u001b[0;34m\u001b[0m\u001b[0m\n\u001b[1;32m     50\u001b[0m \u001b[0;34m\u001b[0m\u001b[0m\n\u001b[0;32m---> 51\u001b[0;31m \u001b[0mf2\u001b[0m\u001b[0;34m(\u001b[0m\u001b[0mnp\u001b[0m\u001b[0;34m.\u001b[0m\u001b[0marray\u001b[0m\u001b[0;34m(\u001b[0m\u001b[0;34m[\u001b[0m\u001b[0;36m.5\u001b[0m\u001b[0;34m,\u001b[0m \u001b[0;36m.5\u001b[0m\u001b[0;34m,\u001b[0m \u001b[0;36m.75\u001b[0m\u001b[0;34m]\u001b[0m\u001b[0;34m)\u001b[0m\u001b[0;34m,\u001b[0m \u001b[0mnp\u001b[0m\u001b[0;34m.\u001b[0m\u001b[0marray\u001b[0m\u001b[0;34m(\u001b[0m\u001b[0;34m[\u001b[0m\u001b[0;36m5\u001b[0m\u001b[0;34m,\u001b[0m \u001b[0;36m10\u001b[0m\u001b[0;34m,\u001b[0m \u001b[0;36m15\u001b[0m\u001b[0;34m]\u001b[0m\u001b[0;34m)\u001b[0m\u001b[0;34m)\u001b[0m\u001b[0;34m\u001b[0m\u001b[0;34m\u001b[0m\u001b[0m\n\u001b[0m\u001b[1;32m     52\u001b[0m \u001b[0;31m# jnp.ones(11).shape, jnp.linspace(0,10, num=11).shape\u001b[0m\u001b[0;34m\u001b[0m\u001b[0;34m\u001b[0m\u001b[0;34m\u001b[0m\u001b[0m\n\u001b[1;32m     53\u001b[0m \u001b[0;31m# mu = np.ones(2)*.5\u001b[0m\u001b[0;34m\u001b[0m\u001b[0;34m\u001b[0m\u001b[0;34m\u001b[0m\u001b[0m\n",
      "\u001b[0;32m<ipython-input-281-7930c623e4a3>\u001b[0m in \u001b[0;36mf2\u001b[0;34m(mu, k)\u001b[0m\n\u001b[1;32m     19\u001b[0m     \u001b[0mupper\u001b[0m \u001b[0;34m=\u001b[0m \u001b[0mjnp\u001b[0m\u001b[0;34m.\u001b[0m\u001b[0mclip\u001b[0m\u001b[0;34m(\u001b[0m\u001b[0;34m(\u001b[0m\u001b[0mresponses\u001b[0m\u001b[0;34m/\u001b[0m\u001b[0;36m10.\u001b[0m\u001b[0;34m)\u001b[0m \u001b[0;34m+\u001b[0m \u001b[0;36m.05\u001b[0m\u001b[0;34m,\u001b[0m \u001b[0;36m0.\u001b[0m\u001b[0;34m,\u001b[0m \u001b[0;36m1.\u001b[0m\u001b[0;34m)\u001b[0m\u001b[0;34m\u001b[0m\u001b[0;34m\u001b[0m\u001b[0m\n\u001b[1;32m     20\u001b[0m \u001b[0;34m\u001b[0m\u001b[0m\n\u001b[0;32m---> 21\u001b[0;31m     \u001b[0mprob_resps\u001b[0m \u001b[0;34m=\u001b[0m \u001b[0mbetacdf\u001b[0m\u001b[0;34m(\u001b[0m\u001b[0ma\u001b[0m\u001b[0;34m,\u001b[0m \u001b[0mb\u001b[0m\u001b[0;34m,\u001b[0m \u001b[0mupper\u001b[0m\u001b[0;34m)\u001b[0m \u001b[0;34m-\u001b[0m \u001b[0mbetacdf\u001b[0m\u001b[0;34m(\u001b[0m\u001b[0ma\u001b[0m\u001b[0;34m,\u001b[0m \u001b[0mb\u001b[0m\u001b[0;34m,\u001b[0m \u001b[0mlower\u001b[0m\u001b[0;34m)\u001b[0m \u001b[0;31m# needs to be (n, 11)\u001b[0m\u001b[0;34m\u001b[0m\u001b[0;34m\u001b[0m\u001b[0m\n\u001b[0m\u001b[1;32m     22\u001b[0m \u001b[0;34m\u001b[0m\u001b[0m\n\u001b[1;32m     23\u001b[0m     \u001b[0;32mreturn\u001b[0m\u001b[0;34m(\u001b[0m\u001b[0mprob_resps\u001b[0m\u001b[0;34m)\u001b[0m\u001b[0;34m\u001b[0m\u001b[0;34m\u001b[0m\u001b[0m\n",
      "\u001b[0;32m/opt/conda/lib/python3.8/site-packages/jax/_src/numpy/vectorize.py\u001b[0m in \u001b[0;36mwrapped\u001b[0;34m(*args)\u001b[0m\n\u001b[1;32m    272\u001b[0m       \u001b[0moutput_core_dims\u001b[0m \u001b[0;34m=\u001b[0m \u001b[0;32mNone\u001b[0m\u001b[0;34m\u001b[0m\u001b[0;34m\u001b[0m\u001b[0m\n\u001b[1;32m    273\u001b[0m \u001b[0;34m\u001b[0m\u001b[0m\n\u001b[0;32m--> 274\u001b[0;31m     broadcast_shape, dim_sizes = _parse_input_dimensions(\n\u001b[0m\u001b[1;32m    275\u001b[0m         args, input_core_dims, error_context)\n\u001b[1;32m    276\u001b[0m \u001b[0;34m\u001b[0m\u001b[0m\n",
      "\u001b[0;32m/opt/conda/lib/python3.8/site-packages/jax/_src/numpy/vectorize.py\u001b[0m in \u001b[0;36m_parse_input_dimensions\u001b[0;34m(args, input_core_dims, error_context)\u001b[0m\n\u001b[1;32m    121\u001b[0m     \u001b[0mndim\u001b[0m \u001b[0;34m=\u001b[0m \u001b[0marg\u001b[0m\u001b[0;34m.\u001b[0m\u001b[0mndim\u001b[0m \u001b[0;34m-\u001b[0m \u001b[0mlen\u001b[0m\u001b[0;34m(\u001b[0m\u001b[0mcore_dims\u001b[0m\u001b[0;34m)\u001b[0m\u001b[0;34m\u001b[0m\u001b[0;34m\u001b[0m\u001b[0m\n\u001b[1;32m    122\u001b[0m     \u001b[0mshapes\u001b[0m\u001b[0;34m.\u001b[0m\u001b[0mappend\u001b[0m\u001b[0;34m(\u001b[0m\u001b[0marg\u001b[0m\u001b[0;34m.\u001b[0m\u001b[0mshape\u001b[0m\u001b[0;34m[\u001b[0m\u001b[0;34m:\u001b[0m\u001b[0mndim\u001b[0m\u001b[0;34m]\u001b[0m\u001b[0;34m)\u001b[0m\u001b[0;34m\u001b[0m\u001b[0;34m\u001b[0m\u001b[0m\n\u001b[0;32m--> 123\u001b[0;31m   \u001b[0mbroadcast_shape\u001b[0m \u001b[0;34m=\u001b[0m \u001b[0mlax\u001b[0m\u001b[0;34m.\u001b[0m\u001b[0mbroadcast_shapes\u001b[0m\u001b[0;34m(\u001b[0m\u001b[0;34m*\u001b[0m\u001b[0mshapes\u001b[0m\u001b[0;34m)\u001b[0m\u001b[0;34m\u001b[0m\u001b[0;34m\u001b[0m\u001b[0m\n\u001b[0m\u001b[1;32m    124\u001b[0m   \u001b[0;31m# TODO(mattjj): this code needs updating for dynamic shapes (hence ignore)\u001b[0m\u001b[0;34m\u001b[0m\u001b[0;34m\u001b[0m\u001b[0;34m\u001b[0m\u001b[0m\n\u001b[1;32m    125\u001b[0m   \u001b[0;32mreturn\u001b[0m \u001b[0mbroadcast_shape\u001b[0m\u001b[0;34m,\u001b[0m \u001b[0mdim_sizes\u001b[0m  \u001b[0;31m# type: ignore\u001b[0m\u001b[0;34m\u001b[0m\u001b[0;34m\u001b[0m\u001b[0m\n",
      "\u001b[0;32m/opt/conda/lib/python3.8/site-packages/jax/_src/lax/lax.py\u001b[0m in \u001b[0;36mbroadcast_shapes\u001b[0;34m(*shapes)\u001b[0m\n\u001b[1;32m    120\u001b[0m     \u001b[0;32mreturn\u001b[0m \u001b[0m_broadcast_shapes_cached\u001b[0m\u001b[0;34m(\u001b[0m\u001b[0;34m*\u001b[0m\u001b[0mshapes\u001b[0m\u001b[0;34m)\u001b[0m\u001b[0;34m\u001b[0m\u001b[0;34m\u001b[0m\u001b[0m\n\u001b[1;32m    121\u001b[0m   \u001b[0;32mexcept\u001b[0m\u001b[0;34m:\u001b[0m\u001b[0;34m\u001b[0m\u001b[0;34m\u001b[0m\u001b[0m\n\u001b[0;32m--> 122\u001b[0;31m     \u001b[0;32mreturn\u001b[0m \u001b[0m_broadcast_shapes_uncached\u001b[0m\u001b[0;34m(\u001b[0m\u001b[0;34m*\u001b[0m\u001b[0mshapes\u001b[0m\u001b[0;34m)\u001b[0m\u001b[0;34m\u001b[0m\u001b[0;34m\u001b[0m\u001b[0m\n\u001b[0m\u001b[1;32m    123\u001b[0m \u001b[0;34m\u001b[0m\u001b[0m\n\u001b[1;32m    124\u001b[0m \u001b[0;34m@\u001b[0m\u001b[0mcache\u001b[0m\u001b[0;34m(\u001b[0m\u001b[0;34m)\u001b[0m\u001b[0;34m\u001b[0m\u001b[0;34m\u001b[0m\u001b[0m\n",
      "\u001b[0;32m/opt/conda/lib/python3.8/site-packages/jax/_src/lax/lax.py\u001b[0m in \u001b[0;36m_broadcast_shapes_uncached\u001b[0;34m(*shapes)\u001b[0m\n\u001b[1;32m    140\u001b[0m   \u001b[0mresult_shape\u001b[0m \u001b[0;34m=\u001b[0m \u001b[0m_try_broadcast_shapes\u001b[0m\u001b[0;34m(\u001b[0m\u001b[0mshape_list\u001b[0m\u001b[0;34m)\u001b[0m\u001b[0;34m\u001b[0m\u001b[0;34m\u001b[0m\u001b[0m\n\u001b[1;32m    141\u001b[0m   \u001b[0;32mif\u001b[0m \u001b[0mresult_shape\u001b[0m \u001b[0;32mis\u001b[0m \u001b[0;32mNone\u001b[0m\u001b[0;34m:\u001b[0m\u001b[0;34m\u001b[0m\u001b[0;34m\u001b[0m\u001b[0m\n\u001b[0;32m--> 142\u001b[0;31m     raise ValueError(\"Incompatible shapes for broadcasting: {}\"\n\u001b[0m\u001b[1;32m    143\u001b[0m                      .format(tuple(shape_list)))\n\u001b[1;32m    144\u001b[0m   \u001b[0;32mreturn\u001b[0m \u001b[0mresult_shape\u001b[0m\u001b[0;34m\u001b[0m\u001b[0;34m\u001b[0m\u001b[0m\n",
      "\u001b[0;31mValueError\u001b[0m: Incompatible shapes for broadcasting: ((1, 3), (1, 3), (3, 11))"
     ]
    }
   ],
   "source": [
    "# betacdf2(np.ones(2), np.ones(2), np.array([[.25, .5, .75], [.25,.5,.75]]))\n",
    "\n",
    "# np.broadcast_to(np.ones(3), (2,3))\n",
    "# vals = jnp.linspace(jnp.ones(3)*1e-5, jnp.ones(3)*1.-1e-5, num=10)\n",
    "# vals.shape, np.array([[.25, .5, .75], [.25,.5,.75]]).shape\n",
    "# jnp.exp(dist.Beta(np.ones(3)*3, np.ones(3)*3).log_prob(vals))\n",
    "# jnp.sum(probs/10000., axis=0)\n",
    "# x = np.array([[.25, .5, .75], [.25,.5,.75]])\n",
    "# alpha = np.ones(2)\n",
    "# beta = np.ones(2)\n",
    "# N = alpha.shape[0]\n",
    "# vals = jnp.linspace(1e-5, 1.-1e-5, num=10)\n",
    "# np.broadcast_to(x, (x.shape[0], vals.shape[9])\n",
    "# probs = dist.Beta(alpha, beta).log_prob(vals)\n",
    "# jnp.where(vals <= , probs, 0.)\n",
    "\n",
    "# def betacdf2(alpha, beta, x):\n",
    "#     # assume alpha, beta have length of N\n",
    "#     # x.shape = (N, z)\n",
    "#     N = alpha.shape[0]\n",
    "#     vals = jnp.linspace(jnp.ones(N)*1e-5, jnp.ones(N)*1.-1e-5, num=10)\n",
    "#     probs = jnp.exp(dist.Beta(alpha, beta).log_prob(vals))\n",
    "#     # then sum up probs below x \n",
    "#     validprobs = jnp.where(vals <= x, probs, 0.)\n",
    "    \n",
    "#     return jnp.sum(validprobs/10000.) # output shape is (N, z)\n",
    "\n",
    "# betacdf2(np.ones(2), np.ones(2), np.array([[.25, .5, .75], [.25,.5,.75]]).T)\n",
    "# vals.shape\n",
    "# probs = jnp.exp(dist.Beta(alpha, beta).log_prob(vals))\n",
    "# then sum up probs below x \n",
    "# validprobs = jnp.where(vals <= x, probs, 0.)\n",
    "\n",
    "\n",
    "# def betacdf(alpha, beta, x):\n",
    "#     vals = jnp.linspace(1e-5, 1.-1e-5, num=10000)\n",
    "#     probs = jnp.exp(dist.Beta(alpha, beta).log_prob(vals))\n",
    "#     # then sum up probs below x \n",
    "#     validprobs = jnp.where(vals <= x, probs, 0.)\n",
    "    \n",
    "#     return jnp.sum(validprobs/10000.)\n",
    "\n",
    "# betacdf = jax.vmap(jax.vmap(betacdf, (0, 0, 0)), (None,None,1))\n",
    "# betacdf(np.ones(2), np.ones(2), np.array([[.25, .5, .75], [.25, .5, .75]]))\n",
    "\n",
    "## works\n",
    "# xyz =jax.vmap(betacdf, (0, 0, 0))#(3, 3, np.array([.25, .5, .75]))\n",
    "# jax.vmap(xyz, (None, None, 1))(np.ones(2), np.ones(2), np.array([[.25, .5, .75], [.25, .5, .75]]))\n",
    "\n",
    "\n",
    "# f2(np.array([.5, .5, .75]), np.array([5, 10, 15]))\n",
    "# jnp.ones(11).shape, jnp.linspace(0,10, num=11).shape\n",
    "# mu = np.ones(2)*.5\n",
    "# k = np.ones(2)*10\n",
    "\n",
    "# a = mu*k\n",
    "# b = (1.-mu)*k\n",
    "\n",
    "# responses = jnp.linspace(0,10, num=11)\n",
    "# responses = jnp.broadcast_to(responses, (mu.shape[0], responses.shape[0]))\n",
    "\n",
    "# lower = jnp.clip((responses/10.) - .05, 0., 1.)\n",
    "# upper = jnp.clip((responses/10.) + .05, 0., 1.)\n",
    "\n",
    "# prob_resps = betacdf(a, b, upper) - betacdf(a, b, lower)\n",
    "\n",
    "# prob_resps.T.shape\n",
    "\n",
    "# dist.CategoricalProbs(probs=jnp.array([.25,.5,.25])).sample(PRNGKey(0), (11,))\n",
    "# dist.CategoricalProbs(probs=jnp.array([[.25,.5,.25],[.25,.5,.25],[.25,.5,.25],[.25,.5,.25] ])).log_prob(jnp.array([0,1,2,0]))\n",
    "\n",
    "# jnp.array([[.25,.5,.25],[.25,.5,.25],[.25,.5,.25],[.25,.5,.25] ]).shape"
   ]
  },
  {
   "cell_type": "code",
   "execution_count": 73,
   "id": "rural-situation",
   "metadata": {},
   "outputs": [
    {
     "name": "stdout",
     "output_type": "stream",
     "text": [
      "\n",
      "                mean       std    median      5.0%     95.0%     n_eff     r_hat\n",
      "     alpha     -0.32      0.05     -0.32     -0.40     -0.23   1042.97      1.00\n",
      "      beta      1.47      0.07      1.47      1.35      1.58    934.76      1.00\n",
      "         k     17.39      2.29     17.32     13.52     20.95    800.06      1.00\n",
      "\n",
      "Number of divergences: 0\n"
     ]
    }
   ],
   "source": []
  },
  {
   "cell_type": "code",
   "execution_count": null,
   "id": "automatic-running",
   "metadata": {},
   "outputs": [],
   "source": []
  }
 ],
 "metadata": {
  "kernelspec": {
   "display_name": "Python 3",
   "language": "python",
   "name": "python3"
  },
  "language_info": {
   "codemirror_mode": {
    "name": "ipython",
    "version": 3
   },
   "file_extension": ".py",
   "mimetype": "text/x-python",
   "name": "python",
   "nbconvert_exporter": "python",
   "pygments_lexer": "ipython3",
   "version": "3.8.8"
  }
 },
 "nbformat": 4,
 "nbformat_minor": 5
}
