{
 "cells": [
  {
   "cell_type": "code",
   "execution_count": 1,
   "id": "coupled-shanghai",
   "metadata": {},
   "outputs": [],
   "source": [
    "import numpyro\n",
    "numpyro.enable_x64()\n",
    "# numpyro.util.set_host_device_count(4)\n",
    "import numpyro.distributions as dist\n",
    "\n",
    "import jax\n",
    "from jax import numpy as jnp\n",
    "from jax import random, vmap\n",
    "from numpyro.infer import DiscreteHMCGibbs, MCMC, NUTS, Predictive, SA\n",
    "from numpyro.contrib.funsor import config_enumerate\n",
    "\n",
    "from jax.scipy.special import digamma, polygamma, logit, expit, erf, gammaln\n",
    "\n",
    "import numpy as np\n",
    "from numpy.random import default_rng\n",
    "import pandas as pd\n",
    "import siuba as s\n",
    "\n",
    "from numpy import exp, log\n",
    "\n",
    "import scipy\n",
    "\n",
    "from plotnine import *\n",
    "# import seaborn as sns"
   ]
  },
  {
   "cell_type": "markdown",
   "id": "unknown-accounting",
   "metadata": {},
   "source": [
    "# Testing on some rounded data"
   ]
  },
  {
   "cell_type": "code",
   "execution_count": 2,
   "id": "decreased-kinase",
   "metadata": {},
   "outputs": [
    {
     "data": {
      "text/plain": [
       "DeviceArray([ 7,  7,  8,  8, 10,  7,  6,  8,  7,  9,  8,  7,  8,  9,  9,\n",
       "              7,  8,  7,  5,  6,  9,  6,  8,  9,  9,  8,  9,  9,  8,  8,\n",
       "              8,  5,  8,  3,  6,  7,  9,  7,  9,  5,  8,  9,  8,  6,  5,\n",
       "              7,  6,  6, 10,  7,  9,  9,  8,  8,  6,  9,  5,  8,  8,  7,\n",
       "              5,  5,  9,  9,  8,  8,  9,  8,  6,  7,  7,  9,  8,  7,  5,\n",
       "              6,  9,  9,  9,  6,  7,  8,  9,  7,  5,  7,  8,  8,  8,  8,\n",
       "              8,  9,  8,  8,  8,  7,  9,  8,  7,  8], dtype=int64)"
      ]
     },
     "execution_count": 2,
     "metadata": {},
     "output_type": "execute_result"
    }
   ],
   "source": [
    "from jax.random import PRNGKey\n",
    "\n",
    "X_raw = dist.Beta(.75*10, (1-.75)*10).sample(PRNGKey(10), (100,))\n",
    "x_round = round(X_raw*10)\n",
    "x_round"
   ]
  },
  {
   "cell_type": "code",
   "execution_count": 3,
   "id": "retired-exhibit",
   "metadata": {},
   "outputs": [],
   "source": [
    "def mymodel(x=None):\n",
    "    mu = numpyro.sample(\"mu\", dist.Beta(1,1)) # noise parameter\n",
    "    k = numpyro.sample(\"k\", dist.HalfCauchy(10)) # noise parameter\n",
    "    \n",
    "    with numpyro.plate(\"data\", x.shape[0]):\n",
    "        xhat = numpyro.sample(\"xhat\", dist.Beta(mu*k, (1-mu)*k), obs=x)"
   ]
  },
  {
   "cell_type": "code",
   "execution_count": 87,
   "id": "annoying-tract",
   "metadata": {},
   "outputs": [
    {
     "name": "stderr",
     "output_type": "stream",
     "text": [
      "sample: 100%|██████████| 4000/4000 [00:03<00:00, 1075.68it/s, 3 steps of size 8.10e-01. acc. prob=0.92]\n"
     ]
    }
   ],
   "source": [
    "kernel = NUTS(mymodel, target_accept_prob=.80)\n",
    "\n",
    "mcmc = MCMC(kernel, \n",
    "               num_warmup=2_000, \n",
    "               num_samples=2_000, \n",
    "               num_chains=1)\n",
    "\n",
    "mcmc.run(random.PRNGKey(0), X_raw)"
   ]
  },
  {
   "cell_type": "code",
   "execution_count": 88,
   "id": "bound-discount",
   "metadata": {},
   "outputs": [
    {
     "name": "stdout",
     "output_type": "stream",
     "text": [
      "\n",
      "                mean       std    median      5.0%     95.0%     n_eff     r_hat\n",
      "         k      8.81      1.19      8.77      6.87     10.73   1224.80      1.00\n",
      "        mu      0.75      0.01      0.75      0.72      0.77   1217.59      1.00\n",
      "\n",
      "Number of divergences: 0\n"
     ]
    }
   ],
   "source": [
    "mcmc.print_summary()"
   ]
  },
  {
   "cell_type": "code",
   "execution_count": 103,
   "id": "involved-kingston",
   "metadata": {},
   "outputs": [],
   "source": [
    "import tensorflow_probability.substrates.jax as tfp\n",
    "\n",
    "def f(mu, k):\n",
    "    a = mu*k\n",
    "    b = (1.-mu)*k\n",
    "    \n",
    "    responses = jnp.linspace(0,10, num=11)\n",
    "    lower = jnp.clip((responses/10.) - .05, 1e-3, 1-1e-3)\n",
    "    upper = jnp.clip((responses/10.) + .05, 1e-3, 1-1e-3)\n",
    "    \n",
    "    prob_resps = tfp.math.betainc(a, b, upper) - tfp.math.betainc(a, b, lower)\n",
    "    prob_resps = prob_resps / jnp.sum(prob_resps)\n",
    "    \n",
    "    return(prob_resps)\n",
    "\n",
    "\n",
    "def mymodel_round(x=None):\n",
    "    mu = numpyro.sample(\"mu\", dist.Beta(1,1)) # noise parameter\n",
    "    k = numpyro.sample(\"k\", dist.HalfCauchy(10)) # noise parameter\n",
    "\n",
    "    resp_probs = f(mu,k)\n",
    "    resp_probs = resp_probs/jnp.sum(resp_probs)\n",
    "    \n",
    "    with numpyro.plate(\"data\", x.shape[0]):\n",
    "\n",
    "        xhat = numpyro.sample(\"xhat\", dist.Categorical(probs=resp_probs), obs=x)\n"
   ]
  },
  {
   "cell_type": "code",
   "execution_count": 104,
   "id": "everyday-empty",
   "metadata": {},
   "outputs": [
    {
     "name": "stderr",
     "output_type": "stream",
     "text": [
      "sample: 100%|██████████| 2000/2000 [00:08<00:00, 247.03it/s, 3 steps of size 7.96e-01. acc. prob=0.93] \n"
     ]
    }
   ],
   "source": [
    "from numpyro.infer import init_to_median, init_to_value\n",
    "\n",
    "kernel = NUTS(mymodel_round, target_accept_prob=.80, init_strategy = init_to_value(values={\"mu\":.33, \"k\":5}))\n",
    "\n",
    "mcmc = MCMC(kernel, \n",
    "               num_warmup=1_000, \n",
    "               num_samples=1_000, \n",
    "               num_chains=1)\n",
    "\n",
    "mcmc.run(random.PRNGKey(0), x_round)"
   ]
  },
  {
   "cell_type": "code",
   "execution_count": 261,
   "id": "cardiac-fundamentals",
   "metadata": {},
   "outputs": [
    {
     "name": "stdout",
     "output_type": "stream",
     "text": [
      "\n",
      "                mean       std    median      5.0%     95.0%     n_eff     r_hat\n",
      "         k      9.69      1.43      9.69      7.50     12.03    785.03      1.00\n",
      "        mu      0.75      0.01      0.75      0.73      0.77    776.91      1.00\n",
      "\n",
      "Number of divergences: 0\n"
     ]
    }
   ],
   "source": [
    "mcmc.print_summary()"
   ]
  },
  {
   "cell_type": "code",
   "execution_count": 5,
   "id": "capable-country",
   "metadata": {},
   "outputs": [
    {
     "data": {
      "image/png": "[encoded data removed]",
      "text/plain": [
       "<Figure size 432x288 with 1 Axes>"
      ]
     },
     "metadata": {},
     "output_type": "display_data"
    },
    {
     "data": {
      "text/plain": [
       "<ggplot: (8741829331514)>"
      ]
     },
     "execution_count": 5,
     "metadata": {},
     "output_type": "execute_result"
    }
   ],
   "source": [
    "x_norm = dist.Normal(0.,1.).sample(PRNGKey(1), (100,))\n",
    "y = expit(-1 + 1.5*x_norm)\n",
    "y = dist.Beta(y*50., (1-y)*50.).sample(PRNGKey(1))\n",
    "\n",
    "y_round_10 = round(y*10)\n",
    "y_round_5 = round(y*20)\n",
    "y_round_1 = round(y*100)\n",
    "\n",
    "\n",
    "# x_binary = dist.Bernoulli(.5).sample(PRNGKey(1), (100,))\n",
    "# y = .25 + x_binary*.50\n",
    "# y = dist.Beta(y*50., (1-y)*50.).sample(PRNGKey(0))\n",
    "\n",
    "# y_round_bin10 = round(y*10)\n",
    "# y_round\n",
    "\n",
    "ggplot(aes(x=x_norm, y=y_round_10)) + geom_point()"
   ]
  },
  {
   "cell_type": "code",
   "execution_count": 6,
   "id": "literary-category",
   "metadata": {},
   "outputs": [],
   "source": [
    "# def f2(mu, k):\n",
    "#     a = mu*k\n",
    "#     b = (1.-mu)*k\n",
    "    \n",
    "#     rnd_unit_scaled = 1/10.\n",
    "    \n",
    "#     responses = jnp.linspace(0, 10, num=11)\n",
    "#     cuts = responses/10.\n",
    "    \n",
    "#     ## avoid calculating betainc near 0 and 1 seems to speed up sampling\n",
    "#     upper_probs = jnp.pad(tfp.math.betainc(a, b, cuts[0:10]+.05), (0,1), constant_values=(0.,1.))\n",
    "#     lower_probs = jnp.pad(tfp.math.betainc(a, b, cuts[1:11]-.05), (1,0), constant_values=(0.,1.))\n",
    "\n",
    "#     prob_resps = upper_probs - lower_probs\n",
    "#     prob_resps = (prob_resps + 1e-16) / jnp.sum(prob_resps)\n",
    "    \n",
    "#     return(prob_resps)\n",
    "\n",
    "\n",
    "responses_10 = jnp.linspace(0, 10, num=11)\n",
    "responses_5 = jnp.linspace(0, 20, num=21)\n",
    "responses_1 = jnp.linspace(0, 101, num=101)\n",
    "\n",
    "def f2(mu, k, responses):\n",
    "    # responses = jnp.linspace(0, 10, num=11)\n",
    "    \n",
    "    a = mu*k\n",
    "    b = (1.-mu)*k\n",
    "    \n",
    "    n_resps = (responses.shape[0]-1)\n",
    "    rnd_unit_scaled = 1/n_resps\n",
    "    \n",
    "    lower = jnp.clip((responses/n_resps) - rnd_unit_scaled/2., 1e-8, 1-1e-8)\n",
    "    upper = jnp.clip((responses/n_resps) + rnd_unit_scaled/2., 1e-8, 1-1e-8)\n",
    "    \n",
    "    prob_resps = tfp.math.betainc(a, b, upper) - tfp.math.betainc(a, b, lower)\n",
    "    prob_resps = (prob_resps + 1e-30) / jnp.sum(prob_resps) # add err to prevent divergences\n",
    "    \n",
    "    return(prob_resps)\n",
    "\n",
    "\n",
    "f2_multi = vmap(f2, (0, None, None))\n",
    "\n",
    "def mymodel_round2(x, y=None):\n",
    "    \n",
    "    alpha = numpyro.sample(\"alpha\", dist.Normal(0,1))\n",
    "    beta = numpyro.sample(\"beta\", dist.Normal(0,1))\n",
    "    k = numpyro.sample(\"k\", dist.HalfCauchy(10)) # noise parameter\n",
    "    \n",
    "    mu = expit(alpha + beta*x)\n",
    "\n",
    "    resp_probs = f2_multi(mu,k, responses_1)\n",
    "    \n",
    "    with numpyro.plate(\"data\", x.shape[0]):\n",
    "\n",
    "        yhat = numpyro.sample(\"yhat\", dist.Categorical(probs=resp_probs), obs=y) # rounded"
   ]
  },
  {
   "cell_type": "code",
   "execution_count": 27,
   "id": "parental-throw",
   "metadata": {},
   "outputs": [
    {
     "name": "stderr",
     "output_type": "stream",
     "text": [
      "sample: 100%|██████████| 2000/2000 [16:46<00:00,  1.99it/s, 3 steps of size 7.74e-01. acc. prob=0.91] \n"
     ]
    }
   ],
   "source": [
    "kernel2 = NUTS(\n",
    "    mymodel_round2, \n",
    "    target_accept_prob=.80#,\n",
    "    # init_strategy = init_to_value(values = {\"alpha\":0., \"beta\":0., \"k\":5.})\n",
    ")\n",
    "\n",
    "mcmc2 = MCMC(kernel2, \n",
    "               num_warmup=1_000, \n",
    "               num_samples=1_000, \n",
    "               num_chains=1)\n",
    "\n",
    "mcmc2.run(random.PRNGKey(0), x_norm, y_round_1)"
   ]
  },
  {
   "cell_type": "code",
   "execution_count": 28,
   "id": "detected-christianity",
   "metadata": {},
   "outputs": [
    {
     "name": "stdout",
     "output_type": "stream",
     "text": [
      "\n",
      "                mean       std    median      5.0%     95.0%     n_eff     r_hat\n",
      "     alpha     -1.01      0.04     -1.01     -1.07     -0.94    827.90      1.00\n",
      "      beta      1.51      0.04      1.51      1.44      1.59    637.04      1.00\n",
      "         k     49.98      7.23     49.81     38.08     61.28    855.53      1.00\n",
      "\n",
      "Number of divergences: 0\n"
     ]
    }
   ],
   "source": [
    "mcmc2.print_summary()"
   ]
  },
  {
   "cell_type": "markdown",
   "id": "appropriate-field",
   "metadata": {},
   "source": [
    "## This seems to work!\n",
    "\n",
    "looks like using the tensorflow `tfp.math.betainc` has saved the day and the code now works! A few other things were also needed/helped:\n",
    "\n",
    "* Add \"fudge\" factor to avoid divergent transitions (raise all response probs by 1e-16 and then re-normalize)\n",
    "* Avoid computing `betainc` for zero and one (either clip to 1e-8 or sub-in analytic 0 and 1). Not 100% sure why this is needed, possibly the gradients are weird there? Not sure which approach is more robust.\n",
    "* 64-bit mode seems to help (possibly due to `lgamma` per [this post](https://forum.pyro.ai/t/trouble-using-betabinomial-for-overdispersed-data/2410))\n",
    "\n",
    "Have tested with rounding to nearest 10th, and nearest .05 (slower), .01 (also slow, about linear)\n",
    "\n",
    "## Mixture models\n",
    "\n",
    "Now time to try a mixture model with unknown degree of rounding."
   ]
  },
  {
   "cell_type": "code",
   "execution_count": 8,
   "id": "understood-production",
   "metadata": {},
   "outputs": [
    {
     "data": {
      "image/png": "[encoded data removed]",
      "text/plain": [
       "<Figure size 640x480 with 1 Axes>"
      ]
     },
     "metadata": {},
     "output_type": "display_data"
    },
    {
     "data": {
      "text/plain": [
       "<ggplot: (8741913762841)>"
      ]
     },
     "execution_count": 8,
     "metadata": {},
     "output_type": "execute_result"
    }
   ],
   "source": [
    "sample_size = 100\n",
    "\n",
    "x_norm = dist.Normal(0.,1.).sample(PRNGKey(0), (sample_size,))\n",
    "\n",
    "# round_val = dist.Bernoulli(.25).sample(PRNGKey(1), (sample_size,))\n",
    "round_policy = dist.Categorical(jnp.array([.1,.1,.25,.55])).sample(PRNGKey(1), (sample_size,))\n",
    "round_val = np.where(round_policy <=1, 1, np.where(round_policy==2, 5, 10))\n",
    "\n",
    "y = expit(-1 + 1.5*x_norm)\n",
    "y = dist.Beta(y*50., (1-y)*50.).sample(PRNGKey(0))\n",
    "y_rand = dist.Beta(1., 1.).sample(PRNGKey(0), (sample_size,))\n",
    "y = jnp.where(round_policy==0, y_rand, y)\n",
    "\n",
    "y_round_mix = round(y*100/round_val)*round_val\n",
    "\n",
    "\n",
    "# y_round_full10 = round(y*100/10)*10\n",
    "\n",
    "ggplot(aes(x=x_norm, y=y_round_mix, color=round_policy)) + geom_point()"
   ]
  },
  {
   "cell_type": "code",
   "execution_count": 47,
   "id": "excited-outdoors",
   "metadata": {},
   "outputs": [
    {
     "data": {
      "text/plain": [
       "DeviceArray([3, 2, 3, 3, 3, 3, 1, 3, 1, 3, 3, 0, 3, 3, 2, 2, 2, 3, 3, 3,\n",
       "             2, 2, 3, 1, 3, 0, 3, 3, 1, 3, 0, 0, 2, 3, 3, 3, 3, 3, 1, 3,\n",
       "             3, 2, 3, 3, 3, 3, 3, 2, 3, 0, 2, 2, 2, 0, 3, 1, 2, 0, 2, 3,\n",
       "             1, 3, 3, 3, 1, 3, 2, 3, 2, 3, 3, 3, 3, 0, 3, 2, 0, 2, 2, 3,\n",
       "             1, 2, 3, 3, 3, 0, 0, 3, 3, 0, 2, 3, 0, 3, 3, 2, 2, 1, 3, 2],            dtype=int64)"
      ]
     },
     "execution_count": 47,
     "metadata": {},
     "output_type": "execute_result"
    }
   ],
   "source": [
    "round_policy"
   ]
  },
  {
   "cell_type": "code",
   "execution_count": 76,
   "id": "quantitative-tolerance",
   "metadata": {},
   "outputs": [],
   "source": [
    "def sum_probs(probs):\n",
    "    # numerically stable summing of probabilities\n",
    "    return jnp.exp(jax.scipy.special.logsumexp(jnp.log(probs)))\n",
    "\n",
    "def log_sum_probs(probs):\n",
    "    # numerically stable summing of probabilities\n",
    "    return jax.scipy.special.logsumexp(jnp.log(probs))\n",
    "\n",
    "\n",
    "    \n",
    "def logdiff(l1, l2):\n",
    "    return l1 + tfp.math.log1mexp(l2-l1)\n",
    "    # return l1 + jnp.log1p(-jnp.exp(-(l1-l2)))\n",
    "\n",
    "\n",
    "def subtract_probs(p1, p2):\n",
    "    # numerically stable difference of probabilities\n",
    "    return jnp.exp(logdiff(jnp.log(p1), jnp.log(p2)))\n",
    "\n",
    "\n",
    "def spread_vec(x, step_size): # this works without static arguments\n",
    "    base_steps = x.shape[0]\n",
    "    x_split = jnp.split(x, base_steps)\n",
    "    pad = jnp.zeros(step_size-1)\n",
    "    probs = jnp.stack([jnp.concatenate((i,pad)) for i in x_split]).flatten()\n",
    "    probs = probs[0:101]\n",
    "    return probs/jnp.sum(probs)\n",
    "\n",
    "\n",
    "def f3(mu, k, responses):\n",
    "    \n",
    "    a = mu*k\n",
    "    b = (1.-mu)*k\n",
    "    \n",
    "    n_resps = (responses.shape[0]-1)\n",
    "    step = int(100/n_resps)\n",
    "    rnd_unit_scaled = 1/n_resps\n",
    "    \n",
    "    lower = jnp.clip((responses/n_resps) - rnd_unit_scaled/2., 1e-8, 1.-1e-8)\n",
    "    upper = jnp.clip((responses/n_resps) + rnd_unit_scaled/2., 1e-8, 1.-1e-8)\n",
    "    \n",
    "    # prob_resps = subtract_probs(tfp.math.betainc(a, b, upper), tfp.math.betainc(a, b, lower))\n",
    "    prob_resps = tfp.math.betainc(a, b, upper) - tfp.math.betainc(a, b, lower)\n",
    "    prob_resps = spread_vec(prob_resps, step) + 1e-30\n",
    "    # prob_resps = jnp.exp(jnp.log(prob_resps) - log_sum_probs(prob_resps)) # numerically better\n",
    "    prob_resps = (prob_resps) / jnp.sum(prob_resps) # add err to prevent divergences\n",
    "    \n",
    "    return(prob_resps)\n",
    "\n",
    "\n",
    "f3_multi = vmap(f3, (0, None, None))\n",
    "\n",
    "\n",
    "def mymodel_round3(x, y=None):\n",
    "    \n",
    "    theta = numpyro.sample(\"theta\", dist.Dirichlet(jnp.ones(3)))\n",
    "\n",
    "    alpha = numpyro.sample(\"alpha\", dist.Normal(0,1))\n",
    "    beta = numpyro.sample(\"beta\", dist.Normal(0,1))\n",
    "    k = numpyro.sample(\"k\", dist.HalfCauchy(10)) # noise parameter\n",
    "    \n",
    "    mu = expit(alpha + beta*x)\n",
    "\n",
    "#     resp_probs_raw = jnp.stack([f3_multi(mu, k, responses_1)*theta[1], f3_multi(mu, k, responses_5)*theta[1], f3_multi(mu, k, responses_10)*theta[1]])\n",
    "#     theta_vec = jnp.broadcast_to(theta, (theta.shape[0], mu.shape[0]))\n",
    "    \n",
    "#     resp_probs = theta_vec*resp_probs_raw\n",
    "    \n",
    "    resp_probs = (\n",
    "        1./101.*theta[0] +\n",
    "        f3_multi(mu, k, responses_1)*theta[1] +\n",
    "        f3_multi(mu, k, responses_5)*theta[2] + \n",
    "        f3_multi(mu, k, responses_10)*theta[3]\n",
    "    )\n",
    "    \n",
    "    with numpyro.plate(\"data\", x.shape[0]):\n",
    "\n",
    "        yhat = numpyro.sample(\"yhat\", dist.Categorical(probs=resp_probs), obs=y) # rounded"
   ]
  },
  {
   "cell_type": "code",
   "execution_count": null,
   "id": "distinguished-ethernet",
   "metadata": {},
   "outputs": [],
   "source": [
    "kernel3 = NUTS(\n",
    "    mymodel_round3, \n",
    "    target_accept_prob=.80#,\n",
    "    # init_strategy = init_to_value(values = {\"alpha\":0., \"beta\":0., \"k\":5.})\n",
    ")\n",
    "\n",
    "mcmc3 = MCMC(kernel3, \n",
    "               num_warmup=1_000, \n",
    "               num_samples=1_000, \n",
    "               num_chains=1)\n",
    "\n",
    "mcmc3.run(random.PRNGKey(0), x_norm, y_round_mix)"
   ]
  },
  {
   "cell_type": "code",
   "execution_count": 332,
   "id": "personalized-queensland",
   "metadata": {},
   "outputs": [
    {
     "name": "stdout",
     "output_type": "stream",
     "text": [
      "\n",
      "                mean       std    median      5.0%     95.0%     n_eff     r_hat\n",
      "     alpha     -1.00      0.03     -1.00     -1.04     -0.95   1126.61      1.00\n",
      "      beta      1.48      0.03      1.48      1.42      1.53   1042.88      1.00\n",
      "         k     50.86      6.41     50.43     41.11     61.37   1054.73      1.00\n",
      "  theta[0]      0.11      0.02      0.10      0.07      0.14   1304.54      1.00\n",
      "  theta[1]      0.09      0.02      0.09      0.05      0.12   1271.95      1.00\n",
      "  theta[2]      0.27      0.04      0.27      0.21      0.34   1219.38      1.00\n",
      "  theta[3]      0.53      0.04      0.53      0.47      0.60   1357.72      1.00\n",
      "\n",
      "Number of divergences: 0\n"
     ]
    }
   ],
   "source": [
    "mcmc3.print_summary()"
   ]
  },
  {
   "cell_type": "markdown",
   "id": "aerial-memorial",
   "metadata": {},
   "source": [
    "### It works!\n",
    "\n",
    "Got it working for mixture of two rounding policies: model correctly recovers all parameters.\n",
    "\n",
    "And then got it working for mixture of 3 rounding policies plus a \"contaminant\" process! (though it took 36m for 2k samples)\n",
    "\n",
    "Attempts to speed things up below"
   ]
  },
  {
   "cell_type": "code",
   "execution_count": 100,
   "id": "vocational-equality",
   "metadata": {},
   "outputs": [
    {
     "data": {
      "image/png": "[encoded data removed]",
      "text/plain": [
       "<Figure size 640x480 with 1 Axes>"
      ]
     },
     "metadata": {},
     "output_type": "display_data"
    },
    {
     "data": {
      "text/plain": [
       "<ggplot: (8741810943064)>"
      ]
     },
     "execution_count": 100,
     "metadata": {},
     "output_type": "execute_result"
    }
   ],
   "source": [
    "sample_size = 100\n",
    "\n",
    "x_norm = dist.Normal(0.,1.).sample(PRNGKey(0), (sample_size,))\n",
    "\n",
    "# round_val = dist.Bernoulli(.25).sample(PRNGKey(1), (sample_size,))\n",
    "round_policy = dist.Categorical(jnp.array([.1,.35,.55])).sample(PRNGKey(1), (sample_size,))\n",
    "round_val = np.where(round_policy <=1, 5, 10)\n",
    "\n",
    "y = expit(-1 + 1.5*x_norm)\n",
    "y = dist.Beta(y*50., (1-y)*50.).sample(PRNGKey(0))\n",
    "y_rand = dist.Beta(1., 1.).sample(PRNGKey(0), (sample_size,))\n",
    "y = jnp.where(round_policy==0, y_rand, y)\n",
    "\n",
    "y_round_mix = jnp.asarray(round(y*100/round_val)*round_val/5, dtype=\"int\")\n",
    "\n",
    "ggplot(aes(x=x_norm, y=y_round_mix, color=round_policy)) + geom_point()"
   ]
  },
  {
   "cell_type": "code",
   "execution_count": 101,
   "id": "current-intellectual",
   "metadata": {},
   "outputs": [
    {
     "data": {
      "text/plain": [
       "DeviceArray([ 0, 11,  4, 10,  4, 14, 10, 18,  0,  2,  4,  8,  0,  6,  1,\n",
       "              6,  5,  2, 12,  4,  4,  8, 12, 11,  2,  5,  6,  8,  2, 10,\n",
       "              1,  4, 18, 14,  0,  6,  6,  6, 10,  4,  2, 13,  0, 14,  0,\n",
       "              6,  0,  9,  0,  5,  0,  6,  9, 14,  0,  8,  1, 11,  1, 16,\n",
       "             12, 12,  2,  2, 15,  4,  1, 10, 17,  4,  4,  8,  8, 10,  4,\n",
       "              6,  7,  0, 10,  0,  4,  6, 14, 12,  8,  9, 10,  4,  2, 13,\n",
       "             14,  4, 18,  6,  4, 18, 15,  0, 12,  1], dtype=int64)"
      ]
     },
     "execution_count": 101,
     "metadata": {},
     "output_type": "execute_result"
    }
   ],
   "source": [
    "y_round_mix"
   ]
  },
  {
   "cell_type": "code",
   "execution_count": 90,
   "id": "polar-movement",
   "metadata": {},
   "outputs": [],
   "source": [
    "## rounding stuff\n",
    "from jax import vmap\n",
    "\n",
    "def expand_to_fullscale10(probs):\n",
    "    # n_resps = probs.shape[0] # can't have sizes change based on arguments like this\n",
    "    # repeats = jnp.asarray(100/(n_resps-1), dtype=\"int64\")-1\n",
    "    \n",
    "    n_resps = 11 # probs.shape[0]\n",
    "    repeats = 1 # 100/n_resps - 1\n",
    "    \n",
    "    res = jnp.insert(probs, jnp.repeat(jnp.arange(1, n_resps), repeats), 0) + 1e-30\n",
    "    res = res/jnp.sum(res)\n",
    "    \n",
    "    return(res)\n",
    "\n",
    "\n",
    "\n",
    "def f(mu, k, responses):\n",
    "    \n",
    "    a = mu*k\n",
    "    b = (1.-mu)*k\n",
    "    \n",
    "    n_resps = (responses.shape[0]-1)\n",
    "    step = int(100/n_resps)\n",
    "    rnd_unit_scaled = 1/n_resps\n",
    "    \n",
    "    lower = jnp.clip((responses/n_resps) - rnd_unit_scaled/2., 1e-8, 1-1e-8)\n",
    "    upper = jnp.clip((responses/n_resps) + rnd_unit_scaled/2., 1e-8, 1-1e-8)\n",
    "    \n",
    "    prob_resps = tfp.math.betainc(a, b, upper) - tfp.math.betainc(a, b, lower)\n",
    "    \n",
    "    return(prob_resps)\n",
    "\n",
    "\n",
    "lbeta_cat_probs = vmap(f, (0, None, None))\n",
    "spread_probs5 = vmap(expand_to_fullscale5)\n",
    "# spread_probs10 = vmap(expand_to_fullscale10)\n",
    "\n",
    "responses_10 = jnp.linspace(0, 10, num=11)\n",
    "responses_5 = jnp.linspace(0, 20, num=21)\n",
    "# responses_1 = jnp.linspace(0, 101, num=101)"
   ]
  },
  {
   "cell_type": "code",
   "execution_count": 94,
   "id": "copyrighted-dietary",
   "metadata": {},
   "outputs": [],
   "source": [
    "def mymodel_round4(x, y=None):\n",
    "    \n",
    "    theta = numpyro.sample(\"theta\", dist.Dirichlet(jnp.ones(3)))\n",
    "\n",
    "    alpha = numpyro.sample(\"alpha\", dist.Normal(0,1))\n",
    "    beta = numpyro.sample(\"beta\", dist.Normal(0,1))\n",
    "    k = numpyro.sample(\"k\", dist.HalfCauchy(10)) # noise parameter\n",
    "    \n",
    "    mu = expit(alpha + beta*x)\n",
    "    \n",
    "    resp_probs = (\n",
    "        1./21.*theta[0] +\n",
    "        (lbeta_cat_probs(mu, k, responses_5) + 1e30)*theta[1] +\n",
    "        # spread_probs5(lbeta_cat_probs(mu, k, responses_5)*theta[2]) + \n",
    "        spread_probs10(lbeta_cat_probs(mu, k, responses_10)*theta[2])\n",
    "    )\n",
    "    \n",
    "    with numpyro.plate(\"data\", x.shape[0]):\n",
    "\n",
    "        yhat = numpyro.sample(\"yhat\", dist.Categorical(probs=resp_probs), obs=y) # rounded"
   ]
  },
  {
   "cell_type": "code",
   "execution_count": 102,
   "id": "irish-murray",
   "metadata": {},
   "outputs": [
    {
     "name": "stderr",
     "output_type": "stream",
     "text": [
      "warmup:  16%|█▋        | 325/2000 [01:35<08:10,  3.42it/s, 7 steps of size 6.98e-01. acc. prob=0.79] \n"
     ]
    },
    {
     "ename": "KeyboardInterrupt",
     "evalue": "",
     "output_type": "error",
     "traceback": [
      "\u001b[0;31m---------------------------------------------------------------------------\u001b[0m",
      "\u001b[0;31mKeyboardInterrupt\u001b[0m                         Traceback (most recent call last)",
      "\u001b[0;32m<ipython-input-102-a801bdb04d8a>\u001b[0m in \u001b[0;36m<module>\u001b[0;34m\u001b[0m\n\u001b[1;32m     10\u001b[0m                num_chains=1)\n\u001b[1;32m     11\u001b[0m \u001b[0;34m\u001b[0m\u001b[0m\n\u001b[0;32m---> 12\u001b[0;31m \u001b[0mmcmc4\u001b[0m\u001b[0;34m.\u001b[0m\u001b[0mrun\u001b[0m\u001b[0;34m(\u001b[0m\u001b[0mrandom\u001b[0m\u001b[0;34m.\u001b[0m\u001b[0mPRNGKey\u001b[0m\u001b[0;34m(\u001b[0m\u001b[0;36m0\u001b[0m\u001b[0;34m)\u001b[0m\u001b[0;34m,\u001b[0m \u001b[0mx_norm\u001b[0m\u001b[0;34m,\u001b[0m \u001b[0my_round_mix\u001b[0m\u001b[0;34m)\u001b[0m\u001b[0;34m\u001b[0m\u001b[0;34m\u001b[0m\u001b[0m\n\u001b[0m",
      "\u001b[0;32m/opt/conda/lib/python3.8/site-packages/numpyro/infer/mcmc.py\u001b[0m in \u001b[0;36mrun\u001b[0;34m(self, rng_key, extra_fields, init_params, *args, **kwargs)\u001b[0m\n\u001b[1;32m    591\u001b[0m         \u001b[0mmap_args\u001b[0m \u001b[0;34m=\u001b[0m \u001b[0;34m(\u001b[0m\u001b[0mrng_key\u001b[0m\u001b[0;34m,\u001b[0m \u001b[0minit_state\u001b[0m\u001b[0;34m,\u001b[0m \u001b[0minit_params\u001b[0m\u001b[0;34m)\u001b[0m\u001b[0;34m\u001b[0m\u001b[0;34m\u001b[0m\u001b[0m\n\u001b[1;32m    592\u001b[0m         \u001b[0;32mif\u001b[0m \u001b[0mself\u001b[0m\u001b[0;34m.\u001b[0m\u001b[0mnum_chains\u001b[0m \u001b[0;34m==\u001b[0m \u001b[0;36m1\u001b[0m\u001b[0;34m:\u001b[0m\u001b[0;34m\u001b[0m\u001b[0;34m\u001b[0m\u001b[0m\n\u001b[0;32m--> 593\u001b[0;31m             \u001b[0mstates_flat\u001b[0m\u001b[0;34m,\u001b[0m \u001b[0mlast_state\u001b[0m \u001b[0;34m=\u001b[0m \u001b[0mpartial_map_fn\u001b[0m\u001b[0;34m(\u001b[0m\u001b[0mmap_args\u001b[0m\u001b[0;34m)\u001b[0m\u001b[0;34m\u001b[0m\u001b[0;34m\u001b[0m\u001b[0m\n\u001b[0m\u001b[1;32m    594\u001b[0m             \u001b[0mstates\u001b[0m \u001b[0;34m=\u001b[0m \u001b[0mtree_map\u001b[0m\u001b[0;34m(\u001b[0m\u001b[0;32mlambda\u001b[0m \u001b[0mx\u001b[0m\u001b[0;34m:\u001b[0m \u001b[0mx\u001b[0m\u001b[0;34m[\u001b[0m\u001b[0mjnp\u001b[0m\u001b[0;34m.\u001b[0m\u001b[0mnewaxis\u001b[0m\u001b[0;34m,\u001b[0m \u001b[0;34m...\u001b[0m\u001b[0;34m]\u001b[0m\u001b[0;34m,\u001b[0m \u001b[0mstates_flat\u001b[0m\u001b[0;34m)\u001b[0m\u001b[0;34m\u001b[0m\u001b[0;34m\u001b[0m\u001b[0m\n\u001b[1;32m    595\u001b[0m         \u001b[0;32melse\u001b[0m\u001b[0;34m:\u001b[0m\u001b[0;34m\u001b[0m\u001b[0;34m\u001b[0m\u001b[0m\n",
      "\u001b[0;32m/opt/conda/lib/python3.8/site-packages/numpyro/infer/mcmc.py\u001b[0m in \u001b[0;36m_single_chain_mcmc\u001b[0;34m(self, init, args, kwargs, collect_fields)\u001b[0m\n\u001b[1;32m    402\u001b[0m             \u001b[0;32melse\u001b[0m \u001b[0mcollection_size\u001b[0m \u001b[0;34m//\u001b[0m \u001b[0mself\u001b[0m\u001b[0;34m.\u001b[0m\u001b[0mthinning\u001b[0m\u001b[0;34m\u001b[0m\u001b[0;34m\u001b[0m\u001b[0m\n\u001b[1;32m    403\u001b[0m         )\n\u001b[0;32m--> 404\u001b[0;31m         collect_vals = fori_collect(\n\u001b[0m\u001b[1;32m    405\u001b[0m             \u001b[0mlower_idx\u001b[0m\u001b[0;34m,\u001b[0m\u001b[0;34m\u001b[0m\u001b[0;34m\u001b[0m\u001b[0m\n\u001b[1;32m    406\u001b[0m             \u001b[0mupper_idx\u001b[0m\u001b[0;34m,\u001b[0m\u001b[0;34m\u001b[0m\u001b[0;34m\u001b[0m\u001b[0m\n",
      "\u001b[0;32m/opt/conda/lib/python3.8/site-packages/numpyro/util.py\u001b[0m in \u001b[0;36mfori_collect\u001b[0;34m(lower, upper, body_fun, init_val, transform, progbar, return_last_val, collection_size, thinning, **progbar_opts)\u001b[0m\n\u001b[1;32m    356\u001b[0m             \u001b[0;32mwith\u001b[0m \u001b[0mtqdm\u001b[0m\u001b[0;34m.\u001b[0m\u001b[0mtrange\u001b[0m\u001b[0;34m(\u001b[0m\u001b[0mupper\u001b[0m\u001b[0;34m)\u001b[0m \u001b[0;32mas\u001b[0m \u001b[0mt\u001b[0m\u001b[0;34m:\u001b[0m\u001b[0;34m\u001b[0m\u001b[0;34m\u001b[0m\u001b[0m\n\u001b[1;32m    357\u001b[0m                 \u001b[0;32mfor\u001b[0m \u001b[0mi\u001b[0m \u001b[0;32min\u001b[0m \u001b[0mt\u001b[0m\u001b[0;34m:\u001b[0m\u001b[0;34m\u001b[0m\u001b[0;34m\u001b[0m\u001b[0m\n\u001b[0;32m--> 358\u001b[0;31m                     \u001b[0mvals\u001b[0m \u001b[0;34m=\u001b[0m \u001b[0mjit\u001b[0m\u001b[0;34m(\u001b[0m\u001b[0m_body_fn\u001b[0m\u001b[0;34m)\u001b[0m\u001b[0;34m(\u001b[0m\u001b[0mi\u001b[0m\u001b[0;34m,\u001b[0m \u001b[0mvals\u001b[0m\u001b[0;34m)\u001b[0m\u001b[0;34m\u001b[0m\u001b[0;34m\u001b[0m\u001b[0m\n\u001b[0m\u001b[1;32m    359\u001b[0m                     \u001b[0mt\u001b[0m\u001b[0;34m.\u001b[0m\u001b[0mset_description\u001b[0m\u001b[0;34m(\u001b[0m\u001b[0mprogbar_desc\u001b[0m\u001b[0;34m(\u001b[0m\u001b[0mi\u001b[0m\u001b[0;34m)\u001b[0m\u001b[0;34m,\u001b[0m \u001b[0mrefresh\u001b[0m\u001b[0;34m=\u001b[0m\u001b[0;32mFalse\u001b[0m\u001b[0;34m)\u001b[0m\u001b[0;34m\u001b[0m\u001b[0;34m\u001b[0m\u001b[0m\n\u001b[1;32m    360\u001b[0m                     \u001b[0;32mif\u001b[0m \u001b[0mdiagnostics_fn\u001b[0m\u001b[0;34m:\u001b[0m\u001b[0;34m\u001b[0m\u001b[0;34m\u001b[0m\u001b[0m\n",
      "    \u001b[0;31m[... skipping hidden 1 frame]\u001b[0m\n",
      "\u001b[0;32m/opt/conda/lib/python3.8/site-packages/jax/_src/api.py\u001b[0m in \u001b[0;36mcache_miss\u001b[0;34m(*args, **kwargs)\u001b[0m\n\u001b[1;32m    520\u001b[0m       \u001b[0min_type\u001b[0m \u001b[0;34m=\u001b[0m \u001b[0mpe\u001b[0m\u001b[0;34m.\u001b[0m\u001b[0minfer_lambda_input_type\u001b[0m\u001b[0;34m(\u001b[0m\u001b[0;32mNone\u001b[0m\u001b[0;34m,\u001b[0m \u001b[0margs_flat\u001b[0m\u001b[0;34m)\u001b[0m\u001b[0;34m\u001b[0m\u001b[0;34m\u001b[0m\u001b[0m\n\u001b[1;32m    521\u001b[0m       \u001b[0mflat_fun\u001b[0m \u001b[0;34m=\u001b[0m \u001b[0mlu\u001b[0m\u001b[0;34m.\u001b[0m\u001b[0mannotate\u001b[0m\u001b[0;34m(\u001b[0m\u001b[0mflat_fun\u001b[0m\u001b[0;34m,\u001b[0m \u001b[0min_type\u001b[0m\u001b[0;34m)\u001b[0m\u001b[0;34m\u001b[0m\u001b[0;34m\u001b[0m\u001b[0m\n\u001b[0;32m--> 522\u001b[0;31m     out_flat = xla.xla_call(\n\u001b[0m\u001b[1;32m    523\u001b[0m         \u001b[0mflat_fun\u001b[0m\u001b[0;34m,\u001b[0m \u001b[0;34m*\u001b[0m\u001b[0margs_flat\u001b[0m\u001b[0;34m,\u001b[0m\u001b[0;34m\u001b[0m\u001b[0;34m\u001b[0m\u001b[0m\n\u001b[1;32m    524\u001b[0m         \u001b[0mdevice\u001b[0m\u001b[0;34m=\u001b[0m\u001b[0mdevice\u001b[0m\u001b[0;34m,\u001b[0m \u001b[0mbackend\u001b[0m\u001b[0;34m=\u001b[0m\u001b[0mbackend\u001b[0m\u001b[0;34m,\u001b[0m \u001b[0mname\u001b[0m\u001b[0;34m=\u001b[0m\u001b[0mflat_fun\u001b[0m\u001b[0;34m.\u001b[0m\u001b[0m__name__\u001b[0m\u001b[0;34m,\u001b[0m\u001b[0;34m\u001b[0m\u001b[0;34m\u001b[0m\u001b[0m\n",
      "\u001b[0;32m/opt/conda/lib/python3.8/site-packages/jax/core.py\u001b[0m in \u001b[0;36mbind\u001b[0;34m(self, fun, *args, **params)\u001b[0m\n\u001b[1;32m   1834\u001b[0m \u001b[0;34m\u001b[0m\u001b[0m\n\u001b[1;32m   1835\u001b[0m   \u001b[0;32mdef\u001b[0m \u001b[0mbind\u001b[0m\u001b[0;34m(\u001b[0m\u001b[0mself\u001b[0m\u001b[0;34m,\u001b[0m \u001b[0mfun\u001b[0m\u001b[0;34m,\u001b[0m \u001b[0;34m*\u001b[0m\u001b[0margs\u001b[0m\u001b[0;34m,\u001b[0m \u001b[0;34m**\u001b[0m\u001b[0mparams\u001b[0m\u001b[0;34m)\u001b[0m\u001b[0;34m:\u001b[0m\u001b[0;34m\u001b[0m\u001b[0;34m\u001b[0m\u001b[0m\n\u001b[0;32m-> 1836\u001b[0;31m     \u001b[0;32mreturn\u001b[0m \u001b[0mcall_bind\u001b[0m\u001b[0;34m(\u001b[0m\u001b[0mself\u001b[0m\u001b[0;34m,\u001b[0m \u001b[0mfun\u001b[0m\u001b[0;34m,\u001b[0m \u001b[0;34m*\u001b[0m\u001b[0margs\u001b[0m\u001b[0;34m,\u001b[0m \u001b[0;34m**\u001b[0m\u001b[0mparams\u001b[0m\u001b[0;34m)\u001b[0m\u001b[0;34m\u001b[0m\u001b[0;34m\u001b[0m\u001b[0m\n\u001b[0m\u001b[1;32m   1837\u001b[0m \u001b[0;34m\u001b[0m\u001b[0m\n\u001b[1;32m   1838\u001b[0m   \u001b[0;32mdef\u001b[0m \u001b[0mget_bind_params\u001b[0m\u001b[0;34m(\u001b[0m\u001b[0mself\u001b[0m\u001b[0;34m,\u001b[0m \u001b[0mparams\u001b[0m\u001b[0;34m)\u001b[0m\u001b[0;34m:\u001b[0m\u001b[0;34m\u001b[0m\u001b[0;34m\u001b[0m\u001b[0m\n",
      "\u001b[0;32m/opt/conda/lib/python3.8/site-packages/jax/core.py\u001b[0m in \u001b[0;36mcall_bind\u001b[0;34m(primitive, fun, *args, **params)\u001b[0m\n\u001b[1;32m   1850\u001b[0m   \u001b[0mtracers\u001b[0m \u001b[0;34m=\u001b[0m \u001b[0mmap\u001b[0m\u001b[0;34m(\u001b[0m\u001b[0mtop_trace\u001b[0m\u001b[0;34m.\u001b[0m\u001b[0mfull_raise\u001b[0m\u001b[0;34m,\u001b[0m \u001b[0margs\u001b[0m\u001b[0;34m)\u001b[0m\u001b[0;34m\u001b[0m\u001b[0;34m\u001b[0m\u001b[0m\n\u001b[1;32m   1851\u001b[0m   \u001b[0mfun_\u001b[0m \u001b[0;34m=\u001b[0m \u001b[0mlu\u001b[0m\u001b[0;34m.\u001b[0m\u001b[0mannotate\u001b[0m\u001b[0;34m(\u001b[0m\u001b[0mfun_\u001b[0m\u001b[0;34m,\u001b[0m \u001b[0mfun\u001b[0m\u001b[0;34m.\u001b[0m\u001b[0min_type\u001b[0m\u001b[0;34m)\u001b[0m\u001b[0;34m\u001b[0m\u001b[0;34m\u001b[0m\u001b[0m\n\u001b[0;32m-> 1852\u001b[0;31m   \u001b[0mouts\u001b[0m \u001b[0;34m=\u001b[0m \u001b[0mtop_trace\u001b[0m\u001b[0;34m.\u001b[0m\u001b[0mprocess_call\u001b[0m\u001b[0;34m(\u001b[0m\u001b[0mprimitive\u001b[0m\u001b[0;34m,\u001b[0m \u001b[0mfun_\u001b[0m\u001b[0;34m,\u001b[0m \u001b[0mtracers\u001b[0m\u001b[0;34m,\u001b[0m \u001b[0mparams\u001b[0m\u001b[0;34m)\u001b[0m\u001b[0;34m\u001b[0m\u001b[0;34m\u001b[0m\u001b[0m\n\u001b[0m\u001b[1;32m   1853\u001b[0m   \u001b[0;32mreturn\u001b[0m \u001b[0mmap\u001b[0m\u001b[0;34m(\u001b[0m\u001b[0mfull_lower\u001b[0m\u001b[0;34m,\u001b[0m \u001b[0mapply_todos\u001b[0m\u001b[0;34m(\u001b[0m\u001b[0menv_trace_todo\u001b[0m\u001b[0;34m(\u001b[0m\u001b[0;34m)\u001b[0m\u001b[0;34m,\u001b[0m \u001b[0mouts\u001b[0m\u001b[0;34m)\u001b[0m\u001b[0;34m)\u001b[0m\u001b[0;34m\u001b[0m\u001b[0;34m\u001b[0m\u001b[0m\n\u001b[1;32m   1854\u001b[0m \u001b[0;34m\u001b[0m\u001b[0m\n",
      "\u001b[0;32m/opt/conda/lib/python3.8/site-packages/jax/core.py\u001b[0m in \u001b[0;36mprocess_call\u001b[0;34m(self, primitive, f, tracers, params)\u001b[0m\n\u001b[1;32m    681\u001b[0m \u001b[0;34m\u001b[0m\u001b[0m\n\u001b[1;32m    682\u001b[0m   \u001b[0;32mdef\u001b[0m \u001b[0mprocess_call\u001b[0m\u001b[0;34m(\u001b[0m\u001b[0mself\u001b[0m\u001b[0;34m,\u001b[0m \u001b[0mprimitive\u001b[0m\u001b[0;34m,\u001b[0m \u001b[0mf\u001b[0m\u001b[0;34m,\u001b[0m \u001b[0mtracers\u001b[0m\u001b[0;34m,\u001b[0m \u001b[0mparams\u001b[0m\u001b[0;34m)\u001b[0m\u001b[0;34m:\u001b[0m\u001b[0;34m\u001b[0m\u001b[0;34m\u001b[0m\u001b[0m\n\u001b[0;32m--> 683\u001b[0;31m     \u001b[0;32mreturn\u001b[0m \u001b[0mprimitive\u001b[0m\u001b[0;34m.\u001b[0m\u001b[0mimpl\u001b[0m\u001b[0;34m(\u001b[0m\u001b[0mf\u001b[0m\u001b[0;34m,\u001b[0m \u001b[0;34m*\u001b[0m\u001b[0mtracers\u001b[0m\u001b[0;34m,\u001b[0m \u001b[0;34m**\u001b[0m\u001b[0mparams\u001b[0m\u001b[0;34m)\u001b[0m\u001b[0;34m\u001b[0m\u001b[0;34m\u001b[0m\u001b[0m\n\u001b[0m\u001b[1;32m    684\u001b[0m   \u001b[0mprocess_map\u001b[0m \u001b[0;34m=\u001b[0m \u001b[0mprocess_call\u001b[0m\u001b[0;34m\u001b[0m\u001b[0;34m\u001b[0m\u001b[0m\n\u001b[1;32m    685\u001b[0m \u001b[0;34m\u001b[0m\u001b[0m\n",
      "\u001b[0;32m/opt/conda/lib/python3.8/site-packages/jax/_src/dispatch.py\u001b[0m in \u001b[0;36m_xla_call_impl\u001b[0;34m(***failed resolving arguments***)\u001b[0m\n\u001b[1;32m    197\u001b[0m                               keep_unused, *arg_specs)\n\u001b[1;32m    198\u001b[0m   \u001b[0;32mtry\u001b[0m\u001b[0;34m:\u001b[0m\u001b[0;34m\u001b[0m\u001b[0;34m\u001b[0m\u001b[0m\n\u001b[0;32m--> 199\u001b[0;31m     \u001b[0;32mreturn\u001b[0m \u001b[0mcompiled_fun\u001b[0m\u001b[0;34m(\u001b[0m\u001b[0;34m*\u001b[0m\u001b[0margs\u001b[0m\u001b[0;34m)\u001b[0m\u001b[0;34m\u001b[0m\u001b[0;34m\u001b[0m\u001b[0m\n\u001b[0m\u001b[1;32m    200\u001b[0m   \u001b[0;32mexcept\u001b[0m \u001b[0mFloatingPointError\u001b[0m\u001b[0;34m:\u001b[0m\u001b[0;34m\u001b[0m\u001b[0;34m\u001b[0m\u001b[0m\n\u001b[1;32m    201\u001b[0m     \u001b[0;32massert\u001b[0m \u001b[0mconfig\u001b[0m\u001b[0;34m.\u001b[0m\u001b[0mjax_debug_nans\u001b[0m \u001b[0;32mor\u001b[0m \u001b[0mconfig\u001b[0m\u001b[0;34m.\u001b[0m\u001b[0mjax_debug_infs\u001b[0m  \u001b[0;31m# compiled_fun can only raise in this case\u001b[0m\u001b[0;34m\u001b[0m\u001b[0;34m\u001b[0m\u001b[0m\n",
      "\u001b[0;32m/opt/conda/lib/python3.8/site-packages/jax/_src/dispatch.py\u001b[0m in \u001b[0;36m_execute_compiled\u001b[0;34m(name, compiled, input_handler, output_buffer_counts, result_handler, has_unordered_effects, ordered_effects, kept_var_idx, *args)\u001b[0m\n\u001b[1;32m    715\u001b[0m     in_flat, token_handler = _add_tokens(has_unordered_effects, ordered_effects,\n\u001b[1;32m    716\u001b[0m                                          device, in_flat)\n\u001b[0;32m--> 717\u001b[0;31m   \u001b[0mout_flat\u001b[0m \u001b[0;34m=\u001b[0m \u001b[0mcompiled\u001b[0m\u001b[0;34m.\u001b[0m\u001b[0mexecute\u001b[0m\u001b[0;34m(\u001b[0m\u001b[0min_flat\u001b[0m\u001b[0;34m)\u001b[0m\u001b[0;34m\u001b[0m\u001b[0;34m\u001b[0m\u001b[0m\n\u001b[0m\u001b[1;32m    718\u001b[0m   \u001b[0mcheck_special\u001b[0m\u001b[0;34m(\u001b[0m\u001b[0mname\u001b[0m\u001b[0;34m,\u001b[0m \u001b[0mout_flat\u001b[0m\u001b[0;34m)\u001b[0m\u001b[0;34m\u001b[0m\u001b[0;34m\u001b[0m\u001b[0m\n\u001b[1;32m    719\u001b[0m   \u001b[0mout_bufs\u001b[0m \u001b[0;34m=\u001b[0m \u001b[0munflatten\u001b[0m\u001b[0;34m(\u001b[0m\u001b[0mout_flat\u001b[0m\u001b[0;34m,\u001b[0m \u001b[0moutput_buffer_counts\u001b[0m\u001b[0;34m)\u001b[0m\u001b[0;34m\u001b[0m\u001b[0;34m\u001b[0m\u001b[0m\n",
      "\u001b[0;31mKeyboardInterrupt\u001b[0m: "
     ]
    }
   ],
   "source": [
    "kernel4 = NUTS(\n",
    "    mymodel_round4, \n",
    "    target_accept_prob=.80#,\n",
    "    # init_strategy = init_to_value(values = {\"alpha\":0., \"beta\":0., \"k\":5.})\n",
    ")\n",
    "\n",
    "mcmc4 = MCMC(kernel4, \n",
    "               num_warmup=1_000, \n",
    "               num_samples=1_000, \n",
    "               num_chains=1)\n",
    "\n",
    "mcmc4.run(random.PRNGKey(0), x_norm, y_round_mix)"
   ]
  },
  {
   "cell_type": "code",
   "execution_count": 316,
   "id": "revised-smoke",
   "metadata": {},
   "outputs": [],
   "source": [
    "import arviz as az\n",
    "\n",
    "def make_arviz_data(mcmc, model, data):\n",
    "    posterior_samples = mcmc.get_samples()\n",
    "\n",
    "    posterior_predictive = Predictive(model, posterior_samples)(\n",
    "        random.PRNGKey(1), data\n",
    "    )\n",
    "    prior = Predictive(model, num_samples=500)(\n",
    "        random.PRNGKey(2), data\n",
    "    )\n",
    "\n",
    "    return az.from_numpyro(\n",
    "        mcmc,\n",
    "        prior = prior,\n",
    "        posterior_predictive = posterior_predictive\n",
    "    )\n",
    "\n",
    "azdata = make_arviz_data(mcmc3, mymodel_round3, x_norm)"
   ]
  },
  {
   "cell_type": "code",
   "execution_count": 320,
   "id": "committed-density",
   "metadata": {},
   "outputs": [
    {
     "data": {
      "text/plain": [
       "<AxesSubplot:xlabel='yhat / yhat'>"
      ]
     },
     "execution_count": 320,
     "metadata": {},
     "output_type": "execute_result"
    },
    {
     "data": {
      "image/png": "[encoded data removed]",
      "text/plain": [
       "<Figure size 640x480 with 1 Axes>"
      ]
     },
     "metadata": {},
     "output_type": "display_data"
    }
   ],
   "source": [
    "## arviz plots are kind of ugly for discrete data, have to do cumulative or it's wonky\n",
    "az.plot_ppc(azdata,kind=\"cumulative\")"
   ]
  },
  {
   "cell_type": "code",
   "execution_count": null,
   "id": "nutritional-poverty",
   "metadata": {},
   "outputs": [],
   "source": []
  }
 ],
 "metadata": {
  "kernelspec": {
   "display_name": "Python 3",
   "language": "python",
   "name": "python3"
  },
  "language_info": {
   "codemirror_mode": {
    "name": "ipython",
    "version": 3
   },
   "file_extension": ".py",
   "mimetype": "text/x-python",
   "name": "python",
   "nbconvert_exporter": "python",
   "pygments_lexer": "ipython3",
   "version": "3.8.8"
  }
 },
 "nbformat": 4,
 "nbformat_minor": 5
}
