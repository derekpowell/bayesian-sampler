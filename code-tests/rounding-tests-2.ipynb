{
 "cells": [
  {
   "cell_type": "code",
   "execution_count": 1,
   "id": "fantastic-overhead",
   "metadata": {},
   "outputs": [],
   "source": [
    "%config IPCompleter.use_jedi = False\n",
    "import numpyro\n",
    "numpyro.enable_x64()\n",
    "numpyro.util.set_host_device_count(4)\n",
    "import numpyro.distributions as dist\n",
    "\n",
    "import jax\n",
    "from jax import numpy as jnp\n",
    "from jax import random\n",
    "from numpyro.infer import DiscreteHMCGibbs, MCMC, NUTS, Predictive\n",
    "from numpyro.contrib.funsor import config_enumerate\n",
    "\n",
    "from jax.scipy.special import digamma, polygamma, logit, expit, erf\n",
    "\n",
    "import numpy as np\n",
    "from numpy.random import default_rng\n",
    "import pandas as pd\n",
    "import seaborn as sns"
   ]
  },
  {
   "cell_type": "markdown",
   "id": "charming-knock",
   "metadata": {},
   "source": [
    "https://stla.github.io/stlapblog/posts/RoundedData.html <-- this blog post is helpful\n",
    "https://www.zora.uzh.ch/id/eprint/171988/1/ZORA_NL_171988.pdf <-- this paper could be helpful"
   ]
  },
  {
   "cell_type": "code",
   "execution_count": 19,
   "id": "illegal-converter",
   "metadata": {},
   "outputs": [
    {
     "name": "stderr",
     "output_type": "stream",
     "text": [
      "/usr/local/lib/python3.6/dist-packages/seaborn/_decorators.py:43: FutureWarning: Pass the following variables as keyword args: x, y. From version 0.12, the only valid positional argument will be `data`, and passing other arguments without an explicit keyword will result in an error or misinterpretation.\n",
      "  FutureWarning\n"
     ]
    },
    {
     "data": {
      "text/plain": [
       "<AxesSubplot:>"
      ]
     },
     "execution_count": 19,
     "metadata": {},
     "output_type": "execute_result"
    },
    {
     "data": {
      "image/png": "[encoded data removed]",
      "text/plain": [
       "<Figure size 432x288 with 1 Axes>"
      ]
     },
     "metadata": {
      "needs_background": "light"
     },
     "output_type": "display_data"
    }
   ],
   "source": [
    "# first data that is all rounded to five\n",
    "\n",
    "n_obs = 25\n",
    "rg = default_rng(12345)\n",
    "\n",
    "def round_to_one(x):\n",
    "    return jnp.round(x,0)\n",
    "\n",
    "def round_to_five(x):\n",
    "    return jnp.round(x/5,0)*5\n",
    "\n",
    "def round_to_twenty(x):\n",
    "    return jnp.round(x/20,0)*20\n",
    "\n",
    "# x_true = rg.beta(.25*10,.75*10,n_obs)*100\n",
    "x_true = rg.normal(50,10, n_obs)\n",
    "y_true = 20 + .8*x_true + rg.normal(0,3,n_obs)\n",
    "y_obs = round_to_five(y_true)\n",
    "\n",
    "\n",
    "sns.scatterplot(x_true, y_obs, alpha=.5)"
   ]
  },
  {
   "cell_type": "code",
   "execution_count": 20,
   "id": "defensive-demographic",
   "metadata": {},
   "outputs": [],
   "source": [
    "# def spread_vec(x, step_size):\n",
    "#     base_steps = x.shape[0]\n",
    "#     x_split = jnp.split(x, base_steps)\n",
    "#     pad = jnp.zeros(step_size-1) + jnp.exp(-30)\n",
    "#     probs = jnp.stack([jnp.concatenate((i,pad)) for i in x_split]).flatten()\n",
    "    \n",
    "#     return probs[:-(step_size-1)]/jnp.sum(probs[:(step_size-1)]) # normalize probabilities\n",
    "# def spread_vec(x, step_size):\n",
    "#     base_steps = x.shape[0]\n",
    "#     x_split = jnp.split(x, base_steps)\n",
    "#     pad = jnp.zeros(step_size-1) + jnp.exp(-30)\n",
    "#     probs = jnp.stack([jnp.concatenate((i,pad)) for i in x_split]).flatten()\n",
    "#     if step_size!=1:\n",
    "#         probs = probs[:base_steps*step_size-pad.shape[0]]\n",
    "#     return probs/jnp.sum(probs) # normalize probabilities\n",
    "\n",
    "def spread_vec(x, step_size):\n",
    "    base_steps = x.shape[0]\n",
    "    x_tall = x.reshape(-1,1) # reshape\n",
    "    pad = jnp.zeros([x.shape[0], step_size-1]) + jnp.exp(-60) # make zeros\n",
    "    probs = jnp.concatenate((x_tall, pad), axis=-1).flatten() # concatenate and flatten\n",
    "    probs = probs[:base_steps*step_size - (step_size-1)]    # index\n",
    "    \n",
    "    return probs/jnp.sum(probs) # normalize probabilities\n",
    "\n",
    "\n",
    "def logit_normal_cdf(mu, sigma, x):\n",
    "    inner = (logit(x) - mu)/ jnp.sqrt(2*jnp.power(sigma, 2))\n",
    "    return .5 * (1 + erf(inner))\n",
    "\n",
    "\n",
    "# def beta_approx_cdf(a, b, x):\n",
    "#     # normal approximation, not great\n",
    "#     # mode K(a, b) = ((a – 1)/(ab – 1))1/a = mode beta(α, β) = (α – 1)/(α + β – 2).\n",
    "#     mu_est = digamma(a) - digamma(b)\n",
    "#     sigma_est = jnp.sqrt(polygamma(1, a) + polygamma(1, b))\n",
    "    \n",
    "#     return logit_normal_cdf(mu_est, sigma_est, x)\n",
    "\n",
    "def beta_approx_params(a, b):\n",
    "    # normal approximation, not great\n",
    "    # mode K(a, b) = ((a – 1)/(ab – 1))1/a = mode beta(α, β) = (α – 1)/(α + β – 2).\n",
    "    mu_est = digamma(a) - digamma(b)\n",
    "    sigma_est = jnp.sqrt(polygamma(1, a) + polygamma(1, b))\n",
    "    \n",
    "    return mu_est, sigma_est\n",
    "\n",
    "\n",
    "def beta_approx_cdf_norm(a, b, x):\n",
    "    # normal approximation, not great\n",
    "    # mode K(a, b) = ((a – 1)/(ab – 1))1/a = mode beta(α, β) = (α – 1)/(α + β – 2).\n",
    "    mu = a/(a+b)\n",
    "    sigma = jnp.sqrt((a*b)/(jnp.power(a+b,2)*(a+b+1.)))\n",
    "    \n",
    "    return dist.Normal(mu, sigma).cdf(x)\n",
    "\n",
    "# def make_cuts(start, stop, step_size):\n",
    "#     cut_points = np.arange(start, stop, step_size)+step_size/2\n",
    "#     upper_pts = jnp.clip(cut_points + step_size/2 , a_max=100, a_min=0)\n",
    "#     lower_pts = jnp.clip(cut_points - step_size/2, a_max=100, a_min=0)\n",
    "#     return upper_pts, lower_pts\n",
    "\n",
    "def make_cuts(start, stop, step_size):\n",
    "    cut_points = np.arange(start, stop, step_size)\n",
    "    upper_pts = jnp.clip(cut_points + step_size/2 , a_max=100, a_min=0)\n",
    "    lower_pts = jnp.clip(cut_points - step_size/2, a_max=100, a_min=0)\n",
    "    return lower_pts, upper_pts\n",
    "\n",
    "\n",
    "def categorical_probs(a, b, step_size, max_size=100):\n",
    "\n",
    "    upper_pts, lower_pts = make_cuts(0,100,step_size)\n",
    "    \n",
    "#     prob_dist = beta_approx_cdf(a,b) # replace with Kumaraswamy approx.\n",
    "    probs = beta_approx_cdf(a,b,upper_pts/100.) - beta_approx_cdf(a,b,lower_pts/100.)\n",
    "    return probs\n",
    "\n",
    "def categorical_probs_spread(a, b, step_size, max_size=100):\n",
    "    x = categorical_probs(a, b, step_size, max_size)\n",
    "    \n",
    "    return spread_vec(x, step_size)"
   ]
  },
  {
   "cell_type": "code",
   "execution_count": 21,
   "id": "patient-mainstream",
   "metadata": {},
   "outputs": [],
   "source": [
    "def cat_probs_norm(mu, sigma, step_size, max_size=101):\n",
    "\n",
    "    lower_pts, upper_pts = make_cuts(0,101,step_size)\n",
    "    \n",
    "    prob_dist = dist.Normal(mu, sigma)\n",
    "    probs = prob_dist.cdf(upper_pts) - prob_dist.cdf(lower_pts) + jnp.exp(-30) # make sure it's non-zero\n",
    "    \n",
    "    return probs\n",
    "\n",
    "\n",
    "vec_cat_probs = jax.vmap(cat_probs_norm, in_axes = (0, None, None))\n",
    "vec_spread_vec = jax.vmap(spread_vec, in_axes = (0, None))\n",
    "\n",
    "def vec_cat_probs_spread(mu, sigma, step_size, max_size=101):\n",
    "\n",
    "    return vec_spread_vec(vec_cat_probs(mu, sigma, step_size), step_size)\n",
    "\n",
    "\n",
    "def rounding_model(X, y_obs=None, step_size=5):\n",
    "    alpha = numpyro.sample(\"alpha\", dist.Normal(0,100))\n",
    "    beta = numpyro.sample(\"beta\", dist.Normal(0,100))\n",
    "    sigma = numpyro.sample(\"sigma\", dist.HalfCauchy(50))\n",
    "    \n",
    "    yhat = alpha + beta*X\n",
    "    \n",
    "    with numpyro.plate(\"data\", X.shape[0]):\n",
    "\n",
    "        x_true_cp = vec_cat_probs(yhat, sigma, step_size)\n",
    "        numpyro.sample(\"x\", dist.Categorical(x_true_cp), obs=y_obs/step_size)\n",
    "        \n",
    "# the above works but (likely) not if you try to make it a latent thing. "
   ]
  },
  {
   "cell_type": "code",
   "execution_count": 22,
   "id": "unavailable-partner",
   "metadata": {},
   "outputs": [
    {
     "name": "stderr",
     "output_type": "stream",
     "text": [
      "sample: 100%|██████████| 2000/2000 [00:06<00:00, 329.82it/s, 31 steps of size 1.23e-01. acc. prob=0.95]\n"
     ]
    }
   ],
   "source": [
    "mcmc_test = MCMC(NUTS(rounding_model, target_accept_prob=.80), 1000, 1000, num_chains=1)\n",
    "mcmc_test.run(random.PRNGKey(0), x_true, y_obs, 5)   "
   ]
  },
  {
   "cell_type": "code",
   "execution_count": 23,
   "id": "compliant-albert",
   "metadata": {},
   "outputs": [
    {
     "name": "stdout",
     "output_type": "stream",
     "text": [
      "\n",
      "                mean       std    median      5.0%     95.0%     n_eff     r_hat\n",
      "     alpha     22.53      3.45     22.26     16.87     27.68    320.57      1.00\n",
      "      beta      0.75      0.07      0.75      0.64      0.85    321.85      1.00\n",
      "     sigma      3.30      0.63      3.21      2.24      4.25    361.76      1.00\n",
      "\n",
      "Number of divergences: 0\n"
     ]
    }
   ],
   "source": [
    "mcmc_test.print_summary()"
   ]
  },
  {
   "cell_type": "markdown",
   "id": "flexible-western",
   "metadata": {},
   "source": [
    "## Mixture model\n",
    "\n",
    "Works when we assume underlying latent gaussian. Even works allowing rounding to 1, but it is slow."
   ]
  },
  {
   "cell_type": "code",
   "execution_count": 27,
   "id": "healthy-bacteria",
   "metadata": {},
   "outputs": [],
   "source": [
    "def reshape_theta(theta, n_obs, n_steps, n_categories):\n",
    "    theta_vec = jnp.reshape(theta, (-1, n_steps))\n",
    "    theta_obj = theta_vec.repeat(n_obs, axis=-1)\n",
    "    theta_obj = jnp.reshape(theta_obj.repeat(n_categories, axis=-1), (n_steps, n_obs, n_categories))\n",
    "    \n",
    "    return theta_obj\n",
    "\n",
    "\n",
    "def rounding_mixture_model(X, y_obs=None):\n",
    "    n_obs = X.shape[0]\n",
    "    steps = jnp.array([1, 5, 10])    \n",
    "    theta = numpyro.sample(\"theta\", dist.Dirichlet(jnp.ones(len(steps))))\n",
    "\n",
    "    alpha = numpyro.sample(\"alpha\", dist.Normal(0,100))\n",
    "    beta = numpyro.sample(\"beta\", dist.Normal(0,100))\n",
    "    sigma = numpyro.sample(\"sigma\", dist.HalfCauchy(50))\n",
    "    \n",
    "    yhat = alpha + beta*X\n",
    "    \n",
    "    theta_obj = reshape_theta(theta, n_obs, len(steps), 101)\n",
    "\n",
    "    with numpyro.plate(\"data\", X.shape[0]):\n",
    "        \n",
    "        x_true_cp_stack = jnp.stack([ vec_cat_probs_spread(yhat, sigma, step_size)  for step_size in steps])\n",
    "#         x_true_cp = vec_cat_probs_spread(yhat, sigma, step_size)\n",
    "        x_true_cp = jnp.exp(jax.scipy.special.logsumexp(jnp.log(x_true_cp_stack) + jnp.log(theta_obj), axis=-3))\n",
    "        numpyro.sample(\"x\", dist.Categorical(x_true_cp), obs=y_obs)"
   ]
  },
  {
   "cell_type": "code",
   "execution_count": 28,
   "id": "regular-rings",
   "metadata": {},
   "outputs": [
    {
     "name": "stderr",
     "output_type": "stream",
     "text": [
      "sample: 100%|██████████| 2000/2000 [01:13<00:00, 27.15it/s, 31 steps of size 1.62e-01. acc. prob=0.91]\n"
     ]
    }
   ],
   "source": [
    "mcmc_test = MCMC(NUTS(rounding_mixture_model, target_accept_prob=.80), 1000, 1000, num_chains=1)\n",
    "mcmc_test.run(random.PRNGKey(0), x_true, y_obs)   "
   ]
  },
  {
   "cell_type": "code",
   "execution_count": 29,
   "id": "proof-explanation",
   "metadata": {},
   "outputs": [
    {
     "name": "stdout",
     "output_type": "stream",
     "text": [
      "\n",
      "                mean       std    median      5.0%     95.0%     n_eff     r_hat\n",
      "     alpha     22.89      3.51     22.85     17.36     28.94    267.16      1.00\n",
      "      beta      0.74      0.07      0.74      0.62      0.85    279.43      1.00\n",
      "     sigma      3.24      0.61      3.17      2.31      4.28    480.01      1.00\n",
      "  theta[0]      0.05      0.04      0.03      0.00      0.11    852.21      1.00\n",
      "  theta[1]      0.81      0.11      0.82      0.65      1.00    576.38      1.00\n",
      "  theta[2]      0.15      0.11      0.13      0.00      0.30    549.11      1.00\n",
      "\n",
      "Number of divergences: 0\n"
     ]
    }
   ],
   "source": [
    "mcmc_test.print_summary()"
   ]
  },
  {
   "cell_type": "markdown",
   "id": "satellite-investor",
   "metadata": {},
   "source": [
    "# Where am I?\n",
    "\n",
    "## What's working?\n",
    "\n",
    "I can model a latent mixture of rounding policies when the latent variable is normal because i have a differentiable implementation of `dist.Normal().cdf()`. So I don't sample the latent, I just pass the `yhat` into a function that directly creates the categorical probabilities for the different rounding schemes.\n",
    "\n",
    "I can also model data with a known rounding policy using the measurement error approach advocated by Gelman. In this case, I should be able to model this for any underlying distribution (Normal, Beta, etc.).\n",
    "\n",
    "So if I know the rounding policy, can proceed. If I don't, can only get it to work if the latent underlying distribution is normal (and it's a bit slow with rounding to 1 of 100 is an option).\n",
    "\n",
    "## What's not working\n",
    "\n",
    "My original vision was a \"composable\" approach where I'd sample a latent \"true\" variable and then pass that into the rounding model to predict the observed values. The idea here was you could have any model you like for the \"cognitve\" part of the model and then compose that with whatever other factors you like for the \"response\" part of the model. This might not be something that's at all feasible, or I might just not be implementing it right (it's possible I have been using a \"centered\" parameterization and could do better with a \"non-centered\" parameterization, but it's unclear how to implement that change for anything but a normal distribution, which makes it sort of pointless). \n",
    "\n",
    "\n",
    "## numerically compute beta CDF?\n",
    "\n",
    "The reason I can't adapt the approach that is working for the bayesian sampler work is that the underlying latent distribution is not a normal distribution but rather Beta. And the cdf of the beta is does not have its derivatives/gradients implemented in `jax`, so it can't be used directly. Theoretically, I should be able to compute an approximation to the cdf with numerical integration purly in jax.numpy functions, which would preserve gradients. It's easy enough to write the `numeric_beta_cdf()` function but it doesn't work when implemented inside a numpyro program."
   ]
  },
  {
   "cell_type": "markdown",
   "id": "pursuant-fabric",
   "metadata": {},
   "source": [
    "# numerical estimation of normal cdf\n",
    "\n",
    "To see if this idea works, going to try the numerical integration with the normal CDF. This way I have a test case that I know works with the analytic CDF with which to compare."
   ]
  },
  {
   "cell_type": "code",
   "execution_count": 24,
   "id": "private-accommodation",
   "metadata": {},
   "outputs": [
    {
     "data": {
      "text/plain": [
       "DeviceArray([-4.93817110e-01, -6.24736780e-03, -3.24893953e-14,\n",
       "              8.75651076e-27,  8.75651076e-27,  8.75651076e-27,\n",
       "              8.75651076e-27,  8.75651076e-27,  8.75651076e-27,\n",
       "              8.75651076e-27,  8.75651076e-27,  8.75651076e-27,\n",
       "              8.75651076e-27,  8.75651076e-27,  8.75651076e-27,\n",
       "              8.75651076e-27,  8.75651076e-27,  8.75651076e-27,\n",
       "              8.75651076e-27,  8.75651076e-27,  8.75651076e-27],            dtype=float64)"
      ]
     },
     "execution_count": 24,
     "metadata": {},
     "output_type": "execute_result"
    }
   ],
   "source": [
    "# can we do it replacing the analytic CDF with a numerical integration approximation?\n",
    "def numeric_norm_cdf(mu, sigma, lower, upper, approx_steps=1000):\n",
    "    \n",
    "    x_region = jnp.linspace( lower, upper, approx_steps)\n",
    "    return jnp.sum(jnp.exp(dist.Normal(mu, sigma).log_prob(x_region))*((lower-upper)/x_region.shape[0]), axis=-2)\n",
    "\n",
    "\n",
    "def cat_probs_norm_num(mu, sigma, step_size, max_size=101):\n",
    "\n",
    "    lower_pts, upper_pts = make_cuts(0,101,step_size)\n",
    "    \n",
    "    probs = numeric_norm_cdf(mu, sigma, lower_pts, upper_pts) + jnp.exp(-60)\n",
    "    \n",
    "    return probs\n",
    "\n",
    "\n",
    "vec_cat_probs_num = jax.vmap(cat_probs_norm_num, in_axes = (0, None, None))\n",
    "vec_spread_vec = jax.vmap(spread_vec, in_axes = (0, None))\n",
    "\n",
    "def vec_cat_probs_spread(mu, sigma, step_size, max_size=101):\n",
    "\n",
    "    return vec_spread_vec(vec_cat_probs(mu, sigma, step_size), step_size)\n",
    "\n",
    "\n",
    "def rounding_model_num(X, y_obs=None, step_size=5):\n",
    "    alpha = numpyro.sample(\"alpha\", dist.Normal(0,10))\n",
    "    beta = numpyro.sample(\"beta\", dist.Normal(0,10))\n",
    "    sigma = numpyro.sample(\"sigma\", dist.HalfCauchy(20))\n",
    "    \n",
    "    yhat = alpha + beta*X\n",
    "    \n",
    "    with numpyro.plate(\"data\", X.shape[0]):\n",
    "\n",
    "        x_true_cp = vec_cat_probs_num(yhat, sigma, step_size)\n",
    "        numpyro.sample(\"x\", dist.Categorical(x_true_cp), obs=y_obs/step_size)\n",
    "        \n",
    "# the above works but (likely) not if you try to make it a latent thing. \n",
    "\n",
    "cat_probs_norm_num(0,1,5)"
   ]
  },
  {
   "cell_type": "code",
   "execution_count": 25,
   "id": "selected-input",
   "metadata": {},
   "outputs": [
    {
     "name": "stderr",
     "output_type": "stream",
     "text": [
      "sample: 100%|██████████| 2000/2000 [01:49<00:00, 18.25it/s, 1 steps of size 1.49e-01. acc. prob=0.81] \n"
     ]
    }
   ],
   "source": [
    "mcmc_test = MCMC(NUTS(rounding_model_num, target_accept_prob=.80), 1000, 1000, num_chains=1)\n",
    "mcmc_test.run(random.PRNGKey(0), x_true, y_obs, 5)   "
   ]
  },
  {
   "cell_type": "code",
   "execution_count": 26,
   "id": "peripheral-integer",
   "metadata": {},
   "outputs": [
    {
     "name": "stdout",
     "output_type": "stream",
     "text": [
      "\n",
      "                mean       std    median      5.0%     95.0%     n_eff     r_hat\n",
      "     alpha     -0.78     10.06     -1.30    -18.72     15.04     97.75      1.00\n",
      "      beta     -6.64     10.22     -7.97    -22.62     11.45     21.00      1.07\n",
      "     sigma     10.64      9.06      8.56      0.08     22.40    122.88      1.00\n",
      "\n",
      "Number of divergences: 817\n"
     ]
    }
   ],
   "source": [
    "mcmc_test.print_summary()"
   ]
  },
  {
   "cell_type": "markdown",
   "id": "received-fifth",
   "metadata": {},
   "source": [
    "## __verdict:__ Doesn't work!\n",
    "\n",
    "## Doomed attempts to get numerical estiamted beta CDF working"
   ]
  },
  {
   "cell_type": "code",
   "execution_count": 544,
   "id": "worthy-consideration",
   "metadata": {},
   "outputs": [
    {
     "data": {
      "text/plain": [
       "DeviceArray(8.756511e-27, dtype=float32)"
      ]
     },
     "execution_count": 544,
     "metadata": {},
     "output_type": "execute_result"
    }
   ],
   "source": [
    "def spread_vec(x, step_size):\n",
    "    base_steps = x.shape[0]\n",
    "    x_tall = x.reshape(-1,1)\n",
    "    pad = jnp.zeros([x.shape[0], step_size-1]) + jnp.exp(-30)\n",
    "    probs = jnp.concatenate((x_tall, pad), axis=-1).flatten()\n",
    "    probs = probs[:base_steps*step_size - (step_size-1)]    \n",
    "    \n",
    "    return probs/jnp.sum(probs) # normalize probabilities\n",
    "\n",
    "spread_vec(cat_probs_norm(20,3,1),1)[80]\n",
    "# jnp.exp(-60)\n",
    "# x = jnp.arange(0,21).reshape(-1,1)\n",
    "# pad = jnp.zeros([21,4])\n",
    "# z = jnp.concatenate((x,pad), axis=-1).flatten()\n",
    "# z.shape\n",
    "# spread_vec(cat_probs_norm(10,10,10),10).shape\n",
    "# make_cuts(0,101,1)[0].shape\n",
    "# jnp.split(jnp.arange(0,10), 10)\n",
    "# jnp.zeros(1-1) + jnp.exp(-30)\n",
    "# jnp.arange(0,10)[:10]"
   ]
  },
  {
   "cell_type": "code",
   "execution_count": 609,
   "id": "removed-calibration",
   "metadata": {},
   "outputs": [
    {
     "name": "stdout",
     "output_type": "stream",
     "text": [
      "4.15 ms ± 68.7 µs per loop (mean ± std. dev. of 7 runs, 100 loops each)\n",
      "6.03 ms ± 64 µs per loop (mean ± std. dev. of 7 runs, 100 loops each)\n",
      "911 µs ± 27.7 µs per loop (mean ± std. dev. of 7 runs, 1000 loops each)\n"
     ]
    }
   ],
   "source": [
    "## implementing my own betacdf with jnp.trapz()\n",
    "\n",
    "x_region = jnp.linspace(0+jnp.exp(-50),.4, 1000)\n",
    "\n",
    "# %timeit midpoint_p = jax.scipy.special.logsumexp(dist.Beta(1,10).log_prob(x_region)*(.4/50))\n",
    "%timeit midpoint_p2 = jnp.sum(jnp.exp(dist.Beta(10,2).log_prob(x_region))*(.4/1000))\n",
    "%timeit trapz_p = jnp.trapz( jnp.exp(dist.Beta(10,2).log_prob(x_region)), dx=.4/1000)\n",
    "%timeit exact_p = dist.Beta(10,2).cdf(.4)\n"
   ]
  },
  {
   "cell_type": "code",
   "execution_count": 681,
   "id": "dynamic-edinburgh",
   "metadata": {},
   "outputs": [
    {
     "data": {
      "text/plain": [
       "DeviceArray([0.49999937], dtype=float32)"
      ]
     },
     "execution_count": 681,
     "metadata": {},
     "output_type": "execute_result"
    }
   ],
   "source": [
    "# # print(jax.scipy.special.logsumexp(dist.Beta(2,10).log_prob(x_region)+jnp.log(.4/50)))\n",
    "# print(jnp.sum(jnp.exp(dist.Beta(10,2).log_prob(x_region))*(.4/50)))\n",
    "# print(jnp.trapz( jnp.exp(dist.Beta(10,2).log_prob(x_region)), dx=.4/50))\n",
    "# print(dist.Beta(10,2).cdf(.4))\n",
    "\n",
    "# print(jnp.sum(jnp.exp(dist.Beta(10,2).log_prob(x_region))*(.4/1000)))\n",
    "# print(jnp.trapz( jnp.exp(dist.Beta(10,2).log_prob(x_region)), dx=.4/1000))\n",
    "# print(dist.Beta(10,2).cdf(.4))\n",
    "\n",
    "# def numeric_beta_cdf(a, b, x, approx_steps=1000):\n",
    "#     base = jnp.zeros(x.shape) + jnp.exp(-50)\n",
    "    \n",
    "#     x_region = jnp.linspace( 0+jnp.exp(-50), x, approx_steps)\n",
    "\n",
    "#     return jnp.sum(jnp.exp(dist.Beta(a,b).log_prob(x_region))*(x/x_region.shape[0]))\n",
    "\n",
    "# vec_numeric_beta_cdf = jax.vmap(numeric_beta_cdf, (None, None, 0, None))\n",
    "\n",
    "\n",
    "# print(vec_numeric_beta_cdf(10, 2, jnp.array([.4,.2])))                  "
   ]
  },
  {
   "cell_type": "markdown",
   "id": "secure-expansion",
   "metadata": {},
   "source": [
    "# (s)crap(s)\n",
    "\n",
    "scraps below"
   ]
  },
  {
   "cell_type": "code",
   "execution_count": 957,
   "id": "enabling-madness",
   "metadata": {},
   "outputs": [
    {
     "name": "stderr",
     "output_type": "stream",
     "text": [
      "/usr/local/lib/python3.6/dist-packages/seaborn/_decorators.py:43: FutureWarning: Pass the following variables as keyword args: x, y. From version 0.12, the only valid positional argument will be `data`, and passing other arguments without an explicit keyword will result in an error or misinterpretation.\n",
      "  FutureWarning\n"
     ]
    },
    {
     "data": {
      "text/plain": [
       "<AxesSubplot:>"
      ]
     },
     "execution_count": 957,
     "metadata": {},
     "output_type": "execute_result"
    },
    {
     "data": {
      "image/png": "[encoded data removed]",
      "text/plain": [
       "<Figure size 432x288 with 1 Axes>"
      ]
     },
     "metadata": {
      "needs_background": "light"
     },
     "output_type": "display_data"
    }
   ],
   "source": [
    "n_obs = 20\n",
    "x_true = rg.beta(.5*100, .5*100, n_obs)*100\n",
    "x_obs = round_to_one(x_true)\n",
    "\n",
    "sns.scatterplot(x_true, x_obs, alpha=.5)"
   ]
  },
  {
   "cell_type": "code",
   "execution_count": 950,
   "id": "verified-flush",
   "metadata": {},
   "outputs": [
    {
     "name": "stdout",
     "output_type": "stream",
     "text": [
      "7.94 ms ± 259 µs per loop (mean ± std. dev. of 7 runs, 1 loop each)\n",
      "7.75 ms ± 94.8 µs per loop (mean ± std. dev. of 7 runs, 100 loops each)\n",
      "[5.00000000e-01 1.00000000e-01 9.99999959e-01 1.92874985e-22\n",
      " 9.99000000e-01]\n",
      "[0.5   0.1   1.    0.    0.999]\n"
     ]
    }
   ],
   "source": [
    "from jax.scipy.special import logsumexp\n",
    "\n",
    "def numeric_beta_cdf(a, b, x, approx_steps=10000):\n",
    "    base = jnp.zeros(x.shape) + jnp.exp(-50)\n",
    "#     eps = np.finfo(np.float32).eps\n",
    "    x = jnp.exp(jnp.clip(jnp.log(x), a_max=-jnp.exp(-17), a_min = -50))\n",
    "    \n",
    "    x_region = jnp.linspace( base, x, approx_steps)\n",
    "    return jnp.sum(jnp.exp(dist.Beta(a, b).log_prob(x_region) + (jnp.log(x) - jnp.log(x_region.shape[0]))), axis=-2)\n",
    "#     return jnp.exp(logsumexp(dist.Beta(a, b).log_prob(x_region), axis=-2) + (jnp.log(x) - jnp.log(x_region.shape[0])))\n",
    "\n",
    "%timeit numeric_beta_cdf(1,1, jnp.array([.5]), 100)\n",
    "%timeit numeric_beta_cdf(1,1, jnp.array([.5]), 10000)\n",
    "\n",
    "\n",
    "A = 1\n",
    "B = 1\n",
    "print(numeric_beta_cdf(A, B, jnp.array([.5, .1, 1, 0, .999])))\n",
    "print(dist.Beta(A, B).cdf(jnp.array([.5, .1, 1, 0, .999])))\n",
    "# dist.Beta(A,B).log_prob(1.)"
   ]
  },
  {
   "cell_type": "code",
   "execution_count": 951,
   "id": "innovative-weekend",
   "metadata": {},
   "outputs": [],
   "source": [
    "def normalize_probs(probs):\n",
    "    log_probs = jnp.log(probs)\n",
    "    return jnp.exp( log_probs - logsumexp(log_probs))\n",
    "\n",
    "def spread_vec(x, step_size):\n",
    "    base_steps = x.shape[0]\n",
    "    x_tall = x.reshape(-1,1) # reshape\n",
    "    eps = np.finfo(np.float32).eps\n",
    "    pad = jnp.zeros([x.shape[0], step_size-1]) + eps # make (almost) zeros\n",
    "    probs = jnp.concatenate((x_tall, pad), axis=-1).flatten() # concatenate and flatten\n",
    "    probs = probs[:base_steps*step_size - (step_size-1)]    # index\n",
    "    \n",
    "    return normalize_probs(probs) # normalize probabilities\n",
    "\n",
    "def cat_probs_beta(a, b, step_size, max_size=101):\n",
    "\n",
    "    lower_pts, upper_pts = make_cuts(0,101,step_size)\n",
    "    probs = numeric_beta_cdf(a, b, upper_pts/100.) - numeric_beta_cdf(a, b, lower_pts/100.) # make sure it's non-zero\n",
    "\n",
    "    return probs #normalize_probs(probs)\n",
    "\n",
    "\n",
    "def rounding_model_beta(x_obs, step_size=5):\n",
    "\n",
    "    mu = numpyro.sample(\"mu\", dist.Beta(1,1))\n",
    "    k = numpyro.sample(\"k\", dist.HalfCauchy(20))\n",
    "    \n",
    "    with numpyro.plate(\"data\", x_obs.shape[0]):\n",
    "\n",
    "#         x_true_cp = spread_vec(cat_probs_beta(mu*k, (1-mu)*k, step_size), step_size)\n",
    "        x_true_cp = cat_probs_beta(mu*k, (1-mu)*k, step_size)\n",
    "        numpyro.sample(\"x\", dist.Categorical(x_true_cp), obs=x_obs/step_size)\n",
    "#         numpyro.sample(\"x\", dist.Beta(mu*k, (1-mu)*k), obs = x_obs/100.) # this works fine\n",
    "        \n",
    "# jnp.exp(logsumexp(jnp.log(cat_probs_beta(3,4,6))))\n",
    "# sns.lineplot(x=jnp.arange(0,101), y=spread_vec(cat_probs_beta(.25*20,.75*20, 5), 5))"
   ]
  },
  {
   "cell_type": "code",
   "execution_count": 958,
   "id": "attended-sterling",
   "metadata": {},
   "outputs": [
    {
     "name": "stderr",
     "output_type": "stream",
     "text": [
      "sample: 100%|██████████| 2000/2000 [09:40<00:00,  3.44it/s, 15 steps of size 1.06e-01. acc. prob=0.93]\n"
     ]
    }
   ],
   "source": [
    "from numpyro.infer.initialization import init_to_value\n",
    "\n",
    "mcmc_test = MCMC(NUTS(rounding_model_beta, \n",
    "                      target_accept_prob=.80,\n",
    "#                       init_strategy = init_to_value(values = {\"mu\":0., \"k\":1.})\n",
    "                     ), \n",
    "                 1000, 1000, num_chains=1)\n",
    "mcmc_test.run(random.PRNGKey(0), x_obs, 1)   "
   ]
  },
  {
   "cell_type": "code",
   "execution_count": 961,
   "id": "architectural-football",
   "metadata": {},
   "outputs": [
    {
     "name": "stdout",
     "output_type": "stream",
     "text": [
      "\n",
      "                mean       std    median      5.0%     95.0%     n_eff     r_hat\n",
      "         k     17.40     25.43      9.28      0.11     37.86    204.54      1.00\n",
      "        mu      0.01      0.02      0.00      0.00      0.02    113.40      1.02\n",
      "\n",
      "Number of divergences: 0\n"
     ]
    }
   ],
   "source": [
    "mcmc_test.print_summary()"
   ]
  },
  {
   "cell_type": "markdown",
   "id": "formal-boost",
   "metadata": {},
   "source": [
    "3/30/21, 3:49 PM: just ran this and got correct mu and biased k, so it is not quite right but it is a lot closer than it ever has been. Also had divergences and effectively no samples so not sure how close this really is but it's definitely a bit less wrong.\n",
    "\n",
    "I suspect I am running into numerical precision problems which is the kind of thing that happens when you try to implement a probability distribution yourself. Unfortunately it's not something I know a ton about so I don't know how I can fix this myself. It could also be that numerically integrating to get the CDF was just a kooky idea the whole time."
   ]
  },
  {
   "cell_type": "code",
   "execution_count": 366,
   "id": "objective-myanmar",
   "metadata": {},
   "outputs": [
    {
     "data": {
      "text/plain": [
       "(101,)"
      ]
     },
     "execution_count": 366,
     "metadata": {},
     "output_type": "execute_result"
    },
    {
     "data": {
      "image/png": "[encoded data removed]",
      "text/plain": [
       "<Figure size 432x288 with 1 Axes>"
      ]
     },
     "metadata": {
      "needs_background": "light"
     },
     "output_type": "display_data"
    }
   ],
   "source": [
    "\n",
    "def spread_vec(x, step_size):\n",
    "    base_steps = x.shape[0]\n",
    "    x_split = jnp.split(x, base_steps)\n",
    "    pad = jnp.zeros(step_size-1) + jnp.exp(-30)\n",
    "    probs = jnp.stack([jnp.concatenate((i,pad)) for i in x_split]).flatten()\n",
    "    \n",
    "    return probs[:-(step_size-1)]/jnp.sum(probs[:(step_size-1)]) # normalize probabilities\n",
    "\n",
    "# x = spread_vec(cat_probs_beta(.5*100, .5*100, 5), 5)\n",
    "x = spread_vec(cat_probs_logitnormal(0, .2, 5), 5)\n",
    "\n",
    "sns.lineplot(x = jnp.arange(0,101), y = x)\n",
    "x.shape\n"
   ]
  },
  {
   "cell_type": "code",
   "execution_count": 960,
   "id": "planned-chemistry",
   "metadata": {},
   "outputs": [],
   "source": [
    "def numeric_norm_cdf(mu, sigma, lower, upper, approx_steps=1000):\n",
    "    \n",
    "    x_region = jnp.linspace( lower, upper, approx_steps)\n",
    "    return jnp.sum(jnp.exp(dist.Normal(mu, sigma).log_prob(x_region))*(x/x_region.shape[0]), axis=-2)\n"
   ]
  },
  {
   "cell_type": "code",
   "execution_count": 115,
   "id": "legitimate-bargain",
   "metadata": {},
   "outputs": [
    {
     "data": {
      "text/plain": [
       "DeviceArray([ 0.,  5., 15., 25., 35., 45., 55., 65., 75., 85., 95.], dtype=float32)"
      ]
     },
     "execution_count": 115,
     "metadata": {},
     "output_type": "execute_result"
    }
   ],
   "source": [
    "low"
   ]
  },
  {
   "cell_type": "code",
   "execution_count": 116,
   "id": "geological-exploration",
   "metadata": {},
   "outputs": [
    {
     "data": {
      "text/plain": [
       "DeviceArray([  5.,  15.,  25.,  35.,  45.,  55.,  65.,  75.,  85.,  95.,\n",
       "             100.], dtype=float32)"
      ]
     },
     "execution_count": 116,
     "metadata": {},
     "output_type": "execute_result"
    }
   ],
   "source": [
    "up\n",
    "# len([0-5, 5-15, 15-25, 25-35, 35-45, 45-55, 55-65, 65-75, 75-85, 85-95, 95-100])"
   ]
  },
  {
   "cell_type": "code",
   "execution_count": null,
   "id": "worse-transcript",
   "metadata": {},
   "outputs": [],
   "source": []
  }
 ],
 "metadata": {
  "kernelspec": {
   "display_name": "Python 3",
   "language": "python",
   "name": "python3"
  },
  "language_info": {
   "codemirror_mode": {
    "name": "ipython",
    "version": 3
   },
   "file_extension": ".py",
   "mimetype": "text/x-python",
   "name": "python",
   "nbconvert_exporter": "python",
   "pygments_lexer": "ipython3",
   "version": "3.8.8"
  }
 },
 "nbformat": 4,
 "nbformat_minor": 5
}
