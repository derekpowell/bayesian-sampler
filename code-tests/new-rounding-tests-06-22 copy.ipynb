{
 "cells": [
  {
   "cell_type": "code",
   "execution_count": 444,
   "id": "american-touch",
   "metadata": {},
   "outputs": [],
   "source": [
    "import numpyro\n",
    "numpyro.enable_x64()\n",
    "numpyro.util.set_host_device_count(4)\n",
    "import numpyro.distributions as dist\n",
    "\n",
    "import jax\n",
    "from jax import numpy as jnp\n",
    "from jax import random\n",
    "from numpyro.infer import DiscreteHMCGibbs, MCMC, NUTS, Predictive, SA\n",
    "from numpyro.contrib.funsor import config_enumerate\n",
    "\n",
    "from jax.scipy.special import digamma, polygamma, logit, expit, erf, gammaln\n",
    "\n",
    "import numpy as np\n",
    "from numpy.random import default_rng\n",
    "import pandas as pd\n",
    "import siuba as s\n",
    "\n",
    "from numpy import exp, log\n",
    "\n",
    "import scipy\n",
    "\n",
    "from plotnine import *\n",
    "# import seaborn as sns"
   ]
  },
  {
   "cell_type": "code",
   "execution_count": 52,
   "id": "valued-current",
   "metadata": {},
   "outputs": [
    {
     "data": {
      "text/plain": [
       "DeviceArray([0.7500001 , 0.91629994], dtype=float32)"
      ]
     },
     "execution_count": 52,
     "metadata": {},
     "output_type": "execute_result"
    }
   ],
   "source": [
    "# from numerical recipes, licensing unclear\n",
    "# http://www.it.uom.gr/teaching/linearalgebra/NumericalRecipiesInC/c6-4.pdf\n",
    "\n",
    "from jax import grad, jit\n",
    "\n",
    "# @jit # can't jit this but probabl doesn't matter?\n",
    "def betaai_lax(a,b,x):\n",
    "    # need to modify this to handle multidimensional inputs! maybe using vmap\n",
    "    \n",
    "    bt = jnp.where(\n",
    "        jnp.logical_or(x==0, x==1),\n",
    "        0.,\n",
    "        jnp.exp(gammaln(a+b) - gammaln(a) - gammaln(b) + a*jnp.log(x) + b*jnp.log(1.-x))\n",
    "    )\n",
    "    \n",
    "    res = jnp.where(\n",
    "        x < (a+1.0)/(a+b+2.),\n",
    "        bt*vec_betacf_lax(a,b,x)/a,\n",
    "        1. - bt*vec_betacf_lax(b,a,1.-x)/b\n",
    "    )\n",
    "    \n",
    "    divisor = jnp.where(jnp.logical_or(x <0.0, x > 1.0), 0., 1.) # create NAN if bad inputs\n",
    "    \n",
    "    return res/divisor\n",
    "\n",
    "@jit\n",
    "def lentz_method(m, carry):\n",
    "    \n",
    "    a = carry[0]\n",
    "    b = carry[1]\n",
    "    c = carry[2]\n",
    "    d = carry[3]\n",
    "    h = carry[4]\n",
    "    x = carry[5]\n",
    "\n",
    "    FPMIN = 1e-30\n",
    "    \n",
    "    qab = a+b\n",
    "    qap = a + 1.\n",
    "    qam = a-1. \n",
    "    \n",
    "    \n",
    "    numerator = m*(b-m)*x/((qam+m*2.) * (a+m*2.) )  \n",
    "        \n",
    "    # odd step\n",
    "    d = 1. + numerator*d # depends on last step\n",
    "    d = jnp.clip(d,FPMIN, jnp.inf)\n",
    "    d = 1./d\n",
    "\n",
    "    c = jnp.clip(c,FPMIN, jnp.inf)\n",
    "    c = 1.0+numerator/c\n",
    "\n",
    "    h = h*d*c\n",
    "\n",
    "    # even step\n",
    "    numerator = -(a+m) * (qab+m)*x/( (a+m*2.)*(qap+m*2.))\n",
    "\n",
    "    d = 1. + numerator*d \n",
    "    d = jnp.clip(d,FPMIN, jnp.inf)\n",
    "    d = 1./d\n",
    "\n",
    "    c = jnp.clip(c,FPMIN, jnp.inf)\n",
    "    c = 1.+numerator/c\n",
    "\n",
    "    h = h*d*c\n",
    "    \n",
    "    return (a,b,c,d,h,x)\n",
    "\n",
    "vec_lentz = jnp.vectorize(lentz_method)\n",
    "\n",
    "@jit\n",
    "def betacf_lax(a,b,x):\n",
    "\n",
    "    FPMIN = 1e-30\n",
    "    \n",
    "    qab = a+b\n",
    "    qap = a + 1.\n",
    "    qam = a-1. \n",
    "\n",
    "    # initialize\n",
    "    c = 1.0\n",
    "    d = 1.0 - qab*x/qap\n",
    "    d = jnp.clip(d,FPMIN, jnp.inf)\n",
    "    d = 1./d\n",
    "    h=d \n",
    "\n",
    "    res = jax.lax.fori_loop(1, 101, lentz_method, init_val = (a,b,c,d,h, x))\n",
    "    \n",
    "    return(res[4])\n",
    "    \n",
    "    \n",
    "vec_betacf_lax = jnp.vectorize(betacf_lax)\n",
    "\n",
    "betaai_lax(jnp.array([1,2]), jnp.array([2,3]), jnp.array([.5, .7]))\n"
   ]
  },
  {
   "cell_type": "code",
   "execution_count": 53,
   "id": "quick-method",
   "metadata": {},
   "outputs": [
    {
     "data": {
      "text/plain": [
       "DeviceArray(nan, dtype=float32, weak_type=True)"
      ]
     },
     "execution_count": 53,
     "metadata": {},
     "output_type": "execute_result"
    }
   ],
   "source": [
    "# note need newer Jax to get autoddiff\n",
    "# but still doesn't work in multidimensional case w/ grad itself\n",
    "jax.grad(betaai_lax)(3., 3., .9)"
   ]
  },
  {
   "cell_type": "markdown",
   "id": "absent-receiver",
   "metadata": {},
   "source": [
    "Looks like this is unlikely to work as the gradients calculated are very unstable, often returning nan\n",
    "\n",
    "## Implementing the gradients with `custom_jvp`\n",
    "\n",
    "The defjvps convenience wrapper lets us define a JVP for each argument separately, and the results are computed separately then summed:\n",
    "\n",
    "```\n",
    "@custom_jvp\n",
    "def f(x, y):\n",
    "  return x ** 2 * y\n",
    "\n",
    "f.defjvps(lambda x_dot, primal_out, x, y: 2 * x * y * x_dot,\n",
    "          lambda y_dot, primal_out, x, y: x ** 2 * y_dot)\n",
    "```"
   ]
  },
  {
   "cell_type": "code",
   "execution_count": 54,
   "id": "beautiful-import",
   "metadata": {},
   "outputs": [
    {
     "name": "stdout",
     "output_type": "stream",
     "text": [
      "-0.34642628\n",
      "0.34642622\n",
      "1.1999998\n"
     ]
    }
   ],
   "source": [
    "from jax import custom_jvp\n",
    "from jax.scipy.special import gammaln\n",
    "from jax.numpy import log1p, log, exp\n",
    "\n",
    "\n",
    "def logical_or_three(x1, x2, x3):\n",
    "    return jnp.logical_or(jnp.logical_or(x1, x2), x3)\n",
    "\n",
    "def logical_and_three(x1, x2, x3):\n",
    "    return jnp.logical_and(jnp.logical_and(x1, x2), x3)\n",
    "\n",
    "\n",
    "@custom_jvp\n",
    "def _betainc(a,b,x):\n",
    "    f = jax.scipy.special.betainc\n",
    "    return f(a,b,x) # assign my own\n",
    "\n",
    "# betainc = jax.vmap(_betainc,2)\n",
    "\n",
    "def _betainc_dda_while(args):\n",
    "    summand, sum_numer, sum_denom, a_plus_b, k, a_plus_1, digamma_ab, digamma_a, x = args\n",
    "    \n",
    "    sum_numer = sum_numer + (digamma_ab - digamma_a) * summand\n",
    "    sum_denom += summand\n",
    "    summand = summand*(1 + (a_plus_b) / k) * (1 + k) / (1 + a_plus_1 / k)\n",
    "    digamma_ab += 1./(a_plus_b + k)\n",
    "    digamma_a += 1./(a_plus_1 + k)\n",
    "    k += 1\n",
    "    summand = summand * (x / k)\n",
    "    # summand = summand*1./10.\n",
    "    args = (summand, sum_numer, sum_denom, a_plus_b, k, a_plus_1, digamma_ab, digamma_a, x) \n",
    "    \n",
    "    return args\n",
    "\n",
    "\n",
    "def betainc_dda(a_dot, primal_out, a, b, x):\n",
    "    out = jnp.where(\n",
    "        jnp.logical_or(\n",
    "            jnp.logical_or(\n",
    "                jnp.logical_or(\n",
    "                    jnp.logical_and(x > .75, a < 500),\n",
    "                    jnp.logical_and(x > .9, a < 2500)\n",
    "                ),\n",
    "                jnp.logical_or(\n",
    "                    jnp.logical_and(x > .99, a < 1e5),\n",
    "                    x > .999\n",
    "                )\n",
    "            ),\n",
    "            jnp.logical_and(\n",
    "            b > a,\n",
    "            logical_or_three(\n",
    "                logical_and_three(x > .1, x <= .75, b > 500),\n",
    "                logical_and_three(x > .01, x <= .1, b > 2500),\n",
    "                logical_and_three(x > .001, x <= .01, b > 1e5)   \n",
    "            )\n",
    "        )\n",
    "        ),\n",
    "        -1.*_betainc_ddb(a_dot, primal_out, b, a, 1 - x),\n",
    "        _betainc_dda(a_dot, primal_out, b, a, 1.-x)\n",
    "    )\n",
    "    \n",
    "    return out\n",
    "        ## commented for now, need to implement as jax.lax.cond()\n",
    "#     if b > a:\n",
    "#         if ((0.1 < x and x <= 0.75 and b > 500) or (0.01 < x and x <= 0.1 and b > 2500) or (0.001 < x and x <= 0.01 and b > 1e5)):\n",
    "#             return -_betainc_ddb(a_dot, primal_out, b, a, 1 - x)\n",
    "\n",
    "#     elif (x > 0.75 and a < 500):\n",
    "#         return -_betainc_ddb(a_dot, primal_out, b, a, 1 - x)\n",
    "#     elif (x > 0.9 and a < 2500):\n",
    "#         return -_betainc_ddb(a_dot, primal_out, b, a, 1 - x)\n",
    "#     elif (x > 0.99 and a < 1e5):\n",
    "#         return -_betainc_ddb(a_dot, primal_out, b, a, 1 - x)\n",
    "#     elif (x > 0.999):\n",
    "#         return -_betainc_ddb(a_dot, primal_out, b, a, 1 - x)\n",
    "\n",
    "\n",
    "\n",
    "## define partial derivative wrt a\n",
    "def _betainc_dda(a_dot, primal_out, a, b, x):\n",
    "    # a = jnp.asarray(a)\n",
    "    # b = jnp.asarray(a)\n",
    "    # x = jnp.asarray(x)\n",
    "    \n",
    "    digamma_a = jax.scipy.special.digamma(a)\n",
    "    digamma_ab = jax.scipy.special.digamma(a+b)\n",
    "    \n",
    "\n",
    "    \n",
    "    threshold = 1e-10\n",
    "\n",
    "    a_plus_b = a + b\n",
    "    a_plus_1 = a + 1.\n",
    "    \n",
    "    digamma_a = digamma_a + 1./a\n",
    "    \n",
    "    prefactor = jnp.power(a_plus_1 / a_plus_b, 3)\n",
    "    sum_numer = (digamma_ab - digamma_a) * prefactor\n",
    "    sum_denom = prefactor\n",
    "    summand = prefactor * x * a_plus_b / a_plus_1\n",
    "    \n",
    "    sum_numer = jnp.full_like(x, sum_numer)\n",
    "    sum_denom = jnp.full_like(x, sum_denom)\n",
    "    summand = jnp.full_like(x, summand)\n",
    "    \n",
    "    k = jnp.array(1)\n",
    "    digamma_ab = digamma_ab + 1./a_plus_b\n",
    "    digamma_a = digamma_a + 1./a_plus_1\n",
    "    \n",
    "    ### ----- 6/9/22, 4:03 PM something in the while loop changing the types?\n",
    "    out = jax.lax.while_loop(\n",
    "        lambda args: jnp.any( jnp.logical_and(jnp.abs(args[0]) > 1e-10, args[4] < 1e5) ),\n",
    "        _betainc_dda_while,\n",
    "        (summand, sum_numer, sum_denom, a_plus_b, k, a_plus_1, digamma_ab, digamma_a, x)\n",
    "    )\n",
    "    \n",
    "    summand, sum_numer, sum_denom, a_plus_b, k, a_plus_1, digamma_ab, digamma_a, x = out\n",
    "    \n",
    "#     while jnp.any(jnp.abs(summand) > threshold): # transform this to jax.lax.while_loop() to vectorize ?\n",
    "#         sum_numer += (digamma_ab - digamma_a) * summand\n",
    "#         sum_denom += summand\n",
    "#         summand = summand*(1 + (a_plus_b) / k) * (1 + k) / (1 + a_plus_1 / k)\n",
    "#         digamma_ab += 1./(a_plus_b + k)\n",
    "#         digamma_a += 1./(a_plus_1 + k)\n",
    "#         k += 1\n",
    "#         summand = summand * (x / k)\n",
    "        \n",
    "#         if k > 1e5:\n",
    "#             return 1./0.\n",
    "    \n",
    "    \n",
    "    return _betainc(a, b, x) * (log(x) + sum_numer / sum_denom)*a_dot\n",
    "\n",
    "\n",
    "def _betainc_ddb_while(args):\n",
    "    summand, sum_numer, sum_denom, a_plus_b, k, a_plus_1, digamma_ab, x = args\n",
    "    \n",
    "    sum_numer += digamma_ab * summand\n",
    "    sum_denom += summand\n",
    "\n",
    "    summand = summand*(1 + (a_plus_b) / k) * (1 + k) / (1 + a_plus_1 / k)\n",
    "    digamma_ab += 1./(a_plus_b + k)\n",
    "    k +=1\n",
    "    summand = summand * x / k\n",
    "    # summand = summand*1./10.\n",
    "    args = (summand, sum_numer, sum_denom, a_plus_b, k, a_plus_1, digamma_ab, x)\n",
    "    \n",
    "    return args\n",
    "\n",
    "    # jax.lax.cond(jnp.any(k > 1e5),lambda x: 1.0/0., lambda x: pass): # nothing to stop infinite loop for now\n",
    "        \n",
    "\n",
    "def betainc_ddb(b_dot, primal_out, a, b, x):\n",
    "    out = jnp.where(\n",
    "    jnp.logical_and(b > a, \n",
    "    logical_or_three(\n",
    "        logical_and_three(\n",
    "            x > .1, x <= .75, b > 500),\n",
    "        logical_and_three(\n",
    "            x > .01, x <= .1, b > 2500\n",
    "        ),\n",
    "        logical_and_three(\n",
    "            x > .001, x <= .01, b > 1e5\n",
    "        )\n",
    "        )\n",
    "    ),\n",
    "    -1.*_betainc_dda(b_dot, primal_out, b, a, 1.-x),\n",
    "    _betainc_ddb(b_dot, primal_out, a, b, x)\n",
    "    )\n",
    "        \n",
    "    return out\n",
    "\n",
    "\n",
    "\n",
    "\n",
    "\n",
    "## define partial derivative wrt b\n",
    "def _betainc_ddb(b_dot, primal_out, a, b, x):\n",
    "    \n",
    "    digamma_b = jax.scipy.special.digamma(b)\n",
    "    digamma_ab = jax.scipy.special.digamma(a+b)\n",
    "\n",
    "    ## commented for now, need to implement as jax.lax.cond()\n",
    "    \n",
    "\n",
    "\n",
    "#     if (b > a):\n",
    "#         if ((0.1 < x and x <= 0.75 and b > 500) or (0.01 < x and x <= 0.1 and b > 2500) or (0.001 < x and x <= 0.01 and b > 1e5)):\n",
    "#             return -_betainc_dda(b_dot, primal_out, b, a, 1 - x);\n",
    "\n",
    "\n",
    "#     if ((x > 0.75 and a < 500) or (x > 0.9 and a < 2500) or (x > 0.99 and a < 1e5) or (x > 0.999)):\n",
    "#         return -_betainc_dda(b_dot, primal_out, b, a, 1 - x);\n",
    "    \n",
    "    threshold = 1e-10\n",
    "    \n",
    "    a_plus_b = a + b\n",
    "    a_plus_1 = a + 1.\n",
    "    \n",
    "    prefactor = jnp.power(a_plus_1 / a_plus_b, 3)\n",
    "    \n",
    "    sum_numer = digamma_ab * prefactor\n",
    "    sum_denom = prefactor\n",
    "    summand = prefactor * x * a_plus_b / a_plus_1\n",
    "    \n",
    "    sum_numer = jnp.full_like(x, sum_numer)\n",
    "    sum_denom = jnp.full_like(x, sum_denom)\n",
    "    summand = jnp.full_like(x, summand)\n",
    "    \n",
    "    k = jnp.array(1)\n",
    "    digamma_ab = digamma_ab + 1./a_plus_b\n",
    "    \n",
    "    out = jax.lax.while_loop(\n",
    "        lambda args: jnp.any( jnp.logical_and(jnp.abs(args[0]) > 1e-10, args[4] < 1e5) ),\n",
    "        _betainc_ddb_while,\n",
    "        (summand, sum_numer, sum_denom, a_plus_b, k, a_plus_1, digamma_ab, x)\n",
    "    )\n",
    "    \n",
    "    summand, sum_numer, sum_denom, a_plus_b, k, a_plus_1, digamma_ab, x = out\n",
    "    \n",
    "#     while jnp.any(jnp.abs(summand) > threshold): # transform this to jax.lax.while_loop() to vectorize ?\n",
    "#         sum_numer += digamma_ab * summand\n",
    "#         sum_denom += summand\n",
    "\n",
    "#         summand = summand*(1 + (a_plus_b) / k) * (1 + k) / (1 + a_plus_1 / k)\n",
    "#         digamma_ab += 1./(a_plus_b + k)\n",
    "#         k +=1\n",
    "#         summand = summand * x / k\n",
    "        \n",
    "#         if k > 1e5:\n",
    "#             return 1./0.        \n",
    "        \n",
    "    \n",
    "    return _betainc(a, b, x) * (log(1 - x) - digamma_b + sum_numer / sum_denom)*b_dot\n",
    "\n",
    "\n",
    "def betainc_gradx(g, primal_out, a, b, x):\n",
    "    lbeta = gammaln(a) + gammaln(b) - gammaln(a + b)\n",
    "    partial_x = exp((b - 1) * log1p(-x) +\n",
    "                  (a - 1) * log(x) - lbeta)\n",
    "    return partial_x * g\n",
    "\n",
    "\n",
    "_betainc.defjvps(betainc_dda, betainc_ddb, betainc_gradx)\n",
    "\n",
    "# betainc_dda(jnp.array([1.,1.,1.]), None, jnp.array([3., 5, 1]), jnp.array([3., 5, 1]), jnp.array([.5,.6, .9]))\n",
    "\n",
    "# # print(grad(_betainc)(2., 3., .5))\n",
    "print(grad(_betainc, 0)(2., 1., .6))  # same as above\n",
    "print(grad(_betainc, 1)(2., 1., .6))\n",
    "print(grad(_betainc, 2)(2., 1., .6))\n",
    "\n",
    "# _betainc.defjvps(None, None, betainc_gradx)\n",
    "# print( grad(_betainc,2)(jnp.array([2.,3]), jnp.array([2.,3]), jnp.array([.5,.7])))"
   ]
  },
  {
   "cell_type": "code",
   "execution_count": 55,
   "id": "round-place",
   "metadata": {},
   "outputs": [
    {
     "data": {
      "text/plain": [
       "DeviceArray([0.24999976, 0.875     ], dtype=float32)"
      ]
     },
     "execution_count": 55,
     "metadata": {},
     "output_type": "execute_result"
    }
   ],
   "source": [
    "# from jax.scipy.special import betainc, betaln, gammaln\n",
    "\n",
    "# grad(_betainc, 0)(jnp.array([3., 5, 1]), jnp.array([3., 5, 1]), jnp.array([.5,.6, .9]))\n",
    "\n",
    "_betainc(np.array([1,1]), np.array([1,3]), np.array([.25, .5]))"
   ]
  },
  {
   "cell_type": "code",
   "execution_count": 79,
   "id": "short-tobacco",
   "metadata": {},
   "outputs": [
    {
     "name": "stdout",
     "output_type": "stream",
     "text": [
      "Collecting betaincder\n",
      "  Downloading betaincder-0.1.1.tar.gz (27 kB)\n",
      "Building wheels for collected packages: betaincder\n",
      "  Building wheel for betaincder (setup.py) ... \u001b[?25ldone\n",
      "\u001b[?25h  Created wheel for betaincder: filename=betaincder-0.1.1-cp38-cp38-linux_x86_64.whl size=81494 sha256=74622bd42053b7c2c36ed92bb3078d87e2712db7b49d4c49003e345807ac1926\n",
      "  Stored in directory: /home/jovyan/.cache/pip/wheels/a5/2d/eb/7ddc4f8ae93ba762e10d64dbc36768922dd77587a1fe7a56bd\n",
      "Successfully built betaincder\n",
      "Installing collected packages: betaincder\n",
      "Successfully installed betaincder-0.1.1\n"
     ]
    }
   ],
   "source": [
    "# !pip install betaincder"
   ]
  },
  {
   "cell_type": "code",
   "execution_count": 118,
   "id": "rough-estate",
   "metadata": {},
   "outputs": [],
   "source": [
    "from betaincder import betaincderp, betaincderq\n",
    "\n",
    "vec_betaincderp = np.vectorize(betaincderp)\n",
    "vec_betaincderq = np.vectorize(betaincderq)\n",
    "# np.vectorize(betaincderp)(jnp.array([.5, .5]), jnp.array([10., 20.]), jnp.array([10.,10]))\n",
    "\n",
    "@custom_jvp\n",
    "def _betainc(a,b,x):\n",
    "    f = jax.scipy.special.betainc\n",
    "    return f(a,b,x) # assign my own\n",
    "\n",
    "def betainc_grada(g, primal_out, a, b, x):\n",
    "    return g*vec_betaincderp(x, a, b)\n",
    "\n",
    "def betainc_gradb(g, primal_out, a, b, x):\n",
    "    return g*vec_betaincderq(x, a, b)\n",
    "\n",
    "\n",
    "def betainc_gradx(g, primal_out, a, b, x):\n",
    "    lbeta = gammaln(a) + gammaln(b) - gammaln(a + b)\n",
    "    partial_x = exp((b - 1) * log1p(-x) +\n",
    "                  (a - 1) * log(x) - lbeta)\n",
    "    return partial_x * g\n",
    "\n",
    "_betainc.defjvps(betainc_grada, betainc_gradb, betainc_gradx)"
   ]
  },
  {
   "cell_type": "code",
   "execution_count": 119,
   "id": "focused-loading",
   "metadata": {},
   "outputs": [
    {
     "name": "stdout",
     "output_type": "stream",
     "text": [
      "-0.18389723\n",
      "0.34642607\n",
      "1.1999998\n"
     ]
    }
   ],
   "source": [
    "# _betainc(np.array([1,1]), np.array([1,3]), np.array([.25, .5]))\n",
    "print(grad(_betainc, 0)(2., 1., .6))  # same as above\n",
    "print(grad(_betainc, 1)(2., 1., .6))\n",
    "print(grad(_betainc, 2)(2., 1., .6))"
   ]
  },
  {
   "cell_type": "code",
   "execution_count": 113,
   "id": "silent-carry",
   "metadata": {},
   "outputs": [
    {
     "data": {
      "text/plain": [
       "array([-0.09109296, -0.01093529])"
      ]
     },
     "execution_count": 113,
     "metadata": {},
     "output_type": "execute_result"
    }
   ],
   "source": []
  },
  {
   "cell_type": "markdown",
   "id": "stuck-pennsylvania",
   "metadata": {},
   "source": [
    "# Testing on some rounded data"
   ]
  },
  {
   "cell_type": "code",
   "execution_count": 2,
   "id": "digital-arrangement",
   "metadata": {},
   "outputs": [
    {
     "data": {
      "text/plain": [
       "DeviceArray([ 7,  9,  9,  8,  6,  7,  8,  9,  9,  8,  7,  6,  8,  9,  7,\n",
       "              8,  8,  8,  8,  9,  6, 10,  6,  9,  5,  8,  9, 10,  7,  8,\n",
       "              9,  7,  7,  8,  6,  6,  8,  8,  5,  8,  7,  4,  9,  9,  9,\n",
       "              7,  9,  9,  8,  8,  6,  6,  8,  5,  6,  8,  9,  8,  4,  8,\n",
       "              7,  6,  4,  7,  8,  7,  7,  7,  8,  8,  6,  9,  9,  8,  7,\n",
       "              5,  9,  9,  6,  9,  9,  7,  8,  5,  5,  7,  9,  6,  7,  8,\n",
       "              8,  9,  8,  5,  8,  7,  8,  7,  7,  7], dtype=int32)"
      ]
     },
     "execution_count": 2,
     "metadata": {},
     "output_type": "execute_result"
    }
   ],
   "source": [
    "from jax.random import PRNGKey\n",
    "\n",
    "X_raw = dist.Beta(.75*10, (1-.75)*10).sample(PRNGKey(10), (100,))\n",
    "x_round = round(X_raw*10)\n",
    "x_round"
   ]
  },
  {
   "cell_type": "code",
   "execution_count": 86,
   "id": "collaborative-rocket",
   "metadata": {},
   "outputs": [],
   "source": [
    "def mymodel(x=None):\n",
    "    mu = numpyro.sample(\"mu\", dist.Beta(1,1)) # noise parameter\n",
    "    k = numpyro.sample(\"k\", dist.HalfCauchy(10)) # noise parameter\n",
    "    \n",
    "    with numpyro.plate(\"data\", x.shape[0]):\n",
    "        xhat = numpyro.sample(\"xhat\", dist.Beta(mu*k, (1-mu)*k), obs=x)"
   ]
  },
  {
   "cell_type": "code",
   "execution_count": 87,
   "id": "senior-fisher",
   "metadata": {},
   "outputs": [
    {
     "name": "stderr",
     "output_type": "stream",
     "text": [
      "sample: 100%|██████████| 4000/4000 [00:03<00:00, 1075.68it/s, 3 steps of size 8.10e-01. acc. prob=0.92]\n"
     ]
    }
   ],
   "source": [
    "kernel = NUTS(mymodel, target_accept_prob=.80)\n",
    "\n",
    "mcmc = MCMC(kernel, \n",
    "               num_warmup=2_000, \n",
    "               num_samples=2_000, \n",
    "               num_chains=1)\n",
    "\n",
    "mcmc.run(random.PRNGKey(0), X_raw)"
   ]
  },
  {
   "cell_type": "code",
   "execution_count": 88,
   "id": "imported-power",
   "metadata": {},
   "outputs": [
    {
     "name": "stdout",
     "output_type": "stream",
     "text": [
      "\n",
      "                mean       std    median      5.0%     95.0%     n_eff     r_hat\n",
      "         k      8.81      1.19      8.77      6.87     10.73   1224.80      1.00\n",
      "        mu      0.75      0.01      0.75      0.72      0.77   1217.59      1.00\n",
      "\n",
      "Number of divergences: 0\n"
     ]
    }
   ],
   "source": [
    "mcmc.print_summary()"
   ]
  },
  {
   "cell_type": "code",
   "execution_count": 60,
   "id": "dimensional-adams",
   "metadata": {},
   "outputs": [],
   "source": [
    "# def betacdf(alpha, beta, x):\n",
    "#     vals = jnp.arange(1000+1)\n",
    "#     probs = jnp.exp(dist.BetaBinomial(alpha, beta, 1000).log_prob(vals))\n",
    "#     # then sum up probs below x \n",
    "#     validprobs = jnp.where(vals < x*1000, probs, 0.)\n",
    "    \n",
    "#     return jnp.sum(validprobs)\n",
    "\n",
    "# betacdf = jnp.vectorize(betacdf)\n",
    "\n",
    "# betacdf(3, 3, .5)\n",
    "\n",
    "# def betacdf(alpha, beta, x):\n",
    "#     vals = jnp.linspace(1e-5, 1.-1e-5, num=10000)\n",
    "#     probs = jnp.exp(dist.Beta(alpha, beta).log_prob(vals))\n",
    "#     # then sum up probs below x \n",
    "#     validprobs = jnp.where(vals <= x, probs, 0.)\n",
    "    \n",
    "#     return jnp.sum(validprobs/10000.)\n",
    "\n",
    "# betacdf = jnp.vectorize(betacdf)\n",
    "\n",
    "# betacdf(1., 1., .500)\n",
    "\n",
    "# this very naive approximation seems to work? but how/why when it didn't seem to work before?"
   ]
  },
  {
   "cell_type": "code",
   "execution_count": 271,
   "id": "parallel-fight",
   "metadata": {},
   "outputs": [],
   "source": [
    "import tensorflow_probability.substrates.jax as tfp\n",
    "\n",
    "def f(mu, k):\n",
    "    a = mu*k\n",
    "    b = (1.-mu)*k\n",
    "    \n",
    "    responses = jnp.linspace(0,10, num=11)\n",
    "    lower = jnp.clip((responses/10.) - .05, 1e-3, 1-1e-3)\n",
    "    upper = jnp.clip((responses/10.) + .05, 1e-3, 1-1e-3)\n",
    "    \n",
    "    prob_resps = tfp.math.betainc(a, b, upper) - tfp.math.betainc(a, b, lower)\n",
    "    prob_resps = prob_resps / jnp.sum(prob_resps)\n",
    "    \n",
    "    return(prob_resps)\n",
    "\n",
    "\n",
    "def mymodel_round(x=None):\n",
    "    mu = numpyro.sample(\"mu\", dist.Beta(1,1)) # noise parameter\n",
    "    k = numpyro.sample(\"k\", dist.HalfCauchy(10)) # noise parameter\n",
    "\n",
    "    resp_probs = f(mu,k)\n",
    "    resp_probs = resp_probs/jnp.sum(resp_probs)\n",
    "    \n",
    "    with numpyro.plate(\"data\", x.shape[0]):\n",
    "\n",
    "        xhat = numpyro.sample(\"xhat\", dist.Categorical(probs=resp_probs), obs=x)\n"
   ]
  },
  {
   "cell_type": "code",
   "execution_count": 260,
   "id": "cardiac-removal",
   "metadata": {},
   "outputs": [
    {
     "name": "stderr",
     "output_type": "stream",
     "text": [
      "sample: 100%|██████████| 2000/2000 [00:08<00:00, 243.85it/s, 3 steps of size 8.52e-01. acc. prob=0.91] \n"
     ]
    }
   ],
   "source": [
    "from numpyro.infer import init_to_median, init_to_value\n",
    "\n",
    "kernel = NUTS(mymodel_round, target_accept_prob=.80, init_strategy = init_to_value(values={\"mu\":.33, \"k\":5}))\n",
    "\n",
    "mcmc = MCMC(kernel, \n",
    "               num_warmup=1_000, \n",
    "               num_samples=1_000, \n",
    "               num_chains=1)\n",
    "\n",
    "mcmc.run(random.PRNGKey(0), x_round)"
   ]
  },
  {
   "cell_type": "code",
   "execution_count": 261,
   "id": "modified-residence",
   "metadata": {},
   "outputs": [
    {
     "name": "stdout",
     "output_type": "stream",
     "text": [
      "\n",
      "                mean       std    median      5.0%     95.0%     n_eff     r_hat\n",
      "         k      9.69      1.43      9.69      7.50     12.03    785.03      1.00\n",
      "        mu      0.75      0.01      0.75      0.73      0.77    776.91      1.00\n",
      "\n",
      "Number of divergences: 0\n"
     ]
    }
   ],
   "source": [
    "mcmc.print_summary()"
   ]
  },
  {
   "cell_type": "code",
   "execution_count": 452,
   "id": "independent-nevada",
   "metadata": {},
   "outputs": [
    {
     "data": {
      "image/png": "[encoded data removed]",
      "text/plain": [
       "<Figure size 640x480 with 1 Axes>"
      ]
     },
     "metadata": {},
     "output_type": "display_data"
    },
    {
     "data": {
      "text/plain": [
       "<ggplot: (8791051983758)>"
      ]
     },
     "execution_count": 452,
     "metadata": {},
     "output_type": "execute_result"
    }
   ],
   "source": [
    "x_norm = dist.Normal(0.,1.).sample(PRNGKey(1), (100,))\n",
    "y = expit(-1 + 1.5*x_norm)\n",
    "y = dist.Beta(y*50., (1-y)*50.).sample(PRNGKey(1))\n",
    "\n",
    "y_round_10 = round(y*10)\n",
    "y_round_5 = round(y*20)\n",
    "\n",
    "\n",
    "# x_binary = dist.Bernoulli(.5).sample(PRNGKey(1), (100,))\n",
    "# y = .25 + x_binary*.50\n",
    "# y = dist.Beta(y*50., (1-y)*50.).sample(PRNGKey(0))\n",
    "\n",
    "# y_round_bin10 = round(y*10)\n",
    "# y_round\n",
    "\n",
    "ggplot(aes(x=x_norm, y=y_round_10)) + geom_point()"
   ]
  },
  {
   "cell_type": "code",
   "execution_count": 272,
   "id": "detected-album",
   "metadata": {},
   "outputs": [],
   "source": [
    "# from jax import vmap\n",
    "# vmap(f,(0,0))(jnp.array([.11, .21, .3]), jnp.array([10, 20, 30]))"
   ]
  },
  {
   "cell_type": "code",
   "execution_count": 501,
   "id": "devoted-spencer",
   "metadata": {},
   "outputs": [],
   "source": [
    "def f2(mu, k):\n",
    "    a = mu*k\n",
    "    b = (1.-mu)*k\n",
    "    \n",
    "    rnd_unit_scaled = 1/10.\n",
    "    \n",
    "#     responses = jnp.linspace(1, 9, num=9)\n",
    "#     cuts = responses/10.\n",
    "\n",
    "#     upper_probs = jnp.pad(tfp.math.betainc(a, b, cuts+.05), (0,1), constant_values=(0.,1.))\n",
    "#     lower_probs = jnp.pad(tfp.math.betainc(a, b, cuts-.05), (1,0), constant_values=(0.,1.))\n",
    "\n",
    "    responses = jnp.linspace(0, 10, num=11)\n",
    "    cuts = responses/10.\n",
    "\n",
    "    upper_probs = jnp.pad(tfp.math.betainc(a, b, cuts[0:10]+.05), (0,1), constant_values=(0.,1.))\n",
    "    lower_probs = jnp.pad(tfp.math.betainc(a, b, cuts[1:11]-.05), (1,0), constant_values=(0.,1.))\n",
    "\n",
    "    prob_resps = upper_probs - lower_probs\n",
    "    prob_resps = (prob_resps + 1e-16) / jnp.sum(prob_resps)\n",
    "    \n",
    "    return(prob_resps)\n",
    "\n",
    "\n",
    "responses_10 = jnp.linspace(0, 10, num=11)\n",
    "responses_5 = jnp.linspace(0, 20, num=21)\n",
    "responses_1 = jnp.linspace(0, 101, num=101)\n",
    "\n",
    "# def f2(mu, k, responses):\n",
    "#     a = mu*k\n",
    "#     b = (1.-mu)*k\n",
    "#     n_resps = (responses.shape[0]-1)\n",
    "#     rnd_unit_scaled = 1/n_resps\n",
    "    \n",
    "#     # responses = jnp.linspace(0, 10, num=11)\n",
    "#     lower = jnp.clip((responses/n_resps) - rnd_unit_scaled/2., 1e-3, 1-1e-3)\n",
    "#     upper = jnp.clip((responses/n_resps) + rnd_unit_scaled/2., 1e-3, 1-1e-3)\n",
    "    \n",
    "#     prob_resps = tfp.math.betainc(a, b, upper) - tfp.math.betainc(a, b, lower)\n",
    "#     prob_resps = (prob_resps + 1e-16) / jnp.sum(prob_resps) # add err to prevent divergences\n",
    "    \n",
    "#     return(prob_resps)\n",
    "\n",
    "\n",
    "f2_multi = vmap(f2, (0, None))\n",
    "\n",
    "def mymodel_round2(x, y=None):\n",
    "    \n",
    "    alpha = numpyro.sample(\"alpha\", dist.Normal(0,1))\n",
    "    beta = numpyro.sample(\"beta\", dist.Normal(0,1))\n",
    "    k = numpyro.sample(\"k\", dist.HalfCauchy(10)) # noise parameter\n",
    "    \n",
    "    mu = expit(alpha + beta*x)\n",
    "\n",
    "    resp_probs = f2_multi(mu,k)\n",
    "    \n",
    "    with numpyro.plate(\"data\", x.shape[0]):\n",
    "\n",
    "        yhat = numpyro.sample(\"yhat\", dist.Categorical(probs=resp_probs), obs=y) # rounded"
   ]
  },
  {
   "cell_type": "code",
   "execution_count": null,
   "id": "classical-delight",
   "metadata": {},
   "outputs": [
    {
     "name": "stderr",
     "output_type": "stream",
     "text": [
      "sample:  71%|███████   | 1423/2000 [01:30<00:36, 15.93it/s, 3 steps of size 7.03e-01. acc. prob=0.92] "
     ]
    }
   ],
   "source": [
    "kernel2 = NUTS(\n",
    "    mymodel_round2, \n",
    "    target_accept_prob=.80#,\n",
    "    # init_strategy = init_to_value(values = {\"alpha\":0., \"beta\":0., \"k\":5.})\n",
    ")\n",
    "\n",
    "mcmc2 = MCMC(kernel2, \n",
    "               num_warmup=1_000, \n",
    "               num_samples=1_000, \n",
    "               num_chains=1)\n",
    "\n",
    "mcmc2.run(random.PRNGKey(0), x_norm, y_round_10)"
   ]
  },
  {
   "cell_type": "code",
   "execution_count": 503,
   "id": "crucial-jurisdiction",
   "metadata": {},
   "outputs": [
    {
     "name": "stdout",
     "output_type": "stream",
     "text": [
      "\n",
      "                mean       std    median      5.0%     95.0%     n_eff     r_hat\n",
      "     alpha     -1.04      0.04     -1.04     -1.11     -0.97    799.47      1.00\n",
      "      beta      1.49      0.05      1.48      1.40      1.58    858.86      1.00\n",
      "         k     50.11      9.74     48.75     34.80     65.23    847.19      1.00\n",
      "\n",
      "Number of divergences: 0\n"
     ]
    }
   ],
   "source": [
    "mcmc2.print_summary()"
   ]
  },
  {
   "cell_type": "markdown",
   "id": "treated-combine",
   "metadata": {},
   "source": [
    "## it works!????\n",
    "\n",
    "seems to work with the betabinomial approximation above!??!?!?"
   ]
  },
  {
   "cell_type": "code",
   "execution_count": 76,
   "id": "homeless-melissa",
   "metadata": {},
   "outputs": [
    {
     "data": {
      "text/plain": [
       "(DeviceArray([0.5       , 0.18000002], dtype=float32),\n",
       " DeviceArray([0.        , 0.12600006], dtype=float32),\n",
       " DeviceArray([1.        , 0.21600002], dtype=float32),\n",
       " DeviceArray([2., 5.], dtype=float32),\n",
       " 1,\n",
       " DeviceArray([2., 3.], dtype=float32),\n",
       " DeviceArray([0.9227846, 1.7061182], dtype=float32),\n",
       " DeviceArray([0.9227846, 1.2561179], dtype=float32),\n",
       " DeviceArray([0.5, 0.5], dtype=float32))"
      ]
     },
     "execution_count": 76,
     "metadata": {},
     "output_type": "execute_result"
    }
   ],
   "source": [
    "x = jnp.array([.5,.5])\n",
    "a, b = jnp.array([1.,2.]), jnp.array([1.,3.])\n",
    "# x = jnp.array([.5])\n",
    "# a, b = 1., 1.\n",
    "\n",
    "digamma_a = jax.scipy.special.digamma(a)\n",
    "digamma_ab = jax.scipy.special.digamma(a+b)\n",
    "\n",
    "a_plus_b = a + b\n",
    "a_plus_1 = a + 1\n",
    "\n",
    "digamma_a = digamma_a + 1./a\n",
    "\n",
    "prefactor = jnp.power(a_plus_1 / a_plus_b, 3)\n",
    "sum_numer = (digamma_ab - digamma_a) * prefactor\n",
    "sum_denom = prefactor\n",
    "summand = prefactor * x * a_plus_b / a_plus_1\n",
    "\n",
    "k = 1\n",
    "digamma_ab = digamma_ab + 1./a_plus_b\n",
    "digamma_a = digamma_a + 1./a_plus_1\n",
    "\n",
    "inits = (summand, sum_numer, sum_denom, a_plus_b, k, a_plus_1, digamma_ab, digamma_a, x)\n",
    "\n",
    "inits\n",
    "# _betainc_dda_while(inits)\n",
    "\n",
    "# out = jax.lax.while_loop(\n",
    "#         lambda args: jnp.any(jnp.abs(args[0]) > 1e-10),\n",
    "#         _betainc_dda_while,\n",
    "#         inits\n",
    "#     )\n",
    "\n",
    "# out"
   ]
  },
  {
   "cell_type": "code",
   "execution_count": 77,
   "id": "documentary-missile",
   "metadata": {},
   "outputs": [
    {
     "name": "stdout",
     "output_type": "stream",
     "text": [
      "(2,)\n",
      "(2,)\n"
     ]
    }
   ],
   "source": [
    "## define partial derivative wrt a\n",
    "def _betainc_dda2(a_dot, primal_out, a, b, x):\n",
    "    # a = jnp.asarray(a)\n",
    "    # b = jnp.asarray(a)\n",
    "    # x = jnp.asarray(x)\n",
    "    \n",
    "    digamma_a = jax.scipy.special.digamma(a)\n",
    "    digamma_ab = jax.scipy.special.digamma(a+b)\n",
    "    \n",
    "    ## commented for now, need to implement as jax.lax.cond()\n",
    "#     if b > a:\n",
    "#         if ((0.1 < x and x <= 0.75 and b > 500) or (0.01 < x and x <= 0.1 and b > 2500) or (0.001 < x and x <= 0.01 and b > 1e5)):\n",
    "#             return -_betainc_ddb(a_dot, primal_out, b, a, 1 - x)\n",
    "\n",
    "#     elif (x > 0.75 and a < 500):\n",
    "#         return -_betainc_ddb(a_dot, primal_out, b, a, 1 - x)\n",
    "#     elif (x > 0.9 and a < 2500):\n",
    "#         return -_betainc_ddb(a_dot, primal_out, b, a, 1 - x)\n",
    "#     elif (x > 0.99 and a < 1e5):\n",
    "#         return -_betainc_ddb(a_dot, primal_out, b, a, 1 - x)\n",
    "#     elif (x > 0.999):\n",
    "#         return -_betainc_ddb(a_dot, primal_out, b, a, 1 - x)\n",
    "    \n",
    "    threshold = 1e-10\n",
    "\n",
    "    a_plus_b = a + b\n",
    "    a_plus_1 = a + 1.\n",
    "    \n",
    "    digamma_a = digamma_a + 1./a\n",
    "    \n",
    "    prefactor = jnp.power(a_plus_1 / a_plus_b, 3)\n",
    "    sum_numer = (digamma_ab - digamma_a) * prefactor\n",
    "    sum_denom = prefactor\n",
    "    summand = prefactor * x * a_plus_b / a_plus_1\n",
    "    \n",
    "    k = jnp.array(1)\n",
    "    digamma_ab = digamma_ab + 1./a_plus_b\n",
    "    digamma_a = digamma_a + 1./a_plus_1\n",
    "    \n",
    "    inits = (summand, sum_numer, sum_denom, a_plus_b, k, a_plus_1, digamma_ab, digamma_a, x)\n",
    "    ### ----- 6/9/22, 4:03 PM something in the while loop changing the types?\n",
    "    out = jax.lax.while_loop(\n",
    "        lambda args: jnp.any(jnp.abs(args[0]) > 1e-10),\n",
    "        _betainc_dda_while,\n",
    "        inits\n",
    "    )\n",
    "    \n",
    "    summand, sum_numer, sum_denom, a_plus_b, k, a_plus_1, digamma_ab, digamma_a, x = out\n",
    "    \n",
    "#     while jnp.any(jnp.abs(summand) > threshold): # transform this to jax.lax.while_loop() to vectorize ?\n",
    "#         sum_numer += (digamma_ab - digamma_a) * summand\n",
    "#         sum_denom += summand\n",
    "#         summand = summand*(1 + (a_plus_b) / k) * (1 + k) / (1 + a_plus_1 / k)\n",
    "#         digamma_ab += 1./(a_plus_b + k)\n",
    "#         digamma_a += 1./(a_plus_1 + k)\n",
    "#         k += 1\n",
    "#         summand = summand * (x / k)\n",
    "        \n",
    "#         if k > 1e5:\n",
    "#             return 1./0.\n",
    "    \n",
    "    \n",
    "    return (inits, out)\n",
    "\n",
    "\n",
    "z, w = _betainc_dda2(jnp.array([1.,1.]), None, jnp.array([1.,3.]), jnp.array([1.,3.]), jnp.array([.1,.3]))\n",
    "print(z[3].shape)\n",
    "print(w[3].shape)"
   ]
  },
  {
   "cell_type": "code",
   "execution_count": 78,
   "id": "selective-reliance",
   "metadata": {},
   "outputs": [
    {
     "data": {
      "text/plain": [
       "(DeviceArray(3.5303732e-11, dtype=float32, weak_type=True),\n",
       " DeviceArray(0.20089278, dtype=float32, weak_type=True),\n",
       " DeviceArray(0.68877554, dtype=float32, weak_type=True),\n",
       " DeviceArray(4., dtype=float32, weak_type=True),\n",
       " DeviceArray(21, dtype=int32, weak_type=True),\n",
       " DeviceArray(3., dtype=float32, weak_type=True),\n",
       " DeviceArray(3.1987426, dtype=float32, weak_type=True),\n",
       " DeviceArray(3.157076, dtype=float32, weak_type=True),\n",
       " DeviceArray(0.3, dtype=float32, weak_type=True))"
      ]
     },
     "execution_count": 78,
     "metadata": {},
     "output_type": "execute_result"
    }
   ],
   "source": [
    "z, w = _betainc_dda2(jnp.array(1.), None, jnp.array(2.), jnp.array(2.), jnp.array(.3))\n",
    "w"
   ]
  },
  {
   "cell_type": "code",
   "execution_count": 323,
   "id": "cellular-effects",
   "metadata": {},
   "outputs": [
    {
     "data": {
      "text/plain": [
       "DeviceArray([6], dtype=int32)"
      ]
     },
     "execution_count": 323,
     "metadata": {},
     "output_type": "execute_result"
    }
   ],
   "source": [
    "z+=1\n",
    "z"
   ]
  },
  {
   "cell_type": "code",
   "execution_count": null,
   "id": "wound-spelling",
   "metadata": {},
   "outputs": [],
   "source": []
  }
 ],
 "metadata": {
  "kernelspec": {
   "display_name": "Python 3",
   "language": "python",
   "name": "python3"
  },
  "language_info": {
   "codemirror_mode": {
    "name": "ipython",
    "version": 3
   },
   "file_extension": ".py",
   "mimetype": "text/x-python",
   "name": "python",
   "nbconvert_exporter": "python",
   "pygments_lexer": "ipython3",
   "version": "3.8.8"
  }
 },
 "nbformat": 4,
 "nbformat_minor": 5
}
