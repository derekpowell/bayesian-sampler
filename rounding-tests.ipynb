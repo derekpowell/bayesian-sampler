{
 "cells": [
  {
   "cell_type": "markdown",
   "id": "innocent-tiffany",
   "metadata": {},
   "source": [
    "# Rounding tests\n",
    "\n",
    "Testing analyses of rounded data"
   ]
  },
  {
   "cell_type": "code",
   "execution_count": 3,
   "id": "suspected-mistress",
   "metadata": {},
   "outputs": [],
   "source": [
    "%config IPCompleter.use_jedi = False\n",
    "import numpyro\n",
    "\n",
    "numpyro.util.set_host_device_count(4)\n",
    "import numpyro.distributions as dist\n",
    "\n",
    "from jax import numpy as jnp\n",
    "from jax import random\n",
    "from numpyro.infer import DiscreteHMCGibbs, MCMC, NUTS, Predictive\n",
    "from numpyro.contrib.funsor import config_enumerate\n",
    "\n",
    "import numpy as np\n",
    "from numpy.random import default_rng\n",
    "import pandas as pd\n",
    "import seaborn as sns"
   ]
  },
  {
   "cell_type": "code",
   "execution_count": 296,
   "id": "ecological-cassette",
   "metadata": {},
   "outputs": [
    {
     "name": "stderr",
     "output_type": "stream",
     "text": [
      "/usr/local/lib/python3.6/dist-packages/seaborn/_decorators.py:43: FutureWarning: Pass the following variables as keyword args: x, y. From version 0.12, the only valid positional argument will be `data`, and passing other arguments without an explicit keyword will result in an error or misinterpretation.\n",
      "  FutureWarning\n"
     ]
    },
    {
     "data": {
      "text/plain": [
       "<AxesSubplot:>"
      ]
     },
     "execution_count": 296,
     "metadata": {},
     "output_type": "execute_result"
    },
    {
     "data": {
      "image/png": "[encoded data removed]",
      "text/plain": [
       "<Figure size 432x288 with 1 Axes>"
      ]
     },
     "metadata": {
      "needs_background": "light"
     },
     "output_type": "display_data"
    }
   ],
   "source": [
    "# first data that is all rounded to five\n",
    "\n",
    "n_obs = 100\n",
    "rg = default_rng(12345)\n",
    "\n",
    "def round_to_one(x):\n",
    "    return jnp.round(x,0)\n",
    "\n",
    "def round_to_five(x):\n",
    "    return jnp.round(x/5,0)*5\n",
    "\n",
    "def round_to_twenty(x):\n",
    "    return jnp.round(x/20,0)*20\n",
    "\n",
    "x_true = rg.beta(3,3,n_obs)*100\n",
    "x_obs = round_to_five(x_true)\n",
    "\n",
    "\n",
    "sns.scatterplot(x_true, x_obs,alpha=.5)"
   ]
  },
  {
   "cell_type": "code",
   "execution_count": 264,
   "id": "white-palestinian",
   "metadata": {},
   "outputs": [
    {
     "data": {
      "application/vnd.jupyter.widget-view+json": {
       "model_id": "fc7ca453bca0488e989cbf34c32c9305",
       "version_major": 2,
       "version_minor": 0
      },
      "text/plain": [
       "  0%|          | 0/2000 [00:00<?, ?it/s]"
      ]
     },
     "metadata": {},
     "output_type": "display_data"
    },
    {
     "data": {
      "application/vnd.jupyter.widget-view+json": {
       "model_id": "aa458916308040b5a81c3b8833cf1159",
       "version_major": 2,
       "version_minor": 0
      },
      "text/plain": [
       "  0%|          | 0/2000 [00:00<?, ?it/s]"
      ]
     },
     "metadata": {},
     "output_type": "display_data"
    }
   ],
   "source": [
    "# def beta_approx_cdf(mu, k, x):\n",
    "#     # mode K(a, b) = ((a – 1)/(ab – 1))1/a = mode beta(α, β) = (α – 1)/(α + β – 2).\n",
    "#     a = mu*k\n",
    "#     b = (1-mu)*k\n",
    "#     K_a = a\n",
    "#     K_b = ((a-1)/(a*b-1)^(1/a))\n",
    "    \n",
    "#     return k_a, k_b\n",
    "\n",
    "def beta_approx_cdf(a, b):\n",
    "    # normal approximation, not great\n",
    "    # mode K(a, b) = ((a – 1)/(ab – 1))1/a = mode beta(α, β) = (α – 1)/(α + β – 2).\n",
    "    mu = a/(a+b)\n",
    "    sigma = jnp.sqrt((a*b)/(jnp.power(a+b,2)*(a+b+1.)))\n",
    "    \n",
    "    return mu, sigma\n",
    "\n",
    "def make_cuts(start, stop, step_size):\n",
    "    return np.arange(start, stop, step_size)+step_size/2\n",
    "\n",
    "def categorical_probs(a, b, step_size, max_size=100):\n",
    "    \n",
    "    cut_points = make_cuts(0, 100, step_size) # could maybe add one extra step_size unit on both ends then, but them off and normalize the middle?\n",
    "    upper_pts = cut_points + step_size/2\n",
    "    lower_pts = cut_points - step_size/2\n",
    "    \n",
    "    mu, sigma = beta_approx_cdf(a,b)\n",
    "    prob_dist = dist.Normal(mu, sigma)\n",
    "    probs = prob_dist.cdf(upper_pts/100.) - prob_dist.cdf(lower_pts/100.)\n",
    "    return probs\n",
    "\n",
    "def categorical_probs_spread(a, b, step_size, max_size=100):\n",
    "    x = categorical_probs(a, b, step_size, max_size)\n",
    "    \n",
    "    return spread_vec(x, step_size)\n",
    "\n",
    "\n",
    "def rounding_model(x_obs, step_size):\n",
    "    mu = numpyro.sample(\"mu\", dist.Beta(1,1))\n",
    "    k = numpyro.sample(\"k\", dist.HalfCauchy(10))\n",
    "\n",
    "    x_true_cp = categorical_probs_spread(mu*k, (1-mu)*k, step_size)\n",
    "\n",
    "    with numpyro.plate(\"data\", x_obs.shape[0]):\n",
    "        numpyro.sample(\"x\", dist.Categorical(x_true_cp), obs=x_obs)\n",
    "    \n",
    "mcmc_test = MCMC(NUTS(rounding_model), 1000, 1000, num_chains=2)\n",
    "mcmc_test.run(random.PRNGKey(0), x_obs, 5)    "
   ]
  },
  {
   "cell_type": "code",
   "execution_count": 265,
   "id": "military-bristol",
   "metadata": {},
   "outputs": [
    {
     "name": "stdout",
     "output_type": "stream",
     "text": [
      "\n",
      "                mean       std    median      5.0%     95.0%     n_eff     r_hat\n",
      "         k      5.35      0.91      5.32      3.92      6.93   1523.33      1.00\n",
      "        mu      0.51      0.02      0.51      0.47      0.54   1663.42      1.00\n",
      "\n",
      "Number of divergences: 0\n"
     ]
    }
   ],
   "source": [
    "mcmc_test.print_summary()"
   ]
  },
  {
   "cell_type": "markdown",
   "id": "combined-computer",
   "metadata": {},
   "source": [
    "Now to allow for different rounding policies and infer the rounding policy being used.\n",
    "\n",
    "This code works (3/27/21, 4:29 PM)!"
   ]
  },
  {
   "cell_type": "code",
   "execution_count": 293,
   "id": "tender-forum",
   "metadata": {},
   "outputs": [],
   "source": [
    "\n",
    "def rounding_mixture_model(x_obs):\n",
    "    \n",
    "    theta = numpyro.sample(\"theta\", dist.Dirichlet(jnp.ones(3)))\n",
    "    steps = jnp.array([1, 5, 20])\n",
    "    \n",
    "    mu = numpyro.sample(\"mu\", dist.Beta(1,1))\n",
    "    k = numpyro.sample(\"k\", dist.HalfCauchy(10))\n",
    "    theta_vec = jnp.reshape(theta, (-1,3))\n",
    "\n",
    "    with numpyro.plate(\"data\", x_obs.shape[0]):\n",
    "        \n",
    "        x_true_cp_stack = jnp.stack([ categorical_probs_spread(mu*k, (1.-mu)*k, step_size)  for step_size in steps])\n",
    "\n",
    "        x_true_cp = jnp.matmul(theta_vec, x_true_cp_stack)\n",
    "        numpyro.sample(\"x\", dist.Categorical(x_true_cp), obs=x_obs) # need to spread the values instead of padding"
   ]
  },
  {
   "cell_type": "code",
   "execution_count": 297,
   "id": "spoken-turning",
   "metadata": {},
   "outputs": [
    {
     "name": "stderr",
     "output_type": "stream",
     "text": [
      "sample: 100%|██████████| 2000/2000 [00:07<00:00, 276.45it/s, 7 steps of size 4.87e-01. acc. prob=0.92] \n"
     ]
    }
   ],
   "source": [
    "mcmc_test = MCMC(NUTS(rounding_mixture_model), 1000, 1000, num_chains=1)\n",
    "mcmc_test.run(random.PRNGKey(0), x_obs)   "
   ]
  },
  {
   "cell_type": "code",
   "execution_count": 298,
   "id": "considered-latitude",
   "metadata": {},
   "outputs": [
    {
     "name": "stdout",
     "output_type": "stream",
     "text": [
      "\n",
      "                mean       std    median      5.0%     95.0%     n_eff     r_hat\n",
      "         k      5.82      0.92      5.74      4.18      7.17   1047.60      1.00\n",
      "        mu      0.51      0.02      0.51      0.48      0.54    976.21      1.00\n",
      "  theta[0]      0.01      0.01      0.01      0.00      0.03   1028.28      1.00\n",
      "  theta[1]      0.95      0.03      0.96      0.91      1.00    949.65      1.00\n",
      "  theta[2]      0.04      0.03      0.03      0.00      0.08   1048.30      1.00\n",
      "\n",
      "Number of divergences: 0\n"
     ]
    }
   ],
   "source": [
    "mcmc_test.print_summary()"
   ]
  },
  {
   "cell_type": "code",
   "execution_count": null,
   "id": "intellectual-order",
   "metadata": {},
   "outputs": [],
   "source": []
  }
 ],
 "metadata": {
  "kernelspec": {
   "display_name": "Python 3",
   "language": "python",
   "name": "python3"
  },
  "language_info": {
   "codemirror_mode": {
    "name": "ipython",
    "version": 3
   },
   "file_extension": ".py",
   "mimetype": "text/x-python",
   "name": "python",
   "nbconvert_exporter": "python",
   "pygments_lexer": "ipython3",
   "version": "3.6.9"
  }
 },
 "nbformat": 4,
 "nbformat_minor": 5
}
