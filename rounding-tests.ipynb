{
 "cells": [
  {
   "cell_type": "markdown",
   "id": "large-clinic",
   "metadata": {},
   "source": [
    "# Rounding tests\n",
    "\n",
    "Testing analyses of rounded data"
   ]
  },
  {
   "cell_type": "code",
   "execution_count": 5,
   "id": "attended-japanese",
   "metadata": {},
   "outputs": [],
   "source": [
    "%config IPCompleter.use_jedi = False\n",
    "import numpyro\n",
    "\n",
    "numpyro.util.set_host_device_count(4)\n",
    "import numpyro.distributions as dist\n",
    "\n",
    "from jax import numpy as jnp\n",
    "from jax import random\n",
    "from numpyro.infer import DiscreteHMCGibbs, MCMC, NUTS, Predictive\n",
    "from numpyro.contrib.funsor import config_enumerate\n",
    "\n",
    "from jax.scipy.special import digamma, polygamma, logit, expit, erf\n",
    "\n",
    "import numpy as np\n",
    "from numpy.random import default_rng\n",
    "import pandas as pd\n",
    "import seaborn as sns"
   ]
  },
  {
   "cell_type": "code",
   "execution_count": 41,
   "id": "european-study",
   "metadata": {},
   "outputs": [
    {
     "name": "stderr",
     "output_type": "stream",
     "text": [
      "/usr/local/lib/python3.6/dist-packages/seaborn/_decorators.py:43: FutureWarning: Pass the following variables as keyword args: x, y. From version 0.12, the only valid positional argument will be `data`, and passing other arguments without an explicit keyword will result in an error or misinterpretation.\n",
      "  FutureWarning\n"
     ]
    },
    {
     "data": {
      "text/plain": [
       "<AxesSubplot:>"
      ]
     },
     "execution_count": 41,
     "metadata": {},
     "output_type": "execute_result"
    },
    {
     "data": {
      "image/png": "[encoded data removed]",
      "text/plain": [
       "<Figure size 432x288 with 1 Axes>"
      ]
     },
     "metadata": {
      "needs_background": "light"
     },
     "output_type": "display_data"
    }
   ],
   "source": [
    "# first data that is all rounded to five\n",
    "\n",
    "n_obs = 100\n",
    "rg = default_rng(12345)\n",
    "\n",
    "def round_to_one(x):\n",
    "    return jnp.round(x,0)\n",
    "\n",
    "def round_to_five(x):\n",
    "    return jnp.round(x/5,0)*5\n",
    "\n",
    "def round_to_twenty(x):\n",
    "    return jnp.round(x/20,0)*20\n",
    "\n",
    "x_true = rg.beta(3,3,n_obs)*100\n",
    "x_obs = round_to_five(x_true)\n",
    "\n",
    "\n",
    "sns.scatterplot(x_true, x_obs,alpha=.5)"
   ]
  },
  {
   "cell_type": "code",
   "execution_count": 238,
   "id": "diagnostic-assurance",
   "metadata": {},
   "outputs": [],
   "source": [
    "def spread_vec(x, step_size):\n",
    "    base_steps = x.shape[0]\n",
    "    x_split = jnp.split(x, base_steps)\n",
    "    pad = jnp.zeros(step_size-1)\n",
    "    probs = jnp.stack([jnp.concatenate((i,pad)) for i in x_split]).flatten()\n",
    "    return probs/jnp.sum(probs)\n",
    "\n",
    "\n",
    "def logit_normal_cdf(mu, sigma, x):\n",
    "    inner = (logit(x) - mu)/ jnp.sqrt(2*jnp.power(sigma, 2))\n",
    "    return .5 * (1 + erf(inner))\n",
    "\n",
    "\n",
    "def beta_approx_cdf(a, b, x):\n",
    "    # normal approximation, not great\n",
    "    # mode K(a, b) = ((a – 1)/(ab – 1))1/a = mode beta(α, β) = (α – 1)/(α + β – 2).\n",
    "    mu_est = digamma(a) - digamma(b)\n",
    "    sigma_est = jnp.sqrt(polygamma(1, a) + polygamma(1, b))\n",
    "    \n",
    "    return logit_normal_cdf(mu_est, sigma_est, x)\n",
    "\n",
    "def beta_approx_params(a, b):\n",
    "    # normal approximation, not great\n",
    "    # mode K(a, b) = ((a – 1)/(ab – 1))1/a = mode beta(α, β) = (α – 1)/(α + β – 2).\n",
    "    mu_est = digamma(a) - digamma(b)\n",
    "    sigma_est = jnp.sqrt(polygamma(1, a) + polygamma(1, b))\n",
    "    \n",
    "    return mu_est, sigma_est\n",
    "\n",
    "# def beta_approx_cdf(mu, k, x):\n",
    "#     # mode K(a, b) = ((a – 1)/(ab – 1))1/a = mode beta(α, β) = (α – 1)/(α + β – 2).\n",
    "#     a = mu*k\n",
    "#     b = (1-mu)*k\n",
    "#     K_a = a\n",
    "#     K_b = ((a-1)/(a*b-1)^(1/a))\n",
    "    \n",
    "#     return k_a, k_b\n",
    "\n",
    "def beta_approx_cdf_norm(a, b, x):\n",
    "    # normal approximation, not great\n",
    "    # mode K(a, b) = ((a – 1)/(ab – 1))1/a = mode beta(α, β) = (α – 1)/(α + β – 2).\n",
    "    mu = a/(a+b)\n",
    "    sigma = jnp.sqrt((a*b)/(jnp.power(a+b,2)*(a+b+1.)))\n",
    "    \n",
    "    return dist.Normal(mu, sigma).cdf(x)\n",
    "\n",
    "def make_cuts(start, stop, step_size):\n",
    "    cut_points = np.arange(start, stop, step_size)+step_size/2\n",
    "    upper_pts = jnp.clip(cut_points + step_size/2, a_max=100, a_min=0)\n",
    "    lower_pts = jnp.clip(cut_points - step_size/2, a_max=100, a_min=0)\n",
    "    return upper_pts, lower_pts\n",
    "\n",
    "def categorical_probs(a, b, step_size, max_size=100):\n",
    "\n",
    "    upper_pts, lower_pts = make_cuts(0,100,step_size)\n",
    "    \n",
    "#     prob_dist = beta_approx_cdf(a,b) # replace with Kumaraswamy approx.\n",
    "    probs = beta_approx_cdf(a,b,upper_pts/100.) - beta_approx_cdf(a,b,lower_pts/100.)\n",
    "    return probs\n",
    "\n",
    "def categorical_probs_spread(a, b, step_size, max_size=100):\n",
    "    x = categorical_probs(a, b, step_size, max_size)\n",
    "    \n",
    "    return spread_vec(x, step_size)\n",
    "\n",
    "\n",
    "# # def rounding_model(x_obs, step_size):\n",
    "# #     mu1 = numpyro.sample(\"mu\", dist.Beta(1,1))\n",
    "# #     k1 = numpyro.sample(\"k\", dist.HalfCauchy(10))\n",
    "# #     mu, sigma = beta_approx_params(mu1*k, (1-mu1)*k)\n",
    "# # #     x_true_cp = categorical_probs_spread(mu*k, (1-mu)*k, step_size)\n",
    "\n",
    "\n",
    "# #     with numpyro.plate(\"data\", x_obs.shape[0]):\n",
    "# # #         numpyro.sample(\"x\", dist.Categorical(x_true_cp), obs=x_obs)\n",
    "# #         numpyro.sample(\"x\", dist.TransformedDistribution(dist.Normal(mu, sigma), transforms=dist.transforms.SigmoidTransform())\n",
    "# #                    , obs=x_obs/100.)\n",
    "        \n",
    "# def rounding_model(x_obs, step_size):\n",
    "#     mu = numpyro.sample(\"mu\", dist.Normal(0,3))\n",
    "#     sigma = numpyro.sample(\"sigma\", dist.HalfCauchy(10))\n",
    "\n",
    "#     with numpyro.plate(\"data\", x_obs.shape[0]):\n",
    "#         numpyro.sample(\"x\", dist.TransformedDistribution(dist.Normal(mu, sigma), transforms=dist.transforms.SigmoidTransform())\n",
    "#                        , obs=x_obs/100.)\n",
    "    \n"
   ]
  },
  {
   "cell_type": "code",
   "execution_count": 239,
   "id": "listed-village",
   "metadata": {},
   "outputs": [
    {
     "data": {
      "text/plain": [
       "(DeviceArray(0., dtype=float32), DeviceArray(0.8887452, dtype=float32))"
      ]
     },
     "execution_count": 239,
     "metadata": {},
     "output_type": "execute_result"
    }
   ],
   "source": [
    "# x = jnp.linspace(.01,.99,1000)\n",
    "# mu = .9\n",
    "# k = 30\n",
    "# z = .1\n",
    "# sns.scatterplot(y = dist.Beta(mu*k, (1-mu)*k).cdf(x), x = beta_approx_cdf(mu*k, (1-mu)*k,x))\n",
    "# sns.scatterplot(y = dist.Beta(mu*k, (1-mu)*k).cdf(x), x = beta_approx_cdf_norm(mu*k, (1-mu)*k,x))\n",
    "\n",
    "# print(dist.Beta(mu*k, (1-mu)*k).cdf(z))\n",
    "# print(beta_approx_cdf(mu*k, (1-mu)*k, z))\n",
    "# print(beta_approx_cdf_norm(mu*k, (1-mu)*k,z))\n",
    "# # mcmc_test.print_summary()\n",
    "\n",
    "# upper_pts, lower_pts = make_cuts(0,100, 5)\n",
    "# probs = logit_normal_cdf(-1, sigma, upper_pts/100.) - logit_normal_cdf(-1, sigma, lower_pts/100.)\n",
    "\n",
    "# probs.shape\n",
    "# expit(-.07)\n",
    "# dist.TransformedDistribution(dist.Normal(0, 1), transforms=dist.transforms.SigmoidTransform()).log_prob(.5)\n",
    "beta_approx_params(3, 3)"
   ]
  },
  {
   "cell_type": "code",
   "execution_count": 240,
   "id": "studied-greensboro",
   "metadata": {},
   "outputs": [
    {
     "name": "stderr",
     "output_type": "stream",
     "text": [
      "sample: 100%|██████████| 2000/2000 [00:03<00:00, 633.41it/s, 3 steps of size 8.31e-01. acc. prob=0.93] "
     ]
    },
    {
     "name": "stdout",
     "output_type": "stream",
     "text": [
      "\n",
      "                mean       std    median      5.0%     95.0%     n_eff     r_hat\n",
      "        mu     -0.11      0.10     -0.11     -0.29      0.06    639.41      1.00\n",
      "     sigma      0.96      0.07      0.96      0.85      1.08    732.18      1.00\n",
      "\n",
      "Number of divergences: 0\n"
     ]
    },
    {
     "name": "stderr",
     "output_type": "stream",
     "text": [
      "\n"
     ]
    }
   ],
   "source": [
    "mcmc_test = MCMC(NUTS(rounding_model), 1000, 1000, num_chains=1)\n",
    "mcmc_test.run(random.PRNGKey(0), x_obs, 5)    \n",
    "mcmc_test.print_summary()"
   ]
  },
  {
   "cell_type": "markdown",
   "id": "billion-syndrome",
   "metadata": {},
   "source": [
    "Now to allow for different rounding policies and infer the rounding policy being used.\n",
    "\n",
    "This code works (3/27/21, 4:29 PM)!\n",
    "\n",
    "But it doesn't work when the distribution is skewed, because the normal distribution approximation I'm using is no good."
   ]
  },
  {
   "cell_type": "code",
   "execution_count": 17,
   "id": "challenging-garage",
   "metadata": {},
   "outputs": [],
   "source": [
    "\n",
    "def rounding_mixture_model(x_obs):\n",
    "    \n",
    "    theta = numpyro.sample(\"theta\", dist.Dirichlet(jnp.ones(3)))\n",
    "    steps = jnp.array([1, 5, 20])\n",
    "    \n",
    "    mu = numpyro.sample(\"mu\", dist.Beta(1,1))\n",
    "    k = numpyro.sample(\"k\", dist.HalfCauchy(10))\n",
    "    theta_vec = jnp.reshape(theta, (-1,3))\n",
    "\n",
    "    with numpyro.plate(\"data\", x_obs.shape[0]):\n",
    "        \n",
    "        x_true_cp_stack = jnp.stack([ categorical_probs_spread(mu*k, (1.-mu)*k, step_size)  for step_size in steps])\n",
    "\n",
    "        x_true_cp = jnp.matmul(theta_vec, x_true_cp_stack)\n",
    "        numpyro.sample(\"x\", dist.Categorical(x_true_cp), obs=x_obs) # need to spread the values instead of padding"
   ]
  },
  {
   "cell_type": "code",
   "execution_count": 18,
   "id": "tribal-zimbabwe",
   "metadata": {},
   "outputs": [
    {
     "name": "stderr",
     "output_type": "stream",
     "text": [
      "sample: 100%|██████████| 2000/2000 [00:07<00:00, 276.58it/s, 7 steps of size 4.58e-01. acc. prob=0.94] \n"
     ]
    }
   ],
   "source": [
    "mcmc_test = MCMC(NUTS(rounding_mixture_model), 1000, 1000, num_chains=1)\n",
    "mcmc_test.run(random.PRNGKey(0), x_obs)   "
   ]
  },
  {
   "cell_type": "code",
   "execution_count": 19,
   "id": "automotive-directory",
   "metadata": {},
   "outputs": [
    {
     "name": "stdout",
     "output_type": "stream",
     "text": [
      "\n",
      "                mean       std    median      5.0%     95.0%     n_eff     r_hat\n",
      "         k      5.82      0.94      5.75      4.09      7.21    984.29      1.00\n",
      "        mu      0.51      0.02      0.51      0.48      0.54    799.73      1.00\n",
      "  theta[0]      0.01      0.01      0.01      0.00      0.03   1188.36      1.00\n",
      "  theta[1]      0.95      0.03      0.96      0.91      1.00    757.92      1.00\n",
      "  theta[2]      0.03      0.03      0.03      0.00      0.08    785.96      1.00\n",
      "\n",
      "Number of divergences: 0\n"
     ]
    }
   ],
   "source": [
    "mcmc_test.print_summary()"
   ]
  },
  {
   "cell_type": "code",
   "execution_count": 249,
   "id": "announced-supplement",
   "metadata": {},
   "outputs": [
    {
     "name": "stderr",
     "output_type": "stream",
     "text": [
      "/usr/local/lib/python3.6/dist-packages/seaborn/_decorators.py:43: FutureWarning: Pass the following variables as keyword args: x, y. From version 0.12, the only valid positional argument will be `data`, and passing other arguments without an explicit keyword will result in an error or misinterpretation.\n",
      "  FutureWarning\n"
     ]
    },
    {
     "data": {
      "text/plain": [
       "<AxesSubplot:>"
      ]
     },
     "execution_count": 249,
     "metadata": {},
     "output_type": "execute_result"
    },
    {
     "data": {
      "image/png": "[encoded data removed]",
      "text/plain": [
       "<Figure size 432x288 with 1 Axes>"
      ]
     },
     "metadata": {
      "needs_background": "light"
     },
     "output_type": "display_data"
    }
   ],
   "source": [
    "# smaller, narrower new data rounded to 5\n",
    "\n",
    "n_obs = 100\n",
    "rg = default_rng(12345)\n",
    "\n",
    "def round_to_one(x):\n",
    "    return jnp.round(x,0)\n",
    "\n",
    "def round_to_five(x):\n",
    "    return jnp.round(x/5,0)*5\n",
    "\n",
    "def round_to_ten(x):\n",
    "    return jnp.round(x/10,0)*10\n",
    "\n",
    "def round_to_twenty(x):\n",
    "    return jnp.round(x/20,0)*20\n",
    "\n",
    "x_true = rg.beta(3,3,n_obs)*100\n",
    "x_obs = round_to_five(x_true)\n",
    "\n",
    "\n",
    "sns.scatterplot(x_true, x_obs,alpha=.5)"
   ]
  },
  {
   "cell_type": "code",
   "execution_count": 250,
   "id": "standard-current",
   "metadata": {},
   "outputs": [],
   "source": [
    "import jax\n",
    "\n",
    "def cat_probs_norm(mu, sigma, step_size, max_size=100):\n",
    "\n",
    "    upper_pts, lower_pts = make_cuts(0,100,step_size)\n",
    "    \n",
    "    prob_dist = dist.StudentT(3, mu, sigma) # on (0,1) scale\n",
    "    probs = prob_dist.cdf(upper_pts/100.) - prob_dist.cdf(lower_pts/100.)\n",
    "    return probs\n",
    "\n",
    "\n",
    "vec_cat_probs = jax.vmap(cat_probs_norm, in_axes = (0, None, None))\n",
    "vec_spread_vec = jax.vmap(spread_vec, in_axes = (0, None))\n",
    "\n",
    "def vec_cat_probs_spread(mu, sigma, step_size, max_size=100):\n",
    "    return vec_spread_vec(vec_cat_probs(mu, sigma, step_size), step_size)\n",
    "\n",
    "\n",
    "def rounding_model_latent(x_obs, step_size):\n",
    "#     mu = numpyro.sample(\"mu\", dist.Beta(1,1))\n",
    "#     k = numpyro.sample(\"k\", dist.HalfCauchy(10))\n",
    "    mu = .50\n",
    "    k = 6.\n",
    "    \n",
    "    with numpyro.plate(\"data\", x_obs.shape[0]):\n",
    "        x_true = numpyro.sample(\"x_true\", dist.Beta(mu*k, (1-mu)*k))\n",
    "        x_true_cp = vec_cat_probs_spread(x_true, .01, step_size)\n",
    "        numpyro.sample(\"x\", dist.Categorical(x_true_cp), obs=x_obs)"
   ]
  },
  {
   "cell_type": "code",
   "execution_count": 251,
   "id": "ultimate-robin",
   "metadata": {},
   "outputs": [
    {
     "ename": "RuntimeError",
     "evalue": "Cannot find valid initial parameters. Please check your model again.",
     "output_type": "error",
     "traceback": [
      "\u001b[0;31m---------------------------------------------------------------------------\u001b[0m",
      "\u001b[0;31mRuntimeError\u001b[0m                              Traceback (most recent call last)",
      "\u001b[0;32m<ipython-input-251-0d9445f72093>\u001b[0m in \u001b[0;36m<module>\u001b[0;34m\u001b[0m\n\u001b[1;32m      1\u001b[0m \u001b[0mmcmc_test\u001b[0m \u001b[0;34m=\u001b[0m \u001b[0mMCMC\u001b[0m\u001b[0;34m(\u001b[0m\u001b[0mNUTS\u001b[0m\u001b[0;34m(\u001b[0m\u001b[0mrounding_model_latent\u001b[0m\u001b[0;34m,\u001b[0m \u001b[0mtarget_accept_prob\u001b[0m\u001b[0;34m=\u001b[0m\u001b[0;36m.80\u001b[0m\u001b[0;34m)\u001b[0m\u001b[0;34m,\u001b[0m \u001b[0;36m1000\u001b[0m\u001b[0;34m,\u001b[0m \u001b[0;36m1000\u001b[0m\u001b[0;34m,\u001b[0m \u001b[0mnum_chains\u001b[0m\u001b[0;34m=\u001b[0m\u001b[0;36m1\u001b[0m\u001b[0;34m)\u001b[0m\u001b[0;34m\u001b[0m\u001b[0;34m\u001b[0m\u001b[0m\n\u001b[0;32m----> 2\u001b[0;31m \u001b[0mmcmc_test\u001b[0m\u001b[0;34m.\u001b[0m\u001b[0mrun\u001b[0m\u001b[0;34m(\u001b[0m\u001b[0mrandom\u001b[0m\u001b[0;34m.\u001b[0m\u001b[0mPRNGKey\u001b[0m\u001b[0;34m(\u001b[0m\u001b[0;36m0\u001b[0m\u001b[0;34m)\u001b[0m\u001b[0;34m,\u001b[0m \u001b[0mx_obs\u001b[0m\u001b[0;34m,\u001b[0m \u001b[0;36m5\u001b[0m\u001b[0;34m)\u001b[0m\u001b[0;34m\u001b[0m\u001b[0;34m\u001b[0m\u001b[0m\n\u001b[0m",
      "\u001b[0;32m/usr/local/lib/python3.6/dist-packages/numpyro/infer/mcmc.py\u001b[0m in \u001b[0;36mrun\u001b[0;34m(self, rng_key, extra_fields, init_params, *args, **kwargs)\u001b[0m\n\u001b[1;32m    496\u001b[0m         \u001b[0mmap_args\u001b[0m \u001b[0;34m=\u001b[0m \u001b[0;34m(\u001b[0m\u001b[0mrng_key\u001b[0m\u001b[0;34m,\u001b[0m \u001b[0minit_state\u001b[0m\u001b[0;34m,\u001b[0m \u001b[0minit_params\u001b[0m\u001b[0;34m)\u001b[0m\u001b[0;34m\u001b[0m\u001b[0;34m\u001b[0m\u001b[0m\n\u001b[1;32m    497\u001b[0m         \u001b[0;32mif\u001b[0m \u001b[0mself\u001b[0m\u001b[0;34m.\u001b[0m\u001b[0mnum_chains\u001b[0m \u001b[0;34m==\u001b[0m \u001b[0;36m1\u001b[0m\u001b[0;34m:\u001b[0m\u001b[0;34m\u001b[0m\u001b[0;34m\u001b[0m\u001b[0m\n\u001b[0;32m--> 498\u001b[0;31m             \u001b[0mstates_flat\u001b[0m\u001b[0;34m,\u001b[0m \u001b[0mlast_state\u001b[0m \u001b[0;34m=\u001b[0m \u001b[0mpartial_map_fn\u001b[0m\u001b[0;34m(\u001b[0m\u001b[0mmap_args\u001b[0m\u001b[0;34m)\u001b[0m\u001b[0;34m\u001b[0m\u001b[0;34m\u001b[0m\u001b[0m\n\u001b[0m\u001b[1;32m    499\u001b[0m             \u001b[0mstates\u001b[0m \u001b[0;34m=\u001b[0m \u001b[0mtree_map\u001b[0m\u001b[0;34m(\u001b[0m\u001b[0;32mlambda\u001b[0m \u001b[0mx\u001b[0m\u001b[0;34m:\u001b[0m \u001b[0mx\u001b[0m\u001b[0;34m[\u001b[0m\u001b[0mjnp\u001b[0m\u001b[0;34m.\u001b[0m\u001b[0mnewaxis\u001b[0m\u001b[0;34m,\u001b[0m \u001b[0;34m...\u001b[0m\u001b[0;34m]\u001b[0m\u001b[0;34m,\u001b[0m \u001b[0mstates_flat\u001b[0m\u001b[0;34m)\u001b[0m\u001b[0;34m\u001b[0m\u001b[0;34m\u001b[0m\u001b[0m\n\u001b[1;32m    500\u001b[0m         \u001b[0;32melse\u001b[0m\u001b[0;34m:\u001b[0m\u001b[0;34m\u001b[0m\u001b[0;34m\u001b[0m\u001b[0m\n",
      "\u001b[0;32m/usr/local/lib/python3.6/dist-packages/numpyro/infer/mcmc.py\u001b[0m in \u001b[0;36m_single_chain_mcmc\u001b[0;34m(self, init, args, kwargs, collect_fields)\u001b[0m\n\u001b[1;32m    332\u001b[0m         \u001b[0;32mif\u001b[0m \u001b[0minit_state\u001b[0m \u001b[0;32mis\u001b[0m \u001b[0;32mNone\u001b[0m\u001b[0;34m:\u001b[0m\u001b[0;34m\u001b[0m\u001b[0;34m\u001b[0m\u001b[0m\n\u001b[1;32m    333\u001b[0m             init_state = self.sampler.init(rng_key, self.num_warmup, init_params,\n\u001b[0;32m--> 334\u001b[0;31m                                            model_args=args, model_kwargs=kwargs)\n\u001b[0m\u001b[1;32m    335\u001b[0m         \u001b[0msample_fn\u001b[0m\u001b[0;34m,\u001b[0m \u001b[0mpostprocess_fn\u001b[0m \u001b[0;34m=\u001b[0m \u001b[0mself\u001b[0m\u001b[0;34m.\u001b[0m\u001b[0m_get_cached_fns\u001b[0m\u001b[0;34m(\u001b[0m\u001b[0;34m)\u001b[0m\u001b[0;34m\u001b[0m\u001b[0;34m\u001b[0m\u001b[0m\n\u001b[1;32m    336\u001b[0m         \u001b[0mdiagnostics\u001b[0m \u001b[0;34m=\u001b[0m \u001b[0;32mlambda\u001b[0m \u001b[0mx\u001b[0m\u001b[0;34m:\u001b[0m \u001b[0mself\u001b[0m\u001b[0;34m.\u001b[0m\u001b[0msampler\u001b[0m\u001b[0;34m.\u001b[0m\u001b[0mget_diagnostics_str\u001b[0m\u001b[0;34m(\u001b[0m\u001b[0mx\u001b[0m\u001b[0;34m[\u001b[0m\u001b[0;36m0\u001b[0m\u001b[0;34m]\u001b[0m\u001b[0;34m)\u001b[0m \u001b[0;32mif\u001b[0m \u001b[0mrng_key\u001b[0m\u001b[0;34m.\u001b[0m\u001b[0mndim\u001b[0m \u001b[0;34m==\u001b[0m \u001b[0;36m1\u001b[0m \u001b[0;32melse\u001b[0m \u001b[0;34m''\u001b[0m   \u001b[0;31m# noqa: E731\u001b[0m\u001b[0;34m\u001b[0m\u001b[0;34m\u001b[0m\u001b[0m\n",
      "\u001b[0;32m/usr/local/lib/python3.6/dist-packages/numpyro/infer/hmc.py\u001b[0m in \u001b[0;36minit\u001b[0;34m(self, rng_key, num_warmup, init_params, model_args, model_kwargs)\u001b[0m\n\u001b[1;32m    481\u001b[0m         \u001b[0;32melse\u001b[0m\u001b[0;34m:\u001b[0m\u001b[0;34m\u001b[0m\u001b[0;34m\u001b[0m\u001b[0m\n\u001b[1;32m    482\u001b[0m             \u001b[0mrng_key\u001b[0m\u001b[0;34m,\u001b[0m \u001b[0mrng_key_init_model\u001b[0m \u001b[0;34m=\u001b[0m \u001b[0mjnp\u001b[0m\u001b[0;34m.\u001b[0m\u001b[0mswapaxes\u001b[0m\u001b[0;34m(\u001b[0m\u001b[0mvmap\u001b[0m\u001b[0;34m(\u001b[0m\u001b[0mrandom\u001b[0m\u001b[0;34m.\u001b[0m\u001b[0msplit\u001b[0m\u001b[0;34m)\u001b[0m\u001b[0;34m(\u001b[0m\u001b[0mrng_key\u001b[0m\u001b[0;34m)\u001b[0m\u001b[0;34m,\u001b[0m \u001b[0;36m0\u001b[0m\u001b[0;34m,\u001b[0m \u001b[0;36m1\u001b[0m\u001b[0;34m)\u001b[0m\u001b[0;34m\u001b[0m\u001b[0;34m\u001b[0m\u001b[0m\n\u001b[0;32m--> 483\u001b[0;31m         \u001b[0minit_params\u001b[0m \u001b[0;34m=\u001b[0m \u001b[0mself\u001b[0m\u001b[0;34m.\u001b[0m\u001b[0m_init_state\u001b[0m\u001b[0;34m(\u001b[0m\u001b[0mrng_key_init_model\u001b[0m\u001b[0;34m,\u001b[0m \u001b[0mmodel_args\u001b[0m\u001b[0;34m,\u001b[0m \u001b[0mmodel_kwargs\u001b[0m\u001b[0;34m,\u001b[0m \u001b[0minit_params\u001b[0m\u001b[0;34m)\u001b[0m\u001b[0;34m\u001b[0m\u001b[0;34m\u001b[0m\u001b[0m\n\u001b[0m\u001b[1;32m    484\u001b[0m         \u001b[0;32mif\u001b[0m \u001b[0mself\u001b[0m\u001b[0;34m.\u001b[0m\u001b[0m_potential_fn\u001b[0m \u001b[0;32mand\u001b[0m \u001b[0minit_params\u001b[0m \u001b[0;32mis\u001b[0m \u001b[0;32mNone\u001b[0m\u001b[0;34m:\u001b[0m\u001b[0;34m\u001b[0m\u001b[0;34m\u001b[0m\u001b[0m\n\u001b[1;32m    485\u001b[0m             raise ValueError('Valid value of `init_params` must be provided with'\n",
      "\u001b[0;32m/usr/local/lib/python3.6/dist-packages/numpyro/infer/hmc.py\u001b[0m in \u001b[0;36m_init_state\u001b[0;34m(self, rng_key, model_args, model_kwargs, init_params)\u001b[0m\n\u001b[1;32m    443\u001b[0m                 \u001b[0mmodel_args\u001b[0m\u001b[0;34m=\u001b[0m\u001b[0mmodel_args\u001b[0m\u001b[0;34m,\u001b[0m\u001b[0;34m\u001b[0m\u001b[0;34m\u001b[0m\u001b[0m\n\u001b[1;32m    444\u001b[0m                 \u001b[0mmodel_kwargs\u001b[0m\u001b[0;34m=\u001b[0m\u001b[0mmodel_kwargs\u001b[0m\u001b[0;34m,\u001b[0m\u001b[0;34m\u001b[0m\u001b[0;34m\u001b[0m\u001b[0m\n\u001b[0;32m--> 445\u001b[0;31m                 forward_mode_differentiation=self._forward_mode_differentiation)\n\u001b[0m\u001b[1;32m    446\u001b[0m             \u001b[0;32mif\u001b[0m \u001b[0mself\u001b[0m\u001b[0;34m.\u001b[0m\u001b[0m_init_fn\u001b[0m \u001b[0;32mis\u001b[0m \u001b[0;32mNone\u001b[0m\u001b[0;34m:\u001b[0m\u001b[0;34m\u001b[0m\u001b[0;34m\u001b[0m\u001b[0m\n\u001b[1;32m    447\u001b[0m                 self._init_fn, self._sample_fn = hmc(potential_fn_gen=potential_fn,\n",
      "\u001b[0;32m/usr/local/lib/python3.6/dist-packages/numpyro/infer/util.py\u001b[0m in \u001b[0;36minitialize_model\u001b[0;34m(rng_key, model, init_strategy, dynamic_args, model_args, model_kwargs, forward_mode_differentiation)\u001b[0m\n\u001b[1;32m    485\u001b[0m                                 warnings.showwarning(w.message, w.category, w.filename, w.lineno,\n\u001b[1;32m    486\u001b[0m                                                      file=w.file, line=w.line)\n\u001b[0;32m--> 487\u001b[0;31m             \u001b[0;32mraise\u001b[0m \u001b[0mRuntimeError\u001b[0m\u001b[0;34m(\u001b[0m\u001b[0;34m\"Cannot find valid initial parameters. Please check your model again.\"\u001b[0m\u001b[0;34m)\u001b[0m\u001b[0;34m\u001b[0m\u001b[0;34m\u001b[0m\u001b[0m\n\u001b[0m\u001b[1;32m    488\u001b[0m     \u001b[0;32mreturn\u001b[0m \u001b[0mModelInfo\u001b[0m\u001b[0;34m(\u001b[0m\u001b[0mParamInfo\u001b[0m\u001b[0;34m(\u001b[0m\u001b[0minit_params\u001b[0m\u001b[0;34m,\u001b[0m \u001b[0mpe\u001b[0m\u001b[0;34m,\u001b[0m \u001b[0mgrad\u001b[0m\u001b[0;34m)\u001b[0m\u001b[0;34m,\u001b[0m \u001b[0mpotential_fn\u001b[0m\u001b[0;34m,\u001b[0m \u001b[0mpostprocess_fn\u001b[0m\u001b[0;34m,\u001b[0m \u001b[0mmodel_trace\u001b[0m\u001b[0;34m)\u001b[0m\u001b[0;34m\u001b[0m\u001b[0;34m\u001b[0m\u001b[0m\n\u001b[1;32m    489\u001b[0m \u001b[0;34m\u001b[0m\u001b[0m\n",
      "\u001b[0;31mRuntimeError\u001b[0m: Cannot find valid initial parameters. Please check your model again."
     ]
    }
   ],
   "source": [
    "mcmc_test = MCMC(NUTS(rounding_model_latent, target_accept_prob=.80), 1000, 1000, num_chains=1)\n",
    "mcmc_test.run(random.PRNGKey(0), x_obs, 5)   "
   ]
  },
  {
   "cell_type": "code",
   "execution_count": null,
   "id": "deadly-ebony",
   "metadata": {},
   "outputs": [],
   "source": [
    "mcmc_test.print_summary()"
   ]
  },
  {
   "cell_type": "markdown",
   "id": "amber-destination",
   "metadata": {},
   "source": [
    "Having vectorized things with `vmap()` it seems to initialize well, produces a reasonable answer and samples reasonably quickly, but still produces lots of divergences."
   ]
  },
  {
   "cell_type": "code",
   "execution_count": 56,
   "id": "experimental-chapel",
   "metadata": {},
   "outputs": [
    {
     "data": {
      "text/plain": [
       "DeviceArray(-9.527151, dtype=float32)"
      ]
     },
     "execution_count": 56,
     "metadata": {},
     "output_type": "execute_result"
    }
   ],
   "source": [
    "# def rounding_model_latent(x_obs, step_size):\n",
    "#     mu = numpyro.sample(\"mu\", dist.Beta(1,1))\n",
    "#     k = numpyro.sample(\"k\", dist.HalfCauchy(10))\n",
    "    \n",
    "#     with numpyro.plate(\"data\", x_obs.shape[0]):\n",
    "#         x_true = numpyro.sample(\"x_true\", dist.Beta(mu*k, (1-mu)*k))\n",
    "#         x_true_cp = vec_cat_probs_spread(x_true, .01, step_size)\n",
    "#         numpyro.sample(\"x\", dist.Categorical(x_true_cp), obs=x_obs)"
   ]
  },
  {
   "cell_type": "code",
   "execution_count": 241,
   "id": "alleged-setup",
   "metadata": {},
   "outputs": [],
   "source": [
    "def reshape_theta(theta, n_obs, n_steps, n_categories):\n",
    "    theta_vec = jnp.reshape(theta, (-1, n_steps))\n",
    "    theta_obj = theta_vec.repeat(n_obs, axis=-1)\n",
    "    theta_obj = jnp.reshape(theta_obj.repeat(n_categories, axis=-1), (n_steps, n_obs, n_categories))\n",
    "    \n",
    "    return theta_obj\n",
    "\n",
    "def rounding_mixture_model_reg(x_obs):\n",
    "    n_obs = x_obs.shape[0]\n",
    "    steps = jnp.array([5])\n",
    "#         steps = jnp.array([1, 5, 10])\n",
    "    #     theta = numpyro.sample(\"theta\", dist.Dirichlet(jnp.ones(len(steps))))\n",
    "    theta = jnp.array(1.)\n",
    "\n",
    "\n",
    "    \n",
    "    mu = numpyro.sample(\"mu\", dist.Beta(1,1))\n",
    "    k = numpyro.sample(\"k\", dist.HalfCauchy(10))\n",
    "    \n",
    "    theta_obj = reshape_theta(theta, n_obs, len(steps), 100)\n",
    "    \n",
    "    with numpyro.plate(\"data\", n_obs):\n",
    "\n",
    "        x_true = numpyro.sample(\"x_true\", dist.Beta(mu*k, (1-mu*k)))\n",
    "        x_true_cp_stack = jnp.stack([ vec_cat_probs_spread(x_true, .02, step_size) for step_size in steps])\n",
    "        \n",
    "#         x_true_cp = jnp.sum(x_true_cp_stack*theta_obj, axis=0)\n",
    "        x_true_cp = jnp.exp(jax.scipy.special.logsumexp(jnp.log(x_true_cp_stack) + jnp.log(theta_obj), axis=-3))\n",
    "        numpyro.sample(\"x\", dist.Categorical(x_true_cp), obs=x_obs)\n",
    "    return None\n"
   ]
  },
  {
   "cell_type": "code",
   "execution_count": 242,
   "id": "generic-charge",
   "metadata": {},
   "outputs": [
    {
     "ename": "NameError",
     "evalue": "name 'vec_cat_probs_spread' is not defined",
     "output_type": "error",
     "traceback": [
      "\u001b[0;31m---------------------------------------------------------------------------\u001b[0m",
      "\u001b[0;31mNameError\u001b[0m                                 Traceback (most recent call last)",
      "\u001b[0;32m<ipython-input-242-d7f1e097ed0d>\u001b[0m in \u001b[0;36m<module>\u001b[0;34m\u001b[0m\n\u001b[1;32m      1\u001b[0m \u001b[0mmcmc_test\u001b[0m \u001b[0;34m=\u001b[0m \u001b[0mMCMC\u001b[0m\u001b[0;34m(\u001b[0m\u001b[0mNUTS\u001b[0m\u001b[0;34m(\u001b[0m\u001b[0mrounding_mixture_model_reg\u001b[0m\u001b[0;34m,\u001b[0m \u001b[0mtarget_accept_prob\u001b[0m\u001b[0;34m=\u001b[0m\u001b[0;36m.90\u001b[0m\u001b[0;34m)\u001b[0m\u001b[0;34m,\u001b[0m \u001b[0;36m1000\u001b[0m\u001b[0;34m,\u001b[0m \u001b[0;36m1000\u001b[0m\u001b[0;34m,\u001b[0m \u001b[0mnum_chains\u001b[0m\u001b[0;34m=\u001b[0m\u001b[0;36m1\u001b[0m\u001b[0;34m)\u001b[0m\u001b[0;34m\u001b[0m\u001b[0;34m\u001b[0m\u001b[0m\n\u001b[0;32m----> 2\u001b[0;31m \u001b[0mmcmc_test\u001b[0m\u001b[0;34m.\u001b[0m\u001b[0mrun\u001b[0m\u001b[0;34m(\u001b[0m\u001b[0mrandom\u001b[0m\u001b[0;34m.\u001b[0m\u001b[0mPRNGKey\u001b[0m\u001b[0;34m(\u001b[0m\u001b[0;36m0\u001b[0m\u001b[0;34m)\u001b[0m\u001b[0;34m,\u001b[0m \u001b[0mx_obs\u001b[0m\u001b[0;34m)\u001b[0m\u001b[0;34m\u001b[0m\u001b[0;34m\u001b[0m\u001b[0m\n\u001b[0m",
      "\u001b[0;32m/usr/local/lib/python3.6/dist-packages/numpyro/infer/mcmc.py\u001b[0m in \u001b[0;36mrun\u001b[0;34m(self, rng_key, extra_fields, init_params, *args, **kwargs)\u001b[0m\n\u001b[1;32m    496\u001b[0m         \u001b[0mmap_args\u001b[0m \u001b[0;34m=\u001b[0m \u001b[0;34m(\u001b[0m\u001b[0mrng_key\u001b[0m\u001b[0;34m,\u001b[0m \u001b[0minit_state\u001b[0m\u001b[0;34m,\u001b[0m \u001b[0minit_params\u001b[0m\u001b[0;34m)\u001b[0m\u001b[0;34m\u001b[0m\u001b[0;34m\u001b[0m\u001b[0m\n\u001b[1;32m    497\u001b[0m         \u001b[0;32mif\u001b[0m \u001b[0mself\u001b[0m\u001b[0;34m.\u001b[0m\u001b[0mnum_chains\u001b[0m \u001b[0;34m==\u001b[0m \u001b[0;36m1\u001b[0m\u001b[0;34m:\u001b[0m\u001b[0;34m\u001b[0m\u001b[0;34m\u001b[0m\u001b[0m\n\u001b[0;32m--> 498\u001b[0;31m             \u001b[0mstates_flat\u001b[0m\u001b[0;34m,\u001b[0m \u001b[0mlast_state\u001b[0m \u001b[0;34m=\u001b[0m \u001b[0mpartial_map_fn\u001b[0m\u001b[0;34m(\u001b[0m\u001b[0mmap_args\u001b[0m\u001b[0;34m)\u001b[0m\u001b[0;34m\u001b[0m\u001b[0;34m\u001b[0m\u001b[0m\n\u001b[0m\u001b[1;32m    499\u001b[0m             \u001b[0mstates\u001b[0m \u001b[0;34m=\u001b[0m \u001b[0mtree_map\u001b[0m\u001b[0;34m(\u001b[0m\u001b[0;32mlambda\u001b[0m \u001b[0mx\u001b[0m\u001b[0;34m:\u001b[0m \u001b[0mx\u001b[0m\u001b[0;34m[\u001b[0m\u001b[0mjnp\u001b[0m\u001b[0;34m.\u001b[0m\u001b[0mnewaxis\u001b[0m\u001b[0;34m,\u001b[0m \u001b[0;34m...\u001b[0m\u001b[0;34m]\u001b[0m\u001b[0;34m,\u001b[0m \u001b[0mstates_flat\u001b[0m\u001b[0;34m)\u001b[0m\u001b[0;34m\u001b[0m\u001b[0;34m\u001b[0m\u001b[0m\n\u001b[1;32m    500\u001b[0m         \u001b[0;32melse\u001b[0m\u001b[0;34m:\u001b[0m\u001b[0;34m\u001b[0m\u001b[0;34m\u001b[0m\u001b[0m\n",
      "\u001b[0;32m/usr/local/lib/python3.6/dist-packages/numpyro/infer/mcmc.py\u001b[0m in \u001b[0;36m_single_chain_mcmc\u001b[0;34m(self, init, args, kwargs, collect_fields)\u001b[0m\n\u001b[1;32m    332\u001b[0m         \u001b[0;32mif\u001b[0m \u001b[0minit_state\u001b[0m \u001b[0;32mis\u001b[0m \u001b[0;32mNone\u001b[0m\u001b[0;34m:\u001b[0m\u001b[0;34m\u001b[0m\u001b[0;34m\u001b[0m\u001b[0m\n\u001b[1;32m    333\u001b[0m             init_state = self.sampler.init(rng_key, self.num_warmup, init_params,\n\u001b[0;32m--> 334\u001b[0;31m                                            model_args=args, model_kwargs=kwargs)\n\u001b[0m\u001b[1;32m    335\u001b[0m         \u001b[0msample_fn\u001b[0m\u001b[0;34m,\u001b[0m \u001b[0mpostprocess_fn\u001b[0m \u001b[0;34m=\u001b[0m \u001b[0mself\u001b[0m\u001b[0;34m.\u001b[0m\u001b[0m_get_cached_fns\u001b[0m\u001b[0;34m(\u001b[0m\u001b[0;34m)\u001b[0m\u001b[0;34m\u001b[0m\u001b[0;34m\u001b[0m\u001b[0m\n\u001b[1;32m    336\u001b[0m         \u001b[0mdiagnostics\u001b[0m \u001b[0;34m=\u001b[0m \u001b[0;32mlambda\u001b[0m \u001b[0mx\u001b[0m\u001b[0;34m:\u001b[0m \u001b[0mself\u001b[0m\u001b[0;34m.\u001b[0m\u001b[0msampler\u001b[0m\u001b[0;34m.\u001b[0m\u001b[0mget_diagnostics_str\u001b[0m\u001b[0;34m(\u001b[0m\u001b[0mx\u001b[0m\u001b[0;34m[\u001b[0m\u001b[0;36m0\u001b[0m\u001b[0;34m]\u001b[0m\u001b[0;34m)\u001b[0m \u001b[0;32mif\u001b[0m \u001b[0mrng_key\u001b[0m\u001b[0;34m.\u001b[0m\u001b[0mndim\u001b[0m \u001b[0;34m==\u001b[0m \u001b[0;36m1\u001b[0m \u001b[0;32melse\u001b[0m \u001b[0;34m''\u001b[0m   \u001b[0;31m# noqa: E731\u001b[0m\u001b[0;34m\u001b[0m\u001b[0;34m\u001b[0m\u001b[0m\n",
      "\u001b[0;32m/usr/local/lib/python3.6/dist-packages/numpyro/infer/hmc.py\u001b[0m in \u001b[0;36minit\u001b[0;34m(self, rng_key, num_warmup, init_params, model_args, model_kwargs)\u001b[0m\n\u001b[1;32m    481\u001b[0m         \u001b[0;32melse\u001b[0m\u001b[0;34m:\u001b[0m\u001b[0;34m\u001b[0m\u001b[0;34m\u001b[0m\u001b[0m\n\u001b[1;32m    482\u001b[0m             \u001b[0mrng_key\u001b[0m\u001b[0;34m,\u001b[0m \u001b[0mrng_key_init_model\u001b[0m \u001b[0;34m=\u001b[0m \u001b[0mjnp\u001b[0m\u001b[0;34m.\u001b[0m\u001b[0mswapaxes\u001b[0m\u001b[0;34m(\u001b[0m\u001b[0mvmap\u001b[0m\u001b[0;34m(\u001b[0m\u001b[0mrandom\u001b[0m\u001b[0;34m.\u001b[0m\u001b[0msplit\u001b[0m\u001b[0;34m)\u001b[0m\u001b[0;34m(\u001b[0m\u001b[0mrng_key\u001b[0m\u001b[0;34m)\u001b[0m\u001b[0;34m,\u001b[0m \u001b[0;36m0\u001b[0m\u001b[0;34m,\u001b[0m \u001b[0;36m1\u001b[0m\u001b[0;34m)\u001b[0m\u001b[0;34m\u001b[0m\u001b[0;34m\u001b[0m\u001b[0m\n\u001b[0;32m--> 483\u001b[0;31m         \u001b[0minit_params\u001b[0m \u001b[0;34m=\u001b[0m \u001b[0mself\u001b[0m\u001b[0;34m.\u001b[0m\u001b[0m_init_state\u001b[0m\u001b[0;34m(\u001b[0m\u001b[0mrng_key_init_model\u001b[0m\u001b[0;34m,\u001b[0m \u001b[0mmodel_args\u001b[0m\u001b[0;34m,\u001b[0m \u001b[0mmodel_kwargs\u001b[0m\u001b[0;34m,\u001b[0m \u001b[0minit_params\u001b[0m\u001b[0;34m)\u001b[0m\u001b[0;34m\u001b[0m\u001b[0;34m\u001b[0m\u001b[0m\n\u001b[0m\u001b[1;32m    484\u001b[0m         \u001b[0;32mif\u001b[0m \u001b[0mself\u001b[0m\u001b[0;34m.\u001b[0m\u001b[0m_potential_fn\u001b[0m \u001b[0;32mand\u001b[0m \u001b[0minit_params\u001b[0m \u001b[0;32mis\u001b[0m \u001b[0;32mNone\u001b[0m\u001b[0;34m:\u001b[0m\u001b[0;34m\u001b[0m\u001b[0;34m\u001b[0m\u001b[0m\n\u001b[1;32m    485\u001b[0m             raise ValueError('Valid value of `init_params` must be provided with'\n",
      "\u001b[0;32m/usr/local/lib/python3.6/dist-packages/numpyro/infer/hmc.py\u001b[0m in \u001b[0;36m_init_state\u001b[0;34m(self, rng_key, model_args, model_kwargs, init_params)\u001b[0m\n\u001b[1;32m    443\u001b[0m                 \u001b[0mmodel_args\u001b[0m\u001b[0;34m=\u001b[0m\u001b[0mmodel_args\u001b[0m\u001b[0;34m,\u001b[0m\u001b[0;34m\u001b[0m\u001b[0;34m\u001b[0m\u001b[0m\n\u001b[1;32m    444\u001b[0m                 \u001b[0mmodel_kwargs\u001b[0m\u001b[0;34m=\u001b[0m\u001b[0mmodel_kwargs\u001b[0m\u001b[0;34m,\u001b[0m\u001b[0;34m\u001b[0m\u001b[0;34m\u001b[0m\u001b[0m\n\u001b[0;32m--> 445\u001b[0;31m                 forward_mode_differentiation=self._forward_mode_differentiation)\n\u001b[0m\u001b[1;32m    446\u001b[0m             \u001b[0;32mif\u001b[0m \u001b[0mself\u001b[0m\u001b[0;34m.\u001b[0m\u001b[0m_init_fn\u001b[0m \u001b[0;32mis\u001b[0m \u001b[0;32mNone\u001b[0m\u001b[0;34m:\u001b[0m\u001b[0;34m\u001b[0m\u001b[0;34m\u001b[0m\u001b[0m\n\u001b[1;32m    447\u001b[0m                 self._init_fn, self._sample_fn = hmc(potential_fn_gen=potential_fn,\n",
      "\u001b[0;32m/usr/local/lib/python3.6/dist-packages/numpyro/infer/util.py\u001b[0m in \u001b[0;36minitialize_model\u001b[0;34m(rng_key, model, init_strategy, dynamic_args, model_args, model_kwargs, forward_mode_differentiation)\u001b[0m\n\u001b[1;32m    427\u001b[0m                                    substitute_fn=init_strategy)\n\u001b[1;32m    428\u001b[0m     inv_transforms, replay_model, has_enumerate_support, model_trace = _get_model_transforms(\n\u001b[0;32m--> 429\u001b[0;31m         substituted_model, model_args, model_kwargs)\n\u001b[0m\u001b[1;32m    430\u001b[0m     \u001b[0;31m# substitute param sites from model_trace to model so\u001b[0m\u001b[0;34m\u001b[0m\u001b[0;34m\u001b[0m\u001b[0;34m\u001b[0m\u001b[0m\n\u001b[1;32m    431\u001b[0m     \u001b[0;31m# we don't need to generate again parameters of `numpyro.module`\u001b[0m\u001b[0;34m\u001b[0m\u001b[0;34m\u001b[0m\u001b[0;34m\u001b[0m\u001b[0m\n",
      "\u001b[0;32m/usr/local/lib/python3.6/dist-packages/numpyro/infer/util.py\u001b[0m in \u001b[0;36m_get_model_transforms\u001b[0;34m(model, model_args, model_kwargs)\u001b[0m\n\u001b[1;32m    274\u001b[0m \u001b[0;32mdef\u001b[0m \u001b[0m_get_model_transforms\u001b[0m\u001b[0;34m(\u001b[0m\u001b[0mmodel\u001b[0m\u001b[0;34m,\u001b[0m \u001b[0mmodel_args\u001b[0m\u001b[0;34m=\u001b[0m\u001b[0;34m(\u001b[0m\u001b[0;34m)\u001b[0m\u001b[0;34m,\u001b[0m \u001b[0mmodel_kwargs\u001b[0m\u001b[0;34m=\u001b[0m\u001b[0;32mNone\u001b[0m\u001b[0;34m)\u001b[0m\u001b[0;34m:\u001b[0m\u001b[0;34m\u001b[0m\u001b[0;34m\u001b[0m\u001b[0m\n\u001b[1;32m    275\u001b[0m     \u001b[0mmodel_kwargs\u001b[0m \u001b[0;34m=\u001b[0m \u001b[0;34m{\u001b[0m\u001b[0;34m}\u001b[0m \u001b[0;32mif\u001b[0m \u001b[0mmodel_kwargs\u001b[0m \u001b[0;32mis\u001b[0m \u001b[0;32mNone\u001b[0m \u001b[0;32melse\u001b[0m \u001b[0mmodel_kwargs\u001b[0m\u001b[0;34m\u001b[0m\u001b[0;34m\u001b[0m\u001b[0m\n\u001b[0;32m--> 276\u001b[0;31m     \u001b[0mmodel_trace\u001b[0m \u001b[0;34m=\u001b[0m \u001b[0mtrace\u001b[0m\u001b[0;34m(\u001b[0m\u001b[0mmodel\u001b[0m\u001b[0;34m)\u001b[0m\u001b[0;34m.\u001b[0m\u001b[0mget_trace\u001b[0m\u001b[0;34m(\u001b[0m\u001b[0;34m*\u001b[0m\u001b[0mmodel_args\u001b[0m\u001b[0;34m,\u001b[0m \u001b[0;34m**\u001b[0m\u001b[0mmodel_kwargs\u001b[0m\u001b[0;34m)\u001b[0m\u001b[0;34m\u001b[0m\u001b[0;34m\u001b[0m\u001b[0m\n\u001b[0m\u001b[1;32m    277\u001b[0m     \u001b[0minv_transforms\u001b[0m \u001b[0;34m=\u001b[0m \u001b[0;34m{\u001b[0m\u001b[0;34m}\u001b[0m\u001b[0;34m\u001b[0m\u001b[0;34m\u001b[0m\u001b[0m\n\u001b[1;32m    278\u001b[0m     \u001b[0;31m# model code may need to be replayed in the presence of deterministic sites\u001b[0m\u001b[0;34m\u001b[0m\u001b[0;34m\u001b[0m\u001b[0;34m\u001b[0m\u001b[0m\n",
      "\u001b[0;32m/usr/local/lib/python3.6/dist-packages/numpyro/handlers.py\u001b[0m in \u001b[0;36mget_trace\u001b[0;34m(self, *args, **kwargs)\u001b[0m\n\u001b[1;32m    160\u001b[0m         \u001b[0;34m:\u001b[0m\u001b[0;32mreturn\u001b[0m\u001b[0;34m:\u001b[0m\u001b[0;31m \u001b[0m\u001b[0;31m`\u001b[0m\u001b[0mOrderedDict\u001b[0m\u001b[0;31m`\u001b[0m \u001b[0mcontaining\u001b[0m \u001b[0mthe\u001b[0m \u001b[0mexecution\u001b[0m \u001b[0mtrace\u001b[0m\u001b[0;34m.\u001b[0m\u001b[0;34m\u001b[0m\u001b[0;34m\u001b[0m\u001b[0m\n\u001b[1;32m    161\u001b[0m         \"\"\"\n\u001b[0;32m--> 162\u001b[0;31m         \u001b[0mself\u001b[0m\u001b[0;34m(\u001b[0m\u001b[0;34m*\u001b[0m\u001b[0margs\u001b[0m\u001b[0;34m,\u001b[0m \u001b[0;34m**\u001b[0m\u001b[0mkwargs\u001b[0m\u001b[0;34m)\u001b[0m\u001b[0;34m\u001b[0m\u001b[0;34m\u001b[0m\u001b[0m\n\u001b[0m\u001b[1;32m    163\u001b[0m         \u001b[0;32mreturn\u001b[0m \u001b[0mself\u001b[0m\u001b[0;34m.\u001b[0m\u001b[0mtrace\u001b[0m\u001b[0;34m\u001b[0m\u001b[0;34m\u001b[0m\u001b[0m\n\u001b[1;32m    164\u001b[0m \u001b[0;34m\u001b[0m\u001b[0m\n",
      "\u001b[0;32m/usr/local/lib/python3.6/dist-packages/numpyro/primitives.py\u001b[0m in \u001b[0;36m__call__\u001b[0;34m(self, *args, **kwargs)\u001b[0m\n\u001b[1;32m     78\u001b[0m     \u001b[0;32mdef\u001b[0m \u001b[0m__call__\u001b[0m\u001b[0;34m(\u001b[0m\u001b[0mself\u001b[0m\u001b[0;34m,\u001b[0m \u001b[0;34m*\u001b[0m\u001b[0margs\u001b[0m\u001b[0;34m,\u001b[0m \u001b[0;34m**\u001b[0m\u001b[0mkwargs\u001b[0m\u001b[0;34m)\u001b[0m\u001b[0;34m:\u001b[0m\u001b[0;34m\u001b[0m\u001b[0;34m\u001b[0m\u001b[0m\n\u001b[1;32m     79\u001b[0m         \u001b[0;32mwith\u001b[0m \u001b[0mself\u001b[0m\u001b[0;34m:\u001b[0m\u001b[0;34m\u001b[0m\u001b[0;34m\u001b[0m\u001b[0m\n\u001b[0;32m---> 80\u001b[0;31m             \u001b[0;32mreturn\u001b[0m \u001b[0mself\u001b[0m\u001b[0;34m.\u001b[0m\u001b[0mfn\u001b[0m\u001b[0;34m(\u001b[0m\u001b[0;34m*\u001b[0m\u001b[0margs\u001b[0m\u001b[0;34m,\u001b[0m \u001b[0;34m**\u001b[0m\u001b[0mkwargs\u001b[0m\u001b[0;34m)\u001b[0m\u001b[0;34m\u001b[0m\u001b[0;34m\u001b[0m\u001b[0m\n\u001b[0m\u001b[1;32m     81\u001b[0m \u001b[0;34m\u001b[0m\u001b[0m\n\u001b[1;32m     82\u001b[0m \u001b[0;34m\u001b[0m\u001b[0m\n",
      "\u001b[0;32m/usr/local/lib/python3.6/dist-packages/numpyro/primitives.py\u001b[0m in \u001b[0;36m__call__\u001b[0;34m(self, *args, **kwargs)\u001b[0m\n\u001b[1;32m     78\u001b[0m     \u001b[0;32mdef\u001b[0m \u001b[0m__call__\u001b[0m\u001b[0;34m(\u001b[0m\u001b[0mself\u001b[0m\u001b[0;34m,\u001b[0m \u001b[0;34m*\u001b[0m\u001b[0margs\u001b[0m\u001b[0;34m,\u001b[0m \u001b[0;34m**\u001b[0m\u001b[0mkwargs\u001b[0m\u001b[0;34m)\u001b[0m\u001b[0;34m:\u001b[0m\u001b[0;34m\u001b[0m\u001b[0;34m\u001b[0m\u001b[0m\n\u001b[1;32m     79\u001b[0m         \u001b[0;32mwith\u001b[0m \u001b[0mself\u001b[0m\u001b[0;34m:\u001b[0m\u001b[0;34m\u001b[0m\u001b[0;34m\u001b[0m\u001b[0m\n\u001b[0;32m---> 80\u001b[0;31m             \u001b[0;32mreturn\u001b[0m \u001b[0mself\u001b[0m\u001b[0;34m.\u001b[0m\u001b[0mfn\u001b[0m\u001b[0;34m(\u001b[0m\u001b[0;34m*\u001b[0m\u001b[0margs\u001b[0m\u001b[0;34m,\u001b[0m \u001b[0;34m**\u001b[0m\u001b[0mkwargs\u001b[0m\u001b[0;34m)\u001b[0m\u001b[0;34m\u001b[0m\u001b[0;34m\u001b[0m\u001b[0m\n\u001b[0m\u001b[1;32m     81\u001b[0m \u001b[0;34m\u001b[0m\u001b[0m\n\u001b[1;32m     82\u001b[0m \u001b[0;34m\u001b[0m\u001b[0m\n",
      "\u001b[0;32m/usr/local/lib/python3.6/dist-packages/numpyro/primitives.py\u001b[0m in \u001b[0;36m__call__\u001b[0;34m(self, *args, **kwargs)\u001b[0m\n\u001b[1;32m     78\u001b[0m     \u001b[0;32mdef\u001b[0m \u001b[0m__call__\u001b[0m\u001b[0;34m(\u001b[0m\u001b[0mself\u001b[0m\u001b[0;34m,\u001b[0m \u001b[0;34m*\u001b[0m\u001b[0margs\u001b[0m\u001b[0;34m,\u001b[0m \u001b[0;34m**\u001b[0m\u001b[0mkwargs\u001b[0m\u001b[0;34m)\u001b[0m\u001b[0;34m:\u001b[0m\u001b[0;34m\u001b[0m\u001b[0;34m\u001b[0m\u001b[0m\n\u001b[1;32m     79\u001b[0m         \u001b[0;32mwith\u001b[0m \u001b[0mself\u001b[0m\u001b[0;34m:\u001b[0m\u001b[0;34m\u001b[0m\u001b[0;34m\u001b[0m\u001b[0m\n\u001b[0;32m---> 80\u001b[0;31m             \u001b[0;32mreturn\u001b[0m \u001b[0mself\u001b[0m\u001b[0;34m.\u001b[0m\u001b[0mfn\u001b[0m\u001b[0;34m(\u001b[0m\u001b[0;34m*\u001b[0m\u001b[0margs\u001b[0m\u001b[0;34m,\u001b[0m \u001b[0;34m**\u001b[0m\u001b[0mkwargs\u001b[0m\u001b[0;34m)\u001b[0m\u001b[0;34m\u001b[0m\u001b[0;34m\u001b[0m\u001b[0m\n\u001b[0m\u001b[1;32m     81\u001b[0m \u001b[0;34m\u001b[0m\u001b[0m\n\u001b[1;32m     82\u001b[0m \u001b[0;34m\u001b[0m\u001b[0m\n",
      "\u001b[0;32m<ipython-input-241-016f7bb38994>\u001b[0m in \u001b[0;36mrounding_mixture_model_reg\u001b[0;34m(x_obs)\u001b[0m\n\u001b[1;32m     23\u001b[0m \u001b[0;34m\u001b[0m\u001b[0m\n\u001b[1;32m     24\u001b[0m         \u001b[0mx_true\u001b[0m \u001b[0;34m=\u001b[0m \u001b[0mnumpyro\u001b[0m\u001b[0;34m.\u001b[0m\u001b[0msample\u001b[0m\u001b[0;34m(\u001b[0m\u001b[0;34m\"x_true\"\u001b[0m\u001b[0;34m,\u001b[0m \u001b[0mdist\u001b[0m\u001b[0;34m.\u001b[0m\u001b[0mBeta\u001b[0m\u001b[0;34m(\u001b[0m\u001b[0mmu\u001b[0m\u001b[0;34m*\u001b[0m\u001b[0mk\u001b[0m\u001b[0;34m,\u001b[0m \u001b[0;34m(\u001b[0m\u001b[0;36m1\u001b[0m\u001b[0;34m-\u001b[0m\u001b[0mmu\u001b[0m\u001b[0;34m*\u001b[0m\u001b[0mk\u001b[0m\u001b[0;34m)\u001b[0m\u001b[0;34m)\u001b[0m\u001b[0;34m)\u001b[0m\u001b[0;34m\u001b[0m\u001b[0;34m\u001b[0m\u001b[0m\n\u001b[0;32m---> 25\u001b[0;31m         \u001b[0mx_true_cp_stack\u001b[0m \u001b[0;34m=\u001b[0m \u001b[0mjnp\u001b[0m\u001b[0;34m.\u001b[0m\u001b[0mstack\u001b[0m\u001b[0;34m(\u001b[0m\u001b[0;34m[\u001b[0m \u001b[0mvec_cat_probs_spread\u001b[0m\u001b[0;34m(\u001b[0m\u001b[0mx_true\u001b[0m\u001b[0;34m,\u001b[0m \u001b[0;36m.02\u001b[0m\u001b[0;34m,\u001b[0m \u001b[0mstep_size\u001b[0m\u001b[0;34m)\u001b[0m \u001b[0;32mfor\u001b[0m \u001b[0mstep_size\u001b[0m \u001b[0;32min\u001b[0m \u001b[0msteps\u001b[0m\u001b[0;34m]\u001b[0m\u001b[0;34m)\u001b[0m\u001b[0;34m\u001b[0m\u001b[0;34m\u001b[0m\u001b[0m\n\u001b[0m\u001b[1;32m     26\u001b[0m \u001b[0;34m\u001b[0m\u001b[0m\n\u001b[1;32m     27\u001b[0m \u001b[0;31m#         x_true_cp = jnp.sum(x_true_cp_stack*theta_obj, axis=0)\u001b[0m\u001b[0;34m\u001b[0m\u001b[0;34m\u001b[0m\u001b[0;34m\u001b[0m\u001b[0m\n",
      "\u001b[0;32m<ipython-input-241-016f7bb38994>\u001b[0m in \u001b[0;36m<listcomp>\u001b[0;34m(.0)\u001b[0m\n\u001b[1;32m     23\u001b[0m \u001b[0;34m\u001b[0m\u001b[0m\n\u001b[1;32m     24\u001b[0m         \u001b[0mx_true\u001b[0m \u001b[0;34m=\u001b[0m \u001b[0mnumpyro\u001b[0m\u001b[0;34m.\u001b[0m\u001b[0msample\u001b[0m\u001b[0;34m(\u001b[0m\u001b[0;34m\"x_true\"\u001b[0m\u001b[0;34m,\u001b[0m \u001b[0mdist\u001b[0m\u001b[0;34m.\u001b[0m\u001b[0mBeta\u001b[0m\u001b[0;34m(\u001b[0m\u001b[0mmu\u001b[0m\u001b[0;34m*\u001b[0m\u001b[0mk\u001b[0m\u001b[0;34m,\u001b[0m \u001b[0;34m(\u001b[0m\u001b[0;36m1\u001b[0m\u001b[0;34m-\u001b[0m\u001b[0mmu\u001b[0m\u001b[0;34m*\u001b[0m\u001b[0mk\u001b[0m\u001b[0;34m)\u001b[0m\u001b[0;34m)\u001b[0m\u001b[0;34m)\u001b[0m\u001b[0;34m\u001b[0m\u001b[0;34m\u001b[0m\u001b[0m\n\u001b[0;32m---> 25\u001b[0;31m         \u001b[0mx_true_cp_stack\u001b[0m \u001b[0;34m=\u001b[0m \u001b[0mjnp\u001b[0m\u001b[0;34m.\u001b[0m\u001b[0mstack\u001b[0m\u001b[0;34m(\u001b[0m\u001b[0;34m[\u001b[0m \u001b[0mvec_cat_probs_spread\u001b[0m\u001b[0;34m(\u001b[0m\u001b[0mx_true\u001b[0m\u001b[0;34m,\u001b[0m \u001b[0;36m.02\u001b[0m\u001b[0;34m,\u001b[0m \u001b[0mstep_size\u001b[0m\u001b[0;34m)\u001b[0m \u001b[0;32mfor\u001b[0m \u001b[0mstep_size\u001b[0m \u001b[0;32min\u001b[0m \u001b[0msteps\u001b[0m\u001b[0;34m]\u001b[0m\u001b[0;34m)\u001b[0m\u001b[0;34m\u001b[0m\u001b[0;34m\u001b[0m\u001b[0m\n\u001b[0m\u001b[1;32m     26\u001b[0m \u001b[0;34m\u001b[0m\u001b[0m\n\u001b[1;32m     27\u001b[0m \u001b[0;31m#         x_true_cp = jnp.sum(x_true_cp_stack*theta_obj, axis=0)\u001b[0m\u001b[0;34m\u001b[0m\u001b[0;34m\u001b[0m\u001b[0;34m\u001b[0m\u001b[0m\n",
      "\u001b[0;31mNameError\u001b[0m: name 'vec_cat_probs_spread' is not defined"
     ]
    }
   ],
   "source": [
    "mcmc_test = MCMC(NUTS(rounding_mixture_model_reg, target_accept_prob=.90), 1000, 1000, num_chains=1)\n",
    "mcmc_test.run(random.PRNGKey(0), x_obs)   "
   ]
  },
  {
   "cell_type": "code",
   "execution_count": null,
   "id": "presidential-adjustment",
   "metadata": {},
   "outputs": [],
   "source": [
    "mcmc_test.print_summary()"
   ]
  },
  {
   "cell_type": "code",
   "execution_count": 261,
   "id": "acoustic-nirvana",
   "metadata": {},
   "outputs": [
    {
     "data": {
      "text/plain": [
       "DeviceArray([0.9999999], dtype=float32)"
      ]
     },
     "execution_count": 261,
     "metadata": {},
     "output_type": "execute_result"
    }
   ],
   "source": [
    "dist.Dirichlet(jnp.ones(1)).sample(random.PRNGKey(0))"
   ]
  },
  {
   "cell_type": "code",
   "execution_count": 296,
   "id": "healthy-miniature",
   "metadata": {},
   "outputs": [
    {
     "name": "stdout",
     "output_type": "stream",
     "text": [
      "(2, 3)\n",
      "(2, 3, 100)\n"
     ]
    },
    {
     "data": {
      "text/plain": [
       "<AxesSubplot:>"
      ]
     },
     "execution_count": 296,
     "metadata": {},
     "output_type": "execute_result"
    },
    {
     "data": {
      "image/png": "[encoded data removed]",
      "text/plain": [
       "<Figure size 432x288 with 1 Axes>"
      ]
     },
     "metadata": {
      "needs_background": "light"
     },
     "output_type": "display_data"
    }
   ],
   "source": [
    "steps = [1,5]\n",
    "x_true = jnp.array([.11,.5,.7])\n",
    "z = jnp.stack([ vec_cat_probs_spread(x_true, .02, step_size, max_size=100)  for step_size in steps])\n",
    "theta = jnp.array([.6,.4])\n",
    "theta_vec = jnp.reshape(theta, (2,-1))\n",
    "\n",
    "test_obj = theta_vec.repeat(3,axis=-1)\n",
    "print(test_obj.shape)\n",
    "print(z.shape)\n",
    "test_obj = jnp.reshape(test_obj.repeat(100, axis=-1), (2,-1,100))\n",
    "\n",
    "cat_preds = jnp.sum(z*test_obj, axis=-3)\n",
    "jnp.sum(cat_preds, axis=-1) # sum to 1 which seems right ...\n",
    "\n",
    "sns.lineplot(x=jnp.arange(0,100), y=z[0,0,:])\n",
    "sns.lineplot(x=jnp.arange(0,100), y=z[1,0,:])\n",
    "sns.lineplot(x=jnp.arange(0,100), y=cat_preds[0,:])\n"
   ]
  },
  {
   "cell_type": "code",
   "execution_count": 274,
   "id": "suitable-administrator",
   "metadata": {},
   "outputs": [
    {
     "data": {
      "text/plain": [
       "<AxesSubplot:>"
      ]
     },
     "execution_count": 274,
     "metadata": {},
     "output_type": "execute_result"
    },
    {
     "data": {
      "image/png": "[encoded data removed]",
      "text/plain": [
       "<Figure size 432x288 with 1 Axes>"
      ]
     },
     "metadata": {
      "needs_background": "light"
     },
     "output_type": "display_data"
    }
   ],
   "source": [
    "\n",
    "test_obj = reshape_theta(theta, 3, 2, 100)\n",
    "\n",
    "# cat_preds = jnp.sum(z*test_obj, axis=-3)\n",
    "cat_preds = jnp.exp(jax.scipy.special.logsumexp(jnp.log(z) + jnp.log(test_obj), axis=-3))\n",
    "jnp.sum(cat_preds, axis=-1) # sum to 1 which seems right ...\n",
    "\n",
    "sns.lineplot(x=jnp.arange(0,100), y=z[1,1,:])\n",
    "sns.lineplot(x=jnp.arange(0,100), y=cat_preds[1,:])"
   ]
  },
  {
   "cell_type": "code",
   "execution_count": 437,
   "id": "answering-segment",
   "metadata": {},
   "outputs": [
    {
     "data": {
      "text/plain": [
       "DeviceArray(0.53077734, dtype=float32)"
      ]
     },
     "execution_count": 437,
     "metadata": {},
     "output_type": "execute_result"
    }
   ],
   "source": [
    "## lots of people saying us kumaraswamy -- but its approximation sucks\n",
    "## based on https://www.johndcook.com/blog/2009/11/24/kumaraswamy-distribution/ <-- warns it might be poor\n",
    "def beta_to_kumaraswamy(a, b):\n",
    "    if (a>1.) + (b>1.)==2.:\n",
    "        beta_mode = (a-1.) / (a + b - 2.)\n",
    "    else:\n",
    "        beta_mode = np.select(\n",
    "            [(a <= 1.) + (b > 1.)==2, (b <= 1.) + (a > 1)==2, (a<1.) + (b<1.)==2 ],\n",
    "            [0, 1., 1/2],\n",
    "            default = 1.\n",
    "        )\n",
    "    a_k = jnp.array(a)\n",
    "    b_k = 1/a+(1/a)*((a-1)/jnp.power(beta_mode, a))\n",
    "    return a_k, b_k\n",
    "\n",
    "def kumaraswamy_cdf(a, b, x):\n",
    "#     1 – (1 – x^a)^b\n",
    "    inner = 1 - jnp.power(x,a)\n",
    "    return 1 - jnp.power(inner, b)\n",
    "\n",
    "def beta_approx_cdf_kumaraswamy(a,b,x):\n",
    "    a_k, b_k = beta_to_kumaraswamy(a, b)\n",
    "    \n",
    "    return kumaraswamy_cdf(a_k, b_k, x)\n",
    "\n",
    "beta_approx_cdf_kumaraswamy(3, 3, .5)"
   ]
  },
  {
   "cell_type": "code",
   "execution_count": 453,
   "id": "miniature-haven",
   "metadata": {},
   "outputs": [
    {
     "name": "stdout",
     "output_type": "stream",
     "text": [
      "0.999913\n",
      "0.9935672\n",
      "0.9804687\n"
     ]
    }
   ],
   "source": [
    "a = .2*10\n",
    "b = .8*10\n",
    "x = .5\n",
    "print(beta_approx_cdf_kumaraswamy(a, b, x))\n",
    "print(beta_approx_cdf(a,b).cdf(x))\n",
    "print(dist.Beta(a,b).cdf(x))"
   ]
  },
  {
   "cell_type": "code",
   "execution_count": 462,
   "id": "derived-fifty",
   "metadata": {},
   "outputs": [
    {
     "data": {
      "text/plain": [
       "DeviceArray(1., dtype=float32)"
      ]
     },
     "execution_count": 462,
     "metadata": {},
     "output_type": "execute_result"
    }
   ],
   "source": [
    "jnp.sum(categorical_probs(100.,3., step_size=5))"
   ]
  },
  {
   "cell_type": "code",
   "execution_count": 623,
   "id": "certain-worse",
   "metadata": {},
   "outputs": [
    {
     "data": {
      "text/plain": [
       "[DeviceArray([[1],\n",
       "              [1]], dtype=int32),\n",
       " DeviceArray([[2],\n",
       "              [2]], dtype=int32),\n",
       " DeviceArray([[3],\n",
       "              [3]], dtype=int32),\n",
       " DeviceArray([[4],\n",
       "              [4]], dtype=int32)]"
      ]
     },
     "execution_count": 623,
     "metadata": {},
     "output_type": "execute_result"
    }
   ],
   "source": [
    "def spread_vec(x, step_size):\n",
    "    n_vecs = x.shape[-2]\n",
    "    print(n_vecs)\n",
    "    base_steps = x.shape[-1]\n",
    "    print(base_steps)\n",
    "    x_split = jnp.array(jnp.split(x, base_steps, axis=-1))\n",
    "    x_split = jnp.squeeze(x_split)\n",
    "    print(x_split.shape)\n",
    "#     pad = jnp.zeros([step_size-1, n_vecs])\n",
    "#     pad = jnp.zeros([n_vecs, step_size])\n",
    "#     print(pad.shape)\n",
    "    padded = jnp.pad(x_split, pad_width=(0,step_size-1), constant_values=0.)\n",
    "#     return jnp.concatenate((x_split,pad), axis=-1)\n",
    "    return padded\n",
    "#     return(padded)\n",
    "#     return jnp.stack([jnp.concatenate((i,pad)) for i in x_split]).flatten()\n",
    "\n",
    "## getting all confused \n",
    "a = jnp.array([[1,2,3,4],[1,2,3,4]] )\n",
    "b = jnp.split(a, 4, axis=-1)\n",
    "b\n",
    "# c = [jnp.split(jnp.squeeze(i),4) for i in b]\n",
    "# pad = jnp.zeros(4)\n",
    "\n",
    "# jnp.stack([jnp.concatenate((i[j],pad)) for i in c for j in range(0,4)])\n",
    "\n",
    "# pad = jnp.zeros([4,1])\n",
    "# jnp.concatenate((b[,0],))\n",
    "# z\n",
    "# w = jnp.pad(z, pad_width=[0,5], constant_values=0.)\n",
    "\n"
   ]
  },
  {
   "cell_type": "code",
   "execution_count": 713,
   "id": "accessory-potential",
   "metadata": {},
   "outputs": [
    {
     "data": {
      "text/plain": [
       "Buffer([2, 3], dtype=int32)"
      ]
     },
     "execution_count": 713,
     "metadata": {},
     "output_type": "execute_result"
    }
   ],
   "source": [
    "dist.Categorical(jnp.array([[.1,.2,.3,.6], [.1,.2,.3,.6]])).sample(random.PRNGKey(1))"
   ]
  },
  {
   "cell_type": "code",
   "execution_count": 130,
   "id": "consistent-lightweight",
   "metadata": {},
   "outputs": [
    {
     "name": "stderr",
     "output_type": "stream",
     "text": [
      "/usr/local/lib/python3.6/dist-packages/seaborn/_decorators.py:43: FutureWarning: Pass the following variables as keyword args: x, y. From version 0.12, the only valid positional argument will be `data`, and passing other arguments without an explicit keyword will result in an error or misinterpretation.\n",
      "  FutureWarning\n"
     ]
    },
    {
     "data": {
      "text/plain": [
       "<AxesSubplot:>"
      ]
     },
     "execution_count": 130,
     "metadata": {},
     "output_type": "execute_result"
    },
    {
     "data": {
      "image/png": "[encoded data removed]",
      "text/plain": [
       "<Figure size 432x288 with 1 Axes>"
      ]
     },
     "metadata": {
      "needs_background": "light"
     },
     "output_type": "display_data"
    }
   ],
   "source": [
    "# smaller, narrower new data rounded to 5\n",
    "\n",
    "n_obs = 100\n",
    "rg = default_rng(12345)\n",
    "\n",
    "def round_to_one(x):\n",
    "    return jnp.round(x,0)\n",
    "\n",
    "def round_to_five(x):\n",
    "    return jnp.round(x/5,0)*5\n",
    "\n",
    "def round_to_ten(x):\n",
    "    return jnp.round(x/10,0)*10\n",
    "\n",
    "def round_to_twenty(x):\n",
    "    return jnp.round(x/20,0)*20\n",
    "\n",
    "x_true = rg.beta(3,3,n_obs)*100\n",
    "x_obs = round_to_one(x_true)\n",
    "\n",
    "\n",
    "sns.scatterplot(x_true, x_obs,alpha=.5)"
   ]
  },
  {
   "cell_type": "code",
   "execution_count": 135,
   "id": "silent-shareware",
   "metadata": {},
   "outputs": [
    {
     "name": "stderr",
     "output_type": "stream",
     "text": [
      "sample: 100%|██████████| 2000/2000 [00:05<00:00, 347.20it/s, 15 steps of size 3.00e-01. acc. prob=0.87] \n"
     ]
    }
   ],
   "source": [
    "# this is gelman's approach and it works the best\n",
    "# but not clear how to make this work if there are multiple forms of rounding going on.        \n",
    "\n",
    "def roundmodel_gelman(y_obs):\n",
    "    mu = numpyro.sample(\"mu\", dist.Beta(1,1))\n",
    "    k = numpyro.sample(\"k\", dist.HalfCauchy(10))\n",
    "    \n",
    "    scale = 1.\n",
    "    scale_transformed = scale/100.\n",
    "    y_obs_transformed = y_obs/100.    \n",
    "    \n",
    "    with numpyro.plate(\"data\", y_obs.shape[0]):\n",
    "\n",
    "        y_err = numpyro.sample(\"y_err\", dist.Beta(1,1))\n",
    "        y_err = (y_err - .50)*scale_transformed\n",
    "\n",
    "        y_true = numpyro.sample(\"y_true\", dist.Beta(mu*k, (1-mu)*k))\n",
    "        numpyro.sample(\"y_hat\", dist.Normal(y_true + y_err, .01), obs=y_obs_transformed)\n",
    "\n",
    "mcmc_test = MCMC(NUTS(roundmodel_gelman, target_accept_prob=.80), 1000, 1000, num_chains=1)\n",
    "mcmc_test.run(random.PRNGKey(0), x_obs)   \n",
    "# mcmc_test.print_summary()"
   ]
  },
  {
   "cell_type": "code",
   "execution_count": null,
   "id": "reliable-venezuela",
   "metadata": {},
   "outputs": [],
   "source": [
    "mcmc_test.print_summary()"
   ]
  },
  {
   "cell_type": "code",
   "execution_count": 146,
   "id": "attractive-jamaica",
   "metadata": {},
   "outputs": [],
   "source": [
    "def roundmodel_gelman_discrete(y_obs):\n",
    "    mu = numpyro.sample(\"mu\", dist.Beta(1,1))\n",
    "    k = numpyro.sample(\"k\", dist.HalfCauchy(10))\n",
    "    scales = jnp.array([1., 5., 10.])\n",
    "    theta = numpyro.sample(\"theta\", dist.Dirichlet(jnp.ones(len(scales))))\n",
    "\n",
    "    y_obs_transformed = y_obs/100.   \n",
    "    z = numpyro.sample(\"z\", dist.Categorical(theta))\n",
    "\n",
    "    with numpyro.plate(\"data\", y_obs.shape[0]):\n",
    "\n",
    "        scale_transformed = scales[z]/100.\n",
    "\n",
    "        y_err = numpyro.sample(\"y_err\", dist.Beta(3,3))\n",
    "        y_err = (y_err - .50)*scale_transformed\n",
    "\n",
    "        y_true = numpyro.sample(\"y_true\", dist.Beta(mu*k, (1-mu)*k))\n",
    "        numpyro.sample(\"y_hat\", dist.Normal(y_true + y_err, .00001), obs=y_obs_transformed)\n"
   ]
  },
  {
   "cell_type": "code",
   "execution_count": 147,
   "id": "grand-recycling",
   "metadata": {},
   "outputs": [
    {
     "name": "stderr",
     "output_type": "stream",
     "text": [
      "sample: 100%|██████████| 2000/2000 [00:21<00:00, 92.96it/s, 1023 steps of size 3.60e-04. acc. prob=0.89] \n"
     ]
    }
   ],
   "source": [
    "kernel = DiscreteHMCGibbs(NUTS(roundmodel_gelman_discrete), modified=True)\n",
    "mcmc_test = MCMC(kernel, 1000, 1000)\n",
    "\n",
    "mcmc_test.run(random.PRNGKey(0), x_obs)"
   ]
  },
  {
   "cell_type": "code",
   "execution_count": null,
   "id": "analyzed-archives",
   "metadata": {},
   "outputs": [],
   "source": [
    "mcmc_test.print_summary()"
   ]
  },
  {
   "cell_type": "markdown",
   "id": "amino-peeing",
   "metadata": {},
   "source": [
    "My new idea is to use a logistic normal approximation to the Dirichlet for a 2d Dirichlet (which is itself just a beta distribtion)."
   ]
  },
  {
   "cell_type": "code",
   "execution_count": 96,
   "id": "radical-emphasis",
   "metadata": {},
   "outputs": [
    {
     "data": {
      "text/plain": [
       "<AxesSubplot:ylabel='Density'>"
      ]
     },
     "execution_count": 96,
     "metadata": {},
     "output_type": "execute_result"
    },
    {
     "data": {
      "image/png": "[encoded data removed]",
      "text/plain": [
       "<Figure size 432x288 with 1 Axes>"
      ]
     },
     "metadata": {
      "needs_background": "light"
     },
     "output_type": "display_data"
    }
   ],
   "source": [
    "from jax.scipy.special import digamma, polygamma, logit, expit, erf\n",
    "# trigamma(x) = polygamma(1,x)\n",
    "mu_true = .\n",
    "k_true = 3\n",
    "\n",
    "a = mu_true*k_true\n",
    "b = (1-mu_true)*k_true\n",
    "\n",
    "mu_est = digamma(a) - digamma(b)\n",
    "sigma = polygamma(1, a) + polygamma(1, b)\n",
    "\n",
    "vals = np.random.normal(mu_est, jnp.sqrt(sigma), 100000)\n",
    "beta_vals = np.random.beta(a, b, 100000)\n",
    "\n",
    "sns.kdeplot(x=expit(vals))\n",
    "sns.kdeplot(x=beta_vals)"
   ]
  },
  {
   "cell_type": "code",
   "execution_count": 230,
   "id": "governing-investigation",
   "metadata": {},
   "outputs": [
    {
     "data": {
      "text/plain": [
       "<AxesSubplot:ylabel='Density'>"
      ]
     },
     "execution_count": 230,
     "metadata": {},
     "output_type": "execute_result"
    },
    {
     "data": {
      "image/png": "[encoded data removed]",
      "text/plain": [
       "<Figure size 432x288 with 1 Axes>"
      ]
     },
     "metadata": {
      "needs_background": "light"
     },
     "output_type": "display_data"
    }
   ],
   "source": [
    "vals = np.random.normal(-.11, .96, 100000)\n",
    "beta_vals = np.random.beta(3, 3, 100000)\n",
    "\n",
    "sns.kdeplot(x=expit(vals))\n",
    "sns.kdeplot(x=beta_vals)"
   ]
  },
  {
   "cell_type": "code",
   "execution_count": 259,
   "id": "noticed-distribution",
   "metadata": {},
   "outputs": [
    {
     "data": {
      "text/plain": [
       "DeviceArray(0.8582989, dtype=float32)"
      ]
     },
     "execution_count": 259,
     "metadata": {},
     "output_type": "execute_result"
    }
   ],
   "source": [
    "\n",
    "\n",
    "def logit_normal_cdf(mu, sigma, x):\n",
    "    inner = (logit(x) - mu)/ (jnp.sqrt(2*jnp.power(sigma, 2)))\n",
    "    return .5 * (1 + erf(inner))\n",
    "\n",
    "\n",
    "def beta_approx_cdf(a, b, x):\n",
    "    # normal approximation, not great\n",
    "    # mode K(a, b) = ((a – 1)/(ab – 1))1/a = mode beta(α, β) = (α – 1)/(α + β – 2).\n",
    "    mu_est = digamma(a) - digamma(b)\n",
    "    sigma_est = polygamma(1, a) + polygamma(1, b)\n",
    "    \n",
    "    return logit_normal_cdf(mu_est, sigma_est, x)\n",
    "\n",
    "\n",
    "beta_approx_cdf(3, 3, .7)\n",
    "# grad_test = jax.grad(jax.scipy.special.betainc)"
   ]
  },
  {
   "cell_type": "code",
   "execution_count": null,
   "id": "downtown-butter",
   "metadata": {},
   "outputs": [],
   "source": []
  }
 ],
 "metadata": {
  "kernelspec": {
   "display_name": "Python 3",
   "language": "python",
   "name": "python3"
  },
  "language_info": {
   "codemirror_mode": {
    "name": "ipython",
    "version": 3
   },
   "file_extension": ".py",
   "mimetype": "text/x-python",
   "name": "python",
   "nbconvert_exporter": "python",
   "pygments_lexer": "ipython3",
   "version": "3.6.9"
  }
 },
 "nbformat": 4,
 "nbformat_minor": 5
}
