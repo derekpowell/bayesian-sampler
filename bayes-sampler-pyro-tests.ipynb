{
 "cells": [
  {
   "cell_type": "markdown",
   "id": "naughty-marble",
   "metadata": {},
   "source": [
    "# Bayesian sampler\n",
    "\n",
    "gonna write this in python with pyro!"
   ]
  },
  {
   "cell_type": "markdown",
   "id": "serious-commander",
   "metadata": {},
   "source": [
    "The Bayesian Sampler model is roughly:\n",
    "\n",
    "$$P_{BS}(A) \\sim Beta(\\beta + S(A), \\beta+F(A))$$\n",
    "\n",
    "Where $S(A)$ and $F(A)$ are the number of success and failures sampled.\n",
    "\n",
    "We can rewrite that:\n",
    "\n",
    "$$P_{BS}(A) \\sim Beta(\\beta + \\pi(A)N, \\beta+(1-\\pi(A))N)$$\n",
    "\n",
    "\n",
    "Where $\\pi(A)$ is the proportion of successes in the mental simulation with $N$ samples and is a function of the true underlying model probability, $p(A)$. It is distributed:\n",
    "\n",
    "$$\\pi(A) \\sim Beta(p(A)*N, (1-p(A))*N)$$\n",
    "\n",
    "To which we assign a uniform prior (or the multidimensional dirichlet equivalent):\n",
    "\n",
    "$$p(A) \\sim Beta(1,1)$$"
   ]
  },
  {
   "cell_type": "code",
   "execution_count": 186,
   "id": "proud-appraisal",
   "metadata": {},
   "outputs": [],
   "source": [
    "%config IPCompleter.use_jedi = False\n",
    "import torch\n",
    "import pyro\n",
    "\n",
    "import pyro\n",
    "import pyro.infer\n",
    "import pyro.optim\n",
    "import pyro.distributions as dist\n",
    "from pyro.infer import Importance, EmpiricalMarginal\n",
    "\n",
    "import numpy as np\n",
    "import pandas as pd\n",
    "import seaborn as sns\n",
    "import functools\n",
    "\n",
    "torch.set_default_tensor_type(torch.DoubleTensor)"
   ]
  },
  {
   "cell_type": "markdown",
   "id": "unique-abraham",
   "metadata": {},
   "source": [
    "let's write down my thinking so far for the bayesian sampler and draw some samples!"
   ]
  },
  {
   "cell_type": "code",
   "execution_count": 187,
   "id": "prescription-zoning",
   "metadata": {},
   "outputs": [],
   "source": [
    "def bsampler():\n",
    "    beta = pyro.sample(\"beta\", dist.HalfCauchy(1))\n",
    "    N = pyro.sample(\"N\", dist.HalfCauchy(5))\n",
    "    theta = pyro.sample(\"theta\", dist.Dirichlet(torch.ones(4)))\n",
    "    x = torch.tensor([1.,1.,0.,0.]) # just at test\n",
    "    p = torch.matmul(theta,x)\n",
    "    \n",
    "    pi = pyro.sample(\"pi\", dist.Beta(p*N, p*N))\n",
    "    y_hat = pyro.sample(\"y_hat\", dist.Beta(beta + pi*N, beta + (1-pi)*N))\n",
    "    return y_hat"
   ]
  },
  {
   "cell_type": "code",
   "execution_count": 188,
   "id": "vanilla-madagascar",
   "metadata": {},
   "outputs": [
    {
     "data": {
      "text/plain": [
       "<AxesSubplot:ylabel='Count'>"
      ]
     },
     "execution_count": 188,
     "metadata": {},
     "output_type": "execute_result"
    },
    {
     "data": {
      "image/png": "[encoded data removed]",
      "text/plain": [
       "<Figure size 432x288 with 1 Axes>"
      ]
     },
     "metadata": {
      "needs_background": "light"
     },
     "output_type": "display_data"
    }
   ],
   "source": [
    "sns.histplot(np.array([bsampler() for _ in range(2000)]))"
   ]
  },
  {
   "cell_type": "markdown",
   "id": "durable-message",
   "metadata": {},
   "source": [
    "Holy COW! that was a lot easier than writing in Stan!\n",
    "\n",
    "Ok now let's pull in the data."
   ]
  },
  {
   "cell_type": "code",
   "execution_count": 189,
   "id": "curious-doctor",
   "metadata": {},
   "outputs": [],
   "source": [
    "## starting with just one P b/c I am struggling w/ python rustiness and filepaths\n",
    "from dfply import *\n",
    "import glob\n",
    "import pandas as pd\n",
    "\n",
    "df_raw = pd.read_csv(\"osfstorage-archive/Experiment 2/PrEstExp_001_111218_115935.csv\")\n",
    "\n",
    "df = (df_raw >> \n",
    "      group_by(X.querytype) >> \n",
    "      summarize(estimate = X.estimate.mean()) >>\n",
    "      mutate(estimate = X.estimate/100.)\n",
    "     )\n",
    "\n",
    "test_df = df[df.querytype.isin([\"A\",\"B\",\"AandB\",\"AandnotB\",\"notAandB\",\"notAandnotB\",\"notA\",\"notB\"])]"
   ]
  },
  {
   "cell_type": "code",
   "execution_count": 215,
   "id": "relevant-canada",
   "metadata": {},
   "outputs": [],
   "source": [
    "trials = list(test_df[\"querytype\"])\n",
    "observations = torch.tensor(test_df[\"estimate\"].values)\n",
    "\n",
    "test_data = {\"trial\":trials, \"obs\":observations}\n",
    "\n",
    "trial_dict = dict({\n",
    "    \"AandB\": torch.tensor([1.,0.,0.,0.]),\n",
    "    \"AandnotB\": torch.tensor([0.,1.,0.,0.]),\n",
    "    \"notAandB\": torch.tensor([0.,0.,1.,0.]),\n",
    "    \"notAandnotB\": torch.tensor([0.,0.,0.,1.]),\n",
    "    \"A\":torch.tensor([1.,1.,0.,0.]),\n",
    "    \"B\":torch.tensor([1.,0.,1.,0.]),\n",
    "    \"notA\":torch.tensor([0.,0.,1.,1.]),\n",
    "    \"notB\":torch.tensor([0.,1.,0.,1.]),\n",
    "    \"AorB\":torch.tensor([1.,1.,1.,0.]),\n",
    "    \"AornotB\":torch.tensor([1.,1.,0.,1.]),\n",
    "    \"notAorB\":torch.tensor([0.,1.,1.,1.]),\n",
    "    \"notAornotB\":torch.tensor([0.,1.,0.,1.]),\n",
    "})\n",
    "\n",
    "## need to create a new dict for conditional probability trials\n",
    "    \n",
    "def bsampler(data):\n",
    "    # population level parameters/priors\n",
    "    beta = pyro.sample(\"beta\", dist.HalfCauchy(.25))\n",
    "    N = pyro.sample(\"N\", dist.HalfCauchy(5))\n",
    "    \n",
    "    # need a theta per person/querytype\n",
    "    theta = pyro.sample(\"theta\", dist.Dirichlet(torch.ones(4)))\n",
    "\n",
    "    # need pi and response per trial\n",
    "    for i in range(len(data[\"trial\"])):\n",
    "        \n",
    "        x = trial_dict[data[\"trial\"][i]]\n",
    "        p = torch.matmul(theta, x)\n",
    "        pi = pyro.sample(\"pi_{}\".format(i), dist.Beta(p*N, p*N))\n",
    "        pyro.sample(\"yhat_{}\".format(i), dist.Beta(beta + pi*N, beta + (1-pi)*N), obs=data[\"obs\"][i])\n",
    "\n",
    "# sns.histplot(np.array([bsampler(trial_dict[\"AorB\"]) for _ in range(1000)]))"
   ]
  },
  {
   "cell_type": "code",
   "execution_count": 216,
   "id": "retired-doctrine",
   "metadata": {},
   "outputs": [
    {
     "name": "stderr",
     "output_type": "stream",
     "text": [
      "Warmup:   0%|          | 0/1500 [13:33, ?it/s]it/s, step size=2.93e-01, acc. prob=0.748]\n",
      "Warmup:   0%|          | 0/1500 [00:31, ?it/s]\n",
      "Sample: 100%|██████████| 1500/1500 [19:52,  1.26it/s, step size=2.40e-02, acc. prob=0.969]\n"
     ]
    }
   ],
   "source": [
    "from pyro.infer.mcmc import NUTS, MCMC\n",
    "\n",
    "# conditioned_model = pyro.condition(bsampler, data={\"y_hat\":observations[0]})\n",
    "\n",
    "nuts_kernel = NUTS(bsampler, adapt_step_size=True)\n",
    "py_mcmc = MCMC(nuts_kernel, num_samples=1_000, warmup_steps=500)\n",
    "\n",
    "py_mcmc.run(test_data)"
   ]
  },
  {
   "cell_type": "code",
   "execution_count": 217,
   "id": "authentic-courage",
   "metadata": {},
   "outputs": [
    {
     "name": "stdout",
     "output_type": "stream",
     "text": [
      "\n",
      "                mean       std    median      5.0%     95.0%     n_eff     r_hat\n",
      "      beta      3.88      4.25      2.56      0.00     10.12     62.00      1.00\n",
      "         N     18.04     21.22      9.05      0.11     45.73     39.10      1.00\n",
      "  theta[0]      0.27      0.19      0.23      0.00      0.53    219.72      1.00\n",
      "  theta[1]      0.21      0.16      0.17      0.01      0.42    302.77      1.00\n",
      "  theta[2]      0.29      0.19      0.26      0.02      0.57    255.87      1.01\n",
      "  theta[3]      0.23      0.16      0.20      0.01      0.45    297.83      1.00\n",
      "      pi_0      0.59      0.21      0.60      0.34      1.00   1023.38      1.00\n",
      "      pi_1      0.50      0.25      0.51      0.00      0.86    377.56      1.00\n",
      "      pi_2      0.69      0.23      0.68      0.47      1.00    467.88      1.00\n",
      "      pi_3      0.55      0.20      0.55      0.29      1.00   1140.06      1.00\n",
      "      pi_4      0.56      0.21      0.55      0.32      1.00    276.01      1.01\n",
      "      pi_5      0.43      0.25      0.44      0.00      0.77    606.47      1.00\n",
      "      pi_6      0.63      0.25      0.63      0.31      1.00    475.82      1.00\n",
      "      pi_7      0.62      0.21      0.61      0.39      1.00    326.63      1.00\n",
      "\n",
      "Number of divergences: 0\n"
     ]
    }
   ],
   "source": [
    "py_mcmc.summary()"
   ]
  },
  {
   "cell_type": "markdown",
   "id": "distinguished-hawaiian",
   "metadata": {},
   "source": [
    "Welp it ran! Pretty slow considering so little data and effective samples is very poor for $\\beta$ and $N$, which I suppose is no surprise since they may not be identifiable. I'm not sure if there's anything I can do with better priors or reparameterizing that would help"
   ]
  },
  {
   "cell_type": "code",
   "execution_count": null,
   "id": "minute-watershed",
   "metadata": {},
   "outputs": [],
   "source": []
  }
 ],
 "metadata": {
  "kernelspec": {
   "display_name": "Python 3",
   "language": "python",
   "name": "python3"
  },
  "language_info": {
   "codemirror_mode": {
    "name": "ipython",
    "version": 3
   },
   "file_extension": ".py",
   "mimetype": "text/x-python",
   "name": "python",
   "nbconvert_exporter": "python",
   "pygments_lexer": "ipython3",
   "version": "3.6.9"
  }
 },
 "nbformat": 4,
 "nbformat_minor": 5
}
