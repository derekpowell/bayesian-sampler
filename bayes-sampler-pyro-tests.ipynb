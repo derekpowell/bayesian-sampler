{
 "cells": [
  {
   "cell_type": "markdown",
   "id": "mounted-clarity",
   "metadata": {},
   "source": [
    "# Bayesian sampler\n",
    "\n",
    "gonna write this in python with pyro!"
   ]
  },
  {
   "cell_type": "markdown",
   "id": "developing-preference",
   "metadata": {},
   "source": [
    "The Bayesian Sampler model is roughly:\n",
    "\n",
    "$$P_{BS}(A) \\sim Beta(\\beta + S(A), \\beta+F(A))$$\n",
    "\n",
    "Where $S(A)$ and $F(A)$ are the number of success and failures sampled.\n",
    "\n",
    "We can rewrite that:\n",
    "\n",
    "$$P_{BS}(A) \\sim Beta(\\beta + \\pi(A)N, \\beta+(1-\\pi(A))N)$$\n",
    "\n",
    "\n",
    "Where $\\pi(A)$ is the proportion of successes in the mental simulation with $N$ samples and is a function of the true underlying model probability, $p(A)$. It is distributed:\n",
    "\n",
    "$$\\pi(A) \\sim Beta(p(A)*N, (1-p(A))*N)$$\n",
    "\n",
    "To which we assign a uniform prior (or the multidimensional dirichlet equivalent):\n",
    "\n",
    "$$p(A) \\sim Beta(1,1)$$"
   ]
  },
  {
   "cell_type": "code",
   "execution_count": 912,
   "id": "persistent-glenn",
   "metadata": {},
   "outputs": [],
   "source": [
    "%config IPCompleter.use_jedi = False\n",
    "import torch as t\n",
    "import pyro\n",
    "\n",
    "import pyro\n",
    "import pyro.infer\n",
    "import pyro.optim\n",
    "import pyro.distributions as dist\n",
    "from pyro.infer import Importance, EmpiricalMarginal\n",
    "\n",
    "import numpy as np\n",
    "import pandas as pd\n",
    "import seaborn as sns\n",
    "import functools\n",
    "\n",
    "t.set_default_tensor_type(t.DoubleTensor)"
   ]
  },
  {
   "cell_type": "markdown",
   "id": "reliable-routine",
   "metadata": {},
   "source": [
    "let's write down my thinking so far for the bayesian sampler and draw some samples!"
   ]
  },
  {
   "cell_type": "code",
   "execution_count": 840,
   "id": "superior-merit",
   "metadata": {},
   "outputs": [],
   "source": [
    "def bsampler(query):\n",
    "    beta = pyro.sample(\"beta\", dist.HalfCauchy(1))\n",
    "    N = pyro.sample(\"N\", dist.HalfCauchy(5))\n",
    "    theta = pyro.sample(\"theta\", dist.Dirichlet(t.ones(4)))\n",
    "    \n",
    "    p = t.dot(theta, query)\n",
    "    \n",
    "    pi = pyro.sample(\"pi\", dist.Beta(p*N, p*N))\n",
    "    y_hat = pyro.sample(\"y_hat\", dist.Beta(beta + pi*N, beta + (1-pi)*N))\n",
    "    \n",
    "    return y_hat"
   ]
  },
  {
   "cell_type": "code",
   "execution_count": 841,
   "id": "egyptian-abuse",
   "metadata": {},
   "outputs": [
    {
     "data": {
      "text/plain": [
       "<AxesSubplot:ylabel='Count'>"
      ]
     },
     "execution_count": 841,
     "metadata": {},
     "output_type": "execute_result"
    },
    {
     "data": {
      "image/png": "[encoded data removed]",
      "text/plain": [
       "<Figure size 432x288 with 1 Axes>"
      ]
     },
     "metadata": {
      "needs_background": "light"
     },
     "output_type": "display_data"
    }
   ],
   "source": [
    "sns.histplot(np.array([bsampler(t.tensor([1.,1.,0.,0.])) for _ in range(2000)]))"
   ]
  },
  {
   "cell_type": "markdown",
   "id": "paperback-leadership",
   "metadata": {},
   "source": [
    "Holy COW! that was a lot easier than writing in Stan!\n",
    "\n",
    "Ok now let's pull in the data."
   ]
  },
  {
   "cell_type": "code",
   "execution_count": 842,
   "id": "innovative-kentucky",
   "metadata": {},
   "outputs": [],
   "source": [
    "## starting with just one P b/c I am struggling w/ python rustiness and filepaths\n",
    "from dfply import *\n",
    "import glob\n",
    "import pandas as pd\n",
    "\n",
    "df_raw = pd.read_csv(\"osfstorage-archive/Experiment 2/PrEstExp_001_111218_115935.csv\")\n",
    "\n",
    "df = (df_raw >> \n",
    "      group_by(X.querytype) >> \n",
    "      summarize(estimate = X.estimate.mean()) >>\n",
    "      mutate(estimate = X.estimate/100.)\n",
    "     )"
   ]
  },
  {
   "cell_type": "code",
   "execution_count": 843,
   "id": "revolutionary-lancaster",
   "metadata": {
    "tags": []
   },
   "outputs": [],
   "source": [
    "## data munging\n",
    "\n",
    "conjdisj_trials = [\"AorB\",\"notAorB\",\"AornotB\",\"notAornotB\", \"AandB\", \"notAandB\", \"AandnotB\", \"notAandnotB\"]\n",
    "\n",
    "simple_df = df[~df.querytype.isin(conjdisj_trials)]\n",
    "conjdisj_df = df[df.querytype.isin(conjdisj_trials)]\n",
    "\n",
    "## design matrix stuff\n",
    "\n",
    "# takes string expressing trial type and produces function\n",
    "# function takes probabilities defining joint distribution\n",
    "# returns probability of specified query\n",
    "\n",
    "trial_funcs = dict({\n",
    "    \"AandB\": lambda theta: t.dot(t.tensor([1.,0.,0.,0.]), theta) ,\n",
    "    \"AandnotB\": lambda theta: t.dot(t.tensor([0.,1.,0.,0.]), theta),\n",
    "    \"notAandB\": lambda theta: t.dot(t.tensor([0.,0.,1.,0.]), theta),\n",
    "    \"notAandnotB\": lambda theta: t.dot(t.tensor([0.,0.,0.,1.]), theta),\n",
    "    \"A\":lambda theta: t.dot(t.tensor([1.,1.,0.,0.]), theta),\n",
    "    \"B\":lambda theta: t.dot(t.tensor([1.,0.,1.,0.]), theta),\n",
    "    \"notA\":lambda theta: t.dot(t.tensor([0.,0.,1.,1.]), theta),\n",
    "    \"notB\":lambda theta: t.dot(t.tensor([0.,1.,0.,1.]), theta),\n",
    "    \"AorB\":lambda theta: t.dot(t.tensor([1.,1.,1.,0.]), theta),\n",
    "    \"AornotB\":lambda theta: t.dot(t.tensor([1.,1.,0.,1.]), theta),\n",
    "    \"notAorB\":lambda theta: t.dot(t.tensor([0.,1.,1.,1.]), theta),\n",
    "    \"notAornotB\":lambda theta: t.dot(t.tensor([0.,1.,0.,1.]), theta),\n",
    "    \n",
    "    \"AgB\": lambda theta: t.div( t.dot(t.tensor([1.,0.,0.,0.]), theta), t.dot(t.tensor([1.,0.,1.,0.]), theta) ),\n",
    "    \"notAgB\": lambda theta: t.div( t.dot(t.tensor([0.,0.,1.,0.]), theta), t.dot(t.tensor([1.,0.,1.,0.]), theta) ),\n",
    "    \"AgnotB\": lambda theta: t.div( t.dot(t.tensor([0.,1.,0.,0.]), theta), t.dot(t.tensor([0.,1.,0.,1.]), theta) ),\n",
    "    \"notAgnotB\": lambda theta: t.div( t.dot(t.tensor([0.,0.,0.,1.]), theta), t.dot(t.tensor([0.,1.,0.,1.]), theta) ),\n",
    "    \"BgA\": lambda theta: t.div( t.dot(t.tensor([1.,0.,0.,0.]), theta), t.dot(t.tensor([1.,1.,0.,0.]), theta) ),\n",
    "    \"notBgA\": lambda theta: t.div( t.dot(t.tensor([0.,1.,0.,0.]), theta), t.dot(t.tensor([1.,1.,0.,0.]), theta) ),\n",
    "    \"BgnotA\": lambda theta: t.div( t.dot(t.tensor([0.,0.,1.,0.]), theta), t.dot(t.tensor([0.,0.,1.,1.]), theta) ),\n",
    "    \"notBgnotA\": lambda theta: t.div( t.dot(t.tensor([0.,0.,0.,1.]), theta), t.dot(t.tensor([0.,0.,1.,1.]), theta) ),\n",
    "})\n",
    "\n",
    "\n",
    "def query_prob(trial, theta):\n",
    "    f = trial_funcs[trial]\n",
    "    return f(theta)\n",
    "\n",
    "def dm_probs(trial_data, theta, n_obs):\n",
    "    ## compute implied subj. probability from latent theta and trial type\n",
    "    ## this is a vectorized solution: https://bit.ly/2P6mMcD\n",
    "    p = t.tensor([])\n",
    "    for i in range(0, n_obs):\n",
    "        temp = trial_func[trial_data[i]](theta)\n",
    "        p = t.cat( (p, t.tensor([temp])), 0)\n",
    "\n",
    "    return p\n",
    "\n",
    "# query_prob_vec = t.vmap(query_prob, n_dims = (None,0))\n",
    "\n",
    "def dm_probs_vec(theta, trial_data):\n",
    "    ## compute implied subj. probability from latent theta and trial type\n",
    "    ## this is a vectorized solution: https://bit.ly/2P6mMcD\n",
    "    \n",
    "    ## going to try vectorizing using torch.vmap()\n",
    "    \n",
    "    query_prob(theta, trial_data)\n",
    "\n",
    "    return p\n",
    "\n",
    "\n",
    "\n",
    "## simulate data (for multiple blocks)\n",
    "\n",
    "# trials = list(df[\"querytype\"])\n",
    "\n",
    "\n",
    "\n",
    "\n",
    "## the model (old)\n",
    "\n",
    "# def bsampler(data):\n",
    "#     n_obs = len(data[\"trials\"])\n",
    "        \n",
    "#     # population level parameters/priors\n",
    "#     beta = pyro.sample(\"beta\", dist.HalfCauchy(.25))\n",
    "#     N = pyro.sample(\"N\", dist.HalfCauchy(5))\n",
    "    \n",
    "#     # need a theta per person/querytype (yes?)\n",
    "#     theta = pyro.sample(\"theta\", dist.Dirichlet(t.ones(4)))\n",
    "#     p = dm_probs(data[\"trials\"], theta, n_obs)\n",
    "        \n",
    "#     pi = pyro.sample(\"pi\", dist.Beta(p*N, p*N))\n",
    "#     y_hat = pyro.sample(\"yhat\", dist.Beta(beta + pi*N, beta + (1-pi)*N), obs=data[\"obs\"])\n",
    "    \n",
    "#     return y_hat\n",
    "\n",
    "\n",
    "# revising\n",
    "def bsampler(data):\n",
    "\n",
    "    n_obs = len(data[\"trials\"])\n",
    "        \n",
    "    # population level parameters/priors\n",
    "    beta = pyro.sample(\"beta\", dist.HalfCauchy(.25))\n",
    "    N = pyro.sample(\"N\", dist.HalfCauchy(5))\n",
    "    \n",
    "    # need a theta per person/querytype (yes?)\n",
    "    theta = pyro.sample(\"theta\", dist.Dirichlet(t.ones(4)))\n",
    "    p = dm_probs(data[\"trials\"], theta, n_obs)\n",
    "        \n",
    "    pi = pyro.sample(\"pi\", dist.Beta(p*N, p*N))\n",
    "    y_hat = pyro.sample(\"yhat\", dist.Beta(beta + pi*N, beta + (1-pi)*N), obs=data[\"obs\"])\n",
    "    \n",
    "    return y_hat\n",
    "    \n",
    "## this samples too slow!    \n",
    "def their_bsampler(data):\n",
    "    # data = bring in dict of {trial_type: [observations ...]} using sort_trials\n",
    "    n_obs = len(data[\"trials\"])\n",
    "        \n",
    "    # population level parameters/priors\n",
    "    beta = pyro.sample(\"beta\", dist.HalfCauchy(.25))\n",
    "    N = pyro.sample(\"N\", dist.HalfCauchy(5))\n",
    "    k = pyro.sample(\"k\", dist.HalfCauchy(5))\n",
    "    \n",
    "    # need a theta per person/querytype (yes?)\n",
    "    theta = pyro.sample(\"theta\", dist.Dirichlet(t.ones(4)))\n",
    "    pi = dm_probs(data[\"trials\"], theta, n_obs)\n",
    "        \n",
    "    p_bs = pi * N / (N + 2.*beta) + beta/(N + 2.*beta)\n",
    "    \n",
    "    y_hat = pyro.sample(\"yhat\", dist.Beta(p_bs*k,(1.-p_bs)*k), obs=data[\"obs\"])\n",
    "    \n",
    "    return y_hat\n",
    "\n",
    "# their_bsampler(test_data)"
   ]
  },
  {
   "cell_type": "code",
   "execution_count": 650,
   "id": "individual-scoop",
   "metadata": {},
   "outputs": [],
   "source": [
    "\n",
    "#### simulating multiple blocks\n",
    "#### -------------------------- #####\n",
    "\n",
    "\n",
    "def their_sim_sampling(p, beta, N, k):\n",
    "    p_bs = p * N / (N + 2.*beta) + beta/(N + 2.*beta)\n",
    "    return dist.Beta(p_bs*k, (1-p_bs)*k).sample()\n",
    "\n",
    "\n",
    "simulated_blocks = 1\n",
    "trials = list(df[\"querytype\"])*simulated_blocks\n",
    "\n",
    "sim_probs = dm_probs(trials, t.tensor([.5,.1,.2,.2]), len(trials))\n",
    "sim_obs = their_sim_sampling(sim_probs, 1., 10., 20.)\n",
    "\n",
    "test_data = {\"trials\":trials, \"obs\":sim_obs, \"Ps\":1} # conjdisj_trials: ...,  conjdisj_obs: ...\n"
   ]
  },
  {
   "cell_type": "code",
   "execution_count": 654,
   "id": "molecular-pilot",
   "metadata": {
    "tags": []
   },
   "outputs": [],
   "source": [
    "from pyro.infer.mcmc import NUTS, MCMC\n",
    "\n",
    "pyro.clear_param_store()\n",
    "# conditioned_model = pyro.condition(bsampler, data={\"y_hat\":observations[0]})\n",
    "\n",
    "nuts_kernel = NUTS(bsampler, adapt_step_size=True)\n",
    "py_mcmc = MCMC(nuts_kernel, num_samples=500, warmup_steps=250)\n",
    "\n",
    "py_mcmc.run(test_data)"
   ]
  },
  {
   "cell_type": "code",
   "execution_count": 635,
   "id": "bigger-andrews",
   "metadata": {},
   "outputs": [
    {
     "name": "stdout",
     "output_type": "stream",
     "text": [
      "\n",
      "                mean       std    median      5.0%     95.0%     n_eff     r_hat\n",
      "      beta      0.78      2.07      0.25      0.00      1.56    342.43      1.00\n",
      "         N     22.03     73.82      5.31      0.03     39.14    379.97      1.00\n",
      "         k     29.12    110.62      4.69      0.00     47.49    409.44      1.00\n",
      "  theta[0]      0.24      0.20      0.20      0.00      0.53    667.31      1.00\n",
      "  theta[1]      0.24      0.20      0.19      0.00      0.53    786.34      1.00\n",
      "  theta[2]      0.26      0.21      0.22      0.00      0.58    443.76      1.00\n",
      "  theta[3]      0.25      0.20      0.21      0.00      0.57    452.31      1.00\n",
      "\n",
      "Number of divergences: 0\n"
     ]
    }
   ],
   "source": [
    "py_mcmc.summary()"
   ]
  },
  {
   "cell_type": "markdown",
   "id": "constitutional-prospect",
   "metadata": {},
   "source": [
    "That's a lot better! Samples fast but still bad effective samples on $\\beta$ and $N$, when I had worried about identifiability. Gotta sanity-check that the dimensions of things, esp `pi[0]`, make sense.\n",
    "\n",
    "Update: 2021-03-17\n",
    "\n",
    "* Adding to the dimension of dirichlet was incorrect, as I want the same latent ps for all observations. the dimensionality of dirichlet should be (n_participants_queries, 4)\n",
    "* Peeking at the posterior of $\\theta$, this data is just really not sufficient to pin down these latent values on a per-subject basis. That seems a bit problematic for overall inference.\n",
    "* Using simulated data returns poor effective samples on $\\beta$ and $N$. \n",
    "* getting rid of the pi --> p \"layer\" slowed down sampling a lot, which seems weird.\n",
    "* cannot return anything close to correct parameters for a single simulated participant"
   ]
  },
  {
   "cell_type": "code",
   "execution_count": 414,
   "id": "enclosed-bidding",
   "metadata": {
    "tags": []
   },
   "outputs": [
    {
     "name": "stderr",
     "output_type": "stream",
     "text": [
      "/usr/local/lib/python3.6/dist-packages/arviz/data/io_pyro.py:154: UserWarning: Could not get vectorized trace, log_likelihood group will be omitted. Check your model vectorization or set log_likelihood=False\n",
      "  \"Could not get vectorized trace, log_likelihood group will be omitted. \"\n"
     ]
    },
    {
     "data": {
      "text/plain": [
       "array([[<AxesSubplot:ylabel='theta\\n0'>, <AxesSubplot:>, <AxesSubplot:>,\n",
       "        <AxesSubplot:>],\n",
       "       [<AxesSubplot:ylabel='theta\\n1'>, <AxesSubplot:>, <AxesSubplot:>,\n",
       "        <AxesSubplot:>],\n",
       "       [<AxesSubplot:ylabel='theta\\n2'>, <AxesSubplot:>, <AxesSubplot:>,\n",
       "        <AxesSubplot:>],\n",
       "       [<AxesSubplot:xlabel='theta\\n0', ylabel='theta\\n3'>,\n",
       "        <AxesSubplot:xlabel='theta\\n1'>, <AxesSubplot:xlabel='theta\\n2'>,\n",
       "        <AxesSubplot:xlabel='theta\\n3'>]], dtype=object)"
      ]
     },
     "execution_count": 414,
     "metadata": {},
     "output_type": "execute_result"
    },
    {
     "data": {
      "image/png": "[encoded data removed]",
      "text/plain": [
       "<Figure size 720x720 with 10 Axes>"
      ]
     },
     "metadata": {
      "needs_background": "light"
     },
     "output_type": "display_data"
    }
   ],
   "source": [
    "import arviz as az\n",
    "\n",
    "data = az.from_pyro(py_mcmc)\n",
    "\n",
    "az.plot_pair(\n",
    "    data,\n",
    "    var_names=[\"theta\"],\n",
    "#     coords={\"school\": [\"Choate\", \"Phillips Andover\"]},\n",
    "    kind=\"hexbin\",\n",
    "    marginals=True,\n",
    "    figsize=(10, 10),\n",
    ")"
   ]
  },
  {
   "cell_type": "markdown",
   "id": "standing-malta",
   "metadata": {},
   "source": [
    "now let's make it run for multiple Participants"
   ]
  },
  {
   "cell_type": "code",
   "execution_count": 478,
   "id": "consecutive-integrity",
   "metadata": {},
   "outputs": [],
   "source": [
    "def sim_sampling(p, beta, N):\n",
    "    return dist.Beta(beta + p*N, beta + (1-p)*N).sample()\n",
    "\n",
    "simulated_ps = 10\n",
    "\n",
    "trials = list(df[\"querytype\"])*simulated_ps\n",
    "\n",
    "sim_probs = dm_probs(trials, t.tensor([.5,.1,.2,.2]), len(trials))\n",
    "sim_obs = sim_sampling(sim_probs, 1., 50.)\n",
    "\n",
    "test_data = {\"trials\":trials, \n",
    "             \"obs\":sim_obs, \n",
    "             \"num_Ps\":simulated_ps, \n",
    "             \"obs_per_participant\":20} # conjdisj_trials: ...,  conjdisj_obs: ...\n",
    "\n",
    "## the model\n"
   ]
  },
  {
   "cell_type": "code",
   "execution_count": 479,
   "id": "appropriate-keeping",
   "metadata": {},
   "outputs": [
    {
     "data": {
      "text/plain": [
       "tensor([0.5581, 0.5136, 0.0852, 0.7060, 0.4000, 0.8006, 0.7862, 0.6118, 0.8224,\n",
       "        0.5471, 0.3778, 0.1753, 0.1204, 0.3071, 0.6638, 0.4883, 0.3082, 0.3092,\n",
       "        0.1707, 0.4575, 0.6603, 0.5526, 0.0992, 0.5807, 0.3732, 0.7383, 0.7597,\n",
       "        0.6599, 0.8054, 0.3944, 0.3150, 0.2211, 0.1553, 0.2253, 0.7462, 0.5305,\n",
       "        0.3998, 0.4318, 0.2782, 0.4685, 0.6625, 0.5522, 0.0820, 0.6765, 0.3595,\n",
       "        0.7622, 0.8188, 0.7205, 0.8957, 0.5592, 0.4592, 0.3194, 0.2068, 0.2873,\n",
       "        0.6791, 0.4065, 0.2037, 0.3169, 0.2499, 0.4840, 0.6016, 0.5106, 0.1323,\n",
       "        0.6473, 0.3475, 0.8449, 0.6370, 0.7254, 0.8586, 0.4082, 0.3505, 0.1874,\n",
       "        0.1897, 0.3323, 0.6325, 0.5108, 0.3929, 0.3515, 0.1316, 0.5302, 0.4904,\n",
       "        0.4504, 0.0643, 0.7652, 0.3984, 0.7342, 0.8240, 0.7369, 0.8130, 0.5276,\n",
       "        0.3047, 0.2631, 0.2430, 0.3285, 0.6198, 0.5272, 0.3137, 0.4211, 0.2153,\n",
       "        0.5494, 0.6041, 0.6228, 0.0846, 0.7324, 0.3574, 0.8088, 0.7335, 0.7103,\n",
       "        0.7943, 0.4206, 0.4489, 0.2168, 0.1514, 0.3746, 0.6046, 0.5021, 0.2816,\n",
       "        0.2389, 0.2563, 0.4447, 0.4783, 0.3805, 0.1389, 0.6822, 0.3139, 0.8111,\n",
       "        0.7730, 0.6210, 0.8354, 0.4163, 0.3054, 0.0954, 0.1915, 0.3017, 0.5955,\n",
       "        0.6137, 0.2754, 0.3326, 0.2132, 0.4429, 0.7148, 0.5810, 0.1284, 0.6298,\n",
       "        0.4313, 0.7540, 0.8780, 0.6761, 0.8809, 0.4528, 0.2815, 0.1592, 0.0919,\n",
       "        0.3266, 0.5436, 0.5005, 0.3559, 0.2475, 0.2380, 0.4528, 0.6239, 0.5193,\n",
       "        0.1076, 0.7377, 0.3804, 0.7552, 0.7783, 0.6983, 0.9061, 0.4177, 0.3221,\n",
       "        0.1448, 0.1550, 0.2365, 0.7306, 0.5542, 0.2436, 0.2162, 0.2163, 0.4377,\n",
       "        0.6580, 0.5157, 0.1102, 0.7039, 0.3752, 0.7545, 0.8090, 0.7295, 0.8506,\n",
       "        0.3816, 0.4735, 0.1935, 0.1453, 0.2545, 0.5774, 0.5178, 0.2776, 0.2442,\n",
       "        0.2664, 0.5376])"
      ]
     },
     "execution_count": 479,
     "metadata": {},
     "output_type": "execute_result"
    }
   ],
   "source": [
    "bsampler_multi(test_data)"
   ]
  },
  {
   "cell_type": "code",
   "execution_count": 481,
   "id": "chemical-tracker",
   "metadata": {},
   "outputs": [
    {
     "name": "stderr",
     "output_type": "stream",
     "text": [
      "Sample: 100%|██████████| 750/750 [1:17:45,  6.22s/it, step size=4.81e-04, acc. prob=0.812]\n"
     ]
    }
   ],
   "source": [
    "from pyro.infer.mcmc import NUTS, MCMC\n",
    "\n",
    "pyro.clear_param_store()\n",
    "# conditioned_model = pyro.condition(bsampler, data={\"y_hat\":observations[0]})\n",
    "\n",
    "nuts_kernel = NUTS(bsampler_multi, adapt_step_size=True)\n",
    "py_mcmc = MCMC(nuts_kernel, num_samples=500, warmup_steps=250)\n",
    "\n",
    "py_mcmc.run(test_data)"
   ]
  },
  {
   "cell_type": "code",
   "execution_count": 483,
   "id": "medieval-webmaster",
   "metadata": {
    "collapsed": true,
    "jupyter": {
     "outputs_hidden": true
    },
    "tags": []
   },
   "outputs": [
    {
     "name": "stdout",
     "output_type": "stream",
     "text": [
      "\n",
      "                mean       std    median      5.0%     95.0%     n_eff     r_hat\n",
      "      beta      1.46      0.19      1.46      1.20      1.75     10.46      1.00\n",
      "         N      4.81      0.41      4.78      4.14      5.42      7.96      1.18\n",
      "theta[0,0]      0.33      0.10      0.33      0.17      0.46     12.38      1.17\n",
      "theta[0,1]      0.08      0.04      0.07      0.02      0.13     12.76      1.04\n",
      "theta[0,2]      0.21      0.07      0.21      0.11      0.32      3.53      1.76\n",
      "theta[0,3]      0.38      0.07      0.37      0.29      0.54     16.73      1.00\n",
      "theta[1,0]      0.38      0.17      0.41      0.16      0.63      4.79      1.68\n",
      "theta[1,1]      0.36      0.19      0.34      0.12      0.71      6.71      1.30\n",
      "theta[1,2]      0.11      0.06      0.10      0.03      0.20     14.40      1.12\n",
      "theta[1,3]      0.15      0.08      0.14      0.04      0.24      8.21      1.26\n",
      "theta[2,0]      0.38      0.20      0.46      0.08      0.62      2.77      2.37\n",
      "theta[2,1]      0.12      0.10      0.06      0.02      0.30      3.16      2.03\n",
      "theta[2,2]      0.28      0.07      0.28      0.19      0.41     19.45      1.08\n",
      "theta[2,3]      0.22      0.14      0.17      0.06      0.45      3.06      1.95\n",
      "theta[3,0]      0.13      0.06      0.14      0.04      0.20      2.74      2.49\n",
      "theta[3,1]      0.20      0.05      0.21      0.11      0.27      5.08      1.36\n",
      "theta[3,2]      0.46      0.18      0.51      0.16      0.67      2.91      2.90\n",
      "theta[3,3]      0.21      0.12      0.16      0.07      0.41      3.83      1.92\n",
      "theta[4,0]      0.18      0.14      0.13      0.05      0.47      5.26      1.36\n",
      "theta[4,1]      0.04      0.01      0.03      0.02      0.06     10.97      1.00\n",
      "theta[4,2]      0.29      0.12      0.30      0.06      0.44      5.32      1.27\n",
      "theta[4,3]      0.49      0.09      0.50      0.31      0.61      9.39      1.03\n",
      "theta[5,0]      0.27      0.15      0.28      0.07      0.47      2.79      2.41\n",
      "theta[5,1]      0.24      0.16      0.18      0.06      0.48      2.66      2.61\n",
      "theta[5,2]      0.13      0.09      0.08      0.03      0.25      3.06      1.76\n",
      "theta[5,3]      0.36      0.11      0.36      0.15      0.53      4.41      1.27\n",
      "theta[6,0]      0.18      0.07      0.16      0.06      0.27      3.17      2.48\n",
      "theta[6,1]      0.31      0.06      0.30      0.21      0.40      3.55      2.23\n",
      "theta[6,2]      0.27      0.09      0.28      0.13      0.40      4.64      1.92\n",
      "theta[6,3]      0.25      0.10      0.23      0.09      0.40      3.14      2.12\n",
      "theta[7,0]      0.09      0.04      0.10      0.04      0.15      2.86      2.34\n",
      "theta[7,1]      0.71      0.09      0.72      0.58      0.83      3.31      2.53\n",
      "theta[7,2]      0.10      0.04      0.10      0.02      0.16      3.49      2.08\n",
      "theta[7,3]      0.10      0.04      0.09      0.04      0.15     12.41      1.08\n",
      "theta[8,0]      0.20      0.08      0.17      0.08      0.34      3.95      1.69\n",
      "theta[8,1]      0.54      0.06      0.53      0.46      0.64      7.44      1.02\n",
      "theta[8,2]      0.09      0.04      0.07      0.04      0.15      2.70      2.35\n",
      "theta[8,3]      0.17      0.03      0.18      0.11      0.22      7.27      1.23\n",
      "theta[9,0]      0.13      0.08      0.09      0.04      0.25      2.97      1.94\n",
      "theta[9,1]      0.10      0.05      0.10      0.02      0.17      3.86      2.04\n",
      "theta[9,2]      0.37      0.05      0.37      0.29      0.46      6.25      1.51\n",
      "theta[9,3]      0.40      0.09      0.43      0.27      0.52      2.99      1.95\n",
      "     pi[0]      0.30      0.10      0.29      0.18      0.48      3.72      1.38\n",
      "     pi[1]      0.54      0.17      0.53      0.29      0.88      5.02      1.33\n",
      "     pi[2]      0.05      0.04      0.04      0.01      0.12      5.93      1.01\n",
      "     pi[3]      0.67      0.11      0.68      0.52      0.90     16.22      1.18\n",
      "     pi[4]      0.27      0.12      0.24      0.09      0.48     15.53      1.01\n",
      "     pi[5]      0.72      0.16      0.79      0.42      0.90      3.80      1.52\n",
      "     pi[6]      0.57      0.11      0.57      0.39      0.74     11.73      1.33\n",
      "     pi[7]      0.60      0.13      0.61      0.42      0.80      9.39      1.15\n",
      "     pi[8]      0.61      0.09      0.61      0.46      0.73      3.47      1.85\n",
      "     pi[9]      0.57      0.05      0.56      0.50      0.65      6.47      1.28\n",
      "    pi[10]      0.42      0.17      0.37      0.20      0.74      7.22      1.11\n",
      "    pi[11]      0.30      0.17      0.26      0.06      0.59     12.75      1.33\n",
      "    pi[12]      0.20      0.04      0.20      0.14      0.27      4.44      1.44\n",
      "    pi[13]      0.28      0.11      0.26      0.11      0.45      3.64      1.95\n",
      "    pi[14]      0.54      0.12      0.54      0.34      0.72     23.59      1.00\n",
      "    pi[15]      0.43      0.10      0.42      0.23      0.60      7.22      1.15\n",
      "    pi[16]      0.41      0.13      0.41      0.21      0.60      7.97      1.02\n",
      "    pi[17]      0.43      0.14      0.41      0.24      0.68      8.57      1.26\n",
      "    pi[18]      0.04      0.02      0.04      0.01      0.08      5.69      1.01\n",
      "    pi[19]      0.35      0.14      0.33      0.10      0.54      8.62      1.00\n",
      "    pi[20]      0.74      0.10      0.76      0.59      0.88      5.72      1.42\n",
      "    pi[21]      0.38      0.13      0.40      0.19      0.54      2.55      2.78\n",
      "    pi[22]      0.18      0.07      0.18      0.06      0.30      4.44      1.65\n",
      "    pi[23]      0.37      0.10      0.36      0.24      0.54     10.24      1.01\n",
      "    pi[24]      0.45      0.13      0.44      0.26      0.66     10.57      1.00\n",
      "    pi[25]      0.62      0.07      0.63      0.50      0.73      6.91      1.18\n",
      "    pi[26]      0.66      0.13      0.68      0.47      0.87     10.09      1.07\n",
      "    pi[27]      0.66      0.26      0.58      0.35      0.99      2.57      3.60\n",
      "    pi[28]      0.79      0.09      0.82      0.64      0.91      5.29      1.07\n",
      "    pi[29]      0.54      0.17      0.53      0.34      0.84      5.07      1.47\n",
      "    pi[30]      0.03      0.02      0.02      0.01      0.06      3.29      1.63\n",
      "    pi[31]      0.07      0.04      0.06      0.01      0.12      6.87      1.00\n",
      "    pi[32]      0.23      0.06      0.23      0.14      0.34      6.10      1.26\n",
      "    pi[33]      0.33      0.22      0.32      0.06      0.64      3.08      2.00\n",
      "    pi[34]      0.73      0.11      0.75      0.60      0.95     10.39      1.05\n",
      "    pi[35]      0.68      0.11      0.71      0.46      0.80     10.57      1.05\n",
      "    pi[36]      0.52      0.15      0.52      0.28      0.73      9.41      1.00\n",
      "    pi[37]      0.55      0.17      0.61      0.25      0.75      3.45      1.61\n",
      "    pi[38]      0.34      0.16      0.34      0.07      0.60      7.81      1.27\n",
      "    pi[39]      0.56      0.15      0.56      0.31      0.78     13.75      1.00\n",
      "    pi[40]      0.57      0.10      0.58      0.42      0.76      8.55      1.37\n",
      "    pi[41]      0.50      0.10      0.52      0.36      0.65     10.96      1.05\n",
      "    pi[42]      0.12      0.12      0.08      0.00      0.28     11.18      1.25\n",
      "    pi[43]      0.69      0.10      0.71      0.54      0.83     23.58      1.02\n",
      "    pi[44]      0.88      0.03      0.89      0.85      0.95     10.28      1.00\n",
      "    pi[45]      0.68      0.12      0.71      0.47      0.82      5.29      1.17\n",
      "    pi[46]      0.62      0.10      0.64      0.43      0.77     10.44      1.10\n",
      "    pi[47]      0.72      0.15      0.74      0.49      0.94      9.27      1.24\n",
      "    pi[48]      0.75      0.10      0.74      0.60      0.89      3.91      2.08\n",
      "    pi[49]      0.38      0.17      0.43      0.10      0.58      3.01      1.95\n",
      "    pi[50]      0.42      0.11      0.44      0.24      0.59     10.13      1.00\n",
      "    pi[51]      0.33      0.17      0.31      0.06      0.60     11.99      1.00\n",
      "    pi[52]      0.45      0.09      0.44      0.32      0.64     10.97      1.19\n",
      "    pi[53]      0.43      0.15      0.46      0.17      0.63      2.95      2.05\n",
      "    pi[54]      0.56      0.05      0.55      0.49      0.64     10.46      1.05\n",
      "    pi[55]      0.40      0.09      0.39      0.26      0.55      4.65      1.25\n",
      "    pi[56]      0.25      0.15      0.22      0.02      0.47      6.50      1.03\n",
      "    pi[57]      0.23      0.17      0.17      0.03      0.53      4.34      1.56\n",
      "    pi[58]      0.46      0.05      0.46      0.37      0.54      4.29      1.65\n",
      "    pi[59]      0.47      0.16      0.45      0.19      0.72     13.22      1.00\n",
      "    pi[60]      0.55      0.19      0.57      0.19      0.82     12.13      1.21\n",
      "    pi[61]      0.40      0.18      0.38      0.11      0.65      2.86      2.60\n",
      "    pi[62]      0.15      0.07      0.13      0.06      0.26     12.26      1.16\n",
      "    pi[63]      0.51      0.22      0.49      0.21      0.92     12.08      1.03\n",
      "    pi[64]      0.37      0.12      0.37      0.15      0.54      6.48      1.13\n",
      "    pi[65]      0.60      0.11      0.61      0.44      0.76      2.86      2.36\n",
      "    pi[66]      0.78      0.17      0.86      0.50      0.95      4.10      1.45\n",
      "    pi[67]      0.60      0.10      0.60      0.45      0.76      4.15      1.74\n",
      "    pi[68]      0.69      0.09      0.70      0.53      0.82     29.94      1.04\n",
      "    pi[69]      0.41      0.14      0.42      0.17      0.62      4.73      1.45\n",
      "    pi[70]      0.41      0.14      0.38      0.17      0.62     16.10      1.16\n",
      "    pi[71]      0.26      0.14      0.26      0.06      0.47      3.60      2.26\n",
      "    pi[72]      0.30      0.09      0.28      0.14      0.44      5.13      1.09\n",
      "    pi[73]      0.41      0.16      0.38      0.17      0.64      3.08      2.00\n",
      "    pi[74]      0.53      0.14      0.54      0.31      0.74      7.27      1.32\n",
      "    pi[75]      0.53      0.11      0.54      0.39      0.73      9.97      1.02\n",
      "    pi[76]      0.30      0.13      0.28      0.12      0.48      9.55      1.21\n",
      "    pi[77]      0.53      0.17      0.55      0.32      0.81      5.64      1.03\n",
      "    pi[78]      0.34      0.13      0.33      0.15      0.54      9.57      1.11\n",
      "    pi[79]      0.24      0.09      0.23      0.12      0.37      6.04      1.11\n",
      "    pi[80]      0.77      0.15      0.78      0.61      0.97      4.75      1.08\n",
      "    pi[81]      0.57      0.08      0.61      0.45      0.67      3.02      1.76\n",
      "    pi[82]      0.02      0.01      0.02      0.01      0.04     10.70      1.23\n",
      "    pi[83]      0.87      0.06      0.88      0.79      0.95      7.22      1.34\n",
      "    pi[84]      0.25      0.11      0.27      0.05      0.39      2.90      2.59\n",
      "    pi[85]      0.69      0.18      0.66      0.47      0.97      5.90      1.05\n",
      "    pi[86]      0.75      0.07      0.75      0.64      0.86      6.36      1.09\n",
      "    pi[87]      0.69      0.09      0.71      0.54      0.81      4.39      1.21\n",
      "    pi[88]      0.61      0.09      0.62      0.46      0.78     17.87      1.00\n",
      "    pi[89]      0.68      0.14      0.70      0.46      0.92     10.36      1.26\n",
      "    pi[90]      0.38      0.12      0.38      0.18      0.56     13.46      1.22\n",
      "    pi[91]      0.23      0.11      0.19      0.09      0.40     11.48      1.07\n",
      "    pi[92]      0.29      0.19      0.23      0.06      0.63      4.00      1.59\n",
      "    pi[93]      0.52      0.15      0.48      0.31      0.75      4.29      1.75\n",
      "    pi[94]      0.55      0.07      0.56      0.40      0.64      3.30      1.82\n",
      "    pi[95]      0.42      0.10      0.44      0.24      0.57      6.41      1.02\n",
      "    pi[96]      0.41      0.15      0.38      0.21      0.66      6.14      1.29\n",
      "    pi[97]      0.51      0.09      0.50      0.39      0.64      6.94      1.05\n",
      "    pi[98]      0.36      0.08      0.35      0.25      0.53      6.80      1.24\n",
      "    pi[99]      0.62      0.08      0.61      0.49      0.74     12.63      1.02\n",
      "   pi[100]      0.54      0.13      0.56      0.35      0.75     18.98      1.12\n",
      "   pi[101]      0.76      0.07      0.76      0.65      0.87      9.61      1.15\n",
      "   pi[102]      0.09      0.10      0.05      0.00      0.25      4.09      1.72\n",
      "   pi[103]      0.52      0.16      0.51      0.27      0.77      3.71      1.99\n",
      "   pi[104]      0.25      0.16      0.19      0.05      0.47      3.06      2.34\n",
      "   pi[105]      0.63      0.14      0.63      0.43      0.83     12.25      1.16\n",
      "   pi[106]      0.70      0.11      0.68      0.55      0.86      4.62      1.08\n",
      "   pi[107]      0.74      0.13      0.76      0.55      0.95      6.22      1.19\n",
      "   pi[108]      0.77      0.07      0.79      0.67      0.86      6.20      1.20\n",
      "   pi[109]      0.47      0.18      0.48      0.15      0.72      5.40      1.00\n",
      "   pi[110]      0.28      0.10      0.26      0.12      0.46     13.44      1.03\n",
      "   pi[111]      0.38      0.15      0.43      0.08      0.55      4.44      1.18\n",
      "   pi[112]      0.15      0.08      0.11      0.06      0.29      3.32      1.75\n",
      "   pi[113]      0.56      0.12      0.57      0.36      0.71      9.48      1.00\n",
      "   pi[114]      0.48      0.11      0.49      0.33      0.65      2.88      2.36\n",
      "   pi[115]      0.40      0.12      0.39      0.20      0.60      7.63      1.15\n",
      "   pi[116]      0.34      0.15      0.29      0.14      0.59      5.12      1.17\n",
      "   pi[117]      0.39      0.14      0.38      0.18      0.58      3.48      3.02\n",
      "   pi[118]      0.31      0.09      0.30      0.17      0.47      4.91      1.45\n",
      "   pi[119]      0.51      0.08      0.50      0.39      0.65      3.37      1.85\n",
      "   pi[120]      0.47      0.20      0.52      0.16      0.74      3.96      1.50\n",
      "   pi[121]      0.36      0.19      0.26      0.11      0.64      2.62      2.89\n",
      "   pi[122]      0.13      0.06      0.12      0.05      0.21      4.07      1.70\n",
      "   pi[123]      0.44      0.12      0.41      0.27      0.63      3.51      1.65\n",
      "   pi[124]      0.44      0.05      0.44      0.35      0.53      6.52      1.48\n",
      "   pi[125]      0.56      0.15      0.59      0.34      0.75      2.77      2.74\n",
      "   pi[126]      0.61      0.10      0.59      0.49      0.79      4.23      1.41\n",
      "   pi[127]      0.49      0.20      0.53      0.18      0.82      8.49      1.00\n",
      "   pi[128]      0.84      0.09      0.85      0.71      0.98      7.02      1.02\n",
      "   pi[129]      0.48      0.17      0.46      0.21      0.76     11.64      1.05\n",
      "   pi[130]      0.35      0.05      0.35      0.26      0.43     20.53      1.02\n",
      "   pi[131]      0.24      0.13      0.22      0.03      0.41      8.18      1.33\n",
      "   pi[132]      0.17      0.08      0.14      0.06      0.30      7.49      1.09\n",
      "   pi[133]      0.53      0.14      0.51      0.31      0.74      6.55      1.23\n",
      "   pi[134]      0.67      0.12      0.68      0.47      0.85      9.35      1.01\n",
      "   pi[135]      0.51      0.09      0.49      0.39      0.70      6.96      1.16\n",
      "   pi[136]      0.20      0.05      0.20      0.13      0.28      6.41      1.15\n",
      "   pi[137]      0.47      0.14      0.45      0.26      0.71      6.86      1.12\n",
      "   pi[138]      0.53      0.16      0.52      0.24      0.78      3.44      2.00\n",
      "   pi[139]      0.29      0.10      0.29      0.08      0.41      9.13      1.24\n",
      "   pi[140]      0.66      0.12      0.67      0.49      0.86      4.96      1.43\n",
      "   pi[141]      0.71      0.08      0.72      0.60      0.86     11.49      1.09\n",
      "   pi[142]      0.40      0.16      0.42      0.12      0.62      5.07      1.03\n",
      "   pi[143]      0.55      0.13      0.56      0.32      0.73     13.51      1.06\n",
      "   pi[144]      0.42      0.16      0.41      0.16      0.67      7.77      1.46\n",
      "   pi[145]      0.57      0.10      0.55      0.43      0.76      3.53      1.88\n",
      "   pi[146]      0.68      0.13      0.71      0.46      0.87     11.80      1.02\n",
      "   pi[147]      0.72      0.15      0.71      0.52      0.95      4.40      1.62\n",
      "   pi[148]      0.84      0.06      0.85      0.73      0.93      5.93      1.52\n",
      "   pi[149]      0.60      0.17      0.62      0.23      0.78      7.36      1.12\n",
      "   pi[150]      0.02      0.01      0.02      0.01      0.02     19.74      1.00\n",
      "   pi[151]      0.01      0.02      0.01      0.00      0.04      6.34      1.30\n",
      "   pi[152]      0.04      0.06      0.00      0.00      0.15      3.56      1.58\n",
      "   pi[153]      0.39      0.15      0.35      0.18      0.63      6.82      1.64\n",
      "   pi[154]      0.58      0.19      0.62      0.26      0.83      4.41      1.40\n",
      "   pi[155]      0.59      0.08      0.58      0.46      0.72     13.03      1.16\n",
      "   pi[156]      0.39      0.10      0.39      0.19      0.54      8.80      1.36\n",
      "   pi[157]      0.43      0.12      0.43      0.20      0.59     10.90      1.01\n",
      "   pi[158]      0.45      0.12      0.47      0.24      0.63     11.46      1.00\n",
      "   pi[159]      0.51      0.08      0.52      0.41      0.64      5.73      1.02\n",
      "   pi[160]      0.56      0.11      0.55      0.38      0.75     18.68      1.31\n",
      "   pi[161]      0.43      0.24      0.40      0.05      0.79      5.87      1.07\n",
      "   pi[162]      0.10      0.02      0.10      0.06      0.13      5.83      1.09\n",
      "   pi[163]      0.68      0.07      0.69      0.59      0.79      9.49      1.00\n",
      "   pi[164]      0.46      0.10      0.45      0.31      0.62      8.33      1.00\n",
      "   pi[165]      0.54      0.11      0.53      0.41      0.77      9.26      1.25\n",
      "   pi[166]      0.61      0.09      0.62      0.44      0.71      8.04      1.20\n",
      "   pi[167]      0.69      0.15      0.68      0.48      0.95      6.27      1.06\n",
      "   pi[168]      0.86      0.07      0.87      0.75      0.96     15.32      1.02\n",
      "   pi[169]      0.63      0.09      0.62      0.51      0.79      3.20      2.26\n",
      "   pi[170]      0.08      0.05      0.06      0.03      0.16      4.61      1.30\n",
      "   pi[171]      0.23      0.10      0.22      0.06      0.36      7.50      1.42\n",
      "   pi[172]      0.02      0.02      0.01      0.01      0.04      6.17      1.24\n",
      "   pi[173]      0.43      0.19      0.41      0.09      0.71     16.63      1.00\n",
      "   pi[174]      0.64      0.08      0.64      0.52      0.76      6.40      1.09\n",
      "   pi[175]      0.67      0.09      0.67      0.51      0.81      8.21      1.41\n",
      "   pi[176]      0.55      0.06      0.55      0.47      0.65     10.53      1.14\n",
      "   pi[177]      0.25      0.07      0.25      0.10      0.36      9.16      1.08\n",
      "   pi[178]      0.25      0.07      0.25      0.13      0.34      5.37      1.37\n",
      "   pi[179]      0.51      0.16      0.52      0.27      0.78      3.28      1.98\n",
      "   pi[180]      0.72      0.24      0.77      0.33      1.00      2.70      2.55\n",
      "   pi[181]      0.71      0.13      0.69      0.55      0.94      2.90      2.29\n",
      "   pi[182]      0.07      0.02      0.07      0.03      0.10      4.85      1.59\n",
      "   pi[183]      0.11      0.16      0.03      0.00      0.38      3.58      1.53\n",
      "   pi[184]      0.23      0.17      0.23      0.01      0.47      2.92      2.29\n",
      "   pi[185]      0.71      0.10      0.72      0.57      0.89     14.99      1.03\n",
      "   pi[186]      0.53      0.06      0.54      0.43      0.61      7.31      1.12\n",
      "   pi[187]      0.68      0.16      0.71      0.42      0.91     16.43      1.02\n",
      "   pi[188]      0.72      0.04      0.72      0.66      0.81      3.73      1.43\n",
      "   pi[189]      0.33      0.16      0.30      0.11      0.55      3.48      1.37\n",
      "   pi[190]      0.55      0.16      0.56      0.30      0.80      5.24      1.00\n",
      "   pi[191]      0.31      0.13      0.29      0.12      0.52     11.99      1.06\n",
      "   pi[192]      0.22      0.10      0.18      0.09      0.37      3.79      1.58\n",
      "   pi[193]      0.46      0.13      0.45      0.24      0.66      3.06      2.21\n",
      "   pi[194]      0.47      0.12      0.47      0.27      0.63      9.56      1.05\n",
      "   pi[195]      0.51      0.15      0.51      0.25      0.70     11.44      1.02\n",
      "   pi[196]      0.49      0.14      0.48      0.26      0.74      4.69      1.40\n",
      "   pi[197]      0.24      0.06      0.24      0.13      0.31      8.72      1.21\n",
      "   pi[198]      0.33      0.15      0.34      0.10      0.57      7.65      1.14\n",
      "   pi[199]      0.52      0.10      0.53      0.38      0.72     11.81      1.00\n",
      "\n",
      "Number of divergences: 0\n"
     ]
    }
   ],
   "source": [
    "py_mcmc.summary()"
   ]
  },
  {
   "cell_type": "markdown",
   "id": "floral-briefs",
   "metadata": {},
   "source": [
    "Well these dimensions came out all wrong/not as I was expectng. I suspect there's something about the first case I didn't understand"
   ]
  },
  {
   "cell_type": "code",
   "execution_count": 769,
   "id": "contrary-security",
   "metadata": {},
   "outputs": [],
   "source": [
    "# need to change things around, feed in data separately for each trial type maybe?\n",
    "def sort_trials(trial_data, observations):\n",
    "    output = dict()\n",
    "    for key in set(trial_data):\n",
    "        output[key] = t.ones(0)\n",
    "        \n",
    "    for i in range(0, len(trial_data)):\n",
    "        output[trial_data[i]] = t.cat( (output[trial_data[i]], t.tensor([observations[i]])) )\n",
    "        \n",
    "    return output\n",
    "\n",
    "# simulated_blocks = 1\n",
    "\n",
    "# trials = list(df[\"querytype\"])*simulated_blocks\n",
    "\n",
    "simulated_blocks = 100\n",
    "trials = list(df[\"querytype\"])*simulated_blocks\n",
    "\n",
    "sim_probs = dm_probs(trials, t.tensor([.5,.1,.2,.2]), len(trials))\n",
    "sim_obs = their_sim_sampling(sim_probs, 1., 10., 100.)\n",
    "\n",
    "test_data = sort_trials(trials, sim_obs)\n",
    "# test_data = {\"data\": sort_trials(trials, observations),\n",
    "#              \"num_Ps\":simulated_ps, \n",
    "#              \"obs_per_participant\":20} # conjdisj_trials: ...,  conjdisj_obs: ...\n",
    "\n",
    "## ok it's just slow!\n",
    "\n",
    "def bsampler_multi(data):\n",
    "#     n_total_obs = len(data[\"trials\"])\n",
    "    n_obs = len(data[\"A\"])\n",
    "    n_total_obs = len(data.keys())*n_obs\n",
    "\n",
    "    # population level parameters/priors\n",
    "    beta = pyro.sample(\"beta\", dist.HalfCauchy(.25))\n",
    "    N = pyro.sample(\"N\", dist.HalfCauchy(5))\n",
    "    k = pyro.sample(\"k\", dist.HalfCauchy(5))\n",
    "\n",
    "    # need a theta per person/querytype (yes?)    \n",
    "    theta = pyro.sample(\"theta\", dist.Dirichlet(t.ones(1, 4)))\n",
    "\n",
    "    for trial in data.keys():\n",
    "        f = t.vmap(trial_func[trial])\n",
    "        pi = f(theta)\n",
    "        p_bs = pi * N / (N + 2.*beta) + beta/(N + 2.*beta)   \n",
    "        pyro.sample(\"yhat_{}\".format(trial), dist.Beta(p_bs*k,(1.-p_bs)*k), obs=data[trial])\n",
    "    \n",
    "    return None\n"
   ]
  },
  {
   "cell_type": "code",
   "execution_count": 770,
   "id": "fancy-malta",
   "metadata": {},
   "outputs": [
    {
     "name": "stderr",
     "output_type": "stream",
     "text": [
      "Warmup:   0%|          | 0/750 [00:00, ?it/s]/usr/local/lib/python3.6/dist-packages/ipykernel_launcher.py:43: UserWarning: torch.vmap is an experimental prototype that is subject to change and/or deletion. Please use at your own risk. There may be unexpected performance cliffs due to certain operators not being implemented. To see detailed performance warnings please use `torch._C._debug_only_display_vmap_fallback_warnings(True) before the call to `vmap`.\n",
      "Sample: 100%|██████████| 750/750 [12:53,  1.03s/it, step size=3.98e-02, acc. prob=0.941]\n"
     ]
    }
   ],
   "source": [
    "from pyro.infer.mcmc import NUTS, MCMC\n",
    "\n",
    "pyro.clear_param_store()\n",
    "# conditioned_model = pyro.condition(bsampler, data={\"y_hat\":observations[0]})\n",
    "\n",
    "nuts_kernel = NUTS(bsampler_multi, adapt_step_size=True)\n",
    "py_mcmc = MCMC(nuts_kernel, num_samples=500, warmup_steps=250)\n",
    "\n",
    "py_mcmc.run(test_data)"
   ]
  },
  {
   "cell_type": "code",
   "execution_count": 771,
   "id": "ranking-phoenix",
   "metadata": {},
   "outputs": [
    {
     "name": "stdout",
     "output_type": "stream",
     "text": [
      "\n",
      "                mean       std    median      5.0%     95.0%     n_eff     r_hat\n",
      "      beta      0.56      0.83      0.34      0.03      1.05    141.01      1.00\n",
      "         N      5.56      8.18      3.42      0.28     10.34    140.93      1.00\n",
      "         k     96.76      3.04     96.80     91.82    101.71    406.42      1.00\n",
      "theta[0,0]      0.50      0.00      0.50      0.49      0.50    340.54      1.00\n",
      "theta[0,1]      0.10      0.00      0.10      0.10      0.10    354.96      1.00\n",
      "theta[0,2]      0.20      0.00      0.20      0.20      0.20    496.15      1.00\n",
      "theta[0,3]      0.20      0.00      0.20      0.20      0.20    384.32      1.00\n",
      "\n",
      "Number of divergences: 0\n"
     ]
    }
   ],
   "source": [
    "py_mcmc.summary()"
   ]
  },
  {
   "cell_type": "markdown",
   "id": "fundamental-coach",
   "metadata": {},
   "source": [
    "Hey Hey! Is that actually recovering the latent probabilities??? Seems like it did even with just one block. __That's HUGE.__ Seems to be running in same time with 10x observations, bumping it up to 100x starts to slow things down but not terribly"
   ]
  },
  {
   "cell_type": "markdown",
   "id": "waiting-drunk",
   "metadata": {},
   "source": [
    "## multiple participants\n",
    "\n",
    "ok now I appear to have things working for a single participant with multiple observations per trial. It's time to expand this to multiple paricipants."
   ]
  },
  {
   "cell_type": "code",
   "execution_count": 917,
   "id": "answering-interface",
   "metadata": {},
   "outputs": [
    {
     "name": "stdout",
     "output_type": "stream",
     "text": [
      "tensor([0.0021, 0.3082, 0.1204, 0.1292, 0.0043, 0.3411])\n",
      "tensor([0.0156, 0.3851, 0.0279, 0.2949, 0.1712, 0.4460])\n",
      "tensor([0.3994, 0.0159, 0.1303, 0.2227, 0.1206, 0.0290])\n",
      "tensor([0.3227, 0.2869, 0.2595, 0.0387, 0.0790, 0.4252])\n",
      "tensor([0.4004, 0.7786, 0.3039, 0.3191, 0.5683, 0.1031])\n",
      "tensor([0.5426, 0.5793, 0.7708, 0.5543, 0.4908, 0.6906])\n",
      "tensor([0.7344, 0.0185, 0.7809, 0.7132, 0.5193, 0.5608])\n",
      "tensor([0.3375, 0.5924, 0.4780, 0.4689, 0.0568, 0.3586])\n",
      "tensor([0.5154, 0.9912, 0.8633, 0.6175, 0.5445, 0.7377])\n",
      "tensor([0.9575, 0.9342, 0.9967, 0.6822, 0.5351, 0.8479])\n",
      "tensor([0.8587, 0.5916, 0.2511, 0.7100, 0.8997, 0.5333])\n",
      "tensor([0.2282, 0.8087, 0.9418, 0.1624, 0.9335, 0.6815])\n",
      "tensor([0.1048, 0.0584, 0.4927, 0.4620, 0.3753, 0.6838])\n",
      "tensor([0.3395, 0.9579, 0.6020, 0.4985, 0.9392, 0.9763])\n",
      "tensor([0.5969, 0.7046, 0.4474, 0.0429, 0.2090, 0.3095])\n",
      "tensor([0.3724, 0.4942, 0.3132, 0.6778, 0.1853, 0.4928])\n",
      "tensor([0.0235, 0.7143, 0.7695, 0.4239, 0.4945, 0.3566])\n",
      "tensor([0.2535, 0.8000, 0.0215, 0.6766, 0.0233, 0.9808])\n",
      "tensor([0.7297, 0.5420, 0.3491, 0.3488, 0.8127, 0.0339])\n",
      "tensor([0.7654, 0.7413, 0.1050, 0.3102, 0.3689, 0.8751])\n"
     ]
    },
    {
     "name": "stderr",
     "output_type": "stream",
     "text": [
      "/usr/local/lib/python3.6/dist-packages/ipykernel_launcher.py:32: UserWarning: To copy construct from a tensor, it is recommended to use sourceTensor.clone().detach() or sourceTensor.clone().detach().requires_grad_(True), rather than torch.tensor(sourceTensor).\n"
     ]
    }
   ],
   "source": [
    "## try to create new trial_funcs that can take a matrix theta\n",
    "\n",
    "def test_func(theta):\n",
    "    return t.matmul(theta, t.tensor([1.,0.,0.,0.])) \n",
    "\n",
    "\n",
    "trial_funcs = dict({\n",
    "    \"AandB\": lambda theta: t.matmul(theta, t.tensor([1.,0.,0.,0.])) ,\n",
    "    \"AandnotB\": lambda theta: t.matmul(theta, t.tensor([0.,1.,0.,0.])),\n",
    "    \"notAandB\": lambda theta: t.matmul(theta, t.tensor([0.,0.,1.,0.])),\n",
    "    \"notAandnotB\": lambda theta: t.matmul(theta, t.tensor([0.,0.,0.,1.])),\n",
    "    \"A\":lambda theta: t.matmul(theta, t.tensor([1.,1.,0.,0.])),\n",
    "    \"B\":lambda theta: t.matmul(theta, t.tensor([1.,0.,1.,0.])),\n",
    "    \"notA\":lambda theta: t.matmul(theta, t.tensor([0.,0.,1.,1.])),\n",
    "    \"notB\":lambda theta: t.matmul(theta, t.tensor([0.,1.,0.,1.])),\n",
    "    \"AorB\":lambda theta: t.matmul(theta, t.tensor([1.,1.,1.,0.])),\n",
    "    \"AornotB\":lambda theta: t.matmul(theta, t.tensor([1.,1.,0.,1.])),\n",
    "    \"notAorB\":lambda theta: t.matmul(theta, t.tensor([0.,1.,1.,1.])),\n",
    "    \"notAornotB\":lambda theta: t.matmul(theta, t.tensor([0.,1.,0.,1.])),\n",
    "    \n",
    "    \"AgB\": lambda theta: t.div( t.matmul(theta, t.tensor([1.,0.,0.,0.])), t.matmul(theta, t.tensor([1.,0.,1.,0.])) ),\n",
    "    \"notAgB\": lambda theta: t.div( t.matmul(theta, t.tensor([0.,0.,1.,0.])), t.matmul(theta, t.tensor([1.,0.,1.,0.])) ),\n",
    "    \"AgnotB\": lambda theta: t.div( t.matmul(theta, t.tensor([0.,1.,0.,0.])), t.matmul(theta, t.tensor([0.,1.,0.,1.])) ),\n",
    "    \"notAgnotB\": lambda theta: t.div( t.matmul(theta, t.tensor([0.,0.,0.,1.])), t.matmul(theta, t.tensor([0.,1.,0.,1.])) ),\n",
    "    \"BgA\": lambda theta: t.div( t.matmul(theta, t.tensor([1.,0.,0.,0.])), t.matmul(theta, t.tensor([1.,1.,0.,0.])) ),\n",
    "    \"notBgA\": lambda theta: t.div( t.matmul(theta, t.tensor([0.,1.,0.,0.])), t.matmul(theta, t.tensor([1.,1.,0.,0.])) ),\n",
    "    \"BgnotA\": lambda theta: t.div( t.matmul(theta, t.tensor([0.,0.,1.,0.])), t.matmul(theta, t.tensor([0.,0.,1.,1.])) ),\n",
    "    \"notBgnotA\": lambda theta: t.div( t.matmul(theta, t.tensor([0.,0.,0.,1.])), t.matmul(theta, t.tensor([0.,0.,1.,1.])) )\n",
    "})\n",
    "\n",
    "for _ in trial_funcs.keys():\n",
    "    print(trial_funcs[_](t.tensor(dist.Dirichlet(t.ones(6,4)).sample())))\n",
    "    \n"
   ]
  },
  {
   "cell_type": "code",
   "execution_count": 1129,
   "id": "affected-elevation",
   "metadata": {},
   "outputs": [
    {
     "name": "stderr",
     "output_type": "stream",
     "text": [
      "/usr/local/lib/python3.6/dist-packages/ipykernel_launcher.py:14: UserWarning: To copy construct from a tensor, it is recommended to use sourceTensor.clone().detach() or sourceTensor.clone().detach().requires_grad_(True), rather than torch.tensor(sourceTensor).\n",
      "  \n"
     ]
    },
    {
     "data": {
      "text/plain": [
       "tensor([0.2828, 0.2828, 0.7466, 0.7466, 0.4538, 0.4538])"
      ]
     },
     "execution_count": 1129,
     "metadata": {},
     "output_type": "execute_result"
    }
   ],
   "source": [
    "simulated_blocks = 2\n",
    "simulated_Ps = 3\n",
    "trials = list(df[\"querytype\"])*simulated_blocks*simulated_Ps\n",
    "\n",
    "sim_obs = t.ones(0)\n",
    "\n",
    "rng = np.random.default_rng()\n",
    "# latent_probs = [rng.dirichlet(np.ones([4])) for _ in range(0, simulated_Ps)]\n",
    "latent_probs = t.tensor([[.5,.1,.2,.2], [.2,.5,.1,.2], [.7, .1, .1, .1]])\n",
    "\n",
    "for i in range(0, simulated_Ps):\n",
    "    temp = list(df[\"querytype\"])*simulated_blocks\n",
    "#     sim_probs = dm_probs(temp, t.tensor([.5,.1,.2,.2]), len(temp))\n",
    "    sim_probs = dm_probs(temp, t.tensor(latent_probs[i]), len(temp))\n",
    "    sim_obs = t.cat( (sim_obs ,their_sim_sampling(sim_probs, 1., 10., 100.)) )\n",
    "    \n",
    "test_data = sort_trials(trials, sim_obs)\n",
    "test_info = {\"n_Ps\":simulated_Ps, \"n_blocks\":simulated_blocks}\n",
    "\n",
    "def bsampler_multi2(data, info):\n",
    "\n",
    "    n_obs = len(data[\"A\"])\n",
    "    n_total_obs = len(data.keys())*n_obs\n",
    "    n_Ps = info[\"n_Ps\"]\n",
    "    n_blocks = info[\"n_blocks\"]\n",
    "\n",
    "    # population level parameters/priors\n",
    "    beta = pyro.sample(\"beta\", dist.HalfCauchy(.25))\n",
    "    N = pyro.sample(\"N\", dist.HalfCauchy(5))\n",
    "    k = pyro.sample(\"k\", dist.HalfCauchy(5)) ## noise, all causes\n",
    "\n",
    "    # need a theta per person/querytype (yes?)    \n",
    "\n",
    "    thetas = [pyro.sample(\"theta_{}\".format(j), dist.Dirichlet(t.ones(4))) for j in range(0,n_Ps)]\n",
    "    theta = t.stack(thetas) # this works, not 100% sure if it's necessary vs just creating a n x 4 dirichlet\n",
    "\n",
    "    for trial in data.keys():\n",
    "        f = trial_funcs[trial]\n",
    "        pi = f(theta).repeat_interleave(n_blocks) # changed from repeat() -- this fixed it!\n",
    "        p_bs = pi * N / (N + 2.*beta) + beta/(N + 2.*beta) \n",
    "        \n",
    "        yhat = pyro.sample(\"yhat_{}\".format(trial), dist.Beta(p_bs*k, (1.-p_bs)*k), obs=data[trial]) # ???\n",
    "    \n",
    "    return pi\n",
    "\n",
    "bsampler_multi2(test_data, test_info)"
   ]
  },
  {
   "cell_type": "code",
   "execution_count": 1130,
   "id": "threaded-louisiana",
   "metadata": {},
   "outputs": [
    {
     "name": "stderr",
     "output_type": "stream",
     "text": [
      "Sample: 100%|██████████| 750/750 [09:00,  1.39it/s, step size=6.11e-02, acc. prob=0.950]\n"
     ]
    }
   ],
   "source": [
    "from pyro.infer.mcmc import NUTS, MCMC\n",
    "\n",
    "pyro.clear_param_store()\n",
    "# conditioned_model = pyro.condition(bsampler, data={\"y_hat\":observations[0]})\n",
    "\n",
    "nuts_kernel = NUTS(bsampler_multi2, adapt_step_size=True)\n",
    "py_mcmc = MCMC(nuts_kernel, num_samples=500, warmup_steps=250)\n",
    "\n",
    "py_mcmc.run(test_data, test_info)\n",
    "# py_mcmc.summary()"
   ]
  },
  {
   "cell_type": "code",
   "execution_count": 1131,
   "id": "surgical-projector",
   "metadata": {},
   "outputs": [
    {
     "name": "stdout",
     "output_type": "stream",
     "text": [
      "\n",
      "                mean       std    median      5.0%     95.0%     n_eff     r_hat\n",
      "      beta      0.68      0.99      0.39      0.02      1.52    274.76      1.00\n",
      "         N      5.42      8.19      3.28      0.14     12.23    287.81      1.00\n",
      "         k    140.16     17.61    139.19    108.37    165.23    600.16      1.00\n",
      "theta_0[0]      0.50      0.02      0.50      0.47      0.52    507.65      1.00\n",
      "theta_0[1]      0.09      0.01      0.09      0.08      0.10    736.12      1.00\n",
      "theta_0[2]      0.21      0.01      0.21      0.20      0.23    729.05      1.00\n",
      "theta_0[3]      0.20      0.01      0.20      0.18      0.21    801.18      1.00\n",
      "theta_1[0]      0.20      0.01      0.20      0.18      0.21    479.13      1.00\n",
      "theta_1[1]      0.51      0.02      0.51      0.49      0.54    511.70      1.00\n",
      "theta_1[2]      0.10      0.01      0.10      0.09      0.11    577.51      1.00\n",
      "theta_1[3]      0.18      0.01      0.18      0.17      0.20    757.53      1.00\n",
      "theta_2[0]      0.70      0.02      0.70      0.67      0.73    427.28      1.00\n",
      "theta_2[1]      0.10      0.01      0.10      0.09      0.11    507.62      1.00\n",
      "theta_2[2]      0.10      0.01      0.10      0.08      0.11    477.00      1.00\n",
      "theta_2[3]      0.10      0.01      0.10      0.08      0.11    451.34      1.00\n",
      "\n",
      "Number of divergences: 0\n"
     ]
    }
   ],
   "source": [
    "py_mcmc.summary()"
   ]
  },
  {
   "cell_type": "markdown",
   "id": "acceptable-bargain",
   "metadata": {},
   "source": [
    "2021-03-18 - interestingly this does work for multiple participants each with one block. So it's some confusion of the dimensions most likely that is causing my problems with multiple blocks."
   ]
  },
  {
   "cell_type": "code",
   "execution_count": 577,
   "id": "charged-commercial",
   "metadata": {},
   "outputs": [
    {
     "data": {
      "text/plain": [
       "<AxesSubplot:ylabel='Count'>"
      ]
     },
     "execution_count": 577,
     "metadata": {},
     "output_type": "execute_result"
    },
    {
     "data": {
      "image/png": "[encoded data removed]",
      "text/plain": [
       "<Figure size 432x288 with 1 Axes>"
      ]
     },
     "metadata": {
      "needs_background": "light"
     },
     "output_type": "display_data"
    }
   ],
   "source": [
    "# maybe I should make this more functional/composed -- doesn't seem to be helping, making it worse possibly\n",
    "\n",
    "def mental_model(query, theta):\n",
    "    # query is a tensor for the matmul.\n",
    "    # can I make this more flexible/truly vectorizable?\n",
    "    p = t.matmul(theta, query)    \n",
    "    return p\n",
    "\n",
    "def bsampler(p, beta, N):\n",
    "    \n",
    "    pi = pyro.sample(\"pi\", dist.Beta(p*N, p*N)) # generate samples (could be in mental model)\n",
    "#     successes = pyro.sample(\"successes\", dist.Binomial(p)) # this is what you actually want but it would add a discrete latent\n",
    "#     failures = N - successes\n",
    "    \n",
    "    successes = pi*N\n",
    "    failures = (1-pi)*N\n",
    "\n",
    "    # this is where we diverge: they say it's the expectation that is returned, not a sample from the distribution.\n",
    "    # that's a pretty substantive disagreement. \n",
    "    y_hat = pyro.sample(\"y_hat\", dist.Beta(beta + successes, beta + failures)) \n",
    "    \n",
    "    return y_hat\n",
    "\n",
    "def model(query):\n",
    "    theta = pyro.sample(\"theta\", dist.Dirichlet(t.ones(4)))\n",
    "    \n",
    "    beta = pyro.sample(\"beta\", dist.HalfCauchy(1))\n",
    "    N = pyro.sample(\"N\", dist.HalfCauchy(5))\n",
    "    \n",
    "    pi = mental_model(query, theta)\n",
    "    \n",
    "    return bsampler(pi, beta, N)\n",
    "\n",
    "\n",
    "sns.histplot(np.array([model(t.tensor([1.,0.,0.,0.])) for _ in range(2000)]))"
   ]
  },
  {
   "cell_type": "code",
   "execution_count": null,
   "id": "unnecessary-gilbert",
   "metadata": {},
   "outputs": [],
   "source": [
    "# ok just to prove to myself that the mental model is affecting theta, it is!\n",
    "\n",
    "def mental_model(query=None):\n",
    "    \n",
    "    # query is a tensor for the matmul.\n",
    "    # can I make this more flexible/truly vectorizable?\n",
    "    theta = pyro.sample(\"theta\", dist.Dirichlet(t.ones(4)))\n",
    "    \n",
    "    query1 = t.tensor([1.,1.,0.,0.])\n",
    "    p1 = t.matmul(theta, query1)\n",
    "    pyro.sample(\"Z1\", dist.Normal(p1, .01), obs=t.tensor(.8))\n",
    "    \n",
    "    query2 = t.tensor([0.,0.,1.,1.])\n",
    "    p2 = t.matmul(theta, query2)\n",
    "    pyro.sample(\"Z2\", dist.Normal(p2, .01), obs=t.tensor(.1))\n",
    "    \n",
    "    return theta\n",
    "\n",
    "IM = pyro.infer.Importance(mental_model, num_samples=3_000)\n",
    "marginal = EmpiricalMarginal(IM.run())\n",
    "\n"
   ]
  },
  {
   "cell_type": "code",
   "execution_count": 562,
   "id": "environmental-timing",
   "metadata": {},
   "outputs": [
    {
     "name": "stderr",
     "output_type": "stream",
     "text": [
      "/usr/local/lib/python3.6/dist-packages/seaborn/_decorators.py:43: FutureWarning: Pass the following variable as a keyword arg: y. From version 0.12, the only valid positional argument will be `data`, and passing other arguments without an explicit keyword will result in an error or misinterpretation.\n",
      "  FutureWarning\n"
     ]
    },
    {
     "data": {
      "text/plain": [
       "<AxesSubplot:>"
      ]
     },
     "execution_count": 562,
     "metadata": {},
     "output_type": "execute_result"
    },
    {
     "data": {
      "image/png": "[encoded data removed]",
      "text/plain": [
       "<Figure size 432x288 with 1 Axes>"
      ]
     },
     "metadata": {
      "needs_background": "light"
     },
     "output_type": "display_data"
    }
   ],
   "source": [
    "x = [marginal.sample() for _ in range(1000)]\n",
    "sns.kdeplot(np.array([i[0] for i in x]), np.array([i[2] for i in x]),fill=True, thresh=0, levels=100, cmap=\"mako\")"
   ]
  },
  {
   "cell_type": "code",
   "execution_count": null,
   "id": "specified-kingston",
   "metadata": {},
   "outputs": [],
   "source": []
  },
  {
   "cell_type": "code",
   "execution_count": 939,
   "id": "alone-explorer",
   "metadata": {},
   "outputs": [
    {
     "data": {
      "text/plain": [
       "tensor([0.2776, 0.2118, 0.3872, 0.3186, 0.2376, 0.3574, 0.3289, 0.4007, 0.3160,\n",
       "        0.3582])"
      ]
     },
     "execution_count": 939,
     "metadata": {},
     "output_type": "execute_result"
    }
   ],
   "source": [
    "## old verisons\n",
    "\n",
    "# this works for one P\n",
    "# def bsampler_multi2(data, info):\n",
    "\n",
    "#     n_obs = len(data[\"A\"])\n",
    "#     n_total_obs = len(data.keys())*n_obs\n",
    "#     n_Ps = info[\"n_Ps\"]\n",
    "#     n_blocks = info[\"n_blocks\"]\n",
    "\n",
    "#     # population level parameters/priors\n",
    "#     beta = pyro.sample(\"beta\", dist.HalfCauchy(.25))\n",
    "#     N = pyro.sample(\"N\", dist.HalfCauchy(5))\n",
    "#     k = pyro.sample(\"k\", dist.HalfCauchy(5)) ## noise, all causes\n",
    "\n",
    "#     # need a theta per person/querytype (yes?)    \n",
    "\n",
    "# #     thetas = [pyro.sample(\"theta_{}\".format(j), dist.Dirichlet(t.ones(4))) for j in range(0,n_Ps)]\n",
    "# #     theta = t.stack(thetas) #     # this also didn't work\n",
    "\n",
    "#     theta = pyro.sample(\"theta\", dist.Dirichlet(t.ones(n_blocks, 4))) # change this to n_blocks\n",
    "\n",
    "#     for trial in data.keys():\n",
    "#         # ok so this is broken, result is the wrong size \n",
    "# #         f = t.vmap(trial_func[trial]) # maybe this isn't working?\n",
    "#         f = trial_funcs[trial]\n",
    "#         pi = f(theta) # now this is the wrong dim, should be n_blocks\n",
    "#         p_bs = pi * N / (N + 2.*beta) + beta/(N + 2.*beta) # this is the wrong dim \n",
    "        \n",
    "#         yhat = pyro.sample(\"yhat_{}\".format(trial), dist.Beta(p_bs*k, (1.-p_bs)*k), obs=data[trial]) # ???\n",
    "# #         yhat = pyro.sample(\"yhat_{}\".format(trial), dist.Beta(p_bs*k, (1.-p_bs)*k)) # ???\n",
    "    \n",
    "#     return pi\n",
    "\n",
    "# def bsampler_multi2(data, info):\n",
    "\n",
    "#     n_obs = len(data[\"A\"])\n",
    "#     n_total_obs = len(data.keys())*n_obs\n",
    "#     n_Ps = info[\"n_Ps\"]\n",
    "#     n_blocks = info[\"n_blocks\"]\n",
    "\n",
    "#     # population level parameters/priors\n",
    "#     beta = pyro.sample(\"beta\", dist.HalfCauchy(.25))\n",
    "#     N = pyro.sample(\"N\", dist.HalfCauchy(5))\n",
    "#     k = pyro.sample(\"k\", dist.HalfCauchy(5)) ## noise, all causes\n",
    "\n",
    "#     # need a theta per person/querytype (yes?)    \n",
    "\n",
    "# #     thetas = [pyro.sample(\"theta_{}\".format(j), dist.Dirichlet(t.ones(4))) for j in range(0,n_Ps)]\n",
    "# #     theta = t.stack(thetas) #     # this also didn't work\n",
    "\n",
    "#     theta = pyro.sample(\"theta\", dist.Dirichlet(t.ones(n_Ps, 4))) # change this to n_blocks\n",
    "\n",
    "#     for trial in data.keys():\n",
    "#         # ok so this is broken, result is the wrong size \n",
    "#         f = t.vmap(trial_func[trial]) # maybe this isn't working?\n",
    "# #         f = trial_funcs[trial]\n",
    "#         pi = f(theta) # now this is the wrong dim, should be n_blocks\n",
    "#         p_bs = pi.repeat(n_blocks) * N / (N + 2.*beta) + beta/(N + 2.*beta) # this is the wrong dim \n",
    "        \n",
    "#         yhat = pyro.sample(\"yhat_{}\".format(trial), dist.Beta(p_bs*k, (1.-p_bs)*k), obs=data[trial]) # ???\n",
    "# #         yhat = pyro.sample(\"yhat_{}\".format(trial), dist.Beta(p_bs*k, (1.-p_bs)*k)) # ???\n",
    "    \n",
    "#     return yhat\n",
    "\n",
    "\n",
    "def bsampler_multi2(data, info):\n",
    "\n",
    "    n_obs = len(data[\"A\"])\n",
    "    n_total_obs = len(data.keys())*n_obs\n",
    "    n_Ps = info[\"n_Ps\"]\n",
    "    n_blocks = info[\"n_blocks\"]\n",
    "\n",
    "    # population level parameters/priors\n",
    "    beta = pyro.sample(\"beta\", dist.HalfCauchy(.25))\n",
    "    N = pyro.sample(\"N\", dist.HalfCauchy(5))\n",
    "    k = pyro.sample(\"k\", dist.HalfCauchy(5)) ## noise, all causes\n",
    "    \n",
    "    # fuck it write it as a for-loop\n",
    "    for trial in data.keys():\n",
    "        f = trial_funcs[trial]\n",
    "        for subj in range(0,n_Ps):\n",
    "            theta = pyro.sample(\"theta_{}\".format(subj), dist.Dirichlet(t.ones(4)))\n",
    "            pi = f(theta).repeat(n_blocks)\n",
    "            p_bs = pi * N / (N + 2.*beta) + beta/(N + 2.*beta) # this is the wrong dim \n",
    "        \n",
    "            yhat = pyro.sample(\"yhat_{}\".format(trial), dist.Beta(p_bs*k, (1.-p_bs)*k), obs=data[trial])\n",
    "    \n",
    "    return yhat\n",
    "\n",
    "bsampler_multi2(test_data, test_info)"
   ]
  },
  {
   "cell_type": "code",
   "execution_count": null,
   "id": "sitting-blast",
   "metadata": {},
   "outputs": [],
   "source": []
  }
 ],
 "metadata": {
  "kernelspec": {
   "display_name": "Python 3",
   "language": "python",
   "name": "python3"
  },
  "language_info": {
   "codemirror_mode": {
    "name": "ipython",
    "version": 3
   },
   "file_extension": ".py",
   "mimetype": "text/x-python",
   "name": "python",
   "nbconvert_exporter": "python",
   "pygments_lexer": "ipython3",
   "version": "3.6.9"
  }
 },
 "nbformat": 4,
 "nbformat_minor": 5
}
